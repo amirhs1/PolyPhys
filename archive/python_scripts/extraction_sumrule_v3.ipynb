{
 "cells": [
  {
   "cell_type": "code",
   "execution_count": 1,
   "metadata": {
    "colab": {},
    "colab_type": "code",
    "id": "C_CLXSgvVO_9"
   },
   "outputs": [],
   "source": [
    "%matplotlib inline\n",
    "# Importing necessary packages:\n",
    "\n",
    "import re\n",
    "import os\n",
    "from glob import glob\n",
    "\n",
    "import math\n",
    "import numpy as np\n",
    "import datetime\n",
    "import pandas as pd\n",
    "\n",
    "import matplotlib.pyplot as plt\n",
    "\n",
    "import scipy.integrate as integrate\n",
    "import scipy.special as special\n",
    "\n",
    "from sympy import elliptic_pi\n",
    "\n",
    "import MDAnalysis as mda \n",
    "from MDAnalysis.coordinates.LAMMPS import DumpReader\n",
    "from MDAnalysis import transformations as mdatransform\n",
    "from MDAnalysis.analysis import diffusionmap, align, rms\n",
    "\n",
    "\n",
    "from PipeLine import *"
   ]
  },
  {
   "cell_type": "code",
   "execution_count": 2,
   "metadata": {},
   "outputs": [
    {
     "name": "stdout",
     "output_type": "stream",
     "text": [
      "Total number of files is  1\n",
      "Path to the first pair of the sorted file:  ('../test/N1000epsilon5.0r8.0lz308.5sig1.0nc20824dt0.005bdump1000adump5000ens1.bug.lammpstrj', '../test/N1000epsilon5.0r8.0lz308.5sig1.0nc20824dt0.005bdump1000adump5000ens1.bug.data')\n"
     ]
    }
   ],
   "source": [
    "fnames = glob(\"../test/N1000*.bug.*\")\n",
    "fnames = PipeLine.file_reader(fnames)"
   ]
  },
  {
   "cell_type": "code",
   "execution_count": null,
   "metadata": {},
   "outputs": [],
   "source": [
    "%%time\n",
    "geom = 'cylinder'\n",
    "PipeLine.extract_trj_bug(fnames[0], geom)"
   ]
  },
  {
   "cell_type": "code",
   "execution_count": 3,
   "metadata": {},
   "outputs": [],
   "source": [
    "def extract_all_trj(all_data, all_trj, geom, resid = 0, lastname='Crd'):\n",
    "    \"\"\"\n",
    "    The function does all the analysis on the a whole trajectory (simulation),\n",
    "\n",
    "    Parameters:\n",
    "    fname (string): the name of trajectory or simulation.\n",
    "    geom (string): the name of the geometry of the simulation box.\n",
    "\n",
    "    Requirements:\n",
    "    All the above-defined fucntions and classes, MDAnalysis.\n",
    "    \n",
    "    Caution:\n",
    "    The histograms are for the cylindrical coordinate system in the geom=cylinder.\n",
    "    For other goemteries you need to redfined them.\n",
    "    \"\"\"\n",
    "    if geom == 'cylinder':\n",
    "        print(\"Setting the name of analyze file...\\n\")\n",
    "        today = datetime.date.today().strftime('%Y%m%d')\n",
    "        cellAttrs = cellAttributes(all_trj,geometry=geom, splitter='lammpstrj')\n",
    "        ensFname = cellAttrs.filename\n",
    "        \n",
    "        print(\"\")\n",
    "        print(ensFname+\" is analyzing...\")\n",
    "        print(\"\")\n",
    "        \n",
    "        TIME_UNIT = 1.0 # time unit = dmon * sqrt(mmon * epmon)\n",
    "        LJ_NSTEP = cellAttrs.bdump # Sampling steps via dump command in Lammps\n",
    "        LJ_DT = cellAttrs.dt # Timestep during the sampling process in Lammps\n",
    "        SAMPLE_DT = LJ_NSTEP * LJ_DT * TIME_UNIT\n",
    "\n",
    "        cell = mda.Universe(all_data, all_trj, format = 'AMIRLAMMPSDUMP', atom_style = \"id resid type x y z\", dt = SAMPLE_DT)\n",
    "        crowds = cell.select_atoms('resid '+str(resid)) # resid 1 is the atoms creating the chain, resid 0 is crowders\n",
    "\n",
    "        \n",
    "        print (\"Caution:The histograms are for the cylindrical coordinate system in the geom=cylinder. For other goemteries you need to redfined them.\")\n",
    "        # Monomer local (number) density: \n",
    "        # radial direction of the cylindrical coordinate system\n",
    "        edge_fname = 'rEdges'+lastname\n",
    "        #bin_size = cellAttrs.dcrowd / 2.\n",
    "        bin_size = 0.1\n",
    "        lmax = cellAttrs.dcyl / 2.\n",
    "        redges, rhist_collectors = bin_ceate(ensFname, bin_size, 0.0, lmax, edge_fname)\n",
    "\n",
    "        # z direction of the cylindrical coordinate system\n",
    "        edge_fname = 'zEdges'+lastname\n",
    "        #bin_size = cellAttrs.dcrowd / 2.\n",
    "        bin_size = 0.2\n",
    "        lmax = cellAttrs.lcyl / 2.\n",
    "        zedges, zhist_collectors = bin_ceate(ensFname, bin_size, -1.0 * lmax, lmax, edge_fname)\n",
    "\n",
    "        # theta of the cylindrical coordinate system\n",
    "        edge_fname = 'thetaEdges'+lastname\n",
    "        bin_size = np.degrees(np.pi/24) # in degrees\n",
    "        thetaedges, thetahist_collectors = bin_ceate(ensFname, bin_size, -1*np.degrees(np.pi), np.degrees(np.pi)-bin_size, edge_fname)\n",
    "        \n",
    "        if rhist_collectors.any() != 0:\n",
    "            raise Exception(\"The histogram collectors are not empty!\")\n",
    "        if zhist_collectors.any() != 0:\n",
    "            raise Exception(\"The histogram collectors are not empty!\")\n",
    "        if thetahist_collectors.any() != 0:\n",
    "            raise Exception(\"The histogram collectors are not empty!\")\n",
    "        \n",
    "        for ts in cell.trajectory: # the length of the for loop is equal to number of snapshots (configurations or frames)\n",
    "            #number density in the cell's frame of reference\n",
    "            # histogram in r direction\n",
    "            rcrowder = np.linalg.norm(crowds.positions[:,:2], axis = 1) # r component of position of each monomer\n",
    "            dummy_hist, _ = np.histogram(rcrowder, redges)\n",
    "            rhist_collectors = np.add(rhist_collectors, dummy_hist)\n",
    "\n",
    "            # histogram in z direction\n",
    "            zcrowder = crowds.positions[:,2] # z component of position of each monomer\n",
    "            dummy_hist, _ = np.histogram(zcrowder, zedges)\n",
    "            zhist_collectors = np.add(zhist_collectors, dummy_hist)\n",
    "\n",
    "            # histogram in theta \n",
    "            theta = np.degrees(np.arctan2(crowds.positions[:,1], crowds.positions[:,0])) # in degrees\n",
    "            dummy_hist, _ = np.histogram(theta, thetaedges)\n",
    "            thetahist_collectors = np.add(thetahist_collectors, dummy_hist)\n",
    "\n",
    "        np.savetxt(ensFname+'_rHists'+lastname+'.csv', rhist_collectors, delimiter = ',')\n",
    "        np.savetxt(ensFname+'_zHists'+lastname+'.csv', zhist_collectors, delimiter = ',')\n",
    "        np.savetxt(ensFname+'_thetaHists'+lastname+'.csv', thetahist_collectors, delimiter = ',')\n",
    "        \n",
    "        print('done.')\n",
    "    \n",
    "    else :\n",
    "        raise ValueError(\"For other geomteries, the function has not written yet.\")"
   ]
  },
  {
   "cell_type": "code",
   "execution_count": 6,
   "metadata": {},
   "outputs": [
    {
     "name": "stdout",
     "output_type": "stream",
     "text": [
      "Setting the name of analyze file...\n",
      "\n",
      "This is an ensemble-averaged file, so ensemble number: 0\n",
      "This is NOT an ALL file, so segnum: 0\n",
      "\n",
      "N1000epsilon5.0r8.0lz308.5sig1.0nc20824dt0.005bdump1000adump5000ens1.bug is analyzing...\n",
      "\n",
      "Caution:The histograms are for the cylindrical coordinate system in the geom=cylinder. For other goemteries you need to redfined them.\n"
     ]
    },
    {
     "ename": "KeyboardInterrupt",
     "evalue": "",
     "output_type": "error",
     "traceback": [
      "\u001b[0;31m---------------------------------------------------------------------------\u001b[0m",
      "\u001b[0;31mKeyboardInterrupt\u001b[0m                         Traceback (most recent call last)",
      "\u001b[0;32m<ipython-input-6-e36d27425b04>\u001b[0m in \u001b[0;36m<module>\u001b[0;34m\u001b[0m\n\u001b[1;32m      1\u001b[0m \u001b[0mgeom\u001b[0m \u001b[0;34m=\u001b[0m \u001b[0;34m'cylinder'\u001b[0m\u001b[0;34m\u001b[0m\u001b[0;34m\u001b[0m\u001b[0m\n\u001b[0;32m----> 2\u001b[0;31m \u001b[0mPipeLine\u001b[0m\u001b[0;34m.\u001b[0m\u001b[0mextract_all_trj\u001b[0m\u001b[0;34m(\u001b[0m\u001b[0mfnames\u001b[0m\u001b[0;34m[\u001b[0m\u001b[0;36m0\u001b[0m\u001b[0;34m]\u001b[0m\u001b[0;34m[\u001b[0m\u001b[0;36m1\u001b[0m\u001b[0;34m]\u001b[0m\u001b[0;34m,\u001b[0m\u001b[0mfnames\u001b[0m\u001b[0;34m[\u001b[0m\u001b[0;36m0\u001b[0m\u001b[0;34m]\u001b[0m\u001b[0;34m[\u001b[0m\u001b[0;36m0\u001b[0m\u001b[0;34m]\u001b[0m\u001b[0;34m,\u001b[0m \u001b[0mgeom\u001b[0m\u001b[0;34m,\u001b[0m \u001b[0mresid\u001b[0m \u001b[0;34m=\u001b[0m \u001b[0;36m1\u001b[0m\u001b[0;34m,\u001b[0m \u001b[0mlastname\u001b[0m\u001b[0;34m=\u001b[0m\u001b[0;34m'Mon'\u001b[0m\u001b[0;34m)\u001b[0m\u001b[0;34m\u001b[0m\u001b[0;34m\u001b[0m\u001b[0m\n\u001b[0m",
      "\u001b[0;32m~/OneDrive - University of Waterloo/Thesis-PhD/Jupyter/sumrule_pipeline/PipeLine/PipeLine.py\u001b[0m in \u001b[0;36mextract_all_trj\u001b[0;34m(all_data, all_trj, geom, resid, lastname)\u001b[0m\n\u001b[1;32m   1284\u001b[0m             \u001b[0;31m# histogram in z direction\u001b[0m\u001b[0;34m\u001b[0m\u001b[0;34m\u001b[0m\u001b[0;34m\u001b[0m\u001b[0m\n\u001b[1;32m   1285\u001b[0m             \u001b[0mzcrowder\u001b[0m \u001b[0;34m=\u001b[0m \u001b[0mcrowds\u001b[0m\u001b[0;34m.\u001b[0m\u001b[0mpositions\u001b[0m\u001b[0;34m[\u001b[0m\u001b[0;34m:\u001b[0m\u001b[0;34m,\u001b[0m\u001b[0;36m2\u001b[0m\u001b[0;34m]\u001b[0m \u001b[0;31m# z component of position of each monomer\u001b[0m\u001b[0;34m\u001b[0m\u001b[0;34m\u001b[0m\u001b[0m\n\u001b[0;32m-> 1286\u001b[0;31m             \u001b[0mdummy_hist\u001b[0m\u001b[0;34m,\u001b[0m \u001b[0m_\u001b[0m \u001b[0;34m=\u001b[0m \u001b[0mnp\u001b[0m\u001b[0;34m.\u001b[0m\u001b[0mhistogram\u001b[0m\u001b[0;34m(\u001b[0m\u001b[0mzcrowder\u001b[0m\u001b[0;34m,\u001b[0m \u001b[0mzedges\u001b[0m\u001b[0;34m)\u001b[0m\u001b[0;34m\u001b[0m\u001b[0;34m\u001b[0m\u001b[0m\n\u001b[0m\u001b[1;32m   1287\u001b[0m             \u001b[0mzhist_collectors\u001b[0m \u001b[0;34m=\u001b[0m \u001b[0mnp\u001b[0m\u001b[0;34m.\u001b[0m\u001b[0madd\u001b[0m\u001b[0;34m(\u001b[0m\u001b[0mzhist_collectors\u001b[0m\u001b[0;34m,\u001b[0m \u001b[0mdummy_hist\u001b[0m\u001b[0;34m)\u001b[0m\u001b[0;34m\u001b[0m\u001b[0;34m\u001b[0m\u001b[0m\n\u001b[1;32m   1288\u001b[0m \u001b[0;34m\u001b[0m\u001b[0m\n",
      "\u001b[0;32m<__array_function__ internals>\u001b[0m in \u001b[0;36mhistogram\u001b[0;34m(*args, **kwargs)\u001b[0m\n",
      "\u001b[0;32m~/anaconda3/envs/daskEnv/lib/python3.8/site-packages/numpy/lib/histograms.py\u001b[0m in \u001b[0;36mhistogram\u001b[0;34m(a, bins, range, normed, weights, density)\u001b[0m\n\u001b[1;32m    875\u001b[0m         \u001b[0;32mif\u001b[0m \u001b[0mweights\u001b[0m \u001b[0;32mis\u001b[0m \u001b[0;32mNone\u001b[0m\u001b[0;34m:\u001b[0m\u001b[0;34m\u001b[0m\u001b[0;34m\u001b[0m\u001b[0m\n\u001b[1;32m    876\u001b[0m             \u001b[0;32mfor\u001b[0m \u001b[0mi\u001b[0m \u001b[0;32min\u001b[0m \u001b[0m_range\u001b[0m\u001b[0;34m(\u001b[0m\u001b[0;36m0\u001b[0m\u001b[0;34m,\u001b[0m \u001b[0mlen\u001b[0m\u001b[0;34m(\u001b[0m\u001b[0ma\u001b[0m\u001b[0;34m)\u001b[0m\u001b[0;34m,\u001b[0m \u001b[0mBLOCK\u001b[0m\u001b[0;34m)\u001b[0m\u001b[0;34m:\u001b[0m\u001b[0;34m\u001b[0m\u001b[0;34m\u001b[0m\u001b[0m\n\u001b[0;32m--> 877\u001b[0;31m                 \u001b[0msa\u001b[0m \u001b[0;34m=\u001b[0m \u001b[0mnp\u001b[0m\u001b[0;34m.\u001b[0m\u001b[0msort\u001b[0m\u001b[0;34m(\u001b[0m\u001b[0ma\u001b[0m\u001b[0;34m[\u001b[0m\u001b[0mi\u001b[0m\u001b[0;34m:\u001b[0m\u001b[0mi\u001b[0m\u001b[0;34m+\u001b[0m\u001b[0mBLOCK\u001b[0m\u001b[0;34m]\u001b[0m\u001b[0;34m)\u001b[0m\u001b[0;34m\u001b[0m\u001b[0;34m\u001b[0m\u001b[0m\n\u001b[0m\u001b[1;32m    878\u001b[0m                 \u001b[0mcum_n\u001b[0m \u001b[0;34m+=\u001b[0m \u001b[0m_search_sorted_inclusive\u001b[0m\u001b[0;34m(\u001b[0m\u001b[0msa\u001b[0m\u001b[0;34m,\u001b[0m \u001b[0mbin_edges\u001b[0m\u001b[0;34m)\u001b[0m\u001b[0;34m\u001b[0m\u001b[0;34m\u001b[0m\u001b[0m\n\u001b[1;32m    879\u001b[0m         \u001b[0;32melse\u001b[0m\u001b[0;34m:\u001b[0m\u001b[0;34m\u001b[0m\u001b[0;34m\u001b[0m\u001b[0m\n",
      "\u001b[0;32m<__array_function__ internals>\u001b[0m in \u001b[0;36msort\u001b[0;34m(*args, **kwargs)\u001b[0m\n",
      "\u001b[0;32m~/anaconda3/envs/daskEnv/lib/python3.8/site-packages/numpy/core/fromnumeric.py\u001b[0m in \u001b[0;36msort\u001b[0;34m(a, axis, kind, order)\u001b[0m\n\u001b[1;32m    842\u001b[0m \u001b[0;34m\u001b[0m\u001b[0m\n\u001b[1;32m    843\u001b[0m \u001b[0;34m\u001b[0m\u001b[0m\n\u001b[0;32m--> 844\u001b[0;31m \u001b[0;34m@\u001b[0m\u001b[0marray_function_dispatch\u001b[0m\u001b[0;34m(\u001b[0m\u001b[0m_sort_dispatcher\u001b[0m\u001b[0;34m)\u001b[0m\u001b[0;34m\u001b[0m\u001b[0;34m\u001b[0m\u001b[0m\n\u001b[0m\u001b[1;32m    845\u001b[0m \u001b[0;32mdef\u001b[0m \u001b[0msort\u001b[0m\u001b[0;34m(\u001b[0m\u001b[0ma\u001b[0m\u001b[0;34m,\u001b[0m \u001b[0maxis\u001b[0m\u001b[0;34m=\u001b[0m\u001b[0;34m-\u001b[0m\u001b[0;36m1\u001b[0m\u001b[0;34m,\u001b[0m \u001b[0mkind\u001b[0m\u001b[0;34m=\u001b[0m\u001b[0;32mNone\u001b[0m\u001b[0;34m,\u001b[0m \u001b[0morder\u001b[0m\u001b[0;34m=\u001b[0m\u001b[0;32mNone\u001b[0m\u001b[0;34m)\u001b[0m\u001b[0;34m:\u001b[0m\u001b[0;34m\u001b[0m\u001b[0;34m\u001b[0m\u001b[0m\n\u001b[1;32m    846\u001b[0m     \"\"\"\n",
      "\u001b[0;31mKeyboardInterrupt\u001b[0m: "
     ]
    }
   ],
   "source": [
    "geom = 'cylinder'\n",
    "PipeLine.extract_all_trj(fnames[0][1],fnames[0][0], geom, resid = 1, lastname='Mon')"
   ]
  },
  {
   "cell_type": "code",
   "execution_count": 27,
   "metadata": {},
   "outputs": [
    {
     "name": "stdout",
     "output_type": "stream",
     "text": [
      "Total number of files is  1\n",
      "Path to the first pair of the sorted file:  ('../test/N1000epsilon5.0r8.0lz308.5sig1.0nc20824dt0.005bdump1000adump5000ens1.bug.lammpstrj',)\n",
      "Total number of files is  1\n",
      "Path to the first pair of the sorted file:  ('../test/N2000epsilon5.0r13.0lz431sig2.0nc27780dtbdump1000adump5000ens8.all.data',)\n"
     ]
    }
   ],
   "source": [
    "trj_files = glob(\"../test/N1000epsilon5.0r8.0lz308.5sig1.0nc20824dt0.005bdump1000adump5000ens1.bug.lammpstrj\")\n",
    "all_tuples = PipeLine.file_reader(trj_files,extensions=['.lammpstrj'])\n",
    "\n",
    "data_file = glob(\"../test/N2000epsilon5.0r13.0lz431sig2.0nc27780dtbdump1000adump5000ens8.all.data\")\n",
    "all_data = PipeLine.file_reader(data_file,extensions=['all.data'])"
   ]
  },
  {
   "cell_type": "code",
   "execution_count": 33,
   "metadata": {},
   "outputs": [
    {
     "data": {
      "text/plain": [
       "'../test/N2000epsilon5.0r13.0lz431sig2.0nc27780dtbdump1000adump5000ens8.all.data'"
      ]
     },
     "execution_count": 33,
     "metadata": {},
     "output_type": "execute_result"
    }
   ],
   "source": [
    "all_data[0][0]"
   ]
  },
  {
   "cell_type": "code",
   "execution_count": 40,
   "metadata": {},
   "outputs": [
    {
     "data": {
      "text/plain": [
       "<AtomGroup with 27780 atoms>"
      ]
     },
     "execution_count": 40,
     "metadata": {},
     "output_type": "execute_result"
    }
   ],
   "source": [
    "cell = mda.Universe(all_data[0][0])#,format='LAMMPS')\n",
    "crds = cell.select_atoms('resid 0')\n",
    "crds.atoms"
   ]
  },
  {
   "cell_type": "code",
   "execution_count": 10,
   "metadata": {},
   "outputs": [
    {
     "name": "stdout",
     "output_type": "stream",
     "text": [
      "Setting the name of analyze file...\n",
      "\n",
      "This is an ensemble-averaged file, so ensemble number: 0\n",
      "This is NOT an ALL file, so segnum: 0\n",
      "\n",
      "N1000epsilon5.0r8.0lz308.5sig1.0nc20824dt0.005bdump1000adump5000ens1.bug is analyzing...\n",
      "\n"
     ]
    },
    {
     "ename": "ValueError",
     "evalue": "The topology and AMIRLAMMPSDUMP trajectory files don't have the same number of atoms!\nTopology number of atoms 29780\nTrajectory: ../test/N1000epsilon5.0r8.0lz308.5sig1.0nc20824dt0.005bdump1000adump5000ens1.bug.lammpstrj Number of atoms 1000",
     "output_type": "error",
     "traceback": [
      "\u001b[0;31m---------------------------------------------------------------------------\u001b[0m",
      "\u001b[0;31mValueError\u001b[0m                                Traceback (most recent call last)",
      "\u001b[0;32m<ipython-input-10-a6881fc11136>\u001b[0m in \u001b[0;36m<module>\u001b[0;34m\u001b[0m\n\u001b[1;32m      1\u001b[0m \u001b[0mgeom\u001b[0m \u001b[0;34m=\u001b[0m \u001b[0;34m'cylinder'\u001b[0m\u001b[0;34m\u001b[0m\u001b[0;34m\u001b[0m\u001b[0m\n\u001b[0;32m----> 2\u001b[0;31m \u001b[0mPipeLine\u001b[0m\u001b[0;34m.\u001b[0m\u001b[0mextract_all_trj\u001b[0m\u001b[0;34m(\u001b[0m\u001b[0mdata_file\u001b[0m\u001b[0;34m[\u001b[0m\u001b[0;36m0\u001b[0m\u001b[0;34m]\u001b[0m\u001b[0;34m,\u001b[0m\u001b[0mall_tuples\u001b[0m\u001b[0;34m[\u001b[0m\u001b[0;36m0\u001b[0m\u001b[0;34m]\u001b[0m\u001b[0;34m[\u001b[0m\u001b[0;36m0\u001b[0m\u001b[0;34m]\u001b[0m\u001b[0;34m,\u001b[0m \u001b[0mgeom\u001b[0m\u001b[0;34m,\u001b[0m \u001b[0mresid\u001b[0m \u001b[0;34m=\u001b[0m \u001b[0;36m1\u001b[0m\u001b[0;34m,\u001b[0m \u001b[0mlastname\u001b[0m\u001b[0;34m=\u001b[0m\u001b[0;34m'Mon'\u001b[0m\u001b[0;34m)\u001b[0m\u001b[0;34m\u001b[0m\u001b[0;34m\u001b[0m\u001b[0m\n\u001b[0m",
      "\u001b[0;32m~/OneDrive - University of Waterloo/Thesis-PhD/Jupyter/sumrule_pipeline/PipeLine/PipeLine.py\u001b[0m in \u001b[0;36mextract_all_trj\u001b[0;34m(all_data, all_trj, geom, resid, lastname)\u001b[0m\n\u001b[1;32m   1243\u001b[0m         \u001b[0mSAMPLE_DT\u001b[0m \u001b[0;34m=\u001b[0m \u001b[0mLJ_NSTEP\u001b[0m \u001b[0;34m*\u001b[0m \u001b[0mLJ_DT\u001b[0m \u001b[0;34m*\u001b[0m \u001b[0mTIME_UNIT\u001b[0m\u001b[0;34m\u001b[0m\u001b[0;34m\u001b[0m\u001b[0m\n\u001b[1;32m   1244\u001b[0m \u001b[0;34m\u001b[0m\u001b[0m\n\u001b[0;32m-> 1245\u001b[0;31m         \u001b[0mcell\u001b[0m \u001b[0;34m=\u001b[0m \u001b[0mmda\u001b[0m\u001b[0;34m.\u001b[0m\u001b[0mUniverse\u001b[0m\u001b[0;34m(\u001b[0m\u001b[0mall_data\u001b[0m\u001b[0;34m,\u001b[0m \u001b[0mall_trj\u001b[0m\u001b[0;34m,\u001b[0m \u001b[0mformat\u001b[0m \u001b[0;34m=\u001b[0m \u001b[0;34m'AMIRLAMMPSDUMP'\u001b[0m\u001b[0;34m,\u001b[0m \u001b[0matom_style\u001b[0m \u001b[0;34m=\u001b[0m \u001b[0;34m\"id resid type x y z\"\u001b[0m\u001b[0;34m,\u001b[0m \u001b[0mdt\u001b[0m \u001b[0;34m=\u001b[0m \u001b[0mSAMPLE_DT\u001b[0m\u001b[0;34m)\u001b[0m\u001b[0;34m\u001b[0m\u001b[0;34m\u001b[0m\u001b[0m\n\u001b[0m\u001b[1;32m   1246\u001b[0m         \u001b[0mcrowds\u001b[0m \u001b[0;34m=\u001b[0m \u001b[0mcell\u001b[0m\u001b[0;34m.\u001b[0m\u001b[0mselect_atoms\u001b[0m\u001b[0;34m(\u001b[0m\u001b[0;34m'resid '\u001b[0m\u001b[0;34m+\u001b[0m\u001b[0mstr\u001b[0m\u001b[0;34m(\u001b[0m\u001b[0mresid\u001b[0m\u001b[0;34m)\u001b[0m\u001b[0;34m)\u001b[0m \u001b[0;31m# resid 1 is the atoms creating the chain, resid 0 is crowders\u001b[0m\u001b[0;34m\u001b[0m\u001b[0;34m\u001b[0m\u001b[0m\n\u001b[1;32m   1247\u001b[0m \u001b[0;34m\u001b[0m\u001b[0m\n",
      "\u001b[0;32m~/anaconda3/envs/daskEnv/lib/python3.8/site-packages/MDAnalysis/core/universe.py\u001b[0m in \u001b[0;36m__init__\u001b[0;34m(self, *args, **kwargs)\u001b[0m\n\u001b[1;32m    389\u001b[0m \u001b[0;34m\u001b[0m\u001b[0m\n\u001b[1;32m    390\u001b[0m         \u001b[0;32mif\u001b[0m \u001b[0mcoordinates\u001b[0m\u001b[0;34m:\u001b[0m\u001b[0;34m\u001b[0m\u001b[0;34m\u001b[0m\u001b[0m\n\u001b[0;32m--> 391\u001b[0;31m             self.load_new(coordinates, format=format, in_memory=in_memory,\n\u001b[0m\u001b[1;32m    392\u001b[0m                         in_memory_step=in_memory_step, **kwargs)\n\u001b[1;32m    393\u001b[0m \u001b[0;34m\u001b[0m\u001b[0m\n",
      "\u001b[0;32m~/anaconda3/envs/daskEnv/lib/python3.8/site-packages/MDAnalysis/core/universe.py\u001b[0m in \u001b[0;36mload_new\u001b[0;34m(self, filename, format, in_memory, in_memory_step, **kwargs)\u001b[0m\n\u001b[1;32m    584\u001b[0m         \u001b[0mself\u001b[0m\u001b[0;34m.\u001b[0m\u001b[0mtrajectory\u001b[0m \u001b[0;34m=\u001b[0m \u001b[0mreader\u001b[0m\u001b[0;34m(\u001b[0m\u001b[0mfilename\u001b[0m\u001b[0;34m,\u001b[0m \u001b[0mformat\u001b[0m\u001b[0;34m=\u001b[0m\u001b[0mformat\u001b[0m\u001b[0;34m,\u001b[0m \u001b[0;34m**\u001b[0m\u001b[0mkwargs\u001b[0m\u001b[0;34m)\u001b[0m\u001b[0;34m\u001b[0m\u001b[0;34m\u001b[0m\u001b[0m\n\u001b[1;32m    585\u001b[0m         \u001b[0;32mif\u001b[0m \u001b[0mself\u001b[0m\u001b[0;34m.\u001b[0m\u001b[0mtrajectory\u001b[0m\u001b[0;34m.\u001b[0m\u001b[0mn_atoms\u001b[0m \u001b[0;34m!=\u001b[0m \u001b[0mlen\u001b[0m\u001b[0;34m(\u001b[0m\u001b[0mself\u001b[0m\u001b[0;34m.\u001b[0m\u001b[0matoms\u001b[0m\u001b[0;34m)\u001b[0m\u001b[0;34m:\u001b[0m\u001b[0;34m\u001b[0m\u001b[0;34m\u001b[0m\u001b[0m\n\u001b[0;32m--> 586\u001b[0;31m             raise ValueError(\"The topology and {form} trajectory files don't\"\n\u001b[0m\u001b[1;32m    587\u001b[0m                              \u001b[0;34m\" have the same number of atoms!\\n\"\u001b[0m\u001b[0;34m\u001b[0m\u001b[0;34m\u001b[0m\u001b[0m\n\u001b[1;32m    588\u001b[0m                              \u001b[0;34m\"Topology number of atoms {top_n_atoms}\\n\"\u001b[0m\u001b[0;34m\u001b[0m\u001b[0;34m\u001b[0m\u001b[0m\n",
      "\u001b[0;31mValueError\u001b[0m: The topology and AMIRLAMMPSDUMP trajectory files don't have the same number of atoms!\nTopology number of atoms 29780\nTrajectory: ../test/N1000epsilon5.0r8.0lz308.5sig1.0nc20824dt0.005bdump1000adump5000ens1.bug.lammpstrj Number of atoms 1000"
     ]
    }
   ],
   "source": [
    "geom = 'cylinder'\n",
    "PipeLine.extract_all_trj(data_file[0],all_tuples[0][0], geom, resid = 1, lastname='Mon')"
   ]
  },
  {
   "cell_type": "code",
   "execution_count": null,
   "metadata": {},
   "outputs": [],
   "source": []
  }
 ],
 "metadata": {
  "colab": {
   "name": "pipeline_v4.ipynb",
   "provenance": [],
   "version": "0.3.2"
  },
  "kernelspec": {
   "display_name": "Python 3",
   "language": "python",
   "name": "python3"
  },
  "language_info": {
   "codemirror_mode": {
    "name": "ipython",
    "version": 3
   },
   "file_extension": ".py",
   "mimetype": "text/x-python",
   "name": "python",
   "nbconvert_exporter": "python",
   "pygments_lexer": "ipython3",
   "version": "3.8.2"
  }
 },
 "nbformat": 4,
 "nbformat_minor": 4
}
