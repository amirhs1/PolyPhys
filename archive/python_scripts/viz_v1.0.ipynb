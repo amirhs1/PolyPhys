{
 "cells": [
  {
   "cell_type": "code",
   "execution_count": null,
   "metadata": {
    "colab": {},
    "colab_type": "code",
    "id": "C_CLXSgvVO_9"
   },
   "outputs": [],
   "source": [
    "%matplotlib inline\n",
    "# Importing necessary packages:\n",
    "from glob import glob\n",
    "import pandas as pd\n",
    "import datetime as dt\n",
    "import numpy as np\n",
    "import matplotlib.pyplot as plt\n",
    "import seaborn as sns\n",
    "from PipeLine import *"
   ]
  },
  {
   "cell_type": "code",
   "execution_count": null,
   "metadata": {},
   "outputs": [],
   "source": [
    "csv_files = glob(\"../N*-analyze_bug/N*.csv\")"
   ]
  },
  {
   "cell_type": "code",
   "execution_count": null,
   "metadata": {},
   "outputs": [],
   "source": [
    "geometry = 'cylinder'\n",
    "df_name = 'all_in_one'\n",
    "ext=['-properties.csv']\n",
    "properties_files = PipeLine.file_reader(csv_files,extensions=ext)\n",
    "properties_df = PipeLine.df_of_properties(properties_files, df_name, geometry, to_file=True,index_col=0)\n",
    "properties_df = properties_df.round(4)\n"
   ]
  },
  {
   "cell_type": "code",
   "execution_count": null,
   "metadata": {},
   "outputs": [],
   "source": [
    "def df_of_properties(ensemble_files, ensemble_name, geometry, to_file=True,**kwargs):\n",
    "    \"\"\"\n",
    "    This function computes create a dataframe from the input parameters and equilibrium properties of individual ensembles.\n",
    "    The differentce in ensembles comes from the different in the seed of random number generator used in Lammps velocity and fix langevin commands.\n",
    "    \n",
    "    Input:\n",
    "    ensemble_files: a list of addresses of properties of ensmebles \n",
    "    ensemble_name (str): name of output file.\n",
    "    geomtery (str): shape of the simulation box\n",
    "    to_file (bool): whether save to file or not\n",
    "    \n",
    "    Return:\n",
    "    A dataframe of the input parameters and equilibrium properties of all the ensembles.\n",
    "    \n",
    "    Requirements:\n",
    "    Pandas, my own cellAttributes class\n",
    "    \"\"\"\n",
    "    ensembles_list = []\n",
    "    for ensemble_file in ensemble_files: #files are organized based on their name\n",
    "        df = pd.read_csv(ensemble_file[0],comment='#',**kwargs)\n",
    "        ensembles_list.append(df)\n",
    "    df_of_ensembles = pd.concat(ensembles_list)\n",
    "    df_of_ensembles.reset_index(inplace=True,drop=True)\n",
    "    cell_attrs = cellAttributes(df_of_ensembles.filename[0],geometry=geometry)\n",
    "    if to_file:\n",
    "        output = 'N'+str(cell_attrs.nmon)+'D'+str(cell_attrs.dcyl)+'ac'+str(cell_attrs.dcrowd)+'-'+ensemble_name+'.csv'\n",
    "        df_of_ensembles.to_csv(output)\n",
    "    return df_of_ensembles"
   ]
  },
  {
   "cell_type": "code",
   "execution_count": null,
   "metadata": {},
   "outputs": [],
   "source": [
    "csv_files = glob(\"../N*-analyze_bug/N*.csv\")\n",
    "geometry = 'cylinder'\n",
    "df_name = 'all_in_one-ens_avg'\n",
    "ext=['-properties-ens_avg.csv']\n",
    "ens_evg_properties_files = PipeLine.file_reader(csv_files,extensions=ext)\n",
    "ensembles_list = []\n",
    "for ensemble_file in ens_evg_properties_files: #files are organized based on their name\n",
    "    print(ensemble_file)\n",
    "    header = ensemble_file[0].split('/')[1].split('-')[0]\n",
    "    middle = ensemble_file[0].split('/')[-1].split('-')[1]\n",
    "    footer = ensemble_file[0].split('/')[-1].split('-')[-1].split('.csv')[0]+'-normalized.csv'\n",
    "    output = header +'-'+middle+'-'+ footer \n",
    "    print(output)\n",
    "    df = pd.read_csv(ensemble_file[0],comment='#',index_col=0)\n",
    "    unique_simulations = [list(input_set) for input_set in list(df.groupby(['nmon','dcyl','dcrowd']).size().index)]\n",
    "    for nmon, dcyl, dcrowd in unique_simulations:\n",
    "        condition = (ens_avg_properties_df['nmon'] == nmon) & (ens_avg_properties_df['dcyl'] == dcyl) & (ens_avg_properties_df['dcrowd'] == dcrowd) & (ens_avg_properties_df['vfrc_crowd'] == 0)\n",
    "        fsd = ens_avg_properties_df[condition]['fsd'].values[0]\n",
    "        gyr = ens_avg_properties_df[condition]['gyr'].values[0]\n",
    "        rflory = ens_avg_properties_df[condition]['rflory'].values[0]\n",
    "    df['fsd_normalized'] = df['fsd'] / fsd\n",
    "    df['gyr_normalized'] = df['gyr'] / gyr\n",
    "    df['rflory_normalized'] = df['rflory'] / rflory\n",
    "    df['vfrc_c_normalized'] = (df['dmon'] * df['vfrc_crowd']) / df['dcrowd'] \n",
    "    df.to_csv(output)"
   ]
  },
  {
   "cell_type": "code",
   "execution_count": null,
   "metadata": {},
   "outputs": [],
   "source": [
    "    \n",
    "    \n",
    "    \n",
    "    ensembles_list.append(df)\n",
    "df_of_ensembles = pd.concat(ensembles_list)\n",
    "df_of_ensembles.reset_index(inplace=True,drop=True)\n",
    "cell_attrs = cellAttributes(df_of_ensembles.filename[0],geometry=geometry)\n",
    "if to_file:\n",
    "    output = 'N'+str(cell_attrs.nmon)+'D'+str(cell_attrs.dcyl)+'ac'+str(cell_attrs.dcrowd)+'-'+ensemble_name+'.csv'\n",
    "    df_of_ensembles.to_csv(output)\n",
    "    \n",
    "for df in ens_evg_properties_files:\n",
    "    "
   ]
  },
  {
   "cell_type": "code",
   "execution_count": null,
   "metadata": {},
   "outputs": [],
   "source": [
    "csv_files = glob(\"./N*.csv\")\n",
    "geometry = 'cylinder'\n",
    "df_name = 'all_in_one-ens_avg'\n",
    "ext=['-properties-ens_avg-normalized.csv']\n",
    "ens_evg_properties_files = PipeLine.file_reader(csv_files,extensions=ext)\n",
    "ens_avg_properties_df = PipeLine.df_of_properties(ens_evg_properties_files, df_name, geometry, to_file=True,index_col=0)\n",
    "ens_avg_properties_df = ens_avg_properties_df.round(4)"
   ]
  },
  {
   "cell_type": "code",
   "execution_count": null,
   "metadata": {},
   "outputs": [],
   "source": [
    "unique_simulations = [list(input_set) for input_set in list(ens_avg_properties_df.groupby(['nmon','dcyl','dcrowd']).size().index)]\n",
    "for nmon, dcyl, dcrowd in unique_simulations:\n",
    "    condition = (ens_avg_properties_df['nmon'] == nmon) & (ens_avg_properties_df['dcyl'] == dcyl) & (ens_avg_properties_df['dcrowd'] == dcrowd) & (ens_avg_properties_df['vfrc_crowd'] == 0)\n",
    "    print(ens_avg_properties_df[condition]['fsd'])"
   ]
  },
  {
   "cell_type": "code",
   "execution_count": null,
   "metadata": {},
   "outputs": [],
   "source": [
    "sns.set_context('paper')\n",
    "sns.set_style(\"ticks\")\n",
    "fig, axes = plt.subplots(nrows=3,ncols=1,sharex=True)#,figsize=(16,9)\n",
    "#sns.color_palette(\"hls\", 3)\n",
    "#fig, ax = plt.subplots(nrows=1,ncols=1)#,figsize=(16,9))\n",
    "g1 = sns.lineplot(x=\"vfrc_c_normalized\", y=\"fsd_normalized\", hue='dcyl',style='dcrowd', markers=True, data=ens_avg_properties_df,ax=axes[0])\n",
    "g2 = sns.lineplot(x=\"vfrc_c_normalized\", y=\"gyr_normalized\", hue='dcyl',style='dcrowd', markers=True, data=ens_avg_properties_df, legend=False,ax=axes[1])\n",
    "g3 = sns.lineplot(x=\"vfrc_c_normalized\", y=\"rflory_normalized\", hue='dcyl',style='dcrowd', markers=True, data=ens_avg_properties_df,legend=False, ax=axes[2])\n",
    "g1.legend(title=[r'D',r'$a_c$'],bbox_to_anchor=(1.05, 1), loc=2)\n",
    "legend = ax.legend()\n",
    "for t in legend.get_texts()[::2]:\n",
    "    xfm = transforms.offset_copy(t.get_transform(), ax.figure, x=-10, units=\"points\")\n",
    "    t.set_transform(xfm)\n",
    "g1.set_ylabel(r'$\\frac{L_{FSD}(\\phi_c)}{L_{FSD}(0)}$')\n",
    "g2.set_ylabel(r'$\\frac{R_{ROG}(\\phi_c)}{R_{ROG}(0)}$')\n",
    "g3.set_ylabel(r'$\\frac{R_{Flory}(\\phi_c)}{R_{Flory}(0)}$')\n",
    "picname = \"Chain_size-all_in_one\"\n",
    "plt.savefig(picname+'.pdf',dpi=300,bbox_inches='tight')"
   ]
  },
  {
   "cell_type": "code",
   "execution_count": null,
   "metadata": {},
   "outputs": [],
   "source": [
    "\n"
   ]
  },
  {
   "cell_type": "code",
   "execution_count": null,
   "metadata": {},
   "outputs": [],
   "source": [
    "fig, ax = plt.subplots(nrows=1,ncols=1)#,figsize=(16,9))\n",
    "ax = "
   ]
  },
  {
   "cell_type": "code",
   "execution_count": null,
   "metadata": {},
   "outputs": [],
   "source": [
    "#%%time\n",
    "#df_name = '_ens_avg_z'\n",
    "#direction = 'cyl_z'\n",
    "#ens_avg_rho_z = PipeLine.rho_phi_generator(ens_evg_zhist, ens_avg_properties, df_name, geometry, direction)\n",
    "\n",
    "#df_name = '_ens_avg_theta'\n",
    "#direction = 'cyl_theta'\n",
    "#ens_avg_rho_theta = PipeLine.rho_phi_generator(ens_evg_thetahist, ens_avg_properties, df_name, geometry, direction)"
   ]
  },
  {
   "cell_type": "code",
   "execution_count": null,
   "metadata": {},
   "outputs": [],
   "source": [
    "fig, ax = plt.subplots(nrows=1,ncols=1,figsize=(16,9))\n",
    "fontsize = 24\n",
    "color = 'tab:blue'\n",
    "line1, = ax.plot(ens_avg_phi_r.iloc[:,0], markersize=0.1, c=color)\n",
    "#ax.legend()\n",
    "ax.set_xlabel(r\"Cylinder radius ($\\frac{D}{2a}$)\",fontsize=fontsize)\n",
    "ax.set_ylabel(r\"$\\phi_m(r)$\",fontsize=fontsize)\n",
    "ax.tick_params(labelsize=24)\n",
    "\n",
    "ax2 = ax.twinx()\n",
    "color = 'tab:red'\n",
    "line2, = ax2.plot(ens_avg_rho_r.iloc[:,0], rho, markersize=0.1, c=color)\n",
    "ax2.set_ylabel(r\"$\\rho_m(r)$\",fontsize=fontsize)\n",
    "ax2.tick_params(labelsize=24)\n",
    "\n",
    "lines = [line1, line2]\n",
    "\n",
    "ax.legend(lines, [l.get_label() for l in lines],loc=1,ncol=2,fontsize=fontsize)\n",
    "#fig.legend()\n",
    "picname = filename.split(\"_rHists\")[0]+\"_local\"\n",
    "plt.savefig(picname+'.pdf',dpi=300)"
   ]
  },
  {
   "cell_type": "code",
   "execution_count": null,
   "metadata": {},
   "outputs": [],
   "source": [
    "import os\n",
    "for direct in rhist_df.columns:\n",
    "    path = os.path.join(\"./\", direct)\n",
    "    os.mkdir(path)"
   ]
  },
  {
   "cell_type": "code",
   "execution_count": null,
   "metadata": {},
   "outputs": [],
   "source": [
    "fpath = hist_files[24]\n",
    "\n",
    "histo_collections = np.loadtxt(fpath[0],dtype=np.int32)\n",
    "bin_edges = np.around(np.loadtxt(fpath[1]),decimals=2)\n",
    "cell_attrs = PipeLine.cellAttributes(fpath[0],geometry='cylinder',printname=True)\n",
    "filename = cell_attrs.filename\n",
    "cylindrical_shell_integrand = lambda r: 2 * np.pi * cell_attrs.dcyl * r\n",
    "\n",
    "# the sum of rho is not equal to the bulk number density (r=infiity) natom/cell_vol\n",
    "# this arises from the way we descritize the local number desnity.\n",
    "rho = PipeLine.local_number_density(histo_collections, bin_edges, cylindrical_shell_integrand)\n",
    "\n",
    "rmon = cell_attrs.dmon / 2.0\n",
    "bin_centers = np.around((bin_edges[:-1] + bin_edges[1:]) / 2.0,decimals=2)\n",
    "\n",
    "range_of_bins = PipeLine.bin_edge_index(rmon, bin_centers, bin_edges)\n",
    "volume_shares = PipeLine.vol_shares(rmon, bin_centers, bin_edges, range_of_bins, PipeLine.sphere_cylinder_intersection)\n",
    "\n",
    "# the sum of phi is not equal to the bulk volume fraction (r=infiity) natom*vol_per_atom/cell_vol\n",
    "# this arises from the way we descritize the local volume fraction and the way we relate it to the local number density.\n",
    "phi = PipeLine.local_volume_fraction(bin_centers, rho, volume_shares)\n",
    "\n",
    "fig, ax = plt.subplots(nrows=1,ncols=1,figsize=(16,9))\n",
    "\n",
    "fontsize = 24\n",
    "color = 'tab:blue'\n",
    "line1, = ax.plot(bin_centers, phi, label = r\"$\\phi_c(R=\\infty)={:4.2f}$\".format(cell_attrs.vfrc_crowd), markersize=0.1, c=color)\n",
    "#ax.legend()\n",
    "ax.set_xlabel(r\"Cylinder radius ($\\frac{D}{2a}$)\",fontsize=fontsize)\n",
    "ax.set_ylabel(r\"$\\phi_m(r)$\",fontsize=fontsize)\n",
    "ax.tick_params(labelsize=24)\n",
    "\n",
    "ax2 = ax.twinx()\n",
    "color = 'tab:red'\n",
    "line2, = ax2.plot(bin_centers, rho, label = r\"$\\rho_c(R=\\infty)={:4.2f}$\".format(cell_attrs.vfrc_crowd), markersize=0.1, c=color)\n",
    "ax2.set_ylabel(r\"$\\rho_m(r)$\",fontsize=fontsize)\n",
    "ax2.tick_params(labelsize=24)\n",
    "\n",
    "lines = [line1, line2]\n",
    "\n",
    "ax.legend(lines, [l.get_label() for l in lines],loc=1,ncol=2,fontsize=fontsize)\n",
    "#fig.legend()\n",
    "picname = filename.split(\"_rHists\")[0]+\"_local\"\n",
    "plt.savefig(picname+'.pdf',dpi=300)"
   ]
  },
  {
   "cell_type": "code",
   "execution_count": null,
   "metadata": {},
   "outputs": [],
   "source": [
    "fig, ax = plt.subplots(nrows=1,ncols=1)\n",
    "nens = 0\n",
    "hists = 0\n",
    "phi_c = 0.0 \n",
    "\n",
    "for filename in ens_avg_properties.filename:\n",
    "    condition = ens_avg_properties['filename']==filename\n",
    "    for col in rhist_dfs.columns:\n",
    "        if col.split('ens')[0] == filename.split('_ens_avg')[0]:\n",
    "            #print(rhist_dfs[col])\n",
    "            PipeLine.histo_plotter(ax, rhist_dfs[col].values, lambda r: 2 * ens_avg_properties[condition].dcyl / 2.0 * r, rhist_dfs.index.values, label = r\"$\\phi_c={}$\".format(ens_avg_properties[condition].vfrc_crowd), markersize=0.1)\n",
    "    #ens_evg_rhist\n",
    "    \n",
    "#PipeLine.histo_plotter(ax, hists, lambda r: 2 * cell_attrs.dcyl / 2.0 * r, edges, label = r\"$\\phi_c={}$\".format(phi_c), markersize=0.1)\n",
    "ax.legend()\n",
    "ax.set_xlabel(r\"Cylinder radius ($\\frac{D}{2a}$)\")\n",
    "ax.set_xlabel(r\"Cylinder radius ($\\frac{D}{2a}$)\")"
   ]
  }
 ],
 "metadata": {
  "colab": {
   "name": "pipeline_v4.ipynb",
   "provenance": [],
   "version": "0.3.2"
  },
  "kernelspec": {
   "display_name": "Python 3",
   "language": "python",
   "name": "python3"
  },
  "language_info": {
   "codemirror_mode": {
    "name": "ipython",
    "version": 3
   },
   "file_extension": ".py",
   "mimetype": "text/x-python",
   "name": "python",
   "nbconvert_exporter": "python",
   "pygments_lexer": "ipython3",
   "version": "3.8.8"
  }
 },
 "nbformat": 4,
 "nbformat_minor": 4
}
