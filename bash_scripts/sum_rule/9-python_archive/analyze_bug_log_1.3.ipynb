{
 "cells": [
  {
   "cell_type": "code",
   "execution_count": null,
   "metadata": {
    "colab": {},
    "colab_type": "code",
    "id": "C_CLXSgvVO_9"
   },
   "outputs": [],
   "source": [
    "from glob import glob\n",
    "import os\n",
    "from pathlib import Path\n",
    "from PipeLine import *"
   ]
  },
  {
   "cell_type": "code",
   "execution_count": null,
   "metadata": {},
   "outputs": [],
   "source": [
    "from dask.distributed import Client\n",
    "from dask import delayed\n",
    "from dask import compute\n",
    "client = Client(n_workers=4)\n",
    "client"
   ]
  },
  {
   "cell_type": "code",
   "execution_count": null,
   "metadata": {},
   "outputs": [],
   "source": [
    "# Path to bug extraction folders/files\n",
    "database = '/Users/amirhsi_mini/extractions/'\n",
    "#database = './extractions/'\n",
    "bug_groups = glob(database+\"/N*-extraction/\")\n",
    "geometry = 'cylindrical'"
   ]
  },
  {
   "cell_type": "code",
   "execution_count": null,
   "metadata": {},
   "outputs": [],
   "source": [
    "print(bug_groups)"
   ]
  },
  {
   "cell_type": "code",
   "execution_count": null,
   "metadata": {},
   "outputs": [],
   "source": [
    "def whole_group_analyze_bug(extraction_db, extraction_db_name, analysis_db_name, simulation_type, geometry):\n",
    "    \"\"\"\n",
    "    whole_group_analyze_bug create ensemble/ensemble-averaged files and folders for bug files.\n",
    "    \"\"\"\n",
    "    sim_csvs = glob(extraction_db+\"/N*/N*.csv\")\n",
    "    analysis_db = extraction_db.split(extraction_db_name)[0]+analysis_db_name+\"/\"\n",
    "    analysis_name = extraction_db.split(\"/\")[-2].split('-')[0]+'-'+simulation_type+'-analysis'\n",
    "    analysis_path = analysis_db+analysis_name\n",
    "    Path(analysis_path).mkdir(parents=True, exist_ok=False)\n",
    "    analysis_save_to = analysis_path+\"/\"\n",
    "    \n",
    "    analysis_ens_evg_name = extraction_db.split(\"/\")[-2].split('-')[0]+'-'+simulation_type+'-analysis-ens_avg'\n",
    "    analysis_ens_evg_path = analysis_db+analysis_ens_evg_name\n",
    "    Path(analysis_ens_evg_path).mkdir(parents=True, exist_ok=False)\n",
    "    analysis_ens_avg_save_to = analysis_ens_evg_path+\"/\"\n",
    "    PipeLine.analysis_bug_sumrule(sim_csvs,geometry, analysis_save_to, analysis_ens_avg_save_to)"
   ]
  },
  {
   "cell_type": "code",
   "execution_count": null,
   "metadata": {},
   "outputs": [],
   "source": [
    "# analyze all the bug groups at once:\n",
    "simulation_type = 'bug' # bug or all\n",
    "extraction_db_name = \"extractions\"\n",
    "analysis_db_name = \"analysis_bug\"\n",
    "geometry = 'cylindrical'\n",
    "analysis_delayed = []\n",
    "for bug_group in bug_groups:\n",
    "    analysis = delayed(whole_group_analyze_bug)(bug_group, extraction_db_name, analysis_db_name, simulation_type, geometry)\n",
    "    analysis_delayed.append(analysis)"
   ]
  },
  {
   "cell_type": "code",
   "execution_count": null,
   "metadata": {},
   "outputs": [],
   "source": [
    "%%time\n",
    "results = compute(analysis_delayed)"
   ]
  },
  {
   "cell_type": "code",
   "execution_count": null,
   "metadata": {},
   "outputs": [],
   "source": [
    "database = '/Users/amirhsi_mini/logs/'\n",
    "log_groups = glob(database+\"/N*-logs/\")\n",
    "geometry = 'cylindrical'"
   ]
  },
  {
   "cell_type": "code",
   "execution_count": null,
   "metadata": {},
   "outputs": [],
   "source": [
    "# analyze log files\n",
    "for log_group in log_groups:\n",
    "    log_files = glob(log_group+'/N*.log')\n",
    "    log_files = PipeLine.file_reader(log_files,extensions=['.log'])\n",
    "    sample_log = log_files[0][0].split(\"/\")[-1]\n",
    "    details_out , runtime_out = PipeLine.log_outputs(sample_log, geometry)\n",
    "    PipeLine.lammps_log_details(log_files, details_out , runtime_out)"
   ]
  },
  {
   "cell_type": "code",
   "execution_count": null,
   "metadata": {},
   "outputs": [],
   "source": [
    "# create one dataframe of all the properties files:\n",
    "database_path = '/Users/amirhsi_mini/trjs_analysis_bug/'\n",
    "properties_files = glob(database_path+\"N*-bug-analysis/N*-properties.csv\")\n",
    "properties_files = PipeLine.file_reader(properties_files,extensions=['-properties.csv'])\n",
    "properties_all_in_one = PipeLine.properties_all_in_one(properties_files, save_to=database_path, round_to=4, index_col=0)\n",
    "properties_files_ens_avg = glob(database_path+\"N*-bug-analysis-ens_avg/N*-properties-ens_avg.csv\")\n",
    "properties_files_ens_avg = PipeLine.file_reader(properties_files_ens_avg,extensions=['-properties-ens_avg.csv'])\n",
    "properties_all_in_one_ens_avg = PipeLine.properties_all_in_one(properties_files_ens_avg, ens_avg=True, norm_func=PipeLine.cylindrical_norm, save_to=database_path, round_to=4, index_col=0)"
   ]
  },
  {
   "cell_type": "code",
   "execution_count": null,
   "metadata": {},
   "outputs": [],
   "source": []
  },
  {
   "cell_type": "code",
   "execution_count": null,
   "metadata": {},
   "outputs": [],
   "source": []
  }
 ],
 "metadata": {
  "colab": {
   "name": "pipeline_v4.ipynb",
   "provenance": [],
   "version": "0.3.2"
  },
  "kernelspec": {
   "display_name": "Python 3",
   "language": "python",
   "name": "python3"
  },
  "language_info": {
   "codemirror_mode": {
    "name": "ipython",
    "version": 3
   },
   "file_extension": ".py",
   "mimetype": "text/x-python",
   "name": "python",
   "nbconvert_exporter": "python",
   "pygments_lexer": "ipython3",
   "version": "3.8.8"
  }
 },
 "nbformat": 4,
 "nbformat_minor": 4
}
