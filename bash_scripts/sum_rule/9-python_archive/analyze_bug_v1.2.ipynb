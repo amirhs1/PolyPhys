{
 "cells": [
  {
   "cell_type": "code",
   "execution_count": null,
   "metadata": {
    "colab": {},
    "colab_type": "code",
    "id": "C_CLXSgvVO_9"
   },
   "outputs": [],
   "source": [
    "from glob import glob\n",
    "import os\n",
    "from pathlib import Path\n",
    "from PipeLine import *\n",
    "from dask.distributed import Client\n",
    "from dask import delayed\n",
    "from dask import compute\n",
    "client = Client(n_workers=4)\n",
    "client"
   ]
  },
  {
   "cell_type": "code",
   "execution_count": null,
   "metadata": {},
   "outputs": [],
   "source": [
    "# Path to bug extraction folders/files\n",
    "database = '/Users/amirhsi_mini/trjs_extractions/'\n",
    "bug_groups = glob(database+\"N*_bug/\")\n",
    "geometry = 'cylindrical'"
   ]
  },
  {
   "cell_type": "code",
   "execution_count": null,
   "metadata": {},
   "outputs": [],
   "source": [
    "def analyze_bug(extraction_files, geometry, group_save_to, group_ens_avg_save_to, old_naming=True):\n",
    "    rhist_name = 'rHists'\n",
    "\n",
    "    rhist_files = PipeLine.file_reader(extraction_files,extensions=['_rHists.csv','_rEdges.csv'])\n",
    "    rhist_dicts = PipeLine.ensemble(rhist_files,rhist_name,geometry,dtype=int,single=False,save_to=group_save_to)\n",
    "    ens_evg_dict_rhist = PipeLine.group(rhist_dicts,rhist_name,geometry,save_to=group_ens_avg_save_to)\n",
    "\n",
    "    zhist_name = 'zHists'\n",
    "    zhist_files = PipeLine.file_reader(extraction_files,extensions=['_zHists.csv','_zEdges.csv'])\n",
    "    zhist_dicts = PipeLine.ensemble(zhist_files,zhist_name,geometry,dtype=int,single=False,save_to=group_save_to)\n",
    "    ens_evg_dict_zhist = PipeLine.group(zhist_dicts,zhist_name,geometry,save_to=group_ens_avg_save_to)\n",
    "\n",
    "    thetahist_name = 'thetaHists'\n",
    "    thetahist_files = PipeLine.file_reader(extraction_files,extensions=['_thetaHists.csv','_thetaEdges.csv'])\n",
    "    thetahist_dicts = PipeLine.ensemble(thetahist_files,thetahist_name,geometry,dtype=int,single=False,save_to=group_save_to)\n",
    "    ens_evg_dict_thetahist = PipeLine.group(thetahist_dicts,thetahist_name,geometry,save_to=group_ens_avg_save_to)\n",
    "\n",
    "    rFloryhist_name = 'rFloryHists'\n",
    "    rFloryhist_files = PipeLine.file_reader(extraction_files,extensions=['_rFloryHists.csv','_rFloryEdges.csv'])\n",
    "    rFloryhist_dicts = PipeLine.ensemble(rFloryhist_files,rFloryhist_name,geometry,dtype=int,single=False,save_to=group_save_to)\n",
    "    ens_evg_dict_rFloryhist = PipeLine.group(rFloryhist_dicts,rFloryhist_name,geometry,save_to=group_ens_avg_save_to)\n",
    "\n",
    "    fsd_name = 'fsd_t'\n",
    "    fsd_files = PipeLine.file_reader(extraction_files,extensions=['_fsd_t.csv'])\n",
    "    fsd_dicts = PipeLine.ensemble(fsd_files,fsd_name,geometry,save_to=group_save_to)\n",
    "    ens_evg_dict_fsd = PipeLine.group(fsd_dicts,fsd_name,geometry,save_to=group_ens_avg_save_to)\n",
    "\n",
    "    gyr_name = 'gyr_t'\n",
    "    gyr_files = PipeLine.file_reader(extraction_files,extensions=['_gyr_t.csv'])\n",
    "    gyr_dicts = PipeLine.ensemble(gyr_files,gyr_name,geometry,save_to=group_save_to)\n",
    "    ens_evg_dict_gyr = PipeLine.group(gyr_dicts,gyr_name,geometry,save_to=group_ens_avg_save_to)\n",
    "\n",
    "    rFlory_name = 'rFlory_t'\n",
    "    rFlory_files = PipeLine.file_reader(extraction_files,extensions=['_rFlory_t.csv'])\n",
    "    rFlory_dicts = PipeLine.ensemble(rFlory_files,rFlory_name,geometry,save_to=group_save_to)\n",
    "    ens_evg_dict_rFlory = PipeLine.group(rFlory_dicts,rFlory_name,geometry,save_to=group_ens_avg_save_to)\n",
    "\n",
    "    properties_files = PipeLine.file_reader(extraction_files,extensions=['_properties.csv'])\n",
    "    properties_df = PipeLine.properties(properties_files, geometry,save_to=group_save_to)\n",
    "    # N2000D15.0ac1.0-extraction_bug: old_naming: True\n",
    "    # N2000D15.0ac2.0-extraction_bug: old_naming: True\n",
    "    # N2000D20.0ac1.0-extraction_bug: old_naming: True\n",
    "    # N2000D20.0ac2.0-extraction_bug: old_naming: True\n",
    "    # N2000D25.0ac1.0-extraction_bug: old_naming: True\n",
    "    # N2000D25.0ac2.0-extraction_bug: old_naming: True\n",
    "    # N2000D25.0ac4.0-extraction_bug: old_naming: True\n",
    "    # N2000D30.0ac4.0-extraction_bug: old_naming: True\n",
    "    # N2000D30.0ac6.0-extraction_bug: old_naming: True\n",
    "    ens_avg_properties = PipeLine.group_properties(properties_df, geometry,old_naming=old_naming,save_to=group_ens_avg_save_to)\n",
    "\n",
    "    all_rho_r_dicts, all_phi_r_dicts = PipeLine.distributions_generator(rhist_dicts, properties_df, 'dmon', geometry, 'radial', '',normalized=False,save_to=group_save_to)\n",
    "    ens_avg_dict_rho_r = PipeLine.group(all_rho_r_dicts,'rRhos',geometry,save_to=group_ens_avg_save_to)\n",
    "    ens_avg_dict_phi_r = PipeLine.group(all_phi_r_dicts,'rPhis',geometry,save_to=group_ens_avg_save_to)\n",
    "\n",
    "    all_rho_z_dicts, all_phi_z_dicts = PipeLine.distributions_generator(zhist_dicts, properties_df, 'dmon', geometry, 'longitudinal', '',normalized=False,save_to=group_save_to)\n",
    "    ens_avg_dict_rho_z = PipeLine.group(all_rho_z_dicts,'zRhos',geometry,save_to=group_ens_avg_save_to)\n",
    "    ens_avg_dict_phi_z = PipeLine.group(all_phi_z_dicts,'zPhis',geometry,save_to=group_ens_avg_save_to)"
   ]
  },
  {
   "cell_type": "code",
   "execution_count": null,
   "metadata": {},
   "outputs": [],
   "source": [
    "def whole_bug_group_analyze(group_files_path, parent_dir, simulation_type, geometry):\n",
    "    sim_files = glob(group_files_path+\"/N*/N*.csv\")\n",
    "    parent_path = group_files_path.split('trjs_extraction')[0]+\"/\"+parent_dir+\"/\"\n",
    "    \n",
    "    group_name = group_files_path.split(\"/\")[-2].split('-')[0]+'-'+simulation_type+'-analysis'\n",
    "    group_path = parent_path+group_name\n",
    "    Path(group_path).mkdir(parents=True, exist_ok=False)\n",
    "    group_save_to = group_path+\"/\"\n",
    "    \n",
    "    group_ens_avg_name = group_files_path.split(\"/\")[-2].split('-')[0]+'-'+simulation_type+'-analysis-ens_avg'\n",
    "    group_ens_avg_path = parent_path+group_ens_avg_name\n",
    "    Path(group_ens_avg_path).mkdir(parents=True, exist_ok=False)\n",
    "    group_ens_avg_save_to = group_ens_avg_path+\"/\"\n",
    "    \n",
    "    analyze_bug(sim_files,geometry, group_save_to, group_ens_avg_save_to)"
   ]
  },
  {
   "cell_type": "code",
   "execution_count": null,
   "metadata": {},
   "outputs": [],
   "source": [
    "# analyze all the bug groups at once:\n",
    "simulation_type = 'bug' # bug or all\n",
    "parent_dir = \"trjs_analysis_bug\"\n",
    "geometry = 'cylindrical'\n",
    "analysis_delayed = []\n",
    "for bug_group in bug_groups:\n",
    "    analysis = delayed(whole_bug_group_analyze)(bug_group, parent_dir, simulation_type, geometry)\n",
    "    analysis_delayed.append(analysis)"
   ]
  },
  {
   "cell_type": "code",
   "execution_count": null,
   "metadata": {},
   "outputs": [],
   "source": [
    "%%time\n",
    "results = compute(analysis_delayed)"
   ]
  },
  {
   "cell_type": "code",
   "execution_count": null,
   "metadata": {},
   "outputs": [],
   "source": [
    "# analyze log files\n",
    "log_files = glob('./N*.log')\n",
    "geometry = 'cylinder'\n",
    "log_files = PipeLine.file_reader(log_files,extensions=['.log'])\n",
    "details_out , runtime_out = PipeLine.log_outputs(log_files[0][0], geometry)\n",
    "PipeLine.lammps_log_details(log_files, details_out , runtime_out)"
   ]
  },
  {
   "cell_type": "code",
   "execution_count": null,
   "metadata": {},
   "outputs": [],
   "source": [
    "# create one dataframe of all the properties files:\n",
    "database_path = '/Users/amirhsi_mini/trjs_analysis_bug/'\n",
    "properties_files = glob(database_path+\"N*-bug-analysis/N*-properties.csv\")\n",
    "properties_files = PipeLine.file_reader(properties_files,extensions=['-properties.csv'])\n",
    "properties_all_in_one = PipeLine.all_dfs_in_one(properties_files, 'properties', save_to=database_path, index_col=0)\n",
    "properties_files_ens_avg = glob(database_path+\"N*-bug-analysis-ens_avg/N*-properties-ens_avg.csv\")\n",
    "properties_files_ens_avg = PipeLine.file_reader(properties_files_ens_avg,extensions=['-properties-ens_avg.csv'])\n",
    "properties_all_in_one_ens_avg = PipeLine.all_dfs_in_one(properties_files_ens_avg,'properties', ens_avg=True, norm_func=PipeLine.cyl_sumrule_norms_ens_evg, save_to=database_path, index_col=0)"
   ]
  }
 ],
 "metadata": {
  "colab": {
   "name": "pipeline_v4.ipynb",
   "provenance": [],
   "version": "0.3.2"
  },
  "kernelspec": {
   "display_name": "Python 3",
   "language": "python",
   "name": "python3"
  },
  "language_info": {
   "codemirror_mode": {
    "name": "ipython",
    "version": 3
   },
   "file_extension": ".py",
   "mimetype": "text/x-python",
   "name": "python",
   "nbconvert_exporter": "python",
   "pygments_lexer": "ipython3",
   "version": "3.8.8"
  }
 },
 "nbformat": 4,
 "nbformat_minor": 4
}
