{
 "cells": [
  {
   "cell_type": "code",
   "execution_count": null,
   "metadata": {
    "colab": {},
    "colab_type": "code",
    "id": "C_CLXSgvVO_9"
   },
   "outputs": [],
   "source": [
    "# Importing necessary packages:\n",
    "from glob import glob\n",
    "from PipeLine import *\n",
    "import pandas as pd\n",
    "import matplotlib.pyplot as plt"
   ]
  },
  {
   "cell_type": "code",
   "execution_count": null,
   "metadata": {},
   "outputs": [],
   "source": [
    "ens_files = glob(\"../N2000epsilon5.0r10.5lz336sig1.0nc110880dt0.005bdump1000adump5000ens1/*.csv\")"
   ]
  },
  {
   "cell_type": "code",
   "execution_count": null,
   "metadata": {},
   "outputs": [],
   "source": [
    "geometry='cylinder'\n",
    "rhist_name = 'rHistsCrdSegments'\n",
    "rhist_files = PipeLine.file_reader(ens_files,extensions=['_rHistsCrd.csv','_rEdgesCrd.csv'])\n",
    "rhist_dicts = PipeLine.dict_of_segments(rhist_files,rhist_name,geometry,dtype=int,single=False,to_file=False)\n",
    "rhist_name = 'rHistsCrd'\n",
    "ens_evg_rhist = PipeLine.dict_of_a_trj(rhist_dicts,rhist_name,geometry)\n",
    "\n",
    "zhist_name = 'zHistsCrdSegments'\n",
    "zhist_files = PipeLine.file_reader(ens_files,extensions=['_zHistsCrd.csv','_zEdgesCrd.csv'])\n",
    "zhist_dicts = PipeLine.dict_of_segments(zhist_files,zhist_name,geometry,dtype=int,single=False,to_file=False)\n",
    "zhist_name = 'zHistsCrd'\n",
    "ens_evg_zhist = PipeLine.dict_of_a_trj(zhist_dicts,zhist_name,geometry)\n",
    "\n",
    "thetahist_name = 'thetaHistsCrdSegments'\n",
    "thetahist_files = PipeLine.file_reader(ens_files,extensions=['_thetaHistsCrd.csv','_thetaEdgesCrd.csv'])\n",
    "thetahist_dicts = PipeLine.dict_of_segments(thetahist_files,thetahist_name,geometry,dtype=int,single=False,to_file=False)\n",
    "thetahist_name = 'thetaHistsCrd'\n",
    "ens_evg_thetahist = PipeLine.dict_of_a_trj(thetahist_dicts,thetahist_name,geometry)"
   ]
  },
  {
   "cell_type": "code",
   "execution_count": null,
   "metadata": {},
   "outputs": [],
   "source": [
    "ens_avg_properties_csv = glob(\"../N2000epsilon5.0r10.5lz336sig1.0nc110880dt0.005bdump1000adump5000ens1/*-properties-ens_avg.csv\")\n",
    "properties_csv = glob(\"../N2000epsilon5.0r10.5lz336sig1.0nc110880dt0.005bdump1000adump5000ens1/*-properties.csv\")\n",
    "ens_avg_properties = pd.read_csv(ens_avg_properties_csv[0],index_col=0)\n",
    "properties_df = pd.read_csv(properties_csv[0],index_col=0)"
   ]
  },
  {
   "cell_type": "code",
   "execution_count": null,
   "metadata": {},
   "outputs": [],
   "source": [
    "#df_name = 'Crd_ens_avg_r'\n",
    "particle_type='dcrowd'\n",
    "#ens_avg_rho_r, ens_avg_phi_r = PipeLine.rho_phi_generator(ens_evg_rhist, ens_avg_properties, df_name, geometry, direction, 'dcrowd')\n",
    "direction = 'cyl_radial'\n",
    "all_rho_r_dicts, all_phi_r_dicts = PipeLine.rho_phi_generator_segments(rhist_dicts, properties_df, geometry, direction, 'dcrowd',df_name='CrdSegments',as_filename=True,to_file=False)"
   ]
  },
  {
   "cell_type": "code",
   "execution_count": null,
   "metadata": {},
   "outputs": [],
   "source": [
    "direction = 'cyl_radial' \n",
    "ens_avg_dict_rho_r, ens_avg_dict_phi_r = PipeLine.rho_phi_generator_all(ens_evg_rhist, ens_avg_properties, geometry, direction, 'dcrowd', df_name='Crd',as_filename=True)"
   ]
  },
  {
   "cell_type": "code",
   "execution_count": null,
   "metadata": {},
   "outputs": [],
   "source": [
    "rHistsCrd_csvs = glob('./N2000epsilon5.0r10.5lz336sig1.0nc110880dt0.005bdump1000adump5000ens1-thetaHistsCrd.csv')\n",
    "#rphisBug_csvs = glob('../N2000epsilon5.0r10.5lz336sig1.0nc110880dt0.005bdump1000adump5000ens1/N2000D20.0ac1.0nc110880-rPhis.csv')\n",
    "#print(rphisBug_csvs)\n",
    "rHistsrd_df = pd.read_csv(rHistsCrd_csvs[0],index_col=0)\n",
    "fig, ax = plt.subplots(nrows=1,ncols=1,figsize=(16,9))\n",
    "rHistsCrd_df.plot(ax=ax)"
   ]
  },
  {
   "cell_type": "code",
   "execution_count": null,
   "metadata": {},
   "outputs": [],
   "source": [
    "rphisCrd_csvs = glob('./N2000epsilon5.0r10.5lz336sig1.0nc110880dt0.005bdump1000adump5000ens1-rHistsCrd.csv')\n",
    "rphisBug_csvs = glob('../N2000D20.0ac1.0phic0.0_0.3-analyze_bug/N2000D20.0ac1.0nc110880-rHists.csv')\n",
    "print(rphisBug_csvs)\n",
    "rphisCrd_df = pd.read_csv(rphisCrd_csvs[0],index_col=0)\n",
    "rphisBug_df = pd.read_csv(rphisBug_csvs[0],index_col=0)\n",
    "fig, ax = plt.subplots(nrows=1,ncols=1,figsize=(16,9))\n",
    "rphisBug_df['N2000epsilon5.0r10.5lz336sig1.0nc110880dt0.005bdump1000adump5000ens1'].plot(ax=ax)\n",
    "rphisCrd_df['N2000epsilon5.0r10.5lz336sig1.0nc110880dt0.005bdump1000adump5000ens1'].plot(ax=ax)"
   ]
  },
  {
   "cell_type": "code",
   "execution_count": null,
   "metadata": {},
   "outputs": [],
   "source": [
    "#ens_avg_phi_r.plot()\n",
    "ens_evg_rFlory.loc[20000:,:].plot()\n",
    "ens_evg_fsd.loc[20000:,:].plot()\n",
    "ens_evg_gyr.loc[20000:,:].plot()"
   ]
  },
  {
   "cell_type": "code",
   "execution_count": null,
   "metadata": {},
   "outputs": [],
   "source": [
    "fig, ax = plt.subplots(nrows=1,ncols=1,figsize=(16,9))\n",
    "fontsize = 24\n",
    "color = 'tab:blue'\n",
    "line1, = ax.plot(ens_avg_phi_r.iloc[:,0], markersize=0.1, c=color)\n",
    "#ax.legend()\n",
    "ax.set_xlabel(r\"Cylinder radius ($\\frac{D}{2a}$)\",fontsize=fontsize)\n",
    "ax.set_ylabel(r\"$\\phi_m(r)$\",fontsize=fontsize)\n",
    "ax.tick_params(labelsize=24)\n",
    "\n",
    "ax2 = ax.twinx()\n",
    "color = 'tab:red'\n",
    "line2, = ax2.plot(ens_avg_rho_r.iloc[:,0], rho, markersize=0.1, c=color)\n",
    "ax2.set_ylabel(r\"$\\rho_m(r)$\",fontsize=fontsize)\n",
    "ax2.tick_params(labelsize=24)\n",
    "\n",
    "lines = [line1, line2]\n",
    "\n",
    "ax.legend(lines, [l.get_label() for l in lines],loc=1,ncol=2,fontsize=fontsize)\n",
    "#fig.legend()\n",
    "picname = filename.split(\"_rHists\")[0]+\"_local\"\n",
    "plt.savefig(picname+'.pdf',dpi=300)"
   ]
  },
  {
   "cell_type": "code",
   "execution_count": null,
   "metadata": {},
   "outputs": [],
   "source": [
    "import os\n",
    "for direct in rhist_df.columns:\n",
    "    path = os.path.join(\"./\", direct)\n",
    "    os.mkdir(path)"
   ]
  },
  {
   "cell_type": "code",
   "execution_count": null,
   "metadata": {},
   "outputs": [],
   "source": [
    "fpath = hist_files[24]\n",
    "\n",
    "histo_collections = np.loadtxt(fpath[0],dtype=np.int32)\n",
    "bin_edges = np.around(np.loadtxt(fpath[1]),decimals=2)\n",
    "cell_attrs = PipeLine.cellAttributes(fpath[0],geometry='cylinder',printname=True)\n",
    "filename = cell_attrs.filename\n",
    "cylindrical_shell_integrand = lambda r: 2 * np.pi * cell_attrs.dcyl * r\n",
    "\n",
    "# the sum of rho is not equal to the bulk number density (r=infiity) natom/cell_vol\n",
    "# this arises from the way we descritize the local number desnity.\n",
    "rho = PipeLine.local_number_density(histo_collections, bin_edges, cylindrical_shell_integrand)\n",
    "\n",
    "rmon = cell_attrs.dmon / 2.0\n",
    "bin_centers = np.around((bin_edges[:-1] + bin_edges[1:]) / 2.0,decimals=2)\n",
    "\n",
    "range_of_bins = PipeLine.bin_edge_index(rmon, bin_centers, bin_edges)\n",
    "volume_shares = PipeLine.vol_shares(rmon, bin_centers, bin_edges, range_of_bins, PipeLine.sphere_cylinder_intersection)\n",
    "\n",
    "# the sum of phi is not equal to the bulk volume fraction (r=infiity) natom*vol_per_atom/cell_vol\n",
    "# this arises from the way we descritize the local volume fraction and the way we relate it to the local number density.\n",
    "phi = PipeLine.local_volume_fraction(bin_centers, rho, volume_shares)\n",
    "\n",
    "fig, ax = plt.subplots(nrows=1,ncols=1,figsize=(16,9))\n",
    "\n",
    "fontsize = 24\n",
    "color = 'tab:blue'\n",
    "line1, = ax.plot(bin_centers, phi, label = r\"$\\phi_c(R=\\infty)={:4.2f}$\".format(cell_attrs.vfrc_crowd), markersize=0.1, c=color)\n",
    "#ax.legend()\n",
    "ax.set_xlabel(r\"Cylinder radius ($\\frac{D}{2a}$)\",fontsize=fontsize)\n",
    "ax.set_ylabel(r\"$\\phi_m(r)$\",fontsize=fontsize)\n",
    "ax.tick_params(labelsize=24)\n",
    "\n",
    "ax2 = ax.twinx()\n",
    "color = 'tab:red'\n",
    "line2, = ax2.plot(bin_centers, rho, label = r\"$\\rho_c(R=\\infty)={:4.2f}$\".format(cell_attrs.vfrc_crowd), markersize=0.1, c=color)\n",
    "ax2.set_ylabel(r\"$\\rho_m(r)$\",fontsize=fontsize)\n",
    "ax2.tick_params(labelsize=24)\n",
    "\n",
    "lines = [line1, line2]\n",
    "\n",
    "ax.legend(lines, [l.get_label() for l in lines],loc=1,ncol=2,fontsize=fontsize)\n",
    "#fig.legend()\n",
    "picname = filename.split(\"_rHists\")[0]+\"_local\"\n",
    "plt.savefig(picname+'.pdf',dpi=300)"
   ]
  },
  {
   "cell_type": "code",
   "execution_count": null,
   "metadata": {},
   "outputs": [],
   "source": [
    "fig, ax = plt.subplots(nrows=1,ncols=1)\n",
    "nens = 0\n",
    "hists = 0\n",
    "phi_c = 0.0 \n",
    "\n",
    "for filename in ens_avg_properties.filename:\n",
    "    condition = ens_avg_properties['filename']==filename\n",
    "    for col in rhist_dfs.columns:\n",
    "        if col.split('ens')[0] == filename.split('_ens_avg')[0]:\n",
    "            #print(rhist_dfs[col])\n",
    "            PipeLine.histo_plotter(ax, rhist_dfs[col].values, lambda r: 2 * ens_avg_properties[condition].dcyl / 2.0 * r, rhist_dfs.index.values, label = r\"$\\phi_c={}$\".format(ens_avg_properties[condition].vfrc_crowd), markersize=0.1)\n",
    "    #ens_evg_rhist\n",
    "    \n",
    "#PipeLine.histo_plotter(ax, hists, lambda r: 2 * cell_attrs.dcyl / 2.0 * r, edges, label = r\"$\\phi_c={}$\".format(phi_c), markersize=0.1)\n",
    "ax.legend()\n",
    "ax.set_xlabel(r\"Cylinder radius ($\\frac{D}{2a}$)\")\n",
    "ax.set_xlabel(r\"Cylinder radius ($\\frac{D}{2a}$)\")"
   ]
  },
  {
   "cell_type": "code",
   "execution_count": null,
   "metadata": {},
   "outputs": [],
   "source": []
  }
 ],
 "metadata": {
  "colab": {
   "name": "pipeline_v4.ipynb",
   "provenance": [],
   "version": "0.3.2"
  },
  "kernelspec": {
   "display_name": "Python 3",
   "language": "python",
   "name": "python3"
  },
  "language_info": {
   "codemirror_mode": {
    "name": "ipython",
    "version": 3
   },
   "file_extension": ".py",
   "mimetype": "text/x-python",
   "name": "python",
   "nbconvert_exporter": "python",
   "pygments_lexer": "ipython3",
   "version": "3.8.2"
  }
 },
 "nbformat": 4,
 "nbformat_minor": 4
}
