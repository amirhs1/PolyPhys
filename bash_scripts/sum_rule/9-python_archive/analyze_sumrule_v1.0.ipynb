{
 "cells": [
  {
   "cell_type": "code",
   "execution_count": null,
   "metadata": {
    "colab": {},
    "colab_type": "code",
    "id": "C_CLXSgvVO_9"
   },
   "outputs": [],
   "source": [
    "%matplotlib inline\n",
    "# Importing necessary packages:\n",
    "from glob import glob\n",
    "import pandas as pd\n",
    "import numpy as np\n",
    "\n",
    "import scipy.integrate as integrate\n",
    "import scipy.special as special\n",
    "\n",
    "from sympy import elliptic_pi\n",
    "\n",
    "from PipeLine import *"
   ]
  },
  {
   "cell_type": "code",
   "execution_count": null,
   "metadata": {},
   "outputs": [],
   "source": [
    "ens_files = glob(\"./N*.csv\")\n",
    "geometry = 'cylinder'\n",
    "\n",
    "rhist_name = 'rHists'\n",
    "rhist_files = PipeLine.file_reader(ens_files,extensions=['_rHists.csv','_rEdges.csv'])\n",
    "rhist_dicts = PipeLine.dict_of_ens_dfs(rhist_files,rhist_name,geometry,dtype=int,single=False)\n",
    "ens_evg_dict_rhist = PipeLine.ensemble_avg(rhist_dicts,rhist_name,geometry)\n",
    "\n",
    "zhist_name = 'zHists'\n",
    "zhist_files = PipeLine.file_reader(ens_files,extensions=['_zHists.csv','_zEdges.csv'])\n",
    "zhist_dicts = PipeLine.dict_of_ens_dfs(zhist_files,zhist_name,geometry,dtype=int,single=False)\n",
    "ens_evg_dict_zhist = PipeLine.ensemble_avg(zhist_dicts,zhist_name,geometry)\n",
    "\n",
    "thetahist_name = 'thetaHists'\n",
    "thetahist_files = PipeLine.file_reader(ens_files,extensions=['_thetaHists.csv','_thetaEdges.csv'])\n",
    "thetahist_dicts = PipeLine.dict_of_ens_dfs(thetahist_files,thetahist_name,geometry,dtype=int,single=False)\n",
    "ens_evg_dict_thetahist = PipeLine.ensemble_avg(thetahist_dicts,thetahist_name,geometry)\n",
    "\n",
    "rFloryhist_name = 'rFloryHists'\n",
    "rFloryhist_files = PipeLine.file_reader(ens_files,extensions=['_rFloryHists.csv','_rFloryEdges.csv'])\n",
    "rFloryhist_dicts = PipeLine.dict_of_ens_dfs(rFloryhist_files,rFloryhist_name,geometry,dtype=int,single=False)\n",
    "ens_evg_dict_rFloryhist = PipeLine.ensemble_avg(rFloryhist_dicts,rFloryhist_name,geometry)\n",
    "\n",
    "fsd_name = 'fsd_t'\n",
    "fsd_files = PipeLine.file_reader(ens_files,extensions=['_fsd_t.csv'])\n",
    "fsd_dicts = PipeLine.dict_of_ens_dfs(fsd_files,fsd_name,geometry)\n",
    "ens_evg_dict_fsd = PipeLine.ensemble_avg(fsd_dicts,fsd_name,geometry)\n",
    "\n",
    "gyr_name = 'gyr_t'\n",
    "gyr_files = PipeLine.file_reader(ens_files,extensions=['_gyr_t.csv'])\n",
    "gyr_dicts = PipeLine.dict_of_ens_dfs(gyr_files,gyr_name,geometry)\n",
    "ens_evg_dict_gyr = PipeLine.ensemble_avg(gyr_dicts,gyr_name,geometry)\n",
    "\n",
    "rFlory_name = 'rFlory_t'\n",
    "rFlory_files = PipeLine.file_reader(ens_files,extensions=['_rFlory_t.csv'])\n",
    "rFlory_dicts = PipeLine.dict_of_ens_dfs(rFlory_files,rFlory_name,geometry)\n",
    "ens_evg_dict_rFlory = PipeLine.ensemble_avg(rFlory_dicts,rFlory_name,geometry)\n",
    "\n",
    "properties_name = 'properties'\n",
    "properties_files = PipeLine.file_reader(ens_files,extensions=['_properties.csv'])\n",
    "properties_df = PipeLine.df_of_properties(properties_files, properties_name, geometry)\n",
    "ens_avg_properties = PipeLine.ens_avg_properties(properties_df, properties_name, geometry)\n"
   ]
  },
  {
   "cell_type": "code",
   "execution_count": null,
   "metadata": {},
   "outputs": [],
   "source": [
    "direction = 'cyl_radial'\n",
    "\n",
    "all_rho_r_dicts, all_phi_r_dicts = PipeLine.rho_phi_generator(rhist_dicts, properties_df, geometry, direction)\n",
    "\n",
    "df_name = '-ens_avg'\n",
    "direction = 'cyl_radial'\n",
    "ens_avg_dict_rho_r, ens_avg_dict_phi_r = PipeLine.rho_phi_generator(ens_evg_dict_rhist, ens_avg_properties, geometry, direction, df_name=df_name)"
   ]
  },
  {
   "cell_type": "code",
   "execution_count": null,
   "metadata": {},
   "outputs": [],
   "source": [
    "log_files = glob('../N*ac2-logs/*.log')\n",
    "geometry = 'cylinder'\n",
    "log_files = PipeLine.file_reader(log_files,extensions=['.log'])\n",
    "details_out , runtime_out = PipeLine.log_outputs(log_files[0][0], geometry=geometry)\n",
    "PipeLine.lammps_log_details(log_files, details_out , runtime_out)"
   ]
  }
 ],
 "metadata": {
  "colab": {
   "name": "pipeline_v4.ipynb",
   "provenance": [],
   "version": "0.3.2"
  },
  "kernelspec": {
   "display_name": "Python 3",
   "language": "python",
   "name": "python3"
  },
  "language_info": {
   "codemirror_mode": {
    "name": "ipython",
    "version": 3
   },
   "file_extension": ".py",
   "mimetype": "text/x-python",
   "name": "python",
   "nbconvert_exporter": "python",
   "pygments_lexer": "ipython3",
   "version": "3.8.2"
  }
 },
 "nbformat": 4,
 "nbformat_minor": 4
}
