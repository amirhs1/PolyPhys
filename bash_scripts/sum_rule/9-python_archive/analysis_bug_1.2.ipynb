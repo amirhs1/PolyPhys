{
 "cells": [
  {
   "cell_type": "code",
   "execution_count": null,
   "metadata": {
    "colab": {},
    "colab_type": "code",
    "id": "C_CLXSgvVO_9"
   },
   "outputs": [],
   "source": [
    "from glob import glob\n",
    "from PipeLine import *\n",
    "from dask.distributed import Client\n",
    "from dask import delayed\n",
    "from dask import compute\n",
    "client = Client(n_workers=4)\n",
    "client"
   ]
  },
  {
   "cell_type": "markdown",
   "metadata": {},
   "source": [
    "#### Bugs in  the python version of this file; this notebook work fine.\n",
    "- This notebook cannot convert to a python file since I do not know how to efficently use dask in a *.py* file. I try to solve this issue by configuring ask apprportiately there. Check the file.\n",
    "- Memeroy leak warning and error."
   ]
  },
  {
   "cell_type": "code",
   "execution_count": null,
   "metadata": {},
   "outputs": [],
   "source": [
    "# analyze all the bug groups at once:\n",
    "database = '/Users/amirhsi_mini/' # parent path\n",
    "simulation_type = 'bug' # bug or all\n",
    "input_db_name = \"extraction\"\n",
    "input_sim_groups = glob(database+input_db_name+\"/N*-extraction/\") # Path to bug extraction folders/files\n",
    "output_db_name = \"analysis\"\n",
    "geometry = 'cylindrical'\n",
    "analysis_delayed = []\n",
    "for input_sim_group in input_sim_groups:\n",
    "    analysis = delayed(PipeLine.whole_group_analysis_bug)(input_sim_group, input_db_name, output_db_name, simulation_type, geometry)\n",
    "    analysis_delayed.append(analysis)"
   ]
  },
  {
   "cell_type": "code",
   "execution_count": null,
   "metadata": {},
   "outputs": [],
   "source": [
    "%%time\n",
    "# it takes less than 5 min for 12 simulation groups with 4 workers.\n",
    "results = compute(analysis_delayed)"
   ]
  },
  {
   "cell_type": "markdown",
   "metadata": {},
   "source": [
    "# Properties all_in_one files"
   ]
  },
  {
   "cell_type": "code",
   "execution_count": null,
   "metadata": {},
   "outputs": [],
   "source": [
    "# create one dataframe of all the properties files:\n",
    "database_path = database+output_db_name+\"/\"\n",
    "properties_files = glob(database_path+\"N*-\"+simulation_type+\"-\"+output_db_name+\"/N*-properties.csv\")\n",
    "properties_files = PipeLine.file_reader(properties_files,extensions=['-properties.csv'])\n",
    "properties_all_in_one = PipeLine.all_in_one_properties(properties_files, save_to=database_path, round_to=4, index_col=0)\n",
    "properties_files_ens_avg = glob(database_path+\"N*-\"+simulation_type+\"-\"+output_db_name+\"-ens_avg/N*-properties-ens_avg.csv\")\n",
    "properties_files_ens_avg = PipeLine.file_reader(properties_files_ens_avg,extensions=['-properties-ens_avg.csv'])\n",
    "properties_all_in_one_ens_avg = PipeLine.all_in_one_properties(properties_files_ens_avg, ens_avg=True, norm_func=PipeLine.cylindrical_norm, save_to=database_path, round_to=4, index_col=0)"
   ]
  },
  {
   "cell_type": "code",
   "execution_count": null,
   "metadata": {},
   "outputs": [],
   "source": []
  }
 ],
 "metadata": {
  "colab": {
   "name": "pipeline_v4.ipynb",
   "provenance": [],
   "version": "0.3.2"
  },
  "kernelspec": {
   "display_name": "Python 3 (ipykernel)",
   "language": "python",
   "name": "python3"
  },
  "language_info": {
   "codemirror_mode": {
    "name": "ipython",
    "version": 3
   },
   "file_extension": ".py",
   "mimetype": "text/x-python",
   "name": "python",
   "nbconvert_exporter": "python",
   "pygments_lexer": "ipython3",
   "version": "3.8.12"
  }
 },
 "nbformat": 4,
 "nbformat_minor": 4
}
