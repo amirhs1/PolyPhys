{
 "cells": [
  {
   "cell_type": "code",
   "execution_count": null,
   "metadata": {
    "colab": {},
    "colab_type": "code",
    "id": "C_CLXSgvVO_9"
   },
   "outputs": [],
   "source": [
    "%matplotlib inline\n",
    "# Importing necessary packages:\n",
    "from glob import glob\n",
    "from PipeLine import *"
   ]
  },
  {
   "cell_type": "code",
   "execution_count": null,
   "metadata": {},
   "outputs": [],
   "source": [
    "ens_files = glob(\"./N*.csv\")\n",
    "geometry = 'cylindrical'\n",
    "\n",
    "rhist_name = 'rHists'\n",
    "rhist_files = PipeLine.file_reader(ens_files,extensions=['_rHists.csv','_rEdges.csv'])\n",
    "rhist_dicts = PipeLine.ensemble(rhist_files,rhist_name,geometry,dtype=int,single=False)\n",
    "ens_evg_dict_rhist = PipeLine.group(rhist_dicts,rhist_name,geometry)\n",
    "\n",
    "zhist_name = 'zHists'\n",
    "zhist_files = PipeLine.file_reader(ens_files,extensions=['_zHists.csv','_zEdges.csv'])\n",
    "zhist_dicts = PipeLine.ensemble(zhist_files,zhist_name,geometry,dtype=int,single=False)\n",
    "ens_evg_dict_zhist = PipeLine.group(zhist_dicts,zhist_name,geometry)\n",
    "\n",
    "thetahist_name = 'thetaHists'\n",
    "thetahist_files = PipeLine.file_reader(ens_files,extensions=['_thetaHists.csv','_thetaEdges.csv'])\n",
    "thetahist_dicts = PipeLine.ensemble(thetahist_files,thetahist_name,geometry,dtype=int,single=False)\n",
    "ens_evg_dict_thetahist = PipeLine.group(thetahist_dicts,thetahist_name,geometry)\n",
    "\n",
    "rFloryhist_name = 'rFloryHists'\n",
    "rFloryhist_files = PipeLine.file_reader(ens_files,extensions=['_rFloryHists.csv','_rFloryEdges.csv'])\n",
    "rFloryhist_dicts = PipeLine.ensemble(rFloryhist_files,rFloryhist_name,geometry,dtype=int,single=False)\n",
    "ens_evg_dict_rFloryhist = PipeLine.group(rFloryhist_dicts,rFloryhist_name,geometry)\n",
    "\n",
    "fsd_name = 'fsd_t'\n",
    "fsd_files = PipeLine.file_reader(ens_files,extensions=['_fsd_t.csv'])\n",
    "fsd_dicts = PipeLine.ensemble(fsd_files,fsd_name,geometry)\n",
    "ens_evg_dict_fsd = PipeLine.group(fsd_dicts,fsd_name,geometry)\n",
    "\n",
    "gyr_name = 'gyr_t'\n",
    "gyr_files = PipeLine.file_reader(ens_files,extensions=['_gyr_t.csv'])\n",
    "gyr_dicts = PipeLine.ensemble(gyr_files,gyr_name,geometry)\n",
    "ens_evg_dict_gyr = PipeLine.group(gyr_dicts,gyr_name,geometry)\n",
    "\n",
    "rFlory_name = 'rFlory_t'\n",
    "rFlory_files = PipeLine.file_reader(ens_files,extensions=['_rFlory_t.csv'])\n",
    "rFlory_dicts = PipeLine.ensemble(rFlory_files,rFlory_name,geometry)\n",
    "ens_evg_dict_rFlory = PipeLine.group(rFlory_dicts,rFlory_name,geometry)\n",
    "\n",
    "properties_files = PipeLine.file_reader(ens_files,extensions=['_properties.csv'])\n",
    "properties_df = PipeLine.properties(properties_files, geometry)\n",
    "ens_avg_properties = PipeLine.group_properties(properties_df, geometry,old_naming=False)\n",
    "\n",
    "\n",
    "all_rho_r_dicts, all_phi_r_dicts = PipeLine.distributions_generator(rhist_dicts, properties_df, 'dmon', geometry, 'radial', '')\n",
    "ens_avg_dict_rho_r = PipeLine.group(all_rho_r_dicts,'rRhos',geometry)\n",
    "ens_avg_dict_phi_r = PipeLine.group(all_phi_r_dicts,'rPhis',geometry)\n",
    "\n",
    "all_rho_z_dicts, all_phi_z_dicts = PipeLine.distributions_generator(zhist_dicts, properties_df, 'dmon', geometry, 'longitudinal', '')\n",
    "ens_avg_dict_rho_z = PipeLine.group(all_rho_z_dicts,'zRhos',geometry)\n",
    "ens_avg_dict_phi_z = PipeLine.group(all_phi_z_dicts,'zPhis',geometry)\n",
    "\n",
    "log_files = glob('./N*.log')\n",
    "geometry = 'cylinder'\n",
    "log_files = PipeLine.file_reader(log_files,extensions=['.log'])\n",
    "details_out , runtime_out = PipeLine.log_outputs(log_files[0][0], geometry)\n",
    "PipeLine.lammps_log_details(log_files, details_out , runtime_out)\n"
   ]
  }
 ],
 "metadata": {
  "colab": {
   "name": "pipeline_v4.ipynb",
   "provenance": [],
   "version": "0.3.2"
  },
  "kernelspec": {
   "display_name": "Python 3",
   "language": "python",
   "name": "python3"
  },
  "language_info": {
   "codemirror_mode": {
    "name": "ipython",
    "version": 3
   },
   "file_extension": ".py",
   "mimetype": "text/x-python",
   "name": "python",
   "nbconvert_exporter": "python",
   "pygments_lexer": "ipython3",
   "version": "3.8.8"
  }
 },
 "nbformat": 4,
 "nbformat_minor": 4
}
