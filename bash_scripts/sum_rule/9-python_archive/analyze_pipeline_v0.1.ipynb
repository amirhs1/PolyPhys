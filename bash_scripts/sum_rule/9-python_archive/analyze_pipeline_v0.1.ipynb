{
 "cells": [
  {
   "cell_type": "code",
   "execution_count": null,
   "metadata": {
    "colab": {},
    "colab_type": "code",
    "id": "C_CLXSgvVO_9"
   },
   "outputs": [],
   "source": [
    "%matplotlib inline\n",
    "# Importing necessary packages:\n",
    "import re\n",
    "from glob import glob\n",
    "\n",
    "import scipy.integrate as integrate\n",
    "\n",
    "import numpy as np\n",
    "import datetime\n",
    "import pandas as pd\n",
    "\n",
    "import matplotlib.pyplot as plt\n",
    "import seaborn as sns\n",
    "\n",
    "import time\n",
    "import tracemalloc\n",
    "import cProfile\n",
    "\n",
    "from PolyLine import *\n",
    "np.set_printoptions(precision=17)"
   ]
  },
  {
   "cell_type": "code",
   "execution_count": null,
   "metadata": {},
   "outputs": [],
   "source": [
    "hist_files = glob(\"../N2000D20ac2-not_full_phic-analyze/N*.txt\")\n",
    "hist_files = PolyLine.file_reader(hist_files,extensions=['_rEdges.txt','_rHists.txt'])"
   ]
  },
  {
   "cell_type": "code",
   "execution_count": null,
   "metadata": {},
   "outputs": [],
   "source": [
    "fig, ax = plt.subplots(nrows=1,ncols=1)\n",
    "nens = 0\n",
    "hists = 0\n",
    "phi_c = round(0.2851975308641975,3)\n",
    "for hist_pair in hist_files:\n",
    "    cell_attrs = PolyLine.cellAttributes(hist_pair[0],geometry='cylinder')\n",
    "    if cell_attrs.ncrowd == 23101 and round(cell_attrs.vfrc_crowd,3) == phi_c :\n",
    "        nens = nens + 1\n",
    "        hists = hists + np.loadtxt(hist_pair[0])\n",
    "        edges = np.loadtxt(hist_pair[1])\n",
    "hists = hists / nens\n",
    "PolyLine.histo_plotter(ax, hists, lambda r: 2 * cell_attrs.dcyl / 2.0 * r, edges, label = r\"$\\phi_c={}$\".format(phi_c), markersize=0.1)\n",
    "ax.legend()\n",
    "ax.set_xlabel(r\"Cylinder radius ($\\frac{D}{2a}$)\")\n",
    "ax.set_xlabel(r\"Cylinder radius ($\\frac{D}{2a}$)\")\n",
    "print(nens)"
   ]
  },
  {
   "cell_type": "code",
   "execution_count": null,
   "metadata": {},
   "outputs": [],
   "source": [
    "bin_edges[:10]"
   ]
  },
  {
   "cell_type": "code",
   "execution_count": null,
   "metadata": {},
   "outputs": [],
   "source": [
    "# see quad explantion to relaize why first output of this method is only used.\n",
    "cell_attrs = PolyLine.cellAttributes(hist_files[0][0],geometry='cylinder')\n",
    "histo_collections = hists + np.loadtxt(hist_files[0][0],dtype=np.int32)\n",
    "bin_edges = np.around(np.loadtxt(hist_files[0][1]),decimals=2)\n",
    "bin_size = np.around(bin_edges[1] - bin_edges[0],decimals=2)\n",
    "bin_centers = np.around((bin_edges[:-1] + bin_edges[1:]) / 2.0,decimals=2)\n",
    "integrand = lambda r: 2 * cell_attrs.dcyl / 2.0 * r\n",
    "bin_vols = [integrate.quad(integrand, bin_min ,bin_min + bin_size)[0] for bin_min in bin_edges[:-1]]\n",
    "\n",
    "# the final avareged (and normalized) histogram of a universe:\n",
    "norm_factor = np.sum(histo_collections) # norm_factor = natoms * nframes\n",
    "hists_normed = histo_collections / norm_factor\n",
    "rho = np.divide(hists_normed, bin_vols)"
   ]
  },
  {
   "cell_type": "code",
   "execution_count": null,
   "metadata": {},
   "outputs": [],
   "source": [
    "histo_collections"
   ]
  },
  {
   "cell_type": "code",
   "execution_count": null,
   "metadata": {},
   "outputs": [],
   "source": [
    "bin_edges"
   ]
  },
  {
   "cell_type": "code",
   "execution_count": null,
   "metadata": {},
   "outputs": [],
   "source": [
    "bin_centers"
   ]
  },
  {
   "cell_type": "code",
   "execution_count": null,
   "metadata": {},
   "outputs": [],
   "source": [
    "len(bin_edges)"
   ]
  },
  {
   "cell_type": "code",
   "execution_count": null,
   "metadata": {},
   "outputs": [],
   "source": [
    "dmon = cell_attrs.dmon\n",
    "# this algorithm depends on the binsize=0.1=amon/10=1/10 which is defined in the PipeLine.trj_analyze\n",
    "# so it works only for monomers with diameters that are multiple of amon=1\n",
    "range_of_bins = {}\n",
    "for bin_center in bin_centers:\n",
    "    # set the inner radius of the smallest spherical shell (bin) that intersects with the spherical bead\n",
    "    lower_limit = bin_center - dmon / 2.0\n",
    "    if lower_limit <= 0:\n",
    "        lower_lim_idx = 0\n",
    "    else:\n",
    "        for edge_idx in range(len(bin_edges)-1):\n",
    "            if (lower_limit >= bin_edges[edge_idx]) and (lower_limit < bin_edges[edge_idx+1]):\n",
    "                lower_lim_idx = edge_idx   \n",
    "    # set the inner radius of the largest spherical shell (bin) that intersects with the spherical bead\n",
    "    upper_limit = bin_center + dmon / 2.0\n",
    "    for edge_idx in range(len(bin_edges)-1):\n",
    "        if (upper_limit >= bin_edges[edge_idx]) and (upper_limit < bin_edges[edge_idx+1]):\n",
    "            upper_lim_idx = edge_idx\n",
    "            if upper_lim_idx > (len(bin_edges)-1):\n",
    "                upper_lim_idx = len(bin_edges)-1\n",
    "    range_of_bins[bin_center] = (lower_lim_idx, upper_lim_idx)\n",
    "    # volume of intersection of a spherical bead of diameter dmon located at x = bin_center and,\n",
    "    # a sphere of radius bin_edge located at the origin:\n",
    "    \n",
    "    "
   ]
  },
  {
   "cell_type": "code",
   "execution_count": null,
   "metadata": {},
   "outputs": [],
   "source": [
    "dmon = cell_attrs.dmon\n",
    "volume_shares = {}\n",
    "for bin_center, edge_limits in range_of_bins.items():\n",
    "    d = bin_center\n",
    "    volume_shares[bin_center] = {}\n",
    "    for idx in range(edge_limits[0]+1,edge_limits[1],1):\n",
    "        volume_shares[bin_center][idx]=\n",
    "    "
   ]
  },
  {
   "cell_type": "code",
   "execution_count": null,
   "metadata": {},
   "outputs": [],
   "source": [
    "print(np.where(bin_centers == lower_limit))\n",
    "            #lower_lim_idx = np.where(bin_centers == lower_limit)[0][0]\n",
    "            upper_limit =  round(radius + dmon / 2.0,2)\n",
    "            upper_limit = radius + dmon / 2.0\n",
    "            print(upper_limit)\n",
    "            upper_lim_idx = np.where(bin_centers == upper_limit)[0][0]\n",
    "            #print(upper_lim_idx)\n",
    "            print(bin_edges[lower_lim_idx:upper_lim_idx])     \n",
    "            print(bin_centers[lower_lim_idx:upper_lim_idx-1])     \n",
    "\n",
    "\n",
    "    \n",
    "    \n",
    "    \n",
    "    \n",
    "    for edge_idx in range(len(bin_edges)-1):\n",
    "        if (pos >= bin_edges[edge_idx]) and (pos < bin_edges[edge_idx+1]):\n",
    "            #print(edge_idx)\n",
    "            radius = bin_centers[edge_idx]\n",
    "            print(radius)\n",
    "            lower_limit = radius - dmon / 2.0\n",
    "            print(lower_limit)\n",
    "            if lower_limit < 0:\n",
    "                lower_limit = bin_centers[0]\n",
    "                print(lower_limit)\n",
    "            print(np.where(bin_centers == lower_limit))\n",
    "            #lower_lim_idx = np.where(bin_centers == lower_limit)[0][0]\n",
    "            upper_limit =  round(radius + dmon / 2.0,2)\n",
    "            upper_limit = radius + dmon / 2.0\n",
    "            print(upper_limit)\n",
    "            upper_lim_idx = np.where(bin_centers == upper_limit)[0][0]\n",
    "            #print(upper_lim_idx)\n",
    "            print(bin_edges[lower_lim_idx:upper_lim_idx])     \n",
    "            print(bin_centers[lower_lim_idx:upper_lim_idx-1])     \n",
    "\n"
   ]
  },
  {
   "cell_type": "code",
   "execution_count": null,
   "metadata": {},
   "outputs": [],
   "source": []
  }
 ],
 "metadata": {
  "colab": {
   "name": "pipeline_v4.ipynb",
   "provenance": [],
   "version": "0.3.2"
  },
  "kernelspec": {
   "display_name": "Python 3",
   "language": "python",
   "name": "python3"
  },
  "language_info": {
   "codemirror_mode": {
    "name": "ipython",
    "version": 3
   },
   "file_extension": ".py",
   "mimetype": "text/x-python",
   "name": "python",
   "nbconvert_exporter": "python",
   "pygments_lexer": "ipython3",
   "version": "3.8.2"
  }
 },
 "nbformat": 4,
 "nbformat_minor": 4
}
