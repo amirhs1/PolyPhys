{
 "cells": [
  {
   "cell_type": "code",
   "execution_count": null,
   "id": "08cd009e-fb1f-402e-b933-6c20d7f2681a",
   "metadata": {},
   "outputs": [],
   "source": [
    "from glob import glob\n",
    "import pandas as pd\n",
    "from PipeLine import *\n",
    "from dask.distributed import Client\n",
    "from dask import delayed\n",
    "from dask import compute\n",
    "client = Client(n_workers=4)\n",
    "client"
   ]
  },
  {
   "cell_type": "code",
   "execution_count": null,
   "id": "dc7a34bf-e8cd-444c-960f-f0eed48e4e3c",
   "metadata": {},
   "outputs": [],
   "source": [
    "database = '/Users/amirhsi_mini/'\n",
    "simulation_type = 'all' # bug or all\n",
    "input_db_name = 'extraction'\n",
    "input_sim_groups = glob(database+input_db_name+\"/N*-\"+input_db_name+\"/\")\n",
    "output_db_name = \"analysis\"\n",
    "all_properties_file = database+output_db_name+\"/properties-all_in_one.csv\"\n",
    "all_properties = pd.read_csv(all_properties_file,index_col=0)"
   ]
  },
  {
   "cell_type": "code",
   "execution_count": null,
   "id": "fa0f514e-af1e-4dc3-b08a-cc213efb2452",
   "metadata": {},
   "outputs": [],
   "source": [
    "# use this if there is no \"properties-all_in_one.csv\" file\n",
    "database = '/Users/amirhsi_mini/extraction/'\n",
    "input_db_name = 'extraction'\n",
    "input_sim_groups = glob(database+input_db_name+\"/N*-extraction/*.all*.csv\") # the dot \".\" with\"all\" is crutial.\n",
    "output_db_name = \"analysis\"\n",
    "properties_csvs = glob( database+output_db_name+\"/N*-bug-analysis/N*-properties.csv\")\n",
    "all_properties = []\n",
    "for properties_csv in properties_csvs:\n",
    "    df = pd.read_csv(properties_csv,index_col=0)\n",
    "    all_properties.append(df) \n",
    "all_properties = pd.concat(all_properties)\n",
    "all_properties.reset_index(inplace=True,drop=True)"
   ]
  },
  {
   "cell_type": "code",
   "execution_count": null,
   "id": "947ce252-8db0-4c1d-8325-6628e9de0b35",
   "metadata": {},
   "outputs": [],
   "source": [
    "geometry = 'cylindrical'\n",
    "analysis_delayed = []   \n",
    "for input_sim_group in input_sim_groups: # run over all simulations in all the groups\n",
    "    analysis = delayed(PipeLine.whole_group_analysis_segments)(input_sim_group, input_db_name, output_db_name, simulation_type, all_properties, geometry)\n",
    "    analysis_delayed.append(analysis)"
   ]
  },
  {
   "cell_type": "code",
   "execution_count": null,
   "id": "6f5114f4-ffe5-4045-81d5-0d6954b3cdf6",
   "metadata": {},
   "outputs": [],
   "source": [
    "%%time\n",
    "# it takes around 20 minutes.\n",
    "results = compute(analysis_delayed)"
   ]
  },
  {
   "cell_type": "code",
   "execution_count": null,
   "id": "8211eb48-461b-4c22-a438-6fa0ac5bb37e",
   "metadata": {},
   "outputs": [],
   "source": []
  }
 ],
 "metadata": {
  "kernelspec": {
   "display_name": "Python 3 (ipykernel)",
   "language": "python",
   "name": "python3"
  },
  "language_info": {
   "codemirror_mode": {
    "name": "ipython",
    "version": 3
   },
   "file_extension": ".py",
   "mimetype": "text/x-python",
   "name": "python",
   "nbconvert_exporter": "python",
   "pygments_lexer": "ipython3",
   "version": "3.8.12"
  }
 },
 "nbformat": 4,
 "nbformat_minor": 5
}
