{
 "cells": [
  {
   "cell_type": "code",
   "execution_count": null,
   "metadata": {
    "colab": {},
    "colab_type": "code",
    "id": "C_CLXSgvVO_9"
   },
   "outputs": [],
   "source": [
    "# Importing necessary packages:\n",
    "import re\n",
    "import os\n",
    "from glob import glob\n",
    "\n",
    "import math\n",
    "import numpy as np\n",
    "import datetime\n",
    "import pandas as pd\n",
    "import datetime as dt\n",
    "\n",
    "import matplotlib.pyplot as plt\n",
    "import matplotlib as mpl\n",
    "from matplotlib import rcParams, cycler\n",
    "import matplotlib.lines as lines\n",
    "from collections import OrderedDict\n",
    "from matplotlib.legend import Legend\n",
    "import matplotlib.patches as mpatches\n",
    "import matplotlib.lines as mlines\n",
    "\n",
    "\n",
    "\n",
    "import seaborn as sns\n",
    "\n",
    "import scipy.integrate as integrate\n",
    "import scipy.special as special\n",
    "\n",
    "from sympy import elliptic_pi\n",
    "\n",
    "from PipeLine import *"
   ]
  },
  {
   "cell_type": "code",
   "execution_count": null,
   "metadata": {},
   "outputs": [],
   "source": [
    "properties_path = \"../sumrule_data/properties-ens_avg-all_in_one.csv\"\n",
    "properties_ens_avg = pd.read_csv(properties_path,header=0)"
   ]
  },
  {
   "cell_type": "code",
   "execution_count": null,
   "metadata": {},
   "outputs": [],
   "source": [
    "csv_files = glob(\"../sumrule_data/N*-analyze_bug/N*.csv\")\n",
    "property_files = PipeLine.file_reader(csv_files,extensions=['-properties.csv'])\n",
    "properties_all_in_one = PipeLine.all_dfs_in_one(property_files, 'properties', index_col=0)\n",
    "property_files = PipeLine.file_reader(csv_files,extensions=['-properties-ens_avg.csv'])\n",
    "properties_all_in_one_ens_avg = PipeLine.all_dfs_in_one(property_files,'properties', ens_avg=True, norm_func=PipeLine.cyl_sumrule_norms_ens_evg, index_col=0)"
   ]
  },
  {
   "cell_type": "code",
   "execution_count": null,
   "metadata": {},
   "outputs": [],
   "source": [
    "#vfrc_crowds = list(ens_avg_properties_df.vfrc_crowd.sort_values().drop_duplicates())\n",
    "#vfrc_colors = sns.color_palette(\"coolwarm\", len(vfrc_crowds))\n",
    "dcrowds = list(properties_ens_avg.dcrowd.sort_values().drop_duplicates())\n",
    "dcyls = list(properties_ens_avg.dcyl.sort_values().drop_duplicates())\n",
    "nmons = list(properties_ens_avg.nmon.sort_values().drop_duplicates())\n",
    "phi_c_selected = [0.1,0.2,0.3,0.4]\n",
    "\n",
    "line_styles = ['--',':','-.',(0, (3, 1, 1, 1, 1, 1))]\n",
    "ls_cycle = cycler('ls', line_styles) # equal to len(dcrowds)\n",
    "\n",
    "line_widths = np.arange(1,3,1)\n",
    "lw_cycle = cycler('lw', line_widths) # equal to len(nmons\n",
    "\n",
    "marker_names = [r'$\\frac{\\phi_c(r)}{a_c}$',r'$\\frac{\\phi_m(r)}{a}$',r'$\\sum\\frac{\\phi_i(r)}{a_i}$']\n",
    "marker_styles = 'os^'\n",
    "marker_cycle = cycler('marker',marker_styles)\n",
    "\n",
    "phi_c_colors_selected = sns.color_palette(\"Set2\", len(phi_c_selected))#,as_cmap=True)\n",
    "#vfrc_colors_selected = sns.color_palette(\"hls\", len(vfrc_crowds_selected))#,as_cmap=True)\n",
    "phi_c_colors_selected"
   ]
  },
  {
   "cell_type": "code",
   "execution_count": null,
   "metadata": {},
   "outputs": [],
   "source": [
    "# chain size plot\n",
    "fontsize=20\n",
    "colors = sns.color_palette(n_colors=4, palette=\"Set2\", desat=1)\n",
    "leg_labels = [r'$\\frac{D}{a}$ (Line color)', '15.0', '20.0', '25.0','30.0', r'$N$ (Line size)', 1000, 2000, r'$\\frac{a_c}{a}$ (Marker type)', '1.0', '2.0', '4.0']\n",
    "PipeLine.chainsize_plot(properties_ens_avg, \"phi_c_eff\", leg_labels, colors, fontsize=fontsize)\n",
    "PipeLine.chainsize_plot(properties_ens_avg, \"phi_c\", leg_labels, colors, fontsize=fontsize)\n",
    "PipeLine.chainsize_plot(properties_ens_avg, \"phi_c_eff_normalized\", leg_labels, colors, fontsize=fontsize)\n",
    "PipeLine.chainsize_plot(properties_ens_avg, \"phi_c_normalized\", leg_labels, colors, fontsize=fontsize)"
   ]
  },
  {
   "cell_type": "code",
   "execution_count": null,
   "metadata": {},
   "outputs": [],
   "source": [
    "rphis_path = \"../sumrule_data/rPhis-ens_avg-all_in_one.csv\"\n",
    "rPhis_ens_avg = pd.read_csv(rphis_path ,header=0,index_col=0)\n",
    "rPhis_selected_phic = rPhis_ens_avg[rPhis_ens_avg['phi_c'].isin(phi_c_selected)]\n",
    "rPhis_ens_avg.dcrowd.drop_duplicates()"
   ]
  },
  {
   "cell_type": "code",
   "execution_count": null,
   "metadata": {},
   "outputs": [],
   "source": [
    "   sns.set_context('paper')\n",
    "    sns.set_style(\"ticks\")\n",
    "    fig, axes = plt.subplots(nrows=3,ncols=1,sharex=True,figsize=(16,12))\n",
    "    line1 = sns.lineplot(x=xcol, y=\"fsd_normalized\", hue='dcyl',style='dcrowd', size='nmon', palette=colors, markers=True, markersize=8, data=df,ax=axes[0])\n",
    "    line2 = sns.lineplot(x=xcol, y=\"gyr_normalized\", hue='dcyl',style='dcrowd', size='nmon', palette=colors, markers=True, markersize=8, data=df, legend=False,ax=axes[1])\n",
    "    line3 = sns.lineplot(x=xcol, y=\"rflory_normalized\", hue='dcyl',style='dcrowd', size='nmon', palette=colors, markers=True, markersize=8, data=df, legend=False,ax=axes[2])\n",
    "\n",
    "    xlabels = {\"vfrc_crowd\":r\"$\\phi_c$\",\"vfrc_c_normalized\":r\"${a\\phi_c}/{a_c}$\",\"vfrc_crowd_eff\":r\"$\\phi_c^{eff}$\",\n",
    "               \"vfrc_c_eff_normalized\":r\"${a\\phi_c^{eff}}/{a_c}$\"}\n",
    "    ylabels = {\"vfrc_crowd\":[r'$\\frac{L_{FSD}(\\phi_c)}{L_{FSD}(0)}$',r'$\\frac{R_{ROG}(\\phi_c)}{R_{ROG}(0)}$',r'$\\frac{R_{Flory}(\\phi_c)}{R_{Flory}(0)}$'],\n",
    "               \"vfrc_crowd_eff\":[r'$\\frac{L_{FSD}(\\phi_c)}{L_{FSD}(0)}$',r'$\\frac{R_{ROG}(\\phi_c)}{R_{ROG}(0)}$',r'$\\frac{R_{Flory}(\\phi_c)}{R_{Flory}(0)}$'],\n",
    "              \"vfrc_c_normalized\":[r'$\\frac{L_{FSD}({a\\phi_c}/{a_c})}{L_{FSD}(0)}$',r'$\\frac{R_{ROG}({a\\phi_c}/{a_c})}{R_{ROG}(0)}$',r'$\\frac{R_{Flory}({a\\phi_c}/{a_c})}{R_{Flory}(0)}$'],\n",
    "              \"vfrc_c_eff_normalized\":[r'$\\frac{L_{FSD}({a\\phi_c}/{a_c})}{L_{FSD}(0)}$',r'$\\frac{R_{ROG}({a\\phi_c}/{a_c})}{R_{ROG}(0)}$',r'$\\frac{R_{Flory}({a\\phi_c}/{a_c})}{R_{Flory}(0)}$']}\n",
    "\n",
    "    for num, axis in enumerate(axes):\n",
    "        axis.grid(True,ls=':',lw=1)\n",
    "        axis.tick_params(axis ='both',direction='inout',width=1)\n",
    "        axis.set_ylabel(ylabels[xcol][num],fontsize=fontsize)\n",
    "        yticks(axis,(0,1.0,0.2,0.04),code=True,fontsize=14)\n",
    "\n",
    "    xticks_dict = {\"vfrc_crowd\":(0.0,0.4,0.05,0.005),\n",
    "                   \"vfrc_c_normalized\":(0.0,0.4,0.05,0.005),\n",
    "                   \"vfrc_crowd_eff\":(0.0,0.65,0.05,0.005),\n",
    "                   \"vfrc_c_eff_normalized\":(0.0,0.5,0.05,0.005)}\n",
    "    \n",
    "    xticks(axes[2],xticks_dict[xcol],code=True,fontsize=14)\n",
    "    change_legend_name(line1,leg_labels)\n",
    "    line3.set_xlabel(xlabels[xcol],fontsize=fontsize)\n",
    "\n",
    "    picname = \"chainsize-\"+xcol\n",
    "    plt.savefig(picname+'.pdf',dpi=300,bbox_inches='tight')"
   ]
  },
  {
   "cell_type": "code",
   "execution_count": null,
   "metadata": {},
   "outputs": [],
   "source": [
    "Ax = dcrowd_grid.axes[0]\n",
    "Boxes = [item for item in Ax.get_children()\n",
    "         if isinstance(item, mpl.patches.Rectangle)]\n",
    "Boxes"
   ]
  },
  {
   "cell_type": "code",
   "execution_count": null,
   "metadata": {},
   "outputs": [],
   "source": [
    "rPhis_selected_phic.columns"
   ]
  },
  {
   "cell_type": "code",
   "execution_count": null,
   "metadata": {},
   "outputs": [],
   "source": [
    "#fig, axes = plt.subplots(nrows=2,ncols=2,figsize=(16,12))\n",
    "fontsize=22\n",
    "\n",
    "dcrowd_grid = sns.FacetGrid(rPhis_selected_phic, col='dcrowd',col_wrap=2,sharey=False,height=6,legend_out=True)\n",
    "#dcrowd_grid = sns.relplot(x=\"r_norm\", y=\"phi_r_norm_sum\",kind=\"line\",hue='phi_c',palette=\"Set2\",col='dcrowd',col_wrap=2,style='dcyl',data=rPhis_selected_phic,alpha=0.7,legend=False)\n",
    "dcrowd_grid.map_dataframe(sns.lineplot, x=\"r_norm\", y=\"phi_r_norm_sum_eff\",hue='phi_c',palette=\"Set2\",style='dcyl',data=rPhis_selected_phic,alpha=0.7,legend=False)\n",
    "#dcrowd_grid.map_dataframe(sns.lineplot, x=\"r_norm\", y=\"sum_rule_phi_eff_norm\",hue='phi_c',palette=\"Set2\",style='dcyl',data=rPhis_selected_phic,alpha=0.7,legend=False)\n",
    "\n",
    "color_patches = PipeLine.color_patcher(phi_c_colors_selected)\n",
    "color_legend = Legend(dcrowd_grid.axes[0],handles=color_patches,labels= phi_c_selected,title=r'$\\phi_c$ (color)',ncol=2,\n",
    "                      title_fontsize=fontsize-4,fontsize=fontsize-6,framealpha=None,frameon=False,loc='upper right')#,bbox_to_anchor=(1.02,-0.02))\n",
    "dcrowd_grid.axes[0].add_artist(color_legend)\n",
    "dcrowd_grid.tight_layout()\n",
    "#marker_handles = PipeLine.marker_handler(marker_names,marker_styles,fillstyle='none',markersize=10)\n",
    "#dcrowd_grid.axes[3].legend(handles=marker_handles, title=r'Local volume fraction (marker style)', ncol=3, title_fontsize=fontsize-6,\n",
    " #              fontsize=fontsize-6, framealpha=None, frameon=False, loc='upper right')"
   ]
  },
  {
   "cell_type": "code",
   "execution_count": null,
   "metadata": {},
   "outputs": [],
   "source": [
    "dcyl_grid = sns.relplot(x=\"r_norm\", y=\"phi_r_norm_sum_eff\",kind=\"line\",hue='phi_c',palette=\"Set2\",\n",
    "            col='dcyl',col_wrap=2,style='dcrowd',data=rPhis_selected_phic,alpha=0.7)"
   ]
  },
  {
   "cell_type": "code",
   "execution_count": null,
   "metadata": {},
   "outputs": [],
   "source": [
    "phic_grid_dcrowd_color = sns.relplot(x=\"r_norm\", y=\"phi_r_norm_sum_eff\",kind=\"line\",hue='dcrowd',palette=\"Set2\",\n",
    "            col='phi_c',col_wrap=2,style='dcyl',data=rPhis_selected_phic,alpha=0.7)"
   ]
  },
  {
   "cell_type": "code",
   "execution_count": null,
   "metadata": {},
   "outputs": [],
   "source": [
    "phic_grid_dcyl_color = sns.relplot(x=\"r_norm\", y=\"phi_r_norm_sum_eff\",kind=\"line\",hue='dcyl',palette=\"Set2\",\n",
    "            col='phi_c',col_wrap=2,style='dcrowd',data=rPhis_selected_phic,alpha=0.7)"
   ]
  },
  {
   "cell_type": "code",
   "execution_count": null,
   "metadata": {},
   "outputs": [],
   "source": [
    "rPhis_df_sel_dcrowds1 = rPhis_ens_avg_df[(rPhis_ens_avg_df['phi_c'].isin([0.1,0.2,0.3,0.4])) & (rPhis_ens_avg_df['dcrowd']==2.0)]\n",
    "rPhis_df_sel_dcrowds2 = rPhis_ens_avg_df[(rPhis_ens_avg_df['phi_c'].isin([0.1,0.2,0.3,0.4])) & (rPhis_ens_avg_df['dcrowd'] == 4.0) & (rPhis_ens_avg_df['dcyl'] == 30.0)]\n",
    "rPhis_df_sel_dcrowds = pd.concat([rPhis_df_sel_dcrowds1,rPhis_df_sel_dcrowds2],axis=0)\n",
    "rPhis_df_sel_dcrowds.reset_index(inplace=True,drop=True)\n",
    "rPhis_df_sel_dcrowds.info()"
   ]
  },
  {
   "cell_type": "code",
   "execution_count": null,
   "metadata": {},
   "outputs": [],
   "source": [
    "yaxes_grid = sns.FacetGrid(rPhis_df_sel_dcrowds, col='dcyl',col_wrap=2,sharey=False,height=6,legend_out=True)\n",
    "yaxes_grid.map_dataframe(sns.lineplot, x=\"r_norm\", y=\"phi_r_norm_c\",hue='vfrc_crowd',lw=1,ls='--',marker='o',markersize=7,markevery=10,palette=\"Set2\")\n",
    "yaxes_grid.map_dataframe(sns.lineplot, x=\"r_norm\", y=\"phi_r_norm_m\",hue='vfrc_crowd',lw=1,ls=':',marker='s',markersize=7,markevery=10,palette=\"Set2\")\n",
    "yaxes_grid.map_dataframe(sns.lineplot, x=\"r_norm\", y=\"phi_r_norm_sum\",hue='vfrc_crowd',lw=1,ls='-.',marker='^',markersize=7,markevery=10,palette=\"Set2\",legend='full')\n",
    "yaxes_grid.tight_layout()\n",
    "#yaxes_grid.map_dataframe(sns.lineplot, x=\"r_norm\", y=\"phi_r_norm_sum\")\n",
    "#yaxes_grid.map_dataframe(sns.lineplot, x=\"r_norm\", y=\"phi_r_norm_sum\")\n",
    "#yaxes_grid = sns.relplot(x=\"r_norm\", y=\"phi_r_norm_sum\",kind=\"line\",hue='vfrc_crowd',palette=\"Set2\",\n",
    " #           col='dcyl',col_wrap=2,style='dcrowd',marker='s',markersize=7,markevery=10,data=rPhis_df_sel_dcrowds,alpha=0.7)"
   ]
  },
  {
   "cell_type": "markdown",
   "metadata": {},
   "source": [
    "## The sum rule in the radial direction:"
   ]
  },
  {
   "cell_type": "markdown",
   "metadata": {},
   "source": [
    "### 1. $a_c$ as subplots"
   ]
  },
  {
   "cell_type": "markdown",
   "metadata": {},
   "source": [
    "### 2. $D$ as sub-plots"
   ]
  },
  {
   "cell_type": "markdown",
   "metadata": {},
   "source": [
    "### 3. $\\phi_c$ as sub-plots"
   ]
  },
  {
   "cell_type": "code",
   "execution_count": null,
   "metadata": {},
   "outputs": [],
   "source": [
    "def sumrule_line(vfrc_cs,dcrowds,direction):\n",
    "    sumrule = [vfrc_c/dcrowd for vfrc_c, dcrowd in zip([vfrc_cs],[dcrowds])]\n",
    "    sumrule = np.ones((len(direction),2)) * sumrule\n",
    "    sumrule[:,0] = direction\n",
    "    return sumrule\n",
    "jafar = sumrule_line(0.3,2,rPhis_selected_phic['r_norm'].to_numpy())\n",
    "fig, axis = plt.subplots(nrows=1,ncols=1,figsize=(16,12),sharey='row')\n",
    "axis.plot(jafar[:,0],jafar[:,1])"
   ]
  },
  {
   "cell_type": "code",
   "execution_count": null,
   "metadata": {},
   "outputs": [],
   "source": [
    "all_files = glob(\"../sumrule_data/*ac2.0-analyze_all/N*.csv\") + glob(\"../sumrule_data/*ac4.0-analyze_all/N*.csv\")\n",
    "xname = 'r'\n",
    "yname = 'phi_r'\n",
    "xnorm = 'dcyl'\n",
    "ynorm = 'phi'\n",
    "ext=['-rPhisCrd-ens_avg.csv']\n",
    "rPhisCrd_ens_avg_csvs = PipeLine.file_reader(all_files,extensions=ext)\n",
    "ext=['-rPhisMon-ens_avg.csv']\n",
    "rPhisMon_ens_avg_csvs = PipeLine.file_reader(all_files,extensions=ext)\n",
    "rPhis_ens_avg_dfs = organize_hists_ens_evg(rPhisCrd_ens_avg_csvs,rPhisMon_ens_avg_csvs,xname,yname,xnorm,ynorm)\n",
    "\n",
    "dcyls = [25.0,20.0,15.0,30.0]\n",
    "dcrowds = [2.0,2.0,2.0,4.0]"
   ]
  },
  {
   "cell_type": "code",
   "execution_count": null,
   "metadata": {},
   "outputs": [],
   "source": [
    "xname='r_norm_c'\n",
    "yname='phi_r_norm'\n",
    "fig, axes = plt.subplots(nrows=2,ncols=2,figsize=(16,12))\n",
    "rcParams['axes.prop_cycle'] = cycler(color=vfrc_colors_selected) \n",
    "axes = axes.flatten()\n",
    "fontsize=22\n",
    "\n",
    "for idx, (dcrowd, dcyl, axis) in enumerate(zip(dcrowds,dcyls,axes)):\n",
    "    axis.set_title(r'${D}/{a}=$'+'${}$'.format(dcyl)+'$,{a_c}/{a}=$'+'${}$'.format(dcrowd)+r': $\\kappa=$'+'${:.2f}$'.format(dcrowd/(dcyl-dcrowd)),fontsize=fontsize)\n",
    "    axis2 = axis.twinx()\n",
    "    axis2.set_ylabel(r'$\\sum{\\phi_i(r)}/{a_i}$',fontsize=fontsize-3)\n",
    "    axis.grid(True,ls=':',lw=1)\n",
    "    axis.tick_params(axis ='both',direction='in')\n",
    "\n",
    "    if idx == 0:\n",
    "        PipeLine.yticks(axis,(0.0,0.015,0.003,0.0006),code=True,fontsize=fontsize-6)\n",
    "        PipeLine.yticks(axis2,(0.0,0.015,0.003,0.0006),code=True,fontsize=fontsize-6)\n",
    "    elif idx == 1: \n",
    "        PipeLine.yticks(axis,(0.0,0.02,0.004,0.0008),code=True,fontsize=fontsize-6)\n",
    "        PipeLine.yticks(axis2,(0.0,0.02,0.004,0.0008),code=True,fontsize=fontsize-6)\n",
    "    elif idx == 2: \n",
    "        PipeLine.yticks(axis,(0.0,0.03,0.005,0.001),code=True,fontsize=fontsize-6)\n",
    "        PipeLine.yticks(axis2,(0.0,0.03,0.005,0.001),code=True,fontsize=fontsize-6)  \n",
    "    else:\n",
    "        PipeLine.yticks(axis,(0.0,0.015,0.003,0.0006),code=True,fontsize=fontsize-6)\n",
    "        PipeLine.yticks(axis2,(0.0,0.015,0.003,0.0006),code=True,fontsize=fontsize-6) \n",
    "    axis.set_ylabel(r'$\\phi_i(r)$',fontsize=fontsize-3)\n",
    "    axis.set_xlabel(r'${2r}/{D}$',fontsize=fontsize-3)\n",
    "    PipeLine.xticks(axis,(0.0,1.0,0.2,0.02),code=True,fontsize=fontsize-6)\n",
    "\n",
    "\n",
    "    lines = []\n",
    "    for keyname, rPhi_ens_avg in rPhis_ens_avg_dfs.items():\n",
    "        cell_attrs = PipeLine.cellAttributes(keyname,warning=False)\n",
    "        vfrc_crowd_dummy = np.round(cell_attrs.vfrc_crowd,decimals=3)\n",
    "        if (cell_attrs.dcyl == dcyl) and (cell_attrs.dcrowd == dcrowd) and (vfrc_crowd_dummy in vfrc_crowds_selected):\n",
    "            line = axis.plot(xname,yname+'_c', data=rPhi_ens_avg, marker='o', fillstyle='none', markevery=10, markersize=10, alpha=1,ls=':')\n",
    "            line = axis.plot(xname,yname+'_m', data=rPhi_ens_avg, marker='s', fillstyle='none', markevery=10, markersize=10, alpha=1,ls='--')\n",
    "            line = axis.plot(xname,yname+'_sum', data=rPhi_ens_avg, marker='^', fillstyle='none', markevery=10, markersize=10, alpha=1)\n",
    "            lines += line\n",
    "\n",
    "color_patches = PipeLine.color_patcher(vfrc_colors_selected)\n",
    "color_legend = Legend(axes[0],handles=color_patches,labels= vfrc_crowds_selected,title=r'$\\phi_c$ (color)',ncol=2,\n",
    "                      title_fontsize=fontsize-4,fontsize=fontsize-6,framealpha=None,frameon=False,loc='upper right')#,bbox_to_anchor=(1.02,-0.02))\n",
    "axes[0].add_artist(color_legend)\n",
    "\n",
    "marker_handles = PipeLine.marker_handler(marker_names,marker_styles,fillstyle='none',markersize=10)\n",
    "axes[3].legend(handles=marker_handles, title=r'Local volume fraction (marker style)', ncol=3, title_fontsize=fontsize-6,\n",
    "               fontsize=fontsize-6, framealpha=None, frameon=False, loc='upper right')\n",
    "\n",
    "fig.tight_layout()\n",
    "plt.tight_layout()\n",
    "today = dt.date.today().strftime('%Y%m%d')\n",
    "fname = \"phic_local-grid_dcyl-all-selected_crowd-\"+yname+'-'+today+\".pdf\"\n",
    "plt.savefig(fname,dpi=200)"
   ]
  },
  {
   "cell_type": "code",
   "execution_count": null,
   "metadata": {},
   "outputs": [],
   "source": [
    "all_files = glob(\"../sumrule_data/*D25.0ac*-analyze_all/N*.csv\") + glob(\"../sumrule_data/*D30.0ac6.0-analyze_all/N*.csv\")\n",
    "xname = 'r'\n",
    "yname = 'phi_r'\n",
    "xnorm = 'dcyl'\n",
    "ynorm = 'phi'\n",
    "ext=['-rPhisCrd-ens_avg.csv']\n",
    "rPhisCrd_ens_avg_csvs = PipeLine.file_reader(all_files,extensions=ext)\n",
    "ext=['-rPhisMon-ens_avg.csv']\n",
    "rPhisMon_ens_avg_csvs = PipeLine.file_reader(all_files,extensions=ext)\n",
    "rPhis_ens_avg_dfs = organize_hists_ens_evg(rPhisCrd_ens_avg_csvs,rPhisMon_ens_avg_csvs,xname,yname,xnorm,ynorm)\n",
    "\n",
    "dcyls = [25.0,25.0,25.0,30.0]\n",
    "dcrowds = [1.0,2.0,4.0,6.0]"
   ]
  },
  {
   "cell_type": "code",
   "execution_count": null,
   "metadata": {},
   "outputs": [],
   "source": [
    "xname='r_norm_c'\n",
    "yname='phi_r_norm'\n",
    "fig, axes = plt.subplots(nrows=2,ncols=2,figsize=(16,12))\n",
    "rcParams['axes.prop_cycle'] = cycler(color=vfrc_colors_selected) \n",
    "axes = axes.flatten()\n",
    "fontsize=22\n",
    "\n",
    "\n",
    "for idx, (dcrowd, dcyl, axis) in enumerate(zip(dcrowds,dcyls,axes)):\n",
    "    axis.set_title(r'${D}/{a}=$'+'${}$'.format(dcyl)+'$,{a_c}/{a}=$'+'${}$'.format(dcrowd)+r': $\\kappa=$'+'${:.2f}$'.format(dcrowd/(dcyl-dcrowd)),fontsize=fontsize)\n",
    "    axis2 = axis.twinx()\n",
    "    axis2.set_ylabel(r'$\\sum{\\phi_i(r)}/{a_i}$',fontsize=fontsize-3)\n",
    "    axis.grid(True,ls=':',lw=1)\n",
    "    axis.tick_params(axis ='both',direction='in')\n",
    "\n",
    "    if idx == 0:\n",
    "        PipeLine.yticks(axis,(0.0,0.015,0.003,0.0003),code=True,fontsize=fontsize-6)\n",
    "        PipeLine.yticks(axis2,(0.0,0.015,0.003,0.0003),code=True,fontsize=fontsize-6)\n",
    "    elif idx == 1: \n",
    "        PipeLine.yticks(axis,(0.0,0.015,0.003,0.0003),code=True,fontsize=fontsize-6)\n",
    "        PipeLine.yticks(axis2,(0.0,0.015,0.003,0.0003),code=True,fontsize=fontsize-6)\n",
    "    elif idx == 2: \n",
    "        PipeLine.yticks(axis,(0.0,0.015,0.003,0.0003),code=True,fontsize=fontsize-6)\n",
    "        PipeLine.yticks(axis2,(0.0,0.015,0.003,0.0003),code=True,fontsize=fontsize-6)  \n",
    "    else:\n",
    "        PipeLine.yticks(axis,(0.0,0.015,0.003,0.0003),code=True,fontsize=fontsize-6)\n",
    "        PipeLine.yticks(axis2,(0.0,0.015,0.003,0.0003),code=True,fontsize=fontsize-6) \n",
    "    axis.set_ylabel(r'$\\phi_i(r)$',fontsize=fontsize-3)\n",
    "    axis.set_xlabel(r'${2r}/{D}$',fontsize=fontsize-3)\n",
    "    PipeLine.xticks(axis,(0.0,1.0,0.2,0.02),code=True,fontsize=fontsize-6)\n",
    "\n",
    "\n",
    "    lines = []\n",
    "    for keyname, rPhi_ens_avg in rPhis_ens_avg_dfs.items():\n",
    "        cell_attrs = PipeLine.cellAttributes(keyname,warning=False)\n",
    "        vfrc_crowd_dummy = np.round(cell_attrs.vfrc_crowd,decimals=3)\n",
    "        if (cell_attrs.dcyl == dcyl) and (cell_attrs.dcrowd == dcrowd) and (vfrc_crowd_dummy in vfrc_crowds_selected):\n",
    "            line = axis.plot(xname,yname+'_c', data=rPhi_ens_avg, marker='o', fillstyle='none', markevery=10, markersize=10, alpha=1,ls=':')\n",
    "            line = axis.plot(xname,yname+'_m', data=rPhi_ens_avg, marker='s', fillstyle='none', markevery=10, markersize=10, alpha=1,ls='--')\n",
    "            line = axis.plot(xname,yname+'_sum', data=rPhi_ens_avg, marker='^', fillstyle='none', markevery=10, markersize=10, alpha=1)\n",
    "            lines += line\n",
    "\n",
    "color_patches = PipeLine.color_patcher(vfrc_colors_selected)\n",
    "color_legend = Legend(axes[0],handles=color_patches,labels= vfrc_crowds_selected,title=r'$\\phi_c$ (color)',ncol=2,\n",
    "                      title_fontsize=fontsize-4,fontsize=fontsize-6,framealpha=None,frameon=False,loc='upper right')#,bbox_to_anchor=(1.02,-0.02))\n",
    "axes[0].add_artist(color_legend)\n",
    "\n",
    "marker_handles = PipeLine.marker_handler(marker_names,marker_styles,fillstyle='none',markersize=10)\n",
    "axes[3].legend(handles=marker_handles, title=r'Local volume fraction (marker style)', ncol=3, title_fontsize=fontsize-6,\n",
    "               fontsize=fontsize-6, framealpha=None, frameon=False, loc='upper right')\n",
    "\n",
    "fig.tight_layout()\n",
    "plt.tight_layout()\n",
    "today = dt.date.today().strftime('%Y%m%d')\n",
    "fname = \"phic_local-grid_dcrowd-all-selected_dcyl-\"+yname+'-'+today+\".pdf\"\n",
    "plt.savefig(fname,dpi=200)"
   ]
  },
  {
   "cell_type": "code",
   "execution_count": null,
   "metadata": {},
   "outputs": [],
   "source": []
  }
 ],
 "metadata": {
  "colab": {
   "name": "pipeline_v4.ipynb",
   "provenance": [],
   "version": "0.3.2"
  },
  "kernelspec": {
   "display_name": "Python 3",
   "language": "python",
   "name": "python3"
  },
  "language_info": {
   "codemirror_mode": {
    "name": "ipython",
    "version": 3
   },
   "file_extension": ".py",
   "mimetype": "text/x-python",
   "name": "python",
   "nbconvert_exporter": "python",
   "pygments_lexer": "ipython3",
   "version": "3.8.8"
  }
 },
 "nbformat": 4,
 "nbformat_minor": 4
}
