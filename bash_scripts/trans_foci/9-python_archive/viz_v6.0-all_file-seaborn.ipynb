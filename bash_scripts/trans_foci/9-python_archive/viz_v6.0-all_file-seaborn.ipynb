{
 "cells": [
  {
   "cell_type": "code",
   "execution_count": 1,
   "metadata": {
    "colab": {},
    "colab_type": "code",
    "id": "C_CLXSgvVO_9"
   },
   "outputs": [],
   "source": [
    "# Importing necessary packages:\n",
    "import re\n",
    "import os\n",
    "from glob import glob\n",
    "\n",
    "import math\n",
    "import numpy as np\n",
    "import datetime\n",
    "import pandas as pd\n",
    "import datetime as dt\n",
    "\n",
    "import matplotlib.pyplot as plt\n",
    "import matplotlib as mpl\n",
    "from matplotlib import rcParams, cycler\n",
    "import matplotlib.lines as lines\n",
    "from collections import OrderedDict\n",
    "from matplotlib.legend import Legend\n",
    "import matplotlib.patches as mpatches\n",
    "import matplotlib.lines as mlines\n",
    "\n",
    "\n",
    "\n",
    "import seaborn as sns\n",
    "\n",
    "import scipy.integrate as integrate\n",
    "import scipy.special as special\n",
    "\n",
    "from sympy import elliptic_pi\n",
    "\n",
    "from PipeLine import *"
   ]
  },
  {
   "cell_type": "code",
   "execution_count": null,
   "metadata": {},
   "outputs": [],
   "source": [
    "bug_files = glob(\"../sumrule_data/N*-analyze_bug/N*.csv\")\n",
    "geometry = 'cylinder'\n",
    "df_name = 'all_in_one-ens_avg'\n",
    "ext=['-properties-ens_avg.csv']\n",
    "ens_evg_properties_files = PipeLine.file_reader(bug_files,extensions=ext)\n",
    "filename = 'properties-ens_avg-all_in_one'\n",
    "ens_avg_properties_df = PipeLine.all_in_one_properties(ens_evg_properties_files,df_name,geometry,filename=filename,round_to=4)"
   ]
  },
  {
   "cell_type": "code",
   "execution_count": null,
   "metadata": {},
   "outputs": [],
   "source": [
    "#vfrc_crowds = list(ens_avg_properties_df.vfrc_crowd.sort_values().drop_duplicates())\n",
    "#vfrc_colors = sns.color_palette(\"coolwarm\", len(vfrc_crowds))\n",
    "dcrowds = list(ens_avg_properties_df.dcrowd.sort_values().drop_duplicates())\n",
    "print(dcrowds)\n",
    "dcyls = list(ens_avg_properties_df.dcyl.sort_values().drop_duplicates())\n",
    "print(dcyls)\n",
    "nmons = list(ens_avg_properties_df.nmon.sort_values().drop_duplicates())\n",
    "vfrc_crowds_selected = [0.1,0.2,0.3,0.4]\n",
    "\n",
    "line_styles = ['--',':','-.',(0, (3, 1, 1, 1, 1, 1))]\n",
    "ls_cycle = cycler('ls', line_styles) # equal to len(dcrowds)\n",
    "\n",
    "line_widths = np.arange(1,3,1)\n",
    "lw_cycle = cycler('lw', line_widths) # equal to len(nmons\n",
    "\n",
    "marker_names = [r'$\\frac{\\phi_c(r)}{a_c}$',r'$\\frac{\\phi_m(r)}{a}$',r'$\\sum\\frac{\\phi_i(r)}{a_i}$']\n",
    "marker_styles = 'os^'\n",
    "marker_cycle = cycler('marker',marker_styles)\n",
    "\n",
    "vfrc_colors_selected = sns.color_palette(\"Set2\", len(vfrc_crowds_selected))#,as_cmap=True)\n",
    "#vfrc_colors_selected = sns.color_palette(\"hls\", len(vfrc_crowds_selected))#,as_cmap=True)\n",
    "vfrc_colors_selected"
   ]
  },
  {
   "cell_type": "code",
   "execution_count": null,
   "metadata": {},
   "outputs": [],
   "source": [
    "xcol=\"vfrc_crowd\"\n",
    "df=ens_avg_properties_df\n",
    "fontsize=20\n",
    "colors = sns.color_palette(n_colors=4, palette=\"Set2\", desat=1)\n",
    "leg_labels = [r'$\\frac{D}{a}$ (Line color)', '15.0', '20.0', '25.0','30.0', r'$N$ (Line size)', 1000, 2000, r'$\\frac{a_c}{a}$ (Marker type)', '1.0', '2.0', '4.0']\n",
    "PipeLine.chainsize_plot(ens_avg_properties_df, \"vfrc_crowd_eff\", leg_labels, colors, fontsize=20)\n",
    "PipeLine.chainsize_plot(ens_avg_properties_df, \"vfrc_crowd\", leg_labels, colors, fontsize=20)\n",
    "PipeLine.chainsize_plot(ens_avg_properties_df, \"vfrc_c_eff_normalized\", leg_labels, colors, fontsize=20)\n",
    "PipeLine.chainsize_plot(ens_avg_properties_df, \"vfrc_c_normalized\", leg_labels, colors, fontsize=20)"
   ]
  },
  {
   "cell_type": "code",
   "execution_count": null,
   "metadata": {},
   "outputs": [],
   "source": [
    "def organize_hists_ens_evg(pair_csvs,properties,xname,yname,xnorm,ynorm,filename=None):\n",
    "    \"\"\"\n",
    "    This funcions receives a list of paths to histogram data (each contains two columns; one bins, other counts) in different directions and return a dict of paris of filenames and Pandas dataframes as pairs of key and values.\n",
    "    \"\"\"\n",
    "    group_dfs = []\n",
    "    properties[['groupname','garbage']] = properties.filename.str.split(pat='-',expand=True)\n",
    "    for crd_csv, mon_csv in pair_csvs:\n",
    "        crd_df = pd.read_csv(crd_csv,index_col=0)\n",
    "        mon_df = pd.read_csv(mon_csv,index_col=0)\n",
    "        group_name = list(crd_df.columns)[0].split('-')[0]\n",
    "        \n",
    "        cell_attrs = PipeLine.cellAttributes(group_name,warning=False)\n",
    "        x_normalizer = {'dcyl':cell_attrs.dcyl, 'lcyl':cell_attrs.lcyl, 'degree': 180}\n",
    "        y_normalizer = {'hist':1, 'rho':{'crd':1,'mon': 1}, 'phi': {'crd':(2 *  cell_attrs.ncrowd * cell_attrs.dcrowd ** 3) / (3 * cell_attrs.dcyl ** 2 * cell_attrs.lcyl),'mon': (2 *  cell_attrs.nmon * cell_attrs.dmon ** 3) / (3 * cell_attrs.dcyl ** 2 * cell_attrs.lcyl)}}\n",
    "    \n",
    "        crd_df = pd.read_csv(crd_csv,names=[xname,yname+'_c'],skiprows=1)\n",
    "        mon_df = pd.read_csv(mon_csv,names=[yname+'_m'],skiprows=1,usecols=[1])\n",
    "        \n",
    "        crd_df[xname+'_norm'] = 2 * crd_df[xname] / x_normalizer[xnorm]\n",
    "        crd_df[yname+'_norm'+'_c'] = crd_df[yname+'_c'] / y_normalizer[ynorm]['crd']\n",
    "        crd_df[yname+'_norm'+'_c'] = crd_df[yname+'_norm'+'_c'] / crd_df[yname+'_norm'+'_c'].sum()\n",
    "        \n",
    "\n",
    "        mon_df[yname+'_norm'+'_m'] = mon_df[yname+'_m'] / y_normalizer[ynorm]['mon']\n",
    "        mon_df[yname+'_norm'+'_m'] = mon_df[yname+'_norm'+'_m'] / mon_df[yname+'_norm'+'_m'].sum()\n",
    "        \n",
    "        # other properties:\n",
    "        \n",
    "        merged_df = pd.concat([crd_df,mon_df],axis=1)\n",
    "        merged_df[yname+'_sum'] = (merged_df[yname+'_c'] + merged_df[yname+'_m']) / (y_normalizer[ynorm]['crd'] + y_normalizer[ynorm]['mon'])\n",
    "        merged_df[yname+'_norm_sum'] = merged_df[yname+'_sum'] / merged_df[yname+'_sum'].sum()\n",
    "        for col in properties.columns:\n",
    "            cond = properties['groupname'] == group_name\n",
    "            merged_df[col] = properties[cond][col].values[0]\n",
    "        merged_df.drop(['filename','garbage'],axis=1,inplace=True)\n",
    "        group_dfs.append(merged_df)\n",
    "    \n",
    "    df_of_hists = pd.concat(group_dfs)\n",
    "    df_of_hists.reset_index(inplace=True,drop=True)\n",
    "    if filename != None:\n",
    "        outname = filename+'.csv'\n",
    "        df_of_hists.to_csv(outname)\n",
    "        \n",
    "    return df_of_hists"
   ]
  },
  {
   "cell_type": "code",
   "execution_count": null,
   "metadata": {},
   "outputs": [],
   "source": [
    "properties_df = pd.read_csv('./properties-ens_avg-all_in_one.csv',header=0)\n",
    "all_files = glob(\"../sumrule_data/*-analyze_all/N*.csv\")\n",
    "xname = 'r'\n",
    "yname = 'phi_r'\n",
    "xnorm = 'dcyl'\n",
    "ynorm = 'phi'\n",
    "ext = ['-rPhisCrd-ens_avg.csv','-rPhisMon-ens_avg.csv']\n",
    "rPhis_ens_avg_csvs = PipeLine.file_reader(all_files,extensions=ext)\n",
    "rPhis_ens_avg_df = PipeLine.organize_hists_ens_evg(rPhis_ens_avg_csvs,properties_df,xname,\n",
    "                                                   yname,xnorm,ynorm,filename='rPhis-ens_avg-all_in_one')"
   ]
  },
  {
   "cell_type": "code",
   "execution_count": null,
   "metadata": {},
   "outputs": [],
   "source": [
    "rPhis_df_sel_phis = rPhis_ens_avg_df[rPhis_ens_avg_df['vfrc_crowd'].isin([0.1,0.2,0.3,0.4])]"
   ]
  },
  {
   "cell_type": "code",
   "execution_count": null,
   "metadata": {},
   "outputs": [],
   "source": [
    "rPhis_df_sel_phis.info()"
   ]
  },
  {
   "cell_type": "code",
   "execution_count": null,
   "metadata": {},
   "outputs": [],
   "source": [
    "#fig, axes = plt.subplots(nrows=2,ncols=2,figsize=(16,12))\n",
    "dcrowd_grid = sns.relplot(x=\"r_norm\", y=\"phi_r_norm_sum\",kind=\"line\",hue='vfrc_crowd',palette=\"Set2\",\n",
    "            col='dcrowd',col_wrap=2,style='dcyl',data=rPhis_df_sel_phis,alpha=0.7)"
   ]
  },
  {
   "cell_type": "code",
   "execution_count": null,
   "metadata": {},
   "outputs": [],
   "source": [
    "dcyl_grid = sns.relplot(x=\"r_norm\", y=\"phi_r_norm_sum\",kind=\"line\",hue='vfrc_crowd',palette=\"Set2\",\n",
    "            col='dcyl',col_wrap=2,style='dcrowd',data=rPhis_df_sel_phis,alpha=0.7)"
   ]
  },
  {
   "cell_type": "code",
   "execution_count": null,
   "metadata": {},
   "outputs": [],
   "source": [
    "phic_grid_dcrowd_color = sns.relplot(x=\"r_norm\", y=\"phi_r_norm_sum\",kind=\"line\",hue='dcrowd',palette=\"Set2\",\n",
    "            col='vfrc_crowd',col_wrap=2,style='dcyl',data=rPhis_df_sel_phis,alpha=0.7)"
   ]
  },
  {
   "cell_type": "code",
   "execution_count": null,
   "metadata": {},
   "outputs": [],
   "source": [
    "phic_grid_dcyl_color = sns.relplot(x=\"r_norm\", y=\"phi_r_norm_sum\",kind=\"line\",hue='dcyl',palette=\"Set2\",\n",
    "            col='vfrc_crowd',col_wrap=2,style='dcrowd',data=rPhis_df_sel_phis,alpha=0.7)"
   ]
  },
  {
   "cell_type": "code",
   "execution_count": null,
   "metadata": {},
   "outputs": [],
   "source": [
    "rPhis_df_sel_dcrowds1 = rPhis_ens_avg_df[(rPhis_ens_avg_df['vfrc_crowd'].isin([0.1,0.2,0.3,0.4])) & (rPhis_ens_avg_df['dcrowd']==2.0)]\n",
    "rPhis_df_sel_dcrowds2 = rPhis_ens_avg_df[(rPhis_ens_avg_df['vfrc_crowd'].isin([0.1,0.2,0.3,0.4])) & (rPhis_ens_avg_df['dcrowd'] == 4.0) & (rPhis_ens_avg_df['dcyl'] == 30.0)]\n",
    "rPhis_df_sel_dcrowds = pd.concat([rPhis_df_sel_dcrowds1,rPhis_df_sel_dcrowds2],axis=0)\n",
    "rPhis_df_sel_dcrowds.reset_index(inplace=True,drop=True)\n",
    "rPhis_df_sel_dcrowds.info()"
   ]
  },
  {
   "cell_type": "code",
   "execution_count": null,
   "metadata": {},
   "outputs": [],
   "source": [
    "yaxes_grid = sns.FacetGrid(rPhis_df_sel_dcrowds, col='dcyl',col_wrap=2,sharey=False,height=6,legend_out=True)\n",
    "yaxes_grid.map_dataframe(sns.lineplot, x=\"r_norm\", y=\"phi_r_norm_c\",hue='vfrc_crowd',lw=1,ls='--',marker='o',markersize=7,markevery=10,palette=\"Set2\")\n",
    "yaxes_grid.map_dataframe(sns.lineplot, x=\"r_norm\", y=\"phi_r_norm_m\",hue='vfrc_crowd',lw=1,ls=':',marker='s',markersize=7,markevery=10,palette=\"Set2\")\n",
    "yaxes_grid.map_dataframe(sns.lineplot, x=\"r_norm\", y=\"phi_r_norm_sum\",hue='vfrc_crowd',lw=1,ls='-.',marker='^',markersize=7,markevery=10,palette=\"Set2\",legend='full')\n",
    "yaxes_grid.tight_layout()\n",
    "#yaxes_grid.map_dataframe(sns.lineplot, x=\"r_norm\", y=\"phi_r_norm_sum\")\n",
    "#yaxes_grid.map_dataframe(sns.lineplot, x=\"r_norm\", y=\"phi_r_norm_sum\")\n",
    "#yaxes_grid = sns.relplot(x=\"r_norm\", y=\"phi_r_norm_sum\",kind=\"line\",hue='vfrc_crowd',palette=\"Set2\",\n",
    " #           col='dcyl',col_wrap=2,style='dcrowd',marker='s',markersize=7,markevery=10,data=rPhis_df_sel_dcrowds,alpha=0.7)"
   ]
  },
  {
   "cell_type": "markdown",
   "metadata": {},
   "source": [
    "## The sum rule in the radial direction:"
   ]
  },
  {
   "cell_type": "markdown",
   "metadata": {},
   "source": [
    "### 1. $a_c$ as subplots"
   ]
  },
  {
   "cell_type": "markdown",
   "metadata": {},
   "source": [
    "### 2. $D$ as sub-plots"
   ]
  },
  {
   "cell_type": "markdown",
   "metadata": {},
   "source": [
    "### 3. $\\phi_c$ as sub-plots"
   ]
  },
  {
   "cell_type": "code",
   "execution_count": null,
   "metadata": {},
   "outputs": [],
   "source": [
    "def sumrule_line(vfrc_cs,dcrowds,direction):\n",
    "    sumrule = [vfrc_c*dcrowd for vfrc_c, dcrowd in zip([vfrc_cs],[dcrowds])]\n",
    "    sumrule = np.ones((len(direction),2)) * sumrule\n",
    "    sumrule[:,0] = direction\n",
    "    return sumrule\n",
    "jafar = sumrule_line(0.3,2,rPhi_ens_avg['r_norm_c'].to_numpy())\n",
    "fig, axis = plt.subplots(nrows=1,ncols=1,figsize=(16,12),sharey='row')\n",
    "axis.plot(jafar[:,0],jafar[:,1])"
   ]
  },
  {
   "cell_type": "code",
   "execution_count": null,
   "metadata": {},
   "outputs": [],
   "source": [
    "all_files = glob(\"../sumrule_data/*ac2.0-analyze_all/N*.csv\") + glob(\"../sumrule_data/*ac4.0-analyze_all/N*.csv\")\n",
    "xname = 'r'\n",
    "yname = 'phi_r'\n",
    "xnorm = 'dcyl'\n",
    "ynorm = 'phi'\n",
    "ext=['-rPhisCrd-ens_avg.csv']\n",
    "rPhisCrd_ens_avg_csvs = PipeLine.file_reader(all_files,extensions=ext)\n",
    "ext=['-rPhisMon-ens_avg.csv']\n",
    "rPhisMon_ens_avg_csvs = PipeLine.file_reader(all_files,extensions=ext)\n",
    "rPhis_ens_avg_dfs = organize_hists_ens_evg(rPhisCrd_ens_avg_csvs,rPhisMon_ens_avg_csvs,xname,yname,xnorm,ynorm)\n",
    "\n",
    "dcyls = [25.0,20.0,15.0,30.0]\n",
    "dcrowds = [2.0,2.0,2.0,4.0]"
   ]
  },
  {
   "cell_type": "code",
   "execution_count": null,
   "metadata": {},
   "outputs": [],
   "source": [
    "xname='r_norm_c'\n",
    "yname='phi_r_norm'\n",
    "fig, axes = plt.subplots(nrows=2,ncols=2,figsize=(16,12))\n",
    "rcParams['axes.prop_cycle'] = cycler(color=vfrc_colors_selected) \n",
    "axes = axes.flatten()\n",
    "fontsize=22\n",
    "\n",
    "for idx, (dcrowd, dcyl, axis) in enumerate(zip(dcrowds,dcyls,axes)):\n",
    "    axis.set_title(r'${D}/{a}=$'+'${}$'.format(dcyl)+'$,{a_c}/{a}=$'+'${}$'.format(dcrowd)+r': $\\kappa=$'+'${:.2f}$'.format(dcrowd/(dcyl-dcrowd)),fontsize=fontsize)\n",
    "    axis2 = axis.twinx()\n",
    "    axis2.set_ylabel(r'$\\sum{\\phi_i(r)}/{a_i}$',fontsize=fontsize-3)\n",
    "    axis.grid(True,ls=':',lw=1)\n",
    "    axis.tick_params(axis ='both',direction='in')\n",
    "\n",
    "    if idx == 0:\n",
    "        PipeLine.yticks(axis,(0.0,0.015,0.003,0.0006),code=True,fontsize=fontsize-6)\n",
    "        PipeLine.yticks(axis2,(0.0,0.015,0.003,0.0006),code=True,fontsize=fontsize-6)\n",
    "    elif idx == 1: \n",
    "        PipeLine.yticks(axis,(0.0,0.02,0.004,0.0008),code=True,fontsize=fontsize-6)\n",
    "        PipeLine.yticks(axis2,(0.0,0.02,0.004,0.0008),code=True,fontsize=fontsize-6)\n",
    "    elif idx == 2: \n",
    "        PipeLine.yticks(axis,(0.0,0.03,0.005,0.001),code=True,fontsize=fontsize-6)\n",
    "        PipeLine.yticks(axis2,(0.0,0.03,0.005,0.001),code=True,fontsize=fontsize-6)  \n",
    "    else:\n",
    "        PipeLine.yticks(axis,(0.0,0.015,0.003,0.0006),code=True,fontsize=fontsize-6)\n",
    "        PipeLine.yticks(axis2,(0.0,0.015,0.003,0.0006),code=True,fontsize=fontsize-6) \n",
    "    axis.set_ylabel(r'$\\phi_i(r)$',fontsize=fontsize-3)\n",
    "    axis.set_xlabel(r'${2r}/{D}$',fontsize=fontsize-3)\n",
    "    PipeLine.xticks(axis,(0.0,1.0,0.2,0.02),code=True,fontsize=fontsize-6)\n",
    "\n",
    "\n",
    "    lines = []\n",
    "    for keyname, rPhi_ens_avg in rPhis_ens_avg_dfs.items():\n",
    "        cell_attrs = PipeLine.cellAttributes(keyname,warning=False)\n",
    "        vfrc_crowd_dummy = np.round(cell_attrs.vfrc_crowd,decimals=3)\n",
    "        if (cell_attrs.dcyl == dcyl) and (cell_attrs.dcrowd == dcrowd) and (vfrc_crowd_dummy in vfrc_crowds_selected):\n",
    "            line = axis.plot(xname,yname+'_c', data=rPhi_ens_avg, marker='o', fillstyle='none', markevery=10, markersize=10, alpha=1,ls=':')\n",
    "            line = axis.plot(xname,yname+'_m', data=rPhi_ens_avg, marker='s', fillstyle='none', markevery=10, markersize=10, alpha=1,ls='--')\n",
    "            line = axis.plot(xname,yname+'_sum', data=rPhi_ens_avg, marker='^', fillstyle='none', markevery=10, markersize=10, alpha=1)\n",
    "            lines += line\n",
    "\n",
    "color_patches = PipeLine.color_patcher(vfrc_colors_selected)\n",
    "color_legend = Legend(axes[0],handles=color_patches,labels= vfrc_crowds_selected,title=r'$\\phi_c$ (color)',ncol=2,\n",
    "                      title_fontsize=fontsize-4,fontsize=fontsize-6,framealpha=None,frameon=False,loc='upper right')#,bbox_to_anchor=(1.02,-0.02))\n",
    "axes[0].add_artist(color_legend)\n",
    "\n",
    "marker_handles = PipeLine.marker_handler(marker_names,marker_styles,fillstyle='none',markersize=10)\n",
    "axes[3].legend(handles=marker_handles, title=r'Local volume fraction (marker style)', ncol=3, title_fontsize=fontsize-6,\n",
    "               fontsize=fontsize-6, framealpha=None, frameon=False, loc='upper right')\n",
    "\n",
    "fig.tight_layout()\n",
    "plt.tight_layout()\n",
    "today = dt.date.today().strftime('%Y%m%d')\n",
    "fname = \"phic_local-grid_dcyl-all-selected_crowd-\"+yname+'-'+today+\".pdf\"\n",
    "plt.savefig(fname,dpi=200)"
   ]
  },
  {
   "cell_type": "code",
   "execution_count": null,
   "metadata": {},
   "outputs": [],
   "source": [
    "all_files = glob(\"../sumrule_data/*D25.0ac*-analyze_all/N*.csv\") + glob(\"../sumrule_data/*D30.0ac6.0-analyze_all/N*.csv\")\n",
    "xname = 'r'\n",
    "yname = 'phi_r'\n",
    "xnorm = 'dcyl'\n",
    "ynorm = 'phi'\n",
    "ext=['-rPhisCrd-ens_avg.csv']\n",
    "rPhisCrd_ens_avg_csvs = PipeLine.file_reader(all_files,extensions=ext)\n",
    "ext=['-rPhisMon-ens_avg.csv']\n",
    "rPhisMon_ens_avg_csvs = PipeLine.file_reader(all_files,extensions=ext)\n",
    "rPhis_ens_avg_dfs = organize_hists_ens_evg(rPhisCrd_ens_avg_csvs,rPhisMon_ens_avg_csvs,xname,yname,xnorm,ynorm)\n",
    "\n",
    "dcyls = [25.0,25.0,25.0,30.0]\n",
    "dcrowds = [1.0,2.0,4.0,6.0]"
   ]
  },
  {
   "cell_type": "code",
   "execution_count": null,
   "metadata": {},
   "outputs": [],
   "source": [
    "xname='r_norm_c'\n",
    "yname='phi_r_norm'\n",
    "fig, axes = plt.subplots(nrows=2,ncols=2,figsize=(16,12))\n",
    "rcParams['axes.prop_cycle'] = cycler(color=vfrc_colors_selected) \n",
    "axes = axes.flatten()\n",
    "fontsize=22\n",
    "\n",
    "\n",
    "for idx, (dcrowd, dcyl, axis) in enumerate(zip(dcrowds,dcyls,axes)):\n",
    "    axis.set_title(r'${D}/{a}=$'+'${}$'.format(dcyl)+'$,{a_c}/{a}=$'+'${}$'.format(dcrowd)+r': $\\kappa=$'+'${:.2f}$'.format(dcrowd/(dcyl-dcrowd)),fontsize=fontsize)\n",
    "    axis2 = axis.twinx()\n",
    "    axis2.set_ylabel(r'$\\sum{\\phi_i(r)}/{a_i}$',fontsize=fontsize-3)\n",
    "    axis.grid(True,ls=':',lw=1)\n",
    "    axis.tick_params(axis ='both',direction='in')\n",
    "\n",
    "    if idx == 0:\n",
    "        PipeLine.yticks(axis,(0.0,0.015,0.003,0.0003),code=True,fontsize=fontsize-6)\n",
    "        PipeLine.yticks(axis2,(0.0,0.015,0.003,0.0003),code=True,fontsize=fontsize-6)\n",
    "    elif idx == 1: \n",
    "        PipeLine.yticks(axis,(0.0,0.015,0.003,0.0003),code=True,fontsize=fontsize-6)\n",
    "        PipeLine.yticks(axis2,(0.0,0.015,0.003,0.0003),code=True,fontsize=fontsize-6)\n",
    "    elif idx == 2: \n",
    "        PipeLine.yticks(axis,(0.0,0.015,0.003,0.0003),code=True,fontsize=fontsize-6)\n",
    "        PipeLine.yticks(axis2,(0.0,0.015,0.003,0.0003),code=True,fontsize=fontsize-6)  \n",
    "    else:\n",
    "        PipeLine.yticks(axis,(0.0,0.015,0.003,0.0003),code=True,fontsize=fontsize-6)\n",
    "        PipeLine.yticks(axis2,(0.0,0.015,0.003,0.0003),code=True,fontsize=fontsize-6) \n",
    "    axis.set_ylabel(r'$\\phi_i(r)$',fontsize=fontsize-3)\n",
    "    axis.set_xlabel(r'${2r}/{D}$',fontsize=fontsize-3)\n",
    "    PipeLine.xticks(axis,(0.0,1.0,0.2,0.02),code=True,fontsize=fontsize-6)\n",
    "\n",
    "\n",
    "    lines = []\n",
    "    for keyname, rPhi_ens_avg in rPhis_ens_avg_dfs.items():\n",
    "        cell_attrs = PipeLine.cellAttributes(keyname,warning=False)\n",
    "        vfrc_crowd_dummy = np.round(cell_attrs.vfrc_crowd,decimals=3)\n",
    "        if (cell_attrs.dcyl == dcyl) and (cell_attrs.dcrowd == dcrowd) and (vfrc_crowd_dummy in vfrc_crowds_selected):\n",
    "            line = axis.plot(xname,yname+'_c', data=rPhi_ens_avg, marker='o', fillstyle='none', markevery=10, markersize=10, alpha=1,ls=':')\n",
    "            line = axis.plot(xname,yname+'_m', data=rPhi_ens_avg, marker='s', fillstyle='none', markevery=10, markersize=10, alpha=1,ls='--')\n",
    "            line = axis.plot(xname,yname+'_sum', data=rPhi_ens_avg, marker='^', fillstyle='none', markevery=10, markersize=10, alpha=1)\n",
    "            lines += line\n",
    "\n",
    "color_patches = PipeLine.color_patcher(vfrc_colors_selected)\n",
    "color_legend = Legend(axes[0],handles=color_patches,labels= vfrc_crowds_selected,title=r'$\\phi_c$ (color)',ncol=2,\n",
    "                      title_fontsize=fontsize-4,fontsize=fontsize-6,framealpha=None,frameon=False,loc='upper right')#,bbox_to_anchor=(1.02,-0.02))\n",
    "axes[0].add_artist(color_legend)\n",
    "\n",
    "marker_handles = PipeLine.marker_handler(marker_names,marker_styles,fillstyle='none',markersize=10)\n",
    "axes[3].legend(handles=marker_handles, title=r'Local volume fraction (marker style)', ncol=3, title_fontsize=fontsize-6,\n",
    "               fontsize=fontsize-6, framealpha=None, frameon=False, loc='upper right')\n",
    "\n",
    "fig.tight_layout()\n",
    "plt.tight_layout()\n",
    "today = dt.date.today().strftime('%Y%m%d')\n",
    "fname = \"phic_local-grid_dcrowd-all-selected_dcyl-\"+yname+'-'+today+\".pdf\"\n",
    "plt.savefig(fname,dpi=200)"
   ]
  },
  {
   "cell_type": "code",
   "execution_count": null,
   "metadata": {},
   "outputs": [],
   "source": []
  }
 ],
 "metadata": {
  "colab": {
   "name": "pipeline_v4.ipynb",
   "provenance": [],
   "version": "0.3.2"
  },
  "kernelspec": {
   "display_name": "Python 3",
   "language": "python",
   "name": "python3"
  },
  "language_info": {
   "codemirror_mode": {
    "name": "ipython",
    "version": 3
   },
   "file_extension": ".py",
   "mimetype": "text/x-python",
   "name": "python",
   "nbconvert_exporter": "python",
   "pygments_lexer": "ipython3",
   "version": "3.8.8"
  }
 },
 "nbformat": 4,
 "nbformat_minor": 4
}
