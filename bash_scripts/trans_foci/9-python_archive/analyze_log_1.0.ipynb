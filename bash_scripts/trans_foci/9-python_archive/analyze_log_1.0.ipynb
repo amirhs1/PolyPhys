{
 "cells": [
  {
   "cell_type": "code",
   "execution_count": null,
   "metadata": {
    "colab": {},
    "colab_type": "code",
    "id": "C_CLXSgvVO_9"
   },
   "outputs": [],
   "source": [
    "from glob import glob\n",
    "import pandas as pd\n",
    "import seaborn as sns\n",
    "from PipeLine import *"
   ]
  },
  {
   "cell_type": "markdown",
   "metadata": {},
   "source": [
    "## Analysis"
   ]
  },
  {
   "cell_type": "code",
   "execution_count": null,
   "metadata": {},
   "outputs": [],
   "source": [
    "database = '/Users/amirhsi_mini/logs/'\n",
    "log_groups = glob(database+\"/N*-logs/\")\n",
    "geometry = 'cylindrical'"
   ]
  },
  {
   "cell_type": "code",
   "execution_count": null,
   "metadata": {},
   "outputs": [],
   "source": [
    "# analyze log files\n",
    "for log_group in log_groups:\n",
    "    log_files = glob(log_group+'/N*.log')\n",
    "    log_files = PipeLine.file_reader(log_files,extensions=['.log'])\n",
    "    sample_log = log_files[0][0].split(\"/\")[-1]\n",
    "    details_out , runtime_out = PipeLine.log_outputs(sample_log, geometry)\n",
    "    PipeLine.lammps_log_details(log_files, details_out , runtime_out)"
   ]
  },
  {
   "cell_type": "markdown",
   "metadata": {},
   "source": [
    "# Viz"
   ]
  },
  {
   "cell_type": "code",
   "execution_count": null,
   "metadata": {},
   "outputs": [],
   "source": [
    "log_pairs = glob('../sumrule_logs_csvs/*.csv')\n",
    "log_pairs = PipeLine.file_reader(log_pairs,extensions=['_runtime.csv','_details.csv'])"
   ]
  },
  {
   "cell_type": "code",
   "execution_count": null,
   "metadata": {},
   "outputs": [],
   "source": [
    "runtime_dfs = []\n",
    "details_dfs = []\n",
    "for log_pair in log_pairs:\n",
    "    runtime_df = pd.read_csv(log_pair[0])\n",
    "    runtime_df.wall_time = pd.to_timedelta(runtime_df.wall_time)\n",
    "    runtime_df['total_time_hr'] = runtime_df.wall_time.dt.total_seconds() / 3600\n",
    "    runtime_dfs.append(runtime_df)\n",
    "    \n",
    "    details_df = pd.read_csv(log_pair[1])\n",
    "    details_dfs.append(details_df)\n",
    "        \n",
    "df_of_runtimes = pd.concat(runtime_dfs)\n",
    "df_of_runtimes.to_csv('log-runtime-all_in_one.csv')\n",
    "df_of_details = pd.concat(details_dfs)\n",
    "df_of_details.to_csv('log-details-all_in_one.csv')"
   ]
  },
  {
   "cell_type": "code",
   "execution_count": null,
   "metadata": {},
   "outputs": [],
   "source": [
    "log_stat = df_of_runtimes.groupby('ncores').agg(['mean','median','std','min','max','count'])\n",
    "log_stat.columns = ['_'.join(col).strip() for col in log_stat.columns.values]\n",
    "log_stat.reset_index(inplace=True)\n",
    "log_stat['natoms_median_per_core'] = log_stat['natoms_median']/log_stat['ncores']\n",
    "log_stat['std_percentage'] = log_stat['total_time_hr_std']/log_stat['total_time_hr_mean']\n",
    "log_stat.to_csv('log_stat_summary.csv')"
   ]
  },
  {
   "cell_type": "code",
   "execution_count": null,
   "metadata": {},
   "outputs": [],
   "source": [
    "data = df_of_runtimes\n",
    "#fig, [[ax1, ax2], [ax3, ax4]] = plt.subplots(2, 2, figsize=(6, 6))\n",
    "facet_grid = sns.lmplot(x=\"natoms\", y=\"total_time_hr\", hue='ncores', data=data,legend_out=False)#,height=4, aspect=16/9);\n",
    "facet_grid.tight_layout()\n",
    "facet_grid.set_axis_labels(\"Particles\",\"Wall time (hours)\")\n",
    "facet_grid.legend.set_title(\"CPUs\")\n",
    "facet_grid.set(xlim=(0, 200000), ylim=(0, 45))\n",
    "#plt.legend(title=\"CPUs\", loc='upper right')\n",
    "xlabels = ['{:,.0f}'.format(x) + 'K' for x in facet_grid.ax.get_xticks()/1000]\n",
    "facet_grid.set_xticklabels(xlabels)\n",
    "output=\"../walltime_vs_natoms.pdf\"\n",
    "facet_grid.savefig(output)\n",
    "\n",
    "g = sns.FacetGrid(data, col=\"ncores\",sharex=False,sharey=False)\n",
    "g.map(sns.regplot, \"natoms\", \"total_time_hr\")\n",
    "g.set_titles(col_template=\"{col_name} CPUs\")\n",
    "g.set_axis_labels(\"Particles\" ,\"Wall time (hours)\")\n",
    "#g.axes[0][0].set_xlim((1000, 5000))\n",
    "#g.axes[0][1].set_xlim((5000, 25000))\n",
    "#g.axes[0][2].set_xlim((25000, 50000))\n",
    "#g.axes[0][3].set_xlim((50000, 100000))\n",
    "for i in range(6):\n",
    "    xlabels = ['{:,.0f}'.format(x) + 'K' for x in g.axes[0][i].get_xticks()/1000]\n",
    "    g.axes[0][i].set_xticklabels(xlabels)\n",
    "\n",
    "\n",
    "#g.axes[0][4].set_xlim((100000,150000))\n",
    "g.axes[0][0].set_xlim((1000, 5000))\n",
    "g.tight_layout()\n",
    "output=\"../walltime_vs_natoms_separate.pdf\"\n",
    "g.savefig(output)"
   ]
  },
  {
   "cell_type": "code",
   "execution_count": null,
   "metadata": {},
   "outputs": [],
   "source": []
  }
 ],
 "metadata": {
  "colab": {
   "name": "pipeline_v4.ipynb",
   "provenance": [],
   "version": "0.3.2"
  },
  "kernelspec": {
   "display_name": "Python 3",
   "language": "python",
   "name": "python3"
  },
  "language_info": {
   "codemirror_mode": {
    "name": "ipython",
    "version": 3
   },
   "file_extension": ".py",
   "mimetype": "text/x-python",
   "name": "python",
   "nbconvert_exporter": "python",
   "pygments_lexer": "ipython3",
   "version": "3.8.8"
  }
 },
 "nbformat": 4,
 "nbformat_minor": 4
}
