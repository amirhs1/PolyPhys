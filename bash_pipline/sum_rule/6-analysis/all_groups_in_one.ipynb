{
 "cells": [
  {
   "cell_type": "code",
   "execution_count": null,
   "id": "e922ca2c-02a9-4be1-8c28-ad36c4d47dce",
   "metadata": {},
   "outputs": [],
   "source": [
    "from glob import glob\n",
    "from PipeLine import *"
   ]
  },
  {
   "cell_type": "code",
   "execution_count": null,
   "id": "7ed2f5d1-d726-4ff1-99f1-881495348e57",
   "metadata": {},
   "outputs": [],
   "source": [
    "%%time\n",
    "# distributions:\n",
    "database = '/Users/amirhsi_mini/analysis/'\n",
    "dist_db= database+\"/N*-all-analysis-ens_avg/N*.csv\"\n",
    "properties_db  = database+'all_in_one-properties-ens_avg-normalized.csv'\n",
    "simulation_type = 'all'\n",
    "geometry='cylindrical'\n",
    "radial_dists = PipeLine.generator_dist_all_in_one(dist_db, properties_db, simulation_type, geometry, 'radial')\n",
    "longitudinal_dists = PipeLine.generator_dist_all_in_one(dist_db, properties_db, simulation_type, geometry, 'longitudinal')"
   ]
  },
  {
   "cell_type": "code",
   "execution_count": null,
   "id": "885f251f-a194-4d59-910e-dc6657ed76f9",
   "metadata": {},
   "outputs": [],
   "source": [
    "%%time\n",
    "from dask.distributed import Client\n",
    "from dask import delayed\n",
    "from dask import compute\n",
    "client = Client(n_workers=2, threads_per_worker=1, silence_logs=1)\n",
    "client\n",
    "database = '/Users/amirhsi_mini/analysis/'\n",
    "prop_path= database+\"/N*-bug-analysis-ens_avg\"\n",
    "properties_db  = database+'all_in_one-properties-ens_avg-normalized.csv'\n",
    "simulation_type = 'bug'\n",
    "geometry='cylindrical'\n",
    "analysis_delayed = []\n",
    "attrs_dict = {'rFloryHists': 'r', 'rHists': 'r', 'zHists': 'z','thetaHists': 'theta','rPhis' : 'r',\n",
    "              'zPhis': 'z','rRhos': 'r', 'zRhos': 'z'}\n",
    "for attr, direction in attrs_dict.items():\n",
    "    analysis = delayed(PipeLine.all_in_one_properties)(prop_path, attr, properties_db, simulation_type, geometry, direction = direction)\n",
    "    analysis_delayed.append(analysis)\n",
    "results = compute(analysis_delayed)"
   ]
  },
  {
   "cell_type": "code",
   "execution_count": null,
   "id": "67d148ef-46be-45fc-9fda-8e8bc629c0fe",
   "metadata": {},
   "outputs": [],
   "source": [
    "%%time\n",
    "## for a a loop with one core, it takes ~ 4 min\n",
    "## This does NOT work with more than 2 workers.\n",
    "database = '/Users/amirhsi_mini/analysis/'\n",
    "prop_path= database+\"/N*-bug-analysis-ens_avg\"\n",
    "properties_db  = database+'all_in_one-properties-ens_avg-normalized.csv'\n",
    "simulation_type = 'bug'\n",
    "geometry='cylindrical'\n",
    "attrs_dict = {'fsd_t': None, 'gyr_t': None, 'rFlory_t': None}\n",
    "for attr, direction in attrs_dict.items():\n",
    "    _ = PipeLine.all_in_one_properties(prop_path, attr, properties_db, simulation_type, geometry, direction = direction)"
   ]
  },
  {
   "cell_type": "code",
   "execution_count": null,
   "id": "af67638f-1071-4883-af1c-32ef48fb10d5",
   "metadata": {},
   "outputs": [],
   "source": []
  }
 ],
 "metadata": {
  "kernelspec": {
   "display_name": "Python 3 (ipykernel)",
   "language": "python",
   "name": "python3"
  },
  "language_info": {
   "codemirror_mode": {
    "name": "ipython",
    "version": 3
   },
   "file_extension": ".py",
   "mimetype": "text/x-python",
   "name": "python",
   "nbconvert_exporter": "python",
   "pygments_lexer": "ipython3",
   "version": "3.8.12"
  }
 },
 "nbformat": 4,
 "nbformat_minor": 5
}
