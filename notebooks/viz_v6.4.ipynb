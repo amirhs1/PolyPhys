{
 "cells": [
  {
   "cell_type": "markdown",
   "metadata": {
    "tags": []
   },
   "source": [
    "## Raod Map\n",
    "\n",
    "We want to:\n",
    "\n",
    "- [x] plot the ACFs for each **ensAvg** **property** individually as a **subplot** in a **space** **figure**\n",
    "\n"
   ]
  },
  {
   "cell_type": "markdown",
   "metadata": {},
   "source": [
    "## General Settings"
   ]
  },
  {
   "cell_type": "markdown",
   "metadata": {},
   "source": [
    "### Importing packages"
   ]
  },
  {
   "cell_type": "code",
   "execution_count": null,
   "metadata": {},
   "outputs": [],
   "source": [
    "# Importing necessary packages:\n",
    "#import re\n",
    "#import os\n",
    "from glob import glob\n",
    "#import math\n",
    "import numpy as np\n",
    "import pandas as pd\n",
    "#import datetime as dt\n",
    "#import itertools\n",
    "\n",
    "import matplotlib.pyplot as plt\n",
    "import matplotlib.colors as colors\n",
    "import matplotlib as mpl\n",
    "from matplotlib import rcParams, cycler\n",
    "import matplotlib.lines as lines\n",
    "from collections import OrderedDict\n",
    "from matplotlib.legend import Legend\n",
    "import matplotlib.patches as mpatches\n",
    "import matplotlib.lines as mlines\n",
    "from matplotlib.collections import PolyCollection # for chaing confidence interval color in statsmodels.graphics.tsaplots.plot_acf\n",
    "\n",
    "import seaborn as sns\n",
    "\n",
    "import statsmodels.tsa.stattools as tsas\n",
    "import statsmodels.graphics.tsaplots as tsap\n",
    "\n",
    "from polyphys.visualize import plotter\n",
    "from polyphys.visualize import tuner\n",
    "from polyphys.manage.parser import SumRule, TransFoci\n",
    "from polyphys.manage import organizer\n",
    "from polyphys.analyze import measurer\n",
    "from polyphys.manage import utilizer\n",
    "\n",
    "from polyphys.analyze import correlations \n",
    "from scipy import optimize\n",
    "\n",
    "# Project details\n",
    "\n",
    "project_details ={\n",
    "    'SumRule':{\n",
    "        'parser': SumRule,\n",
    "        'space_pat': 'N*D*ac*',\n",
    "        'hierarchy': 'N*',\n",
    "        'space_hierarchy': 'N*',\n",
    "        'attributes': ['space', 'ensemble_long', 'ensemble', 'nmon', 'dcyl',\n",
    "                       'dcrowd','phi_c_bulk'\n",
    "                      ],\n",
    "        'time_varying_props': [ 'asphericityTMon', 'fsdTMon', 'gyrTMon',\n",
    "                               'rfloryTMon','shapeTMon'],\n",
    "        'equil_measures': [np.mean, np.var, measurer.sem],\n",
    "        'equil_attributes': ['space', 'ensemble_long', 'ensemble', 'nmon',\n",
    "                             'dcyl','dcrowd', 'phi_c_bulk', \n",
    "                             'phi_c_bulk_round'\n",
    "                            ],\n",
    "        'equil_properties': ['asphericityMon-mean', 'asphericityMon-var',\n",
    "                             'asphericityMon-sem', 'fsdMon-mean',\n",
    "                             'fsdMon-var', 'fsdMon-sem', 'gyrMon-mean',\n",
    "                             'gyrMon-var', 'gyrMon-sem', 'rfloryMon-mean',\n",
    "                             'rfloryMon-var', 'rfloryMon-sem',\n",
    "                             'shapeMon-mean', 'shapeMon-var', 'shapeMon-sem']\n",
    "    },\n",
    "    'TransFoci':{\n",
    "        'parser': TransFoci,\n",
    "        'space_pat': 'ns*nl*al*D*ac*',\n",
    "        'hierarchy': 'eps*',\n",
    "        'space_hierarchy': 'ns*',\n",
    "        'attributes': ['space', 'ensemble_long', 'ensemble', 'nmon_small',\n",
    "                       'nmon_large','dmon_large', 'dcyl', 'dcrowd',\n",
    "                       'phi_c_bulk'\n",
    "                      ],\n",
    "        'time_varying_props': ['asphericityTMon', 'fsdTMon', 'gyrTMon',\n",
    "                               'shapeTMon'],\n",
    "        'equil_measures': [np.mean, np.var, measurer.sem],\n",
    "        'equil_attributes': ['ensemble_long', 'ensemble', 'space', 'dcyl',\n",
    "                             'dmon_large', 'nmon_large', 'nmon_small',\n",
    "                             'dcrowd', 'phi_c_bulk', 'phi_c_bulk_round'],\n",
    "        'equil_properties': ['asphericityMon-mean', 'asphericityMon-var',\n",
    "                             'asphericityMon-sem', 'fsdMon-mean',\n",
    "                             'fsdMon-var', 'fsdMon-sem', 'gyrMon-mean',\n",
    "                             'gyrMon-var', 'gyrMon-sem', 'shapeMon-mean',\n",
    "                             'shapeMon-var', 'shapeMon-sem']\n",
    "    }\n",
    "}\n",
    "\n",
    "# loading databases:\n",
    "analysis_db = '/Users/amirhsi_mini/research_data/analysis/'\n",
    "project = 'TransFoci'\n",
    "phase='ensAvg'\n",
    "geometry='biaxial'\n",
    "group = \"bug\"\n",
    "species = \"Mon\"\n",
    "space_dbs = glob(analysis_db + project_details[project]['space_pat'])"
   ]
  },
  {
   "cell_type": "markdown",
   "metadata": {
    "jp-MarkdownHeadingCollapsed": true,
    "tags": []
   },
   "source": [
    "# Auto-correlation functions\n",
    "\n",
    "##### Note: In a given space, ensAvg groups differs in their values of bulk volume fraction of crowders (column name: phi_c_bulk)"
   ]
  },
  {
   "cell_type": "markdown",
   "metadata": {
    "tags": []
   },
   "source": [
    "### Theoretical background:"
   ]
  },
  {
   "cell_type": "markdown",
   "metadata": {
    "jp-MarkdownHeadingCollapsed": true,
    "tags": []
   },
   "source": [
    "Below, all the several definitions of autocorrelation function (acf) in the literature are listed. Assuming $A(t)$ is a discrete time-varying property of interest and is collected every $M$ timesteps in a molecular dynamics simulation with the time step $\\Delta t$ and time unit $\\hat{t}$. First, we define the mean (or average) and unbiased variance of $A(t)$ as what follows\n",
    "\n",
    "$$\\langle A\\rangle=\\frac{1}{t_{max}}\\sum_{t=1}^{t_{max}}A(t)$$\n",
    "$$\\sigma^2_A=\\langle A^2 \\rangle-\\langle A\\rangle^2=\\frac{1}{t_{max}-1}\\sum_{t=1}^{t_{max}}(A(t)-\\langle A\\rangle)^2$$\n",
    "\n",
    "where $t_{max}$ is the total number of collected cofigurations or timesteps, or simply the size of $A(t)$, implying the total number of simulated timesteps is $t_{max}\\times M$. Given this definition, the acf has been defined in the following ways in the literature:\n",
    "\n",
    "1. Allen and Tildesley define the *non-normalized* acf in \"Computer simulation of liquids - 2017\" as\n",
    "\n",
    "$$c_{AA}(h) = \\frac{1}{h_{max}}\\sum_{h_0=1}^{h_{max}}A(h_0)A(h_0+h)$$\n",
    "\n",
    "where $h_{max}=\\frac{t_{max}-1}{h}$\n",
    "\n",
    "2. *1989 - Murat M Greet GS - Structure of a Grafted Polymer Brush A Molecular Dynamics Simulation* defines the acf in \"Structure of a Grafted Polymer Brush A Molecular Dynamics Simulation - 1989\" as \n",
    "\n",
    "$$c_{AA}(h) =\\frac{\\langle (A(h)-\\langle A \\rangle)(A(0)-\\langle A \\rangle)\\rangle}{\\sigma^2_A}=\\frac{\\langle A(h)A(0)\\rangle-\\langle A \\rangle \\langle A(0) \\rangle}{\\sigma^2_A}$$\n",
    "\n",
    "See the rest of this artciel to see how correlation time is calculated. See the rest of this artciel to see how correlation time is calculated.\n",
    "\n",
    "3. In *1989 - Grest GS Kremer K Witten TA et el - Relaxation of Self-Entangled Many-Arm Star Polymers, 1987 - Grest GS Kremer K Witten TA - Structure of Many-Arm Star Polymers A Molecular Dynamics Simulation, and 1977 - Kranbuehl DE Verdier PH - Relaxation of the aspherical shapes of random-coil polymer chains*, the acf is\n",
    "\n",
    "$$c_{AA}(h) =\\frac{\\langle A(h)A(0)\\rangle-\\langle A \\rangle^2}{\\sigma^2_A}$$\n",
    "\n",
    "where the average is performed over the initial time steps $h=h_0=0$ taken every $K$ timesteps. Kranbuehl and Verdier runs the whole simulation several times the relaxation time of the end-to-end length.\n",
    "\n",
    "4. In *1978 - Rapaport DC - Molecular dynamics simulation of polymer chains with excluded volum, and 1979 - Bishop M Ceperley D Frisch HL - Molecular dynamics of polymeric systems* the afc is given by\n",
    "\n",
    "$$c_{AA}(h) =\\frac{\\langle A(h)A(h_0+h)\\rangle-\\langle A(h_0) \\rangle^2}{\\sigma^2_A(h_0)}$$\n",
    "\n",
    "where\n",
    "\n",
    "$$\\sigma^2_A(h_0)=\\langle A(h_0)^2 \\rangle-\\langle A(h_0)\\rangle^2$$\n",
    "\n",
    "The averaging should be done over ensembles; however, in practice, the ensemble average is replaced by the time average provided that the timesteps or time interval between successvie $h_0$ values are sufficently lagre so the configurations are uncorrelated.\n",
    "\n",
    "5. *1981 - Bruns W Bansal R - Molecular dynamics study of a single polymer chain in solution* defines the afc as \n",
    "\n",
    "$$c_{\\vec{A}\\vec{A}}(h) = \\frac{\\sum_{h_0=1}^{t_{max}-h}\\vec{A}(h_0).\\vec{A}(h_0+h)}{\\sum_{h_0=1}^{t_{max}-h}\\vec{A}^2(h_0)}$$\n",
    "\n",
    "where $\\vec{A}$ is a vector quantity and $h_0$ is summed over $1,1+p,1+2p,\\dots$ instead of $h_0=1,2,3,\\dots,t_{max}-h$. For a scalar quantity, this definition is used:\n",
    "\n",
    "$$c_{AA}(h) = \\frac{(t_{max}-h)\\sum_{h_0=1}^{t_{max}-h}A(h_0)A(h_0+h)-\\sum_{h_0=1}^{t_{max}-h}A(h_0)\\sum_{h_0=1}^{t_{max}-h}A(h_0+h)}{\\sqrt{(t_{max}-h)\\sum_{h_0=1}^{t_{max}-h}A^2(h_0)-[\\sum_{h_0=1}^{t_{max}-h}A^2(h_0)]^2}-\\sqrt{(t_{max}-h)\\sum_{h_0=1}^{t_{max}-h}A^2(h_0+h)-[\\sum_{h_0=1}^{t_{max}-h}A^2(h_0+h)]^2}}=\n",
    "\\frac{\\langle A(h_0)A(h_0+h)\\rangle-\\langle A(h_0)\\rangle\\langle A(h_0+h)\\rangle}{\\sqrt{\\langle A^2(h_0)\\rangle-\\langle A(h_0)\\rangle^2}-\\sqrt{\\langle A^2(h_0+h)\\rangle-\\langle A(h_0+h)\\rangle^2}}$$\n",
    "\n",
    "6. *Brockwell PJ Davis RA - 2016 - Introduction to Time Series and Forecasting* defines the afc in the following way\n",
    "\n",
    "$$c_{AA}(h) = \\frac{cov_{A}(h)}{\\sigma_A^2} = \\frac{1}{\\sigma_A^2}\\frac{1}{t_{max}}\\sum_{h_0=1}^{t_{max}-h} [A(h_0+h)-\\langle A\\rangle][A(h_0)-\\langle A\\rangle]$$\n",
    "\n",
    "\n",
    "\n"
   ]
  },
  {
   "cell_type": "markdown",
   "metadata": {},
   "source": [
    "### How to run this Notebook:\n",
    "\n",
    "1. Check ((spaces_to_read**\n",
    "2. Check **group** and **species**.\n",
    "3. check **database**.\n",
    "4. delete extra **physical** properties based on the preoject.\n",
    "5. check **nlags** and **ticks**.\n",
    "6. check **parser** and **spaces_title**.\n"
   ]
  },
  {
   "cell_type": "markdown",
   "metadata": {},
   "source": [
    "### Grouping and filtering"
   ]
  },
  {
   "cell_type": "markdown",
   "metadata": {},
   "source": [
    "Since the datasets we work with are large, it is a good idea to \n",
    "- define some filters to ease subsetting the dataframes.\n",
    "- define distinguishable colors for the volume fraction of crowders as the changing parameter that defines different ensAvg groups in a space\n",
    "- round the value of this changing parameter."
   ]
  },
  {
   "cell_type": "code",
   "execution_count": null,
   "metadata": {},
   "outputs": [],
   "source": [
    "# read data\n",
    "acf_space_dbs = [space_db for space_db in space_dbs if\n",
    "                 space_db.endswith('acf.parquet.brotli')\n",
    "                ]\n",
    "acf = [pd.read_parquet(space_db) for space_db in acf_space_dbs]\n",
    "acf = pd.concat(acf,axis=0, ignore_index=True)\n",
    "acf.reset_index(inplace=True,drop=True)\n",
    "\n",
    "# a sorted list of unique spaces in the dataset\n",
    "spaces = acf.loc[:,'space'].drop_duplicates().sort_values()\n",
    "spaces = sorted(spaces, key = organizer.sort_by_alphanumeric)\n",
    "\n",
    "# rounding phi_c as facgtors of 0.025:\n",
    "# add rounded phi_crds to the dataset\n",
    "divisor = 0.025\n",
    "round_to = 3\n",
    "acf['phi_c_bulk_round'] = acf['phi_c_bulk'].apply(\n",
    "    utilizer.round_up_nearest, args=[divisor, round_to]\n",
    ")\n",
    "# phi_c to drop\n",
    "acf = acf.loc[~acf['phi_c_bulk_round'].isin([0.025, 0.05, 0.075, 0.125, 0.175]),:]\n",
    "acf.reset_index(inplace=True, drop=True)\n",
    "# setting colors for unique crd_c\n",
    "phi_crds = acf.loc[:,'phi_c_bulk_round'].unique()\n",
    "phi_crds.sort()\n",
    "flar_cmap = mpl.colors.ListedColormap(sns.cm._flare_lut)\n",
    "flare_cmap_cut = tuner.truncated_colormap(flar_cmap,  min_value=0.0, max_value=1.0, ncolors=200)\n",
    "mpl.cm.register_cmap(\"flare_cmap_cut\", flare_cmap_cut)\n",
    "phi_colors = sns.color_palette(\"flare_cmap_cut\", len(phi_crds))#,as_cmap=True)\n",
    "# add rounded phi_crds to the dataset\n",
    "# Define a list of unique physical properties:\n",
    "properties = [property_ for property_ in acf.columns if '-mean' in property_]\n",
    "properties.sort()\n",
    "# Define unique specifications for each physical property:\n",
    "acf_properties_specs =  {\n",
    "    'SumRule': {\n",
    "        'rfloryTMon': {\n",
    "            'name': 'Flory radius',\n",
    "            'symbol': r'$C_{R_FR_F}(\\hat{t}_{lags})$',\n",
    "            'color': 'firebrick'\n",
    "        },\n",
    "        'gyrTMon': {\n",
    "            'name': 'radius of gyration',\n",
    "            'symbol': r'$C_{R_gR_g}(\\hat{t}_{lags})$',\n",
    "            'color':'steelblue'\n",
    "                   },\n",
    "        'fsdTMon': {\n",
    "            'name': 'furthermost distance',\n",
    "            'symbol': r'$C_{LL}(\\hat{t}_{lags})$',\n",
    "            'color': 'forestgreen'\n",
    "        },\n",
    "        'asphericityTMon': {\n",
    "            'name': 'asphericity',\n",
    "            'symbol': r'$C_{\\Delta\\Delta}(\\hat{t}_{lags})$',\n",
    "            'color': 'goldenrod'\n",
    "        },\n",
    "        'shapeTMon': {\n",
    "            'name': 'shape parameter',\n",
    "            'symbol': r'$C_{SS}(\\hat{t}_{lags})$',\n",
    "            'color': 'orchid'\n",
    "        }\n",
    "    },\n",
    "    'TransFoci': {\n",
    "        'gyrTMon': {\n",
    "            'name': 'radius of gyration',\n",
    "            'symbol': r'$C_{R_gR_g}(\\hat{t}_{lags})$',\n",
    "            'color':'steelblue'\n",
    "                   },\n",
    "        'fsdTMon': {\n",
    "            'name': 'furthermost distance',\n",
    "            'symbol': r'$C_{LL}(\\hat{t}_{lags})$',\n",
    "            'color': 'forestgreen'\n",
    "        },\n",
    "        'asphericityTMon': {\n",
    "            'name': 'asphericity',\n",
    "            'symbol': r'$C_{\\Delta\\Delta}(\\hat{t}_{lags})$',\n",
    "            'color': 'goldenrod'\n",
    "        },\n",
    "        'shapeTMon': {\n",
    "            'name': 'shape parameter',\n",
    "            'symbol': r'$C_{SS}(\\hat{t}_{lags})$',\n",
    "            'color': 'orchid'\n",
    "        }\n",
    "    }\n",
    "}\n",
    "acf_props_specs_project = acf_properties_specs[project]\n",
    "space_titles = {}\n",
    "for space in spaces:\n",
    "    s_info = project_details[project]['parser'](\n",
    "        space, \n",
    "        geometry=geometry,\n",
    "        group=group,\n",
    "        lineage='space',\n",
    "        ispath=False\n",
    "    )\n",
    "    space_title_style = {\n",
    "        'SumRule': fr\" $N={s_info.nmon}, D={s_info.dcyl}, a_c={s_info.dcrowd}$\",\n",
    "        'TransFoci': fr\" $n_s={s_info.nmon_small}, n_l={s_info.nmon_large}, a_l={s_info.dmon_large}, D={s_info.dcyl}, a_c={s_info.dcrowd}$\"\n",
    "        }\n",
    "    space_titles[space] = space_title_style[project]"
   ]
  },
  {
   "cell_type": "markdown",
   "metadata": {
    "tags": []
   },
   "source": [
    "### Some explorations:"
   ]
  },
  {
   "cell_type": "code",
   "execution_count": null,
   "metadata": {},
   "outputs": [],
   "source": [
    "acf.head()"
   ]
  },
  {
   "cell_type": "code",
   "execution_count": null,
   "metadata": {},
   "outputs": [],
   "source": [
    "acf.columns"
   ]
  },
  {
   "cell_type": "code",
   "execution_count": null,
   "metadata": {
    "tags": []
   },
   "outputs": [],
   "source": [
    "acf.info()"
   ]
  },
  {
   "cell_type": "markdown",
   "metadata": {
    "tags": []
   },
   "source": [
    "### ACF with CIs for all the physical properties per space columns wrapped with $\\phi_c^{bulk}$"
   ]
  },
  {
   "cell_type": "code",
   "execution_count": null,
   "metadata": {
    "tags": []
   },
   "outputs": [],
   "source": [
    "nlags=7000\n",
    "ticks = int(nlags/7)\n",
    "for space in spaces:\n",
    "    space_acf = acf[acf.space==space]\n",
    "    plotter.p_acf_with_ci_space(\n",
    "        space_acf,\n",
    "        space,\n",
    "        space_titles[space],\n",
    "        project,\n",
    "        properties=acf_props_specs_project,\n",
    "        ncols=3,\n",
    "        xlimits=(0, nlags, ticks),\n",
    "        ylimits=(-0.25, 1, 0.25),\n",
    "        lags=nlags,\n",
    "        dpi=100,\n",
    "        fontsize=18\n",
    "    )"
   ]
  },
  {
   "cell_type": "markdown",
   "metadata": {
    "tags": []
   },
   "source": [
    "### ACF of each physical property in a project collored with an attribute"
   ]
  },
  {
   "cell_type": "code",
   "execution_count": null,
   "metadata": {
    "tags": []
   },
   "outputs": [],
   "source": [
    "#property_= 'gyrTMon'\n",
    "legend_anchor = (1.1,1.02)\n",
    "nrows = len(spaces)\n",
    "for property_ in acf_props_specs_project.keys():\n",
    "    plotter.p_acf_allInOne_project(\n",
    "        acf,\n",
    "        project,\n",
    "        space_titles,\n",
    "        property_,\n",
    "        acf_props_specs_project[property_],\n",
    "        phi_crds,\n",
    "        phi_colors,\n",
    "        xlimits=(0, nlags, ticks),\n",
    "        nrows=nrows,\n",
    "        ncols=1,\n",
    "        legend_anchor=legend_anchor,\n",
    "        lags=nlags\n",
    "    )  "
   ]
  },
  {
   "cell_type": "markdown",
   "metadata": {
    "tags": []
   },
   "source": [
    "# Chain size plots"
   ]
  },
  {
   "cell_type": "markdown",
   "metadata": {
    "tags": []
   },
   "source": [
    "### Grouping and filtering"
   ]
  },
  {
   "cell_type": "markdown",
   "metadata": {},
   "source": [
    "Since the datasets we work with are large, it is a good idea to \n",
    "- define some filters to ease subsetting the dataframes.\n",
    "- define distinguishable colors for the volume fraction of crowders as the changing parameter that defines different ensAvg groups in a space\n",
    "- round the value of this changing parameter."
   ]
  },
  {
   "cell_type": "code",
   "execution_count": null,
   "metadata": {
    "tags": []
   },
   "outputs": [],
   "source": [
    "chainsize_space_dbs = [space_db for space_db in space_dbs if\n",
    "                 space_db.endswith('chainSize.parquet.brotli')\n",
    "                      ]\n",
    "chainsize = [pd.read_parquet(space_db) for space_db in chainsize_space_dbs]\n",
    "chainsize = pd.concat(chainsize,axis=0, ignore_index=True)\n",
    "chainsize.reset_index(inplace=True,drop=True)\n",
    "# droping some of the columns\n",
    "cols_to_drop = {\n",
    "    'SumRule': ['asphericityTMon-var', 'asphericityTMon-sem', 'fsdTMon-var',\n",
    "                'fsdTMon-sem', 'gyrTMon-var', 'gyrTMon-sem', 'rfloryTMon-var',\n",
    "                'rfloryTMon-sem', 'shapeTMon-var', 'shapeTMon-sem'],\n",
    "    'TransFoci': ['asphericityTMon-var', 'asphericityTMon-sem', 'fsdTMon-var',\n",
    "                  'fsdTMon-sem', 'gyrTMon-var', 'gyrTMon-sem',\n",
    "                  'shapeTMon-var','shapeTMon-sem']\n",
    "}\n",
    "chainsize.drop(columns=cols_to_drop[project],inplace=True)\n",
    "\n",
    "# a sorted list of unique spaces in the dataset\n",
    "spaces = chainsize.loc[:,'space'].drop_duplicates().sort_values()\n",
    "spaces = sorted(spaces, key = organizer.sort_by_alphanumeric)\n",
    "# rounding phi_c as facgtors of 0.025:\n",
    "# add rounded phi_crds to the dataset\n",
    "divisor = 0.025\n",
    "round_to = 3\n",
    "chainsize['phi_c_bulk_round'] = chainsize['phi_c_bulk'].apply(\n",
    "    utilizer.round_up_nearest, args=[divisor, round_to]\n",
    ")\n",
    "# phi_c to drop\n",
    "chainsize = chainsize.loc[~chainsize['phi_c_bulk_round'].isin([0.025, 0.05, 0.075, 0.125, 0.175]),:]\n",
    "chainsize.reset_index(inplace=True, drop=True)\n",
    "# setting colors for unique crd_c\n",
    "phi_crds = chainsize.loc[:,'phi_c_bulk_round'].unique()\n",
    "phi_crds.sort()\n",
    "flar_cmap = mpl.colors.ListedColormap(sns.cm._flare_lut)\n",
    "flare_cmap_cut = tuner.truncated_colormap(flar_cmap,  min_value=0.0, max_value=1.0, ncolors=200)\n",
    "mpl.cm.register_cmap(\"flare_cmap_cut\", flare_cmap_cut)\n",
    "phi_colors = sns.color_palette(\"flare_cmap_cut\", len(phi_crds))#,as_cmap=True)\n",
    "space_colors = sns.color_palette(\"flare_cmap_cut\", len(spaces))#,as_cmap=True)\n",
    "# setting colors for unique crd_c\n",
    "flar_cmap = mpl.colors.ListedColormap(sns.cm._flare_lut)\n",
    "flare_cmap_cut = tuner.truncated_colormap(flar_cmap,  min_value=0.0, max_value=1.0, ncolors=200)\n",
    "mpl.cm.register_cmap(\"flare_cmap_cut\", flare_cmap_cut)\n",
    "phi_colors = sns.color_palette(\"flare_cmap_cut\", len(phi_crds))#,as_cmap=True)\n",
    "# add rounded phi_crds to the dataset\n",
    "# Define a list of unique physical properties:\n",
    "properties = [property_.split('-mean')[0] for property_ in chainsize.columns if '-mean' in property_]\n",
    "# change the name of cols after fining properties based on \"mean\" in their name\n",
    "new_columns = [property_.split('-mean')[0] for property_ in chainsize.columns]\n",
    "properties.sort()\n",
    "chainsize.columns = new_columns\n",
    "print(properties)\n",
    "# Define unique specifications for each physical property:\n",
    "chainsize_properties_specs =  {\n",
    "    'SumRule': {\n",
    "        'rfloryTMon': {\n",
    "            'name': 'Flory radius',\n",
    "            'symbol': r'$R_F(\\hat{t})$',\n",
    "            'color': 'firebrick'\n",
    "        },\n",
    "        'gyrTMon': {\n",
    "            'name': 'radius of gyration',\n",
    "            'symbol': r'$R_g(\\hat{t})$',\n",
    "            'color':'steelblue'\n",
    "        },\n",
    "        'fsdTMon': {\n",
    "            'name': 'furthermost distance',\n",
    "            'symbol': r'$L(\\hat{t})$',\n",
    "            'color': 'forestgreen'\n",
    "        },\n",
    "        'asphericityTMon': {\n",
    "            'name': 'asphericity',\n",
    "            'symbol': r'$\\Delta(\\hat{t})$',\n",
    "            'color': 'goldenrod'\n",
    "        },\n",
    "        'shapeTMon': {\n",
    "            'name': 'shape parameter',\n",
    "            'symbol': r'$S(\\hat{t})$',\n",
    "            'color': 'orchid'\n",
    "        }\n",
    "    },\n",
    "    'TransFoci':{\n",
    "        'gyrTMon': {\n",
    "            'name': 'radius of gyration',\n",
    "            'symbol': r'$R_g(\\hat{t})$',\n",
    "            'color':'steelblue'\n",
    "        },\n",
    "        'fsdTMon': {\n",
    "            'name': 'furthermost distance',\n",
    "            'symbol': r'$L(\\hat{t})$',\n",
    "            'color': 'forestgreen'\n",
    "        },\n",
    "        'asphericityTMon': {\n",
    "            'name': 'asphericity',\n",
    "            'symbol': r'$\\Delta(\\hat{t})$',\n",
    "            'color': 'goldenrod'\n",
    "        },\n",
    "        'shapeTMon': {\n",
    "            'name': 'shape parameter',\n",
    "            'symbol': r'$S(\\hat{t})$',\n",
    "            'color': 'orchid'\n",
    "        }\n",
    "    }\n",
    "}\n",
    "chainsize_props_specs_project = chainsize_properties_specs[project]\n",
    "attr_titles = {\n",
    "    \"phi_c_bulk_round\": r\"$\\phi_c$\",\n",
    "    \"time\": \"$\\hat{{t}}$\",\n",
    "    \"lags\": \"$\\hat{t}_{lags}$\",\n",
    "    \"dmon_large\": \"$a_l$\",\n",
    "    \"dcrowd\": \"$a_c$\",\n",
    "    \"dcyl\": \"$D$\",\n",
    "    \"nmon_small\": \"$n_s$\",\n",
    "    \"nmon_large\": \"$n_l$\"\n",
    "}\n",
    "space_titles = {}\n",
    "for space in spaces:\n",
    "    s_info = project_details[project]['parser'](\n",
    "        space, \n",
    "        geometry=geometry,\n",
    "        group=group,\n",
    "        lineage='space',\n",
    "        ispath=False\n",
    "    )\n",
    "    space_title_style = {\n",
    "        'SumRule': fr\" $N={s_info.nmon}, D={s_info.dcyl}, a_c={s_info.dcrowd}$\",\n",
    "        'TransFoci': fr\" $n_s={s_info.nmon_small}, n_l={s_info.nmon_large}, a_l={s_info.dmon_large}, D={s_info.dcyl}, a_c={s_info.dcrowd}$\"\n",
    "        }\n",
    "    space_titles[space] = space_title_style[project]"
   ]
  },
  {
   "cell_type": "markdown",
   "metadata": {
    "tags": []
   },
   "source": [
    "### Some explorations:"
   ]
  },
  {
   "cell_type": "code",
   "execution_count": null,
   "metadata": {},
   "outputs": [],
   "source": [
    "chainsize.head()"
   ]
  },
  {
   "cell_type": "code",
   "execution_count": null,
   "metadata": {},
   "outputs": [],
   "source": [
    "chainsize.columns"
   ]
  },
  {
   "cell_type": "code",
   "execution_count": null,
   "metadata": {
    "tags": []
   },
   "outputs": [],
   "source": [
    "chainsize.info()"
   ]
  },
  {
   "cell_type": "markdown",
   "metadata": {
    "tags": []
   },
   "source": [
    "### Time series per physical properties per space with an attribute for hues and cols"
   ]
  },
  {
   "cell_type": "code",
   "execution_count": null,
   "metadata": {
    "tags": []
   },
   "outputs": [],
   "source": [
    "hue_attr = 'phi_c_bulk_round'\n",
    "col_attr = 'phi_c_bulk_round'\n",
    "x_prop = 'time'\n",
    "for property_ in properties:\n",
    "    for space in spaces:\n",
    "        chainsize_space = chainsize.loc[chainsize['space']==space]\n",
    "        plotter.p_tseries_space(\n",
    "            property_,\n",
    "            hue_attr,\n",
    "            col_attr,\n",
    "            chainsize_space,\n",
    "            space,\n",
    "            project,\n",
    "            chainsize_props_specs_project,\n",
    "            attr_titles,\n",
    "            x_property= 'time',\n",
    "            fontsize=20,\n",
    "            col_wrap= 3\n",
    "        )"
   ]
  },
  {
   "cell_type": "markdown",
   "metadata": {},
   "source": [
    "### Time series of each property per porject colored by space col wrapped by attribute"
   ]
  },
  {
   "cell_type": "code",
   "execution_count": null,
   "metadata": {},
   "outputs": [],
   "source": [
    "fontsize=16\n",
    "x_prop = 'time'\n",
    "font_scale = 2\n",
    "\n",
    "col_attr = 'phi_c_bulk_round'\n",
    "hue_attr = 'dmon_large'\n",
    "col_wrap = 3\n",
    "height = 3\n",
    "aspect = 1.5 * 1.618 # golden ratio\n",
    "color_palette='colorblind'\n",
    "\n",
    "for y_prop in properties:\n",
    "    plotter.p_tseries_allInOne_space(\n",
    "        chainsize,\n",
    "        project,\n",
    "        x_prop,\n",
    "        y_prop,\n",
    "        hue_attr,\n",
    "        col_attr,\n",
    "        chainsize_props_specs_project,\n",
    "        attr_titles,\n",
    "        font_scale=font_scale,\n",
    "        fontsize=fontsize,\n",
    "        height=height,\n",
    "        aspect=aspect,\n",
    "        col_wrap=col_wrap,\n",
    "        color_palette=color_palette\n",
    "    )\n",
    "\n",
    "col_attr = 'dmon_large'\n",
    "hue_attr = 'phi_c_bulk_round'\n",
    "col_wrap = 1\n",
    "height = 3\n",
    "aspect = 2 * 1.618 # golden ratio\n",
    "color_palette='rocket_r'\n",
    "\n",
    "for y_prop in properties:\n",
    "    plotter.p_tseries_allInOne_space(\n",
    "        chainsize,\n",
    "        project,\n",
    "        x_prop,\n",
    "        y_prop,\n",
    "        hue_attr,\n",
    "        col_attr,\n",
    "        chainsize_props_specs_project,\n",
    "        attr_titles,\n",
    "        font_scale=font_scale,\n",
    "        fontsize=fontsize,\n",
    "        height=height,\n",
    "        aspect=aspect,\n",
    "        col_wrap=col_wrap,\n",
    "        color_palette=color_palette\n",
    "    )"
   ]
  },
  {
   "cell_type": "markdown",
   "metadata": {
    "tags": []
   },
   "source": [
    "# Equilbrium size-related measures"
   ]
  },
  {
   "cell_type": "markdown",
   "metadata": {
    "tags": []
   },
   "source": [
    "#### Extimate equilibrium properties from fitting model"
   ]
  },
  {
   "cell_type": "code",
   "execution_count": null,
   "metadata": {},
   "outputs": [],
   "source": [
    "allInOne_db = '/Users/amirhsi_mini/OneDrive - University of Waterloo/PhD Research/Jupyter/Datasets/'\n",
    "equil_db = '-'.join(\n",
    "    ['allInOne', project, group, species, 'equilProps', phase]\n",
    ")\n",
    "equil_db = allInOne_db + equil_db + '.csv'\n",
    "chainsize_equil = pd.read_csv(equil_db)\n",
    "\n",
    "# selecting 'norm' measures of properties\n",
    "normalized_props = [prop for prop in chainsize_equil.columns if prop.endswith('-norm')]\n",
    "attributes = project_details[project]['equil_attributes']\n",
    "selected_cols = attributes + normalized_props\n",
    "# melting properties columns\n",
    "chainsize_melted = chainsize_equil[selected_cols].melt(\n",
    "    id_vars=attributes,\n",
    "    value_vars=normalized_props\n",
    ")"
   ]
  },
  {
   "cell_type": "code",
   "execution_count": null,
   "metadata": {},
   "outputs": [],
   "source": [
    "normalized_props"
   ]
  },
  {
   "cell_type": "code",
   "execution_count": null,
   "metadata": {},
   "outputs": [],
   "source": [
    "norm_properties_specs =  {\n",
    "    'SumRule': {\n",
    "        'rfloryMon-norm': {\n",
    "            'name': 'Flory radius',\n",
    "            'symbol': r'$\\frac{R_F(\\phi_c)}{R_{F,0}}$',\n",
    "            'color': 'firebrick'\n",
    "        },\n",
    "        'gyrMon-norm': {\n",
    "            'name': 'Radius of gyration',\n",
    "            'symbol': r'$\\frac{R_g(\\phi_c)}{R_{g,0}}$',\n",
    "            'color':'steelblue'\n",
    "        },\n",
    "        'fsdMon-norm': {\n",
    "            'name': 'Furthermost distance',\n",
    "            'symbol': r'$\\frac{\\fract{L(\\phi_c)}{L_{0}}$',\n",
    "            'color': 'forestgreen'\n",
    "        },\n",
    "        'asphericityMon-norm': {\n",
    "            'name': 'Asphericity',\n",
    "            'symbol': r'$\\frac{\\Delta(\\phi_c)}{\\Delta_{0}}$',\n",
    "            'color': 'goldenrod'\n",
    "        },\n",
    "        'shapeMon-norm': {\n",
    "            'name': 'Shape parameter',\n",
    "            'symbol': r'$\\frac{S(\\phi_c)}{S_{0}}$',\n",
    "            'color': 'orchid'\n",
    "        }\n",
    "    },\n",
    "    'TransFoci':{\n",
    "        'gyrMon-norm': {\n",
    "            'name': 'Radius of gyration',\n",
    "            'symbol': r'$\\frac{R_g(\\phi_c)}{R_{g,0}}$',\n",
    "            'color':'steelblue'\n",
    "        },\n",
    "        'fsdMon-norm': {\n",
    "            'name': 'Furthermost distance',\n",
    "            'symbol': r'$\\frac{L(\\phi_c)}{L_{0}}$',\n",
    "            'color': 'forestgreen'\n",
    "        },\n",
    "        'asphericityMon-norm': {\n",
    "            'name': 'Asphericity',\n",
    "            'symbol': r'$\\frac{\\Delta(\\phi_c)}{\\Delta_{0}}$',\n",
    "            'color': 'goldenrod'\n",
    "        },\n",
    "        'shapeMon-norm': {\n",
    "            'name': 'Shape parameter',\n",
    "            'symbol': r'$\\frac{S(\\phi_c)}{S_{0}}$',\n",
    "            'color': 'orchid'\n",
    "        }\n",
    "    }\n",
    "}"
   ]
  },
  {
   "cell_type": "code",
   "execution_count": null,
   "metadata": {},
   "outputs": [],
   "source": [
    "fontsize=16\n",
    "sns.set_context(\n",
    "            font_scale=2,\n",
    "            rc={\n",
    "                'font.family': \"Times New Roman\",\n",
    "                'mathtext.default': 'regular',\n",
    "                \"text.usetex\": True,\n",
    "                \"font.size\": fontsize\n",
    "            }\n",
    "        )\n",
    "tseries_fit_fgrid = sns.relplot(\n",
    "    x='phi_c_bulk_round',\n",
    "    y='value',\n",
    "    col='variable',\n",
    "    hue='dmon_large',\n",
    "    kind='line',\n",
    "    marker=\"s\",\n",
    "    markersize=7,\n",
    "    ls=\":\",\n",
    "    data=chainsize_melted,\n",
    "    col_wrap=2,\n",
    "    facet_kws = {'sharey': False, 'sharex': False}\n",
    ")\n",
    "for ax, property_ in zip(tseries_fit_fgrid.axes.flat,normalized_props):\n",
    "        ax.set_ylabel(\n",
    "            norm_properties_specs[project][property_][\"symbol\"],\n",
    "            rotation=0,\n",
    "            labelpad=20\n",
    "        )\n",
    "        ax.set_title(None)\n",
    "tseries_fit_fgrid.set_xlabels(attr_titles[hue_attr])\n",
    "tseries_fit_fgrid.tight_layout(w_pad=0)"
   ]
  },
  {
   "cell_type": "code",
   "execution_count": null,
   "metadata": {},
   "outputs": [],
   "source": [
    "for ax, hue_unique in zip(tseries_fit_fgrid.axes.flat,hue_unique_values):\n",
    "        long_time_value = np.round(\n",
    "            chainsize_quilibrium.loc[chainsize_quilibrium[hue_attr]==hue_unique,property_equil_name+\"-residue\"].values[0],\n",
    "            2\n",
    "        )\n",
    "        #label_value = mean_labels[property_].format(long_time_value)\n",
    "        ax.axhline(\n",
    "            long_time_value,\n",
    "            xmin=0.02,\n",
    "            xmax=0.98,\n",
    "            color=\"black\",\n",
    "            lw=2,\n",
    "            alpha=0.7,\n",
    "            label= properties_mon_equil_labels[property_equil_name]['symbol'],\n",
    "            linestyle=\"-.\")\n",
    "\n",
    "        handles, labels = ax.get_legend_handles_labels()\n",
    "        new_labels.append(labels[-1])\n",
    "        ax.legend(handles = handles, labels=new_labels, frameon=False, ncol=3)\n",
    "        new_labels = legend_labels[property_]\n",
    "\n"
   ]
  },
  {
   "cell_type": "markdown",
   "metadata": {
    "tags": []
   },
   "source": [
    "#### Single equilibrium plots "
   ]
  },
  {
   "cell_type": "code",
   "execution_count": null,
   "metadata": {},
   "outputs": [],
   "source": [
    "fontsize=16\n",
    "ext='pdf'\n",
    "save_to = './'\n",
    "property_ = 'gyrMon'\n",
    "s_info = parser(\n",
    "        space, \n",
    "        geometry='biaxial',\n",
    "        group=group,\n",
    "        lineage='space',\n",
    "        ispath=False\n",
    "    )\n",
    "space_title =  fr\" $N={s_info.nmon}, D={s_info.dcyl}, a_c={s_info.dcrowd}$\"\n",
    "#space_title =  f\" $n_s={s_info.nmon_small}, n_l={s_info.nmon_large}, a_l={s_info.dmon_large}, D={s_info.dcyl}, a_c={s_info.dcrowd}$\"\n",
    "for property_ in properties_mon_equil:\n",
    "    fig, ax = plt.subplots(nrows=1, ncols=1, figsize=(8,4.5))\n",
    "    sns.set_context(\n",
    "            font_scale=2,\n",
    "            rc={\n",
    "                'font.family': \"Times New Roman\",\n",
    "                'mathtext.default': 'regular',\n",
    "                \"text.usetex\": True,\n",
    "                \"font.size\": fontsize\n",
    "            }\n",
    "        )\n",
    "    line_ax = sns.lineplot(\n",
    "        x=hue_attr,\n",
    "        y=property_ + \"-norm\",\n",
    "        marker=\"o\",\n",
    "        ls=\":\",\n",
    "        data=chainsize_quilibrium,\n",
    "        ax=ax,\n",
    "    )\n",
    "    ax.set_ylabel(\n",
    "        properties_mon_equil_labels[property_]['norm'],\n",
    "        rotation=0,\n",
    "        labelpad=20\n",
    "    )\n",
    "    ax.set_xlabel(titles[hue_attr])\n",
    "    ax.set_title(space_title)\n",
    "    output = \"-\".join([\"equilPlot\", project_name, space,property_,hue_attr]) + \".\" + ext\n",
    "    fig.savefig(save_to + output, bbox_inches='tight')\n",
    "    plt.close()"
   ]
  },
  {
   "cell_type": "markdown",
   "metadata": {},
   "source": [
    "# Bonds and Clusters "
   ]
  },
  {
   "cell_type": "code",
   "execution_count": null,
   "metadata": {},
   "outputs": [],
   "source": []
  }
 ],
 "metadata": {
  "colab": {
   "name": "pipeline_v4.ipynb",
   "provenance": [],
   "version": "0.3.2"
  },
  "kernelspec": {
   "display_name": "Python 3 (ipykernel)",
   "language": "python",
   "name": "python3"
  },
  "language_info": {
   "codemirror_mode": {
    "name": "ipython",
    "version": 3
   },
   "file_extension": ".py",
   "mimetype": "text/x-python",
   "name": "python",
   "nbconvert_exporter": "python",
   "pygments_lexer": "ipython3",
   "version": "3.9.13"
  }
 },
 "nbformat": 4,
 "nbformat_minor": 4
}
