{
 "cells": [
  {
   "cell_type": "code",
   "execution_count": 1,
   "id": "b787e1b2-95bc-401c-a70c-ee0452f31f20",
   "metadata": {},
   "outputs": [],
   "source": [
    "import numpy as np\n",
    "from polyphys.probe.prober import fsd\n",
    "from polyphys.analyze import correlations\n",
    "import MDAnalysis as mda\n",
    "from MDAnalysis.analysis.base import AnalysisFromFunction\n",
    "from MDAnalysis import transformations as mda_trans\n",
    "\n",
    "from glob import glob\n",
    "import seaborn as sns\n",
    "import matplotlib.pyplot as plt"
   ]
  },
  {
   "cell_type": "code",
   "execution_count": 3,
   "id": "468c7434-7c09-4676-98b2-384d66b48f6d",
   "metadata": {},
   "outputs": [
    {
     "data": {
      "text/plain": [
       "['./N1000epshm29kbmm25nh0ac1nc0l500dt0.005ndump2000adump5000ens1.gyrTDna.txt']"
      ]
     },
     "execution_count": 3,
     "metadata": {},
     "output_type": "execute_result"
    }
   ],
   "source": [
    "glob('./N*gyrTDna.txt')"
   ]
  },
  {
   "cell_type": "code",
   "execution_count": 4,
   "id": "233214fa-79c8-4204-ac86-60f1be8c964a",
   "metadata": {},
   "outputs": [],
   "source": [
    "#short = np.loadtxt('./N200dt0.005ndump2000adump5000kbmm1r9lz45nh0ac1nc0ens1.gyrTDna.txt')\n",
    "long = np.loadtxt('./N1000epshm29kbmm25nh0ac1nc0l500dt0.005ndump2000adump5000ens1.gyrTDna.txt')"
   ]
  },
  {
   "cell_type": "code",
   "execution_count": 5,
   "id": "5af23e24-6fe7-4645-b8d7-ef94d6620d64",
   "metadata": {},
   "outputs": [
    {
     "data": {
      "text/plain": [
       "100020"
      ]
     },
     "execution_count": 5,
     "metadata": {},
     "output_type": "execute_result"
    }
   ],
   "source": [
    "len(long)"
   ]
  },
  {
   "cell_type": "code",
   "execution_count": 8,
   "id": "4b60aae2-9d85-4d63-8c1f-04116d82b847",
   "metadata": {},
   "outputs": [
    {
     "data": {
      "image/png": "[encoded data removed]",
      "text/plain": [
       "<Figure size 640x480 with 2 Axes>"
      ]
     },
     "metadata": {},
     "output_type": "display_data"
    }
   ],
   "source": [
    "fig, ax = plt.subplots(nrows=2, ncols=1)\n",
    "\n",
    "#ax[0].plot(short[:,0],short[:,1])\n",
    "#short_mean = np.mean(short[:,1])\n",
    "#ax[0].axhline(y=short_mean,c='red')\n",
    "long_mean = np.mean(long[:,1])\n",
    "ax[1].plot(long[:,0],long[:,1])\n",
    "ax[1].axhline(y=long_mean,c='red')\n",
    "plt.show()"
   ]
  },
  {
   "cell_type": "code",
   "execution_count": null,
   "id": "f6df01a3-ffec-4625-953c-1bce420a229d",
   "metadata": {},
   "outputs": [],
   "source": [
    "glob('./N*')"
   ]
  },
  {
   "cell_type": "code",
   "execution_count": 2,
   "id": "d98ada5d-1cc3-470b-bc02-4747f61db41d",
   "metadata": {},
   "outputs": [],
   "source": [
    "cell = mda.Universe(\n",
    "    './N1000dt0.005ndump2000adump5000kbmm25r7.5lz600nh0ac1nc0ens1.ring.all.data',\n",
    "    './N1000dt0.005ndump2000adump5000kbmm25r7.5lz600nh0ac1nc0ens1.ring.nucleoid.lammpstrj',\n",
    "    topology_format='DATA',\n",
    "    format='LAMMPSDUMP',\n",
    "    lammps_coordinate_convention='unscaled',\n",
    "    unwrap_images=False,\n",
    "    atom_style=\"id resid type x y z\", \n",
    "    dt=2000*0.005\n",
    ")"
   ]
  },
  {
   "cell_type": "code",
   "execution_count": 3,
   "id": "953f750f-e88f-4b64-8f8c-2d8a7d8a448a",
   "metadata": {},
   "outputs": [],
   "source": [
    "bug = cell.select_atoms('resid 1')  # the bug"
   ]
  },
  {
   "cell_type": "code",
   "execution_count": null,
   "id": "edb3cb22-4c39-4a5c-b9b4-e9562fdfa6f1",
   "metadata": {},
   "outputs": [],
   "source": [
    "workflow = [\n",
    "        mda_trans.unwrap(cell.atoms),\n",
    "        mda_trans.center_in_box(bug),\n",
    "        mda_trans.wrap(cell.atoms)\n",
    "    ]\n",
    "cell.trajectory.add_transformations(*workflow)"
   ]
  },
  {
   "cell_type": "code",
   "execution_count": null,
   "id": "71693031-7c18-493d-a164-4cb1764c193a",
   "metadata": {},
   "outputs": [],
   "source": [
    "bug.atoms.n_atoms"
   ]
  },
  {
   "cell_type": "code",
   "execution_count": 49,
   "id": "533c061d-2463-4746-b250-f25115e62386",
   "metadata": {},
   "outputs": [],
   "source": [
    "fsd_t = np.empty(0)\n",
    "n_bonds = len(bug.bonds.indices)\n",
    "bond_lengths = np.zeros((n_bonds, 1), dtype=np.float64)\n",
    "cosine_corrs = np.zeros(n_bonds, dtype=np.float64)"
   ]
  },
  {
   "cell_type": "code",
   "execution_count": 50,
   "id": "4a0ec950-7beb-4fd5-ae38-4864e7cd3479",
   "metadata": {},
   "outputs": [
    {
     "name": "stdout",
     "output_type": "stream",
     "text": [
      "CPU times: user 2min 18s, sys: 9.81 s, total: 2min 28s\n",
      "Wall time: 1min 12s\n"
     ]
    }
   ],
   "source": [
    "%%time\n",
    "\n",
    "for _ in cell.trajectory[80000:]:\n",
    "    # bug:\n",
    "    # -various measures of chain size\n",
    "    bond_dummy, cosine_dummy = correlations.bond_info(\n",
    "        bug,\n",
    "        'ring'\n",
    "        )\n",
    "    bond_lengths += bond_dummy\n",
    "    cosine_corrs += cosine_dummy\n",
    "    fsd_t = np.append(fsd_t, np.array([fsd(bug.positions)]), axis=0)"
   ]
  },
  {
   "cell_type": "code",
   "execution_count": 51,
   "id": "4ac20189-5597-4359-a543-c7f24f0cadaf",
   "metadata": {},
   "outputs": [
    {
     "data": {
      "text/plain": [
       "20001"
      ]
     },
     "execution_count": 51,
     "metadata": {},
     "output_type": "execute_result"
    }
   ],
   "source": [
    "n_frames = len(cell.trajectory[80000:])\n",
    "n_frames"
   ]
  },
  {
   "cell_type": "code",
   "execution_count": null,
   "id": "ca3259e7-ff09-409d-8b81-397440bb748e",
   "metadata": {},
   "outputs": [],
   "source": [
    "fig, ax = plt.subplots(nrows=2, ncols=1, sharex=True)\n",
    "\n",
    "ax[0].plot(0.005*long[:-19,0],long[:-19,1])\n",
    "short_mean = np.mean(long[55000:,1])\n",
    "ax[0].axhline(y=short_mean,c='red',label=fr'$\\langle R_g\\rangle={round(short_mean,3)}$')\n",
    "ax[0].axvline(x=0.005*long[55000,0],c='gray',ls='--',label='Equilibrium reached!')\n",
    "ax[0].legend()\n",
    "ax[0].set_ylabel(r'$R_g(t)$')\n",
    "fsd_mean = np.mean(fsd_t[55000:])\n",
    "ax[1].plot(0.005*long[:-19,0],fsd_t)\n",
    "ax[1].axhline(y=fsd_mean,c='red',label=fr'$\\langle L\\rangle={round(fsd_mean,3)}$')\n",
    "ax[1].axvline(x=0.005*long[55000,0],c='gray',ls='--',label='Equilibrium reached!')\n",
    "ax[1].set_ylabel(r'$L$')\n",
    "ax[1].legend()\n",
    "ax[1].set_xlabel(r'$t/\\tau_{LJ}$')\n",
    "plt.show()\n",
    "fig.savefig('chainsize.pdf')"
   ]
  },
  {
   "cell_type": "code",
   "execution_count": 36,
   "id": "9c5b04ac-042d-42bb-a129-4071838801ac",
   "metadata": {},
   "outputs": [],
   "source": [
    "import scipy\n",
    "def fit_exponential_decay(x, y):\n",
    "    r\"\"\"Fit a function to an exponential decay\n",
    "\n",
    "    .. math::  y = \\exp\\left(- \\frac{x}{a}\\right)\n",
    "\n",
    "    Parameters\n",
    "    ----------\n",
    "    x, y : array_like\n",
    "      The two arrays of data\n",
    "\n",
    "    Returns\n",
    "    -------\n",
    "    a : float\n",
    "      The coefficient *a* for this decay\n",
    "\n",
    "    Notes\n",
    "    -----\n",
    "    This function assumes that data starts at 1.0 and decays to 0.0\n",
    "\n",
    "    \"\"\"\n",
    "    def exp_func(x, a):\n",
    "        return np.exp(-x/a)\n",
    "    a = scipy.optimize.curve_fit(exp_func, x, y)[0][0]\n",
    "    return a\n",
    "def fit_exponential_growth(x, y):\n",
    "    r\"\"\"Fit a function to an exponential decay\n",
    "\n",
    "    .. math::  y = \\exp\\left(- \\frac{x}{a}\\right)\n",
    "\n",
    "    Parameters\n",
    "    ----------\n",
    "    x, y : array_like\n",
    "      The two arrays of data\n",
    "\n",
    "    Returns\n",
    "    -------\n",
    "    a : float\n",
    "      The coefficient *a* for this decay\n",
    "\n",
    "    Notes\n",
    "    -----\n",
    "    This function assumes that data starts at 1.0 and decays to 0.0\n",
    "\n",
    "    \"\"\"\n",
    "    def exp_func(x, a):\n",
    "        return np.exp(x/a)\n",
    "    a = scipy.optimize.curve_fit(exp_func, x, y)[0][0]\n",
    "    return a"
   ]
  },
  {
   "cell_type": "code",
   "execution_count": 52,
   "id": "e9007154-2706-441b-9624-5f9f8f2702c3",
   "metadata": {},
   "outputs": [],
   "source": [
    "bond_lengths_2 = bond_lengths / n_frames\n",
    "bonds_per_lag = np.arange(n_bonds, 0, -1)\n",
    "cosine_corrs_2 = cosine_corrs / (n_frames * bonds_per_lag)\n",
    "bond_lengths_2 = bond_lengths_2.reshape(n_bonds,)"
   ]
  },
  {
   "cell_type": "code",
   "execution_count": 53,
   "id": "59c2aa5d-a9cb-43ba-b90d-687ca30b6313",
   "metadata": {},
   "outputs": [
    {
     "data": {
      "text/plain": [
       "0.9700617340926706"
      ]
     },
     "execution_count": 53,
     "metadata": {},
     "output_type": "execute_result"
    }
   ],
   "source": [
    "mean_bond = np.mean(bond_lengths_2)\n",
    "mean_bond"
   ]
  },
  {
   "cell_type": "code",
   "execution_count": 54,
   "id": "2c6f9eef-23ba-442b-8382-d2d5c643f553",
   "metadata": {},
   "outputs": [],
   "source": [
    "bond_lags = np.arange(1, n_bonds+1)"
   ]
  },
  {
   "cell_type": "code",
   "execution_count": 55,
   "id": "85d1b649-e529-40f0-900c-93b90260575a",
   "metadata": {},
   "outputs": [],
   "source": [
    "per_length = fit_exponential_decay(\n",
    "    bond_lags,\n",
    "    cosine_corrs_2\n",
    ")"
   ]
  },
  {
   "cell_type": "code",
   "execution_count": 56,
   "id": "e16972b0-227e-44e7-8474-887caf5eca5f",
   "metadata": {},
   "outputs": [
    {
     "data": {
      "text/plain": [
       "112.9446326582935"
      ]
     },
     "execution_count": 56,
     "metadata": {},
     "output_type": "execute_result"
    }
   ],
   "source": [
    "per_length"
   ]
  },
  {
   "cell_type": "code",
   "execution_count": 57,
   "id": "6f96615e-7f37-445a-b47d-f13b92ccb96f",
   "metadata": {},
   "outputs": [
    {
     "data": {
      "image/png": "[encoded data removed]",
      "text/plain": [
       "<Figure size 640x480 with 1 Axes>"
      ]
     },
     "metadata": {},
     "output_type": "display_data"
    }
   ],
   "source": [
    "fig, ax = plt.subplots()\n",
    "\n",
    "ax.scatter(bond_lags,cosine_corrs_2,marker='o',s=5)\n",
    "ax.plot(bond_lags,np.exp(-bond_lags/per_length))\n",
    "#short_mean = np.mean(long[55000:,1])\n",
    "#ax.axhline(y=short_mean,c='red',label=fr'$\\langle R_g\\rangle={round(short_mean,3)}$')\n",
    "#ax.axvline(x=0.005*long[55000,0],c='gray',ls='--',label='Equilibrium reached!')\n",
    "#ax.legend()\n",
    "#ax.set_ylabel(r'$R_g(t)$')\n",
    "\n",
    "plt.show()\n",
    "fig.savefig('bond_correlations.pdf')"
   ]
  },
  {
   "cell_type": "code",
   "execution_count": null,
   "id": "7365953e-e9c4-41a7-8580-36e0a7e49fb8",
   "metadata": {},
   "outputs": [],
   "source": []
  }
 ],
 "metadata": {
  "kernelspec": {
   "display_name": "Python 3 (ipykernel)",
   "language": "python",
   "name": "python3"
  },
  "language_info": {
   "codemirror_mode": {
    "name": "ipython",
    "version": 3
   },
   "file_extension": ".py",
   "mimetype": "text/x-python",
   "name": "python",
   "nbconvert_exporter": "python",
   "pygments_lexer": "ipython3",
   "version": "3.11.0"
  }
 },
 "nbformat": 4,
 "nbformat_minor": 5
}
