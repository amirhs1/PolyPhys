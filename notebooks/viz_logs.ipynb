{
 "cells": [
  {
   "cell_type": "code",
   "execution_count": 1,
   "id": "ecee2793-6a35-4710-ac04-50181f202831",
   "metadata": {},
   "outputs": [],
   "source": [
    "from glob import glob\n",
    "import warnings \n",
    "warnings.filterwarnings(\"ignore\")\n",
    "\n",
    "import pandas as pd\n",
    "import numpy as np\n",
    "import re\n",
    "\n",
    "import matplotlib.pyplot as plt\n",
    "import matplotlib as mpl\n",
    "import seaborn as sns\n",
    "\n",
    "from polyphys.visualize import tuner\n",
    "from polyphys.visualize import plotter\n",
    "from polyphys.manage.parser import SumRuleCyl, TransFociCyl, HnsCub, HnsCyl\n",
    "from polyphys.probe import logger"
   ]
  },
  {
   "cell_type": "code",
   "execution_count": 2,
   "id": "e9c48209-d0af-4a20-b74e-e865b2abc9cc",
   "metadata": {},
   "outputs": [
    {
     "data": {
      "text/plain": [
       "['/Users/amirhsi_mini/research_data/test_hns_cyl/N1000kbmm24nh0ac1r8lz675nc0ens1.ring/N1000kbmm24nh0ac1r8lz675nc0ens1.ring.all.data',\n",
       " '/Users/amirhsi_mini/research_data/test_hns_cyl/N1000kbmm24nh0ac1r8lz675nc0ens1.ring/N1000kbmm24nh0ac1r8lz675nc0ens1.ring.all.log',\n",
       " '/Users/amirhsi_mini/research_data/test_hns_cyl/N1000kbmm24nh0ac1r8lz675nc0ens1.ring/N1000kbmm24nh0ac1r8lz675nc0ens1.ring.nucleoid.lammpstrj']"
      ]
     },
     "execution_count": 2,
     "metadata": {},
     "output_type": "execute_result"
    }
   ],
   "source": [
    "#glob('./*.log')\n",
    "sorted(glob('/Users/amirhsi_mini/research_data/test_hns_cyl/N1000kbmm24nh0ac1r8lz675nc0ens1.ring/N*'))"
   ]
  },
  {
   "cell_type": "code",
   "execution_count": 3,
   "id": "e2032b0f-a104-4bb6-b967-ce074735c69e",
   "metadata": {},
   "outputs": [],
   "source": [
    "log = HnsCyl('/Users/amirhsi_mini/research_data/test_hns_cyl/N1000kbmm24nh0ac1r8lz675nc0ens1.ring/N1000kbmm24nh0ac1r8lz675nc0ens1.ring.all.log',\n",
    "    'whole',\n",
    "    'cylindrical',\n",
    "    'all',\n",
    "    'ring'\n",
    ")"
   ]
  },
  {
   "cell_type": "code",
   "execution_count": 6,
   "id": "5f1139db-9639-4201-bcbc-ff33cb599653",
   "metadata": {},
   "outputs": [
    {
     "data": {
      "text/plain": [
       "'N1000kbmm24nh0ac1r8lz675nc0'"
      ]
     },
     "execution_count": 6,
     "metadata": {},
     "output_type": "execute_result"
    }
   ],
   "source": [
    "log.ensemble_long"
   ]
  },
  {
   "cell_type": "code",
   "execution_count": 5,
   "id": "05744b22-824a-4fd3-8862-901503ec3493",
   "metadata": {},
   "outputs": [
    {
     "ename": "NameError",
     "evalue": "name 'log_data' is not defined",
     "output_type": "error",
     "traceback": [
      "\u001b[0;31m---------------------------------------------------------------------------\u001b[0m",
      "\u001b[0;31mNameError\u001b[0m                                 Traceback (most recent call last)",
      "Cell \u001b[0;32mIn[5], line 1\u001b[0m\n\u001b[0;32m----> 1\u001b[0m \u001b[38;5;28;01mfor\u001b[39;00m key, val \u001b[38;5;129;01min\u001b[39;00m log_data\u001b[38;5;241m.\u001b[39mrun_data\u001b[38;5;241m.\u001b[39mitems():\n\u001b[1;32m      2\u001b[0m     \u001b[38;5;28mprint\u001b[39m(key)\n\u001b[1;32m      3\u001b[0m     \u001b[38;5;28mprint\u001b[39m(\u001b[38;5;28mlen\u001b[39m(val))\n",
      "\u001b[0;31mNameError\u001b[0m: name 'log_data' is not defined"
     ]
    }
   ],
   "source": [
    "for key, val in log_data.run_data.items():\n",
    "    print(key)\n",
    "    print(len(val))"
   ]
  },
  {
   "cell_type": "code",
   "execution_count": 7,
   "id": "c19e12fa-0eb5-4e9b-9b03-cd3c4ec1ead7",
   "metadata": {},
   "outputs": [],
   "source": [
    "log_data = logger.LammpsLog('/Users/amirhsi_mini/research_data/test_hns_cyl/N200kbmm2r4.5nh0ac1lz75nc0ens5.ring/N200kbmm2r4.5nh0ac1lz75nc0ens5.ring.nuceloid.log', 1)"
   ]
  },
  {
   "cell_type": "code",
   "execution_count": 9,
   "id": "677727cf-5812-4035-8df0-2a4d60f327ed",
   "metadata": {},
   "outputs": [],
   "source": [
    "log_data.extract_thermo()\n",
    "#log_data.extract_run_stat()\n",
    "thermo = log_data.thermo\n",
    "thermo.drop(index=0, inplace=True)\n",
    "run_stat = log_data.run_stat\n",
    "wall_time = log_data.wall_time"
   ]
  },
  {
   "cell_type": "code",
   "execution_count": 20,
   "id": "a3a29582-3864-4484-b91a-be387df3a336",
   "metadata": {},
   "outputs": [
    {
     "data": {
      "text/html": [
       "<div>\n",
       "<style scoped>\n",
       "    .dataframe tbody tr th:only-of-type {\n",
       "        vertical-align: middle;\n",
       "    }\n",
       "\n",
       "    .dataframe tbody tr th {\n",
       "        vertical-align: top;\n",
       "    }\n",
       "\n",
       "    .dataframe thead th {\n",
       "        text-align: right;\n",
       "    }\n",
       "</style>\n",
       "<table border=\"1\" class=\"dataframe\">\n",
       "  <thead>\n",
       "    <tr style=\"text-align: right;\">\n",
       "      <th></th>\n",
       "      <th>n_cores</th>\n",
       "      <th>n_atoms</th>\n",
       "      <th>wall_time_hr</th>\n",
       "    </tr>\n",
       "  </thead>\n",
       "  <tbody>\n",
       "    <tr>\n",
       "      <th>0</th>\n",
       "      <td>1</td>\n",
       "      <td>200</td>\n",
       "      <td>1.51</td>\n",
       "    </tr>\n",
       "  </tbody>\n",
       "</table>\n",
       "</div>"
      ],
      "text/plain": [
       "   n_cores  n_atoms  wall_time_hr\n",
       "0        1      200          1.51"
      ]
     },
     "execution_count": 20,
     "metadata": {},
     "output_type": "execute_result"
    }
   ],
   "source": [
    "wall_time"
   ]
  },
  {
   "cell_type": "code",
   "execution_count": 10,
   "id": "39948ede-d3af-44d4-a4f8-7ac2cf71a08e",
   "metadata": {},
   "outputs": [
    {
     "data": {
      "text/html": [
       "<div>\n",
       "<style scoped>\n",
       "    .dataframe tbody tr th:only-of-type {\n",
       "        vertical-align: middle;\n",
       "    }\n",
       "\n",
       "    .dataframe tbody tr th {\n",
       "        vertical-align: top;\n",
       "    }\n",
       "\n",
       "    .dataframe thead th {\n",
       "        text-align: right;\n",
       "    }\n",
       "</style>\n",
       "<table border=\"1\" class=\"dataframe\">\n",
       "  <thead>\n",
       "    <tr style=\"text-align: right;\">\n",
       "      <th></th>\n",
       "      <th>Step</th>\n",
       "      <th>variable</th>\n",
       "      <th>value</th>\n",
       "    </tr>\n",
       "  </thead>\n",
       "  <tbody>\n",
       "    <tr>\n",
       "      <th>0</th>\n",
       "      <td>210000.0</td>\n",
       "      <td>KinEng</td>\n",
       "      <td>1.556826</td>\n",
       "    </tr>\n",
       "    <tr>\n",
       "      <th>1</th>\n",
       "      <td>220000.0</td>\n",
       "      <td>KinEng</td>\n",
       "      <td>1.481014</td>\n",
       "    </tr>\n",
       "    <tr>\n",
       "      <th>2</th>\n",
       "      <td>230000.0</td>\n",
       "      <td>KinEng</td>\n",
       "      <td>1.456184</td>\n",
       "    </tr>\n",
       "    <tr>\n",
       "      <th>3</th>\n",
       "      <td>240000.0</td>\n",
       "      <td>KinEng</td>\n",
       "      <td>1.447640</td>\n",
       "    </tr>\n",
       "    <tr>\n",
       "      <th>4</th>\n",
       "      <td>250000.0</td>\n",
       "      <td>KinEng</td>\n",
       "      <td>1.459170</td>\n",
       "    </tr>\n",
       "    <tr>\n",
       "      <th>...</th>\n",
       "      <td>...</td>\n",
       "      <td>...</td>\n",
       "      <td>...</td>\n",
       "    </tr>\n",
       "    <tr>\n",
       "      <th>50040</th>\n",
       "      <td>100160000.0</td>\n",
       "      <td>E_angle</td>\n",
       "      <td>0.758252</td>\n",
       "    </tr>\n",
       "    <tr>\n",
       "      <th>50041</th>\n",
       "      <td>100170000.0</td>\n",
       "      <td>E_angle</td>\n",
       "      <td>0.758460</td>\n",
       "    </tr>\n",
       "    <tr>\n",
       "      <th>50042</th>\n",
       "      <td>100180000.0</td>\n",
       "      <td>E_angle</td>\n",
       "      <td>0.800331</td>\n",
       "    </tr>\n",
       "    <tr>\n",
       "      <th>50043</th>\n",
       "      <td>100190000.0</td>\n",
       "      <td>E_angle</td>\n",
       "      <td>0.767552</td>\n",
       "    </tr>\n",
       "    <tr>\n",
       "      <th>50044</th>\n",
       "      <td>100200000.0</td>\n",
       "      <td>E_angle</td>\n",
       "      <td>0.824692</td>\n",
       "    </tr>\n",
       "  </tbody>\n",
       "</table>\n",
       "<p>50045 rows × 3 columns</p>\n",
       "</div>"
      ],
      "text/plain": [
       "              Step variable     value\n",
       "0         210000.0   KinEng  1.556826\n",
       "1         220000.0   KinEng  1.481014\n",
       "2         230000.0   KinEng  1.456184\n",
       "3         240000.0   KinEng  1.447640\n",
       "4         250000.0   KinEng  1.459170\n",
       "...            ...      ...       ...\n",
       "50040  100160000.0  E_angle  0.758252\n",
       "50041  100170000.0  E_angle  0.758460\n",
       "50042  100180000.0  E_angle  0.800331\n",
       "50043  100190000.0  E_angle  0.767552\n",
       "50044  100200000.0  E_angle  0.824692\n",
       "\n",
       "[50045 rows x 3 columns]"
      ]
     },
     "execution_count": 10,
     "metadata": {},
     "output_type": "execute_result"
    }
   ],
   "source": [
    "melt_cols = ['KinEng', 'PotEng', 'E_vdwl', 'E_bond', 'E_angle']\n",
    "thermo_melt = pd.melt(thermo, id_vars=['Step'], value_vars=melt_cols)\n",
    "thermo_melt"
   ]
  },
  {
   "cell_type": "code",
   "execution_count": 11,
   "id": "ed1825c8-ce37-4792-96d7-82667919e4a5",
   "metadata": {},
   "outputs": [
    {
     "data": {
      "image/png": "[encoded data removed]",
      "text/plain": [
       "<Figure size 809x500 with 1 Axes>"
      ]
     },
     "metadata": {},
     "output_type": "display_data"
    }
   ],
   "source": [
    "color_palette = 'tab10'\n",
    "#color_palette = ['orange', 'darkgoldenrod', 'forestgreen']\n",
    "plot_context = 'paper'\n",
    "font_scale = 1.5\n",
    "height = 5\n",
    "aspect = 1.618\n",
    "ylabel_pad = 50\n",
    "rc_params= {\n",
    "    #'axes.facecolor': 'aliceblue',\n",
    "    'mathtext.default': 'regular',\n",
    "    'text.usetex': True,\n",
    "    #'axes.grid': True,\n",
    "    #'axes.grid.axis': 'both',\n",
    "    #'axes.grid.which': 'both'\n",
    "}\n",
    "\n",
    "fig, axes = plt.subplots(nrows=1, ncols=1,figsize=(aspect*height, height), sharex=True)\n",
    "sns.set_theme(\n",
    "    context=plot_context,\n",
    "    style='ticks',\n",
    "    palette=color_palette,\n",
    "    font='Times New Roman',\n",
    "    font_scale=font_scale,\n",
    "    rc=rc_params\n",
    ")\n",
    "ax = axes\n",
    "ax = sns.lineplot(data=thermo_melt, x='Step', y='value', hue='variable')\n",
    "ax.legend()\n",
    "#ax.set_yscale('log')\n",
    "#sns.lineplot(data=thermo, x='Step', y='E_mol', ax=ax)\n",
    "fig.savefig('energy.pdf')"
   ]
  },
  {
   "cell_type": "code",
   "execution_count": null,
   "id": "c91b5d72-00b7-4af3-b500-b4b906b27587",
   "metadata": {},
   "outputs": [],
   "source": []
  }
 ],
 "metadata": {
  "kernelspec": {
   "display_name": "Python 3 (ipykernel)",
   "language": "python",
   "name": "python3"
  },
  "language_info": {
   "codemirror_mode": {
    "name": "ipython",
    "version": 3
   },
   "file_extension": ".py",
   "mimetype": "text/x-python",
   "name": "python",
   "nbconvert_exporter": "python",
   "pygments_lexer": "ipython3",
   "version": "3.11.0"
  }
 },
 "nbformat": 4,
 "nbformat_minor": 5
}
