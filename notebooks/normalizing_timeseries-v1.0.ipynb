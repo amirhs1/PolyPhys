{
 "cells": [
  {
   "cell_type": "code",
   "execution_count": null,
   "id": "7179f30d-26a9-406d-8d96-194cf34672f1",
   "metadata": {},
   "outputs": [],
   "source": [
    "# Importing necessary packages:\n",
    "#import re\n",
    "#import os\n",
    "from glob import glob\n",
    "#import math\n",
    "import numpy as np\n",
    "import pandas as pd\n",
    "#import datetime as dt\n",
    "#import itertools\n",
    "\n",
    "import matplotlib.pyplot as plt\n",
    "import matplotlib.colors as colors\n",
    "import matplotlib as mpl\n",
    "from matplotlib import rcParams, cycler\n",
    "import matplotlib.lines as lines\n",
    "from collections import OrderedDict\n",
    "from matplotlib.legend import Legend\n",
    "import matplotlib.patches as mpatches\n",
    "import matplotlib.lines as mlines\n",
    "from matplotlib.collections import PolyCollection # for chaing confidence interval color in statsmodels.graphics.tsaplots.plot_acf\n",
    "\n",
    "import seaborn as sns\n",
    "\n",
    "import statsmodels.tsa.stattools as tsas\n",
    "import statsmodels.graphics.tsaplots as tsap\n",
    "\n",
    "from polyphys.visualize import plotter\n",
    "from polyphys.visualize import tuner\n",
    "from polyphys.manage.parser import SumRule, TransFoci\n",
    "from polyphys.manage import organizer\n",
    "\n",
    "from polyphys.analyze import correlations \n",
    "from scipy import optimize\n",
    "\n",
    "import inspect"
   ]
  },
  {
   "cell_type": "markdown",
   "id": "7c0297fe-a5a7-4da2-9f61-1f73e2eaa099",
   "metadata": {
    "tags": []
   },
   "source": [
    "### Importing data"
   ]
  },
  {
   "cell_type": "markdown",
   "id": "85b4e2be-86e6-41e6-b70b-65ef7e17ab0f",
   "metadata": {
    "tags": []
   },
   "source": [
    "- **Cuation: project-specific settings**"
   ]
  },
  {
   "cell_type": "code",
   "execution_count": null,
   "id": "89b00266-fa4c-47af-8bd6-161bbcf703bb",
   "metadata": {
    "tags": []
   },
   "outputs": [],
   "source": [
    "# loading databases:\n",
    "database = '/Users/amirhsi_mini/research_data/analysis/'\n",
    "project_name = 'SumRule'\n",
    "spaces_to_read = [\"N2000D30.0ac4.0\",\"N2000D30.0ac6.0\"]\n",
    "#parser=TransFoci\n",
    "parser=SumRule\n",
    "#project_name = 'TransFoci'\n",
    "#spaces_to_read = [\"ns400nl5al5D20ac1\"]\n",
    "group = \"bug\"\n",
    "species = \"Mon\"\n",
    "\n",
    "chainsize = []\n",
    "for space in spaces_to_read:\n",
    "    space_middle_name = \"-\".join([space, group, species])\n",
    "    space_chainsize = pd.read_parquet(database + space_middle_name + \"-allInOne-chainSize.parquet.brotli\")\n",
    "    chainsize.append(space_chainsize)\n",
    "chainsize = pd.concat(chainsize,axis=0, ignore_index=True)\n",
    "chainsize.reset_index(inplace=True,drop=True)"
   ]
  },
  {
   "cell_type": "markdown",
   "id": "d07a06c8-87a8-44c3-bb72-949afcdd7184",
   "metadata": {
    "tags": []
   },
   "source": [
    "### Some explorations:"
   ]
  },
  {
   "cell_type": "code",
   "execution_count": null,
   "id": "0bb86b39-87ee-4a9b-9140-08cf2513ce19",
   "metadata": {},
   "outputs": [],
   "source": [
    "chainsize.head()"
   ]
  },
  {
   "cell_type": "code",
   "execution_count": null,
   "id": "97a4fc38-3687-4b22-a2d4-2a52e6e01147",
   "metadata": {},
   "outputs": [],
   "source": [
    "chainsize.columns"
   ]
  },
  {
   "cell_type": "code",
   "execution_count": null,
   "id": "730fd866-78d4-41e3-b776-e5d50b693b50",
   "metadata": {
    "tags": []
   },
   "outputs": [],
   "source": [
    "chainsize.info()"
   ]
  },
  {
   "cell_type": "markdown",
   "id": "8cb69f52-6019-443b-ae51-6014abb6fd40",
   "metadata": {
    "tags": []
   },
   "source": [
    "### Grouping and filtering"
   ]
  },
  {
   "cell_type": "markdown",
   "id": "6c0b4c80-2421-4de7-8bd6-8492ec16cc4c",
   "metadata": {},
   "source": [
    "Since the datasets we work with are large, it is a good idea to \n",
    "- define some filters to ease subsetting the dataframes.\n",
    "- define distinguishable colors for the volume fraction of crowders as the changing parameter that defines different ensAvg groups in a space\n",
    "- round the value of this changing parameter."
   ]
  },
  {
   "cell_type": "markdown",
   "id": "37934fa1-9a75-4bc4-a0e7-d7143e647a20",
   "metadata": {},
   "source": [
    "- **Cuation: project-specific settings**"
   ]
  },
  {
   "cell_type": "code",
   "execution_count": null,
   "id": "d1fcdbe8-9703-49fd-b00f-a09134645d73",
   "metadata": {},
   "outputs": [],
   "source": [
    "# droping some of the columns\n",
    "chainsize.drop(columns=['asphericityTMon-var',\n",
    "       'asphericityTMon-sem','bondsTFoci-var', 'bondsTFoci-sem' , 'clustersTFoci-var', 'clustersTFoci-sem',\n",
    "        'fsdTMon-var', 'fsdTMon-sem', \n",
    "       'gyrTMon-var', 'gyrTMon-sem', 'rfloryTMon-var',\n",
    "       'rfloryTMon-sem', 'shapeTMon-var', 'shapeTMon-sem'],inplace=True)"
   ]
  },
  {
   "cell_type": "code",
   "execution_count": null,
   "id": "b8d834b5-7bd0-4511-94bc-e3e45663bbc2",
   "metadata": {},
   "outputs": [],
   "source": [
    "chainsize.drop(columns=['asphericityTMon-var',\n",
    "       'asphericityTMon-sem', \n",
    "        'fsdTMon-var', 'fsdTMon-sem', \n",
    "       'gyrTMon-var', 'gyrTMon-sem', 'rfloryTMon-var',\n",
    "       'rfloryTMon-sem', 'shapeTMon-var', 'shapeTMon-sem'],inplace=True)"
   ]
  },
  {
   "cell_type": "code",
   "execution_count": null,
   "id": "ffbe7ffd-6743-4fc1-8371-c133b0fc8edd",
   "metadata": {},
   "outputs": [],
   "source": [
    "# a sorted list of unique spaces in the dataset\n",
    "spaces = chainsize.loc[:,'space'].drop_duplicates().sort_values()\n",
    "spaces = sorted(spaces, key = organizer.sort_by_alphanumeric)\n",
    "print(spaces)\n",
    "# rounding phi_c as facgtors of 0.025 upt to 3 decimal digits:\n",
    "round_to = 0.025\n",
    "phi_crds = chainsize.loc[:,'phi_c_bulk'].drop_duplicates().sort_values().values\n",
    "phi_crds = np.round(np.round(phi_crds/round_to) * round_to, 3)\n",
    "phi_crds = np.unique(phi_crds)\n",
    "phi_crds.sort()\n",
    "print(phi_crds)\n",
    "print(\"Number of unique phi_c_bulk:\", len(phi_crds))\n",
    "# setting colors for unique crd_c\n",
    "flar_cmap = mpl.colors.ListedColormap(sns.cm._flare_lut)\n",
    "flare_cmap_cut = tuner.truncated_colormap(flar_cmap,  min_value=0.0, max_value=1.0, ncolors=200)\n",
    "mpl.cm.register_cmap(\"flare_cmap_cut\", flare_cmap_cut)\n",
    "phi_colors = sns.color_palette(\"flare_cmap_cut\", len(phi_crds))#,as_cmap=True)\n",
    "# add rounded phi_crds to the dataset\n",
    "rounding_func = lambda x, round_to: np.round(np.rint((x / round_to)) * round_to, 3)\n",
    "chainsize['phi_c_bulk_round'] = chainsize['phi_c_bulk'].apply(\n",
    "    rounding_func, args=[round_to]\n",
    ")\n",
    "# Define a list of unique physical properties:\n",
    "properties = [property_.split('-mean')[0] for property_ in chainsize.columns if '-mean' in property_]\n",
    "# change the name of cols after fining properties based on \"mean\" in their name\n",
    "new_columns = [property_.split('-mean')[0] for property_ in chainsize.columns]\n",
    "properties.sort()\n",
    "chainsize.columns = new_columns\n",
    "print(properties)\n",
    "# Define unique specifications for each physical property:\n",
    "properties_specs =  {\n",
    "    'rfloryTMon': {\n",
    "        'name': 'Flory radius',\n",
    "        'symbol': r'$R_F(\\hat{t})$',\n",
    "        'color': 'firebrick'\n",
    "    },\n",
    "    'gyrTMon': {\n",
    "        'name': 'radius of gyration',\n",
    "        'symbol': r'$R_g(\\hat{t})$',\n",
    "        'color':'steelblue'\n",
    "               },\n",
    "    'fsdTMon': {\n",
    "        'name': 'furthermost distance',\n",
    "        'symbol': r'$L(\\hat{t})$',\n",
    "        'color': 'forestgreen'\n",
    "    },\n",
    "    'asphericityTMon': {\n",
    "        'name': 'asphericity',\n",
    "        'symbol': r'$\\Delta(\\hat{t})$',\n",
    "        'color': 'goldenrod'\n",
    "    },\n",
    "    'shapeTMon': {\n",
    "        'name': 'shape parameter',\n",
    "        'symbol': r'$S(\\hat{t})$',\n",
    "        'color': 'orchid'\n",
    "    },\n",
    "    'bondsTFoci': {\n",
    "        'name': 'bond size',\n",
    "        'symbol': r'$B(\\hat{t})$',\n",
    "        'color': 'orchid'\n",
    "    },\n",
    "    'clustersTFoci': {\n",
    "        'name': 'cluster size',\n",
    "        'symbol': r'$C(\\hat{t})$',\n",
    "        'color': 'orchid'\n",
    "    }\n",
    "}\n",
    "titles = {\n",
    "    \"phi_c_bulk_round\": r\"$\\phi_c^{{(bulk)}}$\",\n",
    "    \"time\": \"$\\hat{{t}}$\",\n",
    "    \"lags\": \"$\\hat{t}_{lags}$\",\n",
    "}"
   ]
  },
  {
   "cell_type": "markdown",
   "id": "992d79ce-119c-48e4-afd0-7df8bcf303e2",
   "metadata": {},
   "source": [
    "- **Cuation: project-specific settings**\n",
    "- Ignoring some properties in plotting for **TransFoci** project"
   ]
  },
  {
   "cell_type": "code",
   "execution_count": null,
   "id": "2a8739e0-df32-4ae1-8637-8b5d8ad71a2f",
   "metadata": {},
   "outputs": [],
   "source": [
    "properties.remove('rfloryTMon')\n",
    "#properties.remove('fsdTMon')\n",
    "print(properties)\n",
    "properties_specs.pop('rfloryTMon')\n",
    "#properties_specs.pop('fsdTMon')\n",
    "print(properties_specs)"
   ]
  },
  {
   "cell_type": "markdown",
   "id": "1dfe557b-0b12-496e-9f6e-11ef9f722d0f",
   "metadata": {
    "tags": []
   },
   "source": [
    "### Time-series analysis:"
   ]
  },
  {
   "cell_type": "markdown",
   "id": "a809af14-b284-4732-8f5e-7a2fa10cc89a",
   "metadata": {
    "tags": []
   },
   "source": [
    "#### Normalization or transformation: not needed"
   ]
  },
  {
   "cell_type": "code",
   "execution_count": null,
   "id": "db859b2d-4d18-4dea-8d0f-36a9d79672da",
   "metadata": {},
   "outputs": [],
   "source": [
    "def minmax_scaler(\n",
    "    data,\n",
    "    data_min,\n",
    "    data_max\n",
    "):\n",
    "    if data_min >= data_max:\n",
    "        raise ValueError(\n",
    "            f\"In the min-max normalization, the min of data '{data_min}'\"\n",
    "            f\" cannot be larger than or equal to '{data_max}'.\"\n",
    "        )\n",
    "    return (data - data_min) / (data_max - data_min)\n",
    "\n",
    "def standard_scaler(\n",
    "    data,\n",
    "    data_mean,\n",
    "    data_std\n",
    "):\n",
    "    return (data - data_mean) / data_std"
   ]
  },
  {
   "cell_type": "markdown",
   "id": "e10e93ce-f733-40d3-afca-79fffbaf215c",
   "metadata": {
    "tags": []
   },
   "source": [
    "##### Dataset for testing normalization:"
   ]
  },
  {
   "cell_type": "code",
   "execution_count": null,
   "id": "6dec8dfa-d684-4ddf-8da6-f498afcd515f",
   "metadata": {},
   "outputs": [],
   "source": [
    "space = spaces[0]\n",
    "property_ = 'gyrTMon'\n",
    "hue_attr = 'phi_c_bulk_round'\n",
    "s_info = parser(\n",
    "        space, \n",
    "        geometry='biaxial',\n",
    "        group=group,\n",
    "        lineage='space',\n",
    "        ispath=False\n",
    "    )\n",
    "space_title =  fr\" $N={s_info.nmon}, D={s_info.dcyl}, a_c={s_info.dcrowd}$\"\n",
    "#space_title =  f\" $n_s={s_info.nmon_small}, n_l={s_info.nmon_large}, a_l={s_info.dmon_large}, D={s_info.dcyl}, a_c={s_info.dcrowd}$\"\n",
    "chainsize_space = chainsize.loc[chainsize['space']==space,['time', property_, hue_attr]]\n",
    "hue_unique_values = chainsize_space[hue_attr].drop_duplicates().values\n",
    "chainsize_space[property_ + '-minmax'] = 0\n",
    "chainsize_space[property_ + '-zscore'] = 0\n",
    "for hue_unique in hue_unique_values:\n",
    "    attr_cond = chainsize_space[hue_attr] == hue_unique\n",
    "    attr_min = chainsize_space.loc[attr_cond, property_].min()\n",
    "    attr_max = chainsize_space.loc[attr_cond, property_].max()\n",
    "    chainsize_space.loc[attr_cond, property_ + '-minmax'] = chainsize_space.loc[attr_cond, property_].apply(minmax_scaler, args = (attr_min, attr_max))\n",
    "    attr_mean = chainsize_space.loc[attr_cond, property_].mean()\n",
    "    attr_std = chainsize_space.loc[attr_cond, property_].std()\n",
    "    chainsize_space.loc[attr_cond, property_ + '-zscore'] = chainsize_space.loc[attr_cond, property_].apply(standard_scaler, args = (attr_mean, attr_std))"
   ]
  },
  {
   "cell_type": "markdown",
   "id": "adda64a3-9fd2-424b-8b8f-5b3a85e683ac",
   "metadata": {
    "tags": []
   },
   "source": [
    "##### VIsualize normalization"
   ]
  },
  {
   "cell_type": "markdown",
   "id": "4c952c4e-671a-4f27-ac49-28cdca188feb",
   "metadata": {},
   "source": [
    "###### z-Score"
   ]
  },
  {
   "cell_type": "code",
   "execution_count": null,
   "id": "b3279175-2009-4dd5-8740-051e686d371e",
   "metadata": {},
   "outputs": [],
   "source": [
    "plotter.p_tseries_allInOne_space(\n",
    "    property_ + '-zscore',\n",
    "    hue_attr,\n",
    "    chainsize_space,\n",
    "    space,\n",
    "    space_title,\n",
    "    r\"$\\frac{R_g(t)-R_g^{(mean)}}{\\sigma_{R_g}}$\",\n",
    "    titles[hue_attr],\n",
    "    figsize=(18,6),\n",
    "    leg_ncols=2\n",
    ")"
   ]
  },
  {
   "cell_type": "markdown",
   "id": "5402ff5e-e116-440d-8e24-de402edfc438",
   "metadata": {},
   "source": [
    "###### MinMax"
   ]
  },
  {
   "cell_type": "code",
   "execution_count": null,
   "id": "79906b2c-ff1e-4caa-bae7-92207f7035d0",
   "metadata": {},
   "outputs": [],
   "source": [
    "plotter.p_tseries_allInOne_space(\n",
    "    property_ + '-minmax',\n",
    "    hue_attr,\n",
    "    chainsize_space,\n",
    "    space,\n",
    "    space_title,\n",
    "    r\"$\\frac{R_g(t)-R_g^{(min)}}{R_g^{(max)}-R_g^{(min)}}$\",\n",
    "    titles[hue_attr],\n",
    "    figsize=(18,6),\n",
    "    leg_ncols=2\n",
    ")"
   ]
  }
 ],
 "metadata": {
  "kernelspec": {
   "display_name": "Python 3.9 (XPython)",
   "language": "python",
   "name": "xpython"
  },
  "language_info": {
   "file_extension": ".py",
   "mimetype": "text/x-python",
   "name": "python",
   "version": "3.9.13"
  }
 },
 "nbformat": 4,
 "nbformat_minor": 5
}
