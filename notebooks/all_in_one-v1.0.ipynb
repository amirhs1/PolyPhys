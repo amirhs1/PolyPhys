{
 "cells": [
  {
   "cell_type": "markdown",
   "id": "337ba9e1",
   "metadata": {},
   "source": [
    "# AllInOne Files\n",
    "\n",
    "### Faking nc=0 for some spaces:\n",
    "\n",
    "Faking is done at the **ens** and **ensAvg** levels (and directories) not at the **segment** and **whole** levles, so the **segment stamps** are not modified byt the **whole** and **ens** ones are modified.\n",
    "\n",
    "### To-do list\n",
    "- [x] **space_tseries** fucntion for all the timeseries in one **space**.\n",
    "- [ ] **space** fucntion for all the distributions in one **space**.\n",
    "- [ ] **all-in-one** fucntion for all the timeseries in all **space**s in a **project**.\n",
    "- [ ] **all-in-one** fucntion for all the distributions in all **space**s in a **project**.\n",
    "\n",
    "### Naming convention:\n",
    "\n",
    "This is the pattern of file or directory names:\n",
    "\n",
    "1. **whole** files: whole-group-property_[-measure][-stage][.ext]\n",
    "2. **ensemble** files: ensemble-group-property_[-measure][-stage][.ext]\n",
    "3. **ensemble_long** files: ensemble_long-group-property_[-measure][-stage][.ext]\n",
    "4. **space** files: space-group-property_[-measure][-stage][.ext]\n",
    "5. **all in one** files: space-group-**species**-**allInOne**-property-_[-measure][-stage][.ext]\n",
    "\n",
    "[keyword] means that the keyword in the file name is option. [-measure] is a physical measurement such as the auto correlation function (AFC) done on the physical 'property_'.\n",
    "\n",
    "#### Imports"
   ]
  },
  {
   "cell_type": "code",
   "execution_count": null,
   "id": "5107e38a",
   "metadata": {},
   "outputs": [],
   "source": [
    "# settings for testing and running on a PC.\n",
    "from glob import glob\n",
    "import pathlib\n",
    "import pandas as pd\n",
    "import numpy as np\n",
    "import re\n",
    "from polyphys.manage import organizer\n",
    "from polyphys.manage.parser import SumRule, TransFoci\n",
    "from polyphys.analyze import analyzer\n",
    "import warnings\n",
    "warnings.filterwarnings(\"ignore\")"
   ]
  },
  {
   "cell_type": "markdown",
   "id": "9edb9e42",
   "metadata": {},
   "source": [
    "### List of physical properties: Set the project hierarchy"
   ]
  },
  {
   "cell_type": "code",
   "execution_count": null,
   "id": "e357b5ab",
   "metadata": {
    "tags": []
   },
   "outputs": [],
   "source": [
    "# list of unique property_measures:\n",
    "project_name = \"TransFoci\" \n",
    "project_parser=TransFoci\n",
    "project_hierarchy = \"ns*\"\n",
    "project_attrs = ['space', 'ensemble_long', 'ensemble', 'nmon_small', 'nmon_large','dmon_large', 'dcyl', 'dcrowd', 'phi_c_bulk']\n",
    "\n",
    "#project_name = \"SumRule\"\n",
    "#project_parser = SumRule\n",
    "#project_hierarchy = \"N*\"\n",
    "#project_attrs = ['space', 'ensemble_long', 'ensemble', 'nmon', 'dcyl', 'dcrowd','phi_c_bulk']\n",
    "\n",
    "species = 'Mon'\n",
    "group = 'bug'\n",
    "geometry = 'biaxial'\n",
    "phase = 'ensAvg'\n",
    "space = \"ns400nl5al5D20ac1\"\n",
    "#space = 'N2000D30.0ac4.0'\n",
    "#space = 'N2000D30.0ac6.0'\n",
    "analysis_database = '/Users/amirhsi_mini/research_data/analysis/'  # path to the \"analysis\" phase directory\n",
    "space_ensAvg_path = analysis_database + space + \"-\" + group + \"-\" + phase\n",
    "filepathes = analysis_database + \"/\" + project_hierarchy + \"-ensAvg\" + \"/\" + project_hierarchy + \".csv\"  # physical properties in all the \n",
    "uniq_props, uniq_props_stats = organizer.unique_property(filepathes, 2, \"-\" + phase, drop_properties=[\"stamps\"])"
   ]
  },
  {
   "cell_type": "markdown",
   "id": "262003e6",
   "metadata": {},
   "source": [
    "## allInONe ensAvg stamps"
   ]
  },
  {
   "cell_type": "code",
   "execution_count": null,
   "id": "fa47d2ba",
   "metadata": {},
   "outputs": [],
   "source": [
    "spaces_stamps = glob(analysis_database + \"/\" + project_hierarchy + \"-ensAvg/\" + project_hierarchy + \"-stamps-ensAvg.csv\")\n",
    "allInOne_stamps = []\n",
    "for space_path in spaces_stamps:\n",
    "    space_stamps = pd.read_csv(space_path)\n",
    "    allInOne_stamps.append(space_stamps)\n",
    "allInOne_stamps = pd.concat(allInOne_stamps, axis=0)\n",
    "allInOne_stamps.to_csv(analysis_database + \"allInOne-\" + project_name + \"-stamps-esnAvg.csv\", index=False)"
   ]
  },
  {
   "cell_type": "markdown",
   "id": "624d81b7",
   "metadata": {},
   "source": [
    "## timeseries and their associated measures: **space** files and **allInOne** files"
   ]
  },
  {
   "cell_type": "code",
   "execution_count": null,
   "id": "b9f71bab",
   "metadata": {},
   "outputs": [],
   "source": [
    "# separating property_measures of theses two kinds: timeseries and timesseries acfs:\n",
    "bug_property_acfs = list()\n",
    "for property_measure in uniq_props_stats:\n",
    "    if \"-acf\" in property_measure:\n",
    "        bug_property_acfs.append(property_measure)\n",
    "bug_property_acfs.sort()\n",
    "print(bug_property_acfs)\n",
    "# chain timeseries:\n",
    "bug_properties = list()\n",
    "for property_measure in bug_property_acfs:\n",
    "    if \"-acf-\" in property_measure:\n",
    "        bug_properties.append(property_measure.split(\"-\")[0]+'-ensAvg')\n",
    "bug_properties.sort()\n",
    "print(bug_properties)"
   ]
  },
  {
   "cell_type": "code",
   "execution_count": null,
   "id": "844af7ed",
   "metadata": {},
   "outputs": [],
   "source": [
    "# allInOne timeseries for chain-size statistics\n",
    "#project_name = \"TransFoci\" \n",
    "#project_parser=TransFoci\n",
    "#project_hierarchy = \"/ns*\"\n",
    "#project_attrs_all_in_one = ['space', 'ensemble_long', 'ensemble', 'nmon_small', 'nmon_large','dmon_large', 'dcyl', 'dcrowd', 'phi_c_bulk'] # for merging several spaces into one\n",
    "#project_attrs_per_space = ['ensemble_long', 'phi_c_bulk'] # for merginsgseveral ensAvgs of one space\n",
    "\n",
    "\n",
    "project_name = \"SumRule\"\n",
    "project_parser = SumRule\n",
    "project_hierarchy = \"/N*\"\n",
    "#project_attrs_all_in_one = ['space', 'ensemble_long', 'ensemble', 'nmon', 'dcyl', 'dcrowd','phi_c_bulk'] # for merging several spaces into one\n",
    "project_attrs_per_space = ['ensemble_long', 'phi_c_bulk'] # for merging several ensAvgs of one space\n",
    "\n",
    "species = 'Mon'\n",
    "group = 'bug'\n",
    "geometry = 'biaxial'\n",
    "phase = 'ensAvg'\n",
    "#space = \"ns400nl5al5D20ac1\"\n",
    "space = 'N2000D30.0ac4.0'\n",
    "#space = 'N2000D30.0ac6.0'\n",
    "analysis_database = '/Users/amirhsi_mini/research_data/analysis/'  # path to \n",
    "space_ensAvg_path = analysis_database + space + \"-\" + group + \"-\" + phase\n",
    "\n",
    "ensAvgs = list()\n",
    "for property_ in uniq_props[:1]:\n",
    "    ensAvg = organizer.space_tseries(\n",
    "        space_ensAvg_path,\n",
    "        property_,\n",
    "        project_parser,\n",
    "        project_hierarchy,\n",
    "        project_attrs_per_space,\n",
    "        species,\n",
    "        group,\n",
    "        geometry,\n",
    "        is_save = True\n",
    "    )\n",
    "    ensAvgs.append(ensAvg)\n",
    "#ensAvgs = pd.concat(ensAvgs,axis=1)\n",
    "# drop duplicated columns:\n",
    "#ensAvgs = ensAvgs.loc[:,~ensAvgs.columns.duplicated()]\n",
    "#output_name = analysis_database +  \"-\".join([space,  group,  species, \"allInOne\", \"chainSize.csv\"])\n",
    "#ensAvgs.to_csv(output_name, index=False)"
   ]
  },
  {
   "cell_type": "markdown",
   "id": "cddc5049-3745-4de8-bd3f-71587ac1737b",
   "metadata": {},
   "source": [
    "###### dask version: memeory leak issue"
   ]
  },
  {
   "cell_type": "code",
   "execution_count": null,
   "id": "f6c0a44d",
   "metadata": {
    "jupyter": {
     "source_hidden": true
    },
    "tags": []
   },
   "outputs": [],
   "source": [
    "# parallel version has memory leak issue.\n",
    "%%time\n",
    "# This has memory leaking issue\n",
    "group = 'bug'\n",
    "geometry = 'biaxial'\n",
    "ensAvg_path = \"/Users/amirhsi_mini/analysis/N2000D30.0ac4.0-bug-ensAvg\"\n",
    "all_in_one_computed = []\n",
    "for property_measure in bug_property_measures:\n",
    "    all_in_one_delayed = delayed(organizer.all_in_one_tseries)(\n",
    "        ensAvg_path,\n",
    "        property_measure,\n",
    "        group = group,\n",
    "        geometry = geometry,\n",
    "        save_to = database\n",
    "    )\n",
    "    all_in_one_computed.append(all_in_one_delayed)\n",
    "_ = compute(all_in_one_computed)"
   ]
  },
  {
   "cell_type": "markdown",
   "id": "74045030",
   "metadata": {},
   "source": [
    "## Distributions: Not down yet"
   ]
  },
  {
   "cell_type": "code",
   "execution_count": null,
   "id": "5dc257d2",
   "metadata": {},
   "outputs": [],
   "source": [
    "#hist_paths = glob('/Users/amirhsi_mini/probe/N500D10.0ac0.8-segment/N500epsilon5.0r5.5lz205.5sig0.8nc12012dt0.002bdump1000adump5000ens1/N500epsilon5.0r5.5lz205.5sig0.8nc12012dt0.002bdump1000adump5000ens1*')\n",
    "hist_paths = glob('/Users/amirhsi_mini/probe/N500D10.0ac0.8-segment/N500epsilon5.0r5.5lz205.5sig0.8nc48047dt0.002bdump1000adump5000ens1/N500epsilon5.0r5.5lz205.5sig0.8nc48047dt0.002bdump1000adump5000ens1*')\n",
    "species = 'Crd'\n",
    "direction = 'z'\n",
    "geometry='biaxial'\n",
    "group='all'\n",
    "segments = organizer.sort_filenames(\n",
    "                hist_paths,\n",
    "                fmts=['-' + direction + 'Hist' + species + '.npy']\n",
    "            )\n",
    "edge_segments = organizer.sort_filenames(\n",
    "                hist_paths,\n",
    "                fmts=['-' + direction + 'Edge' + species + '.npy']\n",
    "            )\n",
    "wholes = organizer.whole(\n",
    "                direction + 'Hist' + species,\n",
    "                segments,\n",
    "                geometry=geometry,\n",
    "                group=group,\n",
    "                relation='histogram',\n",
    "                save_to=None\n",
    "            )\n",
    "edge_wholes = organizer.whole(\n",
    "                direction + 'Edge' + species,\n",
    "                edge_segments,\n",
    "                geometry=geometry,\n",
    "                group=group,\n",
    "                relation='bin_edge',\n",
    "                save_to=None\n",
    "            )\n",
    "            # 'whole' dataframes, each with a 'whole' columns.\n",
    "rho_wholes, phi_wholes = distributions.distributions_generator(\n",
    "                wholes,\n",
    "                edge_wholes,\n",
    "                group,\n",
    "                species,\n",
    "                geometry,\n",
    "                direction,\n",
    "                save_to=None,\n",
    "normalized=True)"
   ]
  },
  {
   "cell_type": "code",
   "execution_count": null,
   "id": "bcb0256d",
   "metadata": {},
   "outputs": [],
   "source": [
    "plt.hist(edge_wholes['N500epsilon5.0r5.5lz205.5sig0.8nc48047dt0.002bdump1000adump5000ens1'][:-1],edge_wholes['N500epsilon5.0r5.5lz205.5sig0.8nc48047dt0.002bdump1000adump5000ens1'],weights=wholes['N500epsilon5.0r5.5lz205.5sig0.8nc48047dt0.002bdump1000adump5000ens1'],histtype='step',density=True)\n",
    "plt.show()"
   ]
  },
  {
   "cell_type": "code",
   "execution_count": null,
   "id": "ecaf69c5",
   "metadata": {},
   "outputs": [],
   "source": [
    "sns.histplot(edge_wholes['N500epsilon5.0r5.5lz205.5sig0.8nc48047dt0.002bdump1000adump5000ens1'][:-1],bins=edge_wholes['N500epsilon5.0r5.5lz205.5sig0.8nc48047dt0.002bdump1000adump5000ens1'],weights=wholes['N500epsilon5.0r5.5lz205.5sig0.8nc48047dt0.002bdump1000adump5000ens1'])\n",
    "plt.show()"
   ]
  },
  {
   "cell_type": "code",
   "execution_count": null,
   "id": "ca9ea299",
   "metadata": {},
   "outputs": [],
   "source": [
    "fig, axes = plt.subplots(nrows=1,ncols=1,sharex=True,figsize=(8,6))\n",
    "centers = 0.5*(edge_wholes['N500epsilon5.0r5.5lz205.5sig0.8nc48047dt0.002bdump1000adump5000ens1'][:-1]+edge_wholes['N500epsilon5.0r5.5lz205.5sig0.8nc48047dt0.002bdump1000adump5000ens1'][1:])\n",
    "hist_df = pd.DataFrame(wholes)\n",
    "rho_df = pd.DataFrame(rho_wholes)\n",
    "phi_df = pd.DataFrame(phi_wholes)\n",
    "df = pd.concat([hist_df,rho_df,phi_df],axis=1)\n",
    "df.columns = ['histogram','number_density','volume_fraction']\n",
    "df['center'] = centers\n",
    "#df['histogram'] = df['histogram'] / df['histogram'].sum()\n",
    "df['fake']= 1\n",
    "#df.set_index('center',inplace=True)\n",
    "#sns.histplot(x='center',bins=edge_wholes['N500epsilon5.0r5.5lz205.5sig0.8nc48047dt0.002bdump1000adump5000ens1'] ,weights='volume_fraction',data=df,element='poly',fill=False, kde=True)\n",
    "#plt.show()\n",
    "#df['histogram'].plot(ax=axes,ylabel='histogram')\n",
    "#sns.set_theme(style=\"whitegrid\")\n",
    "#sns.set(font_scale=1.2)\n",
    "sns.axes_style(\"darkgrid\")\n",
    "sns.lineplot(x='center',y='histogram', data=df,ax=axes)\n",
    "#df.loc[-200:200,'number_density'].plot(ax=axes[1],ylabel='number_density')\n",
    "#df.loc[-200:200,'volume_fraction'].plot(ax=axes[2],ylabel='volume_fraction',xlabel='center')\n",
    "#axes.grid()\n",
    "#axes.set_xlim(df.index[0]-5, df.index[-1]+5)\n",
    "#axes.axvline(df.loc[df.index[0],'center'],lw=0.5,c='red',label='left end')\n",
    "#axes.axvline(df.loc[df.index[-1],'center'],lw=0.5,c='green',label='right end')\n",
    "#axes.axvline(df['center'],lw=0.5,c='red')\n",
    "axes.set_xlabel('z (a.u.)')\n",
    "axes.set_ylabel('Freqency of type-1 particles')\n",
    "#ax.set_xlim[]\n",
    "plt.savefig('histogram.pdf',dpi=200)"
   ]
  },
  {
   "cell_type": "code",
   "execution_count": null,
   "id": "9d0f292a",
   "metadata": {},
   "outputs": [],
   "source": [
    "\n",
    "name = 'N500epsilon5.0r5.5lz205.5sig0.8nc36036dt0.002bdump1000adump5000ens1'\n",
    "hist_info = SumRule(name, geometry='biaxial', group='all', lineage='whole')\n",
    "dist_new = distributions.Distribution(\n",
    "    wholes[name],\n",
    "    edges[name],\n",
    "    hist_info,\n",
    "    'dcrowd',\n",
    "    geometry='biaxial',\n",
    "    direction='z',\n",
    "    normalized=False)"
   ]
  }
 ],
 "metadata": {
  "kernelspec": {
   "display_name": "Python 3 (ipykernel)",
   "language": "python",
   "name": "python3"
  },
  "language_info": {
   "codemirror_mode": {
    "name": "ipython",
    "version": 3
   },
   "file_extension": ".py",
   "mimetype": "text/x-python",
   "name": "python",
   "nbconvert_exporter": "python",
   "pygments_lexer": "ipython3",
   "version": "3.9.13"
  }
 },
 "nbformat": 4,
 "nbformat_minor": 5
}
