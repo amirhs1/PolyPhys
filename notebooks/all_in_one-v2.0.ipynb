{
 "cells": [
  {
   "cell_type": "markdown",
   "id": "337ba9e1",
   "metadata": {},
   "source": [
    "# AllInOne Files\n",
    "\n",
    "### Faking nc=0 for some spaces:\n",
    "\n",
    "Faking is done at the **ens** and **ensAvg** levels (and directories) not at the **segment** and **whole** levles, so the **segment stamps** are not modified byt the **whole** and **ens** ones are modified.\n",
    "\n",
    "### To-do list\n",
    "- [x] **space_tseries** fucntion for all the timeseries in one **space**.\n",
    "- [ ] **space** fucntion for all the distributions in one **space**.\n",
    "- [ ] **all-in-one** fucntion for all the timeseries in all **space**s in a **project**.\n",
    "- [ ] **all-in-one** fucntion for all the distributions in all **space**s in a **project**.\n",
    "\n",
    "### Naming convention:\n",
    "\n",
    "This is the pattern of file or directory names:\n",
    "\n",
    "1. **whole** files: whole-group-property_[-measure][-stage][.ext]\n",
    "2. **ensemble** files: ensemble-group-property_[-measure][-stage][.ext]\n",
    "3. **ensemble_long** files: ensemble_long-group-property_[-measure][-stage][.ext]\n",
    "4. **space** files: space-group-property_[-measure][-stage][.ext]\n",
    "5. **all in one** files: space-group-**species**-**allInOne**-property-_[-measure][-stage][.ext]\n",
    "\n",
    "[keyword] means that the keyword in the file name is option. [-measure] is a physical measurement such as the auto correlation function (AFC) done on the physical 'property_'."
   ]
  },
  {
   "cell_type": "markdown",
   "id": "48512f1b-49d3-4ea2-abe9-6ed2655b3e7e",
   "metadata": {
    "jp-MarkdownHeadingCollapsed": true,
    "tags": []
   },
   "source": [
    "## CUATION: How to do:\n",
    "\n",
    "1. Choose the project setting\n",
    "2. Choose the space\n",
    "3. Check the unique properties, and the ACF measures per unique properties.\n",
    "4. Check the name, format, and extension of the Pandas writer."
   ]
  },
  {
   "cell_type": "markdown",
   "id": "cce07c9a-47f4-4980-b972-8b4a96b65737",
   "metadata": {
    "tags": []
   },
   "source": [
    "#### Imports"
   ]
  },
  {
   "cell_type": "code",
   "execution_count": null,
   "id": "5107e38a",
   "metadata": {},
   "outputs": [],
   "source": [
    "# settings for testing and running on a PC.\n",
    "from glob import glob\n",
    "import pathlib\n",
    "import pandas as pd\n",
    "import numpy as np\n",
    "import re\n",
    "from polyphys.manage import organizer\n",
    "from polyphys.manage.parser import SumRule, TransFoci\n",
    "from polyphys.analyze import analyzer\n",
    "from polyphys.analyze import measurer\n",
    "import warnings\n",
    "warnings.filterwarnings(\"ignore\")"
   ]
  },
  {
   "cell_type": "markdown",
   "id": "9edb9e42",
   "metadata": {},
   "source": [
    "### List of physical properties: Set the project hierarchy"
   ]
  },
  {
   "cell_type": "code",
   "execution_count": null,
   "id": "e357b5ab",
   "metadata": {
    "tags": []
   },
   "outputs": [],
   "source": [
    "# list of unique property_measures:\n",
    "#project_name = \"TransFoci\" \n",
    "#project_parser=TransFoci\n",
    "#project_hierarchy = \"ns*\"\n",
    "#project_attrs = ['space', 'ensemble_long', 'ensemble', 'nmon_small', 'nmon_large','dmon_large', 'dcyl', 'dcrowd', 'phi_c_bulk']\n",
    "\n",
    "project_name = \"SumRule\"\n",
    "project_parser = SumRule\n",
    "project_hierarchy = \"N*\"\n",
    "project_attrs = ['space', 'ensemble_long', 'ensemble', 'nmon', 'dcyl', 'dcrowd','phi_c_bulk']\n",
    "\n",
    "species = 'Mon'\n",
    "group = 'bug'\n",
    "geometry = 'biaxial'\n",
    "phase = 'ensAvg'\n",
    "\n",
    "#space = \"ns400nl5al5D20ac1\"\n",
    "#space = 'N2000D30.0ac4.0'\n",
    "space = 'N2000D30.0ac6.0'\n",
    "analysis_database = '/Users/amirhsi_mini/research_data/analysis/'  # path to the \"analysis\" phase directory\n",
    "space_ensAvg_path = analysis_database + space + \"-\" + group + \"-\" + phase\n",
    "filepathes = analysis_database + \"/\" + project_hierarchy + \"-ensAvg\" + \"/\" + project_hierarchy + \".csv\"  # physical properties in all the \n",
    "uniq_props, uniq_props_stats = organizer.unique_property(filepathes, 2, \"-\" + phase, drop_properties=[\"stamps\"])\n",
    "print(uniq_props, uniq_props_stats)"
   ]
  },
  {
   "cell_type": "markdown",
   "id": "262003e6",
   "metadata": {
    "jp-MarkdownHeadingCollapsed": true,
    "tags": []
   },
   "source": [
    "## allInONe ensAvg stamps"
   ]
  },
  {
   "cell_type": "code",
   "execution_count": null,
   "id": "fa47d2ba",
   "metadata": {},
   "outputs": [],
   "source": [
    "spaces_stamps = glob(analysis_database + \"/\" + project_hierarchy + \"-ensAvg/\" + project_hierarchy + \"-stamps-ensAvg.csv\")\n",
    "allInOne_stamps = []\n",
    "for space_path in spaces_stamps:\n",
    "    space_stamps = pd.read_csv(space_path)\n",
    "    allInOne_stamps.append(space_stamps)\n",
    "allInOne_stamps = pd.concat(allInOne_stamps, axis=0)\n",
    "allInOne_stamps.to_csv(analysis_database + \"allInOne-\" + project_name + \"-stamps-ensAvg.csv\", index=False)"
   ]
  },
  {
   "cell_type": "markdown",
   "id": "624d81b7",
   "metadata": {
    "tags": []
   },
   "source": [
    "## timeseries and their associated measures: **space** files and **allInOne** files"
   ]
  },
  {
   "cell_type": "markdown",
   "id": "e2f538b6-83e3-443f-8d4e-612dc9bfaf07",
   "metadata": {
    "jp-MarkdownHeadingCollapsed": true,
    "tags": []
   },
   "source": [
    "### **Measures** of properties"
   ]
  },
  {
   "cell_type": "markdown",
   "id": "222d5a0e-59bf-4259-99d0-c2d3a8631a8c",
   "metadata": {
    "jp-MarkdownHeadingCollapsed": true,
    "tags": []
   },
   "source": [
    "#### settings per project:"
   ]
  },
  {
   "cell_type": "code",
   "execution_count": null,
   "id": "6b0b7e66-409c-4d19-8a03-b331e4883690",
   "metadata": {},
   "outputs": [],
   "source": [
    "# allInOne timeseries for chain-size statistics\n",
    "#project_name = \"TransFoci\" \n",
    "#project_parser=TransFoci\n",
    "#project_hierarchy = \"/ns*\"\n",
    "#project_attrs_all_in_one = ['space', 'ensemble_long', 'ensemble', 'nmon_small', 'nmon_large','dmon_large', 'dcyl', 'dcrowd', 'phi_c_bulk'] # for merging several spaces into one\n",
    "#project_attrs_per_space = ['ensemble_long', 'phi_c_bulk'] # for merginsgseveral ensAvgs of one space\n",
    "\n",
    "\n",
    "project_name = \"SumRule\"\n",
    "project_parser = SumRule\n",
    "project_hierarchy = \"/N*\"\n",
    "project_attrs_all_in_one = ['space', 'ensemble_long', 'ensemble', 'nmon', 'dcyl', 'dcrowd','phi_c_bulk'] # for merging several spaces into one\n",
    "#project_attrs_per_space = ['ensemble_long', 'phi_c_bulk'] # for merging several ensAvgs of one space\n",
    "\n",
    "species = 'Mon'\n",
    "group = 'bug'\n",
    "geometry = 'biaxial'\n",
    "phase = 'ensAvg'\n",
    "\n",
    "#space = \"ns400nl5al5D20ac1\"\n",
    "#space = 'N2000D30.0ac4.0'\n",
    "space = 'N2000D30.0ac6.0'\n",
    "\n",
    "analysis_database = '/Users/amirhsi_mini/research_data/analysis/'  # path to \n",
    "space_ensAvg_path = analysis_database + space + \"-\" + group + \"-\" + phase"
   ]
  },
  {
   "cell_type": "markdown",
   "id": "8dbc9a63-48f6-45d6-9f30-f2a7d76b560f",
   "metadata": {},
   "source": [
    "#### ACF of chain-size timeseires per project"
   ]
  },
  {
   "cell_type": "code",
   "execution_count": null,
   "id": "b9f71bab",
   "metadata": {},
   "outputs": [],
   "source": [
    "# separating property_measures of theses two kinds: timeseries and timesseries acfs:\n",
    "bug_properties_acfs = list()\n",
    "for property_measure in uniq_props_stats:\n",
    "    if \"-acf\" in property_measure:\n",
    "        bug_properties_acfs.append(property_measure)\n",
    "bug_properties_acfs.sort()\n",
    "print(bug_properties_acfs)"
   ]
  },
  {
   "cell_type": "markdown",
   "id": "be907c34-af4e-4fe4-bc54-3ce3471540a7",
   "metadata": {},
   "source": [
    "##### Generating the allInOne ACF file"
   ]
  },
  {
   "cell_type": "code",
   "execution_count": null,
   "id": "5a9ee296-b30e-42a6-b594-bf5990c709ad",
   "metadata": {},
   "outputs": [],
   "source": [
    "%%time\n",
    "# 10 sec for N2000.. with nlags=20000\n",
    "ensAvgs = list()\n",
    "for property_ in bug_properties_acfs:\n",
    "    ensAvg = organizer.space_tseries(\n",
    "        space_ensAvg_path,\n",
    "        property_,\n",
    "        project_parser,\n",
    "        project_hierarchy,\n",
    "        project_attrs_all_in_one,\n",
    "        species,\n",
    "        group,\n",
    "        geometry,\n",
    "        is_save = False\n",
    "    )\n",
    "    ensAvgs.append(ensAvg)\n",
    "ensAvgs = pd.concat(ensAvgs,axis=1)\n",
    "# drop duplicated columns:\n",
    "ensAvgs = ensAvgs.loc[:,~ensAvgs.columns.duplicated()]\n",
    "output_name = analysis_database +  \"-\".join([space,  group,  species, \"allInOne\", \"chainSize-acf.parquet.brotli\"])\n",
    "#ensAvgs.to_csv(output_name, index=False)\n",
    "ensAvgs.to_parquet(output_name, index=False, compression='brotli')"
   ]
  },
  {
   "cell_type": "markdown",
   "id": "259588f1-c129-48c6-98d0-6a1f4990d1ce",
   "metadata": {},
   "source": [
    "#### Properties time series per project"
   ]
  },
  {
   "cell_type": "code",
   "execution_count": null,
   "id": "844af7ed",
   "metadata": {},
   "outputs": [],
   "source": [
    "%%time\n",
    "# 40 sec N2000\n",
    "ensAvgs = list()\n",
    "for property_ in uniq_props:\n",
    "    ensAvg = organizer.space_tseries(\n",
    "        space_ensAvg_path,\n",
    "        property_,\n",
    "        project_parser,\n",
    "        project_hierarchy,\n",
    "        project_attrs_all_in_one,\n",
    "        species,\n",
    "        group,\n",
    "        geometry,\n",
    "        is_save = False\n",
    "    )\n",
    "    ensAvgs.append(ensAvg)\n",
    "ensAvgs = pd.concat(ensAvgs,axis=1)\n",
    "# drop duplicated columns:\n",
    "ensAvgs = ensAvgs.loc[:,~ensAvgs.columns.duplicated()]\n",
    "output_name = analysis_database +  \"-\".join([space,  group,  species, \"allInOne\", \"chainSize.parquet.brotli\"])\n",
    "#ensAvgs.to_csv(output_name, index=False)\n",
    "ensAvgs.to_parquet(output_name, index=False, compression='brotli')"
   ]
  },
  {
   "cell_type": "markdown",
   "id": "cddc5049-3745-4de8-bd3f-71587ac1737b",
   "metadata": {
    "tags": []
   },
   "source": [
    "###### dask version: memeory leak issue"
   ]
  },
  {
   "cell_type": "code",
   "execution_count": null,
   "id": "f6c0a44d",
   "metadata": {
    "tags": []
   },
   "outputs": [],
   "source": [
    "# parallel version has memory leak issue.\n",
    "%%time\n",
    "# This has memory leaking issue\n",
    "group = 'bug'\n",
    "geometry = 'biaxial'\n",
    "ensAvg_path = \"/Users/amirhsi_mini/analysis/N2000D30.0ac4.0-bug-ensAvg\"\n",
    "all_in_one_computed = []\n",
    "for property_measure in bug_property_measures:\n",
    "    all_in_one_delayed = delayed(organizer.all_in_one_tseries)(\n",
    "        ensAvg_path,\n",
    "        property_measure,\n",
    "        group = group,\n",
    "        geometry = geometry,\n",
    "        save_to = database\n",
    "    )\n",
    "    all_in_one_computed.append(all_in_one_delayed)\n",
    "_ = compute(all_in_one_computed)"
   ]
  },
  {
   "cell_type": "markdown",
   "id": "d50541f3-23c6-493c-b03c-59791f0c8af9",
   "metadata": {
    "tags": []
   },
   "source": [
    "## Equilibrium timeseries properties per space AND per project"
   ]
  },
  {
   "cell_type": "markdown",
   "id": "821f4039-b7c7-4615-a4ab-bb73e3b65466",
   "metadata": {
    "tags": []
   },
   "source": [
    "#### Imports:"
   ]
  },
  {
   "cell_type": "code",
   "execution_count": null,
   "id": "88425abb-d66a-40ec-9344-7b58e8f9252f",
   "metadata": {
    "tags": []
   },
   "outputs": [],
   "source": [
    "# settings for testing and running on a PC.\n",
    "from glob import glob\n",
    "import pandas as pd\n",
    "import numpy as np\n",
    "import polyphys.api as api\n",
    "from polyphys.analyze import analyzer\n",
    "from polyphys.analyze import measurer\n",
    "import warnings\n",
    "warnings.filterwarnings(\"ignore\")"
   ]
  },
  {
   "cell_type": "markdown",
   "id": "ec6550f1-7813-4bfb-8009-6955a89378ef",
   "metadata": {
    "tags": []
   },
   "source": [
    "#### Whole quilibrium properties allInOne"
   ]
  },
  {
   "cell_type": "code",
   "execution_count": null,
   "id": "c8079e8a-9a4f-4fcd-861e-9c4a3ae02de7",
   "metadata": {
    "tags": []
   },
   "outputs": [],
   "source": [
    "#%%time\n",
    "# loading databases:\n",
    "database = '/Users/amirhsi_mini/research_data/analysis/'\n",
    "\n",
    "project = \"SumRule\"\n",
    "#project = \"TransFoci\"\n",
    "\n",
    "project_dict = {\n",
    "    \"SumRule\": {\n",
    "        'spaces': [\"N2000D30.0ac4.0\",\"N2000D30.0ac6.0\"],\n",
    "        'time_varying_props': [ 'asphericityTMon', 'fsdTMon', 'gyrTMon',\n",
    "                               'rfloryTMon','shapeTMon'],\n",
    "        'measures': [np.mean, np.var, measurer.sem],\n",
    "        'attributes': ['space', 'ensemble_long', 'ensemble', 'nmon', 'dcyl',\n",
    "                       'dcrowd', 'phi_c_bulk', 'phi_c_bulk_round'],\n",
    "        'properties': ['asphericityMon-mean', 'asphericityMon-var',\n",
    "                        'asphericityMon-sem', 'fsdMon-mean', 'fsdMon-var',\n",
    "                        'fsdMon-sem', 'gyrMon-mean', 'gyrMon-var',\n",
    "                        'gyrMon-sem', 'rfloryMon-mean', 'rfloryMon-var',\n",
    "                        'rfloryMon-sem', 'shapeMon-mean', 'shapeMon-var',\n",
    "                        'shapeMon-sem']\n",
    "    },\n",
    "    \"TransFoci\": {\n",
    "        'spaces': [\"ns400nl5al5D20ac1\"],\n",
    "        'time_varying_props': ['asphericityTMon', 'fsdTMon', 'gyrTMon',\n",
    "                               'shapeTMon'],\n",
    "        'measures': [np.mean, np.var, measurer.sem],\n",
    "        'attributes': ['ensemble_long', 'ensemble', 'space', 'dcyl',\n",
    "                       'dmon_large', 'nmon_large', 'nmon_small', 'dcrowd',\n",
    "                       'phi_c_bulk', 'phi_c_bulk_round'],\n",
    "        'properties': ['asphericityMon-mean', 'asphericityMon-var',\n",
    "                       'asphericityMon-sem', 'fsdMon-mean', 'fsdMon-var',\n",
    "                       'fsdMon-sem', 'gyrMon-mean', 'gyrMon-var',\n",
    "                       'gyrMon-sem', 'shapeMon-mean', 'shapeMon-var',\n",
    "                       'shapeMon-sem']\n",
    "    }\n",
    "}\n",
    "\n",
    "group = \"bug\"\n",
    "species = \"Mon\"\n",
    "save_to = \"./\"\n",
    "save_space = True\n",
    "\n",
    "equili_props_wholes = api.allInOne_equil_tseries(\n",
    "    project,\n",
    "    database,\n",
    "    species,\n",
    "    group,\n",
    "    project_dict[project]['spaces'],\n",
    "    project_dict[project]['time_varying_props'],\n",
    "    project_dict[project]['measures'],\n",
    "    save_space=save_space,\n",
    "    round_to = 0.025,\n",
    "    save_to=save_to\n",
    ")\n",
    "\n",
    "esnAvg = api.allInOne_equil_tseries_ensAvg(\n",
    "    project,\n",
    "    equili_props_wholes,\n",
    "    species,\n",
    "    group,\n",
    "    project_dict[project]['properties'],\n",
    "    project_dict[project]['attributes'],\n",
    "    save_to =save_to\n",
    ")"
   ]
  },
  {
   "cell_type": "markdown",
   "id": "74045030",
   "metadata": {
    "jp-MarkdownHeadingCollapsed": true,
    "tags": []
   },
   "source": [
    "## Distributions: Not down yet"
   ]
  },
  {
   "cell_type": "code",
   "execution_count": null,
   "id": "5dc257d2",
   "metadata": {},
   "outputs": [],
   "source": [
    "#hist_paths = glob('/Users/amirhsi_mini/probe/N500D10.0ac0.8-segment/N500epsilon5.0r5.5lz205.5sig0.8nc12012dt0.002bdump1000adump5000ens1/N500epsilon5.0r5.5lz205.5sig0.8nc12012dt0.002bdump1000adump5000ens1*')\n",
    "hist_paths = glob('/Users/amirhsi_mini/probe/N500D10.0ac0.8-segment/N500epsilon5.0r5.5lz205.5sig0.8nc48047dt0.002bdump1000adump5000ens1/N500epsilon5.0r5.5lz205.5sig0.8nc48047dt0.002bdump1000adump5000ens1*')\n",
    "species = 'Crd'\n",
    "direction = 'z'\n",
    "geometry='biaxial'\n",
    "group='all'\n",
    "segments = organizer.sort_filenames(\n",
    "                hist_paths,\n",
    "                fmts=['-' + direction + 'Hist' + species + '.npy']\n",
    "            )\n",
    "edge_segments = organizer.sort_filenames(\n",
    "                hist_paths,\n",
    "                fmts=['-' + direction + 'Edge' + species + '.npy']\n",
    "            )\n",
    "wholes = organizer.whole(\n",
    "                direction + 'Hist' + species,\n",
    "                segments,\n",
    "                geometry=geometry,\n",
    "                group=group,\n",
    "                relation='histogram',\n",
    "                save_to=None\n",
    "            )\n",
    "edge_wholes = organizer.whole(\n",
    "                direction + 'Edge' + species,\n",
    "                edge_segments,\n",
    "                geometry=geometry,\n",
    "                group=group,\n",
    "                relation='bin_edge',\n",
    "                save_to=None\n",
    "            )\n",
    "            # 'whole' dataframes, each with a 'whole' columns.\n",
    "rho_wholes, phi_wholes = distributions.distributions_generator(\n",
    "                wholes,\n",
    "                edge_wholes,\n",
    "                group,\n",
    "                species,\n",
    "                geometry,\n",
    "                direction,\n",
    "                save_to=None,\n",
    "normalized=True)"
   ]
  },
  {
   "cell_type": "code",
   "execution_count": null,
   "id": "bcb0256d",
   "metadata": {},
   "outputs": [],
   "source": [
    "plt.hist(edge_wholes['N500epsilon5.0r5.5lz205.5sig0.8nc48047dt0.002bdump1000adump5000ens1'][:-1],edge_wholes['N500epsilon5.0r5.5lz205.5sig0.8nc48047dt0.002bdump1000adump5000ens1'],weights=wholes['N500epsilon5.0r5.5lz205.5sig0.8nc48047dt0.002bdump1000adump5000ens1'],histtype='step',density=True)\n",
    "plt.show()"
   ]
  },
  {
   "cell_type": "code",
   "execution_count": null,
   "id": "ecaf69c5",
   "metadata": {},
   "outputs": [],
   "source": [
    "sns.histplot(edge_wholes['N500epsilon5.0r5.5lz205.5sig0.8nc48047dt0.002bdump1000adump5000ens1'][:-1],bins=edge_wholes['N500epsilon5.0r5.5lz205.5sig0.8nc48047dt0.002bdump1000adump5000ens1'],weights=wholes['N500epsilon5.0r5.5lz205.5sig0.8nc48047dt0.002bdump1000adump5000ens1'])\n",
    "plt.show()"
   ]
  },
  {
   "cell_type": "code",
   "execution_count": null,
   "id": "ca9ea299",
   "metadata": {},
   "outputs": [],
   "source": [
    "fig, axes = plt.subplots(nrows=1,ncols=1,sharex=True,figsize=(8,6))\n",
    "centers = 0.5*(edge_wholes['N500epsilon5.0r5.5lz205.5sig0.8nc48047dt0.002bdump1000adump5000ens1'][:-1]+edge_wholes['N500epsilon5.0r5.5lz205.5sig0.8nc48047dt0.002bdump1000adump5000ens1'][1:])\n",
    "hist_df = pd.DataFrame(wholes)\n",
    "rho_df = pd.DataFrame(rho_wholes)\n",
    "phi_df = pd.DataFrame(phi_wholes)\n",
    "df = pd.concat([hist_df,rho_df,phi_df],axis=1)\n",
    "df.columns = ['histogram','number_density','volume_fraction']\n",
    "df['center'] = centers\n",
    "#df['histogram'] = df['histogram'] / df['histogram'].sum()\n",
    "df['fake']= 1\n",
    "#df.set_index('center',inplace=True)\n",
    "#sns.histplot(x='center',bins=edge_wholes['N500epsilon5.0r5.5lz205.5sig0.8nc48047dt0.002bdump1000adump5000ens1'] ,weights='volume_fraction',data=df,element='poly',fill=False, kde=True)\n",
    "#plt.show()\n",
    "#df['histogram'].plot(ax=axes,ylabel='histogram')\n",
    "#sns.set_theme(style=\"whitegrid\")\n",
    "#sns.set(font_scale=1.2)\n",
    "sns.axes_style(\"darkgrid\")\n",
    "sns.lineplot(x='center',y='histogram', data=df,ax=axes)\n",
    "#df.loc[-200:200,'number_density'].plot(ax=axes[1],ylabel='number_density')\n",
    "#df.loc[-200:200,'volume_fraction'].plot(ax=axes[2],ylabel='volume_fraction',xlabel='center')\n",
    "#axes.grid()\n",
    "#axes.set_xlim(df.index[0]-5, df.index[-1]+5)\n",
    "#axes.axvline(df.loc[df.index[0],'center'],lw=0.5,c='red',label='left end')\n",
    "#axes.axvline(df.loc[df.index[-1],'center'],lw=0.5,c='green',label='right end')\n",
    "#axes.axvline(df['center'],lw=0.5,c='red')\n",
    "axes.set_xlabel('z (a.u.)')\n",
    "axes.set_ylabel('Freqency of type-1 particles')\n",
    "#ax.set_xlim[]\n",
    "plt.savefig('histogram.pdf',dpi=200)"
   ]
  },
  {
   "cell_type": "code",
   "execution_count": null,
   "id": "9d0f292a",
   "metadata": {},
   "outputs": [],
   "source": [
    "\n",
    "name = 'N500epsilon5.0r5.5lz205.5sig0.8nc36036dt0.002bdump1000adump5000ens1'\n",
    "hist_info = SumRule(name, geometry='biaxial', group='all', lineage='whole')\n",
    "dist_new = distributions.Distribution(\n",
    "    wholes[name],\n",
    "    edges[name],\n",
    "    hist_info,\n",
    "    'dcrowd',\n",
    "    geometry='biaxial',\n",
    "    direction='z',\n",
    "    normalized=False)"
   ]
  }
 ],
 "metadata": {
  "kernelspec": {
   "display_name": "Python 3 (ipykernel)",
   "language": "python",
   "name": "python3"
  },
  "language_info": {
   "codemirror_mode": {
    "name": "ipython",
    "version": 3
   },
   "file_extension": ".py",
   "mimetype": "text/x-python",
   "name": "python",
   "nbconvert_exporter": "python",
   "pygments_lexer": "ipython3",
   "version": "3.9.13"
  }
 },
 "nbformat": 4,
 "nbformat_minor": 5
}
