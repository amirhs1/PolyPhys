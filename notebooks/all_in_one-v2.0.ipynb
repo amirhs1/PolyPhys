{
 "cells": [
  {
   "cell_type": "markdown",
   "id": "337ba9e1",
   "metadata": {
    "tags": []
   },
   "source": [
    "# AllInOne Files\n",
    "\n",
    "### Faking nc=0 for some spaces:\n",
    "\n",
    "Faking is done at the **ens** and **ensAvg** levels (and directories) not at the **segment** and **whole** levles, so the **segment stamps** are not modified byt the **whole** and **ens** ones are modified.\n",
    "\n",
    "### To-do list\n",
    "- [x] **space_tseries** fucntion for all the timeseries in one **space**.\n",
    "- [ ] **space** fucntion for all the distributions in one **space**.\n",
    "- [ ] **all-in-one** fucntion for all the timeseries in all **space**s in a **project**.\n",
    "- [ ] **all-in-one** fucntion for all the distributions in all **space**s in a **project**.\n",
    "\n",
    "### Naming convention:\n",
    "\n",
    "This is the pattern of file or directory names:\n",
    "\n",
    "1. **whole** files: whole-group-property_[-measure][-stage][.ext]\n",
    "2. **ensemble** files: ensemble-group-property_[-measure][-stage][.ext]\n",
    "3. **ensemble_long** files: ensemble_long-group-property_[-measure][-stage][.ext]\n",
    "4. **space** files: space-group-property_[-measure][-stage][.ext]\n",
    "5. **all in one** files: space-group-**species**-**allInOne**-property-_[-measure][-stage][.ext]\n",
    "\n",
    "[keyword] means that the keyword in the file name is option. [-measure] is a physical measurement such as the auto correlation function (AFC) done on the physical 'property_'."
   ]
  },
  {
   "cell_type": "markdown",
   "id": "48512f1b-49d3-4ea2-abe9-6ed2655b3e7e",
   "metadata": {
    "tags": []
   },
   "source": [
    "## CUATION: How to do:\n",
    "\n",
    "1. Choose the project setting\n",
    "2. Choose the space\n",
    "3. Check the unique properties, and the ACF measures per unique properties.\n",
    "4. Check the name, format, and extension of the Pandas writer."
   ]
  },
  {
   "cell_type": "markdown",
   "id": "cce07c9a-47f4-4980-b972-8b4a96b65737",
   "metadata": {
    "tags": []
   },
   "source": [
    "#### Imports"
   ]
  },
  {
   "cell_type": "code",
   "execution_count": 8,
   "id": "5107e38a",
   "metadata": {},
   "outputs": [],
   "source": [
    "from glob import glob\n",
    "from itertools import product\n",
    "import pandas as pd\n",
    "import numpy as np\n",
    "from polyphys.manage import organizer\n",
    "from polyphys.manage.parser import SumRuleCyl, TransFociCyl, TransFociCubic\n",
    "from polyphys.analyze import measurer\n",
    "import polyphys.api as api\n",
    "import warnings\n",
    "warnings.filterwarnings('ignore')\n",
    "\n",
    "# List of physical properties: Set the project hierarchy\n",
    "#project = 'SumRuleCyl'\n",
    "project = 'TransFociCyl'\n",
    "project = 'TransFociCubic'\n",
    "project_details ={\n",
    "    'SumRuleCyl':{\n",
    "        'parser': SumRuleCyl,\n",
    "        'space_pat': 'N*D*ac*',\n",
    "        'hierarchy': 'N*',\n",
    "        'space_hierarchy': 'N*',\n",
    "        'attributes': ['space', 'ensemble_long', 'ensemble', 'nmon', 'dcyl',\n",
    "                       'dcrowd','phi_c_bulk'\n",
    "                      ],\n",
    "        'time_varying_props': [ 'asphericityTMon', 'fsdTMon', 'gyrTMon',\n",
    "                               'rfloryTMon','shapeTMon','transSizeTMon'],\n",
    "        'equil_measures': [np.mean, np.var, measurer.sem],\n",
    "        'equil_attributes': ['space', 'ensemble_long', 'ensemble', 'nmon',\n",
    "                             'dcyl','dcrowd', 'phi_c_bulk', \n",
    "                             'phi_c_bulk_round'\n",
    "                            ],\n",
    "        'equil_properties': ['asphericityMon-mean', 'asphericityMon-var',\n",
    "                             'asphericityMon-sem', 'fsdMon-mean',\n",
    "                             'fsdMon-var', 'fsdMon-sem', 'gyrMon-mean',\n",
    "                             'gyrMon-var', 'gyrMon-sem', 'rfloryMon-mean',\n",
    "                             'rfloryMon-var', 'rfloryMon-sem',\n",
    "                             'shapeMon-mean', 'shapeMon-var', 'shapeMon-sem','transSizeMon-mean', 'transSizeMon-var', 'transSizeMon-sem'],\n",
    "        'rhosPhisNormalizedScaled': [('Mon', 'dmon'), ('Crd', 'dcrowd')]\n",
    "    },\n",
    "    'TransFociCyl':{\n",
    "        'parser': TransFociCyl,\n",
    "        'space_pat': 'ns*nl*al*D*ac*',\n",
    "        'hierarchy': 'eps*',\n",
    "        'space_hierarchy': 'ns*',\n",
    "        'attributes': ['space', 'ensemble_long', 'ensemble', 'nmon_small',\n",
    "                       'nmon_large','dmon_large', 'dcyl', 'dcrowd',\n",
    "                       'phi_c_bulk'\n",
    "                      ],\n",
    "        'time_varying_props': ['asphericityTMon', 'fsdTMon', 'gyrTMon',\n",
    "                               'shapeTMon'],\n",
    "        'equil_measures': [np.mean, np.var, measurer.sem],\n",
    "        'equil_attributes': ['ensemble_long', 'ensemble', 'space', 'dcyl',\n",
    "                             'dmon_large', 'nmon_large', 'nmon_small',\n",
    "                             'dcrowd', 'phi_c_bulk', 'phi_c_bulk_round'],\n",
    "        'equil_properties': ['asphericityMon-mean', 'asphericityMon-var',\n",
    "                             'asphericityMon-sem', 'fsdMon-mean',\n",
    "                             'fsdMon-var', 'fsdMon-sem', 'gyrMon-mean',\n",
    "                             'gyrMon-var', 'gyrMon-sem', 'shapeMon-mean',\n",
    "                             'shapeMon-var', 'shapeMon-sem'],\n",
    "        'rhosPhisNormalizedScaled': [('Mon', 'dmon_small'), ('Crd', 'dcrowd'), ('Foci', 'dmon_large')]\n",
    "    },\n",
    "    'TransFociCubic':{\n",
    "        'parser': TransFociCubic,\n",
    "        'space_pat': 'ns*nl*al*ac*',\n",
    "        'hierarchy': 'ns*',\n",
    "        'space_hierarchy': 'ns*',\n",
    "        'attributes': ['space', 'ensemble_long', 'ensemble', 'nmon_small',\n",
    "                       'nmon_large','dmon_large', 'dcyl', 'dcrowd',\n",
    "                       'phi_c_bulk'\n",
    "                      ],\n",
    "        'time_varying_props': ['asphericityTMon', 'fsdTMon', 'gyrTMon',\n",
    "                               'shapeTMon'],\n",
    "        'equil_measures': [np.mean, np.var, measurer.sem],\n",
    "        'equil_attributes': ['ensemble_long', 'ensemble', 'space', 'dcyl',\n",
    "                             'dmon_large', 'nmon_large', 'nmon_small',\n",
    "                             'dcrowd', 'phi_c_bulk', 'phi_c_bulk_round'],\n",
    "        'equil_properties': ['asphericityMon-mean', 'asphericityMon-var',\n",
    "                             'asphericityMon-sem', 'fsdMon-mean',\n",
    "                             'fsdMon-var', 'fsdMon-sem', 'gyrMon-mean',\n",
    "                             'gyrMon-var', 'gyrMon-sem', 'shapeMon-mean',\n",
    "                             'shapeMon-var', 'shapeMon-sem'],\n",
    "        'rhosPhisNormalizedScaled': [('Mon', 'dmon_small'), ('Crd', 'dcrowd'), ('Foci', 'dmon_large')]\n",
    "    }\n",
    "}"
   ]
  },
  {
   "cell_type": "markdown",
   "id": "262003e6",
   "metadata": {
    "tags": []
   },
   "source": [
    "## allInOne *whole* and *ensAvg* stamps per project"
   ]
  },
  {
   "cell_type": "markdown",
   "id": "be7fab6b",
   "metadata": {
    "tags": []
   },
   "source": [
    "### **ensemble-averaged** stamps per project:"
   ]
  },
  {
   "cell_type": "code",
   "execution_count": 4,
   "id": "fa47d2ba",
   "metadata": {},
   "outputs": [],
   "source": [
    "analysis_db = '/Users/amirhsi_mini/research_data/analysis/'\n",
    "group = 'bug'\n",
    "phase=\"ensAvg\"\n",
    "space_dbs = glob(analysis_db + project_details[project]['space_pat'])\n",
    "ens_avg_space_dbs = [\n",
    "    space_db + \"/\" for space_db in space_dbs if space_db.endswith(\n",
    "        group + '-' + phase\n",
    "    )\n",
    "]\n",
    "allInOne_stamps = []\n",
    "for space_db in ens_avg_space_dbs:\n",
    "    stamp_path = project_details[project]['space_hierarchy'] + 'stamps*' \n",
    "    stamp_path = glob(space_db + \"/\" + stamp_path + '.csv')[0]\n",
    "    space_stamps = pd.read_csv(stamp_path)\n",
    "    allInOne_stamps.append(space_stamps)\n",
    "allInOne_stamps = pd.concat(allInOne_stamps, axis=0)\n",
    "allInOne_stamps.reset_index(inplace=True, drop=True)\n",
    "output = analysis_db + \"allInOne-\" + project + \"-stamps-\" + phase + \".csv\"\n",
    "allInOne_stamps.to_csv(output, index=False)"
   ]
  },
  {
   "cell_type": "markdown",
   "id": "b5c51724",
   "metadata": {
    "tags": []
   },
   "source": [
    "### **whole** stamps per project"
   ]
  },
  {
   "cell_type": "code",
   "execution_count": 5,
   "id": "caf0a825-b48c-41d9-b954-7b988b1dea8a",
   "metadata": {},
   "outputs": [],
   "source": [
    "analysis_db = '/Users/amirhsi_mini/research_data/analysis/'\n",
    "group = 'bug'\n",
    "phase='ens'\n",
    "space_dbs = glob(analysis_db + project_details[project]['space_pat'])\n",
    "phase_space_dbs = [\n",
    "    space_db for space_db in space_dbs if space_db.endswith(\n",
    "        group + '-' + phase\n",
    "    )\n",
    "]\n",
    "allInOne_stamps = []\n",
    "for space_db in phase_space_dbs:\n",
    "    stamp_path = project_details[project]['space_hierarchy'] + 'stamps*'\n",
    "    stamp_path = glob(space_db + \"/\" + stamp_path + '.csv')[0]\n",
    "    space_stamps = pd.read_csv(stamp_path)\n",
    "    allInOne_stamps.append(space_stamps)\n",
    "allInOne_stamps = pd.concat(allInOne_stamps, axis=0)\n",
    "allInOne_stamps.reset_index(inplace=True, drop=True)\n",
    "output = analysis_db + \"allInOne-\" + project + \"-stamps-\" + phase +\".csv\"\n",
    "allInOne_stamps.to_csv(output, index=False)"
   ]
  },
  {
   "cell_type": "markdown",
   "id": "624d81b7",
   "metadata": {
    "tags": []
   },
   "source": [
    "## **ensAvg** timeseries and their associated measures "
   ]
  },
  {
   "cell_type": "markdown",
   "id": "e2f538b6-83e3-443f-8d4e-612dc9bfaf07",
   "metadata": {
    "tags": []
   },
   "source": [
    "### **Measures** of chainsize timeseries properties per space"
   ]
  },
  {
   "cell_type": "markdown",
   "id": "8dbc9a63-48f6-45d6-9f30-f2a7d76b560f",
   "metadata": {
    "jp-MarkdownHeadingCollapsed": true,
    "tags": []
   },
   "source": [
    "#### **allInONe** ACFs of the chain-size properties per **space**"
   ]
  },
  {
   "cell_type": "code",
   "execution_count": 6,
   "id": "5a9ee296-b30e-42a6-b594-bf5990c709ad",
   "metadata": {
    "tags": []
   },
   "outputs": [
    {
     "name": "stdout",
     "output_type": "stream",
     "text": [
      "['/Users/amirhsi_mini/research_data/analysis/ns400nl5al5.0ac1.0-bug-ensAvg/']\n",
      "['asphericityTMon-acf', 'asphericityTMon-acfLowerCi', 'asphericityTMon-acfUpperCi', 'gyrTMon-acf', 'gyrTMon-acfLowerCi', 'gyrTMon-acfUpperCi', 'shapeTMon-acf', 'shapeTMon-acfLowerCi', 'shapeTMon-acfUpperCi']\n"
     ]
    },
    {
     "ename": "ValueError",
     "evalue": "No objects to concatenate",
     "output_type": "error",
     "traceback": [
      "\u001b[0;31m---------------------------------------------------------------------------\u001b[0m",
      "\u001b[0;31mValueError\u001b[0m                                Traceback (most recent call last)",
      "File \u001b[0;32m<timed exec>:23\u001b[0m, in \u001b[0;36m<module>\u001b[0;34m\u001b[0m\n",
      "File \u001b[0;32m~/OneDrive - University of Waterloo/PhD Research/Jupyter/PolyPhys/polyphys/manage/organizer.py:1444\u001b[0m, in \u001b[0;36mspace_tseries\u001b[0;34m(input_database, property_, parser, hierarchy, physical_attrs, group, geometry, divisor, round_to, is_save)\u001b[0m\n\u001b[1;32m   1441\u001b[0m     ens_avg[\u001b[38;5;124m'\u001b[39m\u001b[38;5;124mphi_c_bulk_round\u001b[39m\u001b[38;5;124m'\u001b[39m] \u001b[38;5;241m=\u001b[39m ens_avg[\u001b[38;5;124m'\u001b[39m\u001b[38;5;124mphi_c_bulk\u001b[39m\u001b[38;5;124m'\u001b[39m]\u001b[38;5;241m.\u001b[39mapply(\n\u001b[1;32m   1442\u001b[0m         round_up_nearest, args\u001b[38;5;241m=\u001b[39m[divisor, round_to])\n\u001b[1;32m   1443\u001b[0m     property_db\u001b[38;5;241m.\u001b[39mappend(ens_avg)\n\u001b[0;32m-> 1444\u001b[0m property_db \u001b[38;5;241m=\u001b[39m \u001b[43mpd\u001b[49m\u001b[38;5;241;43m.\u001b[39;49m\u001b[43mconcat\u001b[49m\u001b[43m(\u001b[49m\u001b[43mproperty_db\u001b[49m\u001b[43m,\u001b[49m\u001b[43m \u001b[49m\u001b[43maxis\u001b[49m\u001b[38;5;241;43m=\u001b[39;49m\u001b[38;5;241;43m0\u001b[39;49m\u001b[43m)\u001b[49m\n\u001b[1;32m   1445\u001b[0m property_db\u001b[38;5;241m.\u001b[39mreset_index(inplace\u001b[38;5;241m=\u001b[39m\u001b[38;5;28;01mTrue\u001b[39;00m, drop\u001b[38;5;241m=\u001b[39m\u001b[38;5;28;01mTrue\u001b[39;00m)\n\u001b[1;32m   1446\u001b[0m \u001b[38;5;28;01mif\u001b[39;00m is_save \u001b[38;5;129;01mis\u001b[39;00m \u001b[38;5;129;01mnot\u001b[39;00m \u001b[38;5;28;01mFalse\u001b[39;00m:\n",
      "File \u001b[0;32m~/opt/anaconda3/envs/polyLab/lib/python3.9/site-packages/pandas/util/_decorators.py:311\u001b[0m, in \u001b[0;36mdeprecate_nonkeyword_arguments.<locals>.decorate.<locals>.wrapper\u001b[0;34m(*args, **kwargs)\u001b[0m\n\u001b[1;32m    305\u001b[0m \u001b[38;5;28;01mif\u001b[39;00m \u001b[38;5;28mlen\u001b[39m(args) \u001b[38;5;241m>\u001b[39m num_allow_args:\n\u001b[1;32m    306\u001b[0m     warnings\u001b[38;5;241m.\u001b[39mwarn(\n\u001b[1;32m    307\u001b[0m         msg\u001b[38;5;241m.\u001b[39mformat(arguments\u001b[38;5;241m=\u001b[39marguments),\n\u001b[1;32m    308\u001b[0m         \u001b[38;5;167;01mFutureWarning\u001b[39;00m,\n\u001b[1;32m    309\u001b[0m         stacklevel\u001b[38;5;241m=\u001b[39mstacklevel,\n\u001b[1;32m    310\u001b[0m     )\n\u001b[0;32m--> 311\u001b[0m \u001b[38;5;28;01mreturn\u001b[39;00m \u001b[43mfunc\u001b[49m\u001b[43m(\u001b[49m\u001b[38;5;241;43m*\u001b[39;49m\u001b[43margs\u001b[49m\u001b[43m,\u001b[49m\u001b[43m \u001b[49m\u001b[38;5;241;43m*\u001b[39;49m\u001b[38;5;241;43m*\u001b[39;49m\u001b[43mkwargs\u001b[49m\u001b[43m)\u001b[49m\n",
      "File \u001b[0;32m~/opt/anaconda3/envs/polyLab/lib/python3.9/site-packages/pandas/core/reshape/concat.py:347\u001b[0m, in \u001b[0;36mconcat\u001b[0;34m(objs, axis, join, ignore_index, keys, levels, names, verify_integrity, sort, copy)\u001b[0m\n\u001b[1;32m    143\u001b[0m \u001b[38;5;129m@deprecate_nonkeyword_arguments\u001b[39m(version\u001b[38;5;241m=\u001b[39m\u001b[38;5;28;01mNone\u001b[39;00m, allowed_args\u001b[38;5;241m=\u001b[39m[\u001b[38;5;124m\"\u001b[39m\u001b[38;5;124mobjs\u001b[39m\u001b[38;5;124m\"\u001b[39m])\n\u001b[1;32m    144\u001b[0m \u001b[38;5;28;01mdef\u001b[39;00m \u001b[38;5;21mconcat\u001b[39m(\n\u001b[1;32m    145\u001b[0m     objs: Iterable[NDFrame] \u001b[38;5;241m|\u001b[39m Mapping[Hashable, NDFrame],\n\u001b[0;32m   (...)\u001b[0m\n\u001b[1;32m    154\u001b[0m     copy: \u001b[38;5;28mbool\u001b[39m \u001b[38;5;241m=\u001b[39m \u001b[38;5;28;01mTrue\u001b[39;00m,\n\u001b[1;32m    155\u001b[0m ) \u001b[38;5;241m-\u001b[39m\u001b[38;5;241m>\u001b[39m DataFrame \u001b[38;5;241m|\u001b[39m Series:\n\u001b[1;32m    156\u001b[0m     \u001b[38;5;124;03m\"\"\"\u001b[39;00m\n\u001b[1;32m    157\u001b[0m \u001b[38;5;124;03m    Concatenate pandas objects along a particular axis with optional set logic\u001b[39;00m\n\u001b[1;32m    158\u001b[0m \u001b[38;5;124;03m    along the other axes.\u001b[39;00m\n\u001b[0;32m   (...)\u001b[0m\n\u001b[1;32m    345\u001b[0m \u001b[38;5;124;03m    ValueError: Indexes have overlapping values: ['a']\u001b[39;00m\n\u001b[1;32m    346\u001b[0m \u001b[38;5;124;03m    \"\"\"\u001b[39;00m\n\u001b[0;32m--> 347\u001b[0m     op \u001b[38;5;241m=\u001b[39m \u001b[43m_Concatenator\u001b[49m\u001b[43m(\u001b[49m\n\u001b[1;32m    348\u001b[0m \u001b[43m        \u001b[49m\u001b[43mobjs\u001b[49m\u001b[43m,\u001b[49m\n\u001b[1;32m    349\u001b[0m \u001b[43m        \u001b[49m\u001b[43maxis\u001b[49m\u001b[38;5;241;43m=\u001b[39;49m\u001b[43maxis\u001b[49m\u001b[43m,\u001b[49m\n\u001b[1;32m    350\u001b[0m \u001b[43m        \u001b[49m\u001b[43mignore_index\u001b[49m\u001b[38;5;241;43m=\u001b[39;49m\u001b[43mignore_index\u001b[49m\u001b[43m,\u001b[49m\n\u001b[1;32m    351\u001b[0m \u001b[43m        \u001b[49m\u001b[43mjoin\u001b[49m\u001b[38;5;241;43m=\u001b[39;49m\u001b[43mjoin\u001b[49m\u001b[43m,\u001b[49m\n\u001b[1;32m    352\u001b[0m \u001b[43m        \u001b[49m\u001b[43mkeys\u001b[49m\u001b[38;5;241;43m=\u001b[39;49m\u001b[43mkeys\u001b[49m\u001b[43m,\u001b[49m\n\u001b[1;32m    353\u001b[0m \u001b[43m        \u001b[49m\u001b[43mlevels\u001b[49m\u001b[38;5;241;43m=\u001b[39;49m\u001b[43mlevels\u001b[49m\u001b[43m,\u001b[49m\n\u001b[1;32m    354\u001b[0m \u001b[43m        \u001b[49m\u001b[43mnames\u001b[49m\u001b[38;5;241;43m=\u001b[39;49m\u001b[43mnames\u001b[49m\u001b[43m,\u001b[49m\n\u001b[1;32m    355\u001b[0m \u001b[43m        \u001b[49m\u001b[43mverify_integrity\u001b[49m\u001b[38;5;241;43m=\u001b[39;49m\u001b[43mverify_integrity\u001b[49m\u001b[43m,\u001b[49m\n\u001b[1;32m    356\u001b[0m \u001b[43m        \u001b[49m\u001b[43mcopy\u001b[49m\u001b[38;5;241;43m=\u001b[39;49m\u001b[43mcopy\u001b[49m\u001b[43m,\u001b[49m\n\u001b[1;32m    357\u001b[0m \u001b[43m        \u001b[49m\u001b[43msort\u001b[49m\u001b[38;5;241;43m=\u001b[39;49m\u001b[43msort\u001b[49m\u001b[43m,\u001b[49m\n\u001b[1;32m    358\u001b[0m \u001b[43m    \u001b[49m\u001b[43m)\u001b[49m\n\u001b[1;32m    360\u001b[0m     \u001b[38;5;28;01mreturn\u001b[39;00m op\u001b[38;5;241m.\u001b[39mget_result()\n",
      "File \u001b[0;32m~/opt/anaconda3/envs/polyLab/lib/python3.9/site-packages/pandas/core/reshape/concat.py:404\u001b[0m, in \u001b[0;36m_Concatenator.__init__\u001b[0;34m(self, objs, axis, join, keys, levels, names, ignore_index, verify_integrity, copy, sort)\u001b[0m\n\u001b[1;32m    401\u001b[0m     objs \u001b[38;5;241m=\u001b[39m \u001b[38;5;28mlist\u001b[39m(objs)\n\u001b[1;32m    403\u001b[0m \u001b[38;5;28;01mif\u001b[39;00m \u001b[38;5;28mlen\u001b[39m(objs) \u001b[38;5;241m==\u001b[39m \u001b[38;5;241m0\u001b[39m:\n\u001b[0;32m--> 404\u001b[0m     \u001b[38;5;28;01mraise\u001b[39;00m \u001b[38;5;167;01mValueError\u001b[39;00m(\u001b[38;5;124m\"\u001b[39m\u001b[38;5;124mNo objects to concatenate\u001b[39m\u001b[38;5;124m\"\u001b[39m)\n\u001b[1;32m    406\u001b[0m \u001b[38;5;28;01mif\u001b[39;00m keys \u001b[38;5;129;01mis\u001b[39;00m \u001b[38;5;28;01mNone\u001b[39;00m:\n\u001b[1;32m    407\u001b[0m     objs \u001b[38;5;241m=\u001b[39m \u001b[38;5;28mlist\u001b[39m(com\u001b[38;5;241m.\u001b[39mnot_none(\u001b[38;5;241m*\u001b[39mobjs))\n",
      "\u001b[0;31mValueError\u001b[0m: No objects to concatenate"
     ]
    }
   ],
   "source": [
    "%%time\n",
    "# Wall time: 60 s for TransFoci\n",
    "# Wall time: 4 min for SumRule\n",
    "analysis_db = '/Users/amirhsi_mini/research_data/analysis/'\n",
    "group = 'bug'\n",
    "geometry = 'biaxial'\n",
    "phase = 'ensAvg'\n",
    "space_dbs = glob(analysis_db + project_details[project]['space_pat'])\n",
    "ens_avg_space_dbs = [\n",
    "    space_db + \"/\" for space_db in space_dbs if space_db.endswith(\n",
    "        group + '-' + phase\n",
    "    )\n",
    "]\n",
    "print(ens_avg_space_dbs)\n",
    "# list of unique property_measures:\n",
    "filepath = ens_avg_space_dbs[0] + '*' + project_details[project]['hierarchy'] + '.csv'  # physical properties in all the \n",
    "_, uniq_props_measures = organizer.unique_property(\n",
    "    filepath, 2, [\"-\" + phase], drop_properties=['stamps'])\n",
    "print(uniq_props_measures)\n",
    "for ens_avg_space_db in ens_avg_space_dbs:\n",
    "    ens_avgs = list()\n",
    "    space = ens_avg_space_db.split('/')[-2].split('-')[0]\n",
    "    for property_ in uniq_props_measures:\n",
    "        ens_avg = organizer.space_tseries(\n",
    "            ens_avg_space_db,\n",
    "            property_,\n",
    "            project_details[project]['parser'],\n",
    "            project_details[project]['hierarchy'],\n",
    "            project_details[project]['attributes'],\n",
    "            group,\n",
    "            geometry,\n",
    "            is_save = False  # if True, save per property per space\n",
    "        )\n",
    "        ens_avgs.append(ens_avg)\n",
    "    ens_avgs = pd.concat(ens_avgs,axis=1)\n",
    "    # drop duplicated columns:\n",
    "    ens_avgs = ens_avgs.loc[:,~ens_avgs.columns.duplicated()]\n",
    "    output_name = analysis_db +  \"-\".join(\n",
    "        [space,  group, \"chainSize-acf.parquet.brotli\"]\n",
    "    )\n",
    "    ens_avgs.to_parquet(output_name, index=False, compression='brotli')"
   ]
  },
  {
   "cell_type": "markdown",
   "id": "259588f1-c129-48c6-98d0-6a1f4990d1ce",
   "metadata": {
    "jp-MarkdownHeadingCollapsed": true,
    "tags": []
   },
   "source": [
    "#### **allInOne** the chian-size properties per **space**"
   ]
  },
  {
   "cell_type": "code",
   "execution_count": null,
   "id": "844af7ed",
   "metadata": {
    "tags": []
   },
   "outputs": [],
   "source": [
    "%%time\n",
    "# Wall time: 2 min s for TransFoci\n",
    "# Wall time: 30 min for SumRule\n",
    "analysis_db = '/Users/amirhsi_mini/research_data/analysis/'\n",
    "group = 'bug'\n",
    "geometry = 'biaxial'\n",
    "phase = 'ensAvg'\n",
    "space_dbs = glob(analysis_db + project_details[project]['space_pat'])\n",
    "ens_avg_space_dbs = [\n",
    "    space_db + \"/\" for space_db in space_dbs if space_db.endswith(\n",
    "        group + '-' + phase\n",
    "    )\n",
    "]\n",
    "print(ens_avg_space_dbs)\n",
    "# list of unique property_measures:\n",
    "filepath = ens_avg_space_dbs[0] + '*' + project_details[project]['hierarchy'] + '.csv'  # physical properties in all the \n",
    "_, uniq_props_measures = organizer.unique_property(\n",
    "    filepath, 2, [\"-\" + phase], drop_properties=['stamps'])\n",
    "props_tseries = list(\n",
    "    set(\n",
    "        [prop.split(\"-acf\")[0] for prop in uniq_props_measures]\n",
    "    )\n",
    ")\n",
    "print(props_tseries)\n",
    "for ens_avg_space_db in ens_avg_space_dbs:\n",
    "    ens_avgs = list()\n",
    "    space = ens_avg_space_db.split('/')[-2].split('-')[0]\n",
    "    for property_ in props_tseries:\n",
    "        ens_avg = organizer.space_tseries(\n",
    "            ens_avg_space_db,\n",
    "            property_,\n",
    "            project_details[project]['parser'],\n",
    "            project_details[project]['hierarchy'],\n",
    "            project_details[project]['attributes'],\n",
    "            group,\n",
    "            geometry,\n",
    "            is_save = False  # if True, save per property per space\n",
    "        )\n",
    "        ens_avgs.append(ens_avg)\n",
    "    ens_avgs = pd.concat(ens_avgs,axis=1)\n",
    "    # drop duplicated columns:\n",
    "    ens_avgs = ens_avgs.loc[:,~ens_avgs.columns.duplicated()]\n",
    "    output_name = analysis_db +  \"-\".join(\n",
    "        [space,  group, \"chainSize.parquet.brotli\"]\n",
    "    )\n",
    "    ens_avgs.to_parquet(output_name, index=False, compression='brotli')"
   ]
  },
  {
   "cell_type": "markdown",
   "id": "ff3bcc1a",
   "metadata": {
    "jp-MarkdownHeadingCollapsed": true,
    "tags": []
   },
   "source": [
    "### Pair distance time-series per project: For TransFoci project"
   ]
  },
  {
   "cell_type": "code",
   "execution_count": null,
   "id": "836072fe",
   "metadata": {},
   "outputs": [],
   "source": [
    "%%time\n",
    "analysis_db = '/Users/amirhsi_mini/research_data/analysis/'\n",
    "group = 'bug'\n",
    "geometry = 'biaxial'\n",
    "phase = 'ensAvg'\n",
    "space_dbs = glob(analysis_db + project_details[project]['space_pat'])\n",
    "ens_avg_space_dbs = [\n",
    "    space_db + \"/\" for space_db in space_dbs if space_db.endswith(\n",
    "        group + '-' + phase\n",
    "    )\n",
    "]\n",
    "print(ens_avg_space_dbs)\n",
    "tseries_foci_props = ['pairDistTFoci']\n",
    "project_ens_avgs = []\n",
    "for prop in tseries_foci_props:\n",
    "    prop_ens_avgs = list()\n",
    "    for ens_avg_space_db in ens_avg_space_dbs:\n",
    "        space = ens_avg_space_db.split('/')[-2].split('-')[0]\n",
    "        ens_avg = organizer.space_tseries(\n",
    "            ens_avg_space_db,\n",
    "            prop,\n",
    "            project_details[project]['parser'],\n",
    "            project_details[project]['hierarchy'],\n",
    "            project_details[project]['attributes'],\n",
    "            group,\n",
    "            geometry,\n",
    "            is_save = False  # if True, save per property per space\n",
    "        )\n",
    "        prop_ens_avgs.append(ens_avg)\n",
    "    prop_ens_avgs = pd.concat(prop_ens_avgs,axis=0)\n",
    "    # drop duplicated columns:\n",
    "    prop_ens_avgs = prop_ens_avgs.loc[:, ~prop_ens_avgs.columns.duplicated()]\n",
    "    prop_ens_avgs.reset_index(inplace=True, drop=True)\n",
    "    project_ens_avgs.append(prop_ens_avgs)\n",
    "project_ens_avgs = pd.concat(project_ens_avgs,axis=1)\n",
    "project_ens_avgs = \\\n",
    "    project_ens_avgs.loc[:, ~project_ens_avgs.columns.duplicated()]\n",
    "project_ens_avgs.reset_index(inplace=True, drop=True)\n",
    "output ='-'.join(['allInOne', project, group, 'pairDistT.parquet.brotli'])\n",
    "output = analysis_db + output\n",
    "project_ens_avgs.to_parquet(output, index=False, compression='brotli')"
   ]
  },
  {
   "cell_type": "markdown",
   "id": "d50541f3-23c6-493c-b03c-59791f0c8af9",
   "metadata": {
    "tags": []
   },
   "source": [
    "## Equilibrium timeseries properties per space AND per project"
   ]
  },
  {
   "cell_type": "markdown",
   "id": "ec6550f1-7813-4bfb-8009-6955a89378ef",
   "metadata": {
    "tags": []
   },
   "source": [
    "### Whole quilibrium properties allInOne"
   ]
  },
  {
   "cell_type": "code",
   "execution_count": 9,
   "id": "c8079e8a-9a4f-4fcd-861e-9c4a3ae02de7",
   "metadata": {
    "tags": []
   },
   "outputs": [
    {
     "ename": "ValueError",
     "evalue": "No objects to concatenate",
     "output_type": "error",
     "traceback": [
      "\u001b[0;31m---------------------------------------------------------------------------\u001b[0m",
      "\u001b[0;31mValueError\u001b[0m                                Traceback (most recent call last)",
      "File \u001b[0;32m<timed exec>:8\u001b[0m, in \u001b[0;36m<module>\u001b[0;34m\u001b[0m\n",
      "File \u001b[0;32m~/OneDrive - University of Waterloo/PhD Research/Jupyter/PolyPhys/polyphys/api.py:80\u001b[0m, in \u001b[0;36mallInOne_equil_tseries\u001b[0;34m(project, analysis_db, group, spaces, properties, measures, divisor, round_to, save_space, save_to)\u001b[0m\n\u001b[1;32m     76\u001b[0m         \u001b[38;5;28;01mraise\u001b[39;00m \u001b[38;5;167;01mValueError\u001b[39;00m(\n\u001b[1;32m     77\u001b[0m             \u001b[38;5;124m\"\u001b[39m\u001b[38;5;124mMore than one \u001b[39m\u001b[38;5;124m'\u001b[39m\u001b[38;5;124mwhole\u001b[39m\u001b[38;5;124m'\u001b[39m\u001b[38;5;124m stamps dataset found. Which of the\u001b[39m\u001b[38;5;124m\"\u001b[39m\n\u001b[1;32m     78\u001b[0m             \u001b[38;5;124mf\u001b[39m\u001b[38;5;124m\"\u001b[39m\u001b[38;5;124m following is the correct one? \u001b[39m\u001b[38;5;124m'\u001b[39m\u001b[38;5;132;01m{\u001b[39;00mwhole_stamps\u001b[38;5;132;01m}\u001b[39;00m\u001b[38;5;124m'\u001b[39m\u001b[38;5;124m\"\u001b[39m)\n\u001b[1;32m     79\u001b[0m     whole_stamps \u001b[38;5;241m=\u001b[39m pd\u001b[38;5;241m.\u001b[39mread_csv(whole_stamps[\u001b[38;5;241m0\u001b[39m], header\u001b[38;5;241m=\u001b[39m\u001b[38;5;241m0\u001b[39m)\n\u001b[0;32m---> 80\u001b[0m     spac_equil_props \u001b[38;5;241m=\u001b[39m \u001b[43manalyzer\u001b[49m\u001b[38;5;241;43m.\u001b[39;49m\u001b[43mequilibrium_tseries_wholes\u001b[49m\u001b[43m(\u001b[49m\n\u001b[1;32m     81\u001b[0m \u001b[43m        \u001b[49m\u001b[43mspace\u001b[49m\u001b[43m,\u001b[49m\n\u001b[1;32m     82\u001b[0m \u001b[43m        \u001b[49m\u001b[43mspace_db\u001b[49m\u001b[43m \u001b[49m\u001b[38;5;241;43m+\u001b[39;49m\u001b[43m \u001b[49m\u001b[38;5;124;43m\"\u001b[39;49m\u001b[38;5;124;43m/*.csv\u001b[39;49m\u001b[38;5;124;43m\"\u001b[39;49m\u001b[43m,\u001b[49m\n\u001b[1;32m     83\u001b[0m \u001b[43m        \u001b[49m\u001b[43mproperties\u001b[49m\u001b[43m,\u001b[49m\n\u001b[1;32m     84\u001b[0m \u001b[43m        \u001b[49m\u001b[43mmeasures\u001b[49m\u001b[43m,\u001b[49m\n\u001b[1;32m     85\u001b[0m \u001b[43m        \u001b[49m\u001b[43mwhole_stamps\u001b[49m\u001b[43m,\u001b[49m\n\u001b[1;32m     86\u001b[0m \u001b[43m        \u001b[49m\u001b[43msave_to\u001b[49m\u001b[38;5;241;43m=\u001b[39;49m\u001b[43msave_to_space\u001b[49m\n\u001b[1;32m     87\u001b[0m \u001b[43m    \u001b[49m\u001b[43m)\u001b[49m\n\u001b[1;32m     88\u001b[0m     all_in_one_equil_props\u001b[38;5;241m.\u001b[39mappend(spac_equil_props)\n\u001b[1;32m     89\u001b[0m all_in_one_equil_props \u001b[38;5;241m=\u001b[39m pd\u001b[38;5;241m.\u001b[39mconcat(all_in_one_equil_props)\n",
      "File \u001b[0;32m~/OneDrive - University of Waterloo/PhD Research/Jupyter/PolyPhys/polyphys/analyze/analyzer.py:1561\u001b[0m, in \u001b[0;36mequilibrium_tseries_wholes\u001b[0;34m(space, space_db, properties, measures, whole_stamps, save_to)\u001b[0m\n\u001b[1;32m   1559\u001b[0m property_measures \u001b[38;5;241m=\u001b[39m []\n\u001b[1;32m   1560\u001b[0m \u001b[38;5;28;01mfor\u001b[39;00m measure \u001b[38;5;129;01min\u001b[39;00m measures:\n\u001b[0;32m-> 1561\u001b[0m     spc_measure \u001b[38;5;241m=\u001b[39m \u001b[43mspace_measure\u001b[49m\u001b[43m(\u001b[49m\u001b[43mproperty_\u001b[49m\u001b[43m,\u001b[49m\u001b[43m \u001b[49m\u001b[43mspace_db\u001b[49m\u001b[43m,\u001b[49m\u001b[43m \u001b[49m\u001b[43mmeasure\u001b[49m\u001b[43m)\u001b[49m\n\u001b[1;32m   1562\u001b[0m     property_measures\u001b[38;5;241m.\u001b[39mappend(spc_measure)\n\u001b[1;32m   1563\u001b[0m property_measures \u001b[38;5;241m=\u001b[39m pd\u001b[38;5;241m.\u001b[39mconcat(property_measures, axis\u001b[38;5;241m=\u001b[39m\u001b[38;5;241m1\u001b[39m)\n",
      "File \u001b[0;32m~/OneDrive - University of Waterloo/PhD Research/Jupyter/PolyPhys/polyphys/analyze/analyzer.py:1508\u001b[0m, in \u001b[0;36mspace_measure\u001b[0;34m(property_, space_db, measure)\u001b[0m\n\u001b[1;32m   1506\u001b[0m     ens_measure \u001b[38;5;241m=\u001b[39m ensemble_measure(property_db, measure)\n\u001b[1;32m   1507\u001b[0m     space_measure\u001b[38;5;241m.\u001b[39mappend(ens_measure)\n\u001b[0;32m-> 1508\u001b[0m space_measure \u001b[38;5;241m=\u001b[39m \u001b[43mpd\u001b[49m\u001b[38;5;241;43m.\u001b[39;49m\u001b[43mconcat\u001b[49m\u001b[43m(\u001b[49m\u001b[43mspace_measure\u001b[49m\u001b[43m)\u001b[49m\n\u001b[1;32m   1509\u001b[0m space_measure\u001b[38;5;241m.\u001b[39mrename(\n\u001b[1;32m   1510\u001b[0m     columns\u001b[38;5;241m=\u001b[39m{meas_name: equil_meas_name}, inplace\u001b[38;5;241m=\u001b[39m\u001b[38;5;28;01mTrue\u001b[39;00m\n\u001b[1;32m   1511\u001b[0m )\n\u001b[1;32m   1512\u001b[0m \u001b[38;5;28;01mreturn\u001b[39;00m space_measure\n",
      "File \u001b[0;32m~/opt/anaconda3/envs/polyLab/lib/python3.9/site-packages/pandas/util/_decorators.py:311\u001b[0m, in \u001b[0;36mdeprecate_nonkeyword_arguments.<locals>.decorate.<locals>.wrapper\u001b[0;34m(*args, **kwargs)\u001b[0m\n\u001b[1;32m    305\u001b[0m \u001b[38;5;28;01mif\u001b[39;00m \u001b[38;5;28mlen\u001b[39m(args) \u001b[38;5;241m>\u001b[39m num_allow_args:\n\u001b[1;32m    306\u001b[0m     warnings\u001b[38;5;241m.\u001b[39mwarn(\n\u001b[1;32m    307\u001b[0m         msg\u001b[38;5;241m.\u001b[39mformat(arguments\u001b[38;5;241m=\u001b[39marguments),\n\u001b[1;32m    308\u001b[0m         \u001b[38;5;167;01mFutureWarning\u001b[39;00m,\n\u001b[1;32m    309\u001b[0m         stacklevel\u001b[38;5;241m=\u001b[39mstacklevel,\n\u001b[1;32m    310\u001b[0m     )\n\u001b[0;32m--> 311\u001b[0m \u001b[38;5;28;01mreturn\u001b[39;00m \u001b[43mfunc\u001b[49m\u001b[43m(\u001b[49m\u001b[38;5;241;43m*\u001b[39;49m\u001b[43margs\u001b[49m\u001b[43m,\u001b[49m\u001b[43m \u001b[49m\u001b[38;5;241;43m*\u001b[39;49m\u001b[38;5;241;43m*\u001b[39;49m\u001b[43mkwargs\u001b[49m\u001b[43m)\u001b[49m\n",
      "File \u001b[0;32m~/opt/anaconda3/envs/polyLab/lib/python3.9/site-packages/pandas/core/reshape/concat.py:347\u001b[0m, in \u001b[0;36mconcat\u001b[0;34m(objs, axis, join, ignore_index, keys, levels, names, verify_integrity, sort, copy)\u001b[0m\n\u001b[1;32m    143\u001b[0m \u001b[38;5;129m@deprecate_nonkeyword_arguments\u001b[39m(version\u001b[38;5;241m=\u001b[39m\u001b[38;5;28;01mNone\u001b[39;00m, allowed_args\u001b[38;5;241m=\u001b[39m[\u001b[38;5;124m\"\u001b[39m\u001b[38;5;124mobjs\u001b[39m\u001b[38;5;124m\"\u001b[39m])\n\u001b[1;32m    144\u001b[0m \u001b[38;5;28;01mdef\u001b[39;00m \u001b[38;5;21mconcat\u001b[39m(\n\u001b[1;32m    145\u001b[0m     objs: Iterable[NDFrame] \u001b[38;5;241m|\u001b[39m Mapping[Hashable, NDFrame],\n\u001b[0;32m   (...)\u001b[0m\n\u001b[1;32m    154\u001b[0m     copy: \u001b[38;5;28mbool\u001b[39m \u001b[38;5;241m=\u001b[39m \u001b[38;5;28;01mTrue\u001b[39;00m,\n\u001b[1;32m    155\u001b[0m ) \u001b[38;5;241m-\u001b[39m\u001b[38;5;241m>\u001b[39m DataFrame \u001b[38;5;241m|\u001b[39m Series:\n\u001b[1;32m    156\u001b[0m     \u001b[38;5;124;03m\"\"\"\u001b[39;00m\n\u001b[1;32m    157\u001b[0m \u001b[38;5;124;03m    Concatenate pandas objects along a particular axis with optional set logic\u001b[39;00m\n\u001b[1;32m    158\u001b[0m \u001b[38;5;124;03m    along the other axes.\u001b[39;00m\n\u001b[0;32m   (...)\u001b[0m\n\u001b[1;32m    345\u001b[0m \u001b[38;5;124;03m    ValueError: Indexes have overlapping values: ['a']\u001b[39;00m\n\u001b[1;32m    346\u001b[0m \u001b[38;5;124;03m    \"\"\"\u001b[39;00m\n\u001b[0;32m--> 347\u001b[0m     op \u001b[38;5;241m=\u001b[39m \u001b[43m_Concatenator\u001b[49m\u001b[43m(\u001b[49m\n\u001b[1;32m    348\u001b[0m \u001b[43m        \u001b[49m\u001b[43mobjs\u001b[49m\u001b[43m,\u001b[49m\n\u001b[1;32m    349\u001b[0m \u001b[43m        \u001b[49m\u001b[43maxis\u001b[49m\u001b[38;5;241;43m=\u001b[39;49m\u001b[43maxis\u001b[49m\u001b[43m,\u001b[49m\n\u001b[1;32m    350\u001b[0m \u001b[43m        \u001b[49m\u001b[43mignore_index\u001b[49m\u001b[38;5;241;43m=\u001b[39;49m\u001b[43mignore_index\u001b[49m\u001b[43m,\u001b[49m\n\u001b[1;32m    351\u001b[0m \u001b[43m        \u001b[49m\u001b[43mjoin\u001b[49m\u001b[38;5;241;43m=\u001b[39;49m\u001b[43mjoin\u001b[49m\u001b[43m,\u001b[49m\n\u001b[1;32m    352\u001b[0m \u001b[43m        \u001b[49m\u001b[43mkeys\u001b[49m\u001b[38;5;241;43m=\u001b[39;49m\u001b[43mkeys\u001b[49m\u001b[43m,\u001b[49m\n\u001b[1;32m    353\u001b[0m \u001b[43m        \u001b[49m\u001b[43mlevels\u001b[49m\u001b[38;5;241;43m=\u001b[39;49m\u001b[43mlevels\u001b[49m\u001b[43m,\u001b[49m\n\u001b[1;32m    354\u001b[0m \u001b[43m        \u001b[49m\u001b[43mnames\u001b[49m\u001b[38;5;241;43m=\u001b[39;49m\u001b[43mnames\u001b[49m\u001b[43m,\u001b[49m\n\u001b[1;32m    355\u001b[0m \u001b[43m        \u001b[49m\u001b[43mverify_integrity\u001b[49m\u001b[38;5;241;43m=\u001b[39;49m\u001b[43mverify_integrity\u001b[49m\u001b[43m,\u001b[49m\n\u001b[1;32m    356\u001b[0m \u001b[43m        \u001b[49m\u001b[43mcopy\u001b[49m\u001b[38;5;241;43m=\u001b[39;49m\u001b[43mcopy\u001b[49m\u001b[43m,\u001b[49m\n\u001b[1;32m    357\u001b[0m \u001b[43m        \u001b[49m\u001b[43msort\u001b[49m\u001b[38;5;241;43m=\u001b[39;49m\u001b[43msort\u001b[49m\u001b[43m,\u001b[49m\n\u001b[1;32m    358\u001b[0m \u001b[43m    \u001b[49m\u001b[43m)\u001b[49m\n\u001b[1;32m    360\u001b[0m     \u001b[38;5;28;01mreturn\u001b[39;00m op\u001b[38;5;241m.\u001b[39mget_result()\n",
      "File \u001b[0;32m~/opt/anaconda3/envs/polyLab/lib/python3.9/site-packages/pandas/core/reshape/concat.py:404\u001b[0m, in \u001b[0;36m_Concatenator.__init__\u001b[0;34m(self, objs, axis, join, keys, levels, names, ignore_index, verify_integrity, copy, sort)\u001b[0m\n\u001b[1;32m    401\u001b[0m     objs \u001b[38;5;241m=\u001b[39m \u001b[38;5;28mlist\u001b[39m(objs)\n\u001b[1;32m    403\u001b[0m \u001b[38;5;28;01mif\u001b[39;00m \u001b[38;5;28mlen\u001b[39m(objs) \u001b[38;5;241m==\u001b[39m \u001b[38;5;241m0\u001b[39m:\n\u001b[0;32m--> 404\u001b[0m     \u001b[38;5;28;01mraise\u001b[39;00m \u001b[38;5;167;01mValueError\u001b[39;00m(\u001b[38;5;124m\"\u001b[39m\u001b[38;5;124mNo objects to concatenate\u001b[39m\u001b[38;5;124m\"\u001b[39m)\n\u001b[1;32m    406\u001b[0m \u001b[38;5;28;01mif\u001b[39;00m keys \u001b[38;5;129;01mis\u001b[39;00m \u001b[38;5;28;01mNone\u001b[39;00m:\n\u001b[1;32m    407\u001b[0m     objs \u001b[38;5;241m=\u001b[39m \u001b[38;5;28mlist\u001b[39m(com\u001b[38;5;241m.\u001b[39mnot_none(\u001b[38;5;241m*\u001b[39mobjs))\n",
      "\u001b[0;31mValueError\u001b[0m: No objects to concatenate"
     ]
    }
   ],
   "source": [
    "%%time\n",
    "# Wall time: 23 s for TransFoci\n",
    "# Wall time: 10 min s for SumRule\n",
    "analysis_db = '/Users/amirhsi_mini/research_data/analysis/'\n",
    "group = 'bug'\n",
    "spaces = glob(analysis_db + project_details[project]['space_pat'])\n",
    "spaces = list(set([space.split('/')[-1].split('-')[0] for space in spaces]))\n",
    "save_space = True\n",
    "equili_props_wholes = api.allInOne_equil_tseries(\n",
    "    project,\n",
    "    analysis_db,\n",
    "    group,\n",
    "    spaces,\n",
    "    project_details[project]['time_varying_props'],\n",
    "    project_details[project]['equil_measures'],\n",
    "    save_space=save_space,\n",
    "    divisor = 0.025,\n",
    "    round_to = 3,\n",
    "    save_to=analysis_db\n",
    ")\n",
    "\n",
    "ens_avg = api.allInOne_equil_tseries_ensAvg(\n",
    "    project,\n",
    "    equili_props_wholes,\n",
    "    group,\n",
    "    project_details[project]['equil_properties'],\n",
    "    project_details[project]['equil_attributes'],\n",
    "    save_to=analysis_db\n",
    ")"
   ]
  },
  {
   "cell_type": "markdown",
   "id": "74045030",
   "metadata": {
    "jp-MarkdownHeadingCollapsed": true,
    "tags": []
   },
   "source": [
    "## Distributions"
   ]
  },
  {
   "cell_type": "markdown",
   "id": "1612fd82",
   "metadata": {
    "jp-MarkdownHeadingCollapsed": true,
    "tags": []
   },
   "source": [
    "### Clusters and bonds per project\n",
    "\n",
    "- The histograms of **Clusters** and **bonds** can **not** be combined in **one** dataset.\n",
    "- Since **per project** datasets are small, we create **one** per project dataset for each property."
   ]
  },
  {
   "cell_type": "code",
   "execution_count": null,
   "id": "d7d12660",
   "metadata": {
    "tags": []
   },
   "outputs": [],
   "source": [
    "analysis_db = '/Users/amirhsi_mini/research_data/analysis/'\n",
    "group = 'bug'\n",
    "geometry = 'biaxial'\n",
    "phase = 'ensAvg'\n",
    "space_dbs = glob(analysis_db + project_details[project]['space_pat'])\n",
    "ens_avg_space_dbs = [\n",
    "    space_db + \"/\" for space_db in space_dbs if space_db.endswith(\n",
    "        group + '-' + phase\n",
    "    )\n",
    "]\n",
    "print(ens_avg_space_dbs)\n",
    "\n",
    "nmon_large = 5\n",
    "hist_t_foci_bin_centers = {\n",
    "   'bondsHistFoci': np.arange(nmon_large),\n",
    "   'clustersHistFoci': np.arange(1, nmon_large + 1)\n",
    "}\n",
    "# Separate dataset for bonds and clusters per \n",
    "for prop, bin_center in hist_t_foci_bin_centers.items():\n",
    "    ens_avgs = list()\n",
    "    for ens_avg_space_db in ens_avg_space_dbs:\n",
    "        space = ens_avg_space_db.split('/')[-2].split('-')[0]\n",
    "        ens_avg = organizer.space_hists(\n",
    "            ens_avg_space_db,\n",
    "            prop,\n",
    "            project_details[project]['parser'],\n",
    "            project_details[project]['hierarchy'],\n",
    "            project_details[project]['attributes'],\n",
    "            group,\n",
    "            geometry,\n",
    "            bin_center=bin_center,\n",
    "            normalize=True,\n",
    "            is_save = False\n",
    "        )\n",
    "        ens_avgs.append(ens_avg)\n",
    "    ens_avgs = pd.concat(ens_avgs,axis=0)\n",
    "    # drop duplicated columns:\n",
    "    ens_avgs = ens_avgs.loc[:, ~ens_avgs.columns.duplicated()]\n",
    "    ens_avgs.reset_index(inplace=True, drop=True)\n",
    "    output =  \"-\".join(['allInOne', project, group, prop + \".parquet.brotli\"])\n",
    "    output = analysis_db + output\n",
    "    ens_avgs.to_parquet(output, index=False, compression='brotli')"
   ]
  },
  {
   "cell_type": "markdown",
   "id": "8c1f988b",
   "metadata": {
    "jp-MarkdownHeadingCollapsed": true,
    "tags": []
   },
   "source": [
    "### Pair Distance Statisitcs per project\n",
    "\n",
    "- These **properties** can be **combined** in one file per project.\n",
    "- Since **per project** datasets are small, we create **one** per project dataset for **all** properties."
   ]
  },
  {
   "cell_type": "code",
   "execution_count": null,
   "id": "4d009009",
   "metadata": {},
   "outputs": [],
   "source": [
    "analysis_db = '/Users/amirhsi_mini/research_data/analysis/'\n",
    "group = 'bug'\n",
    "geometry = 'biaxial'\n",
    "phase = 'ensAvg'\n",
    "space_dbs = glob(analysis_db + project_details[project]['space_pat'])\n",
    "ens_avg_space_dbs = [\n",
    "    space_db + \"/\" for space_db in space_dbs if space_db.endswith(\n",
    "        group + '-' + phase\n",
    "    )\n",
    "]\n",
    "print(ens_avg_space_dbs)\n",
    "\n",
    "hist_foci_props = ['pairDistHistFoci', 'pairDistRdfFoci']\n",
    "# One per-project database for both rpeorty since they are samll and related \n",
    "project_ens_avgs = []\n",
    "for prop in hist_foci_props:\n",
    "    prop_ens_avgs = list()\n",
    "    for ens_avg_space_db in ens_avg_space_dbs:\n",
    "        space = ens_avg_space_db.split('/')[-2].split('-')[0]\n",
    "        ens_avg = organizer.space_hists(\n",
    "            ens_avg_space_db,\n",
    "            prop,\n",
    "            project_details[project]['parser'],\n",
    "            project_details[project]['hierarchy'],\n",
    "            project_details[project]['attributes'],\n",
    "            group,\n",
    "            geometry,\n",
    "            bin_center=None,\n",
    "            normalize=False,\n",
    "            is_save=False\n",
    "        )\n",
    "        prop_ens_avgs.append(ens_avg)\n",
    "    prop_ens_avgs = pd.concat(prop_ens_avgs,axis=0)\n",
    "    # drop duplicated columns:\n",
    "    prop_ens_avgs = prop_ens_avgs.loc[:, ~prop_ens_avgs.columns.duplicated()]\n",
    "    prop_ens_avgs.reset_index(inplace=True, drop=True)\n",
    "    project_ens_avgs.append(prop_ens_avgs)\n",
    "project_ens_avgs = pd.concat(project_ens_avgs,axis=1)\n",
    "# drop duplicated columns:\n",
    "project_ens_avgs = project_ens_avgs.loc[:, ~project_ens_avgs.columns.duplicated()]\n",
    "project_ens_avgs.reset_index(inplace=True, drop=True)\n",
    "output = '-'.join(\n",
    "    ['allInOne', project, group, 'pairDistStats.parquet.brotli']\n",
    ")\n",
    "output = analysis_db + output\n",
    "project_ens_avgs.to_parquet(output, index=False, compression='brotli')\n"
   ]
  },
  {
   "cell_type": "markdown",
   "id": "e237d3b9-7cb0-40cb-8d2f-6c86f747702c",
   "metadata": {
    "jp-MarkdownHeadingCollapsed": true,
    "tags": []
   },
   "source": [
    "### Local Spatial distributions"
   ]
  },
  {
   "cell_type": "markdown",
   "id": "49d10a90-39c3-417e-870d-1551c2d42c07",
   "metadata": {
    "tags": []
   },
   "source": [
    "#### allInOne Local Distributions: ensAvg of Hists, Rhos, Phis with var and sem per project: Do not need to run this as the information already exist in the \"allIneOne Sum-Rule\" section"
   ]
  },
  {
   "cell_type": "code",
   "execution_count": null,
   "id": "9a04ab64-afa1-45c2-8d2c-d0ab198a4c11",
   "metadata": {},
   "outputs": [],
   "source": [
    "analysis_db = '/Users/amirhsi_mini/research_data/analysis/'\n",
    "group = 'all'\n",
    "geometry = 'biaxial'\n",
    "phase = 'ensAvg'\n",
    "space_dbs = glob(analysis_db + project_details[project]['space_pat'])\n",
    "ens_avg_space_dbs = [\n",
    "    space_db + \"/\" for space_db in space_dbs if space_db.endswith(\n",
    "        group + '-' + phase\n",
    "    )\n",
    "]\n",
    "print(ens_avg_space_dbs)\n",
    "# list of unique properties and property_measures:\n",
    "# Local distributions do not have any property_measures:\n",
    "uniq_props, _ = organizer.unique_property(\n",
    "    ens_avg_space_dbs[0] + '*' + \\\n",
    "        project_details[project]['hierarchy'] + '.csv',\n",
    "    2,\n",
    "    [\"-\" + phase],\n",
    "    drop_properties=[\"stamps\"])\n",
    "print(uniq_props)"
   ]
  },
  {
   "cell_type": "code",
   "execution_count": null,
   "id": "9353b297-223a-4715-bb48-828ae76bf3b4",
   "metadata": {},
   "outputs": [],
   "source": [
    "directions = ['theta', 'z', 'r']\n",
    "for direction in directions:\n",
    "    props_by_dir = [prop for prop in uniq_props if prop.startswith(direction)]\n",
    "    dir_ens_avgs = list()\n",
    "    for prop in props_by_dir:\n",
    "        prop_ens_avgs = list()\n",
    "        for ens_avg_space_db in ens_avg_space_dbs:\n",
    "            space = ens_avg_space_db.split('/')[-2].split('-')[0]\n",
    "            ens_avg = organizer.space_hists(\n",
    "                ens_avg_space_db,\n",
    "                prop,\n",
    "                project_details[project]['parser'],\n",
    "                project_details[project]['hierarchy'],\n",
    "                project_details[project]['attributes'],\n",
    "                group,\n",
    "                geometry,\n",
    "                normalize=True,\n",
    "                is_save=False\n",
    "            )\n",
    "            prop_ens_avgs.append(ens_avg)\n",
    "        prop_ens_avgs = pd.concat(prop_ens_avgs,axis=0)\n",
    "        # drop duplicated columns:\n",
    "        prop_ens_avgs = \\\n",
    "            prop_ens_avgs.loc[:, ~prop_ens_avgs.columns.duplicated()]\n",
    "        prop_ens_avgs.reset_index(inplace=True, drop=True)\n",
    "        dir_ens_avgs.append(prop_ens_avgs)\n",
    "    dir_ens_avgs = pd.concat(dir_ens_avgs,axis=1)\n",
    "        # drop duplicated columns:\n",
    "    dir_ens_avgs = dir_ens_avgs.loc[:, ~dir_ens_avgs.columns.duplicated()]\n",
    "    dir_ens_avgs.reset_index(inplace=True, drop=True)\n",
    "    output = analysis_db +  \"-\".join([\n",
    "        'allInOne', project,  group,  direction + \"LocalDist.parquet.brotli\"\n",
    "    ])\n",
    "    dir_ens_avgs.to_parquet(output, index=False, compression='brotli')"
   ]
  },
  {
   "cell_type": "markdown",
   "id": "eb3b4672-ba7b-4453-9f4f-6827487cbd74",
   "metadata": {
    "tags": []
   },
   "source": [
    "#### allInONe Sum-Rule: "
   ]
  },
  {
   "cell_type": "code",
   "execution_count": null,
   "id": "6d2b767a-56de-45d0-8d66-be721b684c32",
   "metadata": {},
   "outputs": [],
   "source": [
    "analysis_db = '/Users/amirhsi_mini/research_data/analysis/'\n",
    "group = 'all'\n",
    "geometry = 'biaxial'\n",
    "phase = 'ensAvg'\n",
    "space_dbs = glob(analysis_db + project_details[project]['space_pat'])\n",
    "ens_avg_space_dbs = [\n",
    "    space_db + \"/\" for space_db in space_dbs if space_db.endswith(\n",
    "        group + '-' + phase\n",
    "    )\n",
    "]\n",
    "print(ens_avg_space_dbs)\n",
    "species_dict = project_details[project]['rhosPhisNormalizedScaled']\n",
    "print('species_dict: ', species_dict)\n",
    "directions = ['r', 'z']\n",
    "props= ['Rho', 'Phi']\n",
    "dir_prop_pairs = list(product(props, directions))\n",
    "print('dir_prop_pairs: ', dir_prop_pairs)"
   ]
  },
  {
   "cell_type": "code",
   "execution_count": null,
   "id": "d160344e-b65b-4962-91e4-23334c3f22db",
   "metadata": {
    "tags": []
   },
   "outputs": [],
   "source": [
    "for (prop, direction) in dir_prop_pairs:\n",
    "    all_in_one = list()\n",
    "    for (species, size_attr) in species_dict:\n",
    "        per_species = list()\n",
    "        for ens_avg_space_db in ens_avg_space_dbs:\n",
    "            space = ens_avg_space_db.split('/')[-2].split('-')[0]\n",
    "            per_space = organizer.space_sum_rule(\n",
    "                ens_avg_space_db,\n",
    "                prop,\n",
    "                project_details[project]['parser'],\n",
    "                project_details[project]['hierarchy'],\n",
    "                project_details[project]['attributes'],\n",
    "                species,\n",
    "                size_attr,\n",
    "                group,\n",
    "                geometry,\n",
    "                direction,\n",
    "                is_save=False\n",
    "            )\n",
    "            per_species.append(per_space)\n",
    "        per_species = pd.concat(per_species,axis=0)\n",
    "        per_species = per_species.loc[:, ~per_species.columns.duplicated()]\n",
    "        per_species.reset_index(inplace=True, drop=True)\n",
    "        all_in_one.append(per_species)\n",
    "    all_in_one = pd.concat(all_in_one,axis=1)\n",
    "    all_in_one = all_in_one.loc[:, ~all_in_one.columns.duplicated()]\n",
    "    all_in_one.reset_index(inplace=True, drop=True)\n",
    "    output = '-'.join(['allInOne', project, group, direction + prop])\n",
    "    output += '-NormalizedScaled.parquet.brotli'\n",
    "    output = analysis_db + output\n",
    "    all_in_one.to_parquet(output, index=False, compression='brotli')"
   ]
  },
  {
   "cell_type": "code",
   "execution_count": null,
   "id": "b00198c6-00c6-49e9-ab93-b25fa89a7194",
   "metadata": {},
   "outputs": [],
   "source": []
  }
 ],
 "metadata": {
  "kernelspec": {
   "display_name": "Python 3 (ipykernel)",
   "language": "python",
   "name": "python3"
  },
  "language_info": {
   "codemirror_mode": {
    "name": "ipython",
    "version": 3
   },
   "file_extension": ".py",
   "mimetype": "text/x-python",
   "name": "python",
   "nbconvert_exporter": "python",
   "pygments_lexer": "ipython3",
   "version": "3.9.13"
  },
  "vscode": {
   "interpreter": {
    "hash": "6cf582efbfbdef60505769a313a3ca49eebfd77179e86f4387bd11d254c0a990"
   }
  }
 },
 "nbformat": 4,
 "nbformat_minor": 5
}
