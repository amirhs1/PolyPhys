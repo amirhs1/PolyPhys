{
 "cells": [
  {
   "cell_type": "code",
   "execution_count": 1,
   "metadata": {},
   "outputs": [],
   "source": [
    "from glob import glob\n",
    "import numpy as np\n",
    "from polyphys.manage import organizer\n",
    "from polyphys.manage import utilizer \n",
    "from polyphys.manage.parser import HnsCyl, HnsCub\n",
    "from polyphys.analyze import clusters\n",
    "from polyphys.analyze import measurer\n"
   ]
  },
  {
   "cell_type": "code",
   "execution_count": 15,
   "metadata": {},
   "outputs": [
    {
     "data": {
      "text/plain": [
       "[('/Users/amirhsi_mini/research_data/N200kbmm2nh12ac2l25epshc1nc0ens1.ring-nucleoid-distMatTMonHnsPatch.npy',),\n",
       " ('/Users/amirhsi_mini/research_data/N200kbmm2nh12ac2l25epshc1nc2387ens1.ring-nucleoid-distMatTMonHnsPatch.npy',),\n",
       " ('/Users/amirhsi_mini/research_data/N200kbmm2nh12ac2l25epshc1nc3581ens1.ring-nucleoid-distMatTMonHnsPatch.npy',),\n",
       " ('/Users/amirhsi_mini/research_data/N200kbmm2nh12ac2l25epshc1nc4775ens1.ring-nucleoid-distMatTMonHnsPatch.npy',),\n",
       " ('/Users/amirhsi_mini/research_data/N200kbmm2nh12ac2l25epshc1nc5968ens1.ring-nucleoid-distMatTMonHnsPatch.npy',),\n",
       " ('/Users/amirhsi_mini/research_data/N200kbmm2nh12ac2l25epshc1nc7162ens1.ring-nucleoid-distMatTMonHnsPatch.npy',),\n",
       " ('/Users/amirhsi_mini/research_data/N200kbmm2nh12ac2l25epshc1nc8356ens1.ring-nucleoid-distMatTMonHnsPatch.npy',),\n",
       " ('/Users/amirhsi_mini/research_data/N200kbmm2nh12ac2l25epshc1nc9549ens1.ring-nucleoid-distMatTMonHnsPatch.npy',),\n",
       " ('/Users/amirhsi_mini/research_data/N200kbmm2nh12ac2l25epshc1nc10743ens1.ring-nucleoid-distMatTMonHnsPatch.npy',),\n",
       " ('/Users/amirhsi_mini/research_data/N200kbmm2nh12ac2l25epshc1nc11937ens1.ring-nucleoid-distMatTMonHnsPatch.npy',)]"
      ]
     },
     "execution_count": 15,
     "metadata": {},
     "output_type": "execute_result"
    }
   ],
   "source": [
    "database = '/Users/amirhsi_mini/research_data/'\n",
    "wholes = organizer.sort_filenames(glob(database+\"N*ens1*.npy\"),fmts=['npy'])\n",
    "wholes"
   ]
  },
  {
   "cell_type": "code",
   "execution_count": 18,
   "metadata": {},
   "outputs": [
    {
     "data": {
      "text/plain": [
       "(20001, 200, 24)"
      ]
     },
     "execution_count": 18,
     "metadata": {},
     "output_type": "execute_result"
    }
   ],
   "source": [
    "whole = wholes[7][0]\n",
    "a = np.load(whole)\n",
    "\n",
    "a.shape"
   ]
  },
  {
   "cell_type": "code",
   "execution_count": 29,
   "metadata": {},
   "outputs": [
    {
     "name": "stderr",
     "output_type": "stream",
     "text": [
      "/Users/amirhsi_mini/OneDrive - University of Waterloo/PhD Research/Jupyter/PolyPhys/polyphys/manage/parser.py:1974: UserWarning: It is assumed that 'nc' is the last attribute short-key in a lineage_name of types: 'ensemble', 'ensemble_long', 'whole', 'segment'.\n",
      "  warnings.warn(convention_warning, UserWarning)\n"
     ]
    }
   ],
   "source": [
    "# Pre-allocate some space\n",
    "sim_info = HnsCub(\n",
    "        whole,\n",
    "        'whole',\n",
    "        'cubic',\n",
    "        'nucleoid',\n",
    "        'ring'\n",
    "    )\n",
    "lj_cut = 2**(1/6)\n",
    "r_cutoff = np.round(\n",
    "    0.5 * lj_cut * (sim_info.dmon + sim_info.dhns_patch), 3\n",
    "    ) \n",
    "n_frame , n_mon, n_hpatch = a.shape\n",
    "n_hcore = n_hpatch // 2\n",
    "cont_hcore_hcore_t = np.zeros((n_frame, n_hcore, n_hcore))\n",
    "clusters_t = np.zeros((n_frame, n_hcore, n_hcore))\n",
    "# Process each time step\n",
    "for idx in range(n_frame):\n",
    "    d_contact_m_hpatch = clusters.find_direct_contacts(\n",
    "            a[idx], r_cutoff, inclusive=False\n",
    "            )\n",
    "    single_patch_dir_contact =clusters.enforce_single_patch_dir_contact(d_contact_m_hpatch)\n",
    "    cont_m_hpatch = clusters.generate_contact_matrix(single_patch_dir_contact)\n",
    "    # Asymmetric unsquared monomer-H-NS-core matrix:\n",
    "    cont_m_hcore = np.logical_or(cont_m_hpatch[:, ::2], cont_m_hpatch[:, 1::2]).astype(int)\n",
    "    # Symmetric squared H-NS-core-H-NS-core matrix:\n",
    "    cont_hcore_hcore = np.matmul(cont_m_hcore.T, cont_m_hcore)\n",
    "    # Store results\n",
    "    cont_hcore_hcore_t[idx] = cont_hcore_hcore\n",
    "    #clusters_stat = clusters.count_foci_clusters(cont_hcore_hcore)\n",
    "    #clusters_t[idx] = clusters_stat\n"
   ]
  },
  {
   "cell_type": "code",
   "execution_count": 49,
   "metadata": {},
   "outputs": [
    {
     "name": "stdout",
     "output_type": "stream",
     "text": [
      "[(3, 22), (7, 7), (11, 16), (18, 6), (18, 23), (50, 3), (53, 21), (60, 14), (77, 19), (78, 15), (80, 2), (87, 18), (101, 12), (104, 13), (131, 9), (140, 4), (152, 11), (155, 5), (167, 10), (188, 8), (194, 20)]\n"
     ]
    }
   ],
   "source": [
    "rows, cols = np.nonzero(cont_m_hpatch)\n",
    "indices_tuples = [(row, col) for row, col in zip(rows, cols)]\n",
    "print(indices_tuples)"
   ]
  },
  {
   "cell_type": "code",
   "execution_count": 50,
   "metadata": {},
   "outputs": [
    {
     "name": "stdout",
     "output_type": "stream",
     "text": [
      "[(3, 11), (7, 3), (11, 8), (18, 3), (18, 11), (50, 1), (53, 10), (60, 7), (77, 9), (78, 7), (80, 1), (87, 9), (101, 6), (104, 6), (131, 4), (140, 2), (152, 5), (155, 2), (167, 5), (188, 4), (194, 10)]\n"
     ]
    }
   ],
   "source": [
    "cont_m_hpatch\n",
    "rows, cols = np.nonzero(cont_m_hcore)\n",
    "indices_tuples = [(row, col) for row, col in zip(rows, cols)]\n",
    "print(indices_tuples)"
   ]
  },
  {
   "cell_type": "code",
   "execution_count": 41,
   "metadata": {},
   "outputs": [
    {
     "data": {
      "text/plain": [
       "21"
      ]
     },
     "execution_count": 41,
     "metadata": {},
     "output_type": "execute_result"
    }
   ],
   "source": [
    "cont_m_hcore.sum()"
   ]
  },
  {
   "cell_type": "code",
   "execution_count": null,
   "metadata": {},
   "outputs": [],
   "source": []
  }
 ],
 "metadata": {
  "kernelspec": {
   "display_name": "polylab",
   "language": "python",
   "name": "python3"
  },
  "language_info": {
   "codemirror_mode": {
    "name": "ipython",
    "version": 3
   },
   "file_extension": ".py",
   "mimetype": "text/x-python",
   "name": "python",
   "nbconvert_exporter": "python",
   "pygments_lexer": "ipython3",
   "version": "3.11.3"
  },
  "orig_nbformat": 4
 },
 "nbformat": 4,
 "nbformat_minor": 2
}
