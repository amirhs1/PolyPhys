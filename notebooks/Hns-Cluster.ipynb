{
 "cells": [
  {
   "cell_type": "code",
   "execution_count": 2,
   "metadata": {},
   "outputs": [],
   "source": [
    "from glob import glob\n",
    "import numpy as np\n",
    "from itertools import combinations\n",
    "from polyphys.manage import organizer\n",
    "from polyphys.manage import utilizer \n",
    "from polyphys.manage.parser import HnsCyl, HnsCub\n",
    "from polyphys.analyze import clusters\n",
    "from polyphys.analyze import measurer\n",
    "import matplotlib.pyplot as plt\n",
    "import seaborn as sns\n",
    "import pandas as pd\n",
    "from collections import defaultdict\n"
   ]
  },
  {
   "cell_type": "markdown",
   "metadata": {},
   "source": [
    "# Test"
   ]
  },
  {
   "cell_type": "code",
   "execution_count": null,
   "metadata": {},
   "outputs": [],
   "source": [
    "D=np.array([[\n",
    "0 , 0 , 1 , 0 , 0 , 0 , 0 , 0 , 0 , 0 , 0 , 0 , 0 , 0 , 0 , 0 , 0 , 0 , 0 , 0 , 0 , 0 , 0 , 0 , 0 , 0 , 0 , 0 ],[\n",
    "0 , 0 , 0 , 0 , 0 , 0 , 0 , 0 , 1 , 0 , 0 , 0 , 0 , 0 , 0 , 0 , 0 , 0 , 0 , 0 , 0 , 0 , 0 , 0 , 0 , 0 , 0 , 0 ],[\n",
    "0 , 0 , 0 , 0 , 0 , 0 , 0 , 0 , 0 , 0 , 0 , 0 , 0 , 0 , 0 , 0 , 0 , 0 , 0 , 0 , 1 , 0 , 0 , 0 , 0 , 0 , 0 , 0 ],[\n",
    "0 , 0 , 0 , 0 , 0 , 0 , 0 , 0 , 0 , 0 , 0 , 0 , 0 , 0 , 0 , 0 , 0 , 0 , 0 , 0 , 0 , 0 , 0 , 0 , 0 , 0 , 0 , 0 ],[\n",
    "1 , 0 , 0 , 0 , 0 , 0 , 0 , 0 , 0 , 0 , 0 , 0 , 0 , 0 , 0 , 0 , 0 , 0 , 0 , 0 , 0 , 0 , 0 , 0 , 0 , 0 , 0 , 0 ],[\n",
    "0 , 0 , 0 , 0 , 0 , 0 , 0 , 0 , 0 , 0 , 0 , 0 , 0 , 0 , 0 , 0 , 0 , 0 , 0 , 0 , 0 , 0 , 0 , 0 , 0 , 0 , 1 , 0 ],[\n",
    "0 , 0 , 0 , 0 , 0 , 0 , 0 , 0 , 0 , 0 , 0 , 0 , 0 , 0 , 0 , 0 , 0 , 0 , 0 , 0 , 0 , 0 , 0 , 0 , 0 , 0 , 0 , 0 ],[\n",
    "0 , 0 , 0 , 0 , 0 , 0 , 0 , 0 , 0 , 0 , 0 , 0 , 0 , 0 , 0 , 0 , 0 , 0 , 0 , 0 , 0 , 0 , 0 , 0 , 0 , 0 , 0 , 0 ],[\n",
    "0 , 0 , 0 , 0 , 0 , 0 , 0 , 0 , 0 , 0 , 0 , 0 , 0 , 0 , 0 , 0 , 0 , 0 , 0 , 0 , 0 , 0 , 0 , 0 , 0 , 0 , 0 , 1 ],[\n",
    "0 , 1 , 0 , 0 , 0 , 0 , 0 , 0 , 0 , 0 , 0 , 0 , 0 , 0 , 0 , 0 , 0 , 0 , 0 , 0 , 0 , 0 , 0 , 0 , 0 , 0 , 0 , 0 ],[\n",
    "0 , 0 , 0 , 0 , 0 , 0 , 0 , 0 , 0 , 0 , 0 , 0 , 0 , 0 , 0 , 0 , 0 , 0 , 0 , 0 , 0 , 0 , 0 , 0 , 0 , 0 , 0 , 0 ],[\n",
    "0 , 0 , 0 , 0 , 0 , 0 , 0 , 0 , 0 , 0 , 0 , 0 , 0 , 0 , 0 , 0 , 0 , 0 , 0 , 0 , 0 , 1 , 0 , 0 , 0 , 0 , 0 , 0 ],[\n",
    "0 , 0 , 0 , 0 , 0 , 0 , 0 , 0 , 0 , 1 , 0 , 0 , 0 , 0 , 0 , 0 , 0 , 0 , 0 , 0 , 0 , 0 , 0 , 0 , 0 , 0 , 0 , 0 ],[\n",
    "0 , 0 , 0 , 1 , 0 , 0 , 0 , 0 , 0 , 0 , 0 , 0 , 0 , 0 , 0 , 0 , 0 , 0 , 0 , 0 , 0 , 0 , 0 , 0 , 0 , 0 , 0 , 0 ],[\n",
    "0 , 0 , 0 , 0 , 0 , 0 , 0 , 0 , 0 , 0 , 0 , 0 , 0 , 0 , 0 , 0 , 0 , 0 , 0 , 0 , 0 , 0 , 0 , 0 , 0 , 0 , 0 , 0 ],[\n",
    "0 , 0 , 0 , 0 , 1 , 0 , 0 , 0 , 0 , 0 , 0 , 0 , 0 , 0 , 0 , 0 , 0 , 0 , 0 , 0 , 0 , 0 , 0 , 0 , 0 , 0 , 0 , 0 ],[\n",
    "0 , 0 , 0 , 0 , 0 , 0 , 0 , 0 , 0 , 0 , 0 , 0 , 0 , 0 , 0 , 0 , 0 , 0 , 0 , 0 , 0 , 0 , 0 , 1 , 0 , 0 , 0 , 0 ],[\n",
    "0 , 0 , 0 , 0 , 0 , 0 , 0 , 0 , 0 , 0 , 0 , 0 , 0 , 0 , 0 , 0 , 0 , 0 , 0 , 0 , 0 , 0 , 0 , 0 , 0 , 0 , 0 , 0 ],[\n",
    "0 , 0 , 0 , 0 , 0 , 0 , 1 , 0 , 0 , 0 , 0 , 0 , 0 , 0 , 0 , 0 , 0 , 0 , 0 , 0 , 0 , 0 , 0 , 0 , 0 , 0 , 0 , 0 ],[\n",
    "0 , 0 , 0 , 0 , 0 , 0 , 0 , 0 , 0 , 0 , 0 , 0 , 0 , 0 , 0 , 0 , 0 , 0 , 0 , 0 , 0 , 0 , 0 , 0 , 0 , 0 , 0 , 0 ],[\n",
    "0 , 0 , 0 , 0 , 0 , 0 , 0 , 0 , 0 , 0 , 0 , 0 , 0 , 0 , 0 , 0 , 0 , 0 , 0 , 0 , 0 , 0 , 0 , 0 , 0 , 0 , 0 , 0 ],[\n",
    "0 , 0 , 0 , 0 , 0 , 0 , 0 , 1 , 0 , 0 , 0 , 0 , 0 , 0 , 0 , 0 , 0 , 0 , 0 , 0 , 0 , 0 , 0 , 0 , 0 , 0 , 0 , 0 ],[\n",
    "0 , 0 , 0 , 0 , 0 , 0 , 0 , 0 , 0 , 0 , 0 , 0 , 0 , 0 , 0 , 0 , 0 , 1 , 0 , 0 , 0 , 0 , 0 , 0 , 0 , 0 , 0 , 0 ],[\n",
    "0 , 0 , 0 , 0 , 0 , 0 , 0 , 0 , 0 , 0 , 1 , 0 , 0 , 0 , 0 , 0 , 0 , 0 , 0 , 0 , 0 , 0 , 0 , 0 , 0 , 0 , 0 , 0 ],[\n",
    "0 , 0 , 0 , 0 , 0 , 0 , 0 , 0 , 0 , 0 , 0 , 0 , 0 , 0 , 0 , 0 , 0 , 0 , 0 , 1 , 0 , 0 , 0 , 0 , 0 , 0 , 0 , 0\n",
    "]], dtype=np.int_)\n",
    "M=np.array([[\n",
    "0 , 1 , 0 , 0 , 0 , 0 , 0 , 0 , 0 , 0 , 0 , 0 , 0 , 0 ],[\n",
    "0 , 0 , 0 , 0 , 1 , 0 , 0 , 0 , 0 , 0 , 0 , 0 , 0 , 0 ],[\n",
    "0 , 0 , 0 , 0 , 0 , 0 , 0 , 0 , 0 , 0 , 1 , 0 , 0 , 0 ],[\n",
    "0 , 0 , 0 , 0 , 0 , 0 , 0 , 0 , 0 , 0 , 0 , 0 , 0 , 0 ],[\n",
    "1 , 0 , 0 , 0 , 0 , 0 , 0 , 0 , 0 , 0 , 0 , 0 , 0 , 0 ],[\n",
    "0 , 0 , 0 , 0 , 0 , 0 , 0 , 0 , 0 , 0 , 0 , 0 , 0 , 1 ],[\n",
    "0 , 0 , 0 , 0 , 0 , 0 , 0 , 0 , 0 , 0 , 0 , 0 , 0 , 0 ],[\n",
    "0 , 0 , 0 , 0 , 0 , 0 , 0 , 0 , 0 , 0 , 0 , 0 , 0 , 0 ],[\n",
    "0 , 0 , 0 , 0 , 0 , 0 , 0 , 0 , 0 , 0 , 0 , 0 , 0 , 1 ],[\n",
    "1 , 0 , 0 , 0 , 0 , 0 , 0 , 0 , 0 , 0 , 0 , 0 , 0 , 0 ],[\n",
    "0 , 0 , 0 , 0 , 0 , 0 , 0 , 0 , 0 , 0 , 0 , 0 , 0 , 0 ],[\n",
    "0 , 0 , 0 , 0 , 0 , 0 , 0 , 0 , 0 , 0 , 1 , 0 , 0 , 0 ],[\n",
    "0 , 0 , 0 , 0 , 1 , 0 , 0 , 0 , 0 , 0 , 0 , 0 , 0 , 0 ],[\n",
    "0 , 1 , 0 , 0 , 0 , 0 , 0 , 0 , 0 , 0 , 0 , 0 , 0 , 0 ],[\n",
    "0 , 0 , 0 , 0 , 0 , 0 , 0 , 0 , 0 , 0 , 0 , 0 , 0 , 0 ],[\n",
    "0 , 0 , 1 , 0 , 0 , 0 , 0 , 0 , 0 , 0 , 0 , 0 , 0 , 0 ],[\n",
    "0 , 0 , 0 , 0 , 0 , 0 , 0 , 0 , 0 , 0 , 0 , 1 , 0 , 0 ],[\n",
    "0 , 0 , 0 , 0 , 0 , 0 , 0 , 0 , 0 , 0 , 0 , 0 , 0 , 0 ],[\n",
    "0 , 0 , 0 , 1 , 0 , 0 , 0 , 0 , 0 , 0 , 0 , 0 , 0 , 0 ],[\n",
    "0 , 0 , 0 , 0 , 0 , 0 , 0 , 0 , 0 , 0 , 0 , 0 , 0 , 0 ],[\n",
    "0 , 0 , 0 , 0 , 0 , 0 , 0 , 0 , 0 , 0 , 0 , 0 , 0 , 0 ],[\n",
    "0 , 0 , 0 , 1 , 0 , 0 , 0 , 0 , 0 , 0 , 0 , 0 , 0 , 0 ],[\n",
    "0 , 0 , 0 , 0 , 0 , 0 , 0 , 0 , 1 , 0 , 0 , 0 , 0 , 0 ],[\n",
    "0 , 0 , 0 , 0 , 0 , 1 , 0 , 0 , 0 , 0 , 0 , 0 , 0 , 0 ],[\n",
    "0 , 0 , 0 , 0 , 0 , 0 , 0 , 0 , 0 , 1 , 0 , 0 , 0 , 0 ]],dtype=np.int_)\n",
    "print(M)"
   ]
  },
  {
   "cell_type": "code",
   "execution_count": null,
   "metadata": {},
   "outputs": [],
   "source": [
    "M_created = clusters.generate_mon_bind_direct(D,2)\n",
    "print(M_created)\n",
    "print(M_created.shape)\n",
    "print(np.sum(M_created==M))"
   ]
  },
  {
   "cell_type": "code",
   "execution_count": null,
   "metadata": {},
   "outputs": [],
   "source": [
    "M_created_dangler, M_created_bridger = clusters.split_binder_matrix(M_created)"
   ]
  },
  {
   "cell_type": "code",
   "execution_count": null,
   "metadata": {},
   "outputs": [],
   "source": [
    "M_created.shape"
   ]
  },
  {
   "cell_type": "code",
   "execution_count": null,
   "metadata": {},
   "outputs": [],
   "source": [
    "M_created_bridger.shape"
   ]
  },
  {
   "cell_type": "code",
   "execution_count": null,
   "metadata": {},
   "outputs": [],
   "source": [
    "M_created_dangler.shape"
   ]
  },
  {
   "cell_type": "code",
   "execution_count": null,
   "metadata": {},
   "outputs": [],
   "source": [
    "bind_bind_dir_mat = clusters.find_binder_clusters(M_created)\n",
    "print(bind_bind_dir_mat)\n",
    "print()\n",
    "bind_bind_full_mat = \\\n",
    "    clusters.generate_contact_matrix(bind_bind_dir_mat)\n",
    "print(bind_bind_full_mat)\n",
    "bind_clusters = clusters.count_foci_clusters(bind_bind_full_mat)\n",
    "print(bind_clusters)\n",
    "bind_contacts = clusters.count_foci_bonds(bind_bind_dir_mat)\n",
    "print(bind_contacts)"
   ]
  },
  {
   "cell_type": "markdown",
   "metadata": {},
   "source": [
    "### Workding with real files"
   ]
  },
  {
   "cell_type": "code",
   "execution_count": 3,
   "metadata": {},
   "outputs": [
    {
     "name": "stdout",
     "output_type": "stream",
     "text": [
      "/Users/amirhsi_mini/research_data/hns_cluster/N200kbmm2nh12ac2l25epshc1nc10743ens1.ring-nucleoid-distMatTMonHnsPatch.npy\n"
     ]
    },
    {
     "name": "stderr",
     "output_type": "stream",
     "text": [
      "/Users/amirhsi_mini/OneDrive - University of Waterloo/PhD Research/Jupyter/PolyPhys/polyphys/manage/parser.py:1974: UserWarning: It is assumed that 'nc' is the last attribute short-key in a lineage_name of types: 'ensemble', 'ensemble_long', 'whole', 'segment'.\n",
      "  warnings.warn(convention_warning, UserWarning)\n",
      "/Users/amirhsi_mini/OneDrive - University of Waterloo/PhD Research/Jupyter/PolyPhys/polyphys/analyze/clusters.py:399: ComplexWarning: Casting complex values to real discards the imaginary part\n",
      "  clusters = np.asarray(np.round(clusters), dtype=int)\n"
     ]
    },
    {
     "name": "stdout",
     "output_type": "stream",
     "text": [
      "/Users/amirhsi_mini/research_data/hns_cluster/N200kbmm2nh12ac2l25epshc1nc11937ens1.ring-nucleoid-distMatTMonHnsPatch.npy\n"
     ]
    }
   ],
   "source": [
    "# Pre-allocate some space\n",
    "database = '/Users/amirhsi_mini/research_data/hns_cluster/'\n",
    "wholes = organizer.sort_filenames(glob(database+\"N*ens1*.npy\"),fmts=['npy'])\n",
    "for idx in range(len(wholes)-2, len(wholes)):\n",
    "    whole = wholes[idx][0]\n",
    "    print(whole)\n",
    "    dist_m_hp = np.load(whole)\n",
    "    sim_info = HnsCub(\n",
    "            whole,\n",
    "            'whole',\n",
    "            'cubic',\n",
    "            'nucleoid',\n",
    "            'ring'\n",
    "        )\n",
    "    sim_name = sim_info.lineage_name + \"-\" + sim_info.group\n",
    "    lj_cut = 2**(1/6)\n",
    "    r_cutoff = np.round(\n",
    "        0.5 * lj_cut * (sim_info.dmon + sim_info.dhns_patch), 3\n",
    "        )\n",
    "    n_frames , n_mon, n_hpatch = dist_m_hp.shape\n",
    "    n_hcore = n_hpatch // 2\n",
    "    # Process each time step\n",
    "    foci_t = np.zeros((n_frames, n_hcore, n_hcore))\n",
    "    dir_contacts_t = np.zeros(\n",
    "        (n_frames, n_hcore, n_hcore), dtype=int\n",
    "    )\n",
    "    bonds_t = np.zeros((n_frames, n_hcore), dtype=int)\n",
    "    clusters_t = np.zeros((n_frames, n_hcore+1), dtype=int)\n",
    "\n",
    "    bonds_dangler_t = np.zeros((n_frames, n_hcore), dtype=int)\n",
    "    clusters_dangler_t = np.zeros((n_frames, n_hcore+1), dtype=int)\n",
    "\n",
    "    bonds_bridger_t = np.zeros((n_frames, n_hcore), dtype=int)\n",
    "    clusters_bridger_t = np.zeros((n_frames, n_hcore+1), dtype=int)\n",
    "    save_to = \"/Users/amirhsi_mini/research_data/\"\n",
    "    for idx in range(n_frames):\n",
    "        dir_m_hp_dirty = clusters.find_direct_contacts(\n",
    "            dist_m_hp[idx], r_cutoff, inclusive=False\n",
    "            )\n",
    "        dir_m_hp = clusters.enforce_single_patch_dir_contact(dir_m_hp_dirty)\n",
    "        dir_m_hc = clusters.generate_mon_bind_direct(dir_m_hp,2)\n",
    "        dir_m_hc_dangler, dir_m_hc_bridger = clusters.split_binder_matrix(dir_m_hc)\n",
    "        \n",
    "        # bound binder direct contact matirx\n",
    "        dir_hc_hc = clusters.find_binder_clusters(dir_m_hc)\n",
    "        bonds_stat = clusters.count_foci_bonds(dir_hc_hc)\n",
    "        bonds_t[idx] = bonds_stat \n",
    "        full_hc_hc = clusters.generate_contact_matrix(dir_hc_hc)\n",
    "        clusters_stat = clusters.count_foci_clusters(full_hc_hc)\n",
    "        clusters_t[idx] = clusters_stat\n",
    "        # dangling binder direct contact matirx\n",
    "        dir_hc_hc = clusters.find_binder_clusters(dir_m_hc_dangler)\n",
    "        bonds_stat = clusters.count_foci_bonds(dir_hc_hc)\n",
    "        bonds_dangler_t[idx] = bonds_stat\n",
    "        full_hc_hc = clusters.generate_contact_matrix(dir_hc_hc)\n",
    "        clusters_stat = clusters.count_foci_clusters(full_hc_hc)\n",
    "        clusters_dangler_t[idx] = clusters_stat\n",
    "        # bridging binder direct contact matirx\n",
    "        dir_hc_hc = clusters.find_binder_clusters(dir_m_hc_bridger) \n",
    "        bonds_stat = clusters.count_foci_bonds(dir_hc_hc)\n",
    "        bonds_bridger_t[idx] = bonds_stat\n",
    "        full_hc_hc = clusters.generate_contact_matrix(dir_hc_hc)\n",
    "        clusters_stat = clusters.count_foci_clusters(full_hc_hc)\n",
    "        clusters_bridger_t[idx] = clusters_stat\n",
    "    \n",
    "    np.save(save_to + sim_name + '-bondsHistTHnsCore.npy', bonds_t)\n",
    "    np.save(save_to + sim_name + '-clustersHistTHnsCore.npy', clusters_t)\n",
    "    np.save(save_to + sim_name + '-bondsHistDangleTHnsCore.npy', bonds_dangler_t)\n",
    "    np.save(save_to + sim_name + '-clustersHistDangleTHnsCore.npy', clusters_dangler_t)\n",
    "    np.save(save_to + sim_name + '-bondsHistBridgeTHnsCore.npy', bonds_bridger_t)\n",
    "    np.save(save_to + sim_name + '-clustersHistBridgeTHnsCore.npy', clusters_bridger_t)\n"
   ]
  },
  {
   "cell_type": "markdown",
   "metadata": {},
   "source": [
    "### Plotting"
   ]
  },
  {
   "cell_type": "code",
   "execution_count": null,
   "metadata": {},
   "outputs": [],
   "source": [
    "database = '/Users/amirhsi_mini/research_data/'\n",
    "suffices = [\"bondsHistBridgeTHnsCore\", \"bondsHistDangleTHnsCore\", \n",
    "            \"bondsHistTHnsCore\", \"clustersHistBridgeTHnsCore\",\"clustersHistDangleTHnsCore\",\"clustersHistTHnsCore\"]\n",
    "#suffices = [\"bondsHistTHnsCore\", \"clustersHistTHnsCore\"]\n",
    "df = defaultdict(list)\n",
    "for suffix in suffices:\n",
    "    wholes = organizer.sort_filenames(glob(database+\"N*ens1*.npy\"),fmts=[suffices[-1]+'.npy']) \n",
    "    for whole in wholes:\n",
    "        sim_info = HnsCub(\n",
    "                whole[0],\n",
    "                'whole',\n",
    "                'cubic',\n",
    "                'nucleoid',\n",
    "                'ring'\n",
    "            )\n",
    "        whole_array = np.load(whole[0])\n",
    "        whole_mean = np.mean(whole_array,axis=0)\n",
    "        for idx in range(len(whole_mean)):\n",
    "            df[\"bin_center\"].append(idx)\n",
    "            df[\"value\"].append(whole_mean[idx])\n",
    "            df[\"property\"].append(suffix)\n",
    "            df[\"whole\"].append(sim_info.whole)\n",
    "            df[\"nhns\"].append(sim_info.nhns)\n",
    "            df[\"phi_c_bulk_round\"].append(round(sim_info.phi_c_bulk,3))\n",
    "            df[\"eps_hc\"].append(sim_info.eps_hc)\n",
    "        \n",
    "df = pd.DataFrame.from_dict(df)   "
   ]
  },
  {
   "cell_type": "code",
   "execution_count": null,
   "metadata": {},
   "outputs": [],
   "source": [
    "df.loc[(df[\"phi_c_bulk_round\"]==0.4)&(df[\"bin_center\"].isin([1,2,3,4,5]))].groupby([\"property\",\"bin_center\"])[\"value\"].max()"
   ]
  },
  {
   "cell_type": "code",
   "execution_count": null,
   "metadata": {},
   "outputs": [],
   "source": [
    "sns.set_theme(\n",
    "    style='ticks',\n",
    "    rc={'axes.grid': True}\n",
    ")\n",
    "grid = sns.relplot(\n",
    "    data=df,\n",
    "    x=\"bin_center\",\n",
    "    y=\"value\",\n",
    "    col=\"property\",\n",
    "    col_wrap=3,\n",
    "    hue=\"phi_c_bulk_round\",\n",
    "    legend=\"full\",\n",
    "    kind=\"line\",\n",
    "    marker=\"s\",\n",
    "    height=4,\n",
    "    aspect=1\n",
    ")\n",
    "grid.savefig(\"../../test_plots/cluster.pdf\")\n",
    "plt.close()"
   ]
  },
  {
   "cell_type": "markdown",
   "metadata": {},
   "source": []
  }
 ],
 "metadata": {
  "kernelspec": {
   "display_name": "polylab",
   "language": "python",
   "name": "python3"
  },
  "language_info": {
   "codemirror_mode": {
    "name": "ipython",
    "version": 3
   },
   "file_extension": ".py",
   "mimetype": "text/x-python",
   "name": "python",
   "nbconvert_exporter": "python",
   "pygments_lexer": "ipython3",
   "version": "3.11.3"
  },
  "orig_nbformat": 4
 },
 "nbformat": 4,
 "nbformat_minor": 2
}
