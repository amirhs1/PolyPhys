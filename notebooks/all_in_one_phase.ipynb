{
 "cells": [
  {
   "cell_type": "markdown",
   "id": "e9ae7f84",
   "metadata": {
    "tags": []
   },
   "source": [
    "#### Imports"
   ]
  },
  {
   "cell_type": "code",
   "execution_count": 1,
   "id": "5107e38a",
   "metadata": {},
   "outputs": [
    {
     "name": "stderr",
     "output_type": "stream",
     "text": [
      "/Users/amirhsi/miniconda3/envs/polylab/lib/python3.11/site-packages/tqdm/auto.py:21: TqdmWarning: IProgress not found. Please update jupyter and ipywidgets. See https://ipywidgets.readthedocs.io/en/stable/user_install.html\n",
      "  from .autonotebook import tqdm as notebook_tqdm\n"
     ]
    }
   ],
   "source": [
    "from glob import glob\n",
    "from itertools import product\n",
    "import pandas as pd\n",
    "import numpy as np\n",
    "from polyphys.manage import organizer\n",
    "from polyphys.manage.parser import \\\n",
    "    SumRuleCyl, TransFociCyl, TransFociCub, HnsCub, HnsCyl\n",
    "from polyphys.manage.typer import ParserT\n",
    "from polyphys.analyze import measurer\n",
    "import polyphys.api as api\n",
    "from polyphys.api import PROJECTS_DETAILS as PSD\n",
    "from polyphys.probe import logger\n",
    "import warnings\n",
    "warnings.filterwarnings('ignore')\n",
    "\n",
    "#  Choose these two before running this script:\n",
    "#project = 'HnsCub'  # 'SumRuleCyl', 'TransFociCyl'\n",
    "project = 'TransFociCub'\n",
    "#project = 'TransFociCyl'\n",
    "#project = 'SumRuleCyl'\n",
    "#analysis_db = '/Users/amirhsi_mini/research_data/do_not_delete/'+project+'-analysis/'\n",
    "#analysis_db = '/Users/amirhsi_mini/research_data/'+project+'-analysis/'\n",
    "#analysis_db = '/Users/amirhsi_mini/research_data/do_not_delete/analysis/'\n",
    "#analysis_db = '/Users/amirhsi_mini/research_data/do_not_delete/'+project+'-analysis/'\n",
    "#analysis_db = \"/Users/amirhsi/research_data/TransFociCub-analysis/\"\n",
    "#analysis_db = \"/Users/amirhsi/research_data/TransFociCub_InitialCompressed_CollectingEquilibrium_ExactEquilibrium/ns400nl5al5.0ac1.0-analysis/\"\n",
    "analysis_db = \"/Users/amirhsi/research_data/SumRuleCubHeteroLinear-analysis/\"\n",
    "#analysis_db = '/Users/amirhsi_mini/research_data/analysis/'\n",
    "#analysis_db = '../../Datasets/HnsCub-N200epshm29kbmm2ens1_2-analysis/'\n",
    "# List of physical properties: Set the project hierarchy\n",
    "project_details = PSD[project]"
   ]
  },
  {
   "cell_type": "markdown",
   "id": "262003e6",
   "metadata": {
    "tags": []
   },
   "source": [
    "# allInOne *whole* and *ensAvg* stamps per project"
   ]
  },
  {
   "cell_type": "markdown",
   "id": "be7fab6b",
   "metadata": {
    "tags": []
   },
   "source": [
    "## ensemble-averaged stamps per project (ensAvg phase)"
   ]
  },
  {
   "cell_type": "code",
   "execution_count": 2,
   "id": "fa47d2ba",
   "metadata": {},
   "outputs": [
    {
     "name": "stdout",
     "output_type": "stream",
     "text": [
      "/Users/amirhsi/research_data/SumRuleCubHeteroLinear-analysis/ns400nl5al1ac1-bug-ensAvg/\n"
     ]
    }
   ],
   "source": [
    "space_dbs = glob(analysis_db + project_details['space_pat'])\n",
    "ens_avg_space_dbs = [\n",
    "    space_db + \"/\" for space_db in space_dbs if space_db.endswith(\n",
    "        project_details['group'] + '-ensAvg'\n",
    "    )\n",
    "]\n",
    "allInOne_stamps = []\n",
    "for space_db in ens_avg_space_dbs:\n",
    "    print(space_db)\n",
    "    stamp_path = project_details['space_hierarchy'] + 'stamps*'\n",
    "    stamp_path = glob(space_db + \"/\" + stamp_path + '.csv')[0]\n",
    "    space_stamps = pd.read_csv(stamp_path)\n",
    "    allInOne_stamps.append(space_stamps)\n",
    "allInOne_stamps = pd.concat(allInOne_stamps, axis=0)\n",
    "allInOne_stamps.reset_index(inplace=True, drop=True)\n",
    "output = analysis_db + \"allInOne-\" + project + \"-stamps-ensAvg.csv\"\n",
    "allInOne_stamps.to_csv(output, index=False)\n"
   ]
  },
  {
   "cell_type": "markdown",
   "id": "b5c51724",
   "metadata": {
    "tags": []
   },
   "source": [
    "## whole stamps per project (ens phase)"
   ]
  },
  {
   "cell_type": "code",
   "execution_count": 3,
   "id": "caf0a825-b48c-41d9-b954-7b988b1dea8a",
   "metadata": {},
   "outputs": [],
   "source": [
    "space_dbs = glob(analysis_db + project_details['space_pat'])\n",
    "ens_avg_space_dbs = [\n",
    "    space_db + \"/\" for space_db in space_dbs if space_db.endswith(\n",
    "        project_details['group'] + '-ens'\n",
    "    )\n",
    "]\n",
    "allInOne_stamps = []\n",
    "for space_db in ens_avg_space_dbs:\n",
    "    stamp_path = project_details['space_hierarchy'] + 'stamps*'\n",
    "    stamp_path = glob(space_db + \"/\" + stamp_path + '.csv')[0]\n",
    "    space_stamps = pd.read_csv(stamp_path)\n",
    "    allInOne_stamps.append(space_stamps)\n",
    "allInOne_stamps = pd.concat(allInOne_stamps, axis=0)\n",
    "allInOne_stamps.reset_index(inplace=True, drop=True)\n",
    "output = analysis_db + \"allInOne-\" + project + \"-stamps-ens.csv\"\n",
    "allInOne_stamps.to_csv(output, index=False)"
   ]
  },
  {
   "cell_type": "markdown",
   "id": "0a57dcd1-c751-4641-9582-87444ad215ab",
   "metadata": {
    "jp-MarkdownHeadingCollapsed": true,
    "tags": []
   },
   "source": [
    "## Logs per project"
   ]
  },
  {
   "cell_type": "code",
   "execution_count": null,
   "id": "89344da9-45f7-4652-bf92-6944419d5f39",
   "metadata": {},
   "outputs": [],
   "source": [
    "project = 'HnsCub'  # 'SumRuleCyl', 'TransFociCyl'\n",
    "#project = 'TransFociCub'\n",
    "#project = 'TransFociCyl'"
   ]
  },
  {
   "cell_type": "code",
   "execution_count": 6,
   "id": "322f4943-c0c1-4b5b-b508-ca1b33a2071f",
   "metadata": {},
   "outputs": [],
   "source": [
    "log_details = {\n",
    "    'SumRuleCyl': {\n",
    "        'space_pat': 'N*D*ac*',\n",
    "        'hierarchy': '/N*.log',  # dir/file\n",
    "        'parser': SumRuleCyl,\n",
    "        'group': 'bug',\n",
    "        'geometry': 'cylindrical',\n",
    "        'topology': 'linear',\n",
    "        'product_idx': 1\n",
    "    },\n",
    "    'TransFociCyl': {\n",
    "        'space_pat': 'ns*nl*al*D*ac*',\n",
    "        'hierarchy': '/eps*.log',  # dir/file\n",
    "        'parser': TransFociCyl,\n",
    "        'group': 'bug',\n",
    "        'geometry': 'cylindrical',\n",
    "        'topology': 'ring',\n",
    "        'product_idx': 2\n",
    "    },\n",
    "    'TransFociCub': {\n",
    "        'space_pat': 'ns*nl*al*ac*',\n",
    "        'hierarchy': '/al*.log',  # dir/file\n",
    "        'parser': TransFociCub,\n",
    "        'group': 'bug',\n",
    "        'geometry': 'cubic',\n",
    "        'topology': 'ring',\n",
    "        'product_idx': 2\n",
    "    },\n",
    "    'HnsCub': {\n",
    "        'space_pat': 'N*epshm*nh*ac*',\n",
    "        'hierarchy': '/N*.log',  # dir/file\n",
    "        'parser': HnsCub,\n",
    "        'group': 'nucleoid',\n",
    "        'geometry': 'cubic',\n",
    "        'topology': 'ring',\n",
    "        'product_idx': 2\n",
    "    }\n",
    "}\n",
    "#log_db = \"/Users/amirhsi_mini/OneDrive - University of Waterloo/PhD Research/Jupyter/Datasets/logs/\"\n",
    "#log_db = '/Users/amirhsi_mini/research_data/TransFociCub/logs/'\n",
    "log_db = '/Users/amirhsi_mini/research_data/do_not_delete/'+project+'-logs/'\n",
    "space_dbs = glob(log_db + log_details[project]['space_pat'] + '-logs')\n",
    "space_dbs.sort()\n",
    "space_with_segment_lineage = [\n",
    "    'N500D10.0ac0.6-logs',\n",
    "    'N500D10.0ac0.8-logs',\n",
    "    'N500D10.0ac1.0-logs',\n",
    "    'N2000D30.0ac4.0-logs',\n",
    "    'N2000D30.0ac6.0-logs'\n",
    "]"
   ]
  },
  {
   "cell_type": "code",
   "execution_count": null,
   "id": "fb5c0657-7b02-4f40-b88d-f35e5593fce5",
   "metadata": {},
   "outputs": [],
   "source": [
    "thermos = []\n",
    "run_stats = []\n",
    "wall_times = []\n",
    "save_to = './'\n",
    "\n",
    "for space_db in space_dbs:\n",
    "    print(space_db)\n",
    "    space = space_db.split(\"/\")[-1]\n",
    "    if space in space_with_segment_lineage:\n",
    "        lineage = 'segment'\n",
    "    else:\n",
    "        lineage = 'whole'\n",
    "    logs = glob(space_db + log_details[project]['hierarchy'])\n",
    "    logs = organizer.sort_filenames(logs,  fmts=['.log']) # sorted\n",
    "    logs = [log[0] for log in logs]\n",
    "    for log in logs:\n",
    "        log_info = log_details[project]['parser'](\n",
    "            log,\n",
    "            lineage,\n",
    "            log_details[project]['geometry'],\n",
    "            log_details[project]['group'],\n",
    "            log_details[project]['topology']\n",
    "        )\n",
    "        # handling product_idx in segmented logs:\n",
    "        if lineage == 'segment' and log_info.segment_id>1:\n",
    "            product_idx = 0\n",
    "        # handling product_idx in restart logs which do not have product phase\n",
    "        if  not (log.endswith('restart.log') | log.endswith('restart2ndRound.log')):\n",
    "            product_idx = log_details[project]['product_idx']\n",
    "        else:\n",
    "            product_idx = 0\n",
    "        try:\n",
    "            log_data = logger.LammpsLog(log, product_idx)\n",
    "        except (logger.BrokenLogError, IndexError):\n",
    "            print(\"broken log: \", log_info.filepath.split(\"/\")[-1])\n",
    "        log_data.extract_thermo()\n",
    "        log_data.extract_run_stat()\n",
    "        thermo = log_data.thermo\n",
    "        run_stat = log_data.run_stat\n",
    "        wall_time = log_data.wall_time\n",
    "        for attr_name in log_info._lineage_attributes[lineage].keys():\n",
    "            attr_value = getattr(log_info, attr_name)\n",
    "            thermo[attr_name] = attr_value\n",
    "        attr_names = ['phi_m_bulk', 'rho_m_bulk', 'phi_c_bulk', 'rho_c_bulk']\n",
    "        for attr_name in attr_names:\n",
    "            attr_value = getattr(log_info, attr_name)\n",
    "            thermo[attr_name] = attr_value\n",
    "        for lineage_name in log_info.genealogy:\n",
    "            attr_value = getattr(log_info, lineage_name)\n",
    "            thermo[lineage_name] = attr_value\n",
    "            run_stat[lineage_name] = attr_value\n",
    "            wall_time[lineage_name] = attr_value\n",
    "        thermos.append(thermo)\n",
    "        run_stats.append(run_stat)\n",
    "        wall_times.append(wall_time)\n",
    "\n",
    "output = \"-\".join([\"allInOne\", project, \"thermo\"])\n",
    "thermos = pd.concat(thermos)\n",
    "thermos.reset_index(inplace=True, drop=True)\n",
    "thermos.to_parquet(\n",
    "    save_to + output + \".parquet.brotli\", index=False, compression='brotli'\n",
    ")\n",
    "output = \"-\".join([\"allInOne\", project, \"runStat\"])\n",
    "run_stats = pd.concat(run_stats)\n",
    "run_stats.reset_index(inplace=True, drop=True)\n",
    "run_stats.to_csv(save_to + output + \".csv\", index=False)\n",
    "output = \"-\".join([\"allInOne\", project, \"wallTimeStat\"])\n",
    "wall_times = pd.concat(wall_times)\n",
    "wall_times.reset_index(inplace=True, drop=True)\n",
    "wall_times.to_csv(save_to + output + \".csv\", index=False)"
   ]
  },
  {
   "cell_type": "markdown",
   "id": "624d81b7",
   "metadata": {
    "tags": []
   },
   "source": [
    "# ensAvg timeseries and their associated measures"
   ]
  },
  {
   "cell_type": "markdown",
   "id": "e2f538b6-83e3-443f-8d4e-612dc9bfaf07",
   "metadata": {
    "tags": []
   },
   "source": [
    "## Measures of chain size timeseries properties per space"
   ]
  },
  {
   "cell_type": "markdown",
   "id": "8dbc9a63-48f6-45d6-9f30-f2a7d76b560f",
   "metadata": {
    "tags": []
   },
   "source": [
    "### allInONe esnAvg ACFs of the chain-size properties per space"
   ]
  },
  {
   "cell_type": "code",
   "execution_count": 4,
   "id": "5a9ee296-b30e-42a6-b594-bf5990c709ad",
   "metadata": {
    "tags": []
   },
   "outputs": [
    {
     "name": "stdout",
     "output_type": "stream",
     "text": [
      "['asphericityTMon-acf', 'asphericityTMon-acfLowerCi', 'asphericityTMon-acfUpperCi', 'gyrTMon-acf', 'gyrTMon-acfLowerCi', 'gyrTMon-acfUpperCi', 'shapeTMon-acf', 'shapeTMon-acfLowerCi', 'shapeTMon-acfUpperCi']\n",
      "CPU times: user 154 ms, sys: 25.6 ms, total: 180 ms\n",
      "Wall time: 292 ms\n"
     ]
    }
   ],
   "source": [
    "%%time\n",
    "# Wall time: 60 s for TransFoci\n",
    "# Wall time: 4 min for SumRule\n",
    "phase = 'ensAvg'\n",
    "space_dbs = glob(analysis_db + project_details['space_pat'])\n",
    "ens_avg_space_dbs = [\n",
    "    space_db + \"/\" for space_db in space_dbs if space_db.endswith(\n",
    "        project_details['group'] + '-' + phase\n",
    "    )\n",
    "]\n",
    "# list of unique property_measures:\n",
    "filepath = ens_avg_space_dbs[0] + '*' + project_details['hierarchy'] + '.csv'  # physical properties in all the\n",
    "_, uniq_props_measures = organizer.unique_property(\n",
    "    filepath, 2, [\"-\" + phase], drop_properties=['stamps'])\n",
    "if project == 'TransFociCyl':\n",
    "    uniq_props_measures.remove('transSizeTMon-acf')\n",
    "    uniq_props_measures.remove('transSizeTMon-acfLowerCi')\n",
    "    uniq_props_measures.remove('transSizeTMon-acfUpperCi')\n",
    "print(uniq_props_measures)\n",
    "for ens_avg_space_db in ens_avg_space_dbs:\n",
    "    ens_avgs = list()\n",
    "    space = ens_avg_space_db.split('/')[-2].split('-')[0]\n",
    "    for property_ in uniq_props_measures:\n",
    "        ens_avg = organizer.space_tseries(\n",
    "            ens_avg_space_db,\n",
    "            property_,\n",
    "            project_details['parser'],\n",
    "            project_details['hierarchy'],\n",
    "            project_details['attributes'],\n",
    "            project_details['group'],\n",
    "            project_details['geometry'],\n",
    "            project_details['topology'],\n",
    "            divisor = project_details['divisor'],\n",
    "            is_save = False  # if True, save per property per space\n",
    "        )\n",
    "        if project in ['HnsCyl', 'HnsCub']:\n",
    "            ens_avg['phi_c_bulk_round'].replace(0.09,0.08, inplace=True)\n",
    "            ens_avg['phi_c_bulk_round'].replace(0.15,0.16, inplace=True)\n",
    "            ens_avg['phi_c_bulk_round'].replace(0.21,0.2, inplace=True)\n",
    "            ens_avg['phi_c_bulk_round'].replace(0.31,0.32, inplace=True)\n",
    "            ens_avg = \\\n",
    "                ens_avg.loc[~ens_avg['phi_c_bulk_round'].isin([0.06, 0.18]),:]\n",
    "        elif project in ['TransFociCyl','TransFociCub']:\n",
    "            ens_avg = \\\n",
    "                ens_avg.loc[~ens_avg['phi_c_bulk_round'].isin([0.025, 0.05, 0.075, 0.125, 0.175]),:]\n",
    "        else:\n",
    "            print(\"The 'phi_c drop' condition is not defined for \"\n",
    "                            f\"'{project}' project.\")\n",
    "        ens_avgs.append(ens_avg)\n",
    "    ens_avgs = pd.concat(ens_avgs,axis=1)\n",
    "    # drop duplicated columns:\n",
    "    ens_avgs = ens_avgs.loc[:,~ens_avgs.columns.duplicated()]\n",
    "    output_name = analysis_db +  \"-\".join(\n",
    "        [space,\n",
    "         project_details['group'],\n",
    "         \"chainSize-acf.parquet.brotli\"\n",
    "        ]\n",
    "    )\n",
    "    ens_avgs.to_parquet(output_name, index=False, compression='brotli')"
   ]
  },
  {
   "cell_type": "markdown",
   "id": "259588f1-c129-48c6-98d0-6a1f4990d1ce",
   "metadata": {
    "tags": []
   },
   "source": [
    "### **allInOne** the chain-size properties per **space**"
   ]
  },
  {
   "cell_type": "code",
   "execution_count": 5,
   "id": "844af7ed",
   "metadata": {
    "tags": []
   },
   "outputs": [
    {
     "name": "stdout",
     "output_type": "stream",
     "text": [
      "['/Users/amirhsi/research_data/SumRuleCubHeteroLinear-analysis/ns400nl5al1ac1-bug-ensAvg/']\n",
      "['asphericityTMon', 'gyrTMon', 'shapeTMon']\n",
      "CPU times: user 243 ms, sys: 43.2 ms, total: 286 ms\n",
      "Wall time: 317 ms\n"
     ]
    }
   ],
   "source": [
    "%%time\n",
    "# Wall time: 2 min s for TransFoci\n",
    "# Wall time: 7 min for SumRule\n",
    "phase = 'ensAvg'\n",
    "space_dbs = glob(analysis_db + project_details['space_pat'])\n",
    "ens_avg_space_dbs = [\n",
    "    space_db + \"/\" for space_db in space_dbs if space_db.endswith(\n",
    "        project_details['group'] + '-' + phase\n",
    "    )\n",
    "]\n",
    "print(ens_avg_space_dbs)\n",
    "# list of unique property_measures:\n",
    "filepath = ens_avg_space_dbs[0] + '*' + project_details['hierarchy'] + '.csv'  # physical properties in all the\n",
    "_, uniq_props_measures = organizer.unique_property(\n",
    "    filepath, 2, [\"-\" + phase], drop_properties=['stamps'])\n",
    "props_tseries = list(\n",
    "    set(\n",
    "        [prop.split(\"-acf\")[0] for prop in uniq_props_measures]\n",
    "    )\n",
    ")\n",
    "\n",
    "if project == 'TransFociCyl':\n",
    "    props_tseries.remove('transSizeTMon')\n",
    "print(props_tseries)\n",
    "\n",
    "for ens_avg_space_db in ens_avg_space_dbs:\n",
    "    ens_avgs = list()\n",
    "    space = ens_avg_space_db.split('/')[-2].split('-')[0]\n",
    "    for property_ in props_tseries:\n",
    "        ens_avg = organizer.space_tseries(\n",
    "            ens_avg_space_db,\n",
    "            property_,\n",
    "            project_details['parser'],\n",
    "            project_details['hierarchy'],\n",
    "            project_details['attributes'],\n",
    "            project_details['group'],\n",
    "            project_details['geometry'],\n",
    "            project_details['topology'],\n",
    "            divisor = project_details['divisor'],\n",
    "            is_save = False  # if True, save per property per space\n",
    "        )\n",
    "        if project in ['HnsCyl', 'HnsCub']:\n",
    "            ens_avg['phi_c_bulk_round'].replace(0.09,0.08, inplace=True)\n",
    "            ens_avg['phi_c_bulk_round'].replace(0.15,0.16, inplace=True)\n",
    "            ens_avg['phi_c_bulk_round'].replace(0.21,0.2, inplace=True)\n",
    "            ens_avg['phi_c_bulk_round'].replace(0.31,0.32, inplace=True)\n",
    "            ens_avg = \\\n",
    "                ens_avg.loc[~ens_avg['phi_c_bulk_round'].isin([0.06, 0.18]),:]\n",
    "        elif project in ['TransFociCyl','TransFociCub']:\n",
    "            ens_avg = \\\n",
    "                ens_avg.loc[~ens_avg['phi_c_bulk_round'].isin([0.025, 0.05, 0.075, 0.125, 0.175]),:]\n",
    "        else:\n",
    "            print(\"The 'phi_c drop' condition is not defined for \"\n",
    "                            f\"'{project}' project.\")\n",
    "        ens_avgs.append(ens_avg)\n",
    "    ens_avgs = pd.concat(ens_avgs,axis=1)\n",
    "    # drop duplicated columns:\n",
    "    ens_avgs = ens_avgs.loc[:,~ens_avgs.columns.duplicated()]\n",
    "    output_name = analysis_db +  \"-\".join(\n",
    "        [space,  project_details['group'], \"chainSize.parquet.brotli\"]\n",
    "    )\n",
    "    ens_avgs.to_parquet(output_name, index=False, compression='brotli')"
   ]
  },
  {
   "cell_type": "markdown",
   "id": "ff3bcc1a",
   "metadata": {
    "tags": []
   },
   "source": [
    "## TransFoci Project: Pair distance time-series per project"
   ]
  },
  {
   "cell_type": "code",
   "execution_count": 6,
   "id": "836072fe",
   "metadata": {},
   "outputs": [
    {
     "name": "stdout",
     "output_type": "stream",
     "text": [
      "['/Users/amirhsi/research_data/SumRuleCubHeteroLinear-analysis/ns400nl5al1ac1-bug-ensAvg/']\n"
     ]
    },
    {
     "ename": "ValueError",
     "evalue": "No objects to concatenate",
     "output_type": "error",
     "traceback": [
      "\u001b[0;31m---------------------------------------------------------------------------\u001b[0m",
      "\u001b[0;31mValueError\u001b[0m                                Traceback (most recent call last)",
      "File \u001b[0;32m<timed exec>:17\u001b[0m\n",
      "File \u001b[0;32m~/Library/CloudStorage/OneDrive-UniversityofWaterloo/PhD Research/Jupyter/PolyPhys/polyphys/manage/organizer.py:1461\u001b[0m, in \u001b[0;36mspace_tseries\u001b[0;34m(input_database, property_, parser, hierarchy, physical_attrs, group, geometry, topology, divisor, round_to, is_save)\u001b[0m\n\u001b[1;32m   1457\u001b[0m     ens_avg[\u001b[38;5;124m'\u001b[39m\u001b[38;5;124mphi_c_bulk_round\u001b[39m\u001b[38;5;124m'\u001b[39m] \u001b[38;5;241m=\u001b[39m \\\n\u001b[1;32m   1458\u001b[0m         ens_avg[\u001b[38;5;124m'\u001b[39m\u001b[38;5;124mphi_c_bulk\u001b[39m\u001b[38;5;124m'\u001b[39m]\u001b[38;5;241m.\u001b[39mapply(\n\u001b[1;32m   1459\u001b[0m             round_up_nearest, args\u001b[38;5;241m=\u001b[39m[divisor, round_to])\n\u001b[1;32m   1460\u001b[0m     property_db\u001b[38;5;241m.\u001b[39mappend(ens_avg)\n\u001b[0;32m-> 1461\u001b[0m property_db \u001b[38;5;241m=\u001b[39m \u001b[43mpd\u001b[49m\u001b[38;5;241;43m.\u001b[39;49m\u001b[43mconcat\u001b[49m\u001b[43m(\u001b[49m\u001b[43mproperty_db\u001b[49m\u001b[43m,\u001b[49m\u001b[43m \u001b[49m\u001b[43maxis\u001b[49m\u001b[38;5;241;43m=\u001b[39;49m\u001b[38;5;241;43m0\u001b[39;49m\u001b[43m)\u001b[49m\n\u001b[1;32m   1462\u001b[0m property_db\u001b[38;5;241m.\u001b[39mreset_index(inplace\u001b[38;5;241m=\u001b[39m\u001b[38;5;28;01mTrue\u001b[39;00m, drop\u001b[38;5;241m=\u001b[39m\u001b[38;5;28;01mTrue\u001b[39;00m)\n\u001b[1;32m   1463\u001b[0m \u001b[38;5;28;01mif\u001b[39;00m is_save \u001b[38;5;129;01mis\u001b[39;00m \u001b[38;5;129;01mnot\u001b[39;00m \u001b[38;5;28;01mFalse\u001b[39;00m:\n",
      "File \u001b[0;32m~/miniconda3/envs/polylab/lib/python3.11/site-packages/pandas/core/reshape/concat.py:382\u001b[0m, in \u001b[0;36mconcat\u001b[0;34m(objs, axis, join, ignore_index, keys, levels, names, verify_integrity, sort, copy)\u001b[0m\n\u001b[1;32m    379\u001b[0m \u001b[38;5;28;01melif\u001b[39;00m copy \u001b[38;5;129;01mand\u001b[39;00m using_copy_on_write():\n\u001b[1;32m    380\u001b[0m     copy \u001b[38;5;241m=\u001b[39m \u001b[38;5;28;01mFalse\u001b[39;00m\n\u001b[0;32m--> 382\u001b[0m op \u001b[38;5;241m=\u001b[39m \u001b[43m_Concatenator\u001b[49m\u001b[43m(\u001b[49m\n\u001b[1;32m    383\u001b[0m \u001b[43m    \u001b[49m\u001b[43mobjs\u001b[49m\u001b[43m,\u001b[49m\n\u001b[1;32m    384\u001b[0m \u001b[43m    \u001b[49m\u001b[43maxis\u001b[49m\u001b[38;5;241;43m=\u001b[39;49m\u001b[43maxis\u001b[49m\u001b[43m,\u001b[49m\n\u001b[1;32m    385\u001b[0m \u001b[43m    \u001b[49m\u001b[43mignore_index\u001b[49m\u001b[38;5;241;43m=\u001b[39;49m\u001b[43mignore_index\u001b[49m\u001b[43m,\u001b[49m\n\u001b[1;32m    386\u001b[0m \u001b[43m    \u001b[49m\u001b[43mjoin\u001b[49m\u001b[38;5;241;43m=\u001b[39;49m\u001b[43mjoin\u001b[49m\u001b[43m,\u001b[49m\n\u001b[1;32m    387\u001b[0m \u001b[43m    \u001b[49m\u001b[43mkeys\u001b[49m\u001b[38;5;241;43m=\u001b[39;49m\u001b[43mkeys\u001b[49m\u001b[43m,\u001b[49m\n\u001b[1;32m    388\u001b[0m \u001b[43m    \u001b[49m\u001b[43mlevels\u001b[49m\u001b[38;5;241;43m=\u001b[39;49m\u001b[43mlevels\u001b[49m\u001b[43m,\u001b[49m\n\u001b[1;32m    389\u001b[0m \u001b[43m    \u001b[49m\u001b[43mnames\u001b[49m\u001b[38;5;241;43m=\u001b[39;49m\u001b[43mnames\u001b[49m\u001b[43m,\u001b[49m\n\u001b[1;32m    390\u001b[0m \u001b[43m    \u001b[49m\u001b[43mverify_integrity\u001b[49m\u001b[38;5;241;43m=\u001b[39;49m\u001b[43mverify_integrity\u001b[49m\u001b[43m,\u001b[49m\n\u001b[1;32m    391\u001b[0m \u001b[43m    \u001b[49m\u001b[43mcopy\u001b[49m\u001b[38;5;241;43m=\u001b[39;49m\u001b[43mcopy\u001b[49m\u001b[43m,\u001b[49m\n\u001b[1;32m    392\u001b[0m \u001b[43m    \u001b[49m\u001b[43msort\u001b[49m\u001b[38;5;241;43m=\u001b[39;49m\u001b[43msort\u001b[49m\u001b[43m,\u001b[49m\n\u001b[1;32m    393\u001b[0m \u001b[43m\u001b[49m\u001b[43m)\u001b[49m\n\u001b[1;32m    395\u001b[0m \u001b[38;5;28;01mreturn\u001b[39;00m op\u001b[38;5;241m.\u001b[39mget_result()\n",
      "File \u001b[0;32m~/miniconda3/envs/polylab/lib/python3.11/site-packages/pandas/core/reshape/concat.py:445\u001b[0m, in \u001b[0;36m_Concatenator.__init__\u001b[0;34m(self, objs, axis, join, keys, levels, names, ignore_index, verify_integrity, copy, sort)\u001b[0m\n\u001b[1;32m    442\u001b[0m \u001b[38;5;28mself\u001b[39m\u001b[38;5;241m.\u001b[39mverify_integrity \u001b[38;5;241m=\u001b[39m verify_integrity\n\u001b[1;32m    443\u001b[0m \u001b[38;5;28mself\u001b[39m\u001b[38;5;241m.\u001b[39mcopy \u001b[38;5;241m=\u001b[39m copy\n\u001b[0;32m--> 445\u001b[0m objs, keys \u001b[38;5;241m=\u001b[39m \u001b[38;5;28;43mself\u001b[39;49m\u001b[38;5;241;43m.\u001b[39;49m\u001b[43m_clean_keys_and_objs\u001b[49m\u001b[43m(\u001b[49m\u001b[43mobjs\u001b[49m\u001b[43m,\u001b[49m\u001b[43m \u001b[49m\u001b[43mkeys\u001b[49m\u001b[43m)\u001b[49m\n\u001b[1;32m    447\u001b[0m \u001b[38;5;66;03m# figure out what our result ndim is going to be\u001b[39;00m\n\u001b[1;32m    448\u001b[0m ndims \u001b[38;5;241m=\u001b[39m \u001b[38;5;28mself\u001b[39m\u001b[38;5;241m.\u001b[39m_get_ndims(objs)\n",
      "File \u001b[0;32m~/miniconda3/envs/polylab/lib/python3.11/site-packages/pandas/core/reshape/concat.py:507\u001b[0m, in \u001b[0;36m_Concatenator._clean_keys_and_objs\u001b[0;34m(self, objs, keys)\u001b[0m\n\u001b[1;32m    504\u001b[0m     objs_list \u001b[38;5;241m=\u001b[39m \u001b[38;5;28mlist\u001b[39m(objs)\n\u001b[1;32m    506\u001b[0m \u001b[38;5;28;01mif\u001b[39;00m \u001b[38;5;28mlen\u001b[39m(objs_list) \u001b[38;5;241m==\u001b[39m \u001b[38;5;241m0\u001b[39m:\n\u001b[0;32m--> 507\u001b[0m     \u001b[38;5;28;01mraise\u001b[39;00m \u001b[38;5;167;01mValueError\u001b[39;00m(\u001b[38;5;124m\"\u001b[39m\u001b[38;5;124mNo objects to concatenate\u001b[39m\u001b[38;5;124m\"\u001b[39m)\n\u001b[1;32m    509\u001b[0m \u001b[38;5;28;01mif\u001b[39;00m keys \u001b[38;5;129;01mis\u001b[39;00m \u001b[38;5;28;01mNone\u001b[39;00m:\n\u001b[1;32m    510\u001b[0m     objs_list \u001b[38;5;241m=\u001b[39m \u001b[38;5;28mlist\u001b[39m(com\u001b[38;5;241m.\u001b[39mnot_none(\u001b[38;5;241m*\u001b[39mobjs_list))\n",
      "\u001b[0;31mValueError\u001b[0m: No objects to concatenate"
     ]
    }
   ],
   "source": [
    "%%time\n",
    "#analysis_db = '/Users/amirhsi_mini/research_data/analysis/'\n",
    "#analysis_db = '/Users/amirhsi_mini/research_data/do_not_delete/'+project+'-analysis/'\n",
    "phase = 'ensAvg'\n",
    "space_dbs = glob(analysis_db + project_details['space_pat'])\n",
    "ens_avg_space_dbs = [\n",
    "    space_db + \"/\" for space_db in space_dbs if space_db.endswith(\n",
    "        project_details['group'] + '-' + phase\n",
    "    )\n",
    "]\n",
    "print(ens_avg_space_dbs)\n",
    "tseries_foci_props = ['pairDistTFoci']\n",
    "project_ens_avgs = []\n",
    "for prop in tseries_foci_props:\n",
    "    prop_ens_avgs = list()\n",
    "    for ens_avg_space_db in ens_avg_space_dbs:\n",
    "        space = ens_avg_space_db.split('/')[-2].split('-')[0]\n",
    "        ens_avg = organizer.space_tseries(\n",
    "            ens_avg_space_db,\n",
    "            prop,\n",
    "            project_details['parser'],\n",
    "            project_details['hierarchy'],\n",
    "            project_details['attributes'],\n",
    "            project_details['group'],\n",
    "            project_details['geometry'],\n",
    "            project_details['topology'],\n",
    "            is_save = False  # if True, save per property per space\n",
    "        )\n",
    "        prop_ens_avgs.append(ens_avg)\n",
    "    prop_ens_avgs = pd.concat(prop_ens_avgs,axis=0)\n",
    "    # drop duplicated columns:\n",
    "    prop_ens_avgs = prop_ens_avgs.loc[:, ~prop_ens_avgs.columns.duplicated()]\n",
    "    prop_ens_avgs.reset_index(inplace=True, drop=True)\n",
    "    project_ens_avgs.append(prop_ens_avgs)\n",
    "project_ens_avgs = pd.concat(project_ens_avgs,axis=1)\n",
    "project_ens_avgs = \\\n",
    "    project_ens_avgs.loc[:, ~project_ens_avgs.columns.duplicated()]\n",
    "project_ens_avgs.reset_index(inplace=True, drop=True)\n",
    "output ='-'.join(['allInOne', project, project_details['group'], 'pairDistT.parquet.brotli'])\n",
    "output = analysis_db + output\n",
    "project_ens_avgs.to_parquet(output, index=False, compression='brotli')"
   ]
  },
  {
   "cell_type": "markdown",
   "id": "d50541f3-23c6-493c-b03c-59791f0c8af9",
   "metadata": {
    "tags": []
   },
   "source": [
    "# Equilibrium timeseries properties per space AND per project"
   ]
  },
  {
   "cell_type": "markdown",
   "id": "ec6550f1-7813-4bfb-8009-6955a89378ef",
   "metadata": {
    "tags": []
   },
   "source": [
    "## Whole equilibrium properties allInOne"
   ]
  },
  {
   "cell_type": "code",
   "execution_count": 7,
   "id": "c8079e8a-9a4f-4fcd-861e-9c4a3ae02de7",
   "metadata": {
    "tags": []
   },
   "outputs": [
    {
     "name": "stdout",
     "output_type": "stream",
     "text": [
      "CPU times: user 153 ms, sys: 33.7 ms, total: 187 ms\n",
      "Wall time: 231 ms\n"
     ]
    }
   ],
   "source": [
    "%%time\n",
    "# Wall time: 23 s for TransFociCyl\n",
    "# Wall time: 10 min s for SumRule\n",
    "# Wall time: 5 s for TransFociCub\n",
    "spaces = glob(analysis_db + project_details['space_pat'])\n",
    "spaces = sorted(list(set([space.split('/')[-1].split('-')[0] for space in spaces])))\n",
    "save_space = True\n",
    "equili_props_wholes = api.all_in_one_equil_tseries(\n",
    "    project,\n",
    "    analysis_db,\n",
    "    project_details['group'],\n",
    "    spaces,\n",
    "    project_details['time_varying_props'],\n",
    "    project_details['equil_measures'],\n",
    "    save_space=save_space,\n",
    "    divisor=project_details['divisor'],\n",
    "    round_to=3,\n",
    "    kind='dataframe',\n",
    "    save_to=analysis_db,\n",
    ")"
   ]
  },
  {
   "cell_type": "code",
   "execution_count": 8,
   "id": "965358c8",
   "metadata": {},
   "outputs": [
    {
     "data": {
      "text/plain": [
       "Index(['lineage_name', 'whole', 'ensemble_long', 'ensemble', 'space',\n",
       "       'dmon_large', 'nmon_large', 'mmon_large', 'nmon_small', 'dcrowd',\n",
       "       'ncrowd', 'lcube', 'dt', 'bdump', 'adump', 'ensemble_id', 'dmon_small',\n",
       "       'mmon_small', 'mcrowd', 'eps_others', 'phi_m_bulk', 'rho_m_bulk',\n",
       "       'phi_c_bulk', 'rho_c_bulk', 'n_frames', 'asphericityMon-mean',\n",
       "       'asphericityMon-var', 'asphericityMon-sem', 'gyrMon-mean', 'gyrMon-var',\n",
       "       'gyrMon-sem', 'shapeMon-mean', 'shapeMon-var', 'shapeMon-sem',\n",
       "       'phi_c_bulk_round'],\n",
       "      dtype='object')"
      ]
     },
     "execution_count": 8,
     "metadata": {},
     "output_type": "execute_result"
    }
   ],
   "source": [
    "equili_props_wholes.columns"
   ]
  },
  {
   "cell_type": "code",
   "execution_count": 9,
   "id": "350e941e",
   "metadata": {},
   "outputs": [
    {
     "name": "stdout",
     "output_type": "stream",
     "text": [
      "['asphericityMon-mean', 'asphericityMon-var', 'asphericityMon-sem', 'gyrMon-mean', 'gyrMon-var', 'gyrMon-sem', 'shapeMon-mean', 'shapeMon-var', 'shapeMon-sem']\n",
      "['asphericityMon', 'gyrMon', 'shapeMon']\n",
      "Index(['lineage_name', 'whole', 'ensemble_long', 'ensemble', 'space',\n",
      "       'dmon_large', 'nmon_large', 'mmon_large', 'nmon_small', 'dcrowd',\n",
      "       'ncrowd', 'lcube', 'dt', 'bdump', 'adump', 'ensemble_id', 'dmon_small',\n",
      "       'mmon_small', 'mcrowd', 'eps_others', 'phi_m_bulk', 'rho_m_bulk',\n",
      "       'phi_c_bulk', 'rho_c_bulk', 'n_frames', 'asphericityMon-mean',\n",
      "       'asphericityMon-var', 'asphericityMon-sem', 'gyrMon-mean', 'gyrMon-var',\n",
      "       'gyrMon-sem', 'shapeMon-mean', 'shapeMon-var', 'shapeMon-sem',\n",
      "       'phi_c_bulk_round'],\n",
      "      dtype='object')\n"
     ]
    }
   ],
   "source": [
    "import itertools\n",
    "properties = project_details['equil_properties']\n",
    "print(properties)\n",
    "norm_props = [\n",
    "        prop.split('-')[0] for prop in properties if prop.endswith('mean')]\n",
    "print(norm_props)\n",
    "norm_prop_mean = [prop for prop in properties if prop.endswith('mean')] \n",
    "spaces = equili_props_wholes.space.unique()\n",
    "space_con = (equili_props_wholes['space'].isin(spaces))\n",
    "phi_c_con = (equili_props_wholes['phi_c_bulk_round'] == 0)\n",
    "cols = ['space', 'ensemble', 'whole' ] + norm_prop_mean\n",
    "print(equili_props_wholes.columns)\n",
    "phi_c_counts = equili_props_wholes.loc[space_con & phi_c_con, cols]#for space, prop in itertools.product(spaces, norm_props):\n",
    "#    space_con = equili_props_wholes['space'] == space\n",
    "#    phi_c_con = equili_props_wholes['phi_c_bulk_round'] == 0\n",
    "#    prop_0 = equili_props_wholes.loc[space_con & phi_c_con, prop + \"-mean\"]#.to_numpy()[0]  # type: ignore\n",
    "    \n"
   ]
  },
  {
   "cell_type": "code",
   "execution_count": 10,
   "id": "a6940b16",
   "metadata": {},
   "outputs": [],
   "source": [
    "ens_avg = api.all_in_one_equil_tseries_ens_avg(\n",
    "    project,\n",
    "    equili_props_wholes,\n",
    "    project_details['group'],\n",
    "    project_details['equil_properties'],\n",
    "    project_details['equil_attributes'],\n",
    "    save_to=analysis_db\n",
    ")"
   ]
  },
  {
   "cell_type": "markdown",
   "id": "74045030",
   "metadata": {
    "tags": []
   },
   "source": [
    "# Distributions"
   ]
  },
  {
   "cell_type": "markdown",
   "id": "f6ce532e-3a29-4e50-8bdd-f2c1d5f73c2a",
   "metadata": {
    "jp-MarkdownHeadingCollapsed": true,
    "tags": []
   },
   "source": [
    "## Persistence lengths: Hns Project"
   ]
  },
  {
   "cell_type": "code",
   "execution_count": null,
   "id": "41d4b231-656f-4c1a-a99d-a94d19cae3f5",
   "metadata": {},
   "outputs": [],
   "source": [
    "phase = 'ensAvg'\n",
    "ext = '.csv'\n",
    "property_ext = phase + '-mean' + ext\n",
    "space_dbs = glob(analysis_db + project_details['space_pat'])\n",
    "ens_avg_space_dbs = [\n",
    "    space_db + \"/\" for space_db in space_dbs if space_db.endswith(\n",
    "        project_details['group'] + '-' + phase\n",
    "    )\n",
    "]\n",
    "filepath = ens_avg_space_dbs[0] + project_details['hierarchy'] + ext # physical properties in all the\n",
    "uniq_props,  _ = organizer.unique_property(\n",
    "    filepath, 2, [\"-\" + phase], drop_properties=['stamps'])\n",
    "bond_props = list(\n",
    "    set(\n",
    "        [prop for prop in uniq_props if prop.startswith(\"bondCosine\")]\n",
    "    )\n",
    ")\n",
    "print(bond_props)\n",
    "project_all_in_one_list = list()\n",
    "polymer_topo = project_details['topology']\n",
    "for ens_avg_space_db in ens_avg_space_dbs:\n",
    "    ens_avgs_list = list()\n",
    "    space = ens_avg_space_db.split('/')[-2].split('-')[0]\n",
    "    space_info = project_details['parser'](\n",
    "        space,\n",
    "        'space',\n",
    "        project_details['geometry'],\n",
    "        project_details['group'],\n",
    "        project_details['topology'],\n",
    "        ispath=False\n",
    "    )\n",
    "    bonds_per_topology = {\n",
    "       'linear': np.arange(1, space_info.nmon, 1),\n",
    "       'ring': np.arange(1, space_info.nmon+1, 1)\n",
    "    }\n",
    "    for property_ in bond_props:\n",
    "        ens_avg = organizer.space_hists(\n",
    "            ens_avg_space_db,\n",
    "            property_,\n",
    "            project_details['parser'],\n",
    "            project_details['hierarchy'],\n",
    "            project_details['attributes'],\n",
    "            project_details['group'],\n",
    "            project_details['geometry'],\n",
    "            project_details['topology'],\n",
    "            divisor = project_details['divisor'],\n",
    "            bin_center=bonds_per_topology[polymer_topo],\n",
    "            normalize=False,\n",
    "            is_save=False\n",
    "        )\n",
    "        if project in ['HnsCyl', 'HnsCub']:\n",
    "            ens_avg['phi_c_bulk_round'].replace(0.09,0.08, inplace=True)\n",
    "            ens_avg['phi_c_bulk_round'].replace(0.15,0.16, inplace=True)\n",
    "            ens_avg['phi_c_bulk_round'].replace(0.21,0.2, inplace=True)\n",
    "            ens_avg['phi_c_bulk_round'].replace(0.31,0.32, inplace=True)\n",
    "            ens_avg = \\\n",
    "                ens_avg.loc[~ens_avg['phi_c_bulk_round'].isin([0.06, 0.18]),:]\n",
    "        elif project in ['TransFociCyl','TransFociCub']:\n",
    "            ens_avg = \\\n",
    "                ens_avg.loc[~ens_avg['phi_c_bulk_round'].isin([0.025, 0.05, 0.075, 0.125, 0.175]),:]\n",
    "        else:\n",
    "            raise ValueError(\"The 'phi_c drop' condition is not defined for \"\n",
    "                            f\"'{project}' project.\")\n",
    "        ens_avgs_list.append(ens_avg)\n",
    "    ens_avgs = pd.concat(ens_avgs_list,axis=1)\n",
    "    # drop duplicated columns:\n",
    "    ens_avgs = ens_avgs.loc[:, ~ens_avgs.columns.duplicated()]\n",
    "    ens_avgs.reset_index(inplace=True, drop=True)\n",
    "    project_all_in_one_list.append(ens_avgs)\n",
    "project_all_in_one = pd.concat(project_all_in_one_list,axis=0)\n",
    "project_all_in_one = \\\n",
    "    project_all_in_one.loc[:, ~project_all_in_one.columns.duplicated()]\n",
    "project_all_in_one.reset_index(inplace=True, drop=True)\n",
    "output = '-'.join(\n",
    "    ['allInOne', project, project_details['group'], 'bondCosCorrVecMon.csv']\n",
    ")\n",
    "output = analysis_db + output\n",
    "project_all_in_one.to_csv(output, index=False)"
   ]
  },
  {
   "cell_type": "markdown",
   "id": "59db833a-6dcd-404d-88cd-e26e3a8c4f7e",
   "metadata": {
    "jp-MarkdownHeadingCollapsed": true,
    "tags": []
   },
   "source": [
    "## Intra-chain loop lenght hist: Hns Project"
   ]
  },
  {
   "cell_type": "code",
   "execution_count": null,
   "id": "ab662b3a-9ffa-469f-a2ca-4e09df0ff803",
   "metadata": {},
   "outputs": [],
   "source": [
    "phase = 'ensAvg'\n",
    "ext = '.csv'\n",
    "property_ext = phase + '-mean' + ext\n",
    "space_dbs = glob(analysis_db + project_details['space_pat'])\n",
    "ens_avg_space_dbs = [\n",
    "    space_db + \"/\" for space_db in space_dbs if space_db.endswith(\n",
    "        project_details['group'] + '-' + phase\n",
    "    )\n",
    "]\n",
    "filepath = ens_avg_space_dbs[0] + project_details['hierarchy'] + ext # physical properties in all the\n",
    "uniq_props,  _ = organizer.unique_property(\n",
    "    filepath, 2, [\"-\" + phase], drop_properties=['stamps'])\n",
    "bond_props = list(\n",
    "    set(\n",
    "        [prop for prop in uniq_props if prop.startswith(\"loopLengthHistMon\")]\n",
    "    )\n",
    ")\n",
    "print(bond_props)\n",
    "project_all_in_one_list = list()\n",
    "polymer_topo = project_details['topology']\n",
    "for ens_avg_space_db in ens_avg_space_dbs:\n",
    "    space = ens_avg_space_db.split('/')[-2].split('-')[0]\n",
    "    space_info = project_details['parser'](\n",
    "        space,\n",
    "        'space',\n",
    "        project_details['geometry'],\n",
    "        project_details['group'],\n",
    "        project_details['topology'],\n",
    "        ispath=False\n",
    "    )\n",
    "    max_loop_per_topology = {\n",
    "       'linear': np.arange(0, space_info.nmon, 1),\n",
    "       'ring': np.arange(0, space_info.nmon//2+1, 1)\n",
    "    }\n",
    "    ens_avg = organizer.space_hists(\n",
    "        ens_avg_space_db,\n",
    "        'loopLengthHistMon',\n",
    "        project_details['parser'],\n",
    "        project_details['hierarchy'],\n",
    "        project_details['attributes'],\n",
    "        project_details['group'],\n",
    "        project_details['geometry'],\n",
    "        project_details['topology'],\n",
    "        divisor = project_details['divisor'],\n",
    "        bin_center=max_loop_per_topology[polymer_topo],\n",
    "        normalize=False,\n",
    "        is_save=False\n",
    "    )\n",
    "    if project in ['HnsCyl', 'HnsCub']:\n",
    "            ens_avg['phi_c_bulk_round'].replace(0.09,0.08, inplace=True)\n",
    "            ens_avg['phi_c_bulk_round'].replace(0.15,0.16, inplace=True)\n",
    "            ens_avg['phi_c_bulk_round'].replace(0.21,0.2, inplace=True)\n",
    "            ens_avg['phi_c_bulk_round'].replace(0.31,0.32, inplace=True)\n",
    "            ens_avg = \\\n",
    "                ens_avg.loc[~ens_avg['phi_c_bulk_round'].isin([0.06, 0.18]),:]\n",
    "    elif project in ['TransFociCyl','TransFociCub']:\n",
    "        ens_avg = \\\n",
    "            ens_avg.loc[~ens_avg['phi_c_bulk_round'].isin([0.025, 0.05, 0.075, 0.125, 0.175]),:]\n",
    "    else:\n",
    "        raise ValueError(\"The 'phi_c drop' condition is not defined for \"\n",
    "                        f\"'{project}' project.\")\n",
    "    ens_avg.rename(columns={'bin_center': 'genomic_distance'}, inplace=True)\n",
    "    # drop duplicated columns:\n",
    "    ens_avg = ens_avg.loc[:,~ens_avg.columns.duplicated()]\n",
    "    ens_avg.reset_index(inplace=True, drop=True)\n",
    "    project_all_in_one_list.append(ens_avg)\n",
    "project_all_in_one = pd.concat(project_all_in_one_list,axis=0)\n",
    "project_all_in_one = \\\n",
    "    project_all_in_one.loc[:, ~project_all_in_one.columns.duplicated()]\n",
    "output = '-'.join(\n",
    "    ['allInOne', project, project_details['group'], 'loopLengthHistMon.csv']\n",
    ")\n",
    "output = analysis_db + output\n",
    "project_all_in_one.to_csv(output, index=False)\n"
   ]
  },
  {
   "cell_type": "markdown",
   "id": "1612fd82",
   "metadata": {
    "jp-MarkdownHeadingCollapsed": true,
    "tags": []
   },
   "source": [
    "## Clusters and bonds per project: TransFoci\n",
    "\n",
    "- Applicable to any project in which clustering happens such as **HnsCub**, **TransFociCub**,and **TransFociCyl**.\n",
    "- The histograms of **Clusters** and **bonds** can **not** be combined in **one** dataset.\n",
    "- Since **per project** datasets are small, we create **one** per project dataset for each property."
   ]
  },
  {
   "cell_type": "code",
   "execution_count": 11,
   "id": "d7d12660",
   "metadata": {
    "tags": []
   },
   "outputs": [
    {
     "name": "stdout",
     "output_type": "stream",
     "text": [
      "['/Users/amirhsi/research_data/SumRuleCubHeteroLinear-analysis/ns400nl5al1ac1-bug-ensAvg/']\n",
      "/Users/amirhsi/research_data/SumRuleCubHeteroLinear-analysis/ns400nl5al1ac1-bug-ensAvg/\n"
     ]
    },
    {
     "ename": "ValueError",
     "evalue": "No objects to concatenate",
     "output_type": "error",
     "traceback": [
      "\u001b[0;31m---------------------------------------------------------------------------\u001b[0m",
      "\u001b[0;31mValueError\u001b[0m                                Traceback (most recent call last)",
      "Cell \u001b[0;32mIn[11], line 21\u001b[0m\n\u001b[1;32m     19\u001b[0m     \u001b[38;5;28mprint\u001b[39m(ens_avg_space_db)\n\u001b[1;32m     20\u001b[0m     space \u001b[38;5;241m=\u001b[39m ens_avg_space_db\u001b[38;5;241m.\u001b[39msplit(\u001b[38;5;124m'\u001b[39m\u001b[38;5;124m/\u001b[39m\u001b[38;5;124m'\u001b[39m)[\u001b[38;5;241m-\u001b[39m\u001b[38;5;241m2\u001b[39m]\u001b[38;5;241m.\u001b[39msplit(\u001b[38;5;124m'\u001b[39m\u001b[38;5;124m-\u001b[39m\u001b[38;5;124m'\u001b[39m)[\u001b[38;5;241m0\u001b[39m]\n\u001b[0;32m---> 21\u001b[0m     ens_avg \u001b[38;5;241m=\u001b[39m \u001b[43morganizer\u001b[49m\u001b[38;5;241;43m.\u001b[39;49m\u001b[43mspace_hists\u001b[49m\u001b[43m(\u001b[49m\n\u001b[1;32m     22\u001b[0m \u001b[43m        \u001b[49m\u001b[43mens_avg_space_db\u001b[49m\u001b[43m,\u001b[49m\n\u001b[1;32m     23\u001b[0m \u001b[43m        \u001b[49m\u001b[43mprop\u001b[49m\u001b[43m,\u001b[49m\n\u001b[1;32m     24\u001b[0m \u001b[43m        \u001b[49m\u001b[43mproject_details\u001b[49m\u001b[43m[\u001b[49m\u001b[38;5;124;43m'\u001b[39;49m\u001b[38;5;124;43mparser\u001b[39;49m\u001b[38;5;124;43m'\u001b[39;49m\u001b[43m]\u001b[49m\u001b[43m,\u001b[49m\n\u001b[1;32m     25\u001b[0m \u001b[43m        \u001b[49m\u001b[43mproject_details\u001b[49m\u001b[43m[\u001b[49m\u001b[38;5;124;43m'\u001b[39;49m\u001b[38;5;124;43mhierarchy\u001b[39;49m\u001b[38;5;124;43m'\u001b[39;49m\u001b[43m]\u001b[49m\u001b[43m,\u001b[49m\n\u001b[1;32m     26\u001b[0m \u001b[43m        \u001b[49m\u001b[43mproject_details\u001b[49m\u001b[43m[\u001b[49m\u001b[38;5;124;43m'\u001b[39;49m\u001b[38;5;124;43mattributes\u001b[39;49m\u001b[38;5;124;43m'\u001b[39;49m\u001b[43m]\u001b[49m\u001b[43m,\u001b[49m\n\u001b[1;32m     27\u001b[0m \u001b[43m        \u001b[49m\u001b[43mproject_details\u001b[49m\u001b[43m[\u001b[49m\u001b[38;5;124;43m'\u001b[39;49m\u001b[38;5;124;43mgroup\u001b[39;49m\u001b[38;5;124;43m'\u001b[39;49m\u001b[43m]\u001b[49m\u001b[43m,\u001b[49m\n\u001b[1;32m     28\u001b[0m \u001b[43m        \u001b[49m\u001b[43mproject_details\u001b[49m\u001b[43m[\u001b[49m\u001b[38;5;124;43m'\u001b[39;49m\u001b[38;5;124;43mgeometry\u001b[39;49m\u001b[38;5;124;43m'\u001b[39;49m\u001b[43m]\u001b[49m\u001b[43m,\u001b[49m\n\u001b[1;32m     29\u001b[0m \u001b[43m        \u001b[49m\u001b[43mproject_details\u001b[49m\u001b[43m[\u001b[49m\u001b[38;5;124;43m'\u001b[39;49m\u001b[38;5;124;43mtopology\u001b[39;49m\u001b[38;5;124;43m'\u001b[39;49m\u001b[43m]\u001b[49m\u001b[43m,\u001b[49m\n\u001b[1;32m     30\u001b[0m \u001b[43m        \u001b[49m\u001b[43mbin_center\u001b[49m\u001b[38;5;241;43m=\u001b[39;49m\u001b[43mbin_center\u001b[49m\u001b[43m,\u001b[49m\n\u001b[1;32m     31\u001b[0m \u001b[43m        \u001b[49m\u001b[43mnormalize\u001b[49m\u001b[38;5;241;43m=\u001b[39;49m\u001b[38;5;28;43;01mTrue\u001b[39;49;00m\u001b[43m,\u001b[49m\n\u001b[1;32m     32\u001b[0m \u001b[43m        \u001b[49m\u001b[43mdivisor\u001b[49m\u001b[38;5;241;43m=\u001b[39;49m\u001b[43mproject_details\u001b[49m\u001b[43m[\u001b[49m\u001b[38;5;124;43m'\u001b[39;49m\u001b[38;5;124;43mdivisor\u001b[39;49m\u001b[38;5;124;43m'\u001b[39;49m\u001b[43m]\u001b[49m\u001b[43m,\u001b[49m\n\u001b[1;32m     33\u001b[0m \u001b[43m        \u001b[49m\u001b[43mis_save\u001b[49m\u001b[43m \u001b[49m\u001b[38;5;241;43m=\u001b[39;49m\u001b[43m \u001b[49m\u001b[38;5;28;43;01mFalse\u001b[39;49;00m\n\u001b[1;32m     34\u001b[0m \u001b[43m    \u001b[49m\u001b[43m)\u001b[49m\n\u001b[1;32m     35\u001b[0m     ens_avgs\u001b[38;5;241m.\u001b[39mappend(ens_avg)\n\u001b[1;32m     36\u001b[0m ens_avgs \u001b[38;5;241m=\u001b[39m pd\u001b[38;5;241m.\u001b[39mconcat(ens_avgs,axis\u001b[38;5;241m=\u001b[39m\u001b[38;5;241m0\u001b[39m)\n",
      "File \u001b[0;32m~/Library/CloudStorage/OneDrive-UniversityofWaterloo/PhD Research/Jupyter/PolyPhys/polyphys/manage/organizer.py:1597\u001b[0m, in \u001b[0;36mspace_hists\u001b[0;34m(input_database, property_, parser, hierarchy, physical_attrs, group, geometry, topology, bin_center, normalize, divisor, round_to, is_save)\u001b[0m\n\u001b[1;32m   1594\u001b[0m     ens_avg[\u001b[38;5;124m'\u001b[39m\u001b[38;5;124mphi_c_bulk_round\u001b[39m\u001b[38;5;124m'\u001b[39m] \u001b[38;5;241m=\u001b[39m ens_avg[\u001b[38;5;124m'\u001b[39m\u001b[38;5;124mphi_c_bulk\u001b[39m\u001b[38;5;124m'\u001b[39m]\u001b[38;5;241m.\u001b[39mapply(\n\u001b[1;32m   1595\u001b[0m         round_up_nearest, args\u001b[38;5;241m=\u001b[39m[divisor, round_to])\n\u001b[1;32m   1596\u001b[0m     property_db\u001b[38;5;241m.\u001b[39mappend(ens_avg)\n\u001b[0;32m-> 1597\u001b[0m property_db \u001b[38;5;241m=\u001b[39m \u001b[43mpd\u001b[49m\u001b[38;5;241;43m.\u001b[39;49m\u001b[43mconcat\u001b[49m\u001b[43m(\u001b[49m\u001b[43mproperty_db\u001b[49m\u001b[43m,\u001b[49m\u001b[43m \u001b[49m\u001b[43maxis\u001b[49m\u001b[38;5;241;43m=\u001b[39;49m\u001b[38;5;241;43m0\u001b[39;49m\u001b[43m)\u001b[49m\n\u001b[1;32m   1598\u001b[0m property_db\u001b[38;5;241m.\u001b[39mreset_index(inplace\u001b[38;5;241m=\u001b[39m\u001b[38;5;28;01mTrue\u001b[39;00m, drop\u001b[38;5;241m=\u001b[39m\u001b[38;5;28;01mTrue\u001b[39;00m)\n\u001b[1;32m   1599\u001b[0m \u001b[38;5;28;01mif\u001b[39;00m is_save \u001b[38;5;129;01mis\u001b[39;00m \u001b[38;5;129;01mnot\u001b[39;00m \u001b[38;5;28;01mFalse\u001b[39;00m:\n",
      "File \u001b[0;32m~/miniconda3/envs/polylab/lib/python3.11/site-packages/pandas/core/reshape/concat.py:382\u001b[0m, in \u001b[0;36mconcat\u001b[0;34m(objs, axis, join, ignore_index, keys, levels, names, verify_integrity, sort, copy)\u001b[0m\n\u001b[1;32m    379\u001b[0m \u001b[38;5;28;01melif\u001b[39;00m copy \u001b[38;5;129;01mand\u001b[39;00m using_copy_on_write():\n\u001b[1;32m    380\u001b[0m     copy \u001b[38;5;241m=\u001b[39m \u001b[38;5;28;01mFalse\u001b[39;00m\n\u001b[0;32m--> 382\u001b[0m op \u001b[38;5;241m=\u001b[39m \u001b[43m_Concatenator\u001b[49m\u001b[43m(\u001b[49m\n\u001b[1;32m    383\u001b[0m \u001b[43m    \u001b[49m\u001b[43mobjs\u001b[49m\u001b[43m,\u001b[49m\n\u001b[1;32m    384\u001b[0m \u001b[43m    \u001b[49m\u001b[43maxis\u001b[49m\u001b[38;5;241;43m=\u001b[39;49m\u001b[43maxis\u001b[49m\u001b[43m,\u001b[49m\n\u001b[1;32m    385\u001b[0m \u001b[43m    \u001b[49m\u001b[43mignore_index\u001b[49m\u001b[38;5;241;43m=\u001b[39;49m\u001b[43mignore_index\u001b[49m\u001b[43m,\u001b[49m\n\u001b[1;32m    386\u001b[0m \u001b[43m    \u001b[49m\u001b[43mjoin\u001b[49m\u001b[38;5;241;43m=\u001b[39;49m\u001b[43mjoin\u001b[49m\u001b[43m,\u001b[49m\n\u001b[1;32m    387\u001b[0m \u001b[43m    \u001b[49m\u001b[43mkeys\u001b[49m\u001b[38;5;241;43m=\u001b[39;49m\u001b[43mkeys\u001b[49m\u001b[43m,\u001b[49m\n\u001b[1;32m    388\u001b[0m \u001b[43m    \u001b[49m\u001b[43mlevels\u001b[49m\u001b[38;5;241;43m=\u001b[39;49m\u001b[43mlevels\u001b[49m\u001b[43m,\u001b[49m\n\u001b[1;32m    389\u001b[0m \u001b[43m    \u001b[49m\u001b[43mnames\u001b[49m\u001b[38;5;241;43m=\u001b[39;49m\u001b[43mnames\u001b[49m\u001b[43m,\u001b[49m\n\u001b[1;32m    390\u001b[0m \u001b[43m    \u001b[49m\u001b[43mverify_integrity\u001b[49m\u001b[38;5;241;43m=\u001b[39;49m\u001b[43mverify_integrity\u001b[49m\u001b[43m,\u001b[49m\n\u001b[1;32m    391\u001b[0m \u001b[43m    \u001b[49m\u001b[43mcopy\u001b[49m\u001b[38;5;241;43m=\u001b[39;49m\u001b[43mcopy\u001b[49m\u001b[43m,\u001b[49m\n\u001b[1;32m    392\u001b[0m \u001b[43m    \u001b[49m\u001b[43msort\u001b[49m\u001b[38;5;241;43m=\u001b[39;49m\u001b[43msort\u001b[49m\u001b[43m,\u001b[49m\n\u001b[1;32m    393\u001b[0m \u001b[43m\u001b[49m\u001b[43m)\u001b[49m\n\u001b[1;32m    395\u001b[0m \u001b[38;5;28;01mreturn\u001b[39;00m op\u001b[38;5;241m.\u001b[39mget_result()\n",
      "File \u001b[0;32m~/miniconda3/envs/polylab/lib/python3.11/site-packages/pandas/core/reshape/concat.py:445\u001b[0m, in \u001b[0;36m_Concatenator.__init__\u001b[0;34m(self, objs, axis, join, keys, levels, names, ignore_index, verify_integrity, copy, sort)\u001b[0m\n\u001b[1;32m    442\u001b[0m \u001b[38;5;28mself\u001b[39m\u001b[38;5;241m.\u001b[39mverify_integrity \u001b[38;5;241m=\u001b[39m verify_integrity\n\u001b[1;32m    443\u001b[0m \u001b[38;5;28mself\u001b[39m\u001b[38;5;241m.\u001b[39mcopy \u001b[38;5;241m=\u001b[39m copy\n\u001b[0;32m--> 445\u001b[0m objs, keys \u001b[38;5;241m=\u001b[39m \u001b[38;5;28;43mself\u001b[39;49m\u001b[38;5;241;43m.\u001b[39;49m\u001b[43m_clean_keys_and_objs\u001b[49m\u001b[43m(\u001b[49m\u001b[43mobjs\u001b[49m\u001b[43m,\u001b[49m\u001b[43m \u001b[49m\u001b[43mkeys\u001b[49m\u001b[43m)\u001b[49m\n\u001b[1;32m    447\u001b[0m \u001b[38;5;66;03m# figure out what our result ndim is going to be\u001b[39;00m\n\u001b[1;32m    448\u001b[0m ndims \u001b[38;5;241m=\u001b[39m \u001b[38;5;28mself\u001b[39m\u001b[38;5;241m.\u001b[39m_get_ndims(objs)\n",
      "File \u001b[0;32m~/miniconda3/envs/polylab/lib/python3.11/site-packages/pandas/core/reshape/concat.py:507\u001b[0m, in \u001b[0;36m_Concatenator._clean_keys_and_objs\u001b[0;34m(self, objs, keys)\u001b[0m\n\u001b[1;32m    504\u001b[0m     objs_list \u001b[38;5;241m=\u001b[39m \u001b[38;5;28mlist\u001b[39m(objs)\n\u001b[1;32m    506\u001b[0m \u001b[38;5;28;01mif\u001b[39;00m \u001b[38;5;28mlen\u001b[39m(objs_list) \u001b[38;5;241m==\u001b[39m \u001b[38;5;241m0\u001b[39m:\n\u001b[0;32m--> 507\u001b[0m     \u001b[38;5;28;01mraise\u001b[39;00m \u001b[38;5;167;01mValueError\u001b[39;00m(\u001b[38;5;124m\"\u001b[39m\u001b[38;5;124mNo objects to concatenate\u001b[39m\u001b[38;5;124m\"\u001b[39m)\n\u001b[1;32m    509\u001b[0m \u001b[38;5;28;01mif\u001b[39;00m keys \u001b[38;5;129;01mis\u001b[39;00m \u001b[38;5;28;01mNone\u001b[39;00m:\n\u001b[1;32m    510\u001b[0m     objs_list \u001b[38;5;241m=\u001b[39m \u001b[38;5;28mlist\u001b[39m(com\u001b[38;5;241m.\u001b[39mnot_none(\u001b[38;5;241m*\u001b[39mobjs_list))\n",
      "\u001b[0;31mValueError\u001b[0m: No objects to concatenate"
     ]
    }
   ],
   "source": [
    "phase = 'ensAvg'\n",
    "space_dbs = glob(analysis_db + project_details['space_pat'])\n",
    "ens_avg_space_dbs = [\n",
    "    space_db + \"/\" for space_db in space_dbs if space_db.endswith(\n",
    "        project_details['group'] + '-' + phase\n",
    "    )\n",
    "]\n",
    "print(ens_avg_space_dbs)\n",
    "\n",
    "nmon_large = 5\n",
    "hist_t_foci_bin_centers = {\n",
    "   'bondsHistFoci': np.arange(nmon_large),\n",
    "   'clustersHistFoci': np.arange(1, nmon_large + 1)\n",
    "}\n",
    "# Separate dataset for bonds and clusters per\n",
    "for prop, bin_center in hist_t_foci_bin_centers.items():\n",
    "    ens_avgs = list()\n",
    "    for ens_avg_space_db in ens_avg_space_dbs:\n",
    "        print(ens_avg_space_db)\n",
    "        space = ens_avg_space_db.split('/')[-2].split('-')[0]\n",
    "        ens_avg = organizer.space_hists(\n",
    "            ens_avg_space_db,\n",
    "            prop,\n",
    "            project_details['parser'],\n",
    "            project_details['hierarchy'],\n",
    "            project_details['attributes'],\n",
    "            project_details['group'],\n",
    "            project_details['geometry'],\n",
    "            project_details['topology'],\n",
    "            bin_center=bin_center,\n",
    "            normalize=True,\n",
    "            divisor=project_details['divisor'],\n",
    "            is_save = False\n",
    "        )\n",
    "        ens_avgs.append(ens_avg)\n",
    "    ens_avgs = pd.concat(ens_avgs,axis=0)\n",
    "    # drop duplicated columns:\n",
    "    ens_avgs = ens_avgs.loc[:, ~ens_avgs.columns.duplicated()]\n",
    "    ens_avgs.reset_index(inplace=True, drop=True)\n",
    "    output =  \"-\".join(['allInOne', project, project_details['group'], prop + \".parquet.brotli\"])\n",
    "    output = analysis_db + output\n",
    "    ens_avgs.to_parquet(output, index=False, compression='brotli')"
   ]
  },
  {
   "cell_type": "markdown",
   "metadata": {},
   "source": [
    "## Clusters and bonds per project: HnsCyl\n",
    "\n",
    "- Applicable to any project in which clustering happens such as **HnsCub**, **TransFociCub**,and **TransFociCyl**.\n",
    "- The histograms of **Clusters** and **bonds** can **not** be combined in **one** dataset.\n",
    "- Since **per project** datasets are small, we create **one** per project dataset for each property."
   ]
  },
  {
   "cell_type": "code",
   "execution_count": null,
   "metadata": {},
   "outputs": [],
   "source": [
    "phase = 'ensAvg'\n",
    "space_dbs = glob(analysis_db + project_details['space_pat'])\n",
    "ens_avg_space_dbs = sorted([\n",
    "    space_db + \"/\" for space_db in space_dbs if space_db.endswith(\n",
    "        project_details['group'] + '-' + phase\n",
    "    )\n",
    "])\n",
    "#print(ens_avg_space_dbs)\n",
    "func_bin_center = {\n",
    "        'bondsHistHnsCore': lambda x: np.arange(x),\n",
    "        'clustersHistHnsCore': lambda x: np.arange(1, x + 1),\n",
    "        'bondsHistDirDepHnsCore': lambda x: np.arange(x),\n",
    "        'clustersHistDirDepHnsCore': lambda x: np.arange(1, x + 1),\n",
    "        'bondsHistDangleHnsCore': lambda x: np.arange(x),\n",
    "        'clustersHistDangleHnsCore': lambda x: np.arange(1, x + 1),\n",
    "        'bondsHistBridgeHnsCore': lambda x: np.arange(x),\n",
    "        'clustersHistBridgeHnsCore': lambda x: np.arange(1, x + 1)\n",
    "        }\n",
    "# Separate dataset for bonds and clusters per\n",
    "for prop, func in func_bin_center.items():\n",
    "    ens_avgs = list()\n",
    "    for ens_avg_space_db in ens_avg_space_dbs:\n",
    "        space = ens_avg_space_db.split('/')[-2].split('-')[0]\n",
    "        space_info = HnsCub(\n",
    "            space, 'space', 'cubic', 'nucleoid', 'ring', ispath=False\n",
    "            )\n",
    "        if space_info.nhns == 0:\n",
    "            bin_centers = func(space_info.nhns)\n",
    "        else:\n",
    "            bin_centers = func(space_info.nhns)\n",
    "        print(\"ATTENTION: normalized is False.\")\n",
    "        ens_avg = organizer.space_hists(\n",
    "            ens_avg_space_db,\n",
    "            prop,\n",
    "            project_details['parser'],\n",
    "            project_details['hierarchy'],\n",
    "            project_details['attributes'],\n",
    "            project_details['group'],\n",
    "            project_details['geometry'],\n",
    "            project_details['topology'],\n",
    "            bin_center=bin_centers,\n",
    "            normalize=False,\n",
    "            divisor=project_details['divisor'],\n",
    "            is_save = False\n",
    "        )\n",
    "        ens_avgs.append(ens_avg)\n",
    "    ens_avgs = pd.concat(ens_avgs,axis=0)\n",
    "    # drop duplicated columns:\n",
    "    ens_avgs = ens_avgs.loc[:, ~ens_avgs.columns.duplicated()]\n",
    "    ens_avgs.reset_index(inplace=True, drop=True)\n",
    "    output =  \"-\".join(['allInOne', project, project_details['group'], prop + \".parquet.brotli\"])\n",
    "    output = analysis_db + output\n",
    "    ens_avgs.to_parquet(output, index=False, compression='brotli')"
   ]
  },
  {
   "cell_type": "markdown",
   "id": "8c1f988b",
   "metadata": {
    "jp-MarkdownHeadingCollapsed": true,
    "tags": []
   },
   "source": [
    "## TransFoci and HnsCub Projects: Pair Distance Statistics per project: **bug** or **nuceloid** groups\n",
    "\n",
    "- Applicable to any project in which oair distance matters such as **HnsCub**, **TransFociCub**,and **TransFociCyl**.\n",
    "- These **properties** can be **combined** in one file per project.\n",
    "- Since **per project** datasets are small, we create **one** per project dataset for **all** properties."
   ]
  },
  {
   "cell_type": "code",
   "execution_count": 12,
   "id": "4d009009",
   "metadata": {},
   "outputs": [
    {
     "name": "stdout",
     "output_type": "stream",
     "text": [
      "['/Users/amirhsi/research_data/SumRuleCubHeteroLinear-analysis/ns400nl5al1ac1-bug-ensAvg/']\n"
     ]
    },
    {
     "ename": "ValueError",
     "evalue": "No objects to concatenate",
     "output_type": "error",
     "traceback": [
      "\u001b[0;31m---------------------------------------------------------------------------\u001b[0m",
      "\u001b[0;31mValueError\u001b[0m                                Traceback (most recent call last)",
      "Cell \u001b[0;32mIn[12], line 16\u001b[0m\n\u001b[1;32m     14\u001b[0m \u001b[38;5;28;01mfor\u001b[39;00m ens_avg_space_db \u001b[38;5;129;01min\u001b[39;00m ens_avg_space_dbs:\n\u001b[1;32m     15\u001b[0m     space \u001b[38;5;241m=\u001b[39m ens_avg_space_db\u001b[38;5;241m.\u001b[39msplit(\u001b[38;5;124m'\u001b[39m\u001b[38;5;124m/\u001b[39m\u001b[38;5;124m'\u001b[39m)[\u001b[38;5;241m-\u001b[39m\u001b[38;5;241m2\u001b[39m]\u001b[38;5;241m.\u001b[39msplit(\u001b[38;5;124m'\u001b[39m\u001b[38;5;124m-\u001b[39m\u001b[38;5;124m'\u001b[39m)[\u001b[38;5;241m0\u001b[39m]\n\u001b[0;32m---> 16\u001b[0m     ens_avg \u001b[38;5;241m=\u001b[39m \u001b[43morganizer\u001b[49m\u001b[38;5;241;43m.\u001b[39;49m\u001b[43mspace_hists\u001b[49m\u001b[43m(\u001b[49m\n\u001b[1;32m     17\u001b[0m \u001b[43m        \u001b[49m\u001b[43mens_avg_space_db\u001b[49m\u001b[43m,\u001b[49m\n\u001b[1;32m     18\u001b[0m \u001b[43m        \u001b[49m\u001b[43mprop\u001b[49m\u001b[43m,\u001b[49m\n\u001b[1;32m     19\u001b[0m \u001b[43m        \u001b[49m\u001b[43mproject_details\u001b[49m\u001b[43m[\u001b[49m\u001b[38;5;124;43m'\u001b[39;49m\u001b[38;5;124;43mparser\u001b[39;49m\u001b[38;5;124;43m'\u001b[39;49m\u001b[43m]\u001b[49m\u001b[43m,\u001b[49m\n\u001b[1;32m     20\u001b[0m \u001b[43m        \u001b[49m\u001b[43mproject_details\u001b[49m\u001b[43m[\u001b[49m\u001b[38;5;124;43m'\u001b[39;49m\u001b[38;5;124;43mhierarchy\u001b[39;49m\u001b[38;5;124;43m'\u001b[39;49m\u001b[43m]\u001b[49m\u001b[43m,\u001b[49m\n\u001b[1;32m     21\u001b[0m \u001b[43m        \u001b[49m\u001b[43mproject_details\u001b[49m\u001b[43m[\u001b[49m\u001b[38;5;124;43m'\u001b[39;49m\u001b[38;5;124;43mattributes\u001b[39;49m\u001b[38;5;124;43m'\u001b[39;49m\u001b[43m]\u001b[49m\u001b[43m,\u001b[49m\n\u001b[1;32m     22\u001b[0m \u001b[43m        \u001b[49m\u001b[43mproject_details\u001b[49m\u001b[43m[\u001b[49m\u001b[38;5;124;43m'\u001b[39;49m\u001b[38;5;124;43mgroup\u001b[39;49m\u001b[38;5;124;43m'\u001b[39;49m\u001b[43m]\u001b[49m\u001b[43m,\u001b[49m\n\u001b[1;32m     23\u001b[0m \u001b[43m        \u001b[49m\u001b[43mproject_details\u001b[49m\u001b[43m[\u001b[49m\u001b[38;5;124;43m'\u001b[39;49m\u001b[38;5;124;43mgeometry\u001b[39;49m\u001b[38;5;124;43m'\u001b[39;49m\u001b[43m]\u001b[49m\u001b[43m,\u001b[49m\n\u001b[1;32m     24\u001b[0m \u001b[43m        \u001b[49m\u001b[43mproject_details\u001b[49m\u001b[43m[\u001b[49m\u001b[38;5;124;43m'\u001b[39;49m\u001b[38;5;124;43mtopology\u001b[39;49m\u001b[38;5;124;43m'\u001b[39;49m\u001b[43m]\u001b[49m\u001b[43m,\u001b[49m\n\u001b[1;32m     25\u001b[0m \u001b[43m        \u001b[49m\u001b[43mbin_center\u001b[49m\u001b[38;5;241;43m=\u001b[39;49m\u001b[38;5;28;43;01mNone\u001b[39;49;00m\u001b[43m,\u001b[49m\n\u001b[1;32m     26\u001b[0m \u001b[43m        \u001b[49m\u001b[43mnormalize\u001b[49m\u001b[38;5;241;43m=\u001b[39;49m\u001b[38;5;28;43;01mFalse\u001b[39;49;00m\u001b[43m,\u001b[49m\n\u001b[1;32m     27\u001b[0m \u001b[43m        \u001b[49m\u001b[43mis_save\u001b[49m\u001b[38;5;241;43m=\u001b[39;49m\u001b[38;5;28;43;01mFalse\u001b[39;49;00m\n\u001b[1;32m     28\u001b[0m \u001b[43m    \u001b[49m\u001b[43m)\u001b[49m\n\u001b[1;32m     29\u001b[0m     prop_ens_avgs\u001b[38;5;241m.\u001b[39mappend(ens_avg)\n\u001b[1;32m     30\u001b[0m prop_ens_avgs \u001b[38;5;241m=\u001b[39m pd\u001b[38;5;241m.\u001b[39mconcat(prop_ens_avgs,axis\u001b[38;5;241m=\u001b[39m\u001b[38;5;241m0\u001b[39m)\n",
      "File \u001b[0;32m~/Library/CloudStorage/OneDrive-UniversityofWaterloo/PhD Research/Jupyter/PolyPhys/polyphys/manage/organizer.py:1597\u001b[0m, in \u001b[0;36mspace_hists\u001b[0;34m(input_database, property_, parser, hierarchy, physical_attrs, group, geometry, topology, bin_center, normalize, divisor, round_to, is_save)\u001b[0m\n\u001b[1;32m   1594\u001b[0m     ens_avg[\u001b[38;5;124m'\u001b[39m\u001b[38;5;124mphi_c_bulk_round\u001b[39m\u001b[38;5;124m'\u001b[39m] \u001b[38;5;241m=\u001b[39m ens_avg[\u001b[38;5;124m'\u001b[39m\u001b[38;5;124mphi_c_bulk\u001b[39m\u001b[38;5;124m'\u001b[39m]\u001b[38;5;241m.\u001b[39mapply(\n\u001b[1;32m   1595\u001b[0m         round_up_nearest, args\u001b[38;5;241m=\u001b[39m[divisor, round_to])\n\u001b[1;32m   1596\u001b[0m     property_db\u001b[38;5;241m.\u001b[39mappend(ens_avg)\n\u001b[0;32m-> 1597\u001b[0m property_db \u001b[38;5;241m=\u001b[39m \u001b[43mpd\u001b[49m\u001b[38;5;241;43m.\u001b[39;49m\u001b[43mconcat\u001b[49m\u001b[43m(\u001b[49m\u001b[43mproperty_db\u001b[49m\u001b[43m,\u001b[49m\u001b[43m \u001b[49m\u001b[43maxis\u001b[49m\u001b[38;5;241;43m=\u001b[39;49m\u001b[38;5;241;43m0\u001b[39;49m\u001b[43m)\u001b[49m\n\u001b[1;32m   1598\u001b[0m property_db\u001b[38;5;241m.\u001b[39mreset_index(inplace\u001b[38;5;241m=\u001b[39m\u001b[38;5;28;01mTrue\u001b[39;00m, drop\u001b[38;5;241m=\u001b[39m\u001b[38;5;28;01mTrue\u001b[39;00m)\n\u001b[1;32m   1599\u001b[0m \u001b[38;5;28;01mif\u001b[39;00m is_save \u001b[38;5;129;01mis\u001b[39;00m \u001b[38;5;129;01mnot\u001b[39;00m \u001b[38;5;28;01mFalse\u001b[39;00m:\n",
      "File \u001b[0;32m~/miniconda3/envs/polylab/lib/python3.11/site-packages/pandas/core/reshape/concat.py:382\u001b[0m, in \u001b[0;36mconcat\u001b[0;34m(objs, axis, join, ignore_index, keys, levels, names, verify_integrity, sort, copy)\u001b[0m\n\u001b[1;32m    379\u001b[0m \u001b[38;5;28;01melif\u001b[39;00m copy \u001b[38;5;129;01mand\u001b[39;00m using_copy_on_write():\n\u001b[1;32m    380\u001b[0m     copy \u001b[38;5;241m=\u001b[39m \u001b[38;5;28;01mFalse\u001b[39;00m\n\u001b[0;32m--> 382\u001b[0m op \u001b[38;5;241m=\u001b[39m \u001b[43m_Concatenator\u001b[49m\u001b[43m(\u001b[49m\n\u001b[1;32m    383\u001b[0m \u001b[43m    \u001b[49m\u001b[43mobjs\u001b[49m\u001b[43m,\u001b[49m\n\u001b[1;32m    384\u001b[0m \u001b[43m    \u001b[49m\u001b[43maxis\u001b[49m\u001b[38;5;241;43m=\u001b[39;49m\u001b[43maxis\u001b[49m\u001b[43m,\u001b[49m\n\u001b[1;32m    385\u001b[0m \u001b[43m    \u001b[49m\u001b[43mignore_index\u001b[49m\u001b[38;5;241;43m=\u001b[39;49m\u001b[43mignore_index\u001b[49m\u001b[43m,\u001b[49m\n\u001b[1;32m    386\u001b[0m \u001b[43m    \u001b[49m\u001b[43mjoin\u001b[49m\u001b[38;5;241;43m=\u001b[39;49m\u001b[43mjoin\u001b[49m\u001b[43m,\u001b[49m\n\u001b[1;32m    387\u001b[0m \u001b[43m    \u001b[49m\u001b[43mkeys\u001b[49m\u001b[38;5;241;43m=\u001b[39;49m\u001b[43mkeys\u001b[49m\u001b[43m,\u001b[49m\n\u001b[1;32m    388\u001b[0m \u001b[43m    \u001b[49m\u001b[43mlevels\u001b[49m\u001b[38;5;241;43m=\u001b[39;49m\u001b[43mlevels\u001b[49m\u001b[43m,\u001b[49m\n\u001b[1;32m    389\u001b[0m \u001b[43m    \u001b[49m\u001b[43mnames\u001b[49m\u001b[38;5;241;43m=\u001b[39;49m\u001b[43mnames\u001b[49m\u001b[43m,\u001b[49m\n\u001b[1;32m    390\u001b[0m \u001b[43m    \u001b[49m\u001b[43mverify_integrity\u001b[49m\u001b[38;5;241;43m=\u001b[39;49m\u001b[43mverify_integrity\u001b[49m\u001b[43m,\u001b[49m\n\u001b[1;32m    391\u001b[0m \u001b[43m    \u001b[49m\u001b[43mcopy\u001b[49m\u001b[38;5;241;43m=\u001b[39;49m\u001b[43mcopy\u001b[49m\u001b[43m,\u001b[49m\n\u001b[1;32m    392\u001b[0m \u001b[43m    \u001b[49m\u001b[43msort\u001b[49m\u001b[38;5;241;43m=\u001b[39;49m\u001b[43msort\u001b[49m\u001b[43m,\u001b[49m\n\u001b[1;32m    393\u001b[0m \u001b[43m\u001b[49m\u001b[43m)\u001b[49m\n\u001b[1;32m    395\u001b[0m \u001b[38;5;28;01mreturn\u001b[39;00m op\u001b[38;5;241m.\u001b[39mget_result()\n",
      "File \u001b[0;32m~/miniconda3/envs/polylab/lib/python3.11/site-packages/pandas/core/reshape/concat.py:445\u001b[0m, in \u001b[0;36m_Concatenator.__init__\u001b[0;34m(self, objs, axis, join, keys, levels, names, ignore_index, verify_integrity, copy, sort)\u001b[0m\n\u001b[1;32m    442\u001b[0m \u001b[38;5;28mself\u001b[39m\u001b[38;5;241m.\u001b[39mverify_integrity \u001b[38;5;241m=\u001b[39m verify_integrity\n\u001b[1;32m    443\u001b[0m \u001b[38;5;28mself\u001b[39m\u001b[38;5;241m.\u001b[39mcopy \u001b[38;5;241m=\u001b[39m copy\n\u001b[0;32m--> 445\u001b[0m objs, keys \u001b[38;5;241m=\u001b[39m \u001b[38;5;28;43mself\u001b[39;49m\u001b[38;5;241;43m.\u001b[39;49m\u001b[43m_clean_keys_and_objs\u001b[49m\u001b[43m(\u001b[49m\u001b[43mobjs\u001b[49m\u001b[43m,\u001b[49m\u001b[43m \u001b[49m\u001b[43mkeys\u001b[49m\u001b[43m)\u001b[49m\n\u001b[1;32m    447\u001b[0m \u001b[38;5;66;03m# figure out what our result ndim is going to be\u001b[39;00m\n\u001b[1;32m    448\u001b[0m ndims \u001b[38;5;241m=\u001b[39m \u001b[38;5;28mself\u001b[39m\u001b[38;5;241m.\u001b[39m_get_ndims(objs)\n",
      "File \u001b[0;32m~/miniconda3/envs/polylab/lib/python3.11/site-packages/pandas/core/reshape/concat.py:507\u001b[0m, in \u001b[0;36m_Concatenator._clean_keys_and_objs\u001b[0;34m(self, objs, keys)\u001b[0m\n\u001b[1;32m    504\u001b[0m     objs_list \u001b[38;5;241m=\u001b[39m \u001b[38;5;28mlist\u001b[39m(objs)\n\u001b[1;32m    506\u001b[0m \u001b[38;5;28;01mif\u001b[39;00m \u001b[38;5;28mlen\u001b[39m(objs_list) \u001b[38;5;241m==\u001b[39m \u001b[38;5;241m0\u001b[39m:\n\u001b[0;32m--> 507\u001b[0m     \u001b[38;5;28;01mraise\u001b[39;00m \u001b[38;5;167;01mValueError\u001b[39;00m(\u001b[38;5;124m\"\u001b[39m\u001b[38;5;124mNo objects to concatenate\u001b[39m\u001b[38;5;124m\"\u001b[39m)\n\u001b[1;32m    509\u001b[0m \u001b[38;5;28;01mif\u001b[39;00m keys \u001b[38;5;129;01mis\u001b[39;00m \u001b[38;5;28;01mNone\u001b[39;00m:\n\u001b[1;32m    510\u001b[0m     objs_list \u001b[38;5;241m=\u001b[39m \u001b[38;5;28mlist\u001b[39m(com\u001b[38;5;241m.\u001b[39mnot_none(\u001b[38;5;241m*\u001b[39mobjs_list))\n",
      "\u001b[0;31mValueError\u001b[0m: No objects to concatenate"
     ]
    }
   ],
   "source": [
    "phase = 'ensAvg'\n",
    "space_dbs = glob(analysis_db + project_details['space_pat'])\n",
    "ens_avg_space_dbs = [\n",
    "    space_db + \"/\" for space_db in space_dbs if space_db.endswith(\n",
    "        project_details['group'] + '-' + phase\n",
    "    )\n",
    "]\n",
    "print(ens_avg_space_dbs)\n",
    "hist_foci_props = ['pairDistHistFoci', 'pairDistRdfFoci']\n",
    "# One per-project database for both property since they are small and related\n",
    "project_ens_avgs = []\n",
    "for prop in hist_foci_props:\n",
    "    prop_ens_avgs = list()\n",
    "    for ens_avg_space_db in ens_avg_space_dbs:\n",
    "        space = ens_avg_space_db.split('/')[-2].split('-')[0]\n",
    "        ens_avg = organizer.space_hists(\n",
    "            ens_avg_space_db,\n",
    "            prop,\n",
    "            project_details['parser'],\n",
    "            project_details['hierarchy'],\n",
    "            project_details['attributes'],\n",
    "            project_details['group'],\n",
    "            project_details['geometry'],\n",
    "            project_details['topology'],\n",
    "            bin_center=None,\n",
    "            normalize=False,\n",
    "            is_save=False\n",
    "        )\n",
    "        prop_ens_avgs.append(ens_avg)\n",
    "    prop_ens_avgs = pd.concat(prop_ens_avgs,axis=0)\n",
    "    # drop duplicated columns:\n",
    "    prop_ens_avgs = prop_ens_avgs.loc[:, ~prop_ens_avgs.columns.duplicated()]\n",
    "    prop_ens_avgs.reset_index(inplace=True, drop=True)\n",
    "    project_ens_avgs.append(prop_ens_avgs)\n",
    "project_ens_avgs = pd.concat(project_ens_avgs,axis=1)\n",
    "# drop duplicated columns:\n",
    "project_ens_avgs = project_ens_avgs.loc[:, ~project_ens_avgs.columns.duplicated()]\n",
    "project_ens_avgs.reset_index(inplace=True, drop=True)\n",
    "output = '-'.join(\n",
    "    ['allInOne', project, project_details['group'], 'pairDistStats.parquet.brotli']\n",
    ")\n",
    "output = analysis_db + output\n",
    "project_ens_avgs.to_parquet(output, index=False, compression='brotli')\n"
   ]
  },
  {
   "cell_type": "markdown",
   "id": "3e801139-3250-4ee2-bcdb-ec412aadf688",
   "metadata": {
    "tags": []
   },
   "source": [
    "## Spatial Distributions and the sum rule: **all** group\n",
    "\n",
    "- Finding the spatial histogram, number density, and local volume fraction in different geometries."
   ]
  },
  {
   "cell_type": "markdown",
   "id": "49d10a90-39c3-417e-870d-1551c2d42c07",
   "metadata": {
    "jp-MarkdownHeadingCollapsed": true,
    "tags": []
   },
   "source": [
    "### NOT needed: allInOne Local Distributions: \n",
    "\n",
    "- ensAvg of Hists, Rhos, Phis with var and sem per project: Do not need to run this as the information already exist in the \"allIneOne Sum-Rule\" section"
   ]
  },
  {
   "cell_type": "code",
   "execution_count": null,
   "id": "9a04ab64-afa1-45c2-8d2c-d0ab198a4c11",
   "metadata": {},
   "outputs": [],
   "source": [
    "phase = 'ensAvg'\n",
    "group = 'all'\n",
    "space_dbs = glob(analysis_db + project_details['space_pat'])\n",
    "ens_avg_space_dbs = [\n",
    "    space_db + \"/\" for space_db in space_dbs if space_db.endswith(\n",
    "       group  + '-' + phase\n",
    "    )\n",
    "]\n",
    "print(ens_avg_space_dbs)\n",
    "# list of unique properties and property_measures:\n",
    "# Local distributions do not have any property_measures:\n",
    "uniq_props, _ = organizer.unique_property(\n",
    "    ens_avg_space_dbs[0] + '*' + \\\n",
    "        project_details['hierarchy'] + '.csv',\n",
    "    2,\n",
    "    [\"-\" + phase],\n",
    "    drop_properties=[\"stamps\"])\n",
    "print(uniq_props)\n",
    "directions = ['theta', 'z', 'r']\n",
    "for direction in directions:\n",
    "    props_by_dir = [prop for prop in uniq_props if prop.startswith(direction)]\n",
    "    dir_ens_avgs = list()\n",
    "    for prop in props_by_dir:\n",
    "        prop_ens_avgs = list()\n",
    "        for ens_avg_space_db in ens_avg_space_dbs:\n",
    "            space = ens_avg_space_db.split('/')[-2].split('-')[0]\n",
    "            ens_avg = organizer.space_hists(\n",
    "                ens_avg_space_db,\n",
    "                prop,\n",
    "                project_details['parser'],\n",
    "                project_details['hierarchy'],\n",
    "                project_details['attributes'],\n",
    "                group,\n",
    "                project_details['geometry'],\n",
    "                project_details['topology'],\n",
    "                divisor = project_details['divisor'],\n",
    "                normalize=True,\n",
    "                is_save=False\n",
    "            )\n",
    "            if project in ['HnsCyl', 'HnsCub']:\n",
    "                ens_avg['phi_c_bulk_round'].replace(0.09,0.08, inplace=True)\n",
    "                ens_avg['phi_c_bulk_round'].replace(0.15,0.16, inplace=True)\n",
    "                ens_avg['phi_c_bulk_round'].replace(0.21,0.2, inplace=True)\n",
    "                ens_avg['phi_c_bulk_round'].replace(0.31,0.32, inplace=True)\n",
    "                ens_avg = \\\n",
    "                    ens_avg.loc[~ens_avg['phi_c_bulk_round'].isin([0.06, 0.18]),:]\n",
    "            elif project in ['TransFociCyl','TransFociCub']:\n",
    "                ens_avg = \\\n",
    "                    ens_avg.loc[~ens_avg['phi_c_bulk_round'].isin([0.025, 0.05, 0.075, 0.125, 0.175]),:]\n",
    "            else:\n",
    "                raise ValueError(\"The 'phi_c drop' condition is not defined for \"\n",
    "                                f\"'{project}' project.\")\n",
    "            prop_ens_avgs.append(ens_avg)\n",
    "        prop_ens_avgs = pd.concat(prop_ens_avgs,axis=0)\n",
    "        # drop duplicated columns:\n",
    "        prop_ens_avgs = \\\n",
    "            prop_ens_avgs.loc[:, ~prop_ens_avgs.columns.duplicated()]\n",
    "        prop_ens_avgs.reset_index(inplace=True, drop=True)\n",
    "        dir_ens_avgs.append(prop_ens_avgs)\n",
    "    dir_ens_avgs_df = pd.concat(dir_ens_avgs,axis=1)\n",
    "        # drop duplicated columns:\n",
    "    dir_ens_avgs_df = \\\n",
    "        dir_ens_avgs_df.loc[:, ~dir_ens_avgs_df.columns.duplicated()]\n",
    "    dir_ens_avgs_df.reset_index(inplace=True, drop=True)\n",
    "    output = analysis_db +  \"-\".join([\n",
    "        'allInOne', project,  project_details['group'],  direction + \"LocalDist.parquet.brotli\"\n",
    "    ])\n",
    "    dir_ens_avgs_df.to_parquet(output, index=False, compression='brotli')"
   ]
  },
  {
   "cell_type": "markdown",
   "id": "eb3b4672-ba7b-4453-9f4f-6827487cbd74",
   "metadata": {
    "jp-MarkdownHeadingCollapsed": true,
    "tags": []
   },
   "source": [
    "### allInONe Sum-Rule:"
   ]
  },
  {
   "cell_type": "code",
   "execution_count": 12,
   "id": "6d2b767a-56de-45d0-8d66-be721b684c32",
   "metadata": {},
   "outputs": [
    {
     "name": "stdout",
     "output_type": "stream",
     "text": [
      "['/Users/amirhsi/research_data/analysis/N2000D120.0ac6.0-all-ensAvg/']\n",
      "species_dict:  [('Mon', 'dmon'), ('Crd', 'dcrowd')]\n",
      "dir_prop_pairs:  [('Rho', 'r'), ('Rho', 'z'), ('Phi', 'r'), ('Phi', 'z')]\n"
     ]
    }
   ],
   "source": [
    "phase = 'ensAvg'\n",
    "group = 'all'\n",
    "space_dbs = glob(analysis_db + project_details['space_pat'])\n",
    "ens_avg_space_dbs = [\n",
    "    space_db + \"/\" for space_db in space_dbs if space_db.endswith(\n",
    "        group + '-' + phase\n",
    "    )\n",
    "]\n",
    "print(ens_avg_space_dbs)\n",
    "species_dict = project_details['rhosPhisNormalizedScaled']\n",
    "print('species_dict: ', project_details['rhosPhisNormalizedScaled'])\n",
    "dir_prop_pairs = list(\n",
    "    product(project_details['props'],\n",
    "            project_details['directions'])\n",
    ")\n",
    "print('dir_prop_pairs: ', dir_prop_pairs)"
   ]
  },
  {
   "cell_type": "code",
   "execution_count": 14,
   "id": "d160344e-b65b-4962-91e4-23334c3f22db",
   "metadata": {
    "tags": []
   },
   "outputs": [
    {
     "name": "stdout",
     "output_type": "stream",
     "text": [
      "The 'phi_c drop' condition is not defined for 'SumRuleCyl' project.\n",
      "The 'phi_c drop' condition is not defined for 'SumRuleCyl' project.\n",
      "The 'phi_c drop' condition is not defined for 'SumRuleCyl' project.\n",
      "The 'phi_c drop' condition is not defined for 'SumRuleCyl' project.\n",
      "The 'phi_c drop' condition is not defined for 'SumRuleCyl' project.\n",
      "The 'phi_c drop' condition is not defined for 'SumRuleCyl' project.\n",
      "The 'phi_c drop' condition is not defined for 'SumRuleCyl' project.\n",
      "The 'phi_c drop' condition is not defined for 'SumRuleCyl' project.\n"
     ]
    }
   ],
   "source": [
    "for (prop, direction) in dir_prop_pairs:\n",
    "    all_in_one_list = list()\n",
    "    for (species, size_attr) in species_dict:\n",
    "        per_species_list = list()\n",
    "        for ens_avg_space_db in ens_avg_space_dbs:\n",
    "            space = ens_avg_space_db.split('/')[-2].split('-')[0]\n",
    "            per_space = organizer.space_sum_rule(\n",
    "                ens_avg_space_db,\n",
    "                prop,\n",
    "                project_details['parser'],\n",
    "                project_details['hierarchy'],\n",
    "                project_details['attributes'],\n",
    "                species,\n",
    "                size_attr,\n",
    "                group,\n",
    "                project_details['geometry'],\n",
    "                project_details['topology'],\n",
    "                direction,\n",
    "                divisor=project_details['divisor'],\n",
    "                is_save=False\n",
    "            )\n",
    "            if project in ['HnsCyl', 'HnsCub']:\n",
    "                per_space['phi_c_bulk_round'].replace(0.09,0.08, inplace=True)\n",
    "                per_space['phi_c_bulk_round'].replace(0.15,0.16, inplace=True)\n",
    "                per_space['phi_c_bulk_round'].replace(0.21,0.2, inplace=True)\n",
    "                per_space['phi_c_bulk_round'].replace(0.31,0.32, inplace=True)\n",
    "                per_space = \\\n",
    "                    per_space.loc[~per_space['phi_c_bulk_round'].isin([0.06, 0.18]),:]\n",
    "            elif project in ['TransFociCyl','TransFociCub']:\n",
    "                per_space = \\\n",
    "                    per_space.loc[~per_space['phi_c_bulk_round'].isin([0.025, 0.05, 0.075, 0.125, 0.175]),:]\n",
    "            else:\n",
    "                print(\"The 'phi_c drop' condition is not defined for \"\n",
    "                                f\"'{project}' project.\")\n",
    "            per_species_list.append(per_space)\n",
    "        per_species = pd.concat(per_species_list,axis=0)\n",
    "        per_species = per_species.loc[:, ~per_species.columns.duplicated()]\n",
    "        per_species.reset_index(inplace=True, drop=True)\n",
    "        all_in_one_list.append(per_species)\n",
    "    all_in_one = pd.concat(all_in_one_list,axis=1)\n",
    "    all_in_one = all_in_one.loc[:, ~all_in_one.columns.duplicated()]\n",
    "    all_in_one.reset_index(inplace=True, drop=True)\n",
    "    output = '-'.join(['allInOne', project, group, direction + prop])\n",
    "    output += '-NormalizedScaled.parquet.brotli'\n",
    "    output = analysis_db + output\n",
    "    all_in_one.to_parquet(output, index=False, compression='brotli')"
   ]
  }
 ],
 "metadata": {
  "kernelspec": {
   "display_name": "Python 3 (ipykernel)",
   "language": "python",
   "name": "python3"
  },
  "language_info": {
   "codemirror_mode": {
    "name": "ipython",
    "version": 3
   },
   "file_extension": ".py",
   "mimetype": "text/x-python",
   "name": "python",
   "nbconvert_exporter": "python",
   "pygments_lexer": "ipython3",
   "version": "3.11.9"
  },
  "vscode": {
   "interpreter": {
    "hash": "905eddd834f47278e82c8803001c8cba7ff23ca6cd99b3eaaa45ba7f5342ab1c"
   }
  },
  "widgets": {
   "application/vnd.jupyter.widget-state+json": {
    "state": {},
    "version_major": 2,
    "version_minor": 0
   }
  }
 },
 "nbformat": 4,
 "nbformat_minor": 5
}
