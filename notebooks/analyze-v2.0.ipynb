{
 "cells": [
  {
   "cell_type": "markdown",
   "id": "3c72ab68",
   "metadata": {
    "tags": []
   },
   "source": [
    "# The analyze phase:\n",
    "In this phase, if there are any segment files in the *probe* phase, they are merged into *whole* files. Then,  ensemble, ensemble-averaged, and space files are created from whole files.\n",
    "\n",
    "### To-do list:\n",
    "\n",
    "- [x] analyzing *bug* *segement* and *whole* files in both project in a serial manner.\n",
    "- [ ] analyzing *bug* *segement* and *whole* files in both project in a parallel manner with Dask: memory linkage problem\n",
    "- [ ] analyzing *all* *segement* and *whole* files in both project in a serial manner.\n",
    "- [ ] analyzing *all* *segement* and *whole* files in both project in a parallel manner with Dask\n",
    "\n",
    "### Naming convention:\n",
    "\n",
    "This is the pattern of file or directory names:\n",
    "\n",
    "1. **whole** files: whole-group-property_[-measure][-stage][.ext]\n",
    "2. **ensemble** files: ensemble-group-property_[-measure][-stage][.ext]\n",
    "3. **ensemble_long** files: ensemble_long-group-property_[-measure][-stage][.ext]\n",
    "4. **space** files: space-group-property_[-measure][-stage][.ext]\n",
    "5. **all in one** files: space-group-**species**-**allInOne**-property-_[-measure][-stage][.ext]\n",
    "\n",
    "[keyword] means that the keyword in the file name is option. [-measure] is a physical measurement such as the auto correlation function (AFC) done on the physical 'property_'."
   ]
  },
  {
   "cell_type": "markdown",
   "id": "c655fe51-1d37-484d-a7f4-da15fb3b42a6",
   "metadata": {},
   "source": [
    "### Settings for testing and running on a PC"
   ]
  },
  {
   "cell_type": "code",
   "execution_count": 1,
   "id": "8d2624c3",
   "metadata": {},
   "outputs": [],
   "source": [
    "from glob import glob\n",
    "import pathlib, re\n",
    "from polyphys.manage import organizer\n",
    "from polyphys.manage.parser import SumRule, TransFoci\n",
    "from polyphys.analyze import analyzer\n",
    "import warnings\n",
    "warnings.filterwarnings(\"ignore\")"
   ]
  },
  {
   "cell_type": "code",
   "execution_count": null,
   "id": "c3cefd49",
   "metadata": {
    "tags": []
   },
   "outputs": [],
   "source": [
    "from dask.distributed import Client\n",
    "from dask import delayed\n",
    "from dask import compute\n",
    "client = Client(n_workers=4)\n",
    "client"
   ]
  },
  {
   "cell_type": "markdown",
   "id": "ed5f2b59-7fca-480f-8c4d-956b854e10e6",
   "metadata": {
    "tags": []
   },
   "source": [
    "## PC: parallel scheme with Dask and serial scheme\n",
    "\n",
    "Files generated in the *probe* phase can be in *segment* or *whole* version. The analyze phase can be started from the *segmens* or *wholes* depending on the type of simulation."
   ]
  },
  {
   "cell_type": "markdown",
   "id": "a09af9d5",
   "metadata": {
    "jp-MarkdownHeadingCollapsed": true,
    "tags": []
   },
   "source": [
    "### files in *segment* lineage/format"
   ]
  },
  {
   "cell_type": "markdown",
   "id": "378327a9-117b-4741-9ada-a5f197cac3e4",
   "metadata": {
    "tags": []
   },
   "source": [
    "#### bug"
   ]
  },
  {
   "cell_type": "markdown",
   "id": "2d6b2c27-d5d1-4c5a-b017-8f70e98593a3",
   "metadata": {
    "tags": []
   },
   "source": [
    "##### Sum-rule project"
   ]
  },
  {
   "cell_type": "markdown",
   "id": "5ce7becd-3fb7-42b2-9c0c-5d5028763b34",
   "metadata": {
    "jp-MarkdownHeadingCollapsed": true,
    "tags": []
   },
   "source": [
    "###### Serial with For-loop"
   ]
  },
  {
   "cell_type": "code",
   "execution_count": null,
   "id": "e9076758-ac3d-43a2-9b5a-af4e040264d8",
   "metadata": {},
   "outputs": [],
   "source": [
    "%%time\n",
    "# 10 mins on MacBook Mini with 7000 lags\n",
    "# 17 mins on MacBook Mini with 7000 lags\n",
    "inupt_databases = glob(\"/Users/amirhsi_mini/research_data/probe/N*-probe-segment\")\n",
    "geometry = 'biaxial'\n",
    "tseries_properties_bug = [\n",
    "    # property_, species, group\n",
    "    ('fsdT', 'Mon', 'bug'),\n",
    "    ('gyrT', 'Mon', 'bug'),\n",
    "    ('rfloryT', 'Mon', 'bug'),\n",
    "    ('shapeT', 'Mon', 'bug'),\n",
    "    ('asphericityT', 'Mon', 'bug')\n",
    "]\n",
    "acf_tseries_properties_bug = [\n",
    "    # property_, species, group\n",
    "    ('fsdT', 'Mon', 'bug'),\n",
    "    ('gyrT', 'Mon', 'bug'),\n",
    "    ('rfloryT', 'Mon', 'bug'),\n",
    "    ('shapeT', 'Mon', 'bug'),\n",
    "    ('asphericityT', 'Mon', 'bug')\n",
    "]\n",
    "\n",
    "#hist_properties_bug = [\n",
    "    # direction, species, group\n",
    "#    ('rflory', 'Mon', 'bug')\n",
    "#]\n",
    "for input_database in inupt_databases:\n",
    "    print(input_database)\n",
    "    analyzer.analyze_bug(\n",
    "        input_database,\n",
    "        '/N*/N*',\n",
    "        SumRule,\n",
    "        geometry,\n",
    "        True,\n",
    "        #nonscalar_hist_properties=nonscalar_hist_properties,\n",
    "        #tseries_properties=tseries_properties_bug,\n",
    "        acf_tseries_properties=acf_tseries_properties_bug,\n",
    "        #hist_properties=hist_properties_bug,\n",
    "        #,\n",
    "        nlags=20000\n",
    "    )"
   ]
  },
  {
   "cell_type": "markdown",
   "id": "9e51e001-f8b2-4415-80e6-b64b97a6db7d",
   "metadata": {
    "tags": []
   },
   "source": [
    "###### Dask: this has problem with memeory linkage"
   ]
  },
  {
   "cell_type": "code",
   "execution_count": null,
   "id": "5b2856d3-90d0-4f6b-9604-cc9fe3094cd3",
   "metadata": {},
   "outputs": [],
   "source": [
    "inupt_databases = glob(\"/Users/amirhsi_mini/research_data/probe/N*-probe-segment\")\n",
    "geometry = 'biaxial'\n",
    "analyses = []\n",
    "tseries_properties_bug = [\n",
    "    # property_, species, group\n",
    "    ('fsdT', 'Mon', 'bug'),\n",
    "    ('gyrT', 'Mon', 'bug'),\n",
    "    ('rfloryT', 'Mon', 'bug'),\n",
    "    ('shapeT', 'Mon', 'bug'),\n",
    "    ('asphericityT', 'Mon', 'bug')\n",
    "]\n",
    "acf_tseries_properties_bug = [\n",
    "    # property_, species, group\n",
    "#    ('fsdT', 'Mon', 'bug'),\n",
    "#    ('gyrT', 'Mon', 'bug'),\n",
    "#    ('rfloryT', 'Mon', 'bug'),\n",
    "#    ('shapeT', 'Mon', 'bug'),\n",
    "    ('asphericityT', 'Mon', 'bug')\n",
    "]\n",
    "\n",
    "#hist_properties_bug = [\n",
    "    # direction, species, group\n",
    "#    ('rflory', 'Mon', 'bug')\n",
    "#]\n",
    "for input_database in inupt_databases:\n",
    "    print(input_database)\n",
    "    analyze_delayed = delayed(analyzer.analyze_bug)(\n",
    "        input_database,\n",
    "        '/N*/N*',\n",
    "        SumRule,\n",
    "        geometry,\n",
    "        True,\n",
    "        #nonscalar_hist_properties=nonscalar_hist_properties,\n",
    "        #tseries_properties=tseries_properties_bug,\n",
    "        acf_tseries_properties=acf_tseries_properties_bug,\n",
    "        #hist_properties=hist_properties_bug,\n",
    "        #nlags=100000\n",
    "    )\n",
    "    analyses.append(analyze_delayed)"
   ]
  },
  {
   "cell_type": "code",
   "execution_count": null,
   "id": "9021ab27-3e12-41ce-ae7a-67c295dcde14",
   "metadata": {},
   "outputs": [],
   "source": [
    "%%time\n",
    "# it takes 9min and 34s.\n",
    "results = compute(analyses)"
   ]
  },
  {
   "cell_type": "markdown",
   "id": "40dffa88-32e6-4e25-ab4b-c632ed07b863",
   "metadata": {
    "jp-MarkdownHeadingCollapsed": true,
    "tags": []
   },
   "source": [
    "##### Trans-foci project"
   ]
  },
  {
   "cell_type": "markdown",
   "id": "8705842c-cc99-4f15-b122-a91532383a10",
   "metadata": {
    "tags": []
   },
   "source": [
    "### files in *whole* lineage/format"
   ]
  },
  {
   "cell_type": "markdown",
   "id": "82c83ee3-b672-4f01-beb2-3872dba73118",
   "metadata": {},
   "source": [
    "#### bug"
   ]
  },
  {
   "cell_type": "markdown",
   "id": "3e562b42-8113-4d60-9c5a-b5e951a4cf1b",
   "metadata": {
    "tags": []
   },
   "source": [
    "##### Sum-rule project"
   ]
  },
  {
   "cell_type": "markdown",
   "id": "95e0cbfd-c834-4d73-ad38-bae79ae2d7af",
   "metadata": {},
   "source": [
    "##### Trans-Foci project"
   ]
  },
  {
   "cell_type": "code",
   "execution_count": 2,
   "id": "669a8f84-ac7f-41f5-9b20-f79de6a8e739",
   "metadata": {},
   "outputs": [
    {
     "name": "stdout",
     "output_type": "stream",
     "text": [
      "[Errno 17] File exists: '/Users/amirhsi_mini/research_data/analysis/ns400nl5al1D20ac1-bug-ens'\n",
      "Files are saved/overwritten in an existing directory.\n",
      "[Errno 17] File exists: '/Users/amirhsi_mini/research_data/analysis/ns400nl5al1D20ac1-bug-ensAvg'\n",
      "Files are saved/overwritten in an existing directory.\n",
      "'['segment', 'segment_id']' are not among columns.\n",
      "[Errno 17] File exists: '/Users/amirhsi_mini/research_data/analysis/ns400nl5al5D20ac1-bug-ens'\n",
      "Files are saved/overwritten in an existing directory.\n",
      "[Errno 17] File exists: '/Users/amirhsi_mini/research_data/analysis/ns400nl5al5D20ac1-bug-ensAvg'\n",
      "Files are saved/overwritten in an existing directory.\n",
      "[Errno 17] File exists: '/Users/amirhsi_mini/research_data/analysis/ns400nl5al3D20ac1-bug-ens'\n",
      "Files are saved/overwritten in an existing directory.\n",
      "[Errno 17] File exists: '/Users/amirhsi_mini/research_data/analysis/ns400nl5al3D20ac1-bug-ensAvg'\n",
      "Files are saved/overwritten in an existing directory.\n",
      "'['segment', 'segment_id']' are not among columns.\n",
      "CPU times: user 1.18 s, sys: 284 ms, total: 1.46 s\n",
      "Wall time: 1.78 s\n"
     ]
    }
   ],
   "source": [
    "%%time\n",
    "# Wall time: 6min 20s\n",
    "geometry = 'biaxial'\n",
    "probe_db = \"/Users/amirhsi_mini/research_data/probe/\"\n",
    "project_space_pattern = \"ns*nl*al*D*ac*-probe-*\"\n",
    "space_dbs = glob(probe_db + project_space_pattern)\n",
    "\n",
    "nonscalar_hist_t_properties = [\n",
    "    # property_, species, group, avg_axis\n",
    "    ('bondsHistT', 'Foci', 'bug', 0),\n",
    "    ('clustersHistT', 'Foci', 'bug', 0)#,\n",
    "]\n",
    "\n",
    "nonscalar_mat_t_properties = [\n",
    "    # property_, species, group, avg_axis\n",
    "    ('distMatT', 'Foci', 'bug', 0),\n",
    "]\n",
    "\n",
    "\n",
    "acf_tseries_properties_bug = [\n",
    "    # property_, species, group\n",
    "    ('fsdT', 'Mon', 'bug'),\n",
    "    ('gyrT', 'Mon', 'bug'),\n",
    "    ('shapeT', 'Mon', 'bug'),\n",
    "    ('asphericityT', 'Mon', 'bug')\n",
    "]\n",
    "\n",
    "for space_db in space_dbs:\n",
    "    analyzer.analyze_bug(\n",
    "        space_db,\n",
    "        '/eps*/eps*',\n",
    "        TransFoci,\n",
    "        geometry,\n",
    "        False,\n",
    "        nonscalar_hist_t_properties=nonscalar_hist_t_properties,\n",
    "        nonscalar_mat_t_properties=nonscalar_mat_t_properties,\n",
    "        acf_tseries_properties=acf_tseries_properties_bug,\n",
    "        #hist_properties=hist_properties_bug,\n",
    "        #nlags=100000\n",
    "    )"
   ]
  },
  {
   "cell_type": "code",
   "execution_count": null,
   "id": "d8af08fb-20ba-40c2-ac54-eb4a279b2c6b",
   "metadata": {},
   "outputs": [],
   "source": []
  }
 ],
 "metadata": {
  "kernelspec": {
   "display_name": "Python 3.9.13 ('polyLab')",
   "language": "python",
   "name": "python3"
  },
  "language_info": {
   "codemirror_mode": {
    "name": "ipython",
    "version": 3
   },
   "file_extension": ".py",
   "mimetype": "text/x-python",
   "name": "python",
   "nbconvert_exporter": "python",
   "pygments_lexer": "ipython3",
   "version": "3.9.13"
  },
  "vscode": {
   "interpreter": {
    "hash": "6cf582efbfbdef60505769a313a3ca49eebfd77179e86f4387bd11d254c0a990"
   }
  }
 },
 "nbformat": 4,
 "nbformat_minor": 5
}
