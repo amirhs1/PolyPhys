{
 "cells": [
  {
   "cell_type": "code",
   "execution_count": null,
   "id": "e9e822f1",
   "metadata": {},
   "outputs": [],
   "source": [
    "%matplotlib inline\n",
    "from glob import glob\n",
    "import pandas as pd\n",
    "import numpy as np\n",
    "import matplotlib.pyplot as plt\n",
    "import matplotlib as mpl\n",
    "from polyphys.manage import organizer\n",
    "from polyphys.manage import parser\n",
    "from polyphys.visualize import tuner as ptuner\n",
    "from polyphys.visualize import plotter\n",
    "import seaborn as sns"
   ]
  },
  {
   "cell_type": "markdown",
   "id": "30b1d858",
   "metadata": {
    "tags": []
   },
   "source": [
    "## Excluded-volume models"
   ]
  },
  {
   "cell_type": "markdown",
   "id": "57cceb4a",
   "metadata": {
    "tags": []
   },
   "source": [
    "### Loading data\n",
    "- Creating *allInOne* dataset: Do this step if there is no  **allInOne-vExc.csv** file, or it exist but has to bew updated."
   ]
  },
  {
   "cell_type": "code",
   "execution_count": null,
   "id": "748e1d65",
   "metadata": {
    "tags": []
   },
   "outputs": [],
   "source": [
    "#vexc_files = glob(\"/Users/amirhsi_mini/OneDrive - University of Waterloo/PhD Research/Mathematica/vExc_Models/vExc_data/*.csv\")\n",
    "vexc_files = glob(\"/Users/amirhsi/OneDrive - University of Waterloo/PhD Research/Mathematica/vExc_Models/vExc_data/*.csv\")\n",
    "vexc_files = organizer.sort_filenames(vexc_files, fmts=['csv'])\n",
    "vexc_df = []\n",
    "limit = True # limit exclude volumes to --vexc_ath, vexc_athr]\n",
    "for vexc_file in vexc_files:\n",
    "    vexc_info = parser.ExcludedVolume(vexc_file[0])\n",
    "    vexc_info.read_data()\n",
    "    vexc_info.scale(limit=limit)\n",
    "    vexc_info.add_model_info()\n",
    "    vexc_df.append(vexc_info.vexc_df)\n",
    "vexc_df = pd.concat(vexc_df, axis=0)\n",
    "vexc_df.reset_index(inplace=True, drop=True)\n",
    "if limit is True:\n",
    "    vexc_df.to_csv('allInOne-vExc-limit.csv', index=False)\n",
    "else:\n",
    "    vexc_df.to_csv('allInOne-vExc.csv', index=False)"
   ]
  },
  {
   "cell_type": "markdown",
   "id": "266654a0",
   "metadata": {
    "tags": []
   },
   "source": [
    "- DO this if you want to use an existing **allInOne-vExc.csv** file"
   ]
  },
  {
   "cell_type": "code",
   "execution_count": null,
   "id": "0d6fa503",
   "metadata": {
    "tags": []
   },
   "outputs": [],
   "source": [
    "vexc_df = pd.read_csv('allInOne-vExc-limit.csv')"
   ]
  },
  {
   "cell_type": "markdown",
   "id": "ac04f08c",
   "metadata": {
    "tags": []
   },
   "source": [
    "### Plots"
   ]
  },
  {
   "cell_type": "code",
   "execution_count": null,
   "id": "0b949bf4",
   "metadata": {
    "tags": []
   },
   "outputs": [],
   "source": [
    "dcrowds = [0.2, 0.3, 0.6, 0.8, 1.0, 2.0, 4.0, 6.0]\n",
    "plotter.p_vexc_models(\n",
    "    vexc_df,\n",
    "    dcrowds\n",
    ")"
   ]
  },
  {
   "cell_type": "code",
   "execution_count": null,
   "id": "6e0cf665",
   "metadata": {
    "tags": []
   },
   "outputs": [],
   "source": [
    "label_dict_long = {\"vfrc_c\":r\"Volume fraction of crowders ($\\phi_c$)\",\n",
    "             \"vfrc_c_scaled\":r\"Rescaled volume fraction of crowders (${a\\phi_c}/{a_c}$)\",\n",
    "             \"exc_vol_scaled\":r\"Rescaled exc. volume ($v_{exc}/v_{athr}$)\",\n",
    "                  \"r_scaled_max\":r\"Normalized chain size ($R/R_{0}$)\",\n",
    "                  \"rho_c\":r\"Density of crowders ($\\rho_c$) in $a^{-3}$\"}"
   ]
  },
  {
   "cell_type": "code",
   "execution_count": null,
   "id": "a254cc8b",
   "metadata": {
    "tags": []
   },
   "outputs": [],
   "source": [
    "dcrowds = [0.2, 0.8, 1.0, 2.0, 5.0]\n",
    "plotter.p_vexc_dcrowds(\n",
    "    vexc_df,\n",
    "    dcrowds,\n",
    "    fontsize=16\n",
    ")"
   ]
  },
  {
   "cell_type": "markdown",
   "id": "57a293c5",
   "metadata": {},
   "source": [
    "## Free-energy approach"
   ]
  },
  {
   "cell_type": "markdown",
   "id": "fd01e938",
   "metadata": {},
   "source": [
    "### Loading data"
   ]
  },
  {
   "cell_type": "code",
   "execution_count": null,
   "id": "29b7b063",
   "metadata": {
    "tags": []
   },
   "outputs": [],
   "source": [
    "#vexc_files = glob(\"/Users/amirhsi_mini/OneDrive - University of Waterloo/PhD Research/Mathematica/vExc_Models/vExc_data/*.csv\")\n",
    "#free_energy_files = glob(\"/Users/amirhsi_mini/OneDrive - University of Waterloo/PhD Research/Mathematica/Free energy approach/FreeEnergyApproach-VirialExpansion-allInOne-data/*.csv\")\n",
    "free_energy_files = glob('/Users/amirhsi/OneDrive - University of Waterloo/PhD Research/Mathematica/Free energy approach/FreeEnergyApproach-VirialExpansion-allInOne-data/*.csv')\n",
    "free_energy_files = organizer.sort_filenames(free_energy_files, fmts=['csv'])\n",
    "phi_c_out_cap=0.45\n",
    "chain_free_energy = []\n",
    "for free_energy_file in free_energy_files[:2]:\n",
    "    free_energy_info = parser.FreeEnergyVirial(free_energy_file[0])\n",
    "    free_energy_info.read_data()\n",
    "    free_energy_info.scale(phi_c_out_cap)\n",
    "    free_energy_info.add_model_info()\n",
    "    free_energy_info.r_chain_df.sort_values(by='phi_c_out')\n",
    "    chain_free_energy.append(free_energy_info.r_chain_df)\n",
    "chain_free_energy = pd.concat(chain_free_energy, axis=0)\n",
    "chain_free_energy.reset_index(inplace=True, drop=True)\n",
    "chain_free_energy.to_csv(\n",
    "    f'allInOne-freeEnergyVirial-phiCrdLimit{phi_c_out_cap}.csv',\n",
    "    index=False\n",
    ")\n",
    "mathematica_cols = [\n",
    "    'rhoOut', 'rhoIn', 'rChain', 'phiCout', 'phiCin','rScaled','tailModel',\n",
    "    'vdepModel', 'nMon', 'dCyl', 'dCrowd'\n",
    "]\n",
    "chain_free_energys_mathemaitca = chain_free_energy.copy()\n",
    "chain_free_energys_mathemaitca.columns = mathematica_cols\n",
    "chain_free_energys_mathemaitca.to_csv(\n",
    "    f'allInOne-freeEnergyVirial-phiCrdLimit{phi_c_out_cap}-Mathemaitca.csv',\n",
    "    index=False\n",
    ")\n",
    "del chain_free_energys_mathemaitca"
   ]
  },
  {
   "cell_type": "code",
   "execution_count": null,
   "id": "d6455abe-8728-4326-b4eb-e565b85474fc",
   "metadata": {},
   "outputs": [],
   "source": [
    "## Extendeding data set for Mathematica\n",
    "free_energy_files = glob(\"/Users/amirhsi_mini/OneDrive - University of Waterloo/PhD Research/Mathematica/Free energy approach/FreeEnergyApproach-VirialExpansion-allInOne-data/*.csv\")\n",
    "free_energy_files = organizer.sort_filenames(free_energy_files, fmts=['csv'])\n",
    "phi_c_out_cap=0.45\n",
    "for free_energy_file in free_energy_files:\n",
    "    free_energy_info = parser.FreeEnergyVirial(free_energy_file[0])\n",
    "    free_energy_info.read_data()\n",
    "    free_energy_info.scale(phi_c_out_cap)\n",
    "    free_energy_info.add_model_info()\n",
    "    free_energy_info.r_chain_df.sort_values(by='phi_c_out')\n",
    "    free_energy_info.r_chain_df.loc[:,'phi_c_relative'] = free_energy_info.r_chain_df.loc[:, 'phi_c_in'] / free_energy_info.r_chain_df.loc[:, 'phi_c_out']\n",
    "    free_energy_info.r_chain_df.loc[:,'confinement_rate'] = free_energy_info.r_chain_df.loc[:, 'dcrowd'] / free_energy_info.r_chain_df.loc[:,'dcyl']\n",
    "    free_energy_info.r_chain_df.loc[:,'confinement_rate'] = free_energy_info.r_chain_df.loc[:,'confinement_rate'].round(decimals=3)\n",
    "    free_energy_info.r_chain_df.loc[:,'phi_c_out_scaled'] = free_energy_info.r_chain_df.loc[:, 'phi_c_out'] / free_energy_info.r_chain_df.loc[:, 'dcrowd']\n",
    "    free_energy_info.r_chain_df.to_csv(\n",
    "        \"./free_energy_extended/\"+free_energy_file[0].split(\"/\")[-1],\n",
    "        index=False,\n",
    "        header=False\n",
    "    )"
   ]
  },
  {
   "cell_type": "code",
   "execution_count": null,
   "id": "1b03df3b-c929-466b-b14a-e48d8f8aabdf",
   "metadata": {},
   "outputs": [],
   "source": [
    "free_energy_file[0].split(\"/\")[-1]"
   ]
  },
  {
   "cell_type": "markdown",
   "id": "09697f62",
   "metadata": {},
   "source": [
    "- DO this if you want to use an existing **allInOne-vExc.csv** file"
   ]
  },
  {
   "cell_type": "code",
   "execution_count": null,
   "id": "4df971fa",
   "metadata": {},
   "outputs": [],
   "source": [
    "phi_c_out_cap=0.45\n",
    "chain_free_energy_original = pd.read_csv(f'allInOne-freeEnergyVirial-phiCrdLimit{phi_c_out_cap}.csv')"
   ]
  },
  {
   "cell_type": "markdown",
   "id": "6d4411fa",
   "metadata": {},
   "source": [
    "### finding the uppoer limit on $\\rho_o$ based on the limit on $\\phi_o$"
   ]
  },
  {
   "cell_type": "code",
   "execution_count": null,
   "id": "73aa8f0e",
   "metadata": {
    "jupyter": {
     "source_hidden": true
    },
    "tags": []
   },
   "outputs": [],
   "source": [
    "phi_c_out_cap=0.45\n",
    "chain_free_energy.groupby(['nmon', 'dcyl', 'dcrowd']).max().reset_index()[['nmon', 'dcyl', 'dcrowd','rho_c_out']].to_csv(f\"max_rho_c_out_for_phi_c_limit{phi_c_out_cap}.csv\", index =False)"
   ]
  },
  {
   "cell_type": "markdown",
   "id": "24dc96b8",
   "metadata": {},
   "source": [
    "## Viz"
   ]
  },
  {
   "cell_type": "code",
   "execution_count": null,
   "id": "0420a793",
   "metadata": {},
   "outputs": [],
   "source": [
    "dcrowds = [0.2, 0.3, 0.6, 1, 2, 4, 6]\n",
    "dcyls = [5, 15, 30]\n",
    "nmons = [80, 500, 2000]\n",
    "cond = (\n",
    "    chain_free_energy_original['nmon'].isin(nmons) &\n",
    "    chain_free_energy_original['dcrowd'].isin(dcrowds) &\n",
    "    chain_free_energy_original['dcyl'].isin(dcyls)\n",
    ")\n",
    "chain_free_energy = chain_free_energy_original[cond].copy()\n",
    "chain_free_energy"
   ]
  },
  {
   "cell_type": "code",
   "execution_count": null,
   "id": "40b158b1",
   "metadata": {},
   "outputs": [],
   "source": [
    "chain_free_energy.loc[:,'phi_c_relative'] = chain_free_energy.loc[:, 'phi_c_in'] / chain_free_energy.loc[:, 'phi_c_out']\n",
    "chain_free_energy.loc[:,'confinement_rate'] = chain_free_energy.loc[:, 'dcrowd'] / chain_free_energy.loc[:,'dcyl']\n",
    "chain_free_energy.loc[:,'confinement_rate'] = chain_free_energy.loc[:,'confinement_rate'].round(decimals=3)\n",
    "chain_free_energy.loc[:,'phi_c_out_scaled'] = chain_free_energy.loc[:, 'phi_c_out'] / chain_free_energy.loc[:, 'dcrowd']"
   ]
  },
  {
   "cell_type": "code",
   "execution_count": null,
   "id": "1c5537ee",
   "metadata": {},
   "outputs": [],
   "source": [
    "pd.set_option('display.max_columns', 75)\n",
    "chain_free_energy[['dcrowd','dcyl','confinement_rate']].sort_values(by=['confinement_rate']).drop_duplicates()"
   ]
  },
  {
   "cell_type": "code",
   "execution_count": null,
   "id": "6079ac2d",
   "metadata": {},
   "outputs": [],
   "source": [
    "flar_cmap = mpl.colors.ListedColormap(sns.cm._flare_lut)\n",
    "flare_cmap_cut = ptuner.truncated_colormap(flar_cmap,  min_value=0.0, max_value=1.0, ncolors=200)\n",
    "mpl.cm.register_cmap(\"flare_cmap_cut\", flare_cmap_cut)"
   ]
  },
  {
   "cell_type": "code",
   "execution_count": null,
   "id": "c3933e18",
   "metadata": {},
   "outputs": [],
   "source": [
    "conf_rates = chain_free_energy['confinement_rate'].drop_duplicates().sort_values().values\n",
    "conf_rate_colors = sns.color_palette(\"coolwarm_r\", len(conf_rates))#,as_cmap=True)\n",
    "conf_rate_dict = dict(zip(conf_rates,conf_rate_colors))\n",
    "conf_rate_colors"
   ]
  },
  {
   "cell_type": "code",
   "execution_count": null,
   "id": "2b7d41b0",
   "metadata": {},
   "outputs": [],
   "source": [
    "cond_ha = chain_free_energy['vdep_model']=='Ha'\n",
    "chain_free_energy_ha = chain_free_energy.loc[cond_ha,:]"
   ]
  },
  {
   "cell_type": "code",
   "execution_count": null,
   "id": "4f3be6e6",
   "metadata": {},
   "outputs": [],
   "source": [
    "tail_fullname = [' | LJ power-6 law', \n",
    "                 ' | Three-body term']\n",
    "\n",
    "sns.plotting_context(font_scale=3)\n",
    "#sns.set_style(\"white\")\n",
    "sns.axes_style(\"white\")\n",
    "chain_grid = sns.relplot(\n",
    "    data=chain_free_energy_ha,\n",
    "    x='phi_c_out',\n",
    "    y='r_scaled',\n",
    "    hue='confinement_rate',\n",
    "    style='dcyl',\n",
    "    size='dcrowd',\n",
    "    col='tail_model',\n",
    "    row='nmon',\n",
    "    kind='scatter',\n",
    "    palette=conf_rate_dict,\n",
    "    height=4,\n",
    "    alpha=None\n",
    ") \n",
    "#chain_grid.set_titles(template=r\"$N={row_name}$ | 'Monomer-monomer interaction:{col_name}\")\n",
    "\n",
    "for row in range(len(chain_grid.axes)):\n",
    "    chain_grid.axes[row,0].set_title(fr\"$N={nmons[row]}$\" + tail_fullname[0])\n",
    "    chain_grid.axes[row,0].grid(True, ls=':', lw=1)\n",
    "    chain_grid.axes[row,0].tick_params(axis='both', direction='inout', width=1.25)\n",
    "    chain_grid.axes[row,1].set_title(fr\"$N={nmons[row]}$\" + tail_fullname[1])\n",
    "    chain_grid.axes[row,1].grid(True, ls=':', lw=1)\n",
    "    chain_grid.axes[row,1].tick_params(axis='both', direction='inout', width=1.25)\n",
    "chain_grid._legend.texts[0].set_text(r\"${a_c}/{D}$ (color)\")\n",
    "chain_grid._legend.texts[1+len(conf_rates)].set_text(r\"${a_c}/{a}$\")\n",
    "chain_grid._legend.texts[2+len(conf_rates)+len(dcrowds)].set_text(r\"${D}/{a}$\")\n",
    "chain_grid.set_ylabels(r\"${R}/{R_0}$\")\n",
    "chain_grid.set_xlabels(r\"$\\phi_c^{(out)}$\")\n",
    "chain_grid.tight_layout()"
   ]
  },
  {
   "cell_type": "code",
   "execution_count": null,
   "id": "0f1b9013",
   "metadata": {},
   "outputs": [],
   "source": [
    "tail_fullname = [' | LJ power-6 law', \n",
    "                 ' | Three-body term']\n",
    "\n",
    "sns.plotting_context(font_scale=3)\n",
    "#sns.set_style(\"white\")\n",
    "sns.axes_style(\"white\")\n",
    "chain_grid = sns.relplot(\n",
    "    data=chain_free_energy_ha,\n",
    "    x='phi_c_out',\n",
    "    y='phi_c_relative',\n",
    "    hue='confinement_rate',\n",
    "    style='dcyl',\n",
    "    size='dcrowd',\n",
    "    col='tail_model',\n",
    "    row='nmon',\n",
    "    kind='scatter',\n",
    "    palette=conf_rate_dict,\n",
    "    height=4,\n",
    "    alpha=None\n",
    ") \n",
    "#chain_grid.set_titles(template=r\"$N={row_name}$ | 'Monomer-monomer interaction:{col_name}\")\n",
    "\n",
    "for row in range(len(chain_grid.axes)):\n",
    "    chain_grid.axes[row,0].set_title(fr\"$N={nmons[row]}$\" + tail_fullname[0])\n",
    "    chain_grid.axes[row,0].grid(True, ls=':', lw=1)\n",
    "    chain_grid.axes[row,0].tick_params(axis='both', direction='inout', width=1.25)\n",
    "    chain_grid.axes[row,1].set_title(fr\"$N={nmons[row]}$\" + tail_fullname[1])\n",
    "    chain_grid.axes[row,1].grid(True, ls=':', lw=1)\n",
    "    chain_grid.axes[row,1].tick_params(axis='both', direction='inout', width=1.25)\n",
    "chain_grid._legend.texts[0].set_text(r\"${a_c}/{D}$ (color)\")\n",
    "chain_grid._legend.texts[1+len(conf_rates)].set_text(r\"${a_c}/{a}$\")\n",
    "chain_grid._legend.texts[2+len(conf_rates)+len(dcrowds)].set_text(r\"${D}/{a}$\")\n",
    "chain_grid.set_ylabels(r\"${\\phi_c^{(in)}}/{\\phi_c^{(out)}}$\")\n",
    "chain_grid.set_xlabels(r\"$\\phi_c^{(out)}$\")\n",
    "chain_grid.tight_layout()"
   ]
  },
  {
   "cell_type": "code",
   "execution_count": null,
   "id": "acf2f9ec",
   "metadata": {},
   "outputs": [],
   "source": [
    "sns.relplot(\n",
    "    data=chain_free_energy,\n",
    "    x='phi_c_out',\n",
    "    y='r_scaled',\n",
    "    hue='dcyl',\n",
    "    style='dcrowd',\n",
    "    col='nmon',\n",
    "    kind='scatter',\n",
    "    palette=\"Spectral\",\n",
    "    col_wrap=3\n",
    ")"
   ]
  },
  {
   "cell_type": "code",
   "execution_count": null,
   "id": "d974d80b",
   "metadata": {},
   "outputs": [],
   "source": [
    "sns.relplot(\n",
    "    data=chain_free_energy,\n",
    "    x='phi_c_out',\n",
    "    y='r_scaled',\n",
    "    hue='nmon',\n",
    "    style='dcyl',\n",
    "    col='dcrowd',\n",
    "    kind='scatter',\n",
    "    palette=\"Spectral\",\n",
    "    col_wrap=3\n",
    ")"
   ]
  },
  {
   "cell_type": "code",
   "execution_count": null,
   "id": "2c031e0c",
   "metadata": {},
   "outputs": [],
   "source": [
    "sns.relplot(\n",
    "    data=chain_free_energy,\n",
    "    x='phi_c_out',\n",
    "    y='r_scaled',\n",
    "    hue='dcyl',\n",
    "    style='nmon',\n",
    "    col='dcrowd',\n",
    "    kind='scatter',\n",
    "    palette=\"Spectral\",\n",
    "    col_wrap=3\n",
    ")"
   ]
  }
 ],
 "metadata": {
  "kernelspec": {
   "display_name": "Python 3 (ipykernel)",
   "language": "python",
   "name": "python3"
  },
  "language_info": {
   "codemirror_mode": {
    "name": "ipython",
    "version": 3
   },
   "file_extension": ".py",
   "mimetype": "text/x-python",
   "name": "python",
   "nbconvert_exporter": "python",
   "pygments_lexer": "ipython3",
   "version": "3.9.13"
  }
 },
 "nbformat": 4,
 "nbformat_minor": 5
}
