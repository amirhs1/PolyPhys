{
 "cells": [
  {
   "cell_type": "code",
   "execution_count": 1,
   "id": "e9e822f1",
   "metadata": {},
   "outputs": [
    {
     "name": "stderr",
     "output_type": "stream",
     "text": [
      "/Users/amirhsi/miniconda3/envs/polylab/lib/python3.11/site-packages/tqdm/auto.py:21: TqdmWarning: IProgress not found. Please update jupyter and ipywidgets. See https://ipywidgets.readthedocs.io/en/stable/user_install.html\n",
      "  from .autonotebook import tqdm as notebook_tqdm\n"
     ]
    }
   ],
   "source": [
    "%matplotlib inline\n",
    "from glob import glob\n",
    "import pandas as pd\n",
    "import numpy as np\n",
    "import matplotlib.pyplot as plt\n",
    "import matplotlib as mpl\n",
    "from polyphys.manage import organizer\n",
    "from polyphys.manage import parser\n",
    "from polyphys.visualize import tuner as ptuner\n",
    "from polyphys.visualize import plotter\n",
    "import seaborn as sns"
   ]
  },
  {
   "cell_type": "markdown",
   "id": "30b1d858",
   "metadata": {
    "tags": []
   },
   "source": [
    "## Excluded-volume models"
   ]
  },
  {
   "cell_type": "markdown",
   "id": "57cceb4a",
   "metadata": {
    "tags": []
   },
   "source": [
    "### Loading data\n",
    "- Creating *allInOne* dataset: Do this step if there is no  **allInOne-vExc.csv** file, or it exist but has to bew updated."
   ]
  },
  {
   "cell_type": "code",
   "execution_count": null,
   "id": "748e1d65",
   "metadata": {
    "tags": []
   },
   "outputs": [],
   "source": [
    "#vexc_files = glob(\"/Users/amirhsi_mini/OneDrive - University of Waterloo/PhD Research/Mathematica/vExc_Models/vExc_data/*.csv\")\n",
    "vexc_files = glob(\"/Users/amirhsi/OneDrive - University of Waterloo/PhD Research/Mathematica/vExc_Models/vExc_data/*.csv\")\n",
    "vexc_files = organizer.sort_filenames(vexc_files, fmts=['csv'])\n",
    "vexc_df = []\n",
    "limit = True # limit exclude volumes to --vexc_ath, vexc_athr]\n",
    "for vexc_file in vexc_files:\n",
    "    vexc_info = parser.ExcludedVolume(vexc_file[0])\n",
    "    vexc_info.read_data()\n",
    "    vexc_info.scale(limit=limit)\n",
    "    vexc_info.add_model_info()\n",
    "    vexc_df.append(vexc_info.vexc_df)\n",
    "vexc_df = pd.concat(vexc_df, axis=0)\n",
    "vexc_df.reset_index(inplace=True, drop=True)\n",
    "if limit is True:\n",
    "    vexc_df.to_csv('allInOne-vExc-limit.csv', index=False)\n",
    "else:\n",
    "    vexc_df.to_csv('allInOne-vExc.csv', index=False)"
   ]
  },
  {
   "cell_type": "markdown",
   "id": "266654a0",
   "metadata": {
    "tags": []
   },
   "source": [
    "- DO this if you want to use an existing **allInOne-vExc.csv** file"
   ]
  },
  {
   "cell_type": "code",
   "execution_count": null,
   "id": "0d6fa503",
   "metadata": {
    "tags": []
   },
   "outputs": [],
   "source": [
    "vexc_df = pd.read_csv('allInOne-vExc-limit.csv')"
   ]
  },
  {
   "cell_type": "markdown",
   "id": "ac04f08c",
   "metadata": {
    "tags": []
   },
   "source": [
    "### Plots"
   ]
  },
  {
   "cell_type": "code",
   "execution_count": null,
   "id": "0b949bf4",
   "metadata": {
    "tags": []
   },
   "outputs": [],
   "source": [
    "dcrowds = [0.2, 0.3, 0.6, 0.8, 1.0, 2.0, 4.0, 6.0]\n",
    "plotter.p_vexc_models(\n",
    "    vexc_df,\n",
    "    dcrowds\n",
    ")"
   ]
  },
  {
   "cell_type": "code",
   "execution_count": null,
   "id": "6e0cf665",
   "metadata": {
    "tags": []
   },
   "outputs": [],
   "source": [
    "label_dict_long = {\"vfrc_c\":r\"Volume fraction of crowders ($\\phi_c$)\",\n",
    "             \"vfrc_c_scaled\":r\"Rescaled volume fraction of crowders (${a\\phi_c}/{a_c}$)\",\n",
    "             \"exc_vol_scaled\":r\"Rescaled exc. volume ($v_{exc}/v_{athr}$)\",\n",
    "                  \"r_scaled_max\":r\"Normalized chain size ($R/R_{0}$)\",\n",
    "                  \"rho_c\":r\"Density of crowders ($\\rho_c$) in $a^{-3}$\"}"
   ]
  },
  {
   "cell_type": "code",
   "execution_count": null,
   "id": "a254cc8b",
   "metadata": {
    "tags": []
   },
   "outputs": [],
   "source": [
    "dcrowds = [0.2, 0.8, 1.0, 2.0, 5.0]\n",
    "plotter.p_vexc_dcrowds(\n",
    "    vexc_df,\n",
    "    dcrowds,\n",
    "    fontsize=16\n",
    ")"
   ]
  },
  {
   "cell_type": "markdown",
   "id": "57a293c5",
   "metadata": {},
   "source": [
    "## Free-energy approach"
   ]
  },
  {
   "cell_type": "markdown",
   "id": "fd01e938",
   "metadata": {},
   "source": [
    "### Loading data"
   ]
  },
  {
   "cell_type": "code",
   "execution_count": 14,
   "id": "29b7b063",
   "metadata": {
    "tags": []
   },
   "outputs": [],
   "source": [
    "# creating dataframe from Mathematica files:\n",
    "\n",
    "#vexc_files = glob(\"/Users/amirhsi_mini/OneDrive - University of Waterloo/PhD Research/Mathematica/vExc_Models/vExc_data/*.csv\")\n",
    "#free_energy_files = glob(\"/Users/amirhsi_mini/OneDrive - University of Waterloo/PhD Research/Mathematica/Free energy approach/FreeEnergyApproach-VirialExpansion-allInOne-data/*.csv\")\n",
    "#free_energy_files = glob('/Users/amirhsi/OneDrive - University of Waterloo/PhD Research/Mathematica/Free energy approach/FreeEnergyApproach-VirialExpansion-allInOne-data/*.csv')\n",
    "free_energy_files = glob('/Users/amirhsi/Library/CloudStorage/OneDrive-UniversityofWaterloo/PhD Research/Jupyter/PolyPhys/notebooks/Free_enrgy_approach_data/*.csv')\n",
    "free_energy_files = organizer.sort_filenames(free_energy_files, fmts=['csv'])\n",
    "phi_c_out_cap=0.6\n",
    "chain_free_energy = []\n",
    "for free_energy_file in free_energy_files:\n",
    "    free_energy_info = parser.FreeEnergyVirial(free_energy_file[0])\n",
    "    free_energy_info.read_data()\n",
    "    free_energy_info.scale(phi_c_out_cap)\n",
    "    free_energy_info.add_model_info()\n",
    "    free_energy_info.r_chain_df.sort_values(by='phi_c_out')\n",
    "    chain_free_energy.append(free_energy_info.r_chain_df)\n",
    "\n",
    "chain_free_energy = pd.concat(chain_free_energy, axis=0)\n",
    "chain_free_energy.reset_index(inplace=True, drop=True)\n",
    "chain_free_energy.to_csv(\n",
    "    f'allInOne-freeEnergyVirial-phiCrdLimit{phi_c_out_cap}.csv',\n",
    "    index=False\n",
    ")\n",
    "mathematica_cols = [\n",
    "    'rhoOut', 'rhoIn', 'rChain', 'phiCout', 'phiCin','rScaled','tailModel',\n",
    "    'vdepModel', 'nMon', 'dCyl', 'dCrowd'\n",
    "]\n",
    "chain_free_energys_mathemaitca = chain_free_energy.copy()\n",
    "chain_free_energys_mathemaitca.columns = mathematica_cols\n",
    "chain_free_energys_mathemaitca.to_csv(\n",
    "    f'allInOne-freeEnergyVirial-phiCrdLimit{phi_c_out_cap}-Mathemaitca.csv',\n",
    "    index=False\n",
    ")\n",
    "del chain_free_energys_mathemaitca"
   ]
  },
  {
   "cell_type": "code",
   "execution_count": null,
   "id": "d6455abe-8728-4326-b4eb-e565b85474fc",
   "metadata": {},
   "outputs": [],
   "source": [
    "## Extendeding each data set for Mathematica\n",
    "#free_energy_files = glob(\"/Users/amirhsi_mini/OneDrive - University of Waterloo/PhD Research/Mathematica/Free energy approach/FreeEnergyApproach-VirialExpansion-allInOne-data/*.csv\")\n",
    "free_energy_files = glob('/Users/amirhsi/Library/CloudStorage/OneDrive-UniversityofWaterloo/PhD Research/Jupyter/PolyPhys/notebooks/Free_enrgy_approach_data/*.csv')\n",
    "free_energy_files = organizer.sort_filenames(free_energy_files, fmts=['csv'])\n",
    "phi_c_out_cap=0.6\n",
    "for free_energy_file in free_energy_files:\n",
    "    free_energy_info = parser.FreeEnergyVirial(free_energy_file[0])\n",
    "    free_energy_info.read_data()\n",
    "    free_energy_info.scale(phi_c_out_cap)\n",
    "    free_energy_info.add_model_info()\n",
    "    free_energy_info.r_chain_df.sort_values(by='phi_c_out')\n",
    "    free_energy_info.r_chain_df.loc[:,'phi_c_relative'] = free_energy_info.r_chain_df.loc[:, 'phi_c_in'] / free_energy_info.r_chain_df.loc[:, 'phi_c_out']\n",
    "    free_energy_info.r_chain_df.loc[:,'confinement_rate'] = free_energy_info.r_chain_df.loc[:, 'dcrowd'] / free_energy_info.r_chain_df.loc[:,'dcyl']\n",
    "    free_energy_info.r_chain_df.loc[:,'confinement_rate'] = free_energy_info.r_chain_df.loc[:,'confinement_rate'].round(decimals=3)\n",
    "    free_energy_info.r_chain_df.loc[:,'phi_c_out_scaled'] = free_energy_info.r_chain_df.loc[:, 'phi_c_out'] / free_energy_info.r_chain_df.loc[:, 'dcrowd']\n",
    "    free_energy_info.r_chain_df.to_csv(\n",
    "        \"./\"+free_energy_file[0].split(\"/\")[-1],\n",
    "        index=False,\n",
    "        header=False\n",
    "    )"
   ]
  },
  {
   "cell_type": "markdown",
   "id": "09697f62",
   "metadata": {},
   "source": [
    "- DO this if you want to use an existing **allInOne-vExc.csv** file"
   ]
  },
  {
   "cell_type": "code",
   "execution_count": null,
   "id": "4df971fa",
   "metadata": {},
   "outputs": [],
   "source": [
    "phi_c_out_cap=0.6\n",
    "chain_free_energy_original = pd.read_csv(f'allInOne-freeEnergyVirial-phiCrdLimit{phi_c_out_cap}.csv')"
   ]
  },
  {
   "cell_type": "markdown",
   "id": "6d4411fa",
   "metadata": {},
   "source": [
    "### finding the uppoer limit on $\\rho_o$ based on the limit on $\\phi_o$"
   ]
  },
  {
   "cell_type": "code",
   "execution_count": null,
   "id": "73aa8f0e",
   "metadata": {
    "jupyter": {
     "source_hidden": true
    },
    "tags": []
   },
   "outputs": [],
   "source": [
    "phi_c_out_cap=0.45\n",
    "chain_free_energy.groupby(['nmon', 'dcyl', 'dcrowd']).max().reset_index()[['nmon', 'dcyl', 'dcrowd','rho_c_out']].to_csv(f\"max_rho_c_out_for_phi_c_limit{phi_c_out_cap}.csv\", index =False)"
   ]
  },
  {
   "cell_type": "markdown",
   "id": "24dc96b8",
   "metadata": {},
   "source": [
    "## Viz"
   ]
  },
  {
   "cell_type": "markdown",
   "id": "3fc51238",
   "metadata": {},
   "source": [
    "### Load data"
   ]
  },
  {
   "cell_type": "code",
   "execution_count": 2,
   "id": "0420a793",
   "metadata": {},
   "outputs": [],
   "source": [
    "phi_c_out_cap=0.6\n",
    "chain_free_energy_original = pd.read_csv(f'allInOne-freeEnergyVirial-phiCrdLimit{phi_c_out_cap}.csv')\n",
    "dcrowds = [1]\n",
    "dcyls = [20]\n",
    "nmons = [400]\n",
    "vdep_models = ['Ha']\n",
    "phi_c_out_lim = 0.4\n",
    "cond = (\n",
    "    chain_free_energy_original['nmon'].isin(nmons) &\n",
    "    chain_free_energy_original['dcrowd'].isin(dcrowds) &\n",
    "    chain_free_energy_original['dcyl'].isin(dcyls) &\n",
    "    chain_free_energy_original['vdep_model'].isin(vdep_models) &\n",
    "    (chain_free_energy_original['phi_c_out'] <= phi_c_out_lim)\n",
    ")\n",
    "chain_free_energy = chain_free_energy_original[cond].copy()\n",
    "chain_free_energy.loc[:,'phi_c_relative'] = chain_free_energy.loc[:, 'phi_c_in'] / chain_free_energy.loc[:, 'phi_c_out']\n",
    "chain_free_energy.loc[:,'confinement_rate'] = chain_free_energy.loc[:, 'dcrowd'] / chain_free_energy.loc[:,'dcyl']\n",
    "chain_free_energy.loc[:,'confinement_rate'] = chain_free_energy.loc[:,'confinement_rate'].round(decimals=3)\n",
    "chain_free_energy.loc[:,'phi_c_out_scaled'] = chain_free_energy.loc[:, 'phi_c_out'] / chain_free_energy.loc[:, 'dcrowd']\n",
    "\n",
    "def pressure_spt(phi_c):\n",
    "    return (phi_c + phi_c**2 + phi_c**3) / (1-phi_c)**3\n",
    "\n",
    "chain_free_energy.loc[:,'press_in'] = chain_free_energy.loc[:, 'phi_c_in'].apply(lambda x: pressure_spt(x))\n",
    "chain_free_energy.loc[:,'press_out'] = chain_free_energy.loc[:, 'phi_c_out'].apply(lambda x: pressure_spt(x))\n",
    "chain_free_energy.loc[:,'press_relative'] = chain_free_energy.loc[:, 'press_in'] / chain_free_energy.loc[:, 'press_out'] \n",
    "id_vars = ['phi_c_out', 'tail_model', 'vdep_model', 'nmon', 'dcyl', 'dcrowd', 'press_out']\n",
    "value_vars = ['phi_c_in', 'r_scaled', 'phi_c_relative', 'press_in', 'press_relative']\n",
    "chain_free_energy_melt = chain_free_energy.melt(\n",
    "    id_vars=id_vars,\n",
    "    value_vars=value_vars,\n",
    "    var_name='variable'\n",
    ")"
   ]
  },
  {
   "cell_type": "code",
   "execution_count": 5,
   "id": "50b72b36",
   "metadata": {},
   "outputs": [
    {
     "name": "stdout",
     "output_type": "stream",
     "text": [
      "0.48437499999999994 0.3958009895387474\n"
     ]
    }
   ],
   "source": [
    "phi_c_test = 0.2\n",
    "print(pressure_spt(phi_c_test),pressure_spt(0.9*phi_c_test))\n",
    "print(pressure_spt(phi_c_test),pressure_spt(0.9*phi_c_test))"
   ]
  },
  {
   "cell_type": "code",
   "execution_count": 20,
   "id": "2cdadd6a",
   "metadata": {},
   "outputs": [
    {
     "data": {
      "text/html": [
       "<div>\n",
       "<style scoped>\n",
       "    .dataframe tbody tr th:only-of-type {\n",
       "        vertical-align: middle;\n",
       "    }\n",
       "\n",
       "    .dataframe tbody tr th {\n",
       "        vertical-align: top;\n",
       "    }\n",
       "\n",
       "    .dataframe thead th {\n",
       "        text-align: right;\n",
       "    }\n",
       "</style>\n",
       "<table border=\"1\" class=\"dataframe\">\n",
       "  <thead>\n",
       "    <tr style=\"text-align: right;\">\n",
       "      <th></th>\n",
       "      <th>phi_c_out</th>\n",
       "      <th>tail_model</th>\n",
       "      <th>vdep_model</th>\n",
       "      <th>nmon</th>\n",
       "      <th>dcyl</th>\n",
       "      <th>dcrowd</th>\n",
       "      <th>variable</th>\n",
       "      <th>value</th>\n",
       "    </tr>\n",
       "  </thead>\n",
       "  <tbody>\n",
       "    <tr>\n",
       "      <th>0</th>\n",
       "      <td>0.010472</td>\n",
       "      <td>LJ</td>\n",
       "      <td>Ha</td>\n",
       "      <td>400.0</td>\n",
       "      <td>20.0</td>\n",
       "      <td>1.0</td>\n",
       "      <td>phi_c_in</td>\n",
       "      <td>0.010058</td>\n",
       "    </tr>\n",
       "    <tr>\n",
       "      <th>1</th>\n",
       "      <td>0.020944</td>\n",
       "      <td>LJ</td>\n",
       "      <td>Ha</td>\n",
       "      <td>400.0</td>\n",
       "      <td>20.0</td>\n",
       "      <td>1.0</td>\n",
       "      <td>phi_c_in</td>\n",
       "      <td>0.020115</td>\n",
       "    </tr>\n",
       "    <tr>\n",
       "      <th>2</th>\n",
       "      <td>0.020944</td>\n",
       "      <td>LJ</td>\n",
       "      <td>Ha</td>\n",
       "      <td>400.0</td>\n",
       "      <td>20.0</td>\n",
       "      <td>1.0</td>\n",
       "      <td>phi_c_in</td>\n",
       "      <td>0.020115</td>\n",
       "    </tr>\n",
       "    <tr>\n",
       "      <th>3</th>\n",
       "      <td>0.031416</td>\n",
       "      <td>LJ</td>\n",
       "      <td>Ha</td>\n",
       "      <td>400.0</td>\n",
       "      <td>20.0</td>\n",
       "      <td>1.0</td>\n",
       "      <td>phi_c_in</td>\n",
       "      <td>0.030171</td>\n",
       "    </tr>\n",
       "    <tr>\n",
       "      <th>4</th>\n",
       "      <td>0.031416</td>\n",
       "      <td>LJ</td>\n",
       "      <td>Ha</td>\n",
       "      <td>400.0</td>\n",
       "      <td>20.0</td>\n",
       "      <td>1.0</td>\n",
       "      <td>phi_c_in</td>\n",
       "      <td>0.030171</td>\n",
       "    </tr>\n",
       "    <tr>\n",
       "      <th>...</th>\n",
       "      <td>...</td>\n",
       "      <td>...</td>\n",
       "      <td>...</td>\n",
       "      <td>...</td>\n",
       "      <td>...</td>\n",
       "      <td>...</td>\n",
       "      <td>...</td>\n",
       "      <td>...</td>\n",
       "    </tr>\n",
       "    <tr>\n",
       "      <th>709</th>\n",
       "      <td>0.555015</td>\n",
       "      <td>ThreeBody</td>\n",
       "      <td>deVries</td>\n",
       "      <td>400.0</td>\n",
       "      <td>20.0</td>\n",
       "      <td>1.0</td>\n",
       "      <td>phi_c_relative</td>\n",
       "      <td>0.707206</td>\n",
       "    </tr>\n",
       "    <tr>\n",
       "      <th>710</th>\n",
       "      <td>0.565487</td>\n",
       "      <td>ThreeBody</td>\n",
       "      <td>deVries</td>\n",
       "      <td>400.0</td>\n",
       "      <td>20.0</td>\n",
       "      <td>1.0</td>\n",
       "      <td>phi_c_relative</td>\n",
       "      <td>0.702278</td>\n",
       "    </tr>\n",
       "    <tr>\n",
       "      <th>711</th>\n",
       "      <td>0.575959</td>\n",
       "      <td>ThreeBody</td>\n",
       "      <td>deVries</td>\n",
       "      <td>400.0</td>\n",
       "      <td>20.0</td>\n",
       "      <td>1.0</td>\n",
       "      <td>phi_c_relative</td>\n",
       "      <td>0.697656</td>\n",
       "    </tr>\n",
       "    <tr>\n",
       "      <th>712</th>\n",
       "      <td>0.586431</td>\n",
       "      <td>ThreeBody</td>\n",
       "      <td>deVries</td>\n",
       "      <td>400.0</td>\n",
       "      <td>20.0</td>\n",
       "      <td>1.0</td>\n",
       "      <td>phi_c_relative</td>\n",
       "      <td>0.693322</td>\n",
       "    </tr>\n",
       "    <tr>\n",
       "      <th>713</th>\n",
       "      <td>0.596903</td>\n",
       "      <td>ThreeBody</td>\n",
       "      <td>deVries</td>\n",
       "      <td>400.0</td>\n",
       "      <td>20.0</td>\n",
       "      <td>1.0</td>\n",
       "      <td>phi_c_relative</td>\n",
       "      <td>0.689260</td>\n",
       "    </tr>\n",
       "  </tbody>\n",
       "</table>\n",
       "<p>714 rows × 8 columns</p>\n",
       "</div>"
      ],
      "text/plain": [
       "     phi_c_out tail_model vdep_model   nmon  dcyl  dcrowd        variable  \\\n",
       "0     0.010472         LJ         Ha  400.0  20.0     1.0        phi_c_in   \n",
       "1     0.020944         LJ         Ha  400.0  20.0     1.0        phi_c_in   \n",
       "2     0.020944         LJ         Ha  400.0  20.0     1.0        phi_c_in   \n",
       "3     0.031416         LJ         Ha  400.0  20.0     1.0        phi_c_in   \n",
       "4     0.031416         LJ         Ha  400.0  20.0     1.0        phi_c_in   \n",
       "..         ...        ...        ...    ...   ...     ...             ...   \n",
       "709   0.555015  ThreeBody    deVries  400.0  20.0     1.0  phi_c_relative   \n",
       "710   0.565487  ThreeBody    deVries  400.0  20.0     1.0  phi_c_relative   \n",
       "711   0.575959  ThreeBody    deVries  400.0  20.0     1.0  phi_c_relative   \n",
       "712   0.586431  ThreeBody    deVries  400.0  20.0     1.0  phi_c_relative   \n",
       "713   0.596903  ThreeBody    deVries  400.0  20.0     1.0  phi_c_relative   \n",
       "\n",
       "        value  \n",
       "0    0.010058  \n",
       "1    0.020115  \n",
       "2    0.020115  \n",
       "3    0.030171  \n",
       "4    0.030171  \n",
       "..        ...  \n",
       "709  0.707206  \n",
       "710  0.702278  \n",
       "711  0.697656  \n",
       "712  0.693322  \n",
       "713  0.689260  \n",
       "\n",
       "[714 rows x 8 columns]"
      ]
     },
     "execution_count": 20,
     "metadata": {},
     "output_type": "execute_result"
    }
   ],
   "source": [
    "chain_free_energy_melt\n"
   ]
  },
  {
   "cell_type": "markdown",
   "id": "3b479443",
   "metadata": {},
   "source": [
    "### 20240312: Viz"
   ]
  },
  {
   "cell_type": "code",
   "execution_count": 43,
   "id": "38337b4b",
   "metadata": {},
   "outputs": [],
   "source": [
    "### Distribution as file, nhns per row, phi_c as how, eps_hc as col\n",
    "fig_title_kws = {'y': 0.96, 'x': 0.45}\n",
    "save_to = '../../test_plots/'\n",
    "ext = 'pdf'\n",
    "font_family = 'sans-serif'\n",
    "rc_params = {\n",
    "    'mathtext.fontset': 'dejavusans',\n",
    "    'axes.formatter.use_mathtext': True,\n",
    "    'text.usetex': True,\n",
    "    'font_family': font_family,\n",
    "    'font.size': 14,\n",
    "    }\n",
    "\n",
    "facet_kws = {\n",
    "    'sharey': False,\n",
    "    'sharex': True,\n",
    "    'legend_out': True\n",
    "}\n",
    "\n",
    "fig_title_kws = {'x': 0.45, 'y': .96, 'ha': 'center'}\n",
    "\n",
    "x_prop = 'press_out'\n",
    "#x_prop = 'phi_c_out'\n",
    "y_prop = 'value'\n",
    "hue_attr = 'vdep_model'\n",
    "style_attr = 'tail_model'\n",
    "col_attr = 'variable'\n",
    "#row_order = ['r_scaled', 'phi_c_in', 'phi_c_relative', 'press_in', 'press_relative']\n",
    "row_order = ['r_scaled', 'press_in', 'press_relative']\n",
    "#row_names = [r'$R/R_{0}$', r'$\\phi_{c,in}$', r'$\\phi_{c,in}/\\phi_{c,out}$', r'${\\Pi_{c,in}v_c}/{k_BT}$', r'${\\Pi_{c,in}}/{\\Pi_{c,out}}$']\n",
    "row_names = [r'$R/R_{0}$',  r'${\\Pi_{c,in}v_c}/{k_BT}$', r'${\\Pi_{c,in}}/{\\Pi_{c,out}}$']\n",
    "data = chain_free_energy_melt.loc[chain_free_energy_melt['variable'].isin(row_order),:]\n",
    "sns.reset_defaults()\n",
    "with sns.axes_style('ticks', rc=rc_params):\n",
    "    with sns.plotting_context(\n",
    "        'paper',\n",
    "        font_scale=1.3\n",
    "        ):\n",
    "        grid = sns.relplot(\n",
    "            data=data,\n",
    "            x=x_prop,\n",
    "            y=y_prop,\n",
    "            hue=hue_attr,\n",
    "            style=style_attr,\n",
    "            row=col_attr,\n",
    "            row_order=row_order,\n",
    "            markers=True,\n",
    "            dashes=False,\n",
    "            height=4,\n",
    "            aspect=16/9,\n",
    "            legend='full',\n",
    "            kind='line',\n",
    "            facet_kws=facet_kws,\n",
    "            markersize=7,\n",
    "            alpha=0.8,\n",
    "            lw=2\n",
    "            )\n",
    "        \n",
    "        grid.set_titles(\"\")\n",
    "        #grid.set_titles(AL[col] + r\"$={row_name}$\")\n",
    "        for idx, (ax, row_name) in enumerate(zip(grid.axes.flat,row_names)):\n",
    "            ax.set_ylabel(row_name)\n",
    "        #grid.set_xlabels(r'$\\phi_{c,out}$')\n",
    "        grid.set_xlabels(r'${\\Pi_{c,out}v_c}/{k_BT}$')\n",
    "        grid.tight_layout(w_pad=0.25, h_pad=0.1)\n",
    "        #plt.show()\n",
    "        grid.figure.align_ylabels()\n",
    "        grid.tight_layout(w_pad=0.25, h_pad=0.1)\n",
    "        output = \"free_energy_approach\"\n",
    "        plt.close()\n",
    "        grid.savefig(save_to + output + '.' + ext, bbox_inches='tight')\n",
    "        "
   ]
  },
  {
   "cell_type": "code",
   "execution_count": null,
   "id": "188fbdf8",
   "metadata": {},
   "outputs": [],
   "source": [
    "grid.set_titles(\"{col_name} \")\n",
    "        ax = grid.axes[0][0]\n",
    "        ax.text(0.1,0.8,r\"$\\varepsilon_{hc}$\"+fr\"$={eps_hc_chosen}$\", transform=ax.transAxes)\n",
    "        ax.text(0.1,0.65,fr\"$c_h={c_hns_chosen} \\mu M$\", transform=ax.transAxes)\n",
    "        grid.set_ylabels(AL[prop+'-norm-full_name'])\n",
    "        # Iterate over each subplot in the FacetGrid\n",
    "        grid.set(xticks=np.linspace(\n",
    "            1, xtick_nums_chns_nhns[c_hns_chosen],\n",
    "            num=xtick_nums_chns[c_hns_chosen],dtype=int, endpoint=True\n",
    "        ))\n",
    "        grid.set_xlabels(AL[prop+'-bin_center'])\n",
    "        grid.set(yticks=np.arange(0,1.2,0.2))\n",
    "        handles = grid._legend.legend_handles[:len(hue_order)+1]\n",
    "        grid.axes[0,1].legend(\n",
    "            handles,\n",
    "            hue_order,\n",
    "            title=AL[hue_attr],\n",
    "            loc='upper right',\n",
    "            ncols=3,\n",
    "            markerscale=1,\n",
    "            frameon=False\n",
    "        ) \n",
    "        grid._legend.remove()"
   ]
  },
  {
   "cell_type": "markdown",
   "id": "484ec8e1",
   "metadata": {},
   "source": [
    "### Old stuff: Not revised"
   ]
  },
  {
   "cell_type": "code",
   "execution_count": null,
   "id": "1c5537ee",
   "metadata": {},
   "outputs": [],
   "source": [
    "pd.set_option('display.max_columns', 75)\n",
    "chain_free_energy[['dcrowd','dcyl','confinement_rate']].sort_values(by=['confinement_rate']).drop_duplicates()"
   ]
  },
  {
   "cell_type": "code",
   "execution_count": null,
   "id": "6079ac2d",
   "metadata": {},
   "outputs": [],
   "source": [
    "flar_cmap = mpl.colors.ListedColormap(sns.cm._flare_lut)\n",
    "flare_cmap_cut = ptuner.truncated_colormap(flar_cmap,  min_value=0.0, max_value=1.0, ncolors=200)\n",
    "mpl.cm.register_cmap(\"flare_cmap_cut\", flare_cmap_cut)"
   ]
  },
  {
   "cell_type": "code",
   "execution_count": null,
   "id": "c3933e18",
   "metadata": {},
   "outputs": [],
   "source": [
    "conf_rates = chain_free_energy['confinement_rate'].drop_duplicates().sort_values().values\n",
    "conf_rate_colors = sns.color_palette(\"coolwarm_r\", len(conf_rates))#,as_cmap=True)\n",
    "conf_rate_dict = dict(zip(conf_rates,conf_rate_colors))\n",
    "conf_rate_colors"
   ]
  },
  {
   "cell_type": "code",
   "execution_count": null,
   "id": "2b7d41b0",
   "metadata": {},
   "outputs": [],
   "source": [
    "cond_ha = chain_free_energy['vdep_model']=='Ha'\n",
    "chain_free_energy_ha = chain_free_energy.loc[cond_ha,:]"
   ]
  },
  {
   "cell_type": "code",
   "execution_count": null,
   "id": "4f3be6e6",
   "metadata": {},
   "outputs": [],
   "source": [
    "tail_fullname = [' | LJ power-6 law', \n",
    "                 ' | Three-body term']\n",
    "\n",
    "sns.plotting_context(font_scale=3)\n",
    "#sns.set_style(\"white\")\n",
    "sns.axes_style(\"white\")\n",
    "chain_grid = sns.relplot(\n",
    "    data=chain_free_energy,\n",
    "    x='phi_c_out',\n",
    "    y='r_scaled',\n",
    "    hue='vdep_model',\n",
    "    style='dcyl',\n",
    "    size='dcrowd',\n",
    "    col='tail_model',\n",
    "    row='nmon',\n",
    "    kind='scatter',\n",
    "    palette=conf_rate_dict,\n",
    "    height=4,\n",
    "    alpha=None\n",
    ") \n",
    "#chain_grid.set_titles(template=r\"$N={row_name}$ | 'Monomer-monomer interaction:{col_name}\")\n",
    "\n",
    "for row in range(len(chain_grid.axes)):\n",
    "    chain_grid.axes[row,0].set_title(fr\"$N={nmons[row]}$\" + tail_fullname[0])\n",
    "    chain_grid.axes[row,0].grid(True, ls=':', lw=1)\n",
    "    chain_grid.axes[row,0].tick_params(axis='both', direction='inout', width=1.25)\n",
    "    chain_grid.axes[row,1].set_title(fr\"$N={nmons[row]}$\" + tail_fullname[1])\n",
    "    chain_grid.axes[row,1].grid(True, ls=':', lw=1)\n",
    "    chain_grid.axes[row,1].tick_params(axis='both', direction='inout', width=1.25)\n",
    "chain_grid._legend.texts[0].set_text(r\"${a_c}/{D}$ (color)\")\n",
    "chain_grid._legend.texts[1+len(conf_rates)].set_text(r\"${a_c}/{a}$\")\n",
    "chain_grid._legend.texts[2+len(conf_rates)+len(dcrowds)].set_text(r\"${D}/{a}$\")\n",
    "chain_grid.set_ylabels(r\"${R}/{R_0}$\")\n",
    "chain_grid.set_xlabels(r\"$\\phi_c^{(out)}$\")\n",
    "chain_grid.tight_layout()"
   ]
  },
  {
   "cell_type": "code",
   "execution_count": null,
   "id": "0f1b9013",
   "metadata": {},
   "outputs": [],
   "source": [
    "tail_fullname = [' | LJ power-6 law', \n",
    "                 ' | Three-body term']\n",
    "\n",
    "sns.plotting_context(font_scale=3)\n",
    "#sns.set_style(\"white\")\n",
    "sns.axes_style(\"white\")\n",
    "chain_grid = sns.relplot(\n",
    "    data=chain_free_energy_ha,\n",
    "    x='phi_c_out',\n",
    "    y='phi_c_relative',\n",
    "    hue='confinement_rate',\n",
    "    style='dcyl',\n",
    "    size='dcrowd',\n",
    "    col='tail_model',\n",
    "    row='nmon',\n",
    "    kind='scatter',\n",
    "    palette=conf_rate_dict,\n",
    "    height=4,\n",
    "    alpha=None\n",
    ") \n",
    "#chain_grid.set_titles(template=r\"$N={row_name}$ | 'Monomer-monomer interaction:{col_name}\")\n",
    "\n",
    "for row in range(len(chain_grid.axes)):\n",
    "    chain_grid.axes[row,0].set_title(fr\"$N={nmons[row]}$\" + tail_fullname[0])\n",
    "    chain_grid.axes[row,0].grid(True, ls=':', lw=1)\n",
    "    chain_grid.axes[row,0].tick_params(axis='both', direction='inout', width=1.25)\n",
    "    chain_grid.axes[row,1].set_title(fr\"$N={nmons[row]}$\" + tail_fullname[1])\n",
    "    chain_grid.axes[row,1].grid(True, ls=':', lw=1)\n",
    "    chain_grid.axes[row,1].tick_params(axis='both', direction='inout', width=1.25)\n",
    "chain_grid._legend.texts[0].set_text(r\"${a_c}/{D}$ (color)\")\n",
    "chain_grid._legend.texts[1+len(conf_rates)].set_text(r\"${a_c}/{a}$\")\n",
    "chain_grid._legend.texts[2+len(conf_rates)+len(dcrowds)].set_text(r\"${D}/{a}$\")\n",
    "chain_grid.set_ylabels(r\"${\\phi_c^{(in)}}/{\\phi_c^{(out)}}$\")\n",
    "chain_grid.set_xlabels(r\"$\\phi_c^{(out)}$\")\n",
    "chain_grid.tight_layout()"
   ]
  },
  {
   "cell_type": "code",
   "execution_count": null,
   "id": "acf2f9ec",
   "metadata": {},
   "outputs": [],
   "source": [
    "sns.relplot(\n",
    "    data=chain_free_energy,\n",
    "    x='phi_c_out',\n",
    "    y='r_scaled',\n",
    "    hue='dcyl',\n",
    "    style='dcrowd',\n",
    "    col='nmon',\n",
    "    kind='scatter',\n",
    "    palette=\"Spectral\",\n",
    "    col_wrap=3\n",
    ")"
   ]
  },
  {
   "cell_type": "code",
   "execution_count": null,
   "id": "d974d80b",
   "metadata": {},
   "outputs": [],
   "source": [
    "sns.relplot(\n",
    "    data=chain_free_energy,\n",
    "    x='phi_c_out',\n",
    "    y='r_scaled',\n",
    "    hue='nmon',\n",
    "    style='dcyl',\n",
    "    col='dcrowd',\n",
    "    kind='scatter',\n",
    "    palette=\"Spectral\",\n",
    "    col_wrap=3\n",
    ")"
   ]
  },
  {
   "cell_type": "code",
   "execution_count": null,
   "id": "2c031e0c",
   "metadata": {},
   "outputs": [],
   "source": [
    "sns.relplot(\n",
    "    data=chain_free_energy,\n",
    "    x='phi_c_out',\n",
    "    y='r_scaled',\n",
    "    hue='dcyl',\n",
    "    style='nmon',\n",
    "    col='dcrowd',\n",
    "    kind='scatter',\n",
    "    palette=\"Spectral\",\n",
    "    col_wrap=3\n",
    ")"
   ]
  }
 ],
 "metadata": {
  "kernelspec": {
   "display_name": "Python 3 (ipykernel)",
   "language": "python",
   "name": "python3"
  },
  "language_info": {
   "codemirror_mode": {
    "name": "ipython",
    "version": 3
   },
   "file_extension": ".py",
   "mimetype": "text/x-python",
   "name": "python",
   "nbconvert_exporter": "python",
   "pygments_lexer": "ipython3",
   "version": "3.11.7"
  }
 },
 "nbformat": 4,
 "nbformat_minor": 5
}
