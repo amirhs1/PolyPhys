{
 "cells": [
  {
   "cell_type": "code",
   "execution_count": null,
   "id": "58b4919b-91e2-45b3-b667-42ebcef26921",
   "metadata": {},
   "outputs": [],
   "source": [
    "macmini_path = \"/Users/amirhsi/Downloads/epss5epsl5r10.5al5nl5ml125ns400ac1nc27720lz77dt0.005bdump2000adump5000ens8\""
   ]
  },
  {
   "cell_type": "code",
   "execution_count": 1,
   "id": "1f56cfda-2837-41b3-8805-f8a113f3de5e",
   "metadata": {},
   "outputs": [],
   "source": [
    "from glob import glob\n",
    "from polyphys.manage import organizer\n",
    "from polyphys.manage.parser import SumRuleCyl, TransFociCyl, TransFociCubic\n",
    "from polyphys.analyze import analyzer\n",
    "import warnings\n",
    "warnings.filterwarnings(\"ignore\")"
   ]
  },
  {
   "cell_type": "code",
   "execution_count": 3,
   "id": "ec979a68-2f04-4834-a0e9-8bc70b1d4760",
   "metadata": {},
   "outputs": [
    {
     "name": "stdout",
     "output_type": "stream",
     "text": [
      "[Errno 17] File exists: '/Users/amirhsi_mini/research_data/analysis/ns400nl5al5.0ac1.0-bug-ens'\n",
      "Files are saved/overwritten in an existing directory.\n",
      "[Errno 17] File exists: '/Users/amirhsi_mini/research_data/analysis/ns400nl5al5.0ac1.0-bug-ensAvg'\n",
      "Files are saved/overwritten in an existing directory.\n",
      "'['segment', 'segment_id']' are not among columns.\n",
      "CPU times: user 1.45 s, sys: 52.1 ms, total: 1.5 s\n",
      "Wall time: 1.52 s\n"
     ]
    }
   ],
   "source": [
    "%%time\n",
    "# Wall time: 6min 20s\n",
    "geometry = 'cubic'\n",
    "probe_db = \"/Users/amirhsi_mini/research_data/probe/\"\n",
    "project_space_pattern = \"ns*nl*al*ac*-probe-*\"\n",
    "space_dbs = glob(probe_db + project_space_pattern)\n",
    "\n",
    "nonscalar_hist_t_properties = [\n",
    "    # property_, species, group, avg_axis\n",
    "    ('bondsHistT', 'Foci', 'bug', 0),\n",
    "    ('clustersHistT', 'Foci', 'bug', 0)#,\n",
    "]\n",
    "\n",
    "nonscalar_mat_t_properties = [\n",
    "    # property_, species, group, avg_axis\n",
    "    ('distMatT', 'Foci', 'bug')\n",
    "]\n",
    "\n",
    "\n",
    "acf_tseries_properties_bug = [\n",
    "    # property_, species, group\n",
    "    ('fsdT', 'Mon', 'bug'),\n",
    "    ('gyrT', 'Mon', 'bug'),\n",
    "    ('shapeT', 'Mon', 'bug'),\n",
    "    ('asphericityT', 'Mon', 'bug')\n",
    "]\n",
    "\n",
    "for space_db in space_dbs:\n",
    "    analyzer.analyze_bug(\n",
    "        space_db,\n",
    "        '/ns*/al*',\n",
    "        TransFociCubic,\n",
    "        geometry,\n",
    "        False,\n",
    "        nonscalar_hist_t_properties=nonscalar_hist_t_properties,\n",
    "        nonscalar_mat_t_properties=nonscalar_mat_t_properties,\n",
    "        acf_tseries_properties=acf_tseries_properties_bug#,\n",
    "        #hist_properties=hist_properties_bug,\n",
    "        #nlags=100000\n",
    "    )"
   ]
  },
  {
   "cell_type": "code",
   "execution_count": null,
   "id": "968ab95b-be10-4ac3-9ac7-ef7a50f1a23e",
   "metadata": {},
   "outputs": [],
   "source": []
  }
 ],
 "metadata": {
  "kernelspec": {
   "display_name": "Python 3.9 (XPython)",
   "language": "python",
   "name": "xpython"
  },
  "language_info": {
   "file_extension": ".py",
   "mimetype": "text/x-python",
   "name": "python",
   "version": "3.9.13"
  }
 },
 "nbformat": 4,
 "nbformat_minor": 5
}
