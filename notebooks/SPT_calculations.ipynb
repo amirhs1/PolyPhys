{
 "cells": [
  {
   "cell_type": "code",
   "execution_count": 2,
   "metadata": {},
   "outputs": [],
   "source": [
    "import numpy as np"
   ]
  },
  {
   "cell_type": "code",
   "execution_count": 6,
   "metadata": {},
   "outputs": [
    {
     "name": "stdout",
     "output_type": "stream",
     "text": [
      "0.9761532493169941\n"
     ]
    }
   ],
   "source": [
    "n_m = 400\n",
    "a_m = 1\n",
    "a_c = 1\n",
    "q = a_c / a_m\n",
    "phi_m = 0.003\n",
    "y_m = phi_m / (1-phi_m)\n",
    "a_spt = (1+q)**3 - 1\n",
    "b_spt = 9 * q**2 /2 + 3 * q**3\n",
    "c_spt = 3 * q**3\n",
    "Q_spt = a_spt * y_m + b_spt * y_m**2 + c_spt * y_m**3\n",
    "alpha_spt = (1-phi_m) * np.exp(-1 * Q_spt)\n",
    "print(alpha_spt)"
   ]
  }
 ],
 "metadata": {
  "kernelspec": {
   "display_name": "polylab",
   "language": "python",
   "name": "python3"
  },
  "language_info": {
   "codemirror_mode": {
    "name": "ipython",
    "version": 3
   },
   "file_extension": ".py",
   "mimetype": "text/x-python",
   "name": "python",
   "nbconvert_exporter": "python",
   "pygments_lexer": "ipython3",
   "version": "3.11.3"
  }
 },
 "nbformat": 4,
 "nbformat_minor": 2
}
