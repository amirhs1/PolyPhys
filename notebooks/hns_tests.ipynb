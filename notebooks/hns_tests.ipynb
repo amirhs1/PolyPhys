{
 "cells": [
  {
   "cell_type": "code",
   "execution_count": 1,
   "id": "21cd9e75-229b-4c88-87b7-0bee77d5f6bb",
   "metadata": {},
   "outputs": [],
   "source": [
    "%matplotlib inline\n",
    "from glob import glob\n",
    "import numpy as np\n",
    "import matplotlib.pyplot as plt\n",
    "import pandas as pd\n",
    "import seaborn as sns"
   ]
  },
  {
   "cell_type": "code",
   "execution_count": 2,
   "id": "aaa4c466-412f-447a-a2a5-13a44a035006",
   "metadata": {},
   "outputs": [],
   "source": [
    "from typing import Optional, Tuple, Dict\n",
    "import MDAnalysis as mda\n",
    "from MDAnalysis.analysis.base import AnalysisFromFunction\n",
    "import numpy as np\n",
    "import pandas as pd\n",
    "import os\n",
    "from polyphys.manage.typer import ParserT\n",
    "from polyphys.manage.parser import SumRuleCyl, TransFociCyl, TransFociCub\n",
    "from polyphys.manage.organizer import invalid_keyword, sort_filenames\n",
    "from polyphys.analyze import clusters\n",
    "from polyphys.probe.prober import stamps_report\n",
    "import warnings"
   ]
  },
  {
   "cell_type": "code",
   "execution_count": 3,
   "id": "69313ffe-c473-4c63-ac76-d6996ca234a0",
   "metadata": {},
   "outputs": [],
   "source": [
    "from polyphys.manage.parser import HnsCub"
   ]
  },
  {
   "cell_type": "code",
   "execution_count": 4,
   "id": "c4ed0c95-a79d-4a4c-ab90-35998f75b16b",
   "metadata": {},
   "outputs": [],
   "source": [
    "# analyzing bug files.\n",
    "group = 'nucleoid'\n",
    "lineage = 'whole'\n",
    "save_to = './'\n",
    "#macmini_path = \"/Users/amirhsi_mini/trjs/epss5.0epsl5.0r10.5al5.0nl5ml125ns200ac1.0nc*lz77.0dt0.005bdump5000adump5000ens1ring/*.bug*\"\n",
    "macbookpro_path = \"/Users/amirhsi_mini/research_data/hns_cubic-probe/N200epshm29nh37ac2/N200epshm29nh37ac2nc5969l25dt0.005ndump2000adump5000ens1.ring\"\n",
    "nuc_pairs = glob(macbookpro_path + '/N*' + group + '*')\n",
    "nuc_pairs = sort_filenames(\n",
    "    nuc_pairs,\n",
    "    fmts=['.' + group + '.data', '.' + group + '.lammpstrj']\n",
    ")"
   ]
  },
  {
   "cell_type": "code",
   "execution_count": 5,
   "id": "76211e1a-e749-456f-b18f-96e9cbb4e06e",
   "metadata": {},
   "outputs": [
    {
     "data": {
      "text/plain": [
       "[('/Users/amirhsi_mini/research_data/hns_cubic-probe/N200epshm29nh37ac2/N200epshm29nh37ac2nc5969l25dt0.005ndump2000adump5000ens1.ring/N200epshm29nh37ac2nc5969l25dt0.005ndump2000adump5000ens1.ring.nucleoid.data',\n",
       "  '/Users/amirhsi_mini/research_data/hns_cubic-probe/N200epshm29nh37ac2/N200epshm29nh37ac2nc5969l25dt0.005ndump2000adump5000ens1.ring/N200epshm29nh37ac2nc5969l25dt0.005ndump2000adump5000ens1.ring.nucleoid.lammpstrj')]"
      ]
     },
     "execution_count": 5,
     "metadata": {},
     "output_type": "execute_result"
    }
   ],
   "source": [
    "nuc_pairs"
   ]
  },
  {
   "cell_type": "code",
   "execution_count": 6,
   "id": "0b9fbb53-3ca1-40f7-89b2-ce0d29d69415",
   "metadata": {},
   "outputs": [
    {
     "name": "stdout",
     "output_type": "stream",
     "text": [
      "Setting the name of analyze file...\n"
     ]
    },
    {
     "name": "stderr",
     "output_type": "stream",
     "text": [
      "/Users/amirhsi_mini/OneDrive - University of Waterloo/PhD Research/Jupyter/PolyPhys/polyphys/manage/parser.py:1940: UserWarning: It is assumed that 'nc' is the last attribute shortkey in a lineage_name of types: 'ensemble', 'ensemble_long', 'whole', 'segment'.\n",
      "  warnings.warn(convention_warning, UserWarning)\n"
     ]
    },
    {
     "name": "stdout",
     "output_type": "stream",
     "text": [
      "\n",
      "N200epshm29nh37ac2nc5969l25dt0.005ndump2000adump5000ens1.ring-nucleoid is analyzing...\n",
      "\n"
     ]
    }
   ],
   "source": [
    "topology = nuc_pairs[0][0]\n",
    "trajectory = nuc_pairs[0][1]\n",
    "lineage = 'whole'\n",
    "save_to = './'\n",
    "continuous = False\n",
    "if (lineage == 'segment') & (continuous is False):\n",
    "    warnings.warn(\n",
    "        \"lineage is \"\n",
    "        f\"'{lineage}' \"\n",
    "        \"and 'continuous' is \"\n",
    "        f\"'{continuous}. \"\n",
    "        \"Please ensure the \"\n",
    "        f\"'{trajectory}' is NOT part of a sequence of trajectories.\",\n",
    "        UserWarning\n",
    "    )\n",
    "print(\"Setting the name of analyze file...\")\n",
    "sim_info = HnsCub(\n",
    "    trajectory,\n",
    "    lineage,\n",
    "    'cubic',\n",
    "    'nucleoid'\n",
    ")\n",
    "sim_name = sim_info.lineage_name + \"-\" + sim_info.group\n",
    "print(\"\\n\" + sim_name + \" is analyzing...\\n\")\n",
    "# LJ time difference between two consecutive frames:\n",
    "time_unit = sim_info.dmon * np.sqrt(\n",
    "    sim_info.mmon * sim_info.eps_others)  # LJ time unit\n",
    "lj_nstep = sim_info.ndump  # Sampling steps via dump command in Lammps\n",
    "lj_dt = sim_info.dt\n",
    "sim_real_dt = lj_nstep * lj_dt * time_unit\n",
    "cell = mda.Universe(\n",
    "    topology, trajectory, topology_format='DATA',\n",
    "    format='LAMMPSDUMP', lammps_coordinate_convention='unscaled',\n",
    "    atom_style=\"id resid type x y z\", dt=sim_real_dt\n",
    "    )\n",
    "# slicing trajectory based the continuous condition\n",
    "if continuous:\n",
    "    sliced_trj = cell.trajectory[0: -1]\n",
    "    n_frames = cell.trajectory.n_frames - 1\n",
    "else:\n",
    "    sliced_trj = cell.trajectory\n",
    "    n_frames = cell.trajectory.n_frames\n",
    "# selecting atom groups\n",
    "bug = cell.select_atoms('resid 1')  # the bug\n",
    "hns_hole = cell.select_atoms('type 2')  # the hns holes\n",
    "hns_core = cell.select_atoms('type 3')  # the hns cores"
   ]
  },
  {
   "cell_type": "code",
   "execution_count": 36,
   "id": "5e393cb6-c608-4c7f-bfdf-b0a50cc4f7cb",
   "metadata": {},
   "outputs": [],
   "source": [
    "def apply_pbc(\n",
    "    pbc_lengths: np.ndarray,\n",
    "    pbc_lengths_inverse: np.ndarray,\n",
    "    pbc: dict\n",
    ") -> Tuple[np.ndarray, np.ndarray]:\n",
    "    \"\"\"Updates the periodic boundary condition (PBC) information in the\n",
    "    dimentions (keys) by the length (values) passed by `pbc`. The key\n",
    "    are indexes of the `pbc_lengths` and `pbc_lengths_inverse` arrays.\n",
    "\n",
    "    Parameters\n",
    "    ----------\n",
    "    pbc_lengths: numpy.ndarray\n",
    "        An array of lengths/sizes in different directions.\n",
    "    pbc_lengths_inverse: numpy.ndarray\n",
    "        An array of the invesres of lengths/sizes in different directions.\n",
    "    pbc: dict\n",
    "        A dictionary of dimensions (keys) and lenghts (values) in which\n",
    "        the pbc exists.\n",
    "\n",
    "    Return\n",
    "    ------\n",
    "    pbc_lengths: numpy.ndarray\n",
    "        The updated array of lengths/sizes in different directions.\n",
    "    pbc_lengths_inverse: numpy.ndarray\n",
    "        The updated array of the invesres of lengths/sizes in different\n",
    "        directions.\n",
    "    \"\"\"\n",
    "    for dim, length in pbc.items():\n",
    "        pbc_lengths[dim] = length\n",
    "        pbc_lengths_inverse[dim] = 1 / length\n",
    "    return pbc_lengths, pbc_lengths_inverse\n",
    "\n",
    "\n",
    "def dist_sq_matrix(\n",
    "    positions: np.ndarray,\n",
    "    pbc: Optional[dict] = None\n",
    ") -> np.ndarray:\n",
    "    \"\"\"Finds the squares of distances between all the pair of atoms\n",
    "    (even self-distances where i=j) for a given list of atoms' `positions`.\n",
    "\n",
    "    Parameters\n",
    "    ----------\n",
    "    positions: np.ndarray\n",
    "        a matrix with size n_atoms * n_dims of atoms' positions in which\n",
    "        the rows are atoms' positions and the columns are different dimentions\n",
    "        or components.\n",
    "\n",
    "    pbc: dict, defualt None\n",
    "        A dictionary of dimensions (keys) and lenghts (values) in which\n",
    "        the pbc exists.\n",
    "\n",
    "    Rutern\n",
    "    ------\n",
    "    dist_sq: np.ndarray\n",
    "        A square matrix of size n_atoms * n_atoms in which each elements are\n",
    "        the squares of the center-to-center distances between different pairs\n",
    "        of atoms. All the diagonal elements of this materix is 0.\n",
    "\n",
    "    References\n",
    "    ----------\n",
    "    2019 - Albanie S - Euclidean Distance Matrix Trick\n",
    "    \"\"\"\n",
    "    n_atoms, n_dims = positions.shape\n",
    "    # Defining pbc lengths with value zero in all directions:\n",
    "    # The approach allows us to combine linear agebra and numpy broadcasting\n",
    "    # and efficently apply pbc.\n",
    "    pbc_lengths = np.zeros(n_dims)\n",
    "    pbc_lengths_inverse = np.zeros(n_dims)\n",
    "    if pbc is not None:\n",
    "        pbc_lengths, pbc_lengths_inverse = apply_pbc(\n",
    "            pbc_lengths, pbc_lengths_inverse, pbc\n",
    "        )\n",
    "    # Redefining the shapes of different arrays to combine linear algebra\n",
    "    # with numpy broadcasting.\n",
    "    pbc_lengths = np.reshape(pbc_lengths, (n_dims, 1, 1))\n",
    "    pbc_lengths_inverse = np.reshape(pbc_lengths_inverse, (n_dims, 1, 1))\n",
    "    pos_T = positions.T\n",
    "    pos_j_element = np.reshape(pos_T, (n_dims, n_atoms, 1))\n",
    "    pos_i_element = np.reshape(pos_T, (n_dims, 1, n_atoms))\n",
    "    # differences:\n",
    "    dist_sq = pos_j_element - pos_i_element\n",
    "    # applying pbc\n",
    "    dist_sq = dist_sq - pbc_lengths * np.around(pbc_lengths_inverse * dist_sq)\n",
    "    print(dist_sq)\n",
    "    # squaring each elements\n",
    "    dist_sq = dist_sq ** 2\n",
    "    # sum of axis=0 means sum over d x_ijd^2 where d is the number of\n",
    "    # dimentions of a given r_ij^2\n",
    "    dist_sq = np.sum(dist_sq, axis=0)\n",
    "    return dist_sq"
   ]
  },
  {
   "cell_type": "code",
   "execution_count": 40,
   "id": "c81d51b4-8078-4cc3-a7c4-8b6379c38a31",
   "metadata": {},
   "outputs": [
    {
     "data": {
      "text/plain": [
       "array([0.02, 0.08, 0.12])"
      ]
     },
     "execution_count": 40,
     "metadata": {},
     "output_type": "execute_result"
    }
   ],
   "source": [
    "x4[:,0]/50"
   ]
  },
  {
   "cell_type": "code",
   "execution_count": 37,
   "id": "8f9e9ad1-ab7c-423a-bea9-450685a499be",
   "metadata": {},
   "outputs": [
    {
     "name": "stdout",
     "output_type": "stream",
     "text": [
      "[1. 1. 1.]\n",
      "[4. 4. 4.]\n",
      "[6. 6. 6.]\n",
      "[[1. 1. 1.]\n",
      " [4. 4. 4.]\n",
      " [6. 6. 6.]]\n"
     ]
    }
   ],
   "source": [
    "x1 = 1* np.ones(3)\n",
    "print(x1)\n",
    "x2 = 4 * np.ones(3)\n",
    "print(x2)\n",
    "x3 = 6 * np.ones(3)\n",
    "print(x3)\n",
    "x4 = np.array([x1, x2, x3])#.reshape(2,3,1)\n",
    "print(x4)"
   ]
  },
  {
   "cell_type": "code",
   "execution_count": 38,
   "id": "e0b57bf8-7378-4c2e-afc9-1e6f63339683",
   "metadata": {},
   "outputs": [
    {
     "name": "stdout",
     "output_type": "stream",
     "text": [
      "[[[ 0. -3. -5.]\n",
      "  [ 3.  0. -2.]\n",
      "  [ 5.  2.  0.]]\n",
      "\n",
      " [[ 0. -3. -5.]\n",
      "  [ 3.  0. -2.]\n",
      "  [ 5.  2.  0.]]\n",
      "\n",
      " [[ 0. -3. -5.]\n",
      "  [ 3.  0. -2.]\n",
      "  [ 5.  2.  0.]]]\n"
     ]
    },
    {
     "data": {
      "text/plain": [
       "array([[ 0., 27., 75.],\n",
       "       [27.,  0., 12.],\n",
       "       [75., 12.,  0.]])"
      ]
     },
     "execution_count": 38,
     "metadata": {},
     "output_type": "execute_result"
    }
   ],
   "source": [
    "dist_sq_matrix(x4, pbc={0: 50, 1: 50, 2: 50})"
   ]
  },
  {
   "cell_type": "code",
   "execution_count": 29,
   "id": "e66de376-7c9c-4673-9c70-2fc64da76c7a",
   "metadata": {},
   "outputs": [
    {
     "name": "stdout",
     "output_type": "stream",
     "text": [
      "20.1 us +- 251 ns per loop (mean +- std. dev. of 7 runs, 10,000 loops each)\n"
     ]
    }
   ],
   "source": [
    "%%timeit \n",
    "_ = dist_sq_matrix(x4, pbc={0: 50, 1: 50, 2: 50})"
   ]
  },
  {
   "cell_type": "code",
   "execution_count": null,
   "id": "184ae966-7126-4e1c-a4c2-6be15e3ea0e5",
   "metadata": {},
   "outputs": [],
   "source": [
    "%%timeit\n",
    "bonds = bug.positions - np.take(bug.positions, range(1,201), axis=0, mode='wrap')\n",
    "bond_lengths = np.linalg.norm(bonds, axis=1).reshape(bonds.shape[0],1)\n",
    "bonds = np.divide(bonds, bond_lengths)\n",
    "cosines = np.einsum('ij,ij->i', bonds[:-1], bonds[1:])"
   ]
  },
  {
   "cell_type": "code",
   "execution_count": null,
   "id": "1a84b1f7-ab63-4683-b0e7-023942b0ce8e",
   "metadata": {},
   "outputs": [],
   "source": [
    "plt.hist(bond_lengths)"
   ]
  },
  {
   "cell_type": "code",
   "execution_count": null,
   "id": "5665cbf0-0a8a-444d-8064-653d93f4ccfa",
   "metadata": {},
   "outputs": [],
   "source": [
    "bond_lengths.mean()"
   ]
  },
  {
   "cell_type": "code",
   "execution_count": null,
   "id": "450ac8fc-509e-43ce-b714-55e02e1c6372",
   "metadata": {},
   "outputs": [],
   "source": [
    "bonds.shape"
   ]
  },
  {
   "cell_type": "code",
   "execution_count": null,
   "id": "c596d75c-0520-4a95-832b-f0293e34416e",
   "metadata": {},
   "outputs": [],
   "source": [
    "x1 = 2* np.ones(3)\n",
    "print(x1)\n",
    "x2 = np.ones(3)\n",
    "print(x2)\n",
    "x3 = np.array([x1, x2])#.reshape(2,3,1)\n",
    "print(x3)\n",
    "x4 = np.array([x1, x2])#.reshape(2,3,1)\n",
    "print(x4)\n",
    "np.dot(x3,x4.T)"
   ]
  },
  {
   "cell_type": "code",
   "execution_count": null,
   "id": "5921c7cf-3b80-40e2-9178-50d5d2ddcfd9",
   "metadata": {},
   "outputs": [],
   "source": [
    "%%time\n",
    "# defining collectors\n",
    "# -bug:\n",
    "gyr_t = []\n",
    "principal_axes_t = np.empty([0, 3, 3])\n",
    "asphericity_t = []\n",
    "shape_parameter_t = []\n",
    "sliced_trj = cell.trajectory[0: -1]\n",
    "for _ in sliced_trj:\n",
    "    # bug:\n",
    "    # -various measures of chain size\n",
    "    gyr_t.append(bug.radius_of_gyration())\n",
    "    # -shape parameters:\n",
    "    asphericity_t.append(bug.asphericity(pbc=False, unwrap=False))\n",
    "    principal_axes_t = np.append(\n",
    "        principal_axes_t,\n",
    "        np.array([bug.principal_axes(pbc=False)]),\n",
    "        axis=0\n",
    "    )\n",
    "    shape_parameter_t.append(bug.shape_parameter(pbc=False))\n",
    "# Saving collectors to memory\n",
    "# -bug\n",
    "np.save(save_to + sim_name + '-gyrTMon.npy', np.array(gyr_t))\n",
    "np.save(save_to + sim_name + '-asphericityTMon.npy',\n",
    "        np.array(asphericity_t)\n",
    "        )\n",
    "np.save(save_to + sim_name + '-principalTMon.npy', principal_axes_t)\n",
    "np.save(save_to + sim_name + '-shapeTMon.npy', np.array(shape_parameter_t))\n",
    "# Simulation stamps:\n",
    "outfile = save_to + sim_name + \"-stamps.csv\"\n",
    "stamps_report(outfile, sim_info, n_frames)\n",
    "print('done.')"
   ]
  },
  {
   "cell_type": "code",
   "execution_count": null,
   "id": "6bdc76e0-e0e0-440b-be26-db5ed607be04",
   "metadata": {},
   "outputs": [],
   "source": [
    "for (nuc_topo, nuc_trj) in nuc_pairs:\n",
    "    prober.hns_nucleoid_cub(\n",
    "        bug_topo,\n",
    "        bug_trj,\n",
    "        lineage,\n",
    "        save_to = save_to\n",
    "    )"
   ]
  },
  {
   "cell_type": "code",
   "execution_count": null,
   "id": "999567f9-2799-406a-bc26-1fb9dcee1859",
   "metadata": {},
   "outputs": [],
   "source": [
    "gyr = np.loadtxt(gyr_file)\n",
    "#gyr[:,1] = (gyr[:,1] - gyr[:,1].mean())/ np.var(gyr[:,1])\n",
    "t_step=1\n",
    "gyr = gyr[::t_step,:]\n",
    "#t_i=2.13*10**8\n",
    "#t_f=2.53*10**8\n",
    "gyr = pd.DataFrame(gyr, columns=[\"t\", \"gyr\"])\n",
    "#gyr = gyr[gyr['t']<=1.03*10**8]\n",
    "#gyr = gyr.loc[(gyr['t']>=t_i)&(gyr['t']<=t_f),:]\n",
    "gyr['log_t'] = np.log10(gyr.t)\n",
    "gyr_mean = gyr['gyr'].mean()\n",
    "gyr.t.max()"
   ]
  },
  {
   "cell_type": "code",
   "execution_count": null,
   "id": "9345de87-695b-4e72-bf05-ba8b94b45998",
   "metadata": {},
   "outputs": [],
   "source": [
    "gyr = np.load('./N200epshm29nh37ac2nc5969l25dt0.005ndump2000adump5000ens1.ring-nucleoid-gyrTMon.npy')"
   ]
  },
  {
   "cell_type": "code",
   "execution_count": null,
   "id": "9332b1b6-c12c-4c47-a54c-14a8773f4e28",
   "metadata": {},
   "outputs": [],
   "source": [
    "sim_real_dt"
   ]
  },
  {
   "cell_type": "code",
   "execution_count": null,
   "id": "07395d6e-93de-4c12-bfbd-db5626d04cf5",
   "metadata": {},
   "outputs": [],
   "source": [
    "gyr = pd.DataFrame(gyr, columns=[\"gyr\"])\n",
    "#gyr = gyr[gyr['t']<=1.03*10**8]\n",
    "#gyr = gyr.loc[(gyr['t']>=t_i)&(gyr['t']<=t_f),:]\n",
    "gyr['t'] = gyr.index * sim_real_dt\n",
    "gyr['log_t'] = np.log10(gyr.t)\n",
    "gyr_mean = gyr['gyr'].mean()\n",
    "gyr.t.max()"
   ]
  },
  {
   "cell_type": "markdown",
   "id": "1894fdcd-55a7-49f3-9d15-ea37c0c8cf1d",
   "metadata": {
    "tags": []
   },
   "source": [
    "### slicing over different"
   ]
  },
  {
   "cell_type": "code",
   "execution_count": null,
   "id": "91f8de0c-fbfa-4266-a067-591ce2d2a8b9",
   "metadata": {},
   "outputs": [],
   "source": [
    "\n",
    "t_choice = [  # upper 1.03*10**8\n",
    "    [3*10**6, 2.53*10**8, r'$\\Delta t/\\tau=25\\times 10^7$'],\n",
    "    [0.03*10**8, 1.03*10**8, r'$\\Delta t/\\tau=10\\times 10^7$'],\n",
    "    [0.53*10**8, 1.03*10**8, r'$\\Delta t/\\tau=5\\times 10^7$'],\n",
    "    [0.83*10**8, 1.03*10**8, r'$\\Delta t/\\tau=2\\times 10^7$'],\n",
    "    [0.93*10**8, 1.03*10**8, r'$\\Delta t/\\tau=1\\times 10^7$'],\n",
    "    [0.98*10**8, 1.03*10**8, r'$\\Delta t/\\tau=0.5\\times 10^7$'],\n",
    "    [1.02*10**8, 1.03*10**8, r'$\\Delta t/\\tau=0.1\\times 10^7$']\n",
    "]\n",
    "t_choice = [  # upper 2.03*10**8\n",
    "    [3*10**6, 2.53*10**8, r'$\\Delta t/\\tau=25\\times 10^7$'],\n",
    "    [1.03*10**8, 2.03*10**8, r'$\\Delta t/\\tau=10\\times 10^7$'],\n",
    "    [1.53*10**8, 2.03*10**8, r'$\\Delta t/\\tau=5\\times 10^7$'],\n",
    "    [1.83*10**8, 2.03*10**8, r'$\\Delta t/\\tau=2\\times 10^7$'],\n",
    "    [1.93*10**8, 2.03*10**8, r'$\\Delta t/\\tau=1\\times 10^7$'],\n",
    "    [1.98*10**8, 2.03*10**8, r'$\\Delta t/\\tau=0.5\\times 10^7$'],\n",
    "    [2.02*10**8, 2.03*10**8, r'$\\Delta t/\\tau=0.1\\times 10^7$']\n",
    "]\n",
    "t_choice = [  # upper 1.53*10**8\n",
    "    [3*10**6, 2.53*10**8, r'$\\Delta t/\\tau=25\\times 10^7$'],\n",
    "    [0.53*10**8, 1.53*10**8, r'$\\Delta t/\\tau=10\\times 10^7$'],\n",
    "    [1.03*10**8, 1.53*10**8, r'$\\Delta t/\\tau=5\\times 10^7$'],\n",
    "    [1.33*10**8, 1.53*10**8, r'$\\Delta t/\\tau=2\\times 10^7$'],\n",
    "    [1.43*10**8, 1.53*10**8, r'$\\Delta t/\\tau=1\\times 10^7$'],\n",
    "    [1.48*10**8, 1.53*10**8, r'$\\Delta t/\\tau=0.5\\times 10^7$'],\n",
    "    [1.52*10**8, 1.53*10**8, r'$\\Delta t/\\tau=0.1\\times 10^7$']\n",
    "]"
   ]
  },
  {
   "cell_type": "code",
   "execution_count": null,
   "id": "a7c69728-6aa5-4496-86f9-cb79207594f6",
   "metadata": {},
   "outputs": [],
   "source": [
    "t_choice = [  # upper 1.53*10**8\n",
    "    [0, 10*10**5, r'$\\Delta t/\\tau=25\\times 10^7$'],\n",
    "    [5*10**5, 10*10**5, r'$\\Delta t/\\tau=10\\times 10^7$'],\n",
    "    [1*10**5, 5*10**5, r'$\\Delta t/\\tau=5\\times 10^7$'],\n",
    "    [5*10**4, 10*10**4, r'$\\Delta t/\\tau=2\\times 10^7$'],\n",
    "    [2.5*10**4, 5*10**4, r'$\\Delta t/\\tau=1\\times 10^7$'],\n",
    "    [1.25*10**4, 2.5*10**4, r'$\\Delta t/\\tau=0.5\\times 10^7$'],\n",
    "    [0, 10**5, r'$\\Delta t/\\tau=0.1\\times 10^7$']\n",
    "]"
   ]
  },
  {
   "cell_type": "code",
   "execution_count": null,
   "id": "208a0890-4068-4f56-abe8-d52ff690ac09",
   "metadata": {},
   "outputs": [],
   "source": [
    "fig, axes = plt.subplots(7,1, figsize=(16,36))\n",
    "fig.suptitle(r\"$t_{final}/\\tau=15.3\\times 10^7$\",y=0.98)\n",
    "color_palette = 'flare'\n",
    "#color_palette = 'tab10'\n",
    "#color_palette = ['orange', 'darkgoldenrod', 'forestgreen']\n",
    "save_to = './'\n",
    "ext = 'pdf'\n",
    "plot_context = 'talk'\n",
    "font_scale = 2\n",
    "height = 4\n",
    "aspect = 2*1.618\n",
    "ylabel_pad = 50\n",
    "rc_params= {\n",
    "    'axes.facecolor': 'aliceblue',\n",
    "    'mathtext.default': 'regular',\n",
    "    'text.usetex': True,\n",
    "    'axes.grid': True,\n",
    "    'axes.grid.axis': 'both',\n",
    "    'axes.grid.which': 'both',\n",
    "    'xtick.top': True,\n",
    "    'xtick.direction': 'in',\n",
    "    'ytick.right': True,\n",
    "    'ytick.direction': 'in',\n",
    "}\n",
    "font_family = 'sans-serif'\n",
    "sns.set_theme(\n",
    "    context=plot_context,\n",
    "    style='ticks',\n",
    "    palette=color_palette,\n",
    "    font='Times New Roman',\n",
    "    font_scale=font_scale,\n",
    "    rc=rc_params\n",
    ")\n",
    "for ax, (t_i, t_f, dt) in zip(axes,t_choice):\n",
    "    gyr_sliced = gyr.loc[(gyr['t']>=t_i)&(gyr['t']<=t_f),:]\n",
    "    gyr_mean = np.round(gyr_sliced['gyr'].mean(),2)\n",
    "    ax = sns.lineplot(\n",
    "        data=gyr_sliced,\n",
    "        x='t',\n",
    "        y='gyr',\n",
    "        ci=None,\n",
    "        palette=color_palette,\n",
    "        ax=ax,\n",
    "        label=dt,\n",
    "    )\n",
    "    ax.axhline(\n",
    "        gyr_mean, color='royalblue',\n",
    "        label=rf'$\\langle \\sqrt{{R^2_g}}\\rangle={gyr_mean}$', \n",
    "        lw=2, ls='-'\n",
    "    )\n",
    "    ax.legend(facecolor='white', loc='upper left', ncol=2)\n",
    "    ax.set_ylabel(r'$\\sqrt{R^2_g}/\\sigma$')\n",
    "    ax.set_xlabel(r'$t/\\tau$')\n",
    "fig.tight_layout(w_pad=1, h_pad=0)\n",
    "plt.show()\n",
    "fig.savefig(\"gyrTDna-slices.pdf\")"
   ]
  },
  {
   "cell_type": "markdown",
   "id": "f0778508-73a9-4a2f-bb9b-ef21d0a53882",
   "metadata": {},
   "source": [
    "### Semi-log to show reaching equilibrium"
   ]
  },
  {
   "cell_type": "code",
   "execution_count": null,
   "id": "bf3e3a7b-64d7-4b4d-b390-90a1663ceae3",
   "metadata": {},
   "outputs": [],
   "source": [
    "fig, axes = plt.subplots(2, 1, figsize=(16,18))\n",
    "color_palette = 'flare'\n",
    "save_to = './'\n",
    "ext = 'pdf'\n",
    "plot_context = 'talk'\n",
    "font_scale = 2\n",
    "height = 4\n",
    "aspect = 2*1.618\n",
    "ylabel_pad = 50\n",
    "rc_params= {\n",
    "    'axes.facecolor': 'aliceblue',\n",
    "    'mathtext.default': 'regular',\n",
    "    'text.usetex': True,\n",
    "    'axes.grid': True,\n",
    "    'axes.grid.axis': 'both',\n",
    "    'axes.grid.which': 'both',\n",
    "    'xtick.top': True,\n",
    "    'xtick.direction': 'in',\n",
    "    'ytick.right': True,\n",
    "    'ytick.direction': 'in',\n",
    "}\n",
    "font_family = 'sans-serif'\n",
    "sns.set_theme(\n",
    "    context=plot_context,\n",
    "    style='ticks',\n",
    "    palette=color_palette,\n",
    "    font='Times New Roman',\n",
    "    font_scale=font_scale,\n",
    "    rc=rc_params\n",
    ")\n",
    "axes[0] = sns.lineplot(\n",
    "    data=gyr,\n",
    "    x='t',\n",
    "    y='gyr',\n",
    "    ci=None,\n",
    "    palette=color_palette,\n",
    "    ax=axes[0]\n",
    ")\n",
    "fig.suptitle(r\"$\\Delta t_{sim}/\\tau=28.7\\times 10^7$\",y=0.92)\n",
    "axes[0].set_xlabel(r'$t/\\tau$')\n",
    "axes[0].axhline(gyr_mean, color='royalblue', label=r'$\\langle \\sqrt{R^2_g}\\rangle$', \n",
    "                lw=2, ls='-')\n",
    "axes[0].legend(facecolor='white', loc='upper right')\n",
    "axes[0].set_ylabel(r'$\\sqrt{R^2_g}/\\sigma$')\n",
    "axes[1].semilogx(\n",
    "    gyr['t'],\n",
    "    gyr['gyr']\n",
    ")\n",
    "axes[1].set_xlabel(r'$\\log(t/\\tau)$')\n",
    "axes[1].axhline(gyr_mean, color='royalblue', label=r'$\\langle \\sqrt{R^2_g}\\rangle$', \n",
    "                lw=2, ls='-')\n",
    "axes[1].legend(facecolor='white', loc='upper right')\n",
    "axes[1].set_ylabel(r'$\\sqrt{R^2_g}/\\sigma$')\n",
    "plt.show()\n",
    "fig.savefig(\"gyrTDna-semiLogX.pdf\")"
   ]
  },
  {
   "cell_type": "code",
   "execution_count": null,
   "id": "678a0e27-c3b3-4d24-a4d6-1a21bbdc9057",
   "metadata": {},
   "outputs": [],
   "source": []
  }
 ],
 "metadata": {
  "kernelspec": {
   "display_name": "Python 3.9 (XPython)",
   "language": "python",
   "name": "xpython"
  },
  "language_info": {
   "file_extension": ".py",
   "mimetype": "text/x-python",
   "name": "python",
   "version": "3.9.13"
  }
 },
 "nbformat": 4,
 "nbformat_minor": 5
}
