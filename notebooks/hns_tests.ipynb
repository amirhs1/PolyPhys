{
 "cells": [
  {
   "cell_type": "code",
   "execution_count": 1,
   "id": "21cd9e75-229b-4c88-87b7-0bee77d5f6bb",
   "metadata": {
    "tags": []
   },
   "outputs": [],
   "source": [
    "%matplotlib inline\n",
    "from glob import glob\n",
    "import matplotlib.pyplot as plt\n",
    "import seaborn as sns"
   ]
  },
  {
   "cell_type": "code",
   "execution_count": 2,
   "id": "f17d16b0",
   "metadata": {
    "collapsed": false,
    "jupyter": {
     "outputs_hidden": false
    },
    "tags": []
   },
   "outputs": [],
   "source": [
    "from typing import Optional, Tuple, Dict\n",
    "import MDAnalysis as mda\n",
    "from MDAnalysis.analysis.base import AnalysisFromFunction\n",
    "import numpy as np\n",
    "import pandas as pd\n",
    "from MDAnalysis import transformations as mda_trans\n",
    "from MDAnalysis.analysis import distances as mda_dist\n",
    "import os\n",
    "from polyphys.manage.typer import ParserT\n",
    "from polyphys.manage.parser import SumRuleCyl, TransFociCyl, TransFociCub, Dump\n",
    "from polyphys.manage.organizer import invalid_keyword, sort_filenames\n",
    "from polyphys.analyze import clusters\n",
    "from polyphys.analyze import correlations\n",
    "from polyphys.probe import prober\n",
    "from polyphys.probe.prober import stamps_report\n",
    "import warnings\n",
    "\n",
    "from MDAnalysis.analysis import polymer\n",
    "from MDAnalysis.analysis import distances\n",
    "from polyphys.manage.parser import HnsCub\n",
    "from polyphys.manage import organizer"
   ]
  },
  {
   "cell_type": "code",
   "execution_count": 3,
   "id": "62c688d4-2c47-4dd2-a624-a9de97ca6406",
   "metadata": {
    "tags": []
   },
   "outputs": [],
   "source": [
    "import MDAnalysis as mda\n",
    "import MDAnalysis.analysis.msd as msd"
   ]
  },
  {
   "cell_type": "markdown",
   "id": "ee8e021a-fab3-4b8f-aa12-66c8b5b3c85d",
   "metadata": {
    "tags": []
   },
   "source": [
    "### Probe explorations"
   ]
  },
  {
   "cell_type": "code",
   "execution_count": null,
   "id": "c4ed0c95-a79d-4a4c-ab90-35998f75b16b",
   "metadata": {
    "tags": []
   },
   "outputs": [],
   "source": [
    "# analyzing bug files.\n",
    "group = 'nucleoid'\n",
    "lineage = 'whole'\n",
    "save_to = './'\n",
    "#path = \"/Users/amirhsi/OneDrive - University of Waterloo/PhD Research/Jupyter/N200epshm29kbmm10nh0ac2nc0l50dt0.005ndump2000adump5000ens1.ring\"\n",
    "#path = \"/Users/amirhsi_mini/OneDrive - University of Waterloo/PhD Research/Jupyter/N200epshm29kbmm20nh48ac2nc0l60dt0.005ndump2000adump5000ens1.ring\"\n",
    "#path = \"/Users/amirhsi_mini/research_data/N200epshm29kbmm10nh0ac2nc0l50dt0.005ndump2000adump5000ens1.ring\"\n",
    "#path = \"../../Datasets/N200epshm29kbmm2nh48ac1nc95493l25dt0.005ndump2000adump5000ens1.ring\"\n",
    "#path = \"/Users/amirhsi_mini/research_data/N200epshm29kbmm2nh0ac2nc0l25dt0.005ndump2000adump5000ens1.ring\"\n",
    "path = \"../../N200epshm29kbmm2nh0ac2nc0l25dt0.005ndump2000adump5000ens1.ring\"\n",
    "nuc_pairs = glob(path + '/N*' + group + '*')\n",
    "nuc_pairs = sort_filenames(\n",
    "    nuc_pairs,\n",
    "    fmts=['.' + group + '.data', '.' + group + '.lammpstrj']\n",
    ")\n",
    "nuc_pairs"
   ]
  },
  {
   "cell_type": "code",
   "execution_count": null,
   "id": "0b9fbb53-3ca1-40f7-89b2-ce0d29d69415",
   "metadata": {
    "tags": []
   },
   "outputs": [],
   "source": [
    "%%time\n",
    "# 50 mins\n",
    "for nuc_pair in nuc_pairs[:1]:\n",
    "    topology = nuc_pair[0]\n",
    "    trajectory = nuc_pair[1]\n",
    "    lineage = 'whole'\n",
    "    save_to = './'\n",
    "    continuous = False\n",
    "    if (lineage == 'segment') & (continuous is False):\n",
    "        warnings.warn(\n",
    "            \"lineage is \"\n",
    "            f\"'{lineage}' \"\n",
    "            \"and 'continuous' is \"\n",
    "            f\"'{continuous}. \"\n",
    "            \"Please ensure the \"\n",
    "            f\"'{trajectory}' is NOT part of a sequence of trajectories.\",\n",
    "            UserWarning\n",
    "        )\n",
    "    print(\"Setting the name of analyze file...\")\n",
    "    sim_info = HnsCub(\n",
    "        trajectory,\n",
    "        lineage,\n",
    "        'cubic',\n",
    "        'nucleoid',\n",
    "        'ring'\n",
    "    )\n",
    "    sim_name = sim_info.lineage_name + \"-\" + sim_info.group\n",
    "    print(\"\\n\" + sim_name + \" is analyzing...\\n\")\n",
    "    # LJ time difference between two consecutive frames:\n",
    "    time_unit = sim_info.dmon * np.sqrt(\n",
    "        sim_info.mmon * sim_info.eps_others)  # LJ time unit\n",
    "    # Sampling via LAMMPS dump every 'ndump', so trajectory dt is:\n",
    "    sim_real_dt = sim_info.ndump * sim_info.dt * time_unit\n",
    "    cell = mda.Universe(\n",
    "        topology, trajectory, topology_format='DATA',\n",
    "        format='LAMMPSDUMP', lammps_coordinate_convention='unscaled',\n",
    "        unwrap_images=True,\n",
    "        atom_style=\"id resid type x y z\", dt=sim_real_dt,\n",
    "        )\n",
    "    if continuous:\n",
    "        sliced_trj = cell.trajectory[0: -1]\n",
    "        n_frames = cell.trajectory.n_frames - 1\n",
    "    else:\n",
    "        sliced_trj = cell.trajectory[::10000]\n",
    "        n_frames = cell.trajectory.n_frames\n",
    "        n_frames = len(sliced_trj)\n",
    "    # selecting atom groups:\n",
    "    bug = cell.select_atoms('resid 1')  # the bug\n",
    "    hns_patch = cell.select_atoms('type 2')  # the hns patches\n",
    "    # transformations:\n",
    "    workflow = [\n",
    "        mda_trans.unwrap(cell.atoms),\n",
    "        mda_trans.center_in_box(bug),\n",
    "        mda_trans.wrap(cell.atoms)\n",
    "    ]\n",
    "    cell.trajectory.add_transformations(*workflow)\n",
    "    # defining collectors\n",
    "    # bug:\n",
    "    gyr_t = []\n",
    "    principal_axes_t = np.empty([0, 3, 3])\n",
    "    asphericity_t = []\n",
    "    shape_parameter_t = []\n",
    "    # - bond info\n",
    "    n_bonds = len(bug.bonds.indices)\n",
    "    bond_lengths = np.zeros((n_bonds,1), dtype=np.float64)\n",
    "    cosine_corrs = np.zeros(n_bonds, dtype=np.float64)\n",
    "    # mon and hns-patch are attracted if their distance <= the below distance:\n",
    "    m_hpatch_attr_cutoff = 0.5 * (sim_info.dmon + sim_info.dhns_patch)\n",
    "    m_hpatch_shape = (sim_info.nmon, 2 * sim_info.nhns)\n",
    "    m_m_shape = (sim_info.nmon, sim_info.nmon)\n",
    "    # distance matrices\n",
    "    dist_m_hpatch = np.zeros(m_hpatch_shape, dtype=np.float64)\n",
    "    dist_m_m = np.zeros(m_m_shape, dtype=np.float64)\n",
    "    # contact matrices\n",
    "    dir_contacts_m_hpatch = np.zeros(m_hpatch_shape, dtype=np.int64)\n",
    "    dir_contacts_m_m = np.zeros(m_m_shape, dtype=np.int64)\n",
    "    for _ in sliced_trj:\n",
    "        # bug:\n",
    "        # -various measures of chain size\n",
    "        gyr_t.append(bug.radius_of_gyration())\n",
    "        # -shape parameters:\n",
    "        asphericity_t.append(bug.asphericity())\n",
    "        principal_axes_t = np.append(\n",
    "            principal_axes_t,\n",
    "            np.array([bug.principal_axes()]),\n",
    "            axis=0\n",
    "        )\n",
    "        shape_parameter_t.append(bug.shape_parameter())\n",
    "        # -bond info\n",
    "        bond_dummy, cosine_dummy = correlations.bond_info(\n",
    "            bug,\n",
    "            sim_info.topology\n",
    "            )\n",
    "        bond_lengths += bond_dummy\n",
    "        cosine_corrs += cosine_dummy\n",
    "        # bug - hns patch:\n",
    "        # - distance matrices\n",
    "        dummy = mda_dist.distance_array(bug, hns_patch, box=cell.dimensions)\n",
    "        print(dummy.shape)\n",
    "        dist_m_hpatch += dummy\n",
    "        dummy_m_m = np.matmul(dummy, dummy.T)\n",
    "        dist_m_m += dummy_m_m\n",
    "        # - contact matrices\n",
    "        dummy = np.asarray(dummy <= m_hpatch_attr_cutoff, dtype=int)\n",
    "        dir_contacts_m_hpatch += dummy\n",
    "        dummy_m_m = np.matmul(dummy, dummy.T)\n",
    "        dir_contacts_m_m += dummy_m_m\n",
    "    # Saving collectors to memory\n",
    "    # bug\n",
    "    np.save(save_to + sim_name + '-gyrTMon.npy', np.array(gyr_t))\n",
    "    outfile = save_to + sim_name + \"-stamps.csv\"\n",
    "    stamps_report(outfile, sim_info, n_frames)\n",
    "    np.save(save_to + sim_name + '-asphericityTMon.npy',\n",
    "            np.array(asphericity_t)\n",
    "            )\n",
    "    np.save(save_to + sim_name + '-principalTMon.npy', principal_axes_t)\n",
    "    np.save(save_to + sim_name + '-shapeTMon.npy', shape_parameter_t)\n",
    "    bond_lengths = bond_lengths / n_frames\n",
    "    bonds_per_lag = np.arange(n_bonds, 0, -1)\n",
    "    cosine_corrs = cosine_corrs / (n_frames * bonds_per_lag)\n",
    "    np.save(save_to + sim_name + '-bondLengthVecMon.npy', bond_lengths)\n",
    "    np.save(save_to + sim_name + '-bondCosineCorrVecMon.npy', cosine_corrs)\n",
    "    # bug hns-patch:\n",
    "    dist_m_hpatch = dist_m_hpatch / n_frames\n",
    "    dist_m_m = dist_m_m / n_frames\n",
    "    dir_contacts_m_hpatch = dir_contacts_m_hpatch / n_frames\n",
    "    dir_contacts_m_m = dir_contacts_m_m / n_frames\n",
    "    np.save(\n",
    "        save_to + sim_name + \"-distMatTMonPatch.npy\", dist_m_hpatch\n",
    "    )\n",
    "    np.save(\n",
    "        save_to + sim_name + \"-distMatTMonMon.npy\", dist_m_m\n",
    "    )\n",
    "    np.save(\n",
    "        save_to + sim_name + \"-directContactsMatTMonPatch.npy\",\n",
    "        dir_contacts_m_hpatch\n",
    "    )\n",
    "    np.save(\n",
    "        save_to + sim_name + \"-directContactsMatTMonMon.npy\",\n",
    "        dir_contacts_m_m\n",
    "    )\n",
    "    # Simulation stamps:\n",
    "    print('done.')"
   ]
  },
  {
   "cell_type": "markdown",
   "id": "69edc4f1-7cf6-4dd0-b50e-04b234e45861",
   "metadata": {
    "jp-MarkdownHeadingCollapsed": true,
    "tags": []
   },
   "source": [
    "### MSD of monomers: g_1(t)"
   ]
  },
  {
   "cell_type": "code",
   "execution_count": null,
   "id": "020979a0-c3b8-491d-b629-be6d8ef190c3",
   "metadata": {
    "tags": []
   },
   "outputs": [],
   "source": [
    "MSD = msd.EinsteinMSD(cell, select='resid 1', msd_type='xyz', fft=True)\n",
    "MSD.run()"
   ]
  },
  {
   "cell_type": "code",
   "execution_count": null,
   "id": "79f4e6ed-2ec0-4c16-a8d7-3351465c1a03",
   "metadata": {},
   "outputs": [],
   "source": [
    "mda.__version__"
   ]
  },
  {
   "cell_type": "code",
   "execution_count": null,
   "id": "4483f3ae-09e2-401c-ba7d-291022f30b0d",
   "metadata": {
    "tags": []
   },
   "outputs": [],
   "source": [
    "core_msd = MSD.results.timeseries\n",
    "#core_msd"
   ]
  },
  {
   "cell_type": "code",
   "execution_count": null,
   "id": "9ed7a9be-fa07-4a07-9967-56b1d0484008",
   "metadata": {
    "tags": []
   },
   "outputs": [],
   "source": [
    "nframes = MSD.n_frames\n",
    "timestep = 1 # this needs to be the actual time between frames\n",
    "lag_times = np.arange(nframes)*timestep # make the lag-time axis\n",
    "fig = plt.figure()\n",
    "ax = plt.axes()\n",
    "# plot the actual MSD\n",
    "ax.plot(lag_times, core_msd)#, lc=\"black\", ls=\"-\", label=r'3D random walk')\n",
    "#exact = lag_times*6\n",
    "# plot the exact result\n",
    "#ax.plot(lag_times, exact, lc=\"black\", ls=\"--\", label=r'$y=2 D\\tau$')\n",
    "\n",
    "plt.show()"
   ]
  },
  {
   "cell_type": "markdown",
   "id": "8c4f0e3f-780f-4f4d-a823-422143747fe5",
   "metadata": {
    "tags": []
   },
   "source": [
    "### g_2(t): mean-square-displacement in center of gravity of chain in the center of mass reference"
   ]
  },
  {
   "cell_type": "code",
   "execution_count": null,
   "id": "f2e5acfb-7d1e-4dbc-ad9f-83e4147c38f8",
   "metadata": {
    "tags": []
   },
   "outputs": [],
   "source": [
    "#time = []\n",
    "rgyr = []\n",
    "for ts in cell.trajectory:\n",
    "    #if ts.time == 0:\n",
    "    #if ts ==\n",
    "    #time.append(cell.trajectory.time)\n",
    "    rgyr.append(bug.radius_of_gyration())\n"
   ]
  },
  {
   "cell_type": "code",
   "execution_count": null,
   "id": "376216d2-e05f-431f-82e0-e2a3d5b3ff77",
   "metadata": {
    "tags": []
   },
   "outputs": [],
   "source": [
    "np.asarray(rgyr).mean()"
   ]
  },
  {
   "cell_type": "code",
   "execution_count": null,
   "id": "526be45f-8748-4638-a1c5-25910bef2ea2",
   "metadata": {},
   "outputs": [],
   "source": [
    "def gyr_squared(group, gyr_0, wrap=False):\n",
    "    \"\"\"Radius of gyration.\n",
    "    Parameters\n",
    "    ----------\n",
    "    gyr_0\n",
    "    group\n",
    "    wrap : bool, optional\n",
    "        If ``True``, move all atoms within the primary unit cell before\n",
    "        calculation. [``False``]\n",
    "    .. versionchanged:: 0.8\n",
    "       Added `pbc` keyword\n",
    "    .. versionchanged:: 2.1.0\n",
    "       Renamed `pbc` kwarg to `wrap`. `pbc` is still accepted but\n",
    "       is deprecated and will be removed in version 3.0.\n",
    "    \"\"\"\n",
    "    atomgroup = group.atoms\n",
    "    masses = atomgroup.masses\n",
    "    com = atomgroup.center_of_mass(wrap=wrap)\n",
    "    if wrap:\n",
    "        recentered_pos = atomgroup.pack_into_box(inplace=False) - com\n",
    "    else:\n",
    "        recentered_pos = atomgroup.positions - com - gyr_0\n",
    "    rog_sq = np.sum(masses * np.sum(recentered_pos**2,\n",
    "                                    axis=1)) / atomgroup.total_mass()\n",
    "    return rog_sq"
   ]
  }
 ],
 "metadata": {
  "kernelspec": {
   "display_name": "Python 3 (ipykernel)",
   "language": "python",
   "name": "python3"
  },
  "language_info": {
   "codemirror_mode": {
    "name": "ipython",
    "version": 3
   },
   "file_extension": ".py",
   "mimetype": "text/x-python",
   "name": "python",
   "nbconvert_exporter": "python",
   "pygments_lexer": "ipython3",
   "version": "3.11.3"
  },
  "widgets": {
   "application/vnd.jupyter.widget-state+json": {
    "state": {},
    "version_major": 2,
    "version_minor": 0
   }
  }
 },
 "nbformat": 4,
 "nbformat_minor": 5
}
