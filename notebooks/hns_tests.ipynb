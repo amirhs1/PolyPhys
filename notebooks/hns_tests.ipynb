{
 "cells": [
  {
   "cell_type": "code",
   "execution_count": 2,
   "id": "21cd9e75-229b-4c88-87b7-0bee77d5f6bb",
   "metadata": {
    "tags": []
   },
   "outputs": [],
   "source": [
    "%matplotlib inline\n",
    "from glob import glob\n",
    "import numpy as np\n",
    "import matplotlib.pyplot as plt\n",
    "import pandas as pd\n",
    "import seaborn as sns"
   ]
  },
  {
   "cell_type": "code",
   "execution_count": 8,
   "id": "aaa4c466-412f-447a-a2a5-13a44a035006",
   "metadata": {
    "tags": []
   },
   "outputs": [],
   "source": [
    "from typing import Optional, Tuple, Dict\n",
    "import MDAnalysis as mda\n",
    "from MDAnalysis.analysis.base import AnalysisFromFunction\n",
    "import numpy as np\n",
    "import pandas as pd\n",
    "import os\n",
    "from polyphys.manage.typer import ParserT\n",
    "from polyphys.manage.parser import SumRuleCyl, TransFociCyl, TransFociCub, Dump\n",
    "from polyphys.manage.organizer import invalid_keyword, sort_filenames\n",
    "from polyphys.analyze import clusters\n",
    "from polyphys.probe.prober import stamps_report\n",
    "import warnings\n",
    "\n",
    "from MDAnalysis.analysis import polymer\n",
    "from MDAnalysis.analysis import distances\n",
    "from polyphys.manage.parser import HnsCub\n",
    "from polyphys.manage import organizer"
   ]
  },
  {
   "cell_type": "code",
   "execution_count": 4,
   "id": "62c688d4-2c47-4dd2-a624-a9de97ca6406",
   "metadata": {
    "tags": []
   },
   "outputs": [],
   "source": [
    "import MDAnalysis as mda\n",
    "import MDAnalysis.analysis.msd as msd"
   ]
  },
  {
   "cell_type": "code",
   "execution_count": null,
   "id": "38b6d31f-11d8-401e-9159-c20e9516cddf",
   "metadata": {
    "jupyter": {
     "source_hidden": true
    },
    "tags": []
   },
   "outputs": [],
   "source": [
    "attr_labels = {\n",
    "    \"phi_c_bulk_round\": \"$\\phi_c$\",\n",
    "    \"time\": \"$\\hat{{t}}$\",\n",
    "    \"time_norm\": \"$\\hat{{t}}/\\hat{{t}}^{{max}}$\",\n",
    "    \"lags\": \"$\\hat{t}_{lags}$\",\n",
    "    \"dmon_large\": \"${{a_M}}/{{a_m}}$\",\n",
    "    \"dcrowd\": \"${{a_c}}/{{a_m}}$\",\n",
    "    \"dcyl\": \"${{D}}/{{a_m}}$\",\n",
    "    \"nmon_small\": \"$N_m$\",\n",
    "    \"nmon_large\": \"$N_M$\",\n",
    "    'phi_c_bulk_norm': \"${a\\phi_c}/{a_c}$\",\n",
    "    'genomic_distance':  '$\\Delta n$',\n",
    "    'bin_center':'$r$',\n",
    "    'bin_center-norm-dmon_large':'${{r}}/{{a_M}}$',\n",
    "    'bin_center-norm':'${{r}}/{{r_{max}}}$',\n",
    "    'bin_center-r':'$r$',\n",
    "    'bin_center-norm-r':'${{2r}}/{{D}}$',\n",
    "    'bin_center-recentered-norm-r':'${{(2r-a^{shift})}}/{{D}}$',\n",
    "    'bin_center-dcrowd-r':'${{2r}}/{{a_c}}$',\n",
    "    'bin_center-dcrowd-recentered-r':'${{(2r-a^{shift})}}/{{a_c}}$',\n",
    "    'bin_center-z':'$z$',\n",
    "    'bin_center-norm-z':'${{|z|}}/{{z_{max}}}$',\n",
    "    'bin_center-dcrowd-z':'${{|z|}}/{{z_{max}}}$',\n",
    "    'bin_center-dcrowd-recentered-z':'${{|z|}}/{{z_{max}}}$',\n",
    "    'bin_center-theta':'$\\theta$',\n",
    "    'bin_center-dcrowd-theta':'${{\\theta}}/{{\\pi}}$',\n",
    "    'bin_center-norm-theta':'${{\\theta}}/{{\\pi}}$',\n",
    "    'nmon':'$N$',\n",
    "    'nhns':'$N_{{hns}}$',\n",
    "    'nmon_large':'$N_M$',\n",
    "    'phi_c_rescaled':'$\\\\frac{{a\\phi_c}}{{a_c}}$',\n",
    "    'confinement_rate':'$\\kappa=\\\\frac{{a_c}}{{D-a_c}}$',\n",
    "    'confinement_rate_r':'$\\kappa=\\\\frac{{D-a_c}}{{a_c}}$',\n",
    "    'dep_energy_max':'$\\mathcal{F}_{dep}=\\phi_c^{(bulk)}[1+{{3a_m}}{{2a_c}}]$',\n",
    "    'int_energy_max':'$\\mathcal{F}_{int}=\\\\frac{{Na\\phi_c^{(bulk)}}}{{a_c}}[3a_ma_c + \\\\frac{{3}}{{2}}]$',\n",
    "    'species': 'Type'\n",
    "}"
   ]
  },
  {
   "cell_type": "markdown",
   "id": "ee8e021a-fab3-4b8f-aa12-66c8b5b3c85d",
   "metadata": {
    "tags": []
   },
   "source": [
    "### Probe explorations"
   ]
  },
  {
   "cell_type": "code",
   "execution_count": 12,
   "id": "c4ed0c95-a79d-4a4c-ab90-35998f75b16b",
   "metadata": {
    "tags": []
   },
   "outputs": [
    {
     "data": {
      "text/plain": [
       "[('/Users/amirhsi_mini/research_data/N200epshm29kbmm10nh0ac2nc0l50dt0.005ndump2000adump5000ens1.ring/N200epshm29kbmm10nh0ac2nc0l50dt0.005ndump2000adump5000ens1.ring.nucleoid.data',\n",
       "  '/Users/amirhsi_mini/research_data/N200epshm29kbmm10nh0ac2nc0l50dt0.005ndump2000adump5000ens1.ring/N200epshm29kbmm10nh0ac2nc0l50dt0.005ndump2000adump5000ens1.ring.nucleoid.lammpstrj')]"
      ]
     },
     "execution_count": 12,
     "metadata": {},
     "output_type": "execute_result"
    }
   ],
   "source": [
    "# analyzing bug files.\n",
    "group = 'nucleoid'\n",
    "lineage = 'whole'\n",
    "save_to = './'\n",
    "#path = \"/Users/amirhsi/OneDrive - University of Waterloo/PhD Research/Jupyter/N200epshm29kbmm10nh0ac2nc0l50dt0.005ndump2000adump5000ens1.ring\"\n",
    "path = \"/Users/amirhsi_mini/OneDrive - University of Waterloo/PhD Research/Jupyter/N200epshm29kbmm20nh48ac2nc0l60dt0.005ndump2000adump5000ens1.ring\"\n",
    "path = \"/Users/amirhsi_mini/research_data/N200epshm29kbmm10nh0ac2nc0l50dt0.005ndump2000adump5000ens1.ring\"\n",
    "nuc_pairs = glob(path + '/N*' + group + '*')\n",
    "nuc_pairs = sort_filenames(\n",
    "    nuc_pairs,\n",
    "    fmts=['.' + group + '.data', '.' + group + '.lammpstrj']\n",
    ")\n",
    "nuc_pairs"
   ]
  },
  {
   "cell_type": "code",
   "execution_count": 9,
   "id": "f00d77da-9000-43a2-b80c-87ce069f26ba",
   "metadata": {},
   "outputs": [
    {
     "name": "stdout",
     "output_type": "stream",
     "text": [
      "Assigned columns: id type x y z ix iy iz\n",
      "list index out of range\n",
      "100001 snapshots were read.\n",
      "Unwrapping dump ...\n",
      "100001 snapshots are written to a single dump file.\n",
      "CPU times: user 2min 9s, sys: 1.71 s, total: 2min 11s\n",
      "Wall time: 2min 14s\n"
     ]
    }
   ],
   "source": [
    "%%time\n",
    "trj = Dump(nuc_pairs[0][1])\n",
    "trj.read_all()\n",
    "trj.unwrap()\n",
    "trj.write(\"N200epshm29kbmm10nh0ac2nc0l50dt0.005ndump2000adump5000ens1.unwrap.lammpstrj\")"
   ]
  },
  {
   "cell_type": "code",
   "execution_count": 13,
   "id": "0b9fbb53-3ca1-40f7-89b2-ce0d29d69415",
   "metadata": {
    "tags": []
   },
   "outputs": [
    {
     "name": "stdout",
     "output_type": "stream",
     "text": [
      "Setting the name of analyze file...\n",
      "\n",
      "N200epshm29kbmm10nh0ac2nc0l50dt0.005ndump2000adump5000ens1.ring-nucleoid is analyzing...\n",
      "\n",
      "CPU times: user 4.52 s, sys: 308 ms, total: 4.82 s\n",
      "Wall time: 5.31 s\n"
     ]
    }
   ],
   "source": [
    "%%time\n",
    "# 50 mins\n",
    "for nucpair in nuc_pairs[:1]:\n",
    "    topology = nucpair[0]\n",
    "    trajectory = nucpair[1]\n",
    "    lineage = 'whole'\n",
    "    save_to = './'\n",
    "    continuous = False\n",
    "    if (lineage == 'segment') & (continuous is False):\n",
    "        warnings.warn(\n",
    "            \"lineage is \"\n",
    "            f\"'{lineage}' \"\n",
    "            \"and 'continuous' is \"\n",
    "            f\"'{continuous}. \"\n",
    "            \"Please ensure the \"\n",
    "            f\"'{trajectory}' is NOT part of a sequence of trajectories.\",\n",
    "            UserWarning\n",
    "        )\n",
    "    print(\"Setting the name of analyze file...\")\n",
    "    sim_info = HnsCub(\n",
    "        trajectory,\n",
    "        lineage,\n",
    "        'cubic',\n",
    "        'nucleoid',\n",
    "        'ring'\n",
    "    )\n",
    "    sim_name = sim_info.lineage_name + \"-\" + sim_info.group\n",
    "    print(\"\\n\" + sim_name + \" is analyzing...\\n\")\n",
    "    # LJ time difference between two consecutive frames:\n",
    "    time_unit = sim_info.dmon * np.sqrt(\n",
    "        sim_info.mmon * sim_info.eps_others)  # LJ time unit\n",
    "    lj_nstep = sim_info.ndump  # Sampling steps via dump command in Lammps\n",
    "    lj_dt = sim_info.dt\n",
    "    sim_real_dt = lj_nstep * lj_dt * time_unit\n",
    "    cell = mda.Universe(\n",
    "        topology, trajectory, topology_format='DATA',\n",
    "        format='LAMMPSDUMP', lammps_coordinate_convention='unscaled',\n",
    "        #unwrap_images=True,\n",
    "        atom_style=\"id resid type x y z\", dt=sim_real_dt\n",
    "        )\n",
    "    #cell = mda.Universe(\n",
    "    #    trajectory,\n",
    "    #    format='LAMMPSDUMP', #lammps_coordinate_convention='unscaled',\n",
    "    #    unwrap_images=True,\n",
    "     #   atom_style=\"id resid type x y z\", dt=sim_real_dt\n",
    "    #    )\n",
    "    #cell = mda.Universe(\n",
    "    #    topology, topology_format='DATA',\n",
    "    #    unwrap_images=True,\n",
    "    #    )\n",
    "    # slicing trajectory based the continuous condition\n",
    "    #if continuous:\n",
    "    #    sliced_trj = cell.trajectory[0: -1]\n",
    "    #    n_frames = cell.trajectory.n_frames - 1\n",
    "    #else:\n",
    "    #    sliced_trj = cell.trajectory\n",
    "    #    n_frames = cell.trajectory.n_frames\n",
    "    # selecting atom groups\n",
    "    bug = cell.select_atoms('resid 1')  # the bug\n",
    "    hns_pole = cell.select_atoms('type 2')  # the hns holes\n",
    "    hns_core = cell.select_atoms('type 3')  # the hns cores\n",
    "    #ljcut_coeff = 1.122462\n",
    "    #m_hcore_cutoff = 0.5*(sim_info.dmon + sim_info.dhns) # * ljcut_coeff\n",
    "    #m_hpole_cutoff = 0.5*(sim_info.dmon + 0.178) # * ljcut_coeff\n",
    "    #contact_m_hcore = np.zeros((sim_info.nmon, sim_info.nhns), dtype=np.float64)\n",
    "    #contact_m_hpole = np.zeros((sim_info.nmon, 2*sim_info.nhns), dtype=np.float64)\n",
    "    #contact_m_m_hcore = np.zeros((sim_info.nmon,sim_info.nmon), dtype=np.int64)\n",
    "    #contact_m_m_hpole = np.zeros((sim_info.nmon,sim_info.nmon), dtype=np.int64)\n",
    "    #for _ in sliced_trj:\n",
    "        # bug:\n",
    "        #dummy = distances.distance_array(bug, hns_core, box=cell.dimensions)\n",
    "        #dummy = np.asarray(dummy <= m_hcore_cutoff, dtype=int)\n",
    "        #contact_m_hcore += dummy\n",
    "        #contact_dummy = np.matmul(dummy, dummy.T)\n",
    "        #contact_m_m_hcore += contact_dummy\n",
    "        #dummy = distances.distance_array(bug, hns_pole, box=cell.dimensions)\n",
    "        #dummy = np.asarray(dummy <= m_hpole_cutoff, dtype=int)\n",
    "        #contact_m_hpole += dummy\n",
    "        #contact_dummy = np.matmul(dummy, dummy.T)\n",
    "        #contact_m_m_hpole += contact_dummy\n",
    "        #dummy = distances.distance_array(bug, hns_core, box=cell.dimensions)\n",
    "        #dummy = np.asarray(dummy <= hns_core_mon_cutoff, dtype=int)\n",
    "        #dist_array_core_contact += dummy\n",
    "        #dummy = distances.distance_array(bug, hns_pole, box=cell.dimensions)\n",
    "        #dummy = np.asarray(dummy <= hns_pole_mon_cutoff, dtype=int)\n",
    "        #dist_array_pole_contact += dummy\n",
    "        #dummy = distances.distance_array(bug, bug, box=cell.dimensions)\n",
    "        #dummy = np.asarray(dummy <= mon_mon_cutoff, dtype=int)\n",
    "        #dist_array_mon_contact += dummy\n",
    "\n",
    "    #contact_m_hcore = contact_m_hcore / n_frames\n",
    "    #np.save(\n",
    "    #    save_to + sim_name + \\\n",
    "    #        f\"-distCoreMonMean-cutoff{round(m_hcore_cutoff,3)}.npy\",\n",
    "    #    contact_m_hcore\n",
    "    #)\n",
    "    #contact_m_hpole = contact_m_hpole / n_frames\n",
    "    #np.save(\n",
    "    #    save_to + sim_name + \\\n",
    "    #        f\"-distPoleMonMean-cutoff{round(m_hpole_cutoff,3)}.npy\",\n",
    "    #    contact_m_hpole\n",
    "    #)\n",
    "    #contact_m_m_hcore = contact_m_m_hcore / n_frames\n",
    "    #np.save(\n",
    "    #    save_to + sim_name + \\\n",
    "    #        f\"-ContactMonMon-Core-cutoff{round(m_hcore_cutoff,3)}.npy\",\n",
    "    #    contact_m_m_hcore\n",
    "    #)\n",
    "    #contact_m_m_hpole = contact_m_m_hpole / n_frames\n",
    "    #np.save(\n",
    "    #    save_to + sim_name + \\\n",
    "    #        f\"-ContactMonMon-Pole-cutoff{round(m_hpole_cutoff,3)}.npy\",\n",
    "    #    contact_m_m_hpole\n",
    "    #)\n"
   ]
  },
  {
   "cell_type": "code",
   "execution_count": 15,
   "id": "1d21bc4e-2584-489d-996e-0c759f7a93a8",
   "metadata": {},
   "outputs": [
    {
     "name": "stdout",
     "output_type": "stream",
     "text": [
      "[[ 33.1824   114.0314    -7.61906 ]\n",
      " [ 33.6557   114.1507    -8.43877 ]\n",
      " [ 33.896    114.0214    -9.29856 ]\n",
      " [ 34.2806   113.8771   -10.1682  ]\n",
      " [ 34.6022   113.7396   -11.0771  ]\n",
      " [ 34.7641   113.0717   -11.8494  ]\n",
      " [ 34.8545   112.7267   -12.7844  ]\n",
      " [ 34.7733   112.5183   -13.6577  ]\n",
      " [ 34.4661   111.8284   -14.2153  ]\n",
      " [ 33.8578   111.1153   -14.5481  ]\n",
      " [ 33.4257   110.2515   -14.7913  ]\n",
      " [ 32.9367   109.47159  -15.0048  ]\n",
      " [ 32.7341   108.52356  -14.8028  ]\n",
      " [ 32.5883   107.52865  -14.7143  ]\n",
      " [ 32.4431   106.57659  -14.5527  ]\n",
      " [ 32.3415   105.66555  -14.3347  ]\n",
      " [ 32.277    104.71936  -14.651   ]\n",
      " [ 32.0475   103.95279  -15.2658  ]\n",
      " [ 32.0034   103.46131  -16.0633  ]\n",
      " [ 32.0616   102.86293  -16.7992  ]\n",
      " [ 32.4309   102.7235   -17.6094  ]\n",
      " [ 32.7579   102.57964  -18.4736  ]\n",
      " [ 33.1193   102.19847  -19.3592  ]\n",
      " [ 33.3915   101.92317  -20.1925  ]\n",
      " [ 34.0341   101.52602  -20.8212  ]\n",
      " [ 34.601    101.18893  -21.4849  ]\n",
      " [ 34.9674   100.7333   -22.2373  ]\n",
      " [ 35.1947   100.237434 -22.9977  ]\n",
      " [ 35.68      99.899376 -23.791   ]\n",
      " [ 36.3492    99.90388  -24.6135  ]\n",
      " [ 36.8174   100.34517  -25.2523  ]\n",
      " [ 37.3303   100.563385 -26.0341  ]\n",
      " [ 37.5651   100.42762  -26.9211  ]\n",
      " [ 37.9062   100.193695 -27.8072  ]\n",
      " [ 38.015    100.056305 -28.7128  ]\n",
      " [ 38.2227    99.62516  -29.5574  ]\n",
      " [ 38.4462    99.14243  -30.3796  ]\n",
      " [ 38.5603    98.53537  -31.1751  ]\n",
      " [ 38.6975    97.86043  -31.8068  ]\n",
      " [ 38.8523    96.96351  -32.3478  ]\n",
      " [ 39.0145    96.27934  -32.9475  ]\n",
      " [ 39.068     95.48336  -33.5341  ]\n",
      " [ 38.8584    94.72634  -34.1837  ]\n",
      " [ 38.7291    94.46302  -35.0865  ]\n",
      " [ 38.3108    94.23663  -35.9071  ]\n",
      " [ 37.9271    93.98157  -36.7162  ]\n",
      " [ 37.3709    93.41921  -37.3899  ]\n",
      " [ 36.9454    92.81715  -37.9567  ]\n",
      " [ 36.5934    92.18858  -38.5654  ]\n",
      " [ 36.2796    91.34357  -39.035   ]]\n"
     ]
    }
   ],
   "source": [
    "for _ in cell.trajectory[-1:]:\n",
    "    print(bug.positions[-50:])"
   ]
  },
  {
   "cell_type": "markdown",
   "id": "69edc4f1-7cf6-4dd0-b50e-04b234e45861",
   "metadata": {},
   "source": [
    "### MSD of monomers: g_1(t)"
   ]
  },
  {
   "cell_type": "code",
   "execution_count": 28,
   "id": "020979a0-c3b8-491d-b629-be6d8ef190c3",
   "metadata": {
    "tags": []
   },
   "outputs": [
    {
     "data": {
      "text/plain": [
       "<MDAnalysis.analysis.msd.EinsteinMSD at 0x186334820>"
      ]
     },
     "execution_count": 28,
     "metadata": {},
     "output_type": "execute_result"
    }
   ],
   "source": [
    "MSD = msd.EinsteinMSD(cell, select='resid 1', msd_type='xyz', fft=True)\n",
    "MSD.run()"
   ]
  },
  {
   "cell_type": "code",
   "execution_count": null,
   "id": "79f4e6ed-2ec0-4c16-a8d7-3351465c1a03",
   "metadata": {},
   "outputs": [],
   "source": [
    "mda.__version__"
   ]
  },
  {
   "cell_type": "code",
   "execution_count": 33,
   "id": "4483f3ae-09e2-401c-ba7d-291022f30b0d",
   "metadata": {
    "tags": []
   },
   "outputs": [],
   "source": [
    "core_msd = MSD.results.timeseries\n",
    "#core_msd"
   ]
  },
  {
   "cell_type": "code",
   "execution_count": 34,
   "id": "9ed7a9be-fa07-4a07-9967-56b1d0484008",
   "metadata": {
    "tags": []
   },
   "outputs": [
    {
     "data": {
      "image/png": "[encoded data removed]",
      "text/plain": [
       "<Figure size 640x480 with 1 Axes>"
      ]
     },
     "metadata": {},
     "output_type": "display_data"
    }
   ],
   "source": [
    "nframes = MSD.n_frames\n",
    "timestep = 1 # this needs to be the actual time between frames\n",
    "lagtimes = np.arange(nframes)*timestep # make the lag-time axis\n",
    "fig = plt.figure()\n",
    "ax = plt.axes()\n",
    "# plot the actual MSD\n",
    "ax.plot(lagtimes, core_msd)#, lc=\"black\", ls=\"-\", label=r'3D random walk')\n",
    "#exact = lagtimes*6\n",
    "# plot the exact result\n",
    "#ax.plot(lagtimes, exact, lc=\"black\", ls=\"--\", label=r'$y=2 D\\tau$')\n",
    "\n",
    "plt.show()"
   ]
  },
  {
   "cell_type": "markdown",
   "id": "8c4f0e3f-780f-4f4d-a823-422143747fe5",
   "metadata": {},
   "source": [
    "### g_2(t): mean-square-displacement in center of gravity of chain in the center of mass reference"
   ]
  },
  {
   "cell_type": "code",
   "execution_count": 37,
   "id": "f2e5acfb-7d1e-4dbc-ad9f-83e4147c38f8",
   "metadata": {
    "tags": []
   },
   "outputs": [],
   "source": [
    "#time = []\n",
    "rgyr = []\n",
    "for ts in cell.trajectory:\n",
    "    #if ts.time == 0:\n",
    "    #if ts == \n",
    "    #time.append(cell.trajectory.time)\n",
    "    rgyr.append(bug.radius_of_gyration())\n"
   ]
  },
  {
   "cell_type": "code",
   "execution_count": 39,
   "id": "376216d2-e05f-431f-82e0-e2a3d5b3ff77",
   "metadata": {
    "tags": []
   },
   "outputs": [
    {
     "data": {
      "text/plain": [
       "21.5172431463686"
      ]
     },
     "execution_count": 39,
     "metadata": {},
     "output_type": "execute_result"
    }
   ],
   "source": [
    "np.asarray(rgyr).mean()"
   ]
  },
  {
   "cell_type": "code",
   "execution_count": null,
   "id": "526be45f-8748-4638-a1c5-25910bef2ea2",
   "metadata": {},
   "outputs": [],
   "source": [
    "def gyr_squared(group, gyr_0, wrap=False):\n",
    "    \"\"\"Radius of gyration.\n",
    "    Parameters\n",
    "    ----------\n",
    "    wrap : bool, optional\n",
    "        If ``True``, move all atoms within the primary unit cell before\n",
    "        calculation. [``False``]\n",
    "    .. versionchanged:: 0.8\n",
    "       Added `pbc` keyword\n",
    "    .. versionchanged:: 2.1.0\n",
    "       Renamed `pbc` kwarg to `wrap`. `pbc` is still accepted but\n",
    "       is deprecated and will be removed in version 3.0.\n",
    "    \"\"\"\n",
    "    atomgroup = group.atoms\n",
    "    masses = atomgroup.masses\n",
    "    com = atomgroup.center_of_mass(wrap=wrap)\n",
    "    if wrap:\n",
    "        recenteredpos = atomgroup.pack_into_box(inplace=False) - com\n",
    "    else:\n",
    "        recenteredpos = atomgroup.positions - com - gyr_0\n",
    "    rog_sq = np.sum(masses * np.sum(recenteredpos**2,\n",
    "                                    axis=1)) / atomgroup.total_mass()\n",
    "    return rog_sq"
   ]
  },
  {
   "cell_type": "code",
   "execution_count": null,
   "id": "628a730a-8295-4947-b7ab-9bf2813b81dc",
   "metadata": {},
   "outputs": [],
   "source": [
    "#ljcut_coeff = 1.122462\n",
    "#hns_core_mon_cutoff = 0.5*(sim_info.dmon + sim_info.dhns) #* 5# * ljcut_coeff\n",
    "hns_pole_mon_cutoff = 0.5*(sim_info.dmon + 0.178) #* ljcut_coeff\n",
    "#mon_mon_cutoff = 0.5*(sim_info.dmon*ljcut_coeff)\n",
    "#dist_array_core_contact = np.zeros((sim_info.nmon, sim_info.nhns), dtype=np.int64)\n",
    "#dist_array_pole_contact = np.zeros((sim_info.nmon, 2*sim_info.nhns), dtype=np.int64)\n",
    "#dist_array_mon_contact = np.zeros((sim_info.nmon, sim_info.nmon), dtype=np.int64)\n"
   ]
  },
  {
   "cell_type": "code",
   "execution_count": null,
   "id": "beb9a14b-b3a9-42bb-a1c5-db5c212e8794",
   "metadata": {
    "tags": []
   },
   "outputs": [],
   "source": [
    "from collections import defaultdict\n",
    "dist_m_hcore = distances.distance_array(bug, hns_core, box=cell.dimensions)\n",
    "contact_m_hcore = np.asarray(dist <= hns_core_mon_cutoff, dtype=int)\n",
    "contact_m_m = np.matmul(contact_m_hcore, contact_m_hcore.T)\n",
    "contact_m_m = np.transpose(contact_m_m.nonzero())\n",
    "#contact_m_m_idx = defaultdict(list)\n",
    "#for pair in contact_m_m:\n",
    "#    contact_m_m_idx[pair[0]].append(pair[1])\n",
    "#contact_m_m_idx"
   ]
  },
  {
   "cell_type": "code",
   "execution_count": null,
   "id": "8b40c90c-888b-4686-aad5-9932878e4ce2",
   "metadata": {},
   "outputs": [],
   "source": [
    "contact_m_m.sum()"
   ]
  },
  {
   "cell_type": "code",
   "execution_count": null,
   "id": "26808fc5-ce77-4a60-8b65-bab1b389ae28",
   "metadata": {},
   "outputs": [],
   "source": [
    "np.trace(contact_m_m)"
   ]
  },
  {
   "cell_type": "code",
   "execution_count": null,
   "id": "a60e7293-9cb0-4f25-a850-b5df8148ffe9",
   "metadata": {},
   "outputs": [],
   "source": [
    "%%time\n",
    "for ts in sliced_trj:\n",
    "    # bug:\n",
    "    #dist_m_hcore = distances.distance_array(bug, hns_core, box=cell.dimensions)\n",
    "    #contact_m_hcore = np.asarray(dist <= hns_core_mon_cutoff, dtype=int)\n",
    "    #contact_m_m = np.matmul(contact_m_hcore, contact_m_hcore.T)\n",
    "    dist_m_pcore = distances.distance_array(bug, hns_pole, box=cell.dimensions)\n",
    "    contact_m_pcore = np.asarray(dist_m_pcore <= hns_pole_mon_cutoff, dtype=int)\n",
    "    contact_m_m = np.matmul(contact_m_pcore, contact_m_pcore.T)\n",
    "    contact_m_m_acc += contact_m_m\n",
    "    #dummy = distances.distance_array(bug, hns_core, box=cell.dimensions)\n",
    "    #dummy = np.asarray(dummy <= hns_core_mon_cutoff, dtype=int)\n",
    "    #dist_array_core_contact += dummy\n",
    "    #dummy = distances.distance_array(bug, hns_pole, box=cell.dimensions)\n",
    "    #dummy = np.asarray(dummy <= hns_pole_mon_cutoff, dtype=int)\n",
    "    #dist_array_pole_contact += dummy\n",
    "    #dummy = distances.distance_array(bug, bug, box=cell.dimensions)\n",
    "    #dummy = np.asarray(dummy <= mon_mon_cutoff, dtype=int)\n",
    "    #dist_array_mon_contact += dummy\n",
    "\n",
    "#dist_array_core_contact_mean = dist_array_core_contact / n_frames\n",
    "#dist_array_pole_contact_mean = dist_array_pole_contact / n_frames\n",
    "#dist_array_mon_contact_mean = dist_array_mon_contact / n_frames\n",
    "#np.save(\n",
    "#    save_to + sim_name + \"distCoreMonMean.npy\",\n",
    "#    dist_array_core_contact_mean\n",
    "#)\n",
    "#np.save(\n",
    "#    save_to + sim_name + \"-distPoleMonMean-New.npy\",\n",
    "#    dist_array_pole_contact_mean\n",
    "#)\n",
    "contact_m_m_acc = contact_m_m_acc / n_frames\n",
    "np.save(\n",
    "    save_to + sim_name + \"-ContactMapMonMonMean-New.npy\",\n",
    "    contact_m_m_acc\n",
    ")\n",
    "#np.save(\n",
    "#    save_to + sim_name + \"distMonMonMean.npy\",\n",
    "#    dist_array_pole_contact_mean\n",
    "#)"
   ]
  },
  {
   "cell_type": "code",
   "execution_count": null,
   "id": "1cf32af3-c768-4f8f-b6f9-1a3f14eeb1bc",
   "metadata": {},
   "outputs": [],
   "source": [
    "sns.heatmap(contact_m_m_acc, cmap='rocket_r',# vmin=0, vmax=0.03\n",
    "                     )"
   ]
  },
  {
   "cell_type": "code",
   "execution_count": null,
   "id": "880eab8e-e502-45db-ab9d-8373ecab34e8",
   "metadata": {},
   "outputs": [],
   "source": [
    "glob(\"./N200*\"+phys_attrs[attr]+\".npy\")[-2]"
   ]
  },
  {
   "cell_type": "code",
   "execution_count": null,
   "id": "70d14a05-ae90-4e9a-b6cc-5250ed3316af",
   "metadata": {},
   "outputs": [],
   "source": [
    "np.load(glob(\"./N200*\"+phys_attrs[attr]+\".npy\")[-2]).shape"
   ]
  },
  {
   "cell_type": "markdown",
   "id": "11e8d828-c7c5-4e9f-990e-c314ee92a21b",
   "metadata": {
    "tags": []
   },
   "source": [
    "## Visualizing contacts:"
   ]
  },
  {
   "cell_type": "code",
   "execution_count": null,
   "id": "cb581afb-7207-4e54-b211-d37837cb435c",
   "metadata": {
    "tags": []
   },
   "outputs": [],
   "source": [
    "phys_attrs = {\n",
    "    #\"Core\": \"distCoreMonMean-cutoff*\",\n",
    "    #\"Pole\": \"distPoleMonMean-cutoff*\"\n",
    "    \"Core-Mon\": \"ContactMonMon-Core-cutoff*\",\n",
    "    \"Pole-Mon\": \"ContactMonMon-Pole-cutoff*\"\n",
    "    \n",
    "}\n",
    "attr = \"Core-Mon\"\n",
    "dists = glob(\"./N200*\"+phys_attrs[attr]+\".npy\")\n",
    "dists = sorted(dists)\n",
    "dists = dists\n",
    "dist_lists = []\n",
    "for dist in dists:\n",
    "    dist_info = HnsCub(\n",
    "        dist,\n",
    "        'whole',\n",
    "        'cubic',\n",
    "        'nucleoid',\n",
    "        'ring'\n",
    "    )\n",
    "    \n",
    "    dist_lists.append([dist_info.nhns, dist_info.dcrowd, round(dist_info.phi_c_bulk,2), dist_info.nmon, dist_info.filepath])\n",
    "dist_lists.sort(key=lambda dist: (dist[0], dist[2]))"
   ]
  },
  {
   "cell_type": "code",
   "execution_count": null,
   "id": "829acfb0-6e10-404f-aa66-d10330820f58",
   "metadata": {
    "tags": []
   },
   "outputs": [],
   "source": [
    "rc_params = {\n",
    "    'mathtext.default': 'regular',\n",
    "    #'text.usetex': True\n",
    "}\n",
    "sns.set_theme(\n",
    " #   context='paper',\n",
    "    font='Times New Roman',\n",
    "    font_scale=1.5,\n",
    "    rc=rc_params\n",
    ")\n",
    "fig, axes = plt.subplots(nrows=5, ncols=2, sharey=True, figsize=(15,20))\n",
    "#cbar_ax = fig.add_axes([.91, .2, .03, .6])\n",
    "nmon = 200\n",
    "for idx, (dist, ax) in enumerate(zip(dist_lists, axes.flatten(order='F'))):\n",
    "    pole_data = np.load(dist[-1])\n",
    "    if attr in [\"Core-Mon\", \"Pole-Mon\"]:\n",
    "        np.fill_diagonal(pole_data, 0)\n",
    "    ax_hmap = sns.heatmap(\n",
    "        pole_data, ax=ax, cmap='rocket_r', #vmin=0, vmax=0.02, # Pole\n",
    "        #pole_data, ax=ax, cmap='rocket_r', vmin=0, vmax=0.045,  # Core\n",
    "        #square=True\n",
    "        #cbar_kws={'label': 'Normalized contacts'},\n",
    "        #cbar= idx > 4,\n",
    "        #cbar_ax= None if idx==0 else cbar_ax,\n",
    "    )\n",
    "    \n",
    "    #ax.set_xticks(np.arange(0.5,2*dist[0]+0.5,5))\n",
    "    #ax.set_xticklabels(np.arange(1,2*dist[0],5))\n",
    "    #ax.set_xticks(np.arange(0.5,dist[0]+0.5,5))\n",
    "    #ax.set_xticklabels(np.arange(1,dist[0],5))\n",
    "    ax.set_xticks(np.arange(0.5,dist[3]+0.5,30))\n",
    "    ax.set_xticklabels(np.arange(1,dist[3],30))\n",
    "    ax.set_yticks(np.arange(0.5,dist[3],30))\n",
    "    ax.set_yticklabels(np.arange(1,dist[3],30))\n",
    "    if idx < 5:\n",
    "        ax.set_ylabel('Monomer (index)')\n",
    "    if idx % 5 == 4:\n",
    "        ax.set_xlabel(f'Hns {attr} (index)')\n",
    "    ax.set_title(fr'$n_{{hns}}={dist[0]}, \\phi_c={dist[2]}, a_c={dist[1]}$')\n",
    "fig.suptitle(\n",
    "    r\"Normalized number of contacts between monomers and hns \" \\\n",
    "        + attr.lower() +  \"s in $10^5$ counts\"\n",
    ")\n",
    "fig.tight_layout(h_pad=1, w_pad=0)#rect=[0, 0, .9, 1])\n",
    "fig.savefig(\"ContantMap-\"+attr+\"Mon-cutoff1.0.pdf\")"
   ]
  },
  {
   "cell_type": "markdown",
   "id": "f2c846e5-1a50-4e03-b922-821a394f0f76",
   "metadata": {},
   "source": [
    "# Visualizing persistance length"
   ]
  },
  {
   "cell_type": "code",
   "execution_count": null,
   "id": "9364f40d-2bce-4ac7-ac47-88d660e7a70d",
   "metadata": {
    "tags": []
   },
   "outputs": [],
   "source": [
    "import scipy\n",
    "def fit_exponential_decay(x, y):\n",
    "    r\"\"\"Fit a function to an exponential decay\n",
    "\n",
    "    .. math::  y = \\exp\\left(- \\frac{x}{a}\\right)\n",
    "\n",
    "    Parameters\n",
    "    ----------\n",
    "    x, y : array_like\n",
    "      The two arrays of data\n",
    "\n",
    "    Returns\n",
    "    -------\n",
    "    a : float\n",
    "      The coefficient *a* for this decay\n",
    "\n",
    "    Notes\n",
    "    -----\n",
    "    This function assumes that data starts at 1.0 and decays to 0.0\n",
    "\n",
    "    \"\"\"\n",
    "    def expfunc(x, a):\n",
    "        return np.exp(-x/a)\n",
    "    a = scipy.optimize.curve_fit(expfunc, x, y)[0][0]\n",
    "    return a"
   ]
  },
  {
   "cell_type": "code",
   "execution_count": null,
   "id": "b638e91d-cfab-4f52-85c4-a59696758c16",
   "metadata": {},
   "outputs": [],
   "source": [
    "# LOad data\n",
    "allInOne_db = '/Users/amirhsi_mini/research_data/analysis/'\n",
    "group = 'nucleoid'\n",
    "geometry = 'cubic'\n",
    "topology = 'ring'\n",
    "project = 'HnsCub'\n",
    "bond_corr = '-'.join(['allInOne', project, group, 'chainBondCosCorr.csv'])\n",
    "bond_corr = allInOne_db + bond_corr\n",
    "bond_corr = pd.read_csv(bond_corr)\n",
    "bond_corr.drop(\n",
    "    columns=['bondCosineCorrVecMon-var','bondCosineCorrVecMon-sem'],\n",
    "    inplace =True\n",
    ")"
   ]
  },
  {
   "cell_type": "code",
   "execution_count": null,
   "id": "1ab81e1a-28f3-4447-9630-0a21cb882162",
   "metadata": {},
   "outputs": [],
   "source": [
    "bond_corr_ens[bond_corr_ens.bin_center>100]"
   ]
  },
  {
   "cell_type": "code",
   "execution_count": null,
   "id": "7b18c1a5-ff44-4901-ae29-30a2524fd7cf",
   "metadata": {},
   "outputs": [],
   "source": [
    "# a sorted list of unique spaces in the dataset\n",
    "ensemble_longs = bond_corr['ensemble_long'].unique()\n",
    "project_titles = {}\n",
    "bond_corr['exp_fit'] = 0\n",
    "for ensemble_long in ensemble_longs:\n",
    "    s_info = HnsCub(\n",
    "        ensemble_long,\n",
    "        'ensemble_long',\n",
    "        geometry,\n",
    "        group,\n",
    "        topology,\n",
    "        ispath=False\n",
    "    )\n",
    "    bond_corr_ens = bond_corr[bond_corr['ensemble_long']==ensemble_long]\n",
    "    bond_corr_ens_idx = bond_corr_ens.index\n",
    "    per_length = fit_exponential_decay(\n",
    "        bond_corr_ens['bin_center'], \n",
    "        bond_corr_ens['bondCosineCorrVecMon-mean']\n",
    "    )\n",
    "    bond_corr.loc[bond_corr_ens_idx,'exp_fit'] = \\\n",
    "        bond_corr_ens.loc[:, 'bin_center'].apply(lambda x: np.exp(-x/per_length))\n"
   ]
  },
  {
   "cell_type": "code",
   "execution_count": null,
   "id": "e955fe66-c2c7-4626-9618-6b0b1b17418b",
   "metadata": {},
   "outputs": [],
   "source": [
    "y_prop = 'bondCosineCorrVecMon-mean'\n",
    "col_attr = 'nhns'\n",
    "col_order = sorted(bond_corr[col_attr].unique())\n",
    "hue_attr = 'phi_c_bulk_round'\n",
    "hue_order = sorted(bond_corr[hue_attr].unique())\n",
    "style_attr = 'dcrowd'\n",
    "style_order = sorted(bond_corr[style_attr].unique())\n",
    "color_palette = 'flare'\n",
    "#color_palette = 'tab10'\n",
    "#color_palette = ['orange', 'darkgoldenrod', 'forestgreen']\n",
    "save_to = './'\n",
    "ext = 'pdf'\n",
    "plot_context = 'paper'\n",
    "font_scale = 2\n",
    "height = 4\n",
    "aspect = 1.618\n",
    "ylabel_pad = 50\n",
    "rc_params= {\n",
    "    'axes.facecolor': 'aliceblue',\n",
    "    'mathtext.default': 'regular',\n",
    "    'text.usetex': True,\n",
    "    'axes.grid': True,\n",
    "    'axes.grid.axis': 'both',\n",
    "    #'axes.grid.which': 'both'\n",
    "}\n",
    "facet_kws = {\n",
    "    'sharey': False,\n",
    "    'sharex': False,\n",
    "    'legend_out': True,        \n",
    "}\n",
    "fig_title_kws = {'fontsize': 34, 'x': 0.5, 'y': 0.93}\n",
    "loc='lower left'\n",
    "font_family = 'sans-serif'\n",
    "move_legend_kws = {\n",
    "    'ncol': 1,\n",
    "    'bbox_to_anchor': (1., 0.95),\n",
    "    'frameon': True,\n",
    "    'facecolor': 'aliceblue',\n",
    "    #'borderpad': 0.1,\n",
    "    'markerscale': 1.5\n",
    "}\n",
    "sns.set_theme(\n",
    "    context=plot_context,\n",
    "    style='ticks',\n",
    "    palette=color_palette,\n",
    "    font='Times New Roman',\n",
    "    font_scale=font_scale,\n",
    "    rc=rc_params\n",
    ")\n",
    "bond_grid = sns.relplot(\n",
    "    data=bond_corr,\n",
    "    x='bin_center',\n",
    "    y=y_prop,\n",
    "    row=col_attr,\n",
    "    row_order=col_order,\n",
    "    hue=hue_attr,\n",
    "    hue_order=hue_order,\n",
    "    style=style_attr,\n",
    "    style_order=style_order,\n",
    "    ci=None,\n",
    "    kind='line',\n",
    "    markers=False,\n",
    "    legend='full',\n",
    "    height=height,\n",
    "    aspect=aspect,\n",
    "    palette=color_palette,\n",
    "    facet_kws=facet_kws,\n",
    ")\n",
    "bond_grid.set_xlabels('Bond index lag, j')\n",
    "#bond_grid.set_ylabels(r'$\\langle\\cos(\\theta_{i,i+j})\\rangle$')\n",
    "bond_grid.set_ylabels(r'$\\langle\\hat{l}_i.\\hat{l}_{i+j}\\rangle$')\n",
    "bond_grid.set_titles(r'$N=200, n_{{hns}}={row_name}$')\n",
    "legend_labels = [attr_labels[hue_attr]] + list(hue_order)  + \\\n",
    "        [attr_labels[style_attr]] + list(style_order)\n",
    "for idx, new_label in enumerate(legend_labels):\n",
    "    bond_grid._legend.texts[idx].set_text(new_label)\n",
    "#bond_grid.tight_layout(w_pad=1)\n",
    "sns.move_legend(bond_grid, loc='upper left',  **move_legend_kws)\n",
    "output = \"-\".join([\"equilPlot\", project, col_attr, hue_attr, 'bondCosineCorr'])\n",
    "bond_grid.fig.tight_layout(pad=1)\n",
    "bond_grid.savefig(save_to + output + '.' + ext, bbox_inches='tight', dpi=300)"
   ]
  },
  {
   "cell_type": "code",
   "execution_count": null,
   "id": "11341163-4179-4246-b967-155bb0f91906",
   "metadata": {},
   "outputs": [],
   "source": [
    "corrs = glob(\"./N200*-bondCosineCorrsVec.npy\")\n",
    "corrs = sorted(corrs)\n",
    "corr_lists = []\n",
    "for corr in corrs:\n",
    "    corr_info = HnsCub(\n",
    "        corr,\n",
    "        'whole',\n",
    "        'cubic',\n",
    "        'nucleoid',\n",
    "        'ring'\n",
    "    )\n",
    "    corr_lists.append([corr_info.nhns, corr_info.dcrowd, round(corr_info.phi_c_bulk,2), corr_info.nmon, corr_info.filepath])\n",
    "corr_lists.sort(key=lambda dist: (dist[0], dist[2]))"
   ]
  },
  {
   "cell_type": "code",
   "execution_count": null,
   "id": "7fed212f-2ad1-425d-8c89-4455965aad25",
   "metadata": {
    "tags": []
   },
   "outputs": [],
   "source": [
    "fit_exponential_decay(bond_idx, cosine_corrs_acc/n_bonds/n_frames)"
   ]
  },
  {
   "cell_type": "code",
   "execution_count": null,
   "id": "683ac723-3b93-47ae-be46-e67b2801a937",
   "metadata": {
    "tags": []
   },
   "outputs": [],
   "source": [
    "corr_data = np.load(corr[-1])\n",
    "bonds_per_lag = np.arange(n_bonds,0, -1)\n",
    "corr_data = corr_data/bonds_per_lag\n",
    "bond_idx = np.arange(corr[3])\n",
    "per_length, b, c = fit_exponential_decay(bond_idx[:n_bonds//2], corr_data[:n_bonds//2])\n",
    "bond_corr = np.exp(-c*bond_idx**b/per_length)\n",
    "print(per_length, b, c)"
   ]
  },
  {
   "cell_type": "code",
   "execution_count": null,
   "id": "c7eafea9-e1bf-4942-983e-4bd82fdede65",
   "metadata": {
    "tags": []
   },
   "outputs": [],
   "source": [
    "rc_params = {\n",
    "    'mathtext.default': 'regular',\n",
    "    #'text.usetex': True\n",
    "}\n",
    "sns.set_theme(\n",
    "    context='paper',\n",
    "    font='Times New Roman',\n",
    "    font_scale=1.5,\n",
    "    rc=rc_params\n",
    ")\n",
    "fig, axes = plt.subplots(nrows=6, ncols=2, sharey=True, figsize=(15,20))\n",
    "#cbar_ax = fig.add_axes([.91, .2, .03, .6])\n",
    "nmon = 200\n",
    "for idx, (corr, ax) in enumerate(zip(corr_lists, axes.flatten(order='F'))):\n",
    "    corr_data = np.load(corr[-1])\n",
    "    corr_data = np.append(corr_data,corr_data[0])\n",
    "    bond_idx = np.arange(1,corr[3]+2,1)\n",
    "    ax_hmap = ax.scatter(\n",
    "        bond_idx, corr_data,\n",
    "        #square=True\n",
    "        #cbar_kws={'label': 'Normalized contacts'},\n",
    "        #cbar= idx > 4,\n",
    "        #cbar_ax= None if idx==0 else cbar_ax,\n",
    "    )\n",
    "    \n",
    "    #ax.set_xticks(np.arange(0.5,2*dist[0]+0.5,5))\n",
    "    #ax.set_xticklabels(np.arange(1,2*dist[0],5))\n",
    "    #ax.set_xticks(np.arange(0.5,dist[0]+0.5,5))\n",
    "    #ax.set_xticklabels(np.arange(1,dist[0],5))\n",
    "    #ax.set_xticks(np.arange(0.5,dist[3]+0.5,30))\n",
    "    #ax.set_xticklabels(np.arange(1,dist[3],30))\n",
    "    #ax.set_yticks(np.arange(0.5,dist[3],30))\n",
    "    #ax.set_yticklabels(np.arange(1,dist[3],30))\n",
    "    #if idx < 5:\n",
    "    #    ax.set_ylabel('Monomer (index)')\n",
    "    #if idx % 5 == 4:\n",
    "    #    ax.set_xlabel('Hns pole (index)')\n",
    "    #ax.set_title(fr'$n_{{hns}}={dist[0]}, \\phi_c={dist[2]}, a_c={dist[1]}$')\n",
    "#fig.suptitle(\n",
    "#    r\"Normalized number of contacts between monomers and hns cores in $10^5$ #counts\"\n",
    "#)\n",
    "#fig.tight_layout(h_pad=1, w_pad=0)#rect=[0, 0, .9, 1])\n",
    "fig.savefig(\"PersistanceLength.pdf\")"
   ]
  },
  {
   "cell_type": "markdown",
   "id": "3a84cbc9-d324-4208-91f0-3bf7ce0f92be",
   "metadata": {},
   "source": [
    "### Test looping"
   ]
  },
  {
   "cell_type": "code",
   "execution_count": null,
   "id": "c7d4b8ff-cd73-4a7b-ab3e-a1bc1d8e6122",
   "metadata": {},
   "outputs": [],
   "source": [
    "dir_contacts = np.array(\n",
    "    [[0, 1, 0, 0, 0],\n",
    "     [0, 0, 1, 1, 0],\n",
    "     [1, 0, 0, 0, 0],\n",
    "     [0, 0, 0, 0, 0],\n",
    "     [0, 0, 0, 0, 0],\n",
    "     [0, 0, 1, 0, 1],\n",
    "     [1, 0, 0, 1, 0]]\n",
    "    )\n",
    "dir_contacts"
   ]
  },
  {
   "cell_type": "code",
   "execution_count": null,
   "id": "d918fc80-191a-4cd8-88ba-5cabc591472f",
   "metadata": {},
   "outputs": [],
   "source": [
    "np.matmul(dir_contacts, dir_contacts.T)"
   ]
  },
  {
   "cell_type": "code",
   "execution_count": null,
   "id": "b230fd13-b371-4bf4-a1e9-33fe4f1aa1e6",
   "metadata": {},
   "outputs": [],
   "source": [
    "dir_contacts_up = np.triu(dir_contacts)  # upper triangle\n",
    "dir_contacts_diag = np.identity(n_atoms, dtype=int)\n",
    "# dropping diagnal elements:\n",
    "dir_contacts_up = dir_contacts_up - dir_contacts_diag\n",
    "# ensuring all diagonal elements are either 0 or 1:\n",
    "dir_contacts_up[dir_contacts_up < 0] = 0\n",
    "dir_contacts_low = dir_contacts_up.T  # lower traingle: symmetry!\n",
    "dir_contacts = dir_contacts_up + dir_contacts_low + dir_contacts_diag\n",
    "# Creating the full direct contacts matrix\n",
    "dir_contacts = contact_matrix(dir_contacts)\n",
    "if save_to is not None:\n",
    "    output = save_to[0] + \\\n",
    "        f\"random_direct_contact-natoms{n_atoms}\" + save_to[1]\n",
    "    np.save(output, dir_contacts)\n",
    "return dir_contacts"
   ]
  },
  {
   "cell_type": "markdown",
   "id": "1894fdcd-55a7-49f3-9d15-ea37c0c8cf1d",
   "metadata": {
    "tags": []
   },
   "source": [
    "### slicing over different"
   ]
  },
  {
   "cell_type": "code",
   "execution_count": null,
   "id": "91f8de0c-fbfa-4266-a067-591ce2d2a8b9",
   "metadata": {},
   "outputs": [],
   "source": [
    "\n",
    "t_choice = [  # upper 1.03*10**8\n",
    "    [3*10**6, 2.53*10**8, r'$\\Delta t/\\tau=25\\times 10^7$'],\n",
    "    [0.03*10**8, 1.03*10**8, r'$\\Delta t/\\tau=10\\times 10^7$'],\n",
    "    [0.53*10**8, 1.03*10**8, r'$\\Delta t/\\tau=5\\times 10^7$'],\n",
    "    [0.83*10**8, 1.03*10**8, r'$\\Delta t/\\tau=2\\times 10^7$'],\n",
    "    [0.93*10**8, 1.03*10**8, r'$\\Delta t/\\tau=1\\times 10^7$'],\n",
    "    [0.98*10**8, 1.03*10**8, r'$\\Delta t/\\tau=0.5\\times 10^7$'],\n",
    "    [1.02*10**8, 1.03*10**8, r'$\\Delta t/\\tau=0.1\\times 10^7$']\n",
    "]\n",
    "t_choice = [  # upper 2.03*10**8\n",
    "    [3*10**6, 2.53*10**8, r'$\\Delta t/\\tau=25\\times 10^7$'],\n",
    "    [1.03*10**8, 2.03*10**8, r'$\\Delta t/\\tau=10\\times 10^7$'],\n",
    "    [1.53*10**8, 2.03*10**8, r'$\\Delta t/\\tau=5\\times 10^7$'],\n",
    "    [1.83*10**8, 2.03*10**8, r'$\\Delta t/\\tau=2\\times 10^7$'],\n",
    "    [1.93*10**8, 2.03*10**8, r'$\\Delta t/\\tau=1\\times 10^7$'],\n",
    "    [1.98*10**8, 2.03*10**8, r'$\\Delta t/\\tau=0.5\\times 10^7$'],\n",
    "    [2.02*10**8, 2.03*10**8, r'$\\Delta t/\\tau=0.1\\times 10^7$']\n",
    "]\n",
    "t_choice = [  # upper 1.53*10**8\n",
    "    [3*10**6, 2.53*10**8, r'$\\Delta t/\\tau=25\\times 10^7$'],\n",
    "    [0.53*10**8, 1.53*10**8, r'$\\Delta t/\\tau=10\\times 10^7$'],\n",
    "    [1.03*10**8, 1.53*10**8, r'$\\Delta t/\\tau=5\\times 10^7$'],\n",
    "    [1.33*10**8, 1.53*10**8, r'$\\Delta t/\\tau=2\\times 10^7$'],\n",
    "    [1.43*10**8, 1.53*10**8, r'$\\Delta t/\\tau=1\\times 10^7$'],\n",
    "    [1.48*10**8, 1.53*10**8, r'$\\Delta t/\\tau=0.5\\times 10^7$'],\n",
    "    [1.52*10**8, 1.53*10**8, r'$\\Delta t/\\tau=0.1\\times 10^7$']\n",
    "]"
   ]
  },
  {
   "cell_type": "code",
   "execution_count": null,
   "id": "a7c69728-6aa5-4496-86f9-cb79207594f6",
   "metadata": {},
   "outputs": [],
   "source": [
    "t_choice = [  # upper 1.53*10**8\n",
    "    [0, 10*10**5, r'$\\Delta t/\\tau=25\\times 10^7$'],\n",
    "    [5*10**5, 10*10**5, r'$\\Delta t/\\tau=10\\times 10^7$'],\n",
    "    [1*10**5, 5*10**5, r'$\\Delta t/\\tau=5\\times 10^7$'],\n",
    "    [5*10**4, 10*10**4, r'$\\Delta t/\\tau=2\\times 10^7$'],\n",
    "    [2.5*10**4, 5*10**4, r'$\\Delta t/\\tau=1\\times 10^7$'],\n",
    "    [1.25*10**4, 2.5*10**4, r'$\\Delta t/\\tau=0.5\\times 10^7$'],\n",
    "    [0, 10**5, r'$\\Delta t/\\tau=0.1\\times 10^7$']\n",
    "]"
   ]
  },
  {
   "cell_type": "code",
   "execution_count": null,
   "id": "208a0890-4068-4f56-abe8-d52ff690ac09",
   "metadata": {},
   "outputs": [],
   "source": [
    "fig, axes = plt.subplots(7,1, figsize=(16,36))\n",
    "fig.suptitle(r\"$t_{final}/\\tau=15.3\\times 10^7$\",y=0.98)\n",
    "color_palette = 'flare'\n",
    "#color_palette = 'tab10'\n",
    "#color_palette = ['orange', 'darkgoldenrod', 'forestgreen']\n",
    "save_to = './'\n",
    "ext = 'pdf'\n",
    "plot_context = 'talk'\n",
    "font_scale = 2\n",
    "height = 4\n",
    "aspect = 2*1.618\n",
    "ylabel_pad = 50\n",
    "rc_params= {\n",
    "    'axes.facecolor': 'aliceblue',\n",
    "    'mathtext.default': 'regular',\n",
    "    'text.usetex': True,\n",
    "    'axes.grid': True,\n",
    "    'axes.grid.axis': 'both',\n",
    "    'axes.grid.which': 'both',\n",
    "    'xtick.top': True,\n",
    "    'xtick.direction': 'in',\n",
    "    'ytick.right': True,\n",
    "    'ytick.direction': 'in',\n",
    "}\n",
    "font_family = 'sans-serif'\n",
    "sns.set_theme(\n",
    "    context=plot_context,\n",
    "    style='ticks',\n",
    "    palette=color_palette,\n",
    "    font='Times New Roman',\n",
    "    font_scale=font_scale,\n",
    "    rc=rc_params\n",
    ")\n",
    "for ax, (t_i, t_f, dt) in zip(axes,t_choice):\n",
    "    gyr_sliced = gyr.loc[(gyr['t']>=t_i)&(gyr['t']<=t_f),:]\n",
    "    gyr_mean = np.round(gyr_sliced['gyr'].mean(),2)\n",
    "    ax = sns.lineplot(\n",
    "        data=gyr_sliced,\n",
    "        x='t',\n",
    "        y='gyr',\n",
    "        ci=None,\n",
    "        palette=color_palette,\n",
    "        ax=ax,\n",
    "        label=dt,\n",
    "    )\n",
    "    ax.axhline(\n",
    "        gyr_mean, color='royalblue',\n",
    "        label=rf'$\\langle \\sqrt{{R^2_g}}\\rangle={gyr_mean}$', \n",
    "        lw=2, ls='-'\n",
    "    )\n",
    "    ax.legend(facecolor='white', loc='upper left', ncol=2)\n",
    "    ax.set_ylabel(r'$\\sqrt{R^2_g}/\\sigma$')\n",
    "    ax.set_xlabel(r'$t/\\tau$')\n",
    "fig.tight_layout(w_pad=1, h_pad=0)\n",
    "plt.show()\n",
    "fig.savefig(\"gyrTDna-slices.pdf\")"
   ]
  },
  {
   "cell_type": "markdown",
   "id": "f0778508-73a9-4a2f-bb9b-ef21d0a53882",
   "metadata": {},
   "source": [
    "### Semi-log to show reaching equilibrium"
   ]
  },
  {
   "cell_type": "code",
   "execution_count": null,
   "id": "bf3e3a7b-64d7-4b4d-b390-90a1663ceae3",
   "metadata": {},
   "outputs": [],
   "source": [
    "fig, axes = plt.subplots(2, 1, figsize=(16,18))\n",
    "color_palette = 'flare'\n",
    "save_to = './'\n",
    "ext = 'pdf'\n",
    "plot_context = 'talk'\n",
    "font_scale = 2\n",
    "height = 4\n",
    "aspect = 2*1.618\n",
    "ylabel_pad = 50\n",
    "rc_params= {\n",
    "    'axes.facecolor': 'aliceblue',\n",
    "    'mathtext.default': 'regular',\n",
    "    'text.usetex': True,\n",
    "    'axes.grid': True,\n",
    "    'axes.grid.axis': 'both',\n",
    "    'axes.grid.which': 'both',\n",
    "    'xtick.top': True,\n",
    "    'xtick.direction': 'in',\n",
    "    'ytick.right': True,\n",
    "    'ytick.direction': 'in',\n",
    "}\n",
    "font_family = 'sans-serif'\n",
    "sns.set_theme(\n",
    "    context=plot_context,\n",
    "    style='ticks',\n",
    "    palette=color_palette,\n",
    "    font='Times New Roman',\n",
    "    font_scale=font_scale,\n",
    "    rc=rc_params\n",
    ")\n",
    "axes[0] = sns.lineplot(\n",
    "    data=gyr,\n",
    "    x='t',\n",
    "    y='gyr',\n",
    "    ci=None,\n",
    "    palette=color_palette,\n",
    "    ax=axes[0]\n",
    ")\n",
    "fig.suptitle(r\"$\\Delta t_{sim}/\\tau=28.7\\times 10^7$\",y=0.92)\n",
    "axes[0].set_xlabel(r'$t/\\tau$')\n",
    "axes[0].axhline(gyr_mean, color='royalblue', label=r'$\\langle \\sqrt{R^2_g}\\rangle$', \n",
    "                lw=2, ls='-')\n",
    "axes[0].legend(facecolor='white', loc='upper right')\n",
    "axes[0].set_ylabel(r'$\\sqrt{R^2_g}/\\sigma$')\n",
    "axes[1].semilogx(\n",
    "    gyr['t'],\n",
    "    gyr['gyr']\n",
    ")\n",
    "axes[1].set_xlabel(r'$\\log(t/\\tau)$')\n",
    "axes[1].axhline(gyr_mean, color='royalblue', label=r'$\\langle \\sqrt{R^2_g}\\rangle$', \n",
    "                lw=2, ls='-')\n",
    "axes[1].legend(facecolor='white', loc='upper right')\n",
    "axes[1].set_ylabel(r'$\\sqrt{R^2_g}/\\sigma$')\n",
    "plt.show()\n",
    "fig.savefig(\"gyrTDna-semiLogX.pdf\")"
   ]
  },
  {
   "cell_type": "code",
   "execution_count": null,
   "id": "678a0e27-c3b3-4d24-a4d6-1a21bbdc9057",
   "metadata": {},
   "outputs": [],
   "source": []
  }
 ],
 "metadata": {
  "kernelspec": {
   "display_name": "Python 3 (ipykernel)",
   "language": "python",
   "name": "python3"
  },
  "language_info": {
   "codemirror_mode": {
    "name": "ipython",
    "version": 3
   },
   "file_extension": ".py",
   "mimetype": "text/x-python",
   "name": "python",
   "nbconvert_exporter": "python",
   "pygments_lexer": "ipython3",
   "version": "3.9.15"
  },
  "widgets": {
   "application/vnd.jupyter.widget-state+json": {
    "state": {},
    "version_major": 2,
    "version_minor": 0
   }
  }
 },
 "nbformat": 4,
 "nbformat_minor": 5
}
