{
 "cells": [
  {
   "cell_type": "code",
   "execution_count": 1,
   "id": "21cd9e75-229b-4c88-87b7-0bee77d5f6bb",
   "metadata": {
    "tags": []
   },
   "outputs": [],
   "source": [
    "%matplotlib inline\n",
    "from glob import glob\n",
    "import numpy as np\n",
    "import matplotlib.pyplot as plt\n",
    "import pandas as pd\n",
    "import seaborn as sns"
   ]
  },
  {
   "cell_type": "code",
   "execution_count": 2,
   "id": "aaa4c466-412f-447a-a2a5-13a44a035006",
   "metadata": {
    "tags": []
   },
   "outputs": [],
   "source": [
    "from typing import Optional, Tuple, Dict\n",
    "import MDAnalysis as mda\n",
    "from MDAnalysis.analysis.base import AnalysisFromFunction\n",
    "import numpy as np\n",
    "import pandas as pd\n",
    "import os\n",
    "from polyphys.manage.typer import ParserT\n",
    "from polyphys.manage.parser import SumRuleCyl, TransFociCyl, TransFociCub\n",
    "from polyphys.manage.organizer import invalid_keyword, sort_filenames\n",
    "from polyphys.analyze import clusters\n",
    "from polyphys.probe.prober import stamps_report\n",
    "import warnings\n",
    "\n",
    "from MDAnalysis.analysis import polymer\n",
    "from MDAnalysis.analysis import distances\n",
    "from polyphys.manage.parser import HnsCub"
   ]
  },
  {
   "cell_type": "markdown",
   "id": "ee8e021a-fab3-4b8f-aa12-66c8b5b3c85d",
   "metadata": {},
   "source": [
    "### Probe explorations"
   ]
  },
  {
   "cell_type": "code",
   "execution_count": null,
   "id": "c4ed0c95-a79d-4a4c-ab90-35998f75b16b",
   "metadata": {
    "tags": []
   },
   "outputs": [],
   "source": [
    "# analyzing bug files.\n",
    "group = 'nucleoid'\n",
    "lineage = 'whole'\n",
    "save_to = './'\n",
    "#path = \"/Users/amirhsi/OneDrive - University of Waterloo/PhD Research/Jupyter/N200epshm29nh0ac2nc0l25dt0.005ndump2000adump5000ens1.ring\"\n",
    "path = \"/Users/amirhsi_mini/research_data/hns_cubic-trjs/N*/N*\"\n",
    "nuc_pairs = glob(path + '/N*' + group + '*')\n",
    "nuc_pairs = sort_filenames(\n",
    "    nuc_pairs,\n",
    "    fmts=['.' + group + '.data', '.' + group + '.lammpstrj']\n",
    ")"
   ]
  },
  {
   "cell_type": "code",
   "execution_count": null,
   "id": "0b9fbb53-3ca1-40f7-89b2-ce0d29d69415",
   "metadata": {
    "tags": []
   },
   "outputs": [],
   "source": [
    "topology = nuc_pairs[0][0]\n",
    "trajectory = nuc_pairs[0][1]\n",
    "lineage = 'whole'\n",
    "save_to = './',\n",
    "continuous = False\n",
    "if (lineage == 'segment') & (continuous is False):\n",
    "    warnings.warn(\n",
    "        \"lineage is \"\n",
    "        f\"'{lineage}' \"\n",
    "        \"and 'continuous' is \"\n",
    "        f\"'{continuous}. \"\n",
    "        \"Please ensure the \"\n",
    "        f\"'{trajectory}' is NOT part of a sequence of trajectories.\",\n",
    "        UserWarning\n",
    "    )\n",
    "print(\"Setting the name of analyze file...\")\n",
    "sim_info = HnsCub(\n",
    "    trajectory,\n",
    "    lineage,\n",
    "    'cubic',\n",
    "    'nucleoid'\n",
    ")\n",
    "sim_name = sim_info.lineage_name + \"-\" + sim_info.group\n",
    "print(\"\\n\" + sim_name + \" is analyzing...\\n\")\n",
    "# LJ time difference between two consecutive frames:\n",
    "time_unit = sim_info.dmon * np.sqrt(\n",
    "    sim_info.mmon * sim_info.eps_others)  # LJ time unit\n",
    "lj_nstep = sim_info.ndump  # Sampling steps via dump command in Lammps\n",
    "lj_dt = sim_info.dt\n",
    "sim_real_dt = lj_nstep * lj_dt * time_unit\n",
    "cell = mda.Universe(\n",
    "    topology, trajectory, topology_format='DATA',\n",
    "    format='LAMMPSDUMP', lammps_coordinate_convention='unscaled',\n",
    "    atom_style=\"id resid type x y z\", dt=sim_real_dt\n",
    "    )\n",
    "# slicing trajectory based the continuous condition\n",
    "if continuous:\n",
    "    sliced_trj = cell.trajectory[0: -1]\n",
    "    n_frames = cell.trajectory.n_frames - 1\n",
    "else:\n",
    "    sliced_trj = cell.trajectory\n",
    "    n_frames = cell.trajectory.n_frames\n",
    "# selecting atom groups\n",
    "bug = cell.select_atoms('resid 1')  # the bug\n",
    "hns_pole = cell.select_atoms('type 2')  # the hns holes\n",
    "hns_core = cell.select_atoms('type 3')  # the hns cores\n",
    "\n",
    "# bond info\n",
    "n_bonds = len(bug.bonds.indices)\n",
    "bond_lengths_acc = np.zeros(n_bonds, dtype=np.float64)\n",
    "cosine_corrs_acc = np.zeros(n_bonds, dtype=np.float64)\n",
    "ljcut_coeff = 1.122462\n",
    "hns_core_mon_cutoff = 0.5*(sim_info.dmon*ljcut_coeff + 0.2 + sim_info.dhns)\n",
    "hns_pole_mon_cutoff = 0.5*(sim_info.dmon*ljcut_coeff + 0.2)\n",
    "mon_mon_cutoff = 0.5*(sim_info.dmon*ljcut_coeff)\n",
    "dist_array_core_contact = np.zeros((sim_info.nmon, sim_info.nhns), dtype=np.int64)\n",
    "dist_array_pole_contact = np.zeros((sim_info.nmon, 2*sim_info.nhns), dtype=np.int64)\n",
    "dist_array_mon_contact = np.zeros((sim_info.nmon, sim_info.nmon), dtype=np.int64)"
   ]
  },
  {
   "cell_type": "code",
   "execution_count": null,
   "id": "beb9a14b-b3a9-42bb-a1c5-db5c212e8794",
   "metadata": {},
   "outputs": [],
   "source": [
    "type(bug.positions)"
   ]
  },
  {
   "cell_type": "code",
   "execution_count": null,
   "id": "a60e7293-9cb0-4f25-a850-b5df8148ffe9",
   "metadata": {},
   "outputs": [],
   "source": [
    "for _ in sliced_trj:\n",
    "    # bug:\n",
    "    dummy = distances.distance_array(bug, hns_core, box=cell.dimensions)\n",
    "    dummy = np.asarray(dummy <= hns_core_mon_cutoff, dtype=int)\n",
    "    dist_array_core_contact += dummy\n",
    "    dummy = distances.distance_array(bug, hns_pole, box=cell.dimensions)\n",
    "    dummy = np.asarray(dummy <= hns_pole_mon_cutoff, dtype=int)\n",
    "    dist_array_pole_contact += dummy\n",
    "    dummy = distances.distance_array(bug, bug, box=cell.dimensions)\n",
    "    dummy = np.asarray(dummy <= mon_mon_cutoff, dtype=int)\n",
    "    dist_array_mon_contact += dummy\n",
    "\n",
    "dist_array_core_contact_mean = dist_array_core_contact / n_frames\n",
    "dist_array_pole_contact_mean = dist_array_pole_contact / n_frames\n",
    "dist_array_mon_contact_mean = dist_array_mon_contact / n_frames\n",
    "np.save(\n",
    "    save_to + sim_name + \"distCoreMonMean.npy\",\n",
    "    dist_array_core_contact_mean\n",
    ")\n",
    "np.save(\n",
    "    save_to + sim_name + \"-distPoleMonMean.npy\",\n",
    "    dist_array_pole_contact_mean\n",
    ")\n",
    "np.save(\n",
    "    save_to + sim_name + \"distMonMonMean.npy\",\n",
    "    dist_array_pole_contact_mean\n",
    ")"
   ]
  },
  {
   "cell_type": "code",
   "execution_count": null,
   "id": "02dbac2e-155b-44c9-beac-a38794a777ca",
   "metadata": {},
   "outputs": [],
   "source": [
    "%%time\n",
    "# analyzing bug files.\n",
    "group = 'nucleoid'\n",
    "lineage = 'whole'\n",
    "save_to = './'\n",
    "probe_path = \"/Users/amirhsi_mini/research_data/hns_cubic-trjs/N*/N*\"\n",
    "#probe_path = \"/Users/amirhsi_mini/research_data/ns400nl5al5ml125ac1nc0l62dt0.005bdump2000adump5000ens3.ring\"\n",
    "nuc_pairs = glob(probe_path + '/N*' + group + '*')\n",
    "nuc_pairs = organizer.sort_filenames(\n",
    "    nuc_pairs,\n",
    "    fmts=['.' + group + '.data', '.' + group + '.lammpstrj']\n",
    ")\n",
    "for (nuc_topo, nuc_trj) in nuc_pairs:\n",
    "    prober.hns_nucleoid_cub_dist(\n",
    "        nuc_topo,\n",
    "        nuc_trj,\n",
    "        lineage,\n",
    "        save_to = save_to\n",
    "    )"
   ]
  },
  {
   "cell_type": "markdown",
   "id": "11e8d828-c7c5-4e9f-990e-c314ee92a21b",
   "metadata": {},
   "source": [
    "## Visualizing contacts:"
   ]
  },
  {
   "cell_type": "code",
   "execution_count": null,
   "id": "cb581afb-7207-4e54-b211-d37837cb435c",
   "metadata": {
    "tags": []
   },
   "outputs": [],
   "source": [
    "phys_attrs = {\n",
    "    \"Core\": \"distCoreMonMean\",\n",
    "    \"Pole\": \"distPoleMonMean\"\n",
    "    \n",
    "}\n",
    "attr = \"Pole\"\n",
    "dists = glob(\"./N200*\"+phys_attrs[attr]+\".npy\")\n",
    "dists = sorted(dists)\n",
    "dists = dists[1:]\n",
    "dist_lists = []\n",
    "for dist in dists:\n",
    "    dist_info = HnsCub(\n",
    "        dist,\n",
    "        'whole',\n",
    "        'cubic',\n",
    "        'nucleoid'\n",
    "    )\n",
    "    \n",
    "    dist_lists.append([dist_info.nhns, dist_info.dcrowd, round(dist_info.phi_c_bulk,2), dist_info.nmon, dist_info.filepath])\n",
    "dist_lists.sort(key=lambda dist: (dist[0], dist[2]))"
   ]
  },
  {
   "cell_type": "code",
   "execution_count": null,
   "id": "829acfb0-6e10-404f-aa66-d10330820f58",
   "metadata": {
    "tags": []
   },
   "outputs": [],
   "source": [
    "rc_params = {\n",
    "    'mathtext.default': 'regular',\n",
    "    #'text.usetex': True\n",
    "}\n",
    "sns.set_theme(\n",
    " #   context='paper',\n",
    "    font='Times New Roman',\n",
    "    font_scale=1.5,\n",
    "    rc=rc_params\n",
    ")\n",
    "fig, axes = plt.subplots(nrows=5, ncols=2, sharey=True, figsize=(15,20))\n",
    "#cbar_ax = fig.add_axes([.91, .2, .03, .6])\n",
    "nmon = 200\n",
    "for idx, (dist, ax) in enumerate(zip(dist_lists, axes.flatten(order='F'))):\n",
    "    pole_data = np.load(dist[-1])\n",
    "    ax_hmap = sns.heatmap(\n",
    "        pole_data, ax=ax, cmap='rocket_r', vmin=0, vmax=0.03, # Pole\n",
    "        #pole_data, ax=ax, cmap='rocket_r', vmin=0, vmax=0.045,  # Core\n",
    "        #square=True\n",
    "        #cbar_kws={'label': 'Normalized contacts'},\n",
    "        #cbar= idx > 4,\n",
    "        #cbar_ax= None if idx==0 else cbar_ax,\n",
    "    )\n",
    "    \n",
    "    ax.set_xticks(np.arange(0.5,2*dist[0]+0.5,5))\n",
    "    ax.set_xticklabels(np.arange(1,2*dist[0],5))\n",
    "    #ax.set_xticks(np.arange(0.5,dist[0]+0.5,5))\n",
    "    #ax.set_xticklabels(np.arange(1,dist[0],5))\n",
    "    #ax.set_xticks(np.arange(0.5,dist[3]+0.5,30))\n",
    "    #ax.set_xticklabels(np.arange(1,dist[3],30))\n",
    "    ax.set_yticks(np.arange(0.5,dist[3],30))\n",
    "    ax.set_yticklabels(np.arange(1,dist[3],30))\n",
    "    if idx < 5:\n",
    "        ax.set_ylabel('Monomer (index)')\n",
    "    if idx % 5 == 4:\n",
    "        ax.set_xlabel('Hns pole (index)')\n",
    "    ax.set_title(fr'$n_{{hns}}={dist[0]}, \\phi_c={dist[2]}, a_c={dist[1]}$')\n",
    "fig.suptitle(\n",
    "    r\"Normalized number of contacts between monomers and hns \" \\\n",
    "        + attr.lower() +  \"s in $10^5$ counts\"\n",
    ")\n",
    "fig.tight_layout(h_pad=1, w_pad=0)#rect=[0, 0, .9, 1])\n",
    "fig.savefig(\"ContantMap-\"+attr+\"Mon.pdf\")"
   ]
  },
  {
   "cell_type": "markdown",
   "id": "f2c846e5-1a50-4e03-b922-821a394f0f76",
   "metadata": {},
   "source": [
    "# Visualizing persistance length"
   ]
  },
  {
   "cell_type": "code",
   "execution_count": 3,
   "id": "9364f40d-2bce-4ac7-ac47-88d660e7a70d",
   "metadata": {
    "tags": []
   },
   "outputs": [],
   "source": [
    "import scipy\n",
    "def fit_exponential_decay(x, y):\n",
    "    r\"\"\"Fit a function to an exponential decay\n",
    "\n",
    "    .. math::  y = \\exp\\left(- \\frac{x}{a}\\right)\n",
    "\n",
    "    Parameters\n",
    "    ----------\n",
    "    x, y : array_like\n",
    "      The two arrays of data\n",
    "\n",
    "    Returns\n",
    "    -------\n",
    "    a : float\n",
    "      The coefficient *a* for this decay\n",
    "\n",
    "    Notes\n",
    "    -----\n",
    "    This function assumes that data starts at 1.0 and decays to 0.0\n",
    "\n",
    "    \"\"\"\n",
    "    def expfunc(x, a, b, c):\n",
    "        return np.exp(-x**b/a) \n",
    "\n",
    "    a, b, c = scipy.optimize.curve_fit(expfunc, x, y)[0]\n",
    "\n",
    "    return a, b, c"
   ]
  },
  {
   "cell_type": "code",
   "execution_count": 8,
   "id": "11341163-4179-4246-b967-155bb0f91906",
   "metadata": {},
   "outputs": [
    {
     "name": "stderr",
     "output_type": "stream",
     "text": [
      "/Users/amirhsi_mini/OneDrive - University of Waterloo/PhD Research/Jupyter/PolyPhys/polyphys/manage/parser.py:2000: UserWarning: It is assumed that 'nc' is the last attribute shortkey in a lineage_name of types: 'ensemble', 'ensemble_long', 'whole', 'segment'.\n",
      "  warnings.warn(convention_warning, UserWarning)\n"
     ]
    }
   ],
   "source": [
    "corrs = glob(\"./N200*-bondCosineCorrsVec.npy\")\n",
    "corrs = sorted(corrs)\n",
    "corr_lists = []\n",
    "for corr in corrs:\n",
    "    corr_info = HnsCub(\n",
    "        corr,\n",
    "        'whole',\n",
    "        'cubic',\n",
    "        'nucleoid',\n",
    "        'ring'\n",
    "    )\n",
    "    corr_lists.append([corr_info.nhns, corr_info.dcrowd, round(corr_info.phi_c_bulk,2), corr_info.nmon, corr_info.filepath])\n",
    "corr_lists.sort(key=lambda dist: (dist[0], dist[2]))"
   ]
  },
  {
   "cell_type": "code",
   "execution_count": 9,
   "id": "161d3f41-5ac0-46ac-87f8-4724b95f4a96",
   "metadata": {},
   "outputs": [
    {
     "data": {
      "text/plain": [
       "[[0,\n",
       "  2.0,\n",
       "  0.0,\n",
       "  200,\n",
       "  './N200epshm29nh0ac2nc0l25dt0.005ndump2000adump5000ens1.ring-nucleoid-bondCosineCorrsVec.npy'],\n",
       " [37,\n",
       "  1.0,\n",
       "  0.2,\n",
       "  200,\n",
       "  './N200epshm29nh37ac1nc47747l25dt0.005ndump2000adump5000ens1.ring-nucleoid-bondCosineCorrsVec.npy'],\n",
       " [37,\n",
       "  1.0,\n",
       "  0.3,\n",
       "  200,\n",
       "  './N200epshm29nh37ac1nc71620l25dt0.005ndump2000adump5000ens1.ring-nucleoid-bondCosineCorrsVec.npy']]"
      ]
     },
     "execution_count": 9,
     "metadata": {},
     "output_type": "execute_result"
    }
   ],
   "source": [
    "corr_lists"
   ]
  },
  {
   "cell_type": "code",
   "execution_count": null,
   "id": "7fed212f-2ad1-425d-8c89-4455965aad25",
   "metadata": {
    "tags": []
   },
   "outputs": [],
   "source": [
    "fit_exponential_decay(bond_idx, cosine_corrs_acc/n_bonds/n_frames)"
   ]
  },
  {
   "cell_type": "code",
   "execution_count": null,
   "id": "683ac723-3b93-47ae-be46-e67b2801a937",
   "metadata": {
    "tags": []
   },
   "outputs": [],
   "source": [
    "corr_data = np.load(corr[-1])\n",
    "bonds_per_lag = np.arange(n_bonds,0, -1)\n",
    "corr_data = corr_data/bonds_per_lag\n",
    "bond_idx = np.arange(corr[3])\n",
    "per_length, b, c = fit_exponential_decay(bond_idx[:n_bonds//2], corr_data[:n_bonds//2])\n",
    "bond_corr = np.exp(-c*bond_idx**b/per_length)\n",
    "print(per_length, b, c)"
   ]
  },
  {
   "cell_type": "code",
   "execution_count": null,
   "id": "cf4c5e69-9bb7-4191-86dd-b34e7e0f76ca",
   "metadata": {},
   "outputs": [],
   "source": [
    "corr_data"
   ]
  },
  {
   "cell_type": "code",
   "execution_count": null,
   "id": "82734856-411b-4fd5-bd4c-15fa70c9e87d",
   "metadata": {},
   "outputs": [],
   "source": [
    "plt.plot(bond_idx, corr_data)\n",
    "plt.plot(bond_idx, np.exp(-c*bond_idx**b/per_length))"
   ]
  },
  {
   "cell_type": "code",
   "execution_count": 15,
   "id": "61a41688-9af3-4e32-bded-9f3aec2aa2cd",
   "metadata": {},
   "outputs": [
    {
     "data": {
      "text/plain": [
       "array([  1,   2,   3,   4,   5,   6,   7,   8,   9,  10,  11,  12,  13,\n",
       "        14,  15,  16,  17,  18,  19,  20,  21,  22,  23,  24,  25,  26,\n",
       "        27,  28,  29,  30,  31,  32,  33,  34,  35,  36,  37,  38,  39,\n",
       "        40,  41,  42,  43,  44,  45,  46,  47,  48,  49,  50,  51,  52,\n",
       "        53,  54,  55,  56,  57,  58,  59,  60,  61,  62,  63,  64,  65,\n",
       "        66,  67,  68,  69,  70,  71,  72,  73,  74,  75,  76,  77,  78,\n",
       "        79,  80,  81,  82,  83,  84,  85,  86,  87,  88,  89,  90,  91,\n",
       "        92,  93,  94,  95,  96,  97,  98,  99, 100, 101, 102, 103, 104,\n",
       "       105, 106, 107, 108, 109, 110, 111, 112, 113, 114, 115, 116, 117,\n",
       "       118, 119, 120, 121, 122, 123, 124, 125, 126, 127, 128, 129, 130,\n",
       "       131, 132, 133, 134, 135, 136, 137, 138, 139, 140, 141, 142, 143,\n",
       "       144, 145, 146, 147, 148, 149, 150, 151, 152, 153, 154, 155, 156,\n",
       "       157, 158, 159, 160, 161, 162, 163, 164, 165, 166, 167, 168, 169,\n",
       "       170, 171, 172, 173, 174, 175, 176, 177, 178, 179, 180, 181, 182,\n",
       "       183, 184, 185, 186, 187, 188, 189, 190, 191, 192, 193, 194, 195,\n",
       "       196, 197, 198, 199, 200])"
      ]
     },
     "execution_count": 15,
     "metadata": {},
     "output_type": "execute_result"
    }
   ],
   "source": [
    "np.arange(1, 201)"
   ]
  },
  {
   "cell_type": "code",
   "execution_count": null,
   "id": "c7eafea9-e1bf-4942-983e-4bd82fdede65",
   "metadata": {
    "tags": []
   },
   "outputs": [],
   "source": [
    "rc_params = {\n",
    "    'mathtext.default': 'regular',\n",
    "    #'text.usetex': True\n",
    "}\n",
    "sns.set_theme(\n",
    " #   context='paper',\n",
    "    font='Times New Roman',\n",
    "    font_scale=1.5,\n",
    "    rc=rc_params\n",
    ")\n",
    "fig, axes = plt.subplots(nrows=5, ncols=2, sharey=True, figsize=(15,20))\n",
    "#cbar_ax = fig.add_axes([.91, .2, .03, .6])\n",
    "nmon = 200\n",
    "for idx, (corr, ax) in enumerate(zip(corr_lists, axes.flatten(order='F'))):\n",
    "    corr_data = np.load(corr[-1])\n",
    "    bond_idx = np.arange(1,corr[3]+1,1)\n",
    "    ax_hmap = sns.lineplot(\n",
    "        bond_idx, corr_data,\n",
    "        #square=True\n",
    "        #cbar_kws={'label': 'Normalized contacts'},\n",
    "        #cbar= idx > 4,\n",
    "        #cbar_ax= None if idx==0 else cbar_ax,\n",
    "    )\n",
    "    \n",
    "    ax.set_xticks(np.arange(0.5,2*dist[0]+0.5,5))\n",
    "    ax.set_xticklabels(np.arange(1,2*dist[0],5))\n",
    "    #ax.set_xticks(np.arange(0.5,dist[0]+0.5,5))\n",
    "    #ax.set_xticklabels(np.arange(1,dist[0],5))\n",
    "    #ax.set_xticks(np.arange(0.5,dist[3]+0.5,30))\n",
    "    #ax.set_xticklabels(np.arange(1,dist[3],30))\n",
    "    #ax.set_yticks(np.arange(0.5,dist[3],30))\n",
    "    #ax.set_yticklabels(np.arange(1,dist[3],30))\n",
    "    #if idx < 5:\n",
    "    #    ax.set_ylabel('Monomer (index)')\n",
    "    #if idx % 5 == 4:\n",
    "    #    ax.set_xlabel('Hns pole (index)')\n",
    "    #ax.set_title(fr'$n_{{hns}}={dist[0]}, \\phi_c={dist[2]}, a_c={dist[1]}$')\n",
    "#fig.suptitle(\n",
    "#    r\"Normalized number of contacts between monomers and hns cores in $10^5$ #counts\"\n",
    "#)\n",
    "#fig.tight_layout(h_pad=1, w_pad=0)#rect=[0, 0, .9, 1])\n",
    "fig.savefig(\"PersistanceLength.pdf\")"
   ]
  },
  {
   "cell_type": "markdown",
   "id": "1894fdcd-55a7-49f3-9d15-ea37c0c8cf1d",
   "metadata": {
    "tags": []
   },
   "source": [
    "### slicing over different"
   ]
  },
  {
   "cell_type": "code",
   "execution_count": null,
   "id": "91f8de0c-fbfa-4266-a067-591ce2d2a8b9",
   "metadata": {},
   "outputs": [],
   "source": [
    "\n",
    "t_choice = [  # upper 1.03*10**8\n",
    "    [3*10**6, 2.53*10**8, r'$\\Delta t/\\tau=25\\times 10^7$'],\n",
    "    [0.03*10**8, 1.03*10**8, r'$\\Delta t/\\tau=10\\times 10^7$'],\n",
    "    [0.53*10**8, 1.03*10**8, r'$\\Delta t/\\tau=5\\times 10^7$'],\n",
    "    [0.83*10**8, 1.03*10**8, r'$\\Delta t/\\tau=2\\times 10^7$'],\n",
    "    [0.93*10**8, 1.03*10**8, r'$\\Delta t/\\tau=1\\times 10^7$'],\n",
    "    [0.98*10**8, 1.03*10**8, r'$\\Delta t/\\tau=0.5\\times 10^7$'],\n",
    "    [1.02*10**8, 1.03*10**8, r'$\\Delta t/\\tau=0.1\\times 10^7$']\n",
    "]\n",
    "t_choice = [  # upper 2.03*10**8\n",
    "    [3*10**6, 2.53*10**8, r'$\\Delta t/\\tau=25\\times 10^7$'],\n",
    "    [1.03*10**8, 2.03*10**8, r'$\\Delta t/\\tau=10\\times 10^7$'],\n",
    "    [1.53*10**8, 2.03*10**8, r'$\\Delta t/\\tau=5\\times 10^7$'],\n",
    "    [1.83*10**8, 2.03*10**8, r'$\\Delta t/\\tau=2\\times 10^7$'],\n",
    "    [1.93*10**8, 2.03*10**8, r'$\\Delta t/\\tau=1\\times 10^7$'],\n",
    "    [1.98*10**8, 2.03*10**8, r'$\\Delta t/\\tau=0.5\\times 10^7$'],\n",
    "    [2.02*10**8, 2.03*10**8, r'$\\Delta t/\\tau=0.1\\times 10^7$']\n",
    "]\n",
    "t_choice = [  # upper 1.53*10**8\n",
    "    [3*10**6, 2.53*10**8, r'$\\Delta t/\\tau=25\\times 10^7$'],\n",
    "    [0.53*10**8, 1.53*10**8, r'$\\Delta t/\\tau=10\\times 10^7$'],\n",
    "    [1.03*10**8, 1.53*10**8, r'$\\Delta t/\\tau=5\\times 10^7$'],\n",
    "    [1.33*10**8, 1.53*10**8, r'$\\Delta t/\\tau=2\\times 10^7$'],\n",
    "    [1.43*10**8, 1.53*10**8, r'$\\Delta t/\\tau=1\\times 10^7$'],\n",
    "    [1.48*10**8, 1.53*10**8, r'$\\Delta t/\\tau=0.5\\times 10^7$'],\n",
    "    [1.52*10**8, 1.53*10**8, r'$\\Delta t/\\tau=0.1\\times 10^7$']\n",
    "]"
   ]
  },
  {
   "cell_type": "code",
   "execution_count": null,
   "id": "a7c69728-6aa5-4496-86f9-cb79207594f6",
   "metadata": {},
   "outputs": [],
   "source": [
    "t_choice = [  # upper 1.53*10**8\n",
    "    [0, 10*10**5, r'$\\Delta t/\\tau=25\\times 10^7$'],\n",
    "    [5*10**5, 10*10**5, r'$\\Delta t/\\tau=10\\times 10^7$'],\n",
    "    [1*10**5, 5*10**5, r'$\\Delta t/\\tau=5\\times 10^7$'],\n",
    "    [5*10**4, 10*10**4, r'$\\Delta t/\\tau=2\\times 10^7$'],\n",
    "    [2.5*10**4, 5*10**4, r'$\\Delta t/\\tau=1\\times 10^7$'],\n",
    "    [1.25*10**4, 2.5*10**4, r'$\\Delta t/\\tau=0.5\\times 10^7$'],\n",
    "    [0, 10**5, r'$\\Delta t/\\tau=0.1\\times 10^7$']\n",
    "]"
   ]
  },
  {
   "cell_type": "code",
   "execution_count": null,
   "id": "208a0890-4068-4f56-abe8-d52ff690ac09",
   "metadata": {},
   "outputs": [],
   "source": [
    "fig, axes = plt.subplots(7,1, figsize=(16,36))\n",
    "fig.suptitle(r\"$t_{final}/\\tau=15.3\\times 10^7$\",y=0.98)\n",
    "color_palette = 'flare'\n",
    "#color_palette = 'tab10'\n",
    "#color_palette = ['orange', 'darkgoldenrod', 'forestgreen']\n",
    "save_to = './'\n",
    "ext = 'pdf'\n",
    "plot_context = 'talk'\n",
    "font_scale = 2\n",
    "height = 4\n",
    "aspect = 2*1.618\n",
    "ylabel_pad = 50\n",
    "rc_params= {\n",
    "    'axes.facecolor': 'aliceblue',\n",
    "    'mathtext.default': 'regular',\n",
    "    'text.usetex': True,\n",
    "    'axes.grid': True,\n",
    "    'axes.grid.axis': 'both',\n",
    "    'axes.grid.which': 'both',\n",
    "    'xtick.top': True,\n",
    "    'xtick.direction': 'in',\n",
    "    'ytick.right': True,\n",
    "    'ytick.direction': 'in',\n",
    "}\n",
    "font_family = 'sans-serif'\n",
    "sns.set_theme(\n",
    "    context=plot_context,\n",
    "    style='ticks',\n",
    "    palette=color_palette,\n",
    "    font='Times New Roman',\n",
    "    font_scale=font_scale,\n",
    "    rc=rc_params\n",
    ")\n",
    "for ax, (t_i, t_f, dt) in zip(axes,t_choice):\n",
    "    gyr_sliced = gyr.loc[(gyr['t']>=t_i)&(gyr['t']<=t_f),:]\n",
    "    gyr_mean = np.round(gyr_sliced['gyr'].mean(),2)\n",
    "    ax = sns.lineplot(\n",
    "        data=gyr_sliced,\n",
    "        x='t',\n",
    "        y='gyr',\n",
    "        ci=None,\n",
    "        palette=color_palette,\n",
    "        ax=ax,\n",
    "        label=dt,\n",
    "    )\n",
    "    ax.axhline(\n",
    "        gyr_mean, color='royalblue',\n",
    "        label=rf'$\\langle \\sqrt{{R^2_g}}\\rangle={gyr_mean}$', \n",
    "        lw=2, ls='-'\n",
    "    )\n",
    "    ax.legend(facecolor='white', loc='upper left', ncol=2)\n",
    "    ax.set_ylabel(r'$\\sqrt{R^2_g}/\\sigma$')\n",
    "    ax.set_xlabel(r'$t/\\tau$')\n",
    "fig.tight_layout(w_pad=1, h_pad=0)\n",
    "plt.show()\n",
    "fig.savefig(\"gyrTDna-slices.pdf\")"
   ]
  },
  {
   "cell_type": "markdown",
   "id": "f0778508-73a9-4a2f-bb9b-ef21d0a53882",
   "metadata": {},
   "source": [
    "### Semi-log to show reaching equilibrium"
   ]
  },
  {
   "cell_type": "code",
   "execution_count": null,
   "id": "bf3e3a7b-64d7-4b4d-b390-90a1663ceae3",
   "metadata": {},
   "outputs": [],
   "source": [
    "fig, axes = plt.subplots(2, 1, figsize=(16,18))\n",
    "color_palette = 'flare'\n",
    "save_to = './'\n",
    "ext = 'pdf'\n",
    "plot_context = 'talk'\n",
    "font_scale = 2\n",
    "height = 4\n",
    "aspect = 2*1.618\n",
    "ylabel_pad = 50\n",
    "rc_params= {\n",
    "    'axes.facecolor': 'aliceblue',\n",
    "    'mathtext.default': 'regular',\n",
    "    'text.usetex': True,\n",
    "    'axes.grid': True,\n",
    "    'axes.grid.axis': 'both',\n",
    "    'axes.grid.which': 'both',\n",
    "    'xtick.top': True,\n",
    "    'xtick.direction': 'in',\n",
    "    'ytick.right': True,\n",
    "    'ytick.direction': 'in',\n",
    "}\n",
    "font_family = 'sans-serif'\n",
    "sns.set_theme(\n",
    "    context=plot_context,\n",
    "    style='ticks',\n",
    "    palette=color_palette,\n",
    "    font='Times New Roman',\n",
    "    font_scale=font_scale,\n",
    "    rc=rc_params\n",
    ")\n",
    "axes[0] = sns.lineplot(\n",
    "    data=gyr,\n",
    "    x='t',\n",
    "    y='gyr',\n",
    "    ci=None,\n",
    "    palette=color_palette,\n",
    "    ax=axes[0]\n",
    ")\n",
    "fig.suptitle(r\"$\\Delta t_{sim}/\\tau=28.7\\times 10^7$\",y=0.92)\n",
    "axes[0].set_xlabel(r'$t/\\tau$')\n",
    "axes[0].axhline(gyr_mean, color='royalblue', label=r'$\\langle \\sqrt{R^2_g}\\rangle$', \n",
    "                lw=2, ls='-')\n",
    "axes[0].legend(facecolor='white', loc='upper right')\n",
    "axes[0].set_ylabel(r'$\\sqrt{R^2_g}/\\sigma$')\n",
    "axes[1].semilogx(\n",
    "    gyr['t'],\n",
    "    gyr['gyr']\n",
    ")\n",
    "axes[1].set_xlabel(r'$\\log(t/\\tau)$')\n",
    "axes[1].axhline(gyr_mean, color='royalblue', label=r'$\\langle \\sqrt{R^2_g}\\rangle$', \n",
    "                lw=2, ls='-')\n",
    "axes[1].legend(facecolor='white', loc='upper right')\n",
    "axes[1].set_ylabel(r'$\\sqrt{R^2_g}/\\sigma$')\n",
    "plt.show()\n",
    "fig.savefig(\"gyrTDna-semiLogX.pdf\")"
   ]
  },
  {
   "cell_type": "code",
   "execution_count": null,
   "id": "678a0e27-c3b3-4d24-a4d6-1a21bbdc9057",
   "metadata": {},
   "outputs": [],
   "source": []
  }
 ],
 "metadata": {
  "kernelspec": {
   "display_name": "Python 3 (ipykernel)",
   "language": "python",
   "name": "python3"
  },
  "language_info": {
   "codemirror_mode": {
    "name": "ipython",
    "version": 3
   },
   "file_extension": ".py",
   "mimetype": "text/x-python",
   "name": "python",
   "nbconvert_exporter": "python",
   "pygments_lexer": "ipython3",
   "version": "3.9.13"
  }
 },
 "nbformat": 4,
 "nbformat_minor": 5
}
