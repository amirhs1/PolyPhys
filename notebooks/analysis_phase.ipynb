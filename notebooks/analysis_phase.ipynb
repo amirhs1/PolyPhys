{
 "cells": [
  {
   "cell_type": "markdown",
   "id": "3c72ab68",
   "metadata": {
    "tags": []
   },
   "source": [
    "# The analysis phase:\n",
    "In this phase, if there are any segment files in the *probe* phase, they are merged into *whole* files. Then,  ensemble, ensemble-averaged, and space files are created from whole files.\n",
    "\n",
    "### Naming convention:\n",
    "This is the pattern of file or directory names:\n",
    "1. **whole** files: whole-group-propertyMeasureStage.ext\n",
    "2. **ensemble** files: ensemble-group-propertyMeasureStage.ext\n",
    "3. **ensemble_long** files: ensemble_long-group-propertyMeasureStage.ext\n",
    "4. **space** files: space-group-propertyMeasureStage.ext\n",
    "5. **all in one** files: space-group-**species**-**allInOne**-propertyMeasureStage.ext\n",
    "6. **keyword** means that the keyword in the file name is option. **Measure** is a physical measurement such as the auto correlation function (AFC) done on the physical 'property'.\n",
    "7. Files generated in the *probe* phase can be in *segment* or *whole* version. The analysis phase can be started from the *segments* or *wholes* depending on the type of simulation."
   ]
  },
  {
   "cell_type": "markdown",
   "id": "378327a9-117b-4741-9ada-a5f197cac3e4",
   "metadata": {
    "tags": []
   },
   "source": [
    "#### Bug"
   ]
  },
  {
   "cell_type": "code",
   "execution_count": null,
   "id": "03b7081a-73ad-4661-81cf-2b3768fe00c2",
   "metadata": {},
   "outputs": [],
   "source": [
    "from glob import glob\n",
    "from polyphys.analyze import analyzer\n",
    "import warnings\n",
    "#warnings.filterwarnings(\"ignore\")"
   ]
  },
  {
   "cell_type": "code",
   "execution_count": null,
   "id": "fa54c914-1873-4b00-a969-b066bd0364fa",
   "metadata": {},
   "outputs": [],
   "source": [
    "%%time\n",
    "# 10 mins on MacBook Mini with 7000 lags for N2000D30.0ac4.0-probe-bugSegment\n",
    "# and N2000D30.0ac6.0-probe-bugSegment\n",
    "# TransFociCub: whole files: 5 min on macmini\n",
    "#input_databases = glob(\"/Users/amirhsi_mini/research_data/probe/N*-probe-bugSegment\")\n",
    "#input_databases = glob(\"/Users/amirhsi_mini/research_data/probe/ns*-probe/\")\n",
    "#input_databases = glob(\"/Users/amirhsi_mini/research_data/N200epshm29kbmm2ac1ens1_2-probe/N*-probe/\")\n",
    "#print(input_databases)\n",
    "#input_databases = glob(\"/Users/amirhsi_mini/research_data/HnsCyl-probe/N*/\")\n",
    "#input_databases = glob(\"/Users/amirhsi_mini/research_data/TransFociCub-probe/ns*/\")\n",
    "input_databases = glob(\"/Users/amirhsi_mini/research_data/probes/D*/\")\n",
    "#input_databases = glob(\"./N*-probe/\")\n",
    "project = 'TransFociCylWhole'\n",
    "project_details = analyzer.ANALYSIS_DETAILS_NUCLEOID[project]\n",
    "for input_database in input_databases:\n",
    "    print(input_database)\n",
    "    analyzer.analyze_measures(\n",
    "        input_database,\n",
    "        project_details['hierarchy'],\n",
    "        project_details['parser'],\n",
    "        project_details['group'],\n",
    "        project_details['geometry'],\n",
    "        project_details['topology'],\n",
    "        project_details['is_segment'],\n",
    "        project_details['has_stamp'],\n",
    "        nonscalar_hist_t_properties=project_details[\n",
    "            'nonscalar_hist_t_properties'],\n",
    "        nonscalar_mat_t_properties=project_details[\n",
    "            'nonscalar_mat_t_properties'],\n",
    "        acf_tseries_properties=project_details[\n",
    "            'acf_tseries_properties'],\n",
    "        #tseries_properties=project_details['tseries_properties'],\n",
    "        # nlags=20000\n",
    "    )"
   ]
  },
  {
   "cell_type": "markdown",
   "id": "facfb020-6c4d-419a-835a-d55b4682df4d",
   "metadata": {
    "tags": []
   },
   "source": [
    "#### all"
   ]
  },
  {
   "cell_type": "code",
   "execution_count": null,
   "id": "92c33c01",
   "metadata": {},
   "outputs": [],
   "source": [
    "from glob import glob\n",
    "from polyphys.analyze import analyzer\n",
    "import warnings\n",
    "#warnings.filterwarnings(\"ignore\")"
   ]
  },
  {
   "cell_type": "code",
   "execution_count": null,
   "id": "4bd87d82-dd0a-4255-ba62-94294c858f21",
   "metadata": {
    "pycharm": {
     "is_executing": true
    }
   },
   "outputs": [],
   "source": [
    "%%time\n",
    "# 15 mins on MacBook Mini with 7000 lags for N1000D15.0ac1.0-probe-bugWhole\n",
    "# N1000D15.0ac2.0-probe-bugWhole, N2000D20.0ac1.0-probe-bugWhole and\n",
    "# N2000D20.0ac2.0-probe-bugWhole\n",
    "# 12 mins on MacBook Mini with 7000 lags for N2000D25.0ac1.0-probe-bugWhole\n",
    "# N2000D25.0ac2.0-probe-bugWhole, N2000D25.0ac4.0-probe-bugWhole\n",
    "# 8 mins on MacBook Mini with 7000 lags for N2000D30.0ac4.0-probe-bugSegment\n",
    "# N2000D30.0ac6.0-probe-bugSegment\n",
    "# 4 mins on MacBook Mini with 7000 lags for N500D10.0ac0.8-probe-bugSegment\n",
    "# N500D10.0ac1.0-probe-bugSegment\n",
    "# 3min mins on MacBook Mini with 7000 lags for N500D10.0ac0.6-probe-bugSegment\n",
    "# TransFociCub: whole files: 5 min on macmini\n",
    "#input_databases = glob(\n",
    "#    \"/Users/amirhsi_mini/research_data/HnsCub-probe/N*-probe/\"\n",
    "#)\n",
    "#input_databases = glob(\"/Users/amirhsi_mini/research_data/N200epshm29kbmm2ac1ens1_2-probe/N*-probe/\")\n",
    "#input_databases = glob(\"/Users/amirhsi_mini/research_data/TransFociCub-probe/ns*-probe/)\n",
    "#print(input_databases)\n",
    "#input_databases = glob(\"/Users/amirhsi_mini/research_data/HnsCyl-probe/N*/\")\n",
    "#input_databases = glob(\n",
    "#    \"/Users/amirhsi_mini/research_data/TransFociCub-probe/ns*/\"\n",
    "#)\n",
    "input_databases = glob(\"/Users/amirhsi_mini/research_data/probes/D*/\")\n",
    "#input_databases = glob(\"./N*-probe/\")\n",
    "project = 'TransFociCylWhole'\n",
    "project_details = analyzer.ANALYSIS_DETAILS_ALL[project]\n",
    "for input_database in input_databases:\n",
    "    print(input_database)\n",
    "    analyzer.analyze_measures(\n",
    "        input_database,\n",
    "        project_details['hierarchy'],\n",
    "        project_details['parser'],\n",
    "        project_details['group'],\n",
    "        project_details['geometry'],\n",
    "        project_details['topology'],\n",
    "        project_details['is_segment'],\n",
    "        project_details['has_stamp'],\n",
    "        hist_properties=project_details['hist_properties'],\n",
    "        hist2d_properties=project_details['hist2d_properties'],\n",
    "        hist2d_edges=project_details['hist2d_edges'],\n",
    "        rho_phi_hist_properties=project_details['rho_phi_hist_properties']\n",
    "    )\n"
   ]
  },
  {
   "cell_type": "markdown",
   "id": "8289698b-844c-4cfb-a781-439cc27a6216",
   "metadata": {
    "jp-MarkdownHeadingCollapsed": true,
    "tags": []
   },
   "source": [
    "# Fix missing\n",
    "\n",
    "Fix missing snapshots in Lammps outputs, that in turn results in missed data in probe files."
   ]
  },
  {
   "cell_type": "code",
   "execution_count": null,
   "id": "373f424a-9762-472a-aa87-eb811f535c69",
   "metadata": {},
   "outputs": [],
   "source": [
    "import numpy as np\n",
    "from glob import glob"
   ]
  },
  {
   "cell_type": "code",
   "execution_count": null,
   "id": "6539c457-6d8e-4597-8d1e-ff121acfa358",
   "metadata": {},
   "outputs": [],
   "source": [
    "files = glob('./*.npy')\n",
    "files"
   ]
  },
  {
   "cell_type": "code",
   "execution_count": null,
   "id": "50d1fd12-75f9-4207-b874-58320950c2a1",
   "metadata": {},
   "outputs": [],
   "source": [
    "for f in files:\n",
    "    print(np.load(f).shape)"
   ]
  },
  {
   "cell_type": "code",
   "execution_count": null,
   "id": "af795349-11df-4753-810b-af47ff887ecc",
   "metadata": {},
   "outputs": [],
   "source": [
    "# Version 1: append n random values, where n is the number of missing frames, from the last 5000 elements of the vector/tensor a to a copy of it (vector/tensor b) so we have\n",
    "# a total of n_frames always\n",
    "idxs = np.arange(0,49998,dtype=int)\n",
    "choices = np.random.choice(idxs[-500:], size=3, replace=False)\n",
    "print(choices)"
   ]
  },
  {
   "cell_type": "code",
   "execution_count": null,
   "id": "24bc4407-66e5-45ec-9c75-464c4cba5ab5",
   "metadata": {},
   "outputs": [],
   "source": [
    "for f in files:\n",
    "    a = np.load(f)\n",
    "    print(a.shape)\n",
    "    random_elements = a[choices]\n",
    "    b = np.concatenate((a, random_elements), axis=0)\n",
    "    print(b.shape)\n",
    "    print('./' + f.split(\"/\")[-1].split(\"-original.npy\")[0])\n",
    "    np.save('./' + f.split(\"/\")[-1],b)"
   ]
  },
  {
   "cell_type": "code",
   "execution_count": null,
   "id": "6e08a5ac-f47a-4429-b7c4-e3f84c2e905a",
   "metadata": {},
   "outputs": [],
   "source": []
  }
 ],
 "metadata": {
  "kernelspec": {
   "display_name": "Python 3 (ipykernel)",
   "language": "python",
   "name": "python3"
  },
  "language_info": {
   "codemirror_mode": {
    "name": "ipython",
    "version": 3
   },
   "file_extension": ".py",
   "mimetype": "text/x-python",
   "name": "python",
   "nbconvert_exporter": "python",
   "pygments_lexer": "ipython3",
   "version": "3.11.3"
  },
  "vscode": {
   "interpreter": {
    "hash": "905eddd834f47278e82c8803001c8cba7ff23ca6cd99b3eaaa45ba7f5342ab1c"
   }
  },
  "widgets": {
   "application/vnd.jupyter.widget-state+json": {
    "state": {},
    "version_major": 2,
    "version_minor": 0
   }
  }
 },
 "nbformat": 4,
 "nbformat_minor": 5
}
