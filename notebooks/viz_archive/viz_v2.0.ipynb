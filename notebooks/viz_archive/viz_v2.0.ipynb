{
 "cells": [
  {
   "cell_type": "code",
   "execution_count": 1,
   "metadata": {
    "colab": {},
    "colab_type": "code",
    "id": "C_CLXSgvVO_9",
    "jupyter": {
     "source_hidden": true
    },
    "tags": []
   },
   "outputs": [],
   "source": [
    "# Importing necessary packages:\n",
    "#import re\n",
    "#import os\n",
    "from glob import glob\n",
    "#import math\n",
    "import numpy as np\n",
    "import pandas as pd\n",
    "#import datetime as dt\n",
    "#import itertools\n",
    "\n",
    "import matplotlib.pyplot as plt\n",
    "import matplotlib.colors as colors\n",
    "import matplotlib as mpl\n",
    "from matplotlib import rcParams, cycler\n",
    "import matplotlib.lines as lines\n",
    "from collections import OrderedDict\n",
    "from matplotlib.legend import Legend\n",
    "import matplotlib.patches as mpatches\n",
    "import matplotlib.lines as mlines\n",
    "from matplotlib.collections import PolyCollection # for chaing confidence interval color in statsmodels.graphics.tsaplots.plot_acf\n",
    "\n",
    "import seaborn as sns\n",
    "\n",
    "import statsmodels.tsa.stattools as tsas\n",
    "import statsmodels.graphics.tsaplots as tsap\n",
    "\n",
    "from polyphys.visualize import plotter\n",
    "from polyphys.visualize import tuner\n",
    "from polyphys.manage.parser import SumRule, TransFoci\n",
    "from polyphys.manage import organizer\n",
    "from polyphys.analyze import correlations"
   ]
  },
  {
   "cell_type": "markdown",
   "metadata": {
    "tags": []
   },
   "source": [
    "### Chain size vs $\\phi_c$: 2021"
   ]
  },
  {
   "cell_type": "code",
   "execution_count": null,
   "metadata": {
    "tags": []
   },
   "outputs": [],
   "source": [
    "parent = '/Users/amirhsi_mini/analysis/'\n",
    "properties_path = \"all_in_one-properties-ens_avg-normalized.csv\"\n",
    "properties = pd.read_csv(parent+properties_path,header=0)"
   ]
  },
  {
   "cell_type": "code",
   "execution_count": null,
   "metadata": {
    "tags": []
   },
   "outputs": [],
   "source": [
    "# chain size plot\n",
    "fontsize=20\n",
    "properties_phi_c_trunc = properties[properties['phi_c_bulk_eff']<=0.4]\n",
    "PipeLine.chainsize_plot(properties_phi_c_trunc, \"phi_c_bulk\", fontsize=fontsize)\n",
    "PipeLine.chainsize_plot(properties_phi_c_trunc, \"phi_c_bulk_eff\", fontsize=fontsize)\n",
    "PipeLine.chainsize_plot(properties_phi_c_trunc, \"phi_c_bulk_normalized\", fontsize=fontsize)\n",
    "PipeLine.chainsize_plot(properties_phi_c_trunc, \"phi_c_bulk_eff_normalized\", fontsize=fontsize)"
   ]
  },
  {
   "cell_type": "markdown",
   "metadata": {
    "jp-MarkdownHeadingCollapsed": true,
    "tags": []
   },
   "source": [
    "### The local distributions"
   ]
  },
  {
   "cell_type": "code",
   "execution_count": null,
   "metadata": {
    "tags": []
   },
   "outputs": [],
   "source": [
    "#direction_name = 'radial'\n",
    "parent = '/Users/amirhsi_mini/analysis/'\n",
    "simulation_type = 'all' # all or bug\n",
    "attribute = 'distributions'\n",
    "direction_name = 'radial'\n",
    "direction = 'r'\n",
    "dist_name = 'phi'\n",
    "y_norm = '_norm'\n",
    "x_norm_mon = ''#'_mon'\n",
    "x_norm_crd = ''#'_crd'\n",
    "distributions = pd.read_csv(parent+'all_in_one-'+simulation_type+'-'+attribute+'-'+direction_name+'-ens_avg.csv',index_col=0)\n",
    "group_names = list(set(distributions.group_name))\n",
    "sns.set_context('paper')\n",
    "sns.set_style(\"ticks\")\n",
    "for group_name in group_names:\n",
    "    group = distributions[(distributions.group_name==group_name )& (distributions.phi_c_bulk != 0)]\n",
    "    fig, axes = plt.subplots(nrows=2,ncols=1,figsize=(16,12))\n",
    "    sns.lineplot(x=direction+'_norm'+x_norm_mon, y=dist_name+\"_mon_\"+direction+y_norm, hue='phi_c_bulk', data=group,ax=axes[0],legend='full')\n",
    "    sns.lineplot(x=direction+'_norm'+x_norm_crd, y=dist_name+\"_crd_\"+direction+y_norm, hue='phi_c_bulk', data=group,ax=axes[1],legend='full')\n",
    "    fname = group_name+'-'+dist_name+'-'+direction+\".pdf\"\n",
    "    plt.savefig(fname, dpi=200)\n",
    "    plt.close()"
   ]
  },
  {
   "cell_type": "markdown",
   "metadata": {
    "jp-MarkdownHeadingCollapsed": true,
    "tags": []
   },
   "source": [
    "### The sum rule"
   ]
  },
  {
   "cell_type": "code",
   "execution_count": null,
   "metadata": {
    "tags": []
   },
   "outputs": [],
   "source": [
    "parent = '/Users/amirhsi_mini/analysis/'\n",
    "simulation_type = 'all' # all or bug\n",
    "attribute = 'distributions'\n",
    "direction_name = 'radial'\n",
    "direction = 'r'\n",
    "dist_name = 'phi'\n",
    "y_norm = '_norm'\n",
    "x_norm_mon = ''#'_mon'\n",
    "x_norm_crd = ''#'_crd'\n",
    "distributions = pd.read_csv(parent+'all_in_one-'+simulation_type+'-'+attribute+'-'+direction_name+'-ens_avg.csv',index_col=0)\n",
    "group_names = list(set(distributions.group_name))\n",
    "sns.set_context('paper')\n",
    "sns.set_style(\"ticks\")\n",
    "for group_name in group_names:\n",
    "    group = distributions[distributions.group_name==group_name]\n",
    "    fig, axes = plt.subplots(nrows=2,ncols=1,figsize=(16,12))\n",
    "    sns.lineplot(x=direction+'_norm'+x_norm_mon, y=dist_name+\"_sumrule_\"+direction, hue='phi_c_bulk', data=group,ax=axes[0],legend='full')\n",
    "    sns.lineplot(x=direction+'_norm'+x_norm_crd, y=dist_name+\"_sumrule_\"+direction+'_norm', hue='phi_c_bulk', data=group,ax=axes[1],legend='full')\n",
    "    fname = group_name+'-sum_rule-'+dist_name+'-'+direction+\".pdf\"\n",
    "    plt.savefig(fname,dpi=200)\n",
    "    plt.close()"
   ]
  },
  {
   "cell_type": "code",
   "execution_count": null,
   "metadata": {
    "tags": []
   },
   "outputs": [],
   "source": [
    "#cmap = matplotlib.colors.LinearSegmentedColormap.from_list(\"\", [\"brown\", \"pink\", \"limegreen\"])\n",
    "flar_cmap = mpl.colors.ListedColormap(sns.cm._flare_lut)\n",
    "flare_cmap_cut = truncate_colormap(flar_cmap, 0.5, 1.0, n=15)\n",
    "mpl.cm.register_cmap(\"flare_cmap_cut\", flare_cmap_cut)\n",
    "binary_cmap = plt.get_cmap('binary')\n",
    "binary_cmap_cut = truncate_colormap(binary_cmap, 0, 1, n=15)\n",
    "mpl.cm.register_cmap(\"binary_cmap_cut\", binary_cmap_cut)"
   ]
  },
  {
   "cell_type": "code",
   "execution_count": null,
   "metadata": {
    "tags": []
   },
   "outputs": [],
   "source": [
    "sns.color_palette(\"flare_cmap_cut\", 15)"
   ]
  },
  {
   "cell_type": "code",
   "execution_count": null,
   "metadata": {
    "tags": []
   },
   "outputs": [],
   "source": [
    "sumrule_information = {\n",
    "    'r' :\n",
    "    {'direction_name':'radial',\n",
    "     'xlabel':r'${2r}/{D}$',\n",
    "     'legend_loc':'lower left',\n",
    "     'legend_nloc':1},\n",
    "    'z' : \n",
    "    {'direction_name':'longitudinal',\n",
    "     'xlabel':r'${2z}/{z_{max}}$',\n",
    "     'legend_loc':'lower left',\n",
    "     'legend_nloc':1}\n",
    "}\n",
    "def plot_type_infomation(plot_type, direction):\n",
    "    plot_type_dict = {\n",
    "        'mon':{\n",
    "            'yname':'mon',\n",
    "            'ylabel':r'$\\phi_m('+direction+')}{a_m}$'\n",
    "\n",
    "        },\n",
    "        'crd':{\n",
    "            'yname':'crd',\n",
    "            'ylabel':r'$\\phi_c('+direction+')}{a_c}$'\n",
    "        },\n",
    "        'sumrule':{\n",
    "            'yname':'sumrule',\n",
    "            'ylabel':r'$\\sum\\frac{\\phi_i('+direction+')}{a_i}$'\n",
    "        }\n",
    "    }\n",
    "    return plot_type_dict[plot_type]"
   ]
  },
  {
   "cell_type": "code",
   "execution_count": null,
   "metadata": {
    "tags": []
   },
   "outputs": [],
   "source": [
    "direction = 'z'\n",
    "plot_type = 'sumrule'\n",
    "dist_name = 'phi'\n",
    "x_norm_mon = ''#'_mon'\n",
    "x_norm_crd = ''#'_crd'\n",
    "plot_type_dict = plot_type_infomation(plot_type, direction)\n",
    "#plot_type = '_sumrule_' #'_crd_', '_mon_', 'sumrule'\n",
    "parent = '/Users/amirhsi_mini/analysis/'\n",
    "simulation_type = 'all' # all or bug\n",
    "attribute = 'distributions'\n",
    "direction_name = 'longitudinal'\n",
    "y_norm = '_norm'\n",
    "distributions = pd.read_csv(parent+'all_in_one-'+simulation_type+'-'+attribute+'-'+direction_name+'-ens_avg.csv',index_col=0)\n",
    "distributions = distributions.round({\"phi_c_bulk\":3})\n",
    "group_names = list(set(distributions.group_name))\n",
    "compression_rates = {}\n",
    "for group_name in group_names:\n",
    "    group_attributes = PipeLine.cellAttributes(group_name,'cylindrical',cell_type='group',warning=False)\n",
    "    compression_rates[group_name]  = round(group_attributes.dcrowd/(group_attributes.dcyl-group_attributes.dcrowd),2)\n",
    "compression_rates = dict(sorted(compression_rates.items(), key=lambda item: item[1]))\n",
    "compression_rate_colors = sns.color_palette(\"binary_cmap_cut\", len(group_names))#,as_cmap=True)\n",
    "\n",
    "phi_c = list(set(distributions.phi_c_bulk))\n",
    "phi_c = [0.1, 0.15, 0.2, 0.225, 0.25, 0.275, 0.3, 0.325, 0.35, 0.375, 0.4]\n",
    "#phi_c_colors = sns.color_palette(\"PuRd\", len(phi_c))#,as_cmap=True)\n",
    "phi_c_colors = sns.color_palette(\"flare_cmap_cut\", len(phi_c))#,as_cmap=True)\n",
    "sns.set_context('paper')\n",
    "sns.set_style(\"white\")\n",
    "if plot_type == 'sumrule':\n",
    "    fig, axes = plt.subplots(nrows=4,ncols=3,figsize=(16,12),sharey=True)\n",
    "else:\n",
    "    fig, axes = plt.subplots(nrows=4,ncols=3,figsize=(16,12), sharey=True)#'row')\n",
    "fontsize = 16\n",
    "for idx, (group_name, ax) in enumerate(zip(compression_rates.keys(),axes.flat)):\n",
    "    group_attributes =PipeLine.cellAttributes(group_name,'cylindrical',cell_type='group',warning=False)\n",
    "    group = distributions[(distributions.group_name==group_name) & (distributions.phi_c_bulk!=0.0)]\n",
    "    group_sumrule_rhd = distributions[(distributions.group_name==group_name) & (distributions.phi_c_bulk==0.0)]\n",
    "    #ax.set_facecolor('gainsboro')\n",
    "    ax.set_facecolor(compression_rate_colors[idx])\n",
    "    #if  plot_type== 'sumrule':\n",
    "    ax.plot(group_sumrule_rhd[direction+'_norm'+x_norm_crd], group_sumrule_rhd[dist_name+\"_\"+direction+'_uniform_sum_norm'],c='blue',ls='-')\n",
    "    ax.grid(True,ls=':',lw=0.75,c='green')\n",
    "    ax.tick_params(axis ='both',direction='inout',width=1,labelsize=fontsize-2,color='black')\n",
    "    if plot_type != 'sumrule':\n",
    "        if direction == 'r':\n",
    "            #if idx > 5:\n",
    "             #   PipeLine.yticks(ax,(0.0,2.5,0.25,0.05),code=True,fontsize=fontsize-2)\n",
    "            #else : \n",
    "            if plot_type == 'crd':\n",
    "                PipeLine.yticks(ax,(0.0,2.5,0.25,0.05),code=True,fontsize=fontsize-2)\n",
    "            else :\n",
    "                PipeLine.yticks(ax,(0.0,1.2,0.2,0.04),code=True,fontsize=fontsize-2)\n",
    "            PipeLine.xticks(ax,(0.0,1,0.2,0.02),code=True,fontsize=fontsize-2)\n",
    "        if direction == 'z':\n",
    "            if plot_type == 'crd':\n",
    "                pass\n",
    "                #yticks(ax,(0.6,1.0,0.1,0.02),code=True,fontsize=fontsize-2)\n",
    "            else:\n",
    "                PipeLine.yticks(ax,(0.0,1.0,0.2,0.04),code=True,fontsize=fontsize-2)\n",
    "            PipeLine.xticks(ax,(-1.0,1,0.2,0.04),code=True,fontsize=fontsize-2)\n",
    "    ax.set_title(r\"$({}):D={},a_c={},\\kappa={}$\".format(idx+1, group_attributes.dcyl,group_attributes.dcrowd,compression_rates[group_name]),fontsize=fontsize+2)\n",
    "   \n",
    "    ax = sns.lineplot(x=direction+'_norm'+x_norm_crd, y=dist_name+'_'+plot_type_dict['yname']+'_'+direction+'_norm', hue='phi_c_bulk', data=group,ax=ax,palette=phi_c_colors,legend=False)\n",
    "    ax.set_ylabel(plot_type_dict['ylabel'],fontsize=fontsize+1)\n",
    "    ax.set_xlabel(sumrule_information[direction]['xlabel'],fontsize=fontsize)\n",
    "    \n",
    "    \n",
    "phi_c_patches = PipeLine.color_patcher(phi_c_colors)\n",
    "phi_c_legend = Legend(axes[1,2],handles=phi_c_patches,labels= phi_c,title=r'$\\phi_c^{(bulk)}$ (line color)',ncol=sumrule_information[direction]['legend_nloc'],\n",
    "                      title_fontsize=fontsize-2,fontsize=fontsize-4,framealpha=None,frameon=True,loc=sumrule_information[direction]['legend_loc'],bbox_to_anchor=(1.05,-0.02),edgecolor='black')\n",
    "axes[1,2].add_artist(phi_c_legend)\n",
    "compression_rates_patches = PipeLine.color_patcher(compression_rate_colors)\n",
    "compression_rate_legend = Legend(axes[3,2],handles=compression_rates_patches,labels= compression_rates.values(),title=r'$\\kappa$ (background color)',ncol=sumrule_information[direction]['legend_nloc'], title_fontsize=fontsize-2,fontsize=fontsize-4,framealpha=None,frameon=True,loc=sumrule_information[direction]['legend_loc'],bbox_to_anchor=(1.05,-0.02),edgecolor='black')\n",
    "axes[3,2].add_artist(compression_rate_legend)\n",
    "\n",
    "if  plot_type== 'sumrule':\n",
    "    sumrule_rhs_patches = mlines.Line2D([], [], color='blue', lw=2, ls='-', label=r'$\\sum\\frac{\\phi_i}{a_i}=1$')\n",
    "    axes[2,2].legend(handles=[sumrule_rhs_patches],fontsize=fontsize,frameon=True,bbox_to_anchor=(1.5,0.92),edgecolor='black')\n",
    "\n",
    "fname = dist_name+'-'+plot_type+'-'+direction+\".pdf\"\n",
    "fig.tight_layout()\n",
    "plt.savefig(fname,dpi=200,bbox_inches='tight')\n",
    "plt.close()"
   ]
  },
  {
   "cell_type": "markdown",
   "metadata": {
    "tags": []
   },
   "source": [
    "### End-to-end distribution"
   ]
  },
  {
   "cell_type": "code",
   "execution_count": null,
   "metadata": {
    "tags": []
   },
   "outputs": [],
   "source": [
    "#direction_name = 'radial'\n",
    "parent = '/Users/amirhsi_mini/analysis/'\n",
    "simulation_type = 'bug' # all or bug\n",
    "attribute = 'rFloryHists'\n",
    "direction = 'r'\n",
    "y_norm = '_norm'\n",
    "distributions = pd.read_csv(parent+'all_in_one-'+simulation_type+'-'+attribute+'-ens_avg.csv',index_col=0)\n",
    "group_names = list(set(distributions.group_name))\n",
    "sns.set_context('paper')\n",
    "sns.set_style(\"ticks\")"
   ]
  },
  {
   "cell_type": "code",
   "execution_count": null,
   "metadata": {
    "tags": []
   },
   "outputs": [],
   "source": [
    "for group_name in group_names:\n",
    "    group = distributions[(distributions.group_name==group_name )& (distributions.phi_c_bulk != 0)]\n",
    "    fig, axes = plt.subplots(nrows=2,ncols=1,figsize=(16,12))\n",
    "    sns.lineplot(x=direction+'_norm'+x_norm_mon, y=dist_name+\"_mon_\"+direction+y_norm, hue='phi_c_bulk', data=group,ax=axes[0],legend='full')\n",
    "    sns.lineplot(x=direction+'_norm'+x_norm_crd, y=dist_name+\"_crd_\"+direction+y_norm, hue='phi_c_bulk', data=group,ax=axes[1],legend='full')\n",
    "    fname = group_name+'-'+dist_name+'-'+direction+\".pdf\"\n",
    "    plt.savefig(fname,dpi=200)\n",
    "    plt.close()"
   ]
  }
 ],
 "metadata": {
  "colab": {
   "name": "pipeline_v4.ipynb",
   "provenance": [],
   "version": "0.3.2"
  },
  "kernelspec": {
   "display_name": "Python 3 (ipykernel)",
   "language": "python",
   "name": "python3"
  },
  "language_info": {
   "codemirror_mode": {
    "name": "ipython",
    "version": 3
   },
   "file_extension": ".py",
   "mimetype": "text/x-python",
   "name": "python",
   "nbconvert_exporter": "python",
   "pygments_lexer": "ipython3",
   "version": "3.9.13"
  }
 },
 "nbformat": 4,
 "nbformat_minor": 4
}
