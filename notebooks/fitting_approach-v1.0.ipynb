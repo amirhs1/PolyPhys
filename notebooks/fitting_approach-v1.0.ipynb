{
 "cells": [
  {
   "cell_type": "code",
   "execution_count": null,
   "id": "ea4d08e0-3d08-435a-b3e1-e2530e7678e6",
   "metadata": {},
   "outputs": [],
   "source": [
    "# Importing necessary packages:\n",
    "#import re\n",
    "#import os\n",
    "from glob import glob\n",
    "#import math\n",
    "import numpy as np\n",
    "import pandas as pd\n",
    "\n",
    "\n",
    "import matplotlib.pyplot as plt\n",
    "import matplotlib.colors as colors\n",
    "import matplotlib as mpl\n",
    "from matplotlib import rcParams, cycler\n",
    "import matplotlib.lines as lines\n",
    "from collections import OrderedDict\n",
    "from matplotlib.legend import Legend\n",
    "import matplotlib.patches as mpatches\n",
    "import matplotlib.lines as mlines\n",
    "from matplotlib.collections import PolyCollection # for chaing confidence interval color in statsmodels.graphics.tsaplots.plot_acf\n",
    "\n",
    "import seaborn as sns\n",
    "\n",
    "import statsmodels.tsa.stattools as tsas\n",
    "import statsmodels.graphics.tsaplots as tsap\n",
    "\n",
    "from polyphys.visualize import plotter\n",
    "from polyphys.visualize import tuner\n",
    "from polyphys.manage.parser import SumRule, TransFoci\n",
    "from polyphys.manage import organizer\n",
    "\n",
    "from polyphys.analyze import correlations \n",
    "from scipy import optimize\n",
    "\n",
    "import inspect"
   ]
  },
  {
   "cell_type": "markdown",
   "id": "f91c191d-8ecf-4022-ae1a-110cd4b57b09",
   "metadata": {},
   "source": [
    "# Finding Equilibirum porperties of Mon species: whole-level"
   ]
  },
  {
   "cell_type": "code",
   "execution_count": null,
   "id": "86f02462-58b7-4b4f-b19e-57a837ed6099",
   "metadata": {},
   "outputs": [],
   "source": [
    "%%time\n",
    "# Wall time: 1h 2min 23s for ns400nl5al5D20ac1\n",
    "# loading databases:\n",
    "database = '/Users/amirhsi_mini/research_data/analysis/'\n",
    "#project_name = 'SumRule'\n",
    "#spaces_to_read = [\"N2000D30.0ac4.0\",\"N2000D30.0ac6.0\"]\n",
    "#parser=SumRule\n",
    "#properties = ['asphericityTMon', 'fsdTMon', 'gyrTMon', 'rfloryTMon', 'shapeTMon']\n",
    "\n",
    "project_name = 'TransFoci'\n",
    "spaces_to_read = [\"ns400nl5al5D20ac1\"]\n",
    "#parser=TransFoci\n",
    "properties = ['asphericityTMon', 'fsdTMon', 'gyrTMon', 'shapeTMon']\n",
    "\n",
    "phase= \"ens\"\n",
    "group = \"bug\"\n",
    "species = \"Mon\"\n",
    "\n",
    "chainsize = []\n",
    "\n",
    "\n",
    "\n",
    "for space in spaces_to_read:\n",
    "    space_db = database + \"-\".join([space, group, phase]) + \"/*.csv\" # path to ensembles\n",
    "    ensembles = glob(space_db)\n",
    "    # unique physical properties and their associated measures\n",
    "    properties = set(\n",
    "        [ens.split(\"/\")[-1].split(group+\"-\")[-1].split(\".csv\")[0] \\\n",
    "         for ens in ensembles]\n",
    "    )\n",
    "    # uniques acfs of properties\n",
    "    properties = [prop.split(\"-\")[0] for prop in properties \\\n",
    "                  if prop.endswith(\"acf\")]\n",
    "    if project_name == 'TransFoci':\n",
    "        properties.remove(\"rfloryTMon\")\n",
    "    properties = list(properties)\n",
    "    properties.sort()\n",
    "    for property_ in properties:\n",
    "        print(property_)\n",
    "        ensembles = glob(space_db)\n",
    "        ensembles = organizer.sort_filenames(ensembles, fmts=[property_ + '.csv'])\n",
    "        fit_df = correlations.fit_exp_wholes(\n",
    "            space,\n",
    "            space_db,\n",
    "            property_,\n",
    "            correlations.mono_exp_res,\n",
    "            TransFoci,\n",
    "            'biaxial',\n",
    "            group,\n",
    "            1,\n",
    "            2,\n",
    "            10,\n",
    "            2000,\n",
    "            x_property = 'index',\n",
    "            save_to= \"./\",\n",
    "            maxfev=20000\n",
    "        )"
   ]
  },
  {
   "cell_type": "markdown",
   "id": "fab307d5-f813-470d-abdf-f8da822c8781",
   "metadata": {},
   "source": [
    "### allInOne fits per space"
   ]
  },
  {
   "cell_type": "code",
   "execution_count": null,
   "id": "61ec5e50-4749-4bd5-a7ac-7bdfbce4bb32",
   "metadata": {},
   "outputs": [],
   "source": [
    "# loading databases:\n",
    "database = '../Datasets'\n",
    "#project_name = 'SumRule'\n",
    "#spaces_to_read = [\"N2000D30.0ac4.0\",\"N2000D30.0ac6.0\"]\n",
    "#parser=SumRule\n",
    "#parser=TransFoci\n",
    "project_name = 'TransFoci'\n",
    "spaces_to_read = [\"ns400nl5al5D20ac1\"]\n",
    "group = \"bug\"\n",
    "species = \"Mon\"\n",
    "\n",
    "fit_db = \"/\".join([database, project_name, \"fittings\"])\n",
    "fits = glob(fit_db + \"/fitReport*\")\n",
    "fits_df = []\n",
    "for fit_db in fits:\n",
    "    fit_df = pd.read_csv(fit_db)\n",
    "    fit_property = fit_db.split(\"-\")[-1].split(\".\")[0]\n",
    "    fit_df.rename(\n",
    "        columns={'convergence': fit_property+'-convergence'}, inplace=True\n",
    "    )\n",
    "    fits_df.append(fit_df)"
   ]
  },
  {
   "cell_type": "markdown",
   "id": "a8fbf61f-5615-4634-976b-b294b063fb0c",
   "metadata": {},
   "source": [
    "#### Merging space fit-report of different properties"
   ]
  },
  {
   "cell_type": "code",
   "execution_count": null,
   "id": "7e90aa23-d88c-4c11-864c-44f551d4f1c4",
   "metadata": {},
   "outputs": [],
   "source": [
    "fits_df = pd.concat(fits_df, join='inner', axis=1)\n",
    "fits_df = fits_df.loc[:,~fits_df.columns.duplicated()]\n",
    "new_cols = {col: \"\".join(col.split(\"TMon\")) if \"TMon\" in col else col for col in fits_df.columns}\n",
    "fits_df.rename(\n",
    "        columns=new_cols, inplace=True\n",
    "    )\n",
    "fits_df.replace([np.inf, -np.inf], np.nan, inplace=True)"
   ]
  },
  {
   "cell_type": "markdown",
   "id": "64aef029-8cb4-496b-b00b-6299a99a5dc8",
   "metadata": {},
   "source": [
    "#### Adding **phi_c_round** to the data set"
   ]
  },
  {
   "cell_type": "code",
   "execution_count": null,
   "id": "54e8f56e-a5f6-4aa7-b35d-a01cd357896a",
   "metadata": {},
   "outputs": [],
   "source": [
    "round_to = 0.025\n",
    "phi_crds = fits_df.loc[:,'phi_c_bulk'].drop_duplicates().sort_values().values\n",
    "phi_crds = np.round(np.round(phi_crds/round_to) * round_to, 3)\n",
    "phi_crds = np.unique(phi_crds)\n",
    "phi_crds.sort()\n",
    "print(phi_crds)\n",
    "print(\"Number of unique phi_c_bulk:\", len(phi_crds))\n",
    "rounding_func = lambda x, round_to: np.round(np.rint((x / round_to)) * round_to, 3)\n",
    "fits_df['phi_c_bulk_round'] = fits_df['phi_c_bulk'].apply(\n",
    "    rounding_func, args=[round_to]\n",
    ")"
   ]
  },
  {
   "cell_type": "code",
   "execution_count": null,
   "id": "e77ebd26-0372-4f41-a93b-93b96e4aaa8c",
   "metadata": {},
   "outputs": [],
   "source": [
    "space_attributes = ['space', 'ensemble_long', 'ensemble',\n",
    "       'nmon', 'dcyl', 'dcrowd',\n",
    "       'phi_c_bulk', 'phi_c_bulk_round']"
   ]
  },
  {
   "cell_type": "markdown",
   "id": "0b15e19a-35cf-4102-b314-1a150f78f619",
   "metadata": {},
   "source": [
    "#### Normalizing different properties based on the physical limitation on them:"
   ]
  },
  {
   "cell_type": "code",
   "execution_count": null,
   "id": "e1b4f59d-3a5c-43e3-9ed9-7d61ede74c04",
   "metadata": {},
   "outputs": [],
   "source": [
    "cols_normlized = [col for col in fits_df.columns if col.endswith(\"mean\") or col.endswith(\"residue\")]\n",
    "cols_max_by_phic_Zero = {}\n",
    "round_to = 10\n",
    "# finding the maximum of each property for phi_c_=0; the value of a property\n",
    "# when phi_c=0 is the largest possible value of that property.\n",
    "for property_ in cols_normlized:\n",
    "    print(property_)\n",
    "    norm_cond = fits_df['phi_c_bulk_round']==0\n",
    "    normalizing_value = fits_df.loc[norm_cond, property_].max()\n",
    "    cols_max_by_phic_Zero[property_] = np.ceil(normalizing_value/round_to) * round_to\n",
    "    print(np.ceil(normalizing_value/round_to) * round_to)"
   ]
  },
  {
   "cell_type": "code",
   "execution_count": null,
   "id": "8d13dcd0-2ac0-44aa-a5fd-9953ab89aaeb",
   "metadata": {},
   "outputs": [],
   "source": [
    "# The lower limit of different properties\n",
    "cols_residues = [col for col in fits_df.columns if col.endswith(\"residue\")]\n",
    "for property_ in cols_residues:\n",
    "    if property_ == 'shape-residue':\n",
    "        fits_df.loc[fits_df[property_] < -1/4, property_] = 0\n",
    "    else:\n",
    "        fits_df.loc[fits_df[property_] < 0, property_] = 0\n",
    "\n",
    "fits_df.loc[fits_df['asphericity-residue'] > 1, \"asphericity-residue\"] = 0\n",
    "fits_df.loc[fits_df['shape-residue'] > 2, \"shape-residue\"] = 0"
   ]
  },
  {
   "cell_type": "code",
   "execution_count": null,
   "id": "80570a4a-ef83-45f1-a9e2-9bab556a5351",
   "metadata": {},
   "outputs": [],
   "source": [
    "# The uppoer limit of different properties\n",
    "for property_ in cols_residues:\n",
    "    if property_ != 'shape-residue' or property_ != 'asphericity-residue':\n",
    "        fits_df.loc[fits_df[property_] > cols_max_by_phic_Zero[property_], property_] = cols_max_by_phic_Zero[property_]"
   ]
  },
  {
   "cell_type": "markdown",
   "id": "e48fe31b-bb5d-46be-9c12-839bfa6a91b6",
   "metadata": {},
   "source": [
    "#### Visualized comparison between fitting approach and ordinary averaging:"
   ]
  },
  {
   "cell_type": "code",
   "execution_count": null,
   "id": "086db384-8360-4a26-80b3-3d651f201525",
   "metadata": {},
   "outputs": [],
   "source": [
    "sns.lineplot(\n",
    "    x='phi_c_bulk_round',\n",
    "    y='gyr-mean',\n",
    "    data=fits_df\n",
    ")"
   ]
  },
  {
   "cell_type": "code",
   "execution_count": null,
   "id": "c5d2a6a2-84d2-4144-b8cc-786996501b51",
   "metadata": {},
   "outputs": [],
   "source": [
    "sns.lineplot(\n",
    "    x='phi_c_bulk_round',\n",
    "    y='fsd-residue',\n",
    "    data=fits_df  \n",
    ")"
   ]
  },
  {
   "cell_type": "markdown",
   "id": "68203408-b8b9-4c29-afd8-2acd2833b407",
   "metadata": {},
   "source": [
    "# Finding Equilibirum porperties of Mon species: Space-level (or ensAvg level)"
   ]
  },
  {
   "cell_type": "code",
   "execution_count": null,
   "id": "17dfa6b0-40f5-42f1-a676-7586ecce26de",
   "metadata": {},
   "outputs": [],
   "source": [
    "space = spaces[1]\n",
    "hue_attr = 'phi_c_bulk_round'\n",
    "properties_mon = [ property_ for property_ in properties_specs if \"Mon\" in property_]\n",
    "properties_mon_equil = [\"\".join(property_.split(\"T\")) for property_ in properties_mon]\n",
    "fitting_cols = properties_mon + [\"time\", \"space\", hue_attr]\n",
    "fit_func = correlations.mono_exp_res\n",
    "fit_params = inspect.getfullargspec(fit_func).args[1:]\n",
    "hue_unique_values = phi_crds.copy()\n",
    "s_info = parser(\n",
    "        space, \n",
    "        geometry='biaxial',\n",
    "        group=group,\n",
    "        lineage='space',\n",
    "        ispath=False\n",
    "    )\n",
    "space_title =  fr\" $N={s_info.nmon}, D={s_info.dcyl}, a_c={s_info.dcrowd}$\"\n",
    "#space_title =  f\" $n_s={s_info.nmon_small}, n_l={s_info.nmon_large}, a_l={s_info.dmon_large}, D={s_info.dcyl}, a_c={s_info.dcrowd}$\"\n",
    "chainsize_space = chainsize.loc[chainsize['space']==space]"
   ]
  },
  {
   "cell_type": "code",
   "execution_count": null,
   "id": "156dc069-baaa-4ad5-87ed-3b3ba03f380f",
   "metadata": {},
   "outputs": [],
   "source": [
    "#space_attributes = ['space', 'ensemble_long', 'ensemble',\n",
    "#       'nmon_small', 'nmon_large', 'dmon_large', 'dcyl', 'dcrowd',\n",
    "#       'phi_c_bulk', 'phi_c_bulk_round']\n",
    "\n",
    "space_attributes = ['space', 'ensemble_long', 'ensemble',\n",
    "       'nmon', 'dcyl', 'dcrowd',\n",
    "       'phi_c_bulk', 'phi_c_bulk_round']"
   ]
  },
  {
   "cell_type": "markdown",
   "id": "80fa35d1-b265-438a-8f66-57e461f32fb3",
   "metadata": {
    "tags": []
   },
   "source": [
    "#### Fitting to ensembles in a space"
   ]
  },
  {
   "cell_type": "markdown",
   "id": "6aeff8c4-e160-42a1-bd3f-c35d458c0e2b",
   "metadata": {
    "tags": []
   },
   "source": [
    "##### report on the foolwing fit:\n",
    "1. p0=[3,3,np.max(y),residue_guess] # This works for SumRule: N2000D30.0ac4.0 but the residue value of phic=0.350 is negative\n",
    "2. p0=[2,2,np.max(y),np.min(y)] # This works for TransFoci: ns400nl5al5.0D20.0ac1.0\n",
    "3. p0=[3,3,np.max(y),residue_guess] # This works for SumRule: N2000D30.0ac6.0 but the residue value of phic=0.350 is negative\n",
    "    1. phic=0.25: could not fit "
   ]
  },
  {
   "cell_type": "code",
   "execution_count": null,
   "id": "6800ddf6-e8cc-45c7-b9f5-0199206c803f",
   "metadata": {},
   "outputs": [],
   "source": [
    "chainsize_quilibrium = chainsize_space[space_attributes].drop_duplicates()\n",
    "chainsize_quilibrium.reset_index(inplace=True, drop=True)\n",
    "chainsize_quilibrium[\"fitting_func\"] = fit_func.__name__\n",
    "\n",
    "chainsize_mon_properties = chainsize_space.loc[:,fitting_cols]\n",
    "for property_ in properties_mon:\n",
    "    chainsize_mon_properties[property_ + '-fit'] = 0\n",
    "    for param in fit_params:\n",
    "        param_name = \"\".join(property_.split(\"T\"))+ \"-\" + param\n",
    "        chainsize_quilibrium[param_name] = 0\n",
    "        chainsize_quilibrium[param_name + \"-StdError\"] = 0\n",
    "    print(property_)\n",
    "    for hue_unique in hue_unique_values:\n",
    "        print(hue_unique)\n",
    "        attr_cond = chainsize_mon_properties[hue_attr] == hue_unique\n",
    "        attr_cond_equil = chainsize_quilibrium[hue_attr] == hue_unique\n",
    "        x = chainsize_mon_properties.loc[attr_cond, 'time'].to_numpy()\n",
    "        y = chainsize_mon_properties.loc[attr_cond, property_].to_numpy()\n",
    "        residue_guess = np.mean(y[-2000:])\n",
    "        try:\n",
    "            param_values, cov_mat = optimize.curve_fit(\n",
    "            fit_func,\n",
    "            x,\n",
    "            y,\n",
    "            p0=[3,3,np.max(y),residue_guess], # This works for SumRule: N2000D30.0ac4.0\n",
    "            #p0=[2,2,np.max(y),np.min(y)] # This works for TransFoci: ns400nl5al5.0D20.0ac1.0\n",
    "            maxfev=25000\n",
    "            #bounds=((0,0.5,np.min(y),np.min(y)),(2,2,np.max(y),np.max(y)))\n",
    "            )\n",
    "            params_stds = np.sqrt(np.diag(cov_mat))\n",
    "       \n",
    "        except RuntimeError:\n",
    "            print(\"could not fit \")\n",
    "            param_values = np.zeros(4)\n",
    "            params_stds = np.zeros(4)\n",
    "            continue\n",
    "        y_fit =  fit_func(x, *param_values)\n",
    "        chainsize_mon_properties.loc[attr_cond, property_ + '-fit'] = y_fit\n",
    "        # This part is fitting-function specific:\n",
    "        for param, value, std_error in zip(fit_params, param_values, params_stds):\n",
    "            param_name = \"\".join(property_.split(\"T\"))+ \"-\" + param\n",
    "            chainsize_quilibrium.loc[attr_cond_equil, param_name] = value\n",
    "            chainsize_quilibrium.loc[attr_cond_equil, param_name + \"-StdError\"] = std_error"
   ]
  },
  {
   "cell_type": "code",
   "execution_count": null,
   "id": "ba4e9daa-c247-40ac-9570-43939aeee32f",
   "metadata": {},
   "outputs": [],
   "source": [
    "save_to = \"./\"\n",
    "ext = \"csv\"\n",
    "output = \"-\".join([\"tseries\", \"fittingData\", project_name, space])\n",
    "chainsize_mon_properties.to_parquet(save_to + output + \".parquet.brotli\", compression=\"brotli\", index=False)"
   ]
  },
  {
   "cell_type": "markdown",
   "id": "d1d3ac2b-2a40-4c39-b484-e958565cd162",
   "metadata": {
    "tags": []
   },
   "source": [
    "#### Plotting data and fitting model"
   ]
  },
  {
   "cell_type": "code",
   "execution_count": null,
   "id": "34b667e8-cc13-436c-a1fa-53eb36e9bb3e",
   "metadata": {},
   "outputs": [],
   "source": [
    "legend_labels = {\n",
    "    'gyrTMon': [r\"$R_g(\\hat{t})$\", r\"$R_g^{(fit)}(\\hat{t})$\"],\n",
    "    'fsdTMon': [r\"$L(\\hat{t})$\", r\"$L^{(fit)}(\\hat{t})$\"],\n",
    "    'asphericityTMon': [r\"$\\Delta(\\hat{t})$\", r\"$\\Delta^{(fit)}(\\hat{t})$\"],\n",
    "    'shapeTMon': [r\"$S(\\hat{t})$\", r\"$S^{(fit)}(\\hat{t})$\"],\n",
    "    'rfloryTMon': [r\"$R_F(\\hat{t})$\", r\"$R_F^{(fit)}(\\hat{t})$\"]\n",
    "}\n",
    "properties_mon_equil_labels = {\n",
    "    'gyrMon': {\n",
    "        \"symbol\": r\"$\\bar{R}_g$\",\n",
    "        \"norm\": r\"$\\frac{\\bar{R}_g}{\\bar{R}_{g,0}}$\",\n",
    "        \"title\": r\"$\\bar{R}_g(\\phi_c^{(bulk)})$\"\n",
    "    },\n",
    "    'fsdMon': {\n",
    "        \"symbol\": r\"$\\bar{L}$\",\n",
    "        \"norm\": r\"$\\frac{\\bar{L}}{\\bar{L}_0}$\",\n",
    "        \"title\": r\"$\\bar{L}(\\phi_c^{(bulk)})$\"\n",
    "    },\n",
    "    'asphericityMon': {\n",
    "        \"symbol\": r\"$\\bar{\\Delta}$\",\n",
    "        \"norm\": r\"$\\frac{\\bar{\\Delta}}{\\bar{\\Delta}_0}$\",\n",
    "        \"title\": r\"$\\bar{\\Delta}(\\phi_c^{(bulk)})$\"\n",
    "    },\n",
    "    'shapeMon': {\n",
    "        \"symbol\": r\"$\\bar{S}$\",\n",
    "        \"norm\": r\"$\\frac{\\bar{S}}{\\bar{S}_0}$\",\n",
    "        \"title\": r\"$\\bar{S}(\\phi_c^{(bulk)})$\"\n",
    "    },\n",
    "    'rfloryMon': {\n",
    "        \"symbol\": r\"$\\bar{R}_F$\",\n",
    "        \"norm\": r\"$\\frac{\\bar{R}_F}{\\bar{R}_{F,0}}$\",\n",
    "        \"title\": r\"$\\bar{R}_F(\\phi_c^{(bulk)})$\"\n",
    "    }\n",
    "}"
   ]
  },
  {
   "cell_type": "code",
   "execution_count": null,
   "id": "87c784b4-1442-4c9b-99d3-a16b886cca64",
   "metadata": {},
   "outputs": [],
   "source": [
    "col_attr = 'phi_c_bulk_round'\n",
    "fontsize=26\n",
    "ext = 'pdf'\n",
    "for property_ in properties_mon:\n",
    "    property_equil_name = \"\".join(property_.split(\"T\"))\n",
    "    chainsize_space_melted = chainsize_mon_properties[['time', 'phi_c_bulk_round',property_, property_+\"-fit\"]].melt(id_vars=['time','phi_c_bulk_round'],value_vars=[property_, property_+\"-fit\"])\n",
    "    sns.set_context(\n",
    "            font_scale=3,\n",
    "            rc={\n",
    "                'font.family': \"Times New Roman\",\n",
    "                'mathtext.default': 'regular',\n",
    "                \"text.usetex\": True,\n",
    "                \"font.size\": fontsize\n",
    "            }\n",
    "        )\n",
    "    tseries_fit_fgrid = sns.FacetGrid(\n",
    "        chainsize_space_melted,\n",
    "        col=\"phi_c_bulk_round\",\n",
    "        col_wrap=3,\n",
    "        height=6,\n",
    "        aspect=16/9,\n",
    "        legend_out=False\n",
    "    )\n",
    "    tseries_fit_fgrid.map_dataframe(\n",
    "        sns.lineplot,\n",
    "        x=\"time\",\n",
    "        y=\"value\",\n",
    "        hue='variable',\n",
    "        size='variable',\n",
    "        size_order=[property_+\"-fit\", property_],\n",
    "        ci=None,\n",
    "        estimator=None)\n",
    "    new_labels = legend_labels[property_]\n",
    "    for ax, hue_unique in zip(tseries_fit_fgrid.axes.flat,hue_unique_values):\n",
    "        long_time_value = np.round(\n",
    "            chainsize_quilibrium.loc[chainsize_quilibrium[hue_attr]==hue_unique,property_equil_name+\"-residue\"].values[0],\n",
    "            2\n",
    "        )\n",
    "        #label_value = mean_labels[property_].format(long_time_value)\n",
    "        ax.axhline(\n",
    "            long_time_value,\n",
    "            xmin=0.02,\n",
    "            xmax=0.98,\n",
    "            color=\"black\",\n",
    "            lw=2,\n",
    "            alpha=0.7,\n",
    "            label= properties_mon_equil_labels[property_equil_name]['symbol'],\n",
    "            linestyle=\"-.\")\n",
    "\n",
    "        handles, labels = ax.get_legend_handles_labels()\n",
    "        new_labels.append(labels[-1])\n",
    "        ax.legend(handles = handles, labels=new_labels, frameon=False, ncol=3)\n",
    "        new_labels = legend_labels[property_]\n",
    "\n",
    "    tseries_fit_fgrid.set_axis_labels(\n",
    "        titles['time'], properties_specs[property_]['symbol'])\n",
    "    tseries_fit_fgrid.set_titles(\n",
    "        titles[col_attr]+r\"$={col_name}$\")\n",
    "    tseries_fit_fgrid.tight_layout(w_pad=1)\n",
    "    output = \"-\".join([\"tseries-fit\", project_name, property_, space]) + \".\" + ext\n",
    "    tseries_fit_fgrid.savefig(save_to + output, bbox_inches='tight')\n",
    "    plt.close()"
   ]
  },
  {
   "cell_type": "markdown",
   "id": "f7d1aac9-827d-4888-bf80-38630a672ac1",
   "metadata": {
    "tags": []
   },
   "source": [
    "#### Extimate equilibrium properties from fitting model"
   ]
  },
  {
   "cell_type": "code",
   "execution_count": null,
   "id": "a9968c27-87a1-4822-98f8-bc8462ad97d2",
   "metadata": {},
   "outputs": [],
   "source": [
    "for property_ in properties_mon_equil:\n",
    "    chainsize_quilibrium[property_ + \"-norm\"] = chainsize_quilibrium[property_+ \"-residue\"] / chainsize_quilibrium.loc[chainsize_quilibrium[hue_attr]==0, property_+ \"-residue\"].values[0]"
   ]
  },
  {
   "cell_type": "code",
   "execution_count": null,
   "id": "e1f4b649-a84c-4bff-8934-807cce449b86",
   "metadata": {},
   "outputs": [],
   "source": [
    "output = \"-\".join([\"tseries\", \"equilibriumValues\", project_name, space])\n",
    "chainsize_quilibrium.to_csv(save_to + output + \".csv\", index=False)"
   ]
  },
  {
   "cell_type": "code",
   "execution_count": null,
   "id": "27ac0c35-db9f-4f08-980e-ed09929e7c4d",
   "metadata": {},
   "outputs": [],
   "source": [
    "chainsize_quilibrium"
   ]
  },
  {
   "cell_type": "markdown",
   "id": "d0252dcb-f19e-48dc-beb9-f030b7535187",
   "metadata": {
    "tags": []
   },
   "source": [
    "#### Equilibrium plots all in one"
   ]
  },
  {
   "cell_type": "code",
   "execution_count": null,
   "id": "192f5127-91fe-47bd-97ec-5caf068acdae",
   "metadata": {},
   "outputs": [],
   "source": [
    "properties_mon_equil_norm = [property_ + \"-norm\" for property_ in properties_mon_equil]\n",
    "selected_cols = space_attributes + properties_mon_equil_norm\n",
    "chainsize_quilibrium_melted = chainsize_quilibrium[selected_cols].melt(id_vars=space_attributes,value_vars=properties_mon_equil_norm)"
   ]
  },
  {
   "cell_type": "code",
   "execution_count": null,
   "id": "1d03dadf-8991-4018-b05c-4b1b690d1eff",
   "metadata": {},
   "outputs": [],
   "source": [
    "fontsize=16\n",
    "s_info = parser(\n",
    "        space, \n",
    "        geometry='biaxial',\n",
    "        group=group,\n",
    "        lineage='space',\n",
    "        ispath=False\n",
    "    )\n",
    "space_title =  fr\" $N={s_info.nmon}, D={s_info.dcyl}, a_c={s_info.dcrowd}$\"\n",
    "#space_title =  f\" $n_s={s_info.nmon_small}, n_l={s_info.nmon_large}, a_l={s_info.dmon_large}, D={s_info.dcyl}, a_c={s_info.dcrowd}$\"\n",
    "sns.set_context(\n",
    "            font_scale=2,\n",
    "            rc={\n",
    "                'font.family': \"Times New Roman\",\n",
    "                'mathtext.default': 'regular',\n",
    "                \"text.usetex\": True,\n",
    "                \"font.size\": fontsize\n",
    "            }\n",
    "        )\n",
    "tseries_fit_fgrid = sns.relplot(\n",
    "    x=hue_attr,\n",
    "    y='value',\n",
    "    col='variable',\n",
    "    color='steelblue',\n",
    "    kind='line',\n",
    "    marker=\"s\",\n",
    "    markersize=7,\n",
    "    ls=\":\",\n",
    "    data=chainsize_quilibrium_melted,\n",
    "    col_wrap=2,\n",
    "    facet_kws = {'sharey': False, 'sharex': False}\n",
    ")\n",
    "for ax, property_ in zip(tseries_fit_fgrid.axes.flat,properties_mon_equil):\n",
    "        ax.set_ylabel(\n",
    "            properties_mon_equil_labels[property_][\"norm\"],\n",
    "            rotation=0,\n",
    "            labelpad=20\n",
    "        )\n",
    "        ax.set_title(None)\n",
    "tseries_fit_fgrid.set_xlabels(titles[col_attr])\n",
    "tseries_fit_fgrid.tight_layout(w_pad=0)\n",
    "tseries_fit_fgrid.fig.suptitle(space_title, y=1.05)\n",
    "output = \"-\".join([\"equilPlot-allInOne\", project_name, space]) + \".\" + ext\n",
    "tseries_fit_fgrid.savefig(save_to + output, bbox_inches='tight')\n",
    "plt.close()"
   ]
  },
  {
   "cell_type": "markdown",
   "id": "bd923879-09d5-4d84-9b7f-dc6003ddff5e",
   "metadata": {
    "tags": []
   },
   "source": [
    "#### Single equilibrium plots "
   ]
  },
  {
   "cell_type": "code",
   "execution_count": null,
   "id": "3d2ffbfa-20fc-41d2-9a6a-274fed048d15",
   "metadata": {},
   "outputs": [],
   "source": [
    "fontsize=16\n",
    "ext='pdf'\n",
    "save_to = './'\n",
    "property_ = 'gyrMon'\n",
    "s_info = parser(\n",
    "        space, \n",
    "        geometry='biaxial',\n",
    "        group=group,\n",
    "        lineage='space',\n",
    "        ispath=False\n",
    "    )\n",
    "space_title =  fr\" $N={s_info.nmon}, D={s_info.dcyl}, a_c={s_info.dcrowd}$\"\n",
    "#space_title =  f\" $n_s={s_info.nmon_small}, n_l={s_info.nmon_large}, a_l={s_info.dmon_large}, D={s_info.dcyl}, a_c={s_info.dcrowd}$\"\n",
    "for property_ in properties_mon_equil:\n",
    "    fig, ax = plt.subplots(nrows=1, ncols=1, figsize=(8,4.5))\n",
    "    sns.set_context(\n",
    "            font_scale=2,\n",
    "            rc={\n",
    "                'font.family': \"Times New Roman\",\n",
    "                'mathtext.default': 'regular',\n",
    "                \"text.usetex\": True,\n",
    "                \"font.size\": fontsize\n",
    "            }\n",
    "        )\n",
    "    line_ax = sns.lineplot(\n",
    "        x=hue_attr,\n",
    "        y=property_ + \"-norm\",\n",
    "        marker=\"o\",\n",
    "        ls=\":\",\n",
    "        data=chainsize_quilibrium,\n",
    "        ax=ax,\n",
    "    )\n",
    "    ax.set_ylabel(\n",
    "        properties_mon_equil_labels[property_]['norm'],\n",
    "        rotation=0,\n",
    "        labelpad=20\n",
    "    )\n",
    "    ax.set_xlabel(titles[hue_attr])\n",
    "    ax.set_title(space_title)\n",
    "    output = \"-\".join([\"equilPlot\", project_name, space,property_,hue_attr]) + \".\" + ext\n",
    "    fig.savefig(save_to + output, bbox_inches='tight')\n",
    "    plt.close()"
   ]
  }
 ],
 "metadata": {
  "kernelspec": {
   "display_name": "Python 3.9 (XPython)",
   "language": "python",
   "name": "xpython"
  },
  "language_info": {
   "file_extension": ".py",
   "mimetype": "text/x-python",
   "name": "python",
   "version": "3.9.13"
  }
 },
 "nbformat": 4,
 "nbformat_minor": 5
}
