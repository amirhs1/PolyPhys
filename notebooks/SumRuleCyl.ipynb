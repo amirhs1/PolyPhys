{
 "cells": [
  {
   "cell_type": "code",
   "execution_count": 1,
   "id": "00af6c59-5365-45fd-9f65-9f08e77baab8",
   "metadata": {
    "execution": {
     "iopub.execute_input": "2023-02-03T21:04:19.240647Z",
     "iopub.status.busy": "2023-02-03T21:04:19.239755Z",
     "iopub.status.idle": "2023-02-03T21:04:20.585311Z",
     "shell.execute_reply": "2023-02-03T21:04:20.584518Z",
     "shell.execute_reply.started": "2023-02-03T21:04:19.240523Z"
    },
    "tags": []
   },
   "outputs": [],
   "source": [
    "import pandas as pd\n",
    "from glob import glob\n",
    "import numpy as np"
   ]
  },
  {
   "cell_type": "code",
   "execution_count": 2,
   "id": "2db7891f-dc30-4e71-a835-e77453715e0a",
   "metadata": {
    "execution": {
     "iopub.execute_input": "2023-02-03T21:04:21.219036Z",
     "iopub.status.busy": "2023-02-03T21:04:21.217414Z",
     "iopub.status.idle": "2023-02-03T21:04:21.322034Z",
     "shell.execute_reply": "2023-02-03T21:04:21.320425Z",
     "shell.execute_reply.started": "2023-02-03T21:04:21.218980Z"
    },
    "tags": []
   },
   "outputs": [
    {
     "name": "stdout",
     "output_type": "stream",
     "text": [
      "['../../Datasets/SumRuleCyl-allInOne/allInOne-SumRuleCyl-bug-equilProps-whole.csv']\n",
      "Index(['lineage_name', 'whole', 'ensemble_long', 'ensemble', 'space', 'nmon',\n",
      "       'epsilon', 'dcyl', 'lcyl', 'dcrowd', 'ncrowd', 'dt', 'bdump', 'adump',\n",
      "       'ensemble_id', 'dmon', 'mmon', 'eps_others', 'mcrowd', 'dwall',\n",
      "       'phi_m_bulk', 'rho_m_bulk', 'phi_c_bulk', 'rho_c_bulk', 'n_frames',\n",
      "       'asphericityMon-mean', 'asphericityMon-var', 'asphericityMon-sem',\n",
      "       'fsdMon-mean', 'fsdMon-var', 'fsdMon-sem', 'gyrMon-mean', 'gyrMon-var',\n",
      "       'gyrMon-sem', 'rfloryMon-mean', 'rfloryMon-var', 'rfloryMon-sem',\n",
      "       'shapeMon-mean', 'shapeMon-var', 'shapeMon-sem', 'transSizeMon-mean',\n",
      "       'transSizeMon-var', 'transSizeMon-sem', 'n_segments',\n",
      "       'phi_c_bulk_round'],\n",
      "      dtype='object')\n"
     ]
    }
   ],
   "source": [
    "sumrule_db = '../../Datasets/SumRuleCyl-allInOne/*equilProps-whole.csv'\n",
    "sumrule_db = glob(sumrule_db)\n",
    "print(sumrule_db)\n",
    "equil = pd.read_csv(sumrule_db[0])\n",
    "print(equil.columns)"
   ]
  },
  {
   "cell_type": "code",
   "execution_count": 39,
   "id": "6e7a0caf-54ed-4ffd-aae2-5c3f15ef5cc7",
   "metadata": {
    "execution": {
     "iopub.execute_input": "2023-02-03T21:13:59.150178Z",
     "iopub.status.busy": "2023-02-03T21:13:59.149356Z",
     "iopub.status.idle": "2023-02-03T21:13:59.209705Z",
     "shell.execute_reply": "2023-02-03T21:13:59.206229Z",
     "shell.execute_reply.started": "2023-02-03T21:13:59.150133Z"
    },
    "tags": []
   },
   "outputs": [],
   "source": [
    "cols = ['nmon','dcyl','dcrowd','lcyl','phi_c_bulk_round']\n",
    "mean_round = lambda x: np.round(np.mean(x),3)\n",
    "table_1 = equil.groupby(cols)[cols+['fsdMon-mean']].agg({'fsdMon-mean': mean_round})\n",
    "table_1.reset_index(inplace=True)\n",
    "table_1['lcyl/fsdMon'] = np.round(table_1['lcyl'] / table_1['fsdMon-mean'],3)\n",
    "sort_cols = cols + ['lcyl/fsdMon']\n",
    "table_1.sort_values(by=sort_cols,inplace=True)\n",
    "table_1.to_csv('table_1.csv',index=False)"
   ]
  },
  {
   "cell_type": "code",
   "execution_count": 40,
   "id": "95b2c234-025a-4ab2-ae48-16ddcc323222",
   "metadata": {
    "execution": {
     "iopub.execute_input": "2023-02-03T21:14:01.162689Z",
     "iopub.status.busy": "2023-02-03T21:14:01.161331Z",
     "iopub.status.idle": "2023-02-03T21:14:01.219937Z",
     "shell.execute_reply": "2023-02-03T21:14:01.209689Z",
     "shell.execute_reply.started": "2023-02-03T21:14:01.162624Z"
    },
    "tags": []
   },
   "outputs": [],
   "source": [
    "cols = ['nmon','dcyl','dcrowd']\n",
    "mean_round = lambda x: np.round(np.mean(x),3)\n",
    "table_2 = equil.groupby(cols)[['phi_c_bulk_round']].count()\n",
    "table_2.reset_index(inplace=True)\n",
    "#table_2['lcyl/fsdMon'] = np.round(table_1['lcyl'] / table_1['fsdMon-mean'],3)\n",
    "#sort_cols = cols + ['lcyl/fsdMon']\n",
    "table_2.sort_values(by=cols,inplace=True)\n",
    "table_2.to_csv('table_2.csv',index=False)"
   ]
  },
  {
   "cell_type": "code",
   "execution_count": null,
   "id": "0331e433-8f62-4459-b584-a6d6c599d9f2",
   "metadata": {},
   "outputs": [],
   "source": []
  }
 ],
 "metadata": {
  "kernelspec": {
   "display_name": "Python 3 (ipykernel)",
   "language": "python",
   "name": "python3"
  },
  "language_info": {
   "codemirror_mode": {
    "name": "ipython",
    "version": 3
   },
   "file_extension": ".py",
   "mimetype": "text/x-python",
   "name": "python",
   "nbconvert_exporter": "python",
   "pygments_lexer": "ipython3",
   "version": "3.9.15"
  }
 },
 "nbformat": 4,
 "nbformat_minor": 5
}
