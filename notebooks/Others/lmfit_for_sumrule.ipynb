{
 "cells": [
  {
   "cell_type": "code",
   "execution_count": 1,
   "id": "470c4da9-dc3f-4971-8599-8d2a3ff2ca87",
   "metadata": {},
   "outputs": [],
   "source": [
    "import numpy as np\n",
    "import pandas as pd\n",
    "from scipy import signal\n",
    "import lmfit as lmfit\n",
    "\n",
    "import matplotlib.pyplot as plt\n",
    "import seaborn as sns\n",
    "\n",
    "from glob import glob"
   ]
  },
  {
   "cell_type": "code",
   "execution_count": 2,
   "id": "33400c35-0b08-4b63-85e6-04c829fe8aa2",
   "metadata": {},
   "outputs": [
    {
     "name": "stdout",
     "output_type": "stream",
     "text": [
      "['./N1000epsilon5.0r8.0lz308.5sig1.0nc20824dt0.005bdump1000adump5000-all-rPhiCrd.csv', './N1000epsilon5.0r8.0lz308.5sig1.0nc20824dt0.005bdump1000adump5000-all-rPhiMon.csv', './N1000epsilon5.0r8.0lz308.5sig1.0nc20824dt0.005bdump1000adump5000-all-zPhiCrd.csv', './N1000epsilon5.0r8.0lz308.5sig1.0nc20824dt0.005bdump1000adump5000-all-zPhiMon.csv']\n"
     ]
    }
   ],
   "source": [
    "csvs = glob(\"./*.csv\")\n",
    "csvs.sort()\n",
    "print(csvs)\n"
   ]
  },
  {
   "cell_type": "markdown",
   "id": "2960d6df-41d8-4f3b-886e-9cc4f7cf2157",
   "metadata": {
    "tags": []
   },
   "source": [
    "### output file for test python.stepfinder and matlapb.autostepfinder"
   ]
  },
  {
   "cell_type": "code",
   "execution_count": null,
   "id": "db0b4080-4dad-48c7-bcec-18c444a3616b",
   "metadata": {
    "jupyter": {
     "source_hidden": true
    },
    "tags": []
   },
   "outputs": [],
   "source": [
    "phi = pd.read_csv(csvs[3], header=0)\n",
    "phi_moved = phi.iloc[:,[8,2]]\n",
    "bin_range = np.ptp(phi_moved.bin_center)\n",
    "print(bin_range)\n",
    "phi_moved.loc[:, 'bin_center_moved'] = phi_moved.loc[:,'bin_center'] + 0.5* bin_range\n",
    "np.savetxt('./ens2.txt',phi_moved.iloc[:,[2,1]].values)"
   ]
  },
  {
   "cell_type": "code",
   "execution_count": null,
   "id": "73d4375e-43d3-41f6-b1e1-ec2a0cd3e632",
   "metadata": {},
   "outputs": [],
   "source": [
    "phi_moved"
   ]
  },
  {
   "cell_type": "markdown",
   "id": "f7fdecdd-2907-40e0-9120-1b4d64100bbd",
   "metadata": {},
   "source": [
    "### lmfit"
   ]
  },
  {
   "cell_type": "markdown",
   "id": "04b7e77a-89b2-4458-873c-df8fc304ee54",
   "metadata": {
    "jp-MarkdownHeadingCollapsed": true,
    "tags": []
   },
   "source": [
    "#### amir squre well model"
   ]
  },
  {
   "cell_type": "code",
   "execution_count": null,
   "id": "78ea33b6-abb1-4ecb-8173-474c1e54bdb3",
   "metadata": {},
   "outputs": [],
   "source": [
    "#def left_step_function(x, xleft, yleft):\n",
    "#    return np.where(x <= xleft, 0, yleft)\n",
    "#def right_step_function(x, xright, yright):\n",
    "#    return np.where(x <= xright, yright, 0)\n",
    "def square_well(x, xleft, xright, ymin, ymax):\n",
    "    return np.where((x <= xleft) | (x >= xright), ymin, ymax)"
   ]
  },
  {
   "cell_type": "code",
   "execution_count": null,
   "id": "d723890b-6ec0-4621-9b89-b178b269c8ec",
   "metadata": {},
   "outputs": [],
   "source": [
    "x_data = phi.iloc[:,8].to_numpy()\n",
    "y_data = phi.iloc[:,7].to_numpy()\n",
    "square_well_model = lmfit.Model(square_well)\n",
    "params = square_well_model.make_params()\n",
    "square_well_model.set_param_hint(\n",
    "    'xleft',\n",
    "    value=x_data.min()/2,\n",
    ")\n",
    "square_well_model.set_param_hint(\n",
    "    'xright',\n",
    "    value=x_data.max()/2,\n",
    ")\n",
    "square_well_model.set_param_hint(\n",
    "    'ymin',\n",
    "    value=y_data.min(),\n",
    ")\n",
    "square_well_model.set_param_hint(\n",
    "    'ymax',\n",
    "    value=y_data.max(),\n",
    ")\n",
    "result = square_well_model.fit(y_data, x=x_data)\n",
    "print(result.fit_report())"
   ]
  },
  {
   "cell_type": "code",
   "execution_count": null,
   "id": "3cebcf31-f297-458b-b9e5-dce12eba6033",
   "metadata": {},
   "outputs": [],
   "source": [
    "plt.plot(x_data, y_data)\n",
    "plt.plot(x_data, square_well(x_data,**result.params), 'r')\n",
    "plt.plot(x_data, np.heaviside(x_data,0), 'g')\n",
    "plt.show()"
   ]
  },
  {
   "cell_type": "markdown",
   "id": "c5847180-22e1-4b03-ae0d-97a395cc8237",
   "metadata": {
    "jp-MarkdownHeadingCollapsed": true,
    "tags": []
   },
   "source": [
    "#### scipy.signal.square"
   ]
  },
  {
   "cell_type": "code",
   "execution_count": null,
   "id": "e197a642-3a0f-4055-9e60-5dc5c45e1f65",
   "metadata": {},
   "outputs": [],
   "source": [
    "x_data = phi.iloc[:,8].to_numpy()\n",
    "y_data = phi.iloc[:,7].to_numpy()\n",
    "def step_function(x, ymin, ymax, width, x_range, reverse):\n",
    "    y = 0.5 * (ymax-ymin) * (reverse * signal.square(2 * np.pi * x / x_range + width * np.pi, duty=width) +1) + ymin \n",
    "    return y"
   ]
  },
  {
   "cell_type": "code",
   "execution_count": null,
   "id": "1f1085c6-dca1-492c-b25c-0fda7838b13c",
   "metadata": {},
   "outputs": [],
   "source": [
    "step_model = lmfit.Model(step_function)\n",
    "params = step_model.make_params()\n",
    "step_model.set_param_hint(\n",
    "    'ymax',\n",
    "    value=y_data.max(),\n",
    ")\n",
    "step_model.set_param_hint(\n",
    "    'ymin',\n",
    "    value=y_data.min(),\n",
    ")\n",
    "step_model.set_param_hint(\n",
    "    'width',\n",
    "    value=0.5,\n",
    "    min=0.1,\n",
    "    max=0.9,\n",
    ")\n",
    "step_model.set_param_hint(\n",
    "    'x_range',\n",
    "    value=np.ptp(x_data),\n",
    "    vary=False\n",
    ")\n",
    "step_model.set_param_hint(\n",
    "    'reverse',\n",
    "    value=-1.0,\n",
    "    vary=False\n",
    ")"
   ]
  },
  {
   "cell_type": "code",
   "execution_count": null,
   "id": "faf75ac8-9506-4cc7-a711-ccd7c7c908c4",
   "metadata": {},
   "outputs": [],
   "source": [
    "\n",
    "#y_data = fit.model(x=xdata, **fit_result.params).y\n",
    "#x_range = np.ptp(x_data)\n",
    "#params = lmfit.Parameters()\n",
    "#params.add_many(('ymax', y_data.max()), ('ymin', y_data.min()), ('duty', 0.2))"
   ]
  },
  {
   "cell_type": "code",
   "execution_count": null,
   "id": "5577d758-f922-4684-ad69-797c019d0f93",
   "metadata": {},
   "outputs": [],
   "source": [
    "#reverse = 1.0\n",
    "#mi = lmfit.minimize(step_function, params, args=(x_data, x_range, reverse), kws={'y':y_data})"
   ]
  },
  {
   "cell_type": "code",
   "execution_count": null,
   "id": "c340ad8e-257c-42aa-a9d2-db691bf7bc8d",
   "metadata": {},
   "outputs": [],
   "source": [
    "result = step_model.fit(y_data, x=x_data, width=0.22, reverse=-1.0)"
   ]
  },
  {
   "cell_type": "code",
   "execution_count": null,
   "id": "111f9473-c77a-4658-b92a-d4b2a38b2be9",
   "metadata": {},
   "outputs": [],
   "source": [
    "print(result.fit_report())"
   ]
  },
  {
   "cell_type": "code",
   "execution_count": null,
   "id": "91cf225f-3884-49bb-8199-28431b562b1b",
   "metadata": {},
   "outputs": [],
   "source": [
    "plt.plot(x_data, y_data)\n",
    "plt.plot(x_data, step_function(x_data,**result.params), 'r')\n",
    "plt.show()"
   ]
  },
  {
   "cell_type": "markdown",
   "id": "fe6179fe-c972-45fe-bee4-d593e2ad5fb4",
   "metadata": {},
   "source": [
    "#### lmfit.RectangleModel"
   ]
  },
  {
   "cell_type": "code",
   "execution_count": 3,
   "id": "fc2fe28a-180c-4210-8996-b8fb8cafdfa9",
   "metadata": {},
   "outputs": [],
   "source": [
    "def normalize_z_mon(\n",
    "    x,\n",
    "    y,\n",
    "    half_width\n",
    "):\n",
    "    rect_model = lmfit.models.RectangleModel()\n",
    "    params = rect_model.make_params()\n",
    "    params = rect_model.guess(y_data, x=x_data, center1=-10, center2=10)\n",
    "    #params['c'].vary = False # force offset = 1.0 : value away from \"dip\"\n",
    "    params['sigma2'].expr = 'sigma1'# force left and right widths to be the same size\n",
    "    out = rect_model.fit(y_data, params, x=x_data)"
   ]
  },
  {
   "cell_type": "markdown",
   "id": "3d83798b-f6a1-4878-96b6-229dda24de3c",
   "metadata": {},
   "source": [
    "##### Mon"
   ]
  },
  {
   "cell_type": "code",
   "execution_count": 4,
   "id": "0e0a1d2a-a342-4dd4-98cb-9e23e9cb15e5",
   "metadata": {},
   "outputs": [
    {
     "data": {
      "text/plain": [
       "[<matplotlib.lines.Line2D at 0x178c5bdf0>]"
      ]
     },
     "execution_count": 4,
     "metadata": {},
     "output_type": "execute_result"
    },
    {
     "data": {
      "image/png": "[encoded data removed]",
      "text/plain": [
       "<Figure size 432x288 with 1 Axes>"
      ]
     },
     "metadata": {
      "needs_background": "light"
     },
     "output_type": "display_data"
    }
   ],
   "source": [
    "phi = pd.read_csv(csvs[3], header=0)\n",
    "x_data = phi.iloc[:,8].to_numpy()\n",
    "y_data = phi.iloc[:,5].to_numpy()\n",
    "plt.plot(x_data, y_data)"
   ]
  },
  {
   "cell_type": "code",
   "execution_count": 5,
   "id": "f541dfc3-0693-457d-9082-60f654488ef6",
   "metadata": {},
   "outputs": [],
   "source": [
    "rect_model = lmfit.models.RectangleModel()\n",
    "params = rect_model.make_params()\n",
    "params = rect_model.guess(y_data, x=x_data)#, center1=-20, center2=20)\n",
    "#params['c'].vary = False # force offset = 1.0 : value away from \"dip\"\n",
    "params['sigma2'].expr = 'sigma1'# force left and right widths to be the same size\n",
    "out = rect_model.fit(y_data, params, x=x_data)"
   ]
  },
  {
   "cell_type": "code",
   "execution_count": 6,
   "id": "1944b5f5-f964-4a18-8d5e-b558dcbe02ef",
   "metadata": {},
   "outputs": [
    {
     "name": "stdout",
     "output_type": "stream",
     "text": [
      "[[Model]]\n",
      "    Model(rectangle, form='linear')\n",
      "[[Fit Statistics]]\n",
      "    # fitting method   = leastsq\n",
      "    # function evals   = 75\n",
      "    # data points      = 1234\n",
      "    # variables        = 4\n",
      "    chi-square         = 12379.5513\n",
      "    reduced chi-square = 10.0646759\n",
      "    Akaike info crit   = 2853.33881\n",
      "    Bayesian info crit = 2873.81088\n",
      "[[Variables]]\n",
      "    amplitude:  1481.74960 +/- 6.63226025 (0.45%) (init = 245.2333)\n",
      "    center1:   -102.344864 +/- 0.07989869 (0.08%) (init = 0)\n",
      "    sigma1:     177.782111 +/- 0.07522228 (0.04%) (init = 88.07143)\n",
      "    center2:   -74.4184371 +/- 0.08365213 (0.11%) (init = 0)\n",
      "    sigma2:     177.782111 +/- 0.07522228 (0.04%) == 'sigma1'\n",
      "    midpoint:  -88.3816505 +/- 0.05204099 (0.06%) == '(center1+center2)/2.0'\n",
      "[[Correlations]] (unreported correlations are < 0.100)\n",
      "    C(amplitude, center2) = -0.792\n",
      "    C(amplitude, center1) = 0.727\n",
      "    C(sigma1, center2)    = -0.498\n",
      "    C(center1, sigma1)    = -0.421\n",
      "    C(center1, center2)   = -0.191\n",
      "    C(amplitude, sigma1)  = 0.107\n"
     ]
    }
   ],
   "source": [
    "print(out.fit_report())"
   ]
  },
  {
   "cell_type": "code",
   "execution_count": 7,
   "id": "fc20f78a-55fe-4881-9d3f-a9e6fb0c5deb",
   "metadata": {},
   "outputs": [
    {
     "data": {
      "image/png": "[encoded data removed]",
      "text/plain": [
       "<Figure size 432x288 with 1 Axes>"
      ]
     },
     "metadata": {
      "needs_background": "light"
     },
     "output_type": "display_data"
    }
   ],
   "source": [
    "plt.plot(x_data, y_data)\n",
    "plt.plot(x_data, out.best_fit, 'r')\n",
    "plt.show()"
   ]
  },
  {
   "cell_type": "markdown",
   "id": "69262a33-f510-407c-b1db-acb20e936db5",
   "metadata": {},
   "source": [
    "##### Crd"
   ]
  },
  {
   "cell_type": "code",
   "execution_count": 42,
   "id": "385e65d2-b30c-4440-a88e-9b1865d5e2fe",
   "metadata": {},
   "outputs": [
    {
     "data": {
      "text/plain": [
       "[<matplotlib.lines.Line2D at 0x17843fc40>]"
      ]
     },
     "execution_count": 42,
     "metadata": {},
     "output_type": "execute_result"
    },
    {
     "data": {
      "image/png": "[encoded data removed]",
      "text/plain": [
       "<Figure size 432x288 with 1 Axes>"
      ]
     },
     "metadata": {
      "needs_background": "light"
     },
     "output_type": "display_data"
    }
   ],
   "source": [
    "phi = pd.read_csv(csvs[2], header=0)\n",
    "x_data = phi.iloc[:,8].to_numpy()\n",
    "y_data = phi.iloc[:,7].to_numpy()\n",
    "y_trans = -1*phi.iloc[:,7].to_numpy()# + np.max(y_data)\n",
    "#plt.plot(x_data, -1*y_data)\n",
    "plt.plot(x_data, y_trans)"
   ]
  },
  {
   "cell_type": "code",
   "execution_count": 43,
   "id": "c99dcf65-5f00-41cd-9735-ca852c489875",
   "metadata": {},
   "outputs": [],
   "source": [
    "rect_model = lmfit.models.RectangleModel(prefix='rect_')\n",
    "cons_model = lmfit.models.ConstantModel(prefix='cons_')\n",
    "params = cons_model.make_params(c=y_trans.min())\n",
    "params = cons_model.guess(y_trans, x=x_data)\n",
    "params += rect_model.guess(y_trans, x=x_data)\n",
    "params['rect_sigma2'].expr = 'rect_sigma1'# force left and right widths to be the same size\n",
    "model = rect_model + cons_model\n",
    "out = model.fit(y_trans, params, x=x_data)"
   ]
  },
  {
   "cell_type": "code",
   "execution_count": 44,
   "id": "70d48fe7-0aa4-49a9-ba87-4921852803a8",
   "metadata": {},
   "outputs": [
    {
     "name": "stdout",
     "output_type": "stream",
     "text": [
      "[[Model]]\n",
      "    (Model(rectangle, prefix='rect_', form='linear') + Model(constant, prefix='cons_'))\n",
      "[[Fit Statistics]]\n",
      "    # fitting method   = leastsq\n",
      "    # function evals   = 98\n",
      "    # data points      = 1234\n",
      "    # variables        = 5\n",
      "    chi-square         = 7222.20751\n",
      "    reduced chi-square = 5.87649105\n",
      "    Akaike info crit   = 2190.35427\n",
      "    Bayesian info crit = 2215.94435\n",
      "[[Variables]]\n",
      "    cons_c:         -1429.21819 +/- 0.08261473 (0.01%) (init = -1400.001)\n",
      "    rect_amplitude:  735.384785 +/- 5.63400896 (0.77%) (init = 125.8815)\n",
      "    rect_center1:   -93.5249393 +/- 0.12214341 (0.13%) (init = 0)\n",
      "    rect_sigma1:     161.992220 +/- 0.11404817 (0.07%) (init = 88.07143)\n",
      "    rect_center2:   -69.0108828 +/- 0.12479440 (0.18%) (init = 0)\n",
      "    rect_sigma2:     161.992220 +/- 0.11404817 (0.07%) == 'rect_sigma1'\n",
      "    rect_midpoint:  -81.2679111 +/- 0.07849512 (0.10%) == '(rect_center1+rect_center2)/2.0'\n",
      "[[Correlations]] (unreported correlations are < 0.100)\n",
      "    C(rect_amplitude, rect_center2) = -0.789\n",
      "    C(rect_amplitude, rect_center1) = 0.723\n",
      "    C(rect_sigma1, rect_center2)    = -0.482\n",
      "    C(rect_center1, rect_sigma1)    = -0.441\n",
      "    C(rect_center1, rect_center2)   = -0.192\n",
      "    C(cons_c, rect_sigma1)          = -0.160\n",
      "    C(cons_c, rect_center1)         = 0.149\n"
     ]
    }
   ],
   "source": [
    "print(out.fit_report())"
   ]
  },
  {
   "cell_type": "code",
   "execution_count": 45,
   "id": "0d5018be-5344-416c-bbc9-235f29e967a5",
   "metadata": {},
   "outputs": [
    {
     "data": {
      "image/png": "[encoded data removed]",
      "text/plain": [
       "<Figure size 432x288 with 1 Axes>"
      ]
     },
     "metadata": {
      "needs_background": "light"
     },
     "output_type": "display_data"
    }
   ],
   "source": [
    "plt.plot(x_data, y_trans)\n",
    "plt.plot(x_data, out.best_fit, 'r')\n",
    "plt.show()"
   ]
  },
  {
   "cell_type": "code",
   "execution_count": 46,
   "id": "e8d09059-cd9d-4f8e-9105-93908cabc71c",
   "metadata": {},
   "outputs": [
    {
     "data": {
      "image/png": "[encoded data removed]",
      "text/plain": [
       "<Figure size 432x288 with 1 Axes>"
      ]
     },
     "metadata": {
      "needs_background": "light"
     },
     "output_type": "display_data"
    }
   ],
   "source": [
    "plt.plot(x_data, y_data)\n",
    "plt.plot(x_data, -1*out.best_fit, 'r')\n",
    "plt.show()"
   ]
  },
  {
   "cell_type": "markdown",
   "id": "3cfc21ee-23ca-499c-95e8-6fb41c35fd08",
   "metadata": {
    "jp-MarkdownHeadingCollapsed": true,
    "tags": []
   },
   "source": [
    "### scipy optimize"
   ]
  },
  {
   "cell_type": "code",
   "execution_count": null,
   "id": "49239e25-6dbd-4923-b78a-91f23ab20fc9",
   "metadata": {},
   "outputs": [],
   "source": [
    "from matplotlib import pyplot as plt\n",
    "import numpy as np\n",
    "from numpy.random import normal\n",
    "from scipy.optimize import least_squares\n",
    "\n",
    "def square_wave(x, f, a, h, phi):\n",
    "    return h + a * np.sign(np.cos( 2 * np.pi *f * x + phi ) )\n",
    "\n",
    "def soft_wave( x, f, a, h, phi, s=1 ):\n",
    "    return h + a * np.tanh( s * np.cos( 2 * np.pi *f * x + phi ) )\n",
    "\n",
    "def residuals(params, xdata, ydata, s ):\n",
    "    f, a, h, phi = params\n",
    "    yt = soft_wave( xdata, f, a, h, phi, s=s )\n",
    "    return yt - ydata\n",
    "\n",
    "\n",
    "#tl = np.linspace( -2, 8.3, 67 )\n",
    "soldict = dict()\n",
    "swdict=dict()\n",
    "previous = ( 0.4, 4, 2, 0 )\n",
    "tl = phi.iloc[:,8].to_numpy()\n",
    "sl = square_wave( tl, 0.39, 3.6, 2.1, 0.25 )\n",
    "#sl += normal( size=len(tl), scale=0.2 )\n",
    "#swl = soft_wave( tl, 0.39, 3.6, 2.1, 0.25, s=10 )\n",
    "for mys in range( 2, 26, 4 ):\n",
    "    res = least_squares(residuals, x0=previous, args=( tl, sl, mys ) )\n",
    "    print( res.x )\n",
    "    previous = res.x\n",
    "    soldict[mys] = np.append( res.x, mys )\n",
    "    swdict[mys] = soft_wave( tl, *( soldict[mys] ) )\n",
    "\n",
    "print (np.linalg.inv( np.dot( np.transpose( res.jac ), res.jac ) ) )\n",
    "\n",
    "fig = plt.figure( figsize=(10,6))\n",
    "ax= fig.add_subplot( 1, 1, 1 )\n",
    "ax.plot( tl, sl, ls='', marker='+' )\n",
    "##ax.plot( tl, swl )\n",
    "#for mys in range( 2, 26, 4 ):\n",
    "#    ax.plot( tl,swdict[mys] )\n",
    "plt.show( )"
   ]
  },
  {
   "cell_type": "markdown",
   "id": "a8aacc2f-19cf-4d96-bba8-271afe38a1f3",
   "metadata": {},
   "source": [
    "### simfit"
   ]
  },
  {
   "cell_type": "code",
   "execution_count": null,
   "id": "4d95e639-5d2c-4901-bcf5-a8182382de01",
   "metadata": {},
   "outputs": [],
   "source": [
    "fit.model(x=xdata, **fit_result.params).y"
   ]
  },
  {
   "cell_type": "code",
   "execution_count": null,
   "id": "8354442b-f595-4e8d-a2fb-f9514cf7e108",
   "metadata": {},
   "outputs": [],
   "source": [
    "from symfit import parameters, variables, sin, cos, Fit\n",
    "import numpy as np\n",
    "import matplotlib.pyplot as plt\n",
    "\n",
    "def fourier_series(x, f, n=0):\n",
    "    \"\"\"\n",
    "    Returns a symbolic fourier series of order `n`.\n",
    "\n",
    "    :param n: Order of the fourier series.\n",
    "    :param x: Independent variable\n",
    "    :param f: Frequency of the fourier series\n",
    "    \"\"\"\n",
    "    # Make the parameter objects for all the terms\n",
    "    a0, *cos_a = parameters(','.join(['a{}'.format(i) for i in range(0, n + 1)]))\n",
    "    sin_b = parameters(','.join(['b{}'.format(i) for i in range(1, n + 1)]))\n",
    "    # Construct the series\n",
    "    series = a0 + np.sum(ai * cos(i * f * x) + bi * sin(i * f * x)\n",
    "                     for i, (ai, bi) in enumerate(zip(cos_a, sin_b), start=1))\n",
    "    return series\n",
    "\n",
    "x, y = variables('x, y')\n",
    "w, = parameters('w')\n",
    "model_dict = {y: fourier_series(x, f=w, n=13)}\n",
    "print(model_dict)\n",
    "\n",
    "# Make step function data\n",
    "x_center = phi.iloc[:,8].to_numpy()\n",
    "x_range = np.ptp(x_center)\n",
    "#xdata = np.linspace(-np.pi, np.pi)\n",
    "xdata = np.linspace(-0.5 * x_range, 0.5 * x_range, num=len(x_center)) * 2 * np.pi / x_range + 0.5 * x_range\n",
    "#ydata = 2 + np.zeros_like(xdata)\n",
    "#ydata[xdata > 0] = 12\n",
    "ydata = phi.iloc[:,7].to_numpy()\n",
    "# Define a Fit object for this model and data\n",
    "fit = Fit(model_dict, x=xdata, y=ydata)\n",
    "fit_result = fit.execute()\n",
    "print(fit_result)\n",
    "\n",
    "# Plot the result\n",
    "plt.plot(xdata, ydata)\n",
    "plt.plot(xdata, fit.model(x=xdata, **fit_result.params).y, ls=':')\n",
    "plt.xlabel('x')\n",
    "plt.ylabel('y')\n",
    "plt.show()"
   ]
  },
  {
   "cell_type": "code",
   "execution_count": null,
   "id": "2d8917f0-4765-457f-a097-16b656a14312",
   "metadata": {},
   "outputs": [],
   "source": []
  }
 ],
 "metadata": {
  "kernelspec": {
   "display_name": "Python 3 (ipykernel)",
   "language": "python",
   "name": "python3"
  },
  "language_info": {
   "codemirror_mode": {
    "name": "ipython",
    "version": 3
   },
   "file_extension": ".py",
   "mimetype": "text/x-python",
   "name": "python",
   "nbconvert_exporter": "python",
   "pygments_lexer": "ipython3",
   "version": "3.9.13"
  }
 },
 "nbformat": 4,
 "nbformat_minor": 5
}
