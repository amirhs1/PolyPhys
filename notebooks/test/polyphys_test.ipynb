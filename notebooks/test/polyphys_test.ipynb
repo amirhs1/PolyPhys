{
 "cells": [
  {
   "cell_type": "code",
   "execution_count": 1,
   "metadata": {},
   "outputs": [],
   "source": [
    "import os\n",
    "import re\n",
    "import warnings\n",
    "from typing import TypeVar, IO, Tuple, Dict, List, Union, Optional\n",
    "from abc import ABC, abstractmethod\n",
    "from dataclasses import dataclass\n",
    "from collections import OrderedDict\n",
    "import numpy as np\n",
    "import pandas as pd\n",
    "\n"
   ]
  },
  {
   "cell_type": "code",
   "execution_count": 47,
   "metadata": {},
   "outputs": [
    {
     "name": "stdout",
     "output_type": "stream",
     "text": [
      "True\n",
      "False\n",
      "even mid point\n",
      "3\n",
      "odd mid point\n",
      "2\n",
      "Original DataFrame (even):\n",
      "   bin_center\n",
      "0          -2\n",
      "1          -1\n",
      "2          -1\n",
      "3           1\n",
      "4           2\n",
      "5           3\n",
      "\n",
      "Extracted ens_neg (even):\n",
      "   bin_center\n",
      "0          -2\n",
      "1          -1\n",
      "2          -1\n",
      "\n",
      "Extracted ens_pos (even):\n",
      "   bin_center\n",
      "3           1\n",
      "4           2\n",
      "5           3\n"
     ]
    }
   ],
   "source": [
    "import pandas as pd\n",
    "\n",
    "# Sample DataFrames with an odd and even number of rows\n",
    "data_odd = {'bin_center': [-2, -1, 0, 1, 2]}\n",
    "data_even = {'bin_center': [-2, -1, -1, 1, 2, 3]}\n",
    "\n",
    "ens_avg_even = pd.DataFrame(data_even)\n",
    "ens_avg_odd = pd.DataFrame(data_odd)\n",
    "\n",
    "\n",
    "# Finding the midpoints and extracting ens_pos for each case\n",
    "df_len_even = len(ens_avg_even)\n",
    "df_len_odd = len(ens_avg_odd)\n",
    "#print(df_len_odd)\n",
    "\n",
    "print(df_len_even % 2 == 0)\n",
    "print(df_len_odd % 2 == 0)\n",
    "\n",
    "mid_point_even = df_len_even // 2\n",
    "print(\"even mid point\")\n",
    "print(mid_point_even)\n",
    "mid_point_odd = df_len_odd // 2\n",
    "print(\"odd mid point\")\n",
    "print(mid_point_odd)\n",
    "\n",
    "# - (df_len_even % 2 == 0)\n",
    "ens_neg_even = ens_avg_even.iloc[:mid_point_even].copy()\n",
    "ens_pos_even = ens_avg_even.iloc[mid_point_even+(df_len_even % 2 == 1):].copy()\n",
    "\n",
    "ens_neg_odd = ens_avg_odd.iloc[:mid_point_odd].copy()\n",
    "ens_pos_odd = ens_avg_odd.iloc[mid_point_odd+(df_len_odd % 2 == 1):].copy() \n",
    "\n",
    "print(\"Original DataFrame (even):\")\n",
    "print(ens_avg_even)\n",
    "print(\"\\nExtracted ens_neg (even):\")\n",
    "print(ens_neg_even)\n",
    "print(\"\\nExtracted ens_pos (even):\")\n",
    "print(ens_pos_even)\n"
   ]
  },
  {
   "cell_type": "code",
   "execution_count": 48,
   "metadata": {},
   "outputs": [
    {
     "name": "stdout",
     "output_type": "stream",
     "text": [
      "\n",
      "Original DataFrame (odd):\n",
      "   bin_center\n",
      "0          -2\n",
      "1          -1\n",
      "2           0\n",
      "3           1\n",
      "4           2\n",
      "\n",
      "Extracted ens_neg (odd):\n",
      "   bin_center\n",
      "0          -2\n",
      "1          -1\n",
      "\n",
      "Extracted ens_pos (odd):\n",
      "   bin_center\n",
      "3           1\n",
      "4           2\n"
     ]
    }
   ],
   "source": [
    "\n",
    "print(\"\\nOriginal DataFrame (odd):\")\n",
    "print(ens_avg_odd)\n",
    "print(\"\\nExtracted ens_neg (odd):\")\n",
    "print(ens_neg_odd)\n",
    "print(\"\\nExtracted ens_pos (odd):\")\n",
    "print(ens_pos_odd)"
   ]
  },
  {
   "cell_type": "code",
   "execution_count": 25,
   "metadata": {},
   "outputs": [
    {
     "data": {
      "text/plain": [
       "4"
      ]
     },
     "execution_count": 25,
     "metadata": {},
     "output_type": "execute_result"
    }
   ],
   "source": [
    "9 // 2"
   ]
  },
  {
   "cell_type": "code",
   "execution_count": 11,
   "metadata": {},
   "outputs": [
    {
     "data": {
      "text/plain": [
       "['camel', 'Case']"
      ]
     },
     "execution_count": 11,
     "metadata": {},
     "output_type": "execute_result"
    }
   ],
   "source": [
    "import re\n",
    "\n",
    "re.findall(r'[A-Z]?[a-z]+|[A-Z]+(?=[A-Z]|$)', 'camelCase')"
   ]
  },
  {
   "cell_type": "code",
   "execution_count": 6,
   "metadata": {},
   "outputs": [
    {
     "data": {
      "text/plain": [
       "{'e', 'f'}"
      ]
     },
     "execution_count": 6,
     "metadata": {},
     "output_type": "execute_result"
    }
   ],
   "source": [
    "test = {'a', 'b', 'c', 'd'}\n",
    "test_b = set({'a', 'b', 'c', 'd', 'e', 'f'})\n",
    "test_b.difference(test)"
   ]
  },
  {
   "cell_type": "code",
   "execution_count": 73,
   "metadata": {},
   "outputs": [
    {
     "name": "stdout",
     "output_type": "stream",
     "text": [
      "[-4.55 -3.65 -2.75 -1.85 -0.95 -0.05  0.85  1.75  2.65  3.55  4.45  5.35]\n"
     ]
    },
    {
     "data": {
      "text/plain": [
       "12"
      ]
     },
     "execution_count": 73,
     "metadata": {},
     "output_type": "execute_result"
    }
   ],
   "source": [
    "import numpy as np\n",
    "\n",
    "lmin = -5\n",
    "lmax = 5\n",
    "delta = 0.9\n",
    "bin_edges = np.arange(lmin, lmax + delta, delta)\n",
    "bin_center =  0.5 *(bin_edges[:-1] + bin_edges[1:])\n",
    "print(bin_center)\n",
    "len(bin_center)"
   ]
  },
  {
   "cell_type": "code",
   "execution_count": null,
   "metadata": {},
   "outputs": [],
   "source": []
  }
 ],
 "metadata": {
  "kernelspec": {
   "display_name": "polylab",
   "language": "python",
   "name": "python3"
  },
  "language_info": {
   "codemirror_mode": {
    "name": "ipython",
    "version": 3
   },
   "file_extension": ".py",
   "mimetype": "text/x-python",
   "name": "python",
   "nbconvert_exporter": "python",
   "pygments_lexer": "ipython3",
   "version": "3.12.7"
  }
 },
 "nbformat": 4,
 "nbformat_minor": 2
}
