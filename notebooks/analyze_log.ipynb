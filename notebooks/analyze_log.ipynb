{
 "cells": [
  {
   "cell_type": "markdown",
   "id": "8ab28a03-b14d-41de-8809-3c251fbab077",
   "metadata": {
    "toc-hr-collapsed": true
   },
   "source": [
    "# Visualizing the log data:"
   ]
  },
  {
   "cell_type": "markdown",
   "id": "cdf45670-1e31-4310-a550-ccf3229d15ff",
   "metadata": {},
   "source": [
    "#### Importing packages"
   ]
  },
  {
   "cell_type": "code",
   "execution_count": null,
   "id": "9b0edd34-b9b2-4109-a6f6-01121c5d5dfe",
   "metadata": {},
   "outputs": [],
   "source": [
    "from glob import glob\n",
    "import warnings \n",
    "warnings.filterwarnings(\"ignore\")\n",
    "\n",
    "import pandas as pd\n",
    "import numpy as np\n",
    "import re\n",
    "\n",
    "import matplotlib.pyplot as plt\n",
    "import matplotlib as mpl\n",
    "import seaborn as sns\n",
    "\n",
    "from polyphys.visualize import tuner\n",
    "from polyphys.visualize import plotter\n",
    "from polyphys.manage.parser import SumRuleCyl, TransFociCyl"
   ]
  },
  {
   "cell_type": "markdown",
   "id": "fd8205c5-6afa-47c4-8f16-5932c0e6257b",
   "metadata": {
    "tags": []
   },
   "source": [
    "### Importing datasets"
   ]
  },
  {
   "cell_type": "code",
   "execution_count": null,
   "id": "7feb90b6-4417-4e5e-a300-d89a21cc7119",
   "metadata": {},
   "outputs": [],
   "source": [
    "database = '/Users/amirhsi_mini/OneDrive - University of Waterloo/PhD Research/Jupyter/Datasets/'\n",
    "project = 'TransFociCub'\n",
    "df_path = database + project + \"-allInOne/\"\n",
    "if project == 'HnsCub':\n",
    "    df_path = database + project + \"-ens1_2-allInOne/\"\n",
    "thermo = pd.read_parquet(\n",
    "    df_path + \"allInOne-\" + project + \"-thermo.parquet.brotli\")\n",
    "run_stat = pd.read_csv(df_path + \"allInOne-\" + project + \"-runStat.csv\")\n",
    "wall_time = pd.read_csv(df_path + \"allInOne-\" + project + \"-wallTimeStat.csv\")"
   ]
  },
  {
   "cell_type": "markdown",
   "id": "b22be91f-b8cf-49c9-89aa-f820d24a273e",
   "metadata": {
    "tags": []
   },
   "source": [
    "### Visualizing the run stats: "
   ]
  },
  {
   "cell_type": "code",
   "execution_count": null,
   "id": "5829f3a0-37ab-42cb-8a90-5d58b5aaa072",
   "metadata": {},
   "outputs": [],
   "source": [
    "## This is for SumRUleCyl project:\n",
    "# droping prblematic (broken, restarted, faked) run stats and keep complete\n",
    "# ones:\n",
    "run_stat_comp = run_stat[run_stat.lineage_name.str.contains('ens[1-8]$|j0[12]$')]\n",
    "run_stat_comp.reset_index(inplace=True,drop=True)\n",
    "run_stat_comp\n",
    "# keep data from the production phase in whic the loop_timesteps is equal to\n",
    "# 5000000 ro larger than that:\n",
    "#run_stat_prod = run_stat_comp[run_stat_comp.loop_timesteps >= 5000000]\n",
    "sel_cols = ['Pair_total_pct', 'Bond_total_pct', 'Neigh_total_pct',\n",
    "            'Comm_total_pct', 'Output_total_pct', 'Modify_total_pct',\n",
    "            'Other_total_pct']\n",
    "agg_funcs = {key: np.mean for key in sel_cols}\n",
    "run_stats_per_cor_per_atoms = run_stat_prod.groupby(['n_cores','n_atoms'])[sel_cols].agg(agg_funcs)\n",
    "run_stats_per_cor_per_atoms.reset_index(inplace=True)\n",
    "run_stats_per_cor_per_atoms_per_cat = pd.melt(\n",
    "    run_stats_per_cor_per_atoms,\n",
    "    id_vars=['n_cores','n_atoms'],\n",
    "    value_vars= sel_cols,\n",
    "    var_name='category',\n",
    "    value_name='pct_of_total_time'\n",
    ")"
   ]
  },
  {
   "cell_type": "code",
   "execution_count": null,
   "id": "0222d6e8-9dc6-4ab9-a725-ae08a3e43b0a",
   "metadata": {},
   "outputs": [],
   "source": [
    "sel_cols = ['Pair_total_pct', 'Bond_total_pct', 'Neigh_total_pct',\n",
    "            'Comm_total_pct', 'Output_total_pct', 'Modify_total_pct',\n",
    "            'Other_total_pct']\n",
    "agg_funcs = {key: np.mean for key in sel_cols}\n",
    "run_stats_per_cor_per_atoms = run_stat.groupby(['n_cores','n_atoms'])[sel_cols].agg(agg_funcs)\n",
    "run_stats_per_cor_per_atoms.reset_index(inplace=True)\n",
    "run_stats_per_cor_per_atoms_per_cat = pd.melt(\n",
    "    run_stats_per_cor_per_atoms,\n",
    "    id_vars=['n_cores','n_atoms'],\n",
    "    value_vars= sel_cols,\n",
    "    var_name='category',\n",
    "    value_name='pct_of_total_time'\n",
    ")"
   ]
  },
  {
   "cell_type": "code",
   "execution_count": null,
   "id": "e23b39f3-dcd6-46d4-b721-4fd10ca9b7fe",
   "metadata": {},
   "outputs": [],
   "source": [
    "fontsize = 14\n",
    "save_to = \"./\"\n",
    "ext = 'pdf'\n",
    "new_labels = ['Category', 'Pair', 'Bond', 'Neigh', 'Comm', 'Output', 'Modify', 'Other', '# of cores', '1', '4', '8', '16']\n",
    "fig, ax = plt.subplots(nrows=1, ncols=1, figsize=(8,4.5))\n",
    "sns.set_context(\n",
    "    font_scale=3,\n",
    "    rc={\n",
    "        'font.family': \"Times New Roman\",\n",
    "        'mathtext.default': 'regular',\n",
    "        \"text.usetex\": True,\n",
    "        \"font.size\": fontsize\n",
    "    }\n",
    ")\n",
    "ax_sns = sns.lineplot(\n",
    "    x='n_atoms',\n",
    "    y='pct_of_total_time',\n",
    "    hue='category',\n",
    "    style='n_cores',\n",
    "    legend='full',\n",
    "    markers=True,\n",
    "    data=run_stats_per_cor_per_atoms_per_cat,\n",
    "    ax=ax\n",
    ")\n",
    "ax_sns.set_xlabel(r\"# of particles\")\n",
    "ax_sns.set_ylabel(r\"% of the total time\")\n",
    "ax_sns.set(xscale='log')\n",
    "#handles, labels = ax_sns.get_legend_handles_labels()\n",
    "#ax_sns.legend(handles = handles, labels=new_labels, frameon=False)\n",
    "sns.move_legend(ax, \"upper left\", bbox_to_anchor=(1, 1))\n",
    "output = \"-\".join([\"runStat\", project]) + \".\" + ext\n",
    "fig.savefig(save_to + output, bbox_inches='tight')"
   ]
  },
  {
   "cell_type": "code",
   "execution_count": null,
   "id": "48c7207a-f6da-4312-b154-38aabb0ee07b",
   "metadata": {},
   "outputs": [],
   "source": [
    "sel_cols = [ 'n_cores', 'n_atoms','timestep_sec','dangerous_builds']\n",
    "agg_funcs = {}\n",
    "agg_funcs['timestep_sec'] = np.mean\n",
    "agg_funcs['dangerous_builds'] = np.sum"
   ]
  },
  {
   "cell_type": "code",
   "execution_count": null,
   "id": "3a68f9bd-84ac-4f1b-85bb-0f365b0e3aa1",
   "metadata": {},
   "outputs": [],
   "source": [
    "step_per_sec_stats = run_stat.groupby(['n_cores','n_atoms'])[sel_cols].agg(agg_funcs)\n",
    "step_per_sec_stats.reset_index(inplace=True)"
   ]
  },
  {
   "cell_type": "code",
   "execution_count": null,
   "id": "24a0b98c-5c32-43e4-bc24-5d5a25815dd3",
   "metadata": {},
   "outputs": [],
   "source": [
    "step_per_sec_stats['timestep_sec_core'] = \\\n",
    "    step_per_sec_stats['timestep_sec'] / step_per_sec_stats['n_cores']"
   ]
  },
  {
   "cell_type": "code",
   "execution_count": null,
   "id": "489ec6d0-294e-4137-bd79-09387afc0a31",
   "metadata": {
    "tags": []
   },
   "outputs": [],
   "source": [
    "fontsize = 14\n",
    "save_to = \"./\"\n",
    "ext = 'pdf'\n",
    "#new_labels = ['Category', 'Pair', 'Bond', 'Neigh', 'Comm', 'Output', 'Modify', 'Other', '# of cores', '1', '4', '8', '16']\n",
    "save_to = './'\n",
    "ext = 'pdf'\n",
    "plot_context = 'talk'\n",
    "font_scale = 2\n",
    "height = 6\n",
    "aspect = 1.618\n",
    "ylabel_pad = 50\n",
    "rc_params= {\n",
    "    'axes.facecolor': 'aliceblue',\n",
    "    'mathtext.default': 'regular',\n",
    "    'text.usetex': True,\n",
    "    'axes.grid': True,\n",
    "    'axes.grid.axis': 'both',\n",
    "    #'axes.grid.which': 'both'\n",
    "}\n",
    "facet_kws = {\n",
    "    'sharey': False,\n",
    "    'sharex': False,\n",
    "    'legend_out': True,        \n",
    "}\n",
    "fig_title_kws = {'fontsize': 34, 'x': 0.5, 'y': 0.93}\n",
    "loc='lower left'\n",
    "font_family = 'sans-serif'\n",
    "move_legend_kws = {\n",
    "    'ncol': 1,\n",
    "    'bbox_to_anchor': (1., 0.95),\n",
    "    'frameon': True,\n",
    "    'facecolor': 'aliceblue',\n",
    "    #'borderpad': 0.1,\n",
    "    'markerscale': 1.5\n",
    "}\n",
    "\n",
    "sns.set_theme(\n",
    "    context=plot_context,\n",
    "    style='ticks',\n",
    "  #  palette=color_palette,\n",
    "    font='Times New Roman',\n",
    "    font_scale=font_scale,\n",
    "    rc=rc_params\n",
    ")\n",
    "stat_grid = sns.relplot(\n",
    "    x='n_atoms',\n",
    "    y='timestep_sec_core',\n",
    "    col='n_cores',\n",
    "    col_wrap=2,\n",
    "  #  marker='s',\n",
    "    data=step_per_sec_stats,\n",
    "    legend='full',\n",
    "    kind='line',\n",
    "    height=height,\n",
    "    aspect=aspect,\n",
    "    facet_kws=facet_kws,\n",
    ")\n",
    "col_attr = 'n_cores'\n",
    "attr_labels = {\n",
    "    'n_cores': r\"$n_{{core}}$\"\n",
    "}\n",
    "stat_grid.set_xlabels(r\"$n_{atoms}$\")\n",
    "stat_grid.set_ylabels(r\"${steps}/{sec.n_{core}}$\")\n",
    "stat_grid.set_titles(attr_labels[col_attr] + r\"$={col_name}$\")\n",
    "stat_grid.tight_layout(w_pad=0)\n",
    "#sns.move_legend(ax, \"upper left\", bbox_to_anchor=(1, 1))\n",
    "#output = \"-\".join([\"runStat\", project_name]) + \".\" + ext\n",
    "#fig.savefig(save_to + output, bbox_inches='tight')"
   ]
  },
  {
   "cell_type": "markdown",
   "id": "48c686a6-4564-42d7-b3d6-d9fdc6e335f4",
   "metadata": {
    "jp-MarkdownHeadingCollapsed": true,
    "tags": []
   },
   "source": [
    "### Visualizing wall-time stats"
   ]
  },
  {
   "cell_type": "code",
   "execution_count": null,
   "id": "e85dae61-8591-4866-8ce7-9b06ac04b608",
   "metadata": {
    "tags": []
   },
   "outputs": [],
   "source": [
    "wall_time.columns"
   ]
  },
  {
   "cell_type": "code",
   "execution_count": null,
   "id": "26d95f35-cf54-4743-ade5-d53d6a270e5c",
   "metadata": {
    "tags": []
   },
   "outputs": [],
   "source": [
    "wall_time_per_whole = wall_time.groupby(['whole'])['ensemble','whole','n_cores', 'n_atoms','wall_time_hr'].agg({'ensemble': 'last','whole':'last','n_cores':'last', 'n_atoms':'last', 'wall_time_hr': np.sum})\n",
    "wall_time_per_whole.reset_index(inplace=True,drop=True)\n",
    "wall_time_per_ensemble = wall_time_per_whole.groupby(['ensemble'])['ensemble','n_cores','n_atoms','wall_time_hr'].agg({'ensemble': 'last','n_cores':'last', 'n_atoms':'last', 'wall_time_hr': np.mean})\n",
    "wall_time_per_ensemble.reset_index(inplace=True,drop=True)\n",
    "wall_time_per_ensemble.sort_values('n_cores')\n",
    "wall_time_per_ensemble_sorted = wall_time_per_ensemble.sort_values(by=['n_cores','n_atoms'])\n",
    "wall_time_per_ensemble_sorted"
   ]
  },
  {
   "cell_type": "markdown",
   "id": "97b896dc-9040-4ae8-90a1-0151a28f5144",
   "metadata": {
    "jp-MarkdownHeadingCollapsed": true,
    "tags": []
   },
   "source": [
    "### Filtered data based on n_cores"
   ]
  },
  {
   "cell_type": "code",
   "execution_count": null,
   "id": "25273507-13ec-46f8-bd30-5cbf9a053d71",
   "metadata": {},
   "outputs": [],
   "source": [
    "n_core = 32\n",
    "filtered = wall_time_per_ensemble_sorted.loc[wall_time_per_ensemble_sorted['n_cores']==n_core,:]\n",
    "\n",
    "fontsize = 12\n",
    "save_to = \"./\"\n",
    "ext = 'pdf'\n",
    "#new_labels = ['Category', 'Pair', 'Bond', 'Neigh', 'Comm', 'Output', 'Modify', 'Other', '# of cores', '1', '4', '8', '16']\n",
    "fig, ax = plt.subplots(nrows=1, ncols=1, figsize=(8,6))\n",
    "sns.set_theme(\n",
    "    context='paper',\n",
    "    style='ticks',\n",
    "    font='Times New Roman',\n",
    "    font_scale=2,\n",
    "    rc={\n",
    "        'mathtext.default': 'regular',\n",
    "        \"text.usetex\": True,\n",
    "        \"font.size\": fontsize,\n",
    "        'axes.grid': True,\n",
    "        'axes.grid.axis': 'both',\n",
    "        'axes.grid.which': 'both'\n",
    "    }\n",
    ")\n",
    "ax_sns = sns.regplot(\n",
    "    x='n_atoms',\n",
    "    y='wall_time_hr',\n",
    "    marker='s',\n",
    "    data=filtered,\n",
    "    ax=ax\n",
    ")\n",
    "\n",
    "ax_sns.set_xlabel(\"Number of particles\")\n",
    "ax_sns.set_ylabel(\"Wall time (hours)\")\n",
    "#sns.move_legend(ax_sns, title=\"# of cores\", loc= \"upper left\", bbox_to_anchor=(1, 1))\n",
    "output = \"-\".join([\"wallTimeStat\", project, f'nCores{n_core}']) + \".\" + ext\n",
    "fig.savefig(save_to + output, bbox_inches='tight')\n",
    "#plt.close()"
   ]
  },
  {
   "cell_type": "markdown",
   "id": "81e5daff-3194-4473-a5e2-3bb390e0a2ce",
   "metadata": {
    "jp-MarkdownHeadingCollapsed": true,
    "tags": []
   },
   "source": [
    "### Wall stats:"
   ]
  },
  {
   "cell_type": "code",
   "execution_count": null,
   "id": "a41e2d48-84da-4ecd-907a-385cd7b80f6b",
   "metadata": {},
   "outputs": [],
   "source": [
    "fontsize = 12\n",
    "save_to = \"./\"\n",
    "ext = 'pdf'\n",
    "#new_labels = ['Category', 'Pair', 'Bond', 'Neigh', 'Comm', 'Output', 'Modify', 'Other', '# of cores', '1', '4', '8', '16']\n",
    "fig, ax = plt.subplots(nrows=1, ncols=1, figsize=(12,9))\n",
    "sns.set_theme(\n",
    "    context='paper',\n",
    "    style='ticks',\n",
    "    font='Times New Roman',\n",
    "    font_scale=2,\n",
    "    rc={\n",
    "        'mathtext.default': 'regular',\n",
    "        \"text.usetex\": True,\n",
    "        \"font.size\": fontsize,\n",
    "        'axes.grid': True,\n",
    "        'axes.grid.axis': 'both',\n",
    "        'axes.grid.which': 'both'\n",
    "    }\n",
    ")\n",
    "ax_sns = sns.lineplot(\n",
    "    x='n_atoms',\n",
    "    y='wall_time_hr',\n",
    "    style='n_cores',\n",
    "    hue='n_cores',\n",
    "    marker='s',\n",
    "    data=wall_time_per_ensemble_sorted,\n",
    "    ax=ax\n",
    ")\n",
    "\n",
    "ax_sns.set_xlabel(\"Number of particles\")\n",
    "ax_sns.set_ylabel(\"Wall time (hours)\")\n",
    "sns.move_legend(ax_sns, title=\"Number of cores\", loc= \"upper left\", bbox_to_anchor=(1, 1))\n",
    "output = \"-\".join([\"wallTimeStat\", project]) + \".\" + ext\n",
    "fig.savefig(save_to + output, bbox_inches='tight')\n",
    "#plt.close()"
   ]
  },
  {
   "cell_type": "markdown",
   "id": "ce43bbe4-dd52-47f7-a23e-79f56ff8b0b0",
   "metadata": {},
   "source": [
    "### Visualizing thermodynamic data"
   ]
  },
  {
   "cell_type": "code",
   "execution_count": null,
   "id": "33e3e2f7-4d28-4284-87b1-e0cf4c69b792",
   "metadata": {},
   "outputs": [],
   "source": [
    "thermo.columns"
   ]
  },
  {
   "cell_type": "code",
   "execution_count": null,
   "id": "6c100ae2-0b2c-4814-895d-5088dba75551",
   "metadata": {},
   "outputs": [],
   "source": [
    "#sel_cols = ['Step', 'TotEng', 'KinEng', 'Temp', 'PotEng', 'E_bond', 'E_angle',\n",
    "#       'E_dihed', 'E_impro', 'E_vdwl', 'E_coul', 'E_long', 'Press',\n",
    "#        'whole', 'ensemble_long', 'ensemble', 'space',\n",
    "#        'dcyl', 'dmon_large', 'nmon_large',\n",
    "#        'nmon_small', 'dcrowd', 'dt', 'bdump',\n",
    "#       'adump', 'ensemble_id',  'phi_c_bulk'] # multi\n",
    "thermo_style = 'one' # 'multi'\n",
    "sel_cols = {\n",
    "    'SumRuleCyl': {\n",
    "        'one': [\n",
    "            'Step', 'Temp', 'E_pair', 'E_mol', 'TotEng', 'Press',\n",
    "            'lineage_name', 'whole', 'ensemble_long', 'ensemble',\n",
    "            'space', 'nmon', 'epsilon', 'dcyl', 'lcyl', 'dcrowd',\n",
    "            'ncrowd', 'dt', 'bdump', 'adump', 'ensemble_id',\n",
    "            'phi_m_bulk', 'rho_m_bulk', 'phi_c_bulk', 'rho_c_bulk'\n",
    "        ]\n",
    "    },\n",
    "    'HnsCub': {\n",
    "        'one': ['Step',\n",
    "            'KinEng', 'PotEng', 'E_tail', 'Ecouple', 'Econserve', 'E_vdwl',\n",
    "            'E_bond', 'E_angle', 'E_mol', 'Temp', 'Press', 'nhns', 'dcrowd',\n",
    "            'ensemble_id', 'phi_c_bulk', 'lineage_name', 'whole',\n",
    "            'ensemble_long', 'space', 'E_pair', 'TotEng'\n",
    "        ]\n",
    "    }\n",
    "}\n",
    "thermo_equil = thermo.loc[:,sel_cols[project][thermo_style]]"
   ]
  },
  {
   "cell_type": "code",
   "execution_count": null,
   "id": "ea1e8595-6070-46b1-bfa4-21f2a3636942",
   "metadata": {},
   "outputs": [],
   "source": [
    "round_to = 0.025\n",
    "rounding_func = lambda x, round_to: np.round(np.rint((x / round_to)) * round_to, 3)\n",
    "thermo_equil['phi_c_bulk_round'] = thermo_equil['phi_c_bulk'].apply(\n",
    "    rounding_func, args=[round_to]\n",
    ")"
   ]
  },
  {
   "cell_type": "code",
   "execution_count": null,
   "id": "1f780a0f-24b4-4381-9613-721c91541e72",
   "metadata": {},
   "outputs": [],
   "source": [
    "sns.relplot(\n",
    "    x=\"Step\",\n",
    "    y=\"E_bond\",\n",
    "    col='phi_c_bulk_round',\n",
    "    col_wrap=3,\n",
    "    hue='ensemble_id',\n",
    "    ci=None,\n",
    "    alpha=0.5,\n",
    "    legend=\"full\",\n",
    "    kind=\"line\",\n",
    "    facet_kws={\"sharey\": False},\n",
    "    data=thermo_equil\n",
    ")"
   ]
  },
  {
   "cell_type": "code",
   "execution_count": null,
   "id": "77ed6cd6-906f-4451-bbdb-458898796a68",
   "metadata": {
    "tags": []
   },
   "outputs": [],
   "source": [
    "sns.relplot(\n",
    "    x=\"Step\",\n",
    "    y=\"Press\",\n",
    "    col='phi_c_bulk_round',\n",
    "    col_wrap=3,\n",
    "    hue='ensemble_id',\n",
    "    ci=None,\n",
    "    alpha=0.5,\n",
    "    legend=\"full\",\n",
    "    kind=\"line\",\n",
    "    facet_kws={\"sharey\": False},\n",
    "    data=thermos_equil\n",
    ")"
   ]
  },
  {
   "cell_type": "markdown",
   "id": "bc3b112f-c31b-4141-b524-839e29ffdfeb",
   "metadata": {},
   "source": [
    "### Filter themrmo by time step"
   ]
  },
  {
   "cell_type": "code",
   "execution_count": null,
   "id": "1ab8d10a-b2ac-464c-a6b9-fd256dd6b0e8",
   "metadata": {},
   "outputs": [],
   "source": [
    "thermp_freq = 10000\n",
    "equilibration_total_steps = 1000000\n",
    "sampling_first_step = equilibration_total_steps + thermp_freq\n",
    "#thermos_equil = thermos.loc[thermos[\"Step\"]>=sampling_first_step,:]\n",
    "thermos_equil.reset_index(inplace=True, drop=True)"
   ]
  },
  {
   "cell_type": "markdown",
   "id": "3701c603-3445-4ac5-a713-8756cc8d3353",
   "metadata": {
    "jp-MarkdownHeadingCollapsed": true,
    "tags": []
   },
   "source": [
    "## Not finished: "
   ]
  },
  {
   "cell_type": "code",
   "execution_count": null,
   "id": "d86a32a9-ae67-44a0-98ae-2291cf7c8b1d",
   "metadata": {},
   "outputs": [],
   "source": [
    "colors = ['royalblue', 'firebrick']\n",
    "lineage = 'whole'\n",
    "geometry = 'biaxial'\n",
    "\n",
    "if len(thermos) % 2 == 0:\n",
    "    n_cols = len(thermos)//2\n",
    "else:\n",
    "    n_cols = len(thermos)//2 + 1\n",
    "plt.rcParams.update({\n",
    "    \"text.usetex\": True, \n",
    "})\n",
    "mpl.rcParams['font.family'] = \"Times New Roman\"\n",
    "mpl.rcParams['mathtext.default'] = \"regular\"\n",
    "plt.rcParams['font.size'] = 14\n",
    "fig, axes = plt.subplots(2, n_cols, sharex=False, figsize=(9,12))\n",
    "xdata ='step'\n",
    "ydata= 'press'\n",
    "thermp_freq = 10000\n",
    "equilibration_steps = 1000000\n",
    "sampling_first_step = equilibration_steps + thermp_freq\n",
    "sampling_first_row = sampling_first_step // thermp_freq\n",
    "for idx, (ax, color, (data_path, data_org)) in enumerate(zip(axes.flat, colors, thermos.items())):\n",
    "    data_info = TransFoci(\n",
    "            data_path,\n",
    "            geometry=geometry,\n",
    "            group='bug',\n",
    "            lineage=lineage\n",
    "        )\n",
    "    data = data_org.copy()\n",
    "    data.drop_duplicates(inplace=True)\n",
    "    data.reset_index(inplace=True, drop=True)\n",
    "    #data = data.iloc[sampling_first_row:,:]\n",
    "    y_mean = data.loc[sampling_first_row:,ydata].mean()\n",
    "    ax.set_title(fr\"$\\phi_c^{{bulk}}={np.round(data_info.phi_c_bulk,3)}$\")\n",
    "    ax.axhline(\n",
    "        y=y_mean, alpha=0.8, ls='--',\n",
    "        c=color, \n",
    "        label=fr\"$\\bar{{P}}={np.round(y_mean,3)}$\"\n",
    "        )\n",
    "    ax.plot(\n",
    "        data.loc[sampling_first_row:,xdata],\n",
    "        data.loc[sampling_first_row:,ydata], color=color, alpha=0.7,\n",
    "            label=r\"$P(t)$\"\n",
    "    )    \n",
    "    ax.set_ylabel(r\"Pressure, $P(t)$\")\n",
    "    #ax.set_xlabel(r\"Time, ${t}/{\\Delta t}$\")\n",
    "    ax.set_xlabel(r\"Time Step\")\n",
    "    ax.legend()\n",
    "fname = ydata+\"-time-\"+data_info.space+\".\"+'pdf'\n",
    "fig.tight_layout()\n",
    "plt.savefig(fname, bbox_inches='tight')\n",
    "#plt.close()"
   ]
  },
  {
   "cell_type": "code",
   "execution_count": null,
   "id": "539013d2-ecb0-4b62-8483-0cc987acd360",
   "metadata": {},
   "outputs": [],
   "source": [
    "_, axes = plt.subplots(nrows=2, ncols=1, figsize=(16, 9))\n",
    "for idx, (ax, color, (data_path, data_org)) in enumerate(zip(axes.flat, colors, thermos.items())):\n",
    "    #transition_time = 5500\n",
    "    data = data_org.copy()\n",
    "    data.drop_duplicates(inplace=True)\n",
    "    data.reset_index(inplace=True)\n",
    "    #Use of the following options:\n",
    "    #data = gyr_t[:transition_time] # before transition at t~5500\n",
    "    data = data['eVdwl'].to_numpy() # after transition at t~5500\n",
    "    data = data[101:]\n",
    "    #data = gyr_t # whole date\n",
    "    result = analyzer.error_calc_block(data, './block_analysis') \n",
    "    #ax.plot(result['si'])\n",
    "    ax.grid(True, which=\"both\")\n",
    "    ax.errorbar(result['ntransfroms'], result['si'], yerr=result['si_err'], fmt='--o')\n",
    "    ax.set_xlabel(r\"Number of transformation, $n_{block}$\")\n",
    "    ax.set_ylabel(r\"Statistical inefficiency, $s(n_{block})$\")"
   ]
  },
  {
   "cell_type": "code",
   "execution_count": null,
   "id": "6c1598d0-b5ff-4089-9a5f-fb9309640d4d",
   "metadata": {},
   "outputs": [],
   "source": [
    "colors = ['royalblue', 'firebrick']\n",
    "lineage = 'whole'\n",
    "geometry = 'biaxial'\n",
    "\n",
    "if len(thermos) % 2 == 0:\n",
    "    n_cols = len(thermos)//2\n",
    "else:\n",
    "    n_cols = len(thermos)//2 + 1\n",
    "plt.rcParams.update({\n",
    "    \"text.usetex\": True, \n",
    "})\n",
    "mpl.rcParams['font.family'] = \"Times New Roman\"\n",
    "mpl.rcParams['mathtext.default'] = \"regular\"\n",
    "plt.rcParams['font.size'] = 14\n",
    "fig, axes = plt.subplots(2, n_cols, sharex=False, figsize=(9,12))\n",
    "xdata ='step'\n",
    "ydata= 'press'\n",
    "thermp_freq = 10000\n",
    "equilibration_steps = 1000000\n",
    "sampling_first_step = equilibration_steps + thermp_freq\n",
    "sampling_first_row = sampling_first_step // thermp_freq\n",
    "for idx, (ax, color, (data_path, data_org)) in enumerate(zip(axes.flat, colors, thermos.items())):\n",
    "    data_info = TransFoci(\n",
    "            data_path,\n",
    "            geometry=geometry,\n",
    "            group='bug',\n",
    "            lineage=lineage\n",
    "        )\n",
    "    data = data_org.copy()\n",
    "    data.drop_duplicates(inplace=True)\n",
    "    data.reset_index(inplace=True, drop=True)\n",
    "    #data = data.iloc[sampling_first_row:,:]\n",
    "    y_mean = data.loc[sampling_first_row:,ydata].mean()\n",
    "    ax.set_title(fr\"$\\phi_c^{{bulk}}={np.round(data_info.phi_c_bulk,3)}$\")\n",
    "    correlations(data.loc[sampling_first_row:,ydata], lags=40)\n",
    "    ax.set_ylabel(r\"Pressure, $P(t)$\")\n",
    "    #ax.set_xlabel(r\"Time, ${t}/{\\Delta t}$\")\n",
    "    ax.set_xlabel(r\"Time Step\")\n",
    "    ax.legend()\n",
    "fname = ydata+\"-time-\"+data_info.space+\".\"+'pdf'\n",
    "fig.tight_layout()\n",
    "plt.savefig(fname, bbox_inches='tight')\n",
    "#plt.close()"
   ]
  },
  {
   "cell_type": "code",
   "execution_count": null,
   "id": "eeb38679-a5f3-41b1-a767-caa4a1898087",
   "metadata": {},
   "outputs": [],
   "source": []
  },
  {
   "cell_type": "code",
   "execution_count": null,
   "id": "5d04634d-7287-46b9-9749-3eaeb2f119d6",
   "metadata": {},
   "outputs": [],
   "source": []
  }
 ],
 "metadata": {
  "kernelspec": {
   "display_name": "Python 3 (ipykernel)",
   "language": "python",
   "name": "python3"
  },
  "language_info": {
   "codemirror_mode": {
    "name": "ipython",
    "version": 3
   },
   "file_extension": ".py",
   "mimetype": "text/x-python",
   "name": "python",
   "nbconvert_exporter": "python",
   "pygments_lexer": "ipython3",
   "version": "3.11.0"
  },
  "toc": {
   "base_numbering": 1,
   "nav_menu": {},
   "number_sections": true,
   "sideBar": true,
   "skip_h1_title": false,
   "title_cell": "Table of Contents",
   "title_sidebar": "Contents",
   "toc_cell": false,
   "toc_position": {},
   "toc_section_display": true,
   "toc_window_display": false
  },
  "widgets": {
   "application/vnd.jupyter.widget-state+json": {
    "state": {},
    "version_major": 2,
    "version_minor": 0
   }
  }
 },
 "nbformat": 4,
 "nbformat_minor": 5
}
