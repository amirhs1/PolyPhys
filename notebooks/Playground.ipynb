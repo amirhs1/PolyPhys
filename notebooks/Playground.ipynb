{
 "cells": [
  {
   "cell_type": "code",
   "execution_count": 20,
   "id": "cfa7b6fc",
   "metadata": {},
   "outputs": [],
   "source": [
    "import numpy as np\n",
    "from polyphys.manage.utils import *"
   ]
  },
  {
   "cell_type": "code",
   "execution_count": 24,
   "id": "9bd37178",
   "metadata": {},
   "outputs": [
    {
     "data": {
      "text/plain": [
       "1.3717421124828533"
      ]
     },
     "execution_count": 24,
     "metadata": {},
     "output_type": "execute_result"
    }
   ],
   "source": [
    "number_density_cube(1000, 1.0, 10.0)"
   ]
  },
  {
   "cell_type": "code",
   "execution_count": null,
   "id": "f8b0e955",
   "metadata": {},
   "outputs": [],
   "source": [
    "positions = np.array([[1.0, 1.0, 1.0], [2.0, 2.0, 2.0], [3.0, 3.0, 3.0]])\n",
    "print(end_to_end(positions))"
   ]
  },
  {
   "cell_type": "code",
   "execution_count": null,
   "id": "3f8146f1",
   "metadata": {},
   "outputs": [],
   "source": [
    "positions = np.array([[1, 0, 0], [1, 2, 2]])\n",
    "transverse_size(positions, axis=0)"
   ]
  },
  {
   "cell_type": "code",
   "execution_count": null,
   "id": "aca7e03f",
   "metadata": {},
   "outputs": [],
   "source": [
    "positions = np.array([[1, 0, 0], [1, 2, 2]])\n",
    "transverse_size(positions, axis=1)"
   ]
  },
  {
   "cell_type": "code",
   "execution_count": null,
   "id": "ae795e65",
   "metadata": {},
   "outputs": [],
   "source": [
    "positions = np.array([[1, 2, 3], [4, 8, 6]])\n",
    "fsd(positions, axis=1)"
   ]
  },
  {
   "cell_type": "code",
   "execution_count": 27,
   "id": "ccf98c21",
   "metadata": {},
   "outputs": [
    {
     "name": "stdout",
     "output_type": "stream",
     "text": [
      "[['file1.data', 'file2.data'], ['file2.trj', 'file1.trj']]\n"
     ]
    },
    {
     "data": {
      "text/plain": [
       "[('file1.data', 'file1.trj'), ('file2.data', 'file2.trj')]"
      ]
     },
     "execution_count": 27,
     "metadata": {},
     "output_type": "execute_result"
    }
   ],
   "source": [
    "sort_filenames(['file1.data', 'file2.trj', 'file1.trj', 'file2.data'], ['data', ('lammpstrj', 'trj')])"
   ]
  },
  {
   "cell_type": "code",
   "execution_count": 8,
   "id": "eee62c61",
   "metadata": {},
   "outputs": [
    {
     "data": {
      "text/plain": [
       "array([0.5, 0. , 0. ])"
      ]
     },
     "execution_count": 8,
     "metadata": {},
     "output_type": "execute_result"
    }
   ],
   "source": [
    "pbc = {0: 8.0}\n",
    "positions = np.array([[1.0, 2.0, 3.0], [9.5, 2.0, 3.0]])\n",
    "pair_distance(positions, pbc)"
   ]
  },
  {
   "cell_type": "code",
   "execution_count": 14,
   "id": "9e277dcd",
   "metadata": {},
   "outputs": [
    {
     "data": {
      "text/plain": [
       "{'energy_mean': np.float64(2.0),\n",
       " 'energy_var': np.float64(1.0),\n",
       " 'energy_sem': np.float64(0.5773502691896258)}"
      ]
     },
     "execution_count": 14,
     "metadata": {},
     "output_type": "execute_result"
    }
   ],
   "source": [
    "simple_stats('energy', np.array([1.0, 2.0, 3.0]))"
   ]
  },
  {
   "cell_type": "code",
   "execution_count": 16,
   "id": "a14e9002",
   "metadata": {},
   "outputs": [
    {
     "data": {
      "text/plain": [
       "0.0"
      ]
     },
     "execution_count": 16,
     "metadata": {},
     "output_type": "execute_result"
    }
   ],
   "source": [
    "sphere_sphere_intersection(3, 4, 10)"
   ]
  },
  {
   "cell_type": "code",
   "execution_count": 17,
   "id": "ffd3726a",
   "metadata": {},
   "outputs": [
    {
     "data": {
      "text/plain": [
       "94.90227807719167"
      ]
     },
     "execution_count": 17,
     "metadata": {},
     "output_type": "execute_result"
    }
   ],
   "source": [
    "sphere_sphere_intersection(3, 4, 2)"
   ]
  },
  {
   "cell_type": "code",
   "execution_count": 19,
   "id": "3cf2ae48",
   "metadata": {},
   "outputs": [
    {
     "data": {
      "text/plain": [
       "array([0, 2, 1])"
      ]
     },
     "execution_count": 19,
     "metadata": {},
     "output_type": "execute_result"
    }
   ],
   "source": [
    "positions= np.array([[1, 0, 0], [0, 1, 0], [0, 0, 2]])\n",
    "edges = np.array([0, 1, 2, 3])\n",
    "radial_histogram(positions, edges, (0, 3))"
   ]
  }
 ],
 "metadata": {
  "kernelspec": {
   "display_name": "polylab_air",
   "language": "python",
   "name": "python3"
  },
  "language_info": {
   "codemirror_mode": {
    "name": "ipython",
    "version": 3
   },
   "file_extension": ".py",
   "mimetype": "text/x-python",
   "name": "python",
   "nbconvert_exporter": "python",
   "pygments_lexer": "ipython3",
   "version": "3.12.2"
  }
 },
 "nbformat": 4,
 "nbformat_minor": 5
}
