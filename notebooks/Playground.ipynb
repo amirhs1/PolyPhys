{
 "cells": [
  {
   "cell_type": "code",
   "execution_count": 1,
   "id": "cfa7b6fc",
   "metadata": {},
   "outputs": [],
   "source": [
    "import numpy as np\n",
    "from polyphys.manage.parser import SumRuleCyl"
   ]
  },
  {
   "cell_type": "code",
   "execution_count": 11,
   "id": "9bd37178",
   "metadata": {},
   "outputs": [
    {
     "name": "stdout",
     "output_type": "stream",
     "text": [
      "'epsilon' attribute not found in 'N2000epsilon.r10.5lz300.0sig1.0nc117000dt0.005bdump5000adump10000ens2.j02'\n"
     ]
    },
    {
     "ename": "AttributeError",
     "evalue": "'SumRuleCyl' object has no attribute 'epsilon'",
     "output_type": "error",
     "traceback": [
      "\u001b[31m---------------------------------------------------------------------------\u001b[39m",
      "\u001b[31mAttributeError\u001b[39m                            Traceback (most recent call last)",
      "\u001b[36mCell\u001b[39m\u001b[36m \u001b[39m\u001b[32mIn[11]\u001b[39m\u001b[32m, line 1\u001b[39m\n\u001b[32m----> \u001b[39m\u001b[32m1\u001b[39m parser = \u001b[43mSumRuleCyl\u001b[49m\u001b[43m(\u001b[49m\n\u001b[32m      2\u001b[39m \u001b[43m    \u001b[49m\u001b[33;43m'\u001b[39;49m\u001b[33;43mN2000epsilon.r10.5lz300.0sig1.0nc117000dt0.005bdump5000adump10000ens2.j02.bug\u001b[39;49m\u001b[33;43m'\u001b[39;49m\u001b[43m,\u001b[49m\n\u001b[32m      3\u001b[39m \u001b[43m    \u001b[49m\u001b[33;43m'\u001b[39;49m\u001b[33;43msegment\u001b[39;49m\u001b[33;43m'\u001b[39;49m\u001b[43m,\u001b[49m\n\u001b[32m      4\u001b[39m \u001b[43m    \u001b[49m\u001b[33;43m'\u001b[39;49m\u001b[33;43mbug\u001b[39;49m\u001b[33;43m'\u001b[39;49m\n\u001b[32m      5\u001b[39m \u001b[43m)\u001b[49m\n\u001b[32m      6\u001b[39m \u001b[38;5;28mprint\u001b[39m(parser.epsilon)\n\u001b[32m      7\u001b[39m \u001b[38;5;28mprint\u001b[39m(parser.dcyl)\n",
      "\u001b[36mFile \u001b[39m\u001b[32m~/GitHub/PolyPhys/polyphys/manage/parser.py:845\u001b[39m, in \u001b[36mSumRuleCyl.__init__\u001b[39m\u001b[34m(self, artifact, lineage, group)\u001b[39m\n\u001b[32m    843\u001b[39m \u001b[38;5;28mself\u001b[39m._initiate_attributes()\n\u001b[32m    844\u001b[39m \u001b[38;5;28mself\u001b[39m._parse_name()\n\u001b[32m--> \u001b[39m\u001b[32m845\u001b[39m \u001b[38;5;28;43mself\u001b[39;49m\u001b[43m.\u001b[49m\u001b[43m_set_parents\u001b[49m\u001b[43m(\u001b[49m\u001b[43m)\u001b[49m\n\u001b[32m    846\u001b[39m \u001b[38;5;28;01mif\u001b[39;00m \u001b[38;5;28mself\u001b[39m.lineage \u001b[38;5;129;01min\u001b[39;00m [\u001b[33m'\u001b[39m\u001b[33msegment\u001b[39m\u001b[33m'\u001b[39m, \u001b[33m'\u001b[39m\u001b[33mwhole\u001b[39m\u001b[33m'\u001b[39m, \u001b[33m'\u001b[39m\u001b[33mensemble_long\u001b[39m\u001b[33m'\u001b[39m]:\n\u001b[32m    847\u001b[39m     \u001b[38;5;28mself\u001b[39m._dependant_attributes()\n",
      "\u001b[36mFile \u001b[39m\u001b[32m~/GitHub/PolyPhys/polyphys/manage/parser.py:440\u001b[39m, in \u001b[36mParserBase._set_parents\u001b[39m\u001b[34m(self)\u001b[39m\n\u001b[32m    437\u001b[39m     lineage_attr = \u001b[38;5;28mself\u001b[39m.genealogy_attributes[lineage_name]\n\u001b[32m    438\u001b[39m     \u001b[38;5;28;01mfor\u001b[39;00m attr_long, attr_short \u001b[38;5;129;01min\u001b[39;00m lineage_attr.items():\n\u001b[32m    439\u001b[39m         lineage_value += \\\n\u001b[32m--> \u001b[39m\u001b[32m440\u001b[39m                 \u001b[33mf\u001b[39m\u001b[33m\"\u001b[39m\u001b[38;5;132;01m{\u001b[39;00mattr_short\u001b[38;5;132;01m}\u001b[39;00m\u001b[38;5;132;01m{\u001b[39;00m\u001b[38;5;28;43mgetattr\u001b[39;49m\u001b[43m(\u001b[49m\u001b[38;5;28;43mself\u001b[39;49m\u001b[43m,\u001b[49m\u001b[38;5;250;43m \u001b[39;49m\u001b[43mattr_long\u001b[49m\u001b[43m)\u001b[49m\u001b[38;5;132;01m}\u001b[39;00m\u001b[33m\"\u001b[39m\n\u001b[32m    441\u001b[39m \u001b[38;5;28msetattr\u001b[39m(\u001b[38;5;28mself\u001b[39m, lineage_name, lineage_value)\n",
      "\u001b[31mAttributeError\u001b[39m: 'SumRuleCyl' object has no attribute 'epsilon'"
     ]
    }
   ],
   "source": [
    "parser = SumRuleCyl(\n",
    "    'N2000epsilon.r10.5lz300.0sig1.0nc117000dt0.005bdump5000adump10000ens2.j02.bug',\n",
    "    'segment',\n",
    "    'bug'\n",
    ")\n",
    "print(parser.epsilon)\n",
    "print(parser.dcyl)"
   ]
  },
  {
   "cell_type": "code",
   "execution_count": null,
   "id": "f8b0e955",
   "metadata": {},
   "outputs": [],
   "source": [
    "positions = np.array([[1.0, 1.0, 1.0], [2.0, 2.0, 2.0], [3.0, 3.0, 3.0]])\n",
    "print(end_to_end(positions))"
   ]
  },
  {
   "cell_type": "code",
   "execution_count": null,
   "id": "3f8146f1",
   "metadata": {},
   "outputs": [],
   "source": [
    "positions = np.array([[1, 0, 0], [1, 2, 2]])\n",
    "transverse_size(positions, axis=0)"
   ]
  },
  {
   "cell_type": "code",
   "execution_count": null,
   "id": "aca7e03f",
   "metadata": {},
   "outputs": [],
   "source": [
    "positions = np.array([[1, 0, 0], [1, 2, 2]])\n",
    "transverse_size(positions, axis=1)"
   ]
  },
  {
   "cell_type": "code",
   "execution_count": null,
   "id": "ae795e65",
   "metadata": {},
   "outputs": [],
   "source": [
    "positions = np.array([[1, 2, 3], [4, 8, 6]])\n",
    "fsd(positions, axis=1)"
   ]
  },
  {
   "cell_type": "code",
   "execution_count": 27,
   "id": "ccf98c21",
   "metadata": {},
   "outputs": [
    {
     "name": "stdout",
     "output_type": "stream",
     "text": [
      "[['file1.data', 'file2.data'], ['file2.trj', 'file1.trj']]\n"
     ]
    },
    {
     "data": {
      "text/plain": [
       "[('file1.data', 'file1.trj'), ('file2.data', 'file2.trj')]"
      ]
     },
     "execution_count": 27,
     "metadata": {},
     "output_type": "execute_result"
    }
   ],
   "source": [
    "sort_filenames(['file1.data', 'file2.trj', 'file1.trj', 'file2.data'], ['data', ('lammpstrj', 'trj')])"
   ]
  },
  {
   "cell_type": "code",
   "execution_count": 8,
   "id": "eee62c61",
   "metadata": {},
   "outputs": [
    {
     "data": {
      "text/plain": [
       "array([0.5, 0. , 0. ])"
      ]
     },
     "execution_count": 8,
     "metadata": {},
     "output_type": "execute_result"
    }
   ],
   "source": [
    "pbc = {0: 8.0}\n",
    "positions = np.array([[1.0, 2.0, 3.0], [9.5, 2.0, 3.0]])\n",
    "pair_distance(positions, pbc)"
   ]
  },
  {
   "cell_type": "code",
   "execution_count": 14,
   "id": "9e277dcd",
   "metadata": {},
   "outputs": [
    {
     "data": {
      "text/plain": [
       "{'energy_mean': np.float64(2.0),\n",
       " 'energy_var': np.float64(1.0),\n",
       " 'energy_sem': np.float64(0.5773502691896258)}"
      ]
     },
     "execution_count": 14,
     "metadata": {},
     "output_type": "execute_result"
    }
   ],
   "source": [
    "simple_stats('energy', np.array([1.0, 2.0, 3.0]))"
   ]
  },
  {
   "cell_type": "code",
   "execution_count": 16,
   "id": "a14e9002",
   "metadata": {},
   "outputs": [
    {
     "data": {
      "text/plain": [
       "0.0"
      ]
     },
     "execution_count": 16,
     "metadata": {},
     "output_type": "execute_result"
    }
   ],
   "source": [
    "sphere_sphere_intersection(3, 4, 10)"
   ]
  },
  {
   "cell_type": "code",
   "execution_count": 17,
   "id": "ffd3726a",
   "metadata": {},
   "outputs": [
    {
     "data": {
      "text/plain": [
       "94.90227807719167"
      ]
     },
     "execution_count": 17,
     "metadata": {},
     "output_type": "execute_result"
    }
   ],
   "source": [
    "sphere_sphere_intersection(3, 4, 2)"
   ]
  },
  {
   "cell_type": "code",
   "execution_count": 19,
   "id": "3cf2ae48",
   "metadata": {},
   "outputs": [
    {
     "data": {
      "text/plain": [
       "array([0, 2, 1])"
      ]
     },
     "execution_count": 19,
     "metadata": {},
     "output_type": "execute_result"
    }
   ],
   "source": [
    "positions= np.array([[1, 0, 0], [0, 1, 0], [0, 0, 2]])\n",
    "edges = np.array([0, 1, 2, 3])\n",
    "radial_histogram(positions, edges, (0, 3))"
   ]
  }
 ],
 "metadata": {
  "kernelspec": {
   "display_name": "polylab_air",
   "language": "python",
   "name": "python3"
  },
  "language_info": {
   "codemirror_mode": {
    "name": "ipython",
    "version": 3
   },
   "file_extension": ".py",
   "mimetype": "text/x-python",
   "name": "python",
   "nbconvert_exporter": "python",
   "pygments_lexer": "ipython3",
   "version": "3.12.2"
  }
 },
 "nbformat": 4,
 "nbformat_minor": 5
}
