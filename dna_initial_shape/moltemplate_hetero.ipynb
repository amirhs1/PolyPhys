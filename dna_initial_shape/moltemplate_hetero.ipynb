{
 "cells": [
  {
   "cell_type": "code",
   "execution_count": null,
   "id": "59014281",
   "metadata": {},
   "outputs": [],
   "source": [
    "import moltemplate as mt"
   ]
  },
  {
   "cell_type": "code",
   "execution_count": null,
   "id": "0359e757",
   "metadata": {},
   "outputs": [],
   "source": [
    "mt.genpoly_lt."
   ]
  },
  {
   "cell_type": "code",
   "execution_count": null,
   "id": "7eda2cdc",
   "metadata": {},
   "outputs": [],
   "source": [
    "nmon = 200\n",
    "bond = 0.996  # in unit of a=sigma=1.0; 0.996 is in agreement with FENE potential as decribe in pizza.py package.\n",
    "nx = 11\n",
    "ny = 11\n",
    "nz = 11\n",
    "L = nmon * bond\n",
    "# self-avoiding"
   ]
  }
 ],
 "metadata": {
  "kernelspec": {
   "display_name": "Python 3 (ipykernel)",
   "language": "python",
   "name": "python3"
  },
  "language_info": {
   "codemirror_mode": {
    "name": "ipython",
    "version": 3
   },
   "file_extension": ".py",
   "mimetype": "text/x-python",
   "name": "python",
   "nbconvert_exporter": "python",
   "pygments_lexer": "ipython3",
   "version": "3.9.10"
  }
 },
 "nbformat": 4,
 "nbformat_minor": 5
}
