{
 "cells": [
  {
   "cell_type": "code",
   "execution_count": 1,
   "id": "8cb892a7-657c-4290-b326-ade08e41add1",
   "metadata": {},
   "outputs": [
    {
     "name": "stderr",
     "output_type": "stream",
     "text": [
      "/Users/amirhsi_mini/opt/anaconda3/envs/polyLab/lib/python3.9/site-packages/statsmodels/compat/pandas.py:65: FutureWarning: pandas.Int64Index is deprecated and will be removed from pandas in a future version. Use pandas.Index with the appropriate dtype instead.\n",
      "  from pandas import Int64Index as NumericIndex\n",
      "/Users/amirhsi_mini/opt/anaconda3/envs/polyLab/lib/python3.9/site-packages/MDAnalysis/coordinates/TRJ.py:1209: DeprecationWarning: Please use `netcdf_file` from the `scipy.io` namespace, the `scipy.io.netcdf` namespace is deprecated.\n",
      "  class NCDFPicklable(scipy.io.netcdf.netcdf_file):\n"
     ]
    }
   ],
   "source": [
    "from glob import glob\n",
    "import pathlib\n",
    "\n",
    "from polyphys.manage import organizer\n",
    "from polyphys.manage.parser import SumRule\n",
    "\n",
    "import MDAnalysis as mda\n",
    "import maicos\n",
    "import matplotlib.pyplot as plt"
   ]
  },
  {
   "cell_type": "code",
   "execution_count": 7,
   "id": "86df312d-7ac7-4996-9fce-e6ddffbe9b5a",
   "metadata": {},
   "outputs": [],
   "source": [
    "path = pathlib.Path('/Users/amirhsi_mini/trjs/N500D10.0ac0.8-trjs')\n",
    "#path = pathlib.Path('../test_data/trjs-continuous/N500D10.0ac0.8-trjs')\n",
    "path = path.resolve() # convert relative path to aabsolute one\n",
    "input_database = str(path)\n",
    "geometry = 'biaxial'\n",
    "group = 'all'\n",
    "hierarchy = '/N*/N*'\n",
    "observations = glob(input_database + hierarchy)\n",
    "# 'bug' time series and historams\n",
    "topologies = organizer.sort_filenames(observations, fmts=['.all.data'])\n",
    "trajectories = organizer.sort_filenames(observations, fmts=['.all.lammpstrj'])\n",
    "# 'bug' time series and historams\n",
    "sim_real_dt = 1000 * 0.002 * 1"
   ]
  },
  {
   "cell_type": "code",
   "execution_count": 8,
   "id": "9c18e446-5873-4de8-b1f1-f42bdc31902b",
   "metadata": {},
   "outputs": [
    {
     "name": "stdout",
     "output_type": "stream",
     "text": [
      "/Users/amirhsi_mini/trjs/N500D10.0ac0.8-trjs/N500epsilon5.0r5.5lz205.5sig0.8nc12012dt0.002bdump1000adump5000ens1/N500epsilon5.0r5.5lz205.5sig0.8nc12012dt0.002bdump1000adump5000ens1.all.data\n",
      "/Users/amirhsi_mini/trjs/N500D10.0ac0.8-trjs/N500epsilon5.0r5.5lz205.5sig0.8nc12012dt0.002bdump1000adump5000ens1/N500epsilon5.0r5.5lz205.5sig0.8nc12012dt0.002bdump1000adump5000ens1.j02.all.lammpstrj\n"
     ]
    }
   ],
   "source": [
    "print(topologies[0][0])\n",
    "print(trajectories[1][0])\n",
    "\n",
    "cell = mda.Universe(\n",
    "        topologies[0][0],\n",
    "        trajectories[1][0],\n",
    "        topology_format='DATA',\n",
    "        format='LAMMPSDUMP',\n",
    "        lammps_coordinate_convention='unscaled',\n",
    "        atom_style=\"id resid type x y z\",\n",
    "        dt=sim_real_dt\n",
    "    )\n",
    "sim_info = SumRule(topologies[0][0], geometry='biaxial', group='all',lineage='whole')"
   ]
  },
  {
   "cell_type": "code",
   "execution_count": 9,
   "id": "c6df7140-2a67-494a-8c28-c70a536103a0",
   "metadata": {},
   "outputs": [
    {
     "name": "stderr",
     "output_type": "stream",
     "text": [
      "/Users/amirhsi_mini/opt/anaconda3/envs/polyLab/lib/python3.9/site-packages/maicos/utils.py:65: UserWarning: Cannot use 'molecules'. Falling back to 'fragments'\n",
      "  warnings.warn(\"Cannot use 'molecules'. Falling back to 'fragments'\")\n"
     ]
    },
    {
     "name": "stdout",
     "output_type": "stream",
     "text": [
      "Using 1028 bins.\n",
      "Computing number density profile along Z-axes.\n"
     ]
    },
    {
     "name": "stderr",
     "output_type": "stream",
     "text": [
      "100%|███████████████████████████████████████████████████████████████████████████████████████████████████████████████████████████████████████████████████████████████████████████████████████████████████████████████████████████████████████████████████████████████████████████████████████████████████████████████████████████████████| 1001/1001 [00:20<00:00, 49.70it/s]\n",
      "/Users/amirhsi_mini/opt/anaconda3/envs/polyLab/lib/python3.9/site-packages/maicos/utils.py:65: UserWarning: Cannot use 'molecules'. Falling back to 'fragments'\n",
      "  warnings.warn(\"Cannot use 'molecules'. Falling back to 'fragments'\")\n"
     ]
    },
    {
     "name": "stdout",
     "output_type": "stream",
     "text": [
      "Using 1028 bins.\n",
      "Computing number density profile along Z-axes.\n"
     ]
    },
    {
     "name": "stderr",
     "output_type": "stream",
     "text": [
      "100%|███████████████████████████████████████████████████████████████████████████████████████████████████████████████████████████████████████████████████████████████████████████████████████████████████████████████████████████████████████████████████████████████████████████████████████████████████████████████████████████████████| 1001/1001 [00:21<00:00, 46.60it/s]\n"
     ]
    },
    {
     "data": {
      "text/plain": [
       "<maicos.modules.density.density_planar at 0x16e40cd60>"
      ]
     },
     "execution_count": 9,
     "metadata": {},
     "output_type": "execute_result"
    }
   ],
   "source": [
    "bug = cell.select_atoms('resid 1')  # monomers\n",
    "bug_dplan = maicos.density_planar(bug,dens='number',center=True, dim=2,binwidth=0.04, verbose=True)\n",
    "bug_dplan.run()\n",
    "crds = cell.select_atoms('resid 0')  # crowders\n",
    "crds_dplan = maicos.density_planar(crds,dens='number',center=True, dim=2,binwidth=0.04, verbose=True)\n",
    "crds_dplan.run()"
   ]
  },
  {
   "cell_type": "code",
   "execution_count": 10,
   "id": "fe24f38a-1aa6-4ccc-a637-603e779633c9",
   "metadata": {},
   "outputs": [
    {
     "data": {
      "image/png": "[encoded data removed]",
      "text/plain": [
       "<Figure size 864x432 with 1 Axes>"
      ]
     },
     "metadata": {
      "needs_background": "light"
     },
     "output_type": "display_data"
    }
   ],
   "source": [
    "fig = plt.figure(figsize = (12,6))\n",
    "plt.plot(bug_dplan.results['z'],bug_dplan.results['dens_mean'],linewidth=1,c='orange')\n",
    "plt.plot(crds_dplan.results['z'],crds_dplan.results['dens_mean'],linewidth=1,c='blue')\n",
    "plt.xlabel(\"z coordinate [nanometer]\")\n",
    "plt.ylabel(\"density H2O [kg/m3]\")\n",
    "plt.show()"
   ]
  },
  {
   "cell_type": "code",
   "execution_count": null,
   "id": "0b74f1de-5102-4fab-b74e-6c35f13414c6",
   "metadata": {},
   "outputs": [],
   "source": []
  }
 ],
 "metadata": {
  "kernelspec": {
   "display_name": "Python 3.9.10 ('polyLab')",
   "language": "python",
   "name": "python3910jvsc74a57bd06cf582efbfbdef60505769a313a3ca49eebfd77179e86f4387bd11d254c0a990"
  },
  "language_info": {
   "codemirror_mode": {
    "name": "ipython",
    "version": 3
   },
   "file_extension": ".py",
   "mimetype": "text/x-python",
   "name": "python",
   "nbconvert_exporter": "python",
   "pygments_lexer": "ipython3",
   "version": "3.9.10"
  }
 },
 "nbformat": 4,
 "nbformat_minor": 5
}
