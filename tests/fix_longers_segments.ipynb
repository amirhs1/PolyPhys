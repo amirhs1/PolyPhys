{
 "cells": [
  {
   "cell_type": "code",
   "execution_count": null,
   "id": "59f41614-abd7-4c39-95ea-62a95ddf3e96",
   "metadata": {},
   "outputs": [],
   "source": [
    "from glob import glob\n",
    "import numpy as np\n",
    "import pandas as pd\n",
    "from polyphys.manage.organizer import sort_filenames, whole, database_path"
   ]
  },
  {
   "cell_type": "code",
   "execution_count": null,
   "id": "cadd7ce0-4ba3-40ad-b604-e5e140b37346",
   "metadata": {},
   "outputs": [],
   "source": [
    "input_database = '/Users/amirhsi_mini/probe/N2000D30.0ac4.0-segment/'\n",
    "hierarchy='N*/N*'\n",
    "fix_properties_bug = [\n",
    "    # property_, species, group\n",
    "    ('fsdT', 'Mon', 'bug'),\n",
    "    ('gyrT', 'Mon', 'bug'),\n",
    "    ('rfloryT', 'Mon', 'bug'),\n",
    "    ('principalT', 'Mon', 'bug'),\n",
    "    ('shapeT', 'Mon', 'bug'),\n",
    "    ('asphericityT', 'Mon', 'bug')\n",
    "]\n",
    "geometry = 'biaxial'\n",
    "\n",
    "save_to_whole = database_path(\n",
    "        input_database, 'analysis', stage='wholeSim', group='bug'\n",
    "    )"
   ]
  },
  {
   "cell_type": "code",
   "execution_count": null,
   "id": "bf54577a-fdd3-4d2d-98d3-1de7c0398678",
   "metadata": {},
   "outputs": [],
   "source": [
    "observations = glob(input_database + hierarchy)\n",
    "for property_, species, group in fix_properties_bug:\n",
    "    segments = sort_filenames(\n",
    "        observations,\n",
    "        fmts=['-' + property_ + species + '.npy']\n",
    "    )\n",
    "    # 'whole' dataframes, each with a 'whole' as its column:\n",
    "    wholes = whole(\n",
    "        property_ + species,\n",
    "        segments,\n",
    "        geometry=geometry,\n",
    "        group=group,\n",
    "        relation='tseries',\n",
    "        save_to=save_to_whole\n",
    "    )"
   ]
  },
  {
   "cell_type": "code",
   "execution_count": null,
   "id": "e9b4abae-ea60-4763-a705-b790e10e6487",
   "metadata": {},
   "outputs": [],
   "source": [
    "stamps = pd.read_csv('/Users/amirhsi_mini/analysis/N2000D30.0ac4.0-bug-ens/N2000D30.0ac4.0-bug-stamps-whole.csv',header=0)\n",
    "longer_tha_usual = list(stamps[stamps.n_frames!=300001].whole)\n",
    "longer_tha_usual"
   ]
  },
  {
   "cell_type": "code",
   "execution_count": null,
   "id": "ea1b05af-32bc-4da2-912d-14056270791d",
   "metadata": {},
   "outputs": [],
   "source": [
    "segments = glob('/Users/amirhsi_mini/probe/N2000D30.0ac4.0-segment/N*/N2000epsilon5.0r15.5lz379.5sig4.0nc4003dt0.005bdump1000adump5000ens1*fsdT*.npy')\n",
    "segments.sort()\n",
    "segments"
   ]
  },
  {
   "cell_type": "code",
   "execution_count": null,
   "id": "7c9bb3b0-37d6-43f2-a25b-2d61bb9d64bc",
   "metadata": {},
   "outputs": [],
   "source": [
    "wholes = glob('/Users/amirhsi_mini/analysis/N2000D30.0ac4.0-bug-wholeSim/N*.npy')\n",
    "wholes.sort()\n",
    "for whole in wholes:\n",
    "    whole_data = np.load(whole)\n",
    "    if len(whole_data) != 300001:\n",
    "        print(whole)\n",
    "        whole_sliced = whole_data[:300001]\n",
    "        print(len(whole_sliced))\n",
    "        np.save(whole,whole_sliced)"
   ]
  },
  {
   "cell_type": "code",
   "execution_count": null,
   "id": "9a61ef5e-df3c-455d-a663-7d701cf0ec84",
   "metadata": {},
   "outputs": [],
   "source": [
    "gyr1 =np.load(segments[0])\n",
    "print(len(gyr1))\n",
    "print(gyr1)\n",
    "gyr2 =np.load(segments[1])\n",
    "print(len(gyr2))\n",
    "print(gyr2)\n",
    "gyr3 =np.load(segments[2])\n",
    "print(len(gyr3))\n",
    "print(gyr3)"
   ]
  },
  {
   "cell_type": "code",
   "execution_count": null,
   "id": "86f2aed2-8683-443f-849e-2a22cac54143",
   "metadata": {},
   "outputs": [],
   "source": [
    "gyr3"
   ]
  },
  {
   "cell_type": "code",
   "execution_count": null,
   "id": "e0dde3fc-51ad-40cd-a3c0-992325b37e01",
   "metadata": {},
   "outputs": [],
   "source": [
    "3e8 / 100 + 1 "
   ]
  },
  {
   "cell_type": "code",
   "execution_count": null,
   "id": "bd8d57e3-6675-459f-90d1-63f62b69ddce",
   "metadata": {},
   "outputs": [],
   "source": []
  }
 ],
 "metadata": {
  "kernelspec": {
   "display_name": "Python 3.9.10 ('polyLab')",
   "language": "python",
   "name": "python3910jvsc74a57bd06cf582efbfbdef60505769a313a3ca49eebfd77179e86f4387bd11d254c0a990"
  },
  "language_info": {
   "codemirror_mode": {
    "name": "ipython",
    "version": 3
   },
   "file_extension": ".py",
   "mimetype": "text/x-python",
   "name": "python",
   "nbconvert_exporter": "python",
   "pygments_lexer": "ipython3",
   "version": "3.9.10"
  }
 },
 "nbformat": 4,
 "nbformat_minor": 5
}
