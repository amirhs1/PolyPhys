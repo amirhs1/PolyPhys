{
 "cells": [
  {
   "cell_type": "code",
   "execution_count": 1,
   "metadata": {
    "colab": {},
    "colab_type": "code",
    "id": "C_CLXSgvVO_9"
   },
   "outputs": [],
   "source": [
    "# Importing necessary packages:\n",
    "import re\n",
    "import os\n",
    "from glob import glob\n",
    "import math\n",
    "import numpy as np\n",
    "import datetime\n",
    "import pandas as pd\n",
    "import datetime as dt\n",
    "\n",
    "import matplotlib.pyplot as plt\n",
    "import matplotlib.colors as colors\n",
    "import matplotlib as mpl\n",
    "from matplotlib import rcParams, cycler\n",
    "import matplotlib.lines as lines\n",
    "from collections import OrderedDict\n",
    "from matplotlib.legend import Legend\n",
    "import matplotlib.patches as mpatches\n",
    "import matplotlib.lines as mlines\n",
    "from matplotlib.collections import PolyCollection # for chaing confidence interval color in statsmodels.graphics.tsaplots.plot_acf\n",
    "\n",
    "import seaborn as sns\n",
    "\n",
    "import scipy.integrate as integrate\n",
    "import scipy.special as special\n",
    "\n",
    "import scipy.signal as signal\n",
    "\n",
    "import statsmodels.tsa.stattools as tsas\n",
    "import statsmodels.graphics.tsaplots as tsap\n",
    "\n",
    "from dask.distributed import Client\n",
    "from dask import delayed\n",
    "from dask import compute\n",
    "\n",
    "from PipeLine import *"
   ]
  },
  {
   "cell_type": "markdown",
   "metadata": {},
   "source": [
    "### Chain size vs $\\phi_c$: 2021"
   ]
  },
  {
   "cell_type": "code",
   "execution_count": null,
   "metadata": {},
   "outputs": [],
   "source": [
    "parent = '/Users/amirhsi_mini/analysis/'\n",
    "properties_path = \"all_in_one-properties-ens_avg-normalized.csv\"\n",
    "properties = pd.read_csv(parent+properties_path,header=0)"
   ]
  },
  {
   "cell_type": "code",
   "execution_count": null,
   "metadata": {},
   "outputs": [],
   "source": [
    "# chain size plot\n",
    "fontsize=20\n",
    "properties_phi_c_trunc = properties[properties['phi_c_bulk_eff']<=0.4]\n",
    "PipeLine.chainsize_plot(properties_phi_c_trunc, \"phi_c_bulk\", fontsize=fontsize)\n",
    "PipeLine.chainsize_plot(properties_phi_c_trunc, \"phi_c_bulk_eff\", fontsize=fontsize)\n",
    "PipeLine.chainsize_plot(properties_phi_c_trunc, \"phi_c_bulk_normalized\", fontsize=fontsize)\n",
    "PipeLine.chainsize_plot(properties_phi_c_trunc, \"phi_c_bulk_eff_normalized\", fontsize=fontsize)"
   ]
  },
  {
   "cell_type": "markdown",
   "metadata": {},
   "source": [
    "### The local distributions"
   ]
  },
  {
   "cell_type": "code",
   "execution_count": null,
   "metadata": {},
   "outputs": [],
   "source": [
    "#direction_name = 'radial'\n",
    "parent = '/Users/amirhsi_mini/analysis/'\n",
    "simulation_type = 'all' # all or bug\n",
    "attribute = 'distributions'\n",
    "direction_name = 'radial'\n",
    "direction = 'r'\n",
    "dist_name = 'phi'\n",
    "y_norm = '_norm'\n",
    "x_norm_mon = ''#'_mon'\n",
    "x_norm_crd = ''#'_crd'\n",
    "distributions = pd.read_csv(parent+'all_in_one-'+simulation_type+'-'+attribute+'-'+direction_name+'-ens_avg.csv',index_col=0)\n",
    "group_names = list(set(distributions.group_name))\n",
    "sns.set_context('paper')\n",
    "sns.set_style(\"ticks\")\n",
    "for group_name in group_names:\n",
    "    group = distributions[(distributions.group_name==group_name )& (distributions.phi_c_bulk != 0)]\n",
    "    fig, axes = plt.subplots(nrows=2,ncols=1,figsize=(16,12))\n",
    "    sns.lineplot(x=direction+'_norm'+x_norm_mon, y=dist_name+\"_mon_\"+direction+y_norm, hue='phi_c_bulk', data=group,ax=axes[0],legend='full')\n",
    "    sns.lineplot(x=direction+'_norm'+x_norm_crd, y=dist_name+\"_crd_\"+direction+y_norm, hue='phi_c_bulk', data=group,ax=axes[1],legend='full')\n",
    "    fname = group_name+'-'+dist_name+'-'+direction+\".pdf\"\n",
    "    plt.savefig(fname, dpi=200)\n",
    "    plt.close()"
   ]
  },
  {
   "cell_type": "markdown",
   "metadata": {},
   "source": [
    "### The sum rule"
   ]
  },
  {
   "cell_type": "code",
   "execution_count": null,
   "metadata": {},
   "outputs": [],
   "source": [
    "parent = '/Users/amirhsi_mini/analysis/'\n",
    "simulation_type = 'all' # all or bug\n",
    "attribute = 'distributions'\n",
    "direction_name = 'radial'\n",
    "direction = 'r'\n",
    "dist_name = 'phi'\n",
    "y_norm = '_norm'\n",
    "x_norm_mon = ''#'_mon'\n",
    "x_norm_crd = ''#'_crd'\n",
    "distributions = pd.read_csv(parent+'all_in_one-'+simulation_type+'-'+attribute+'-'+direction_name+'-ens_avg.csv',index_col=0)\n",
    "group_names = list(set(distributions.group_name))\n",
    "sns.set_context('paper')\n",
    "sns.set_style(\"ticks\")\n",
    "for group_name in group_names:\n",
    "    group = distributions[distributions.group_name==group_name]\n",
    "    fig, axes = plt.subplots(nrows=2,ncols=1,figsize=(16,12))\n",
    "    sns.lineplot(x=direction+'_norm'+x_norm_mon, y=dist_name+\"_sumrule_\"+direction, hue='phi_c_bulk', data=group,ax=axes[0],legend='full')\n",
    "    sns.lineplot(x=direction+'_norm'+x_norm_crd, y=dist_name+\"_sumrule_\"+direction+'_norm', hue='phi_c_bulk', data=group,ax=axes[1],legend='full')\n",
    "    fname = group_name+'-sum_rule-'+dist_name+'-'+direction+\".pdf\"\n",
    "    plt.savefig(fname,dpi=200)\n",
    "    plt.close()"
   ]
  },
  {
   "cell_type": "code",
   "execution_count": null,
   "metadata": {},
   "outputs": [],
   "source": [
    "def truncated_colormap(cmap, min_value=0.0, max_value=1.0, ncolors=200):\n",
    "    \"\"\"\n",
    "    creates a linear segmented color map from a given color map between a pair min and max values into n points. This function allows the user to created discrete color maps from contiunous ones.\n",
    "    \n",
    "    Parameters:\n",
    "    cmap : an equidistantly (matplotlib or seaborn) color map in the range [0,1] where i.e. 0 maps to colors[0] and 1 maps to colors[-1] of the colors in the cmap.\n",
    "    min_value (float): The minimum value of the truncated cmap in the range [0,1]\n",
    "    max_value (float): The maximum value of the truncated cmap in the range [0,1]\n",
    "    ncolors (int): Number of the colors in the truncated cmap.\n",
    "    \n",
    "    Return:\n",
    "    A truncated color map.\n",
    "    \n",
    "    Requirements:\n",
    "    matplotlib, numpy\n",
    "    \"\"\"\n",
    "    return colors.LinearSegmentedColormap.from_list(f'trunc({cmap.name},{min_value},{max_value})', cmap(np.linspace(min_value, max_value, ncolors)))"
   ]
  },
  {
   "cell_type": "code",
   "execution_count": null,
   "metadata": {},
   "outputs": [],
   "source": [
    "#cmap = matplotlib.colors.LinearSegmentedColormap.from_list(\"\", [\"brown\", \"pink\", \"limegreen\"])\n",
    "flar_cmap = mpl.colors.ListedColormap(sns.cm._flare_lut)\n",
    "flare_cmap_cut = truncate_colormap(flar_cmap, 0.5, 1.0, n=15)\n",
    "mpl.cm.register_cmap(\"flare_cmap_cut\", flare_cmap_cut)\n",
    "binary_cmap = plt.get_cmap('binary')\n",
    "binary_cmap_cut = truncate_colormap(binary_cmap, 0, 1, n=15)\n",
    "mpl.cm.register_cmap(\"binary_cmap_cut\", binary_cmap_cut)"
   ]
  },
  {
   "cell_type": "code",
   "execution_count": null,
   "metadata": {},
   "outputs": [],
   "source": [
    "sns.color_palette(\"flare_cmap_cut\", 15)"
   ]
  },
  {
   "cell_type": "code",
   "execution_count": null,
   "metadata": {},
   "outputs": [],
   "source": [
    "sumrule_information = {\n",
    "    'r' :\n",
    "    {'direction_name':'radial',\n",
    "     'xlabel':r'${2r}/{D}$',\n",
    "     'legend_loc':'lower left',\n",
    "     'legend_nloc':1},\n",
    "    'z' : \n",
    "    {'direction_name':'longitudinal',\n",
    "     'xlabel':r'${2z}/{z_{max}}$',\n",
    "     'legend_loc':'lower left',\n",
    "     'legend_nloc':1}\n",
    "}\n",
    "def plot_type_infomation(plot_type, direction):\n",
    "    plot_type_dict = {\n",
    "        'mon':{\n",
    "            'yname':'mon',\n",
    "            'ylabel':r'$\\phi_m('+direction+')}{a_m}$'\n",
    "\n",
    "        },\n",
    "        'crd':{\n",
    "            'yname':'crd',\n",
    "            'ylabel':r'$\\phi_c('+direction+')}{a_c}$'\n",
    "        },\n",
    "        'sumrule':{\n",
    "            'yname':'sumrule',\n",
    "            'ylabel':r'$\\sum\\frac{\\phi_i('+direction+')}{a_i}$'\n",
    "        }\n",
    "    }\n",
    "    return plot_type_dict[plot_type]"
   ]
  },
  {
   "cell_type": "code",
   "execution_count": null,
   "metadata": {},
   "outputs": [],
   "source": [
    "direction = 'z'\n",
    "plot_type = 'sumrule'\n",
    "dist_name = 'phi'\n",
    "x_norm_mon = ''#'_mon'\n",
    "x_norm_crd = ''#'_crd'\n",
    "plot_type_dict = plot_type_infomation(plot_type, direction)\n",
    "#plot_type = '_sumrule_' #'_crd_', '_mon_', 'sumrule'\n",
    "parent = '/Users/amirhsi_mini/analysis/'\n",
    "simulation_type = 'all' # all or bug\n",
    "attribute = 'distributions'\n",
    "direction_name = 'longitudinal'\n",
    "y_norm = '_norm'\n",
    "distributions = pd.read_csv(parent+'all_in_one-'+simulation_type+'-'+attribute+'-'+direction_name+'-ens_avg.csv',index_col=0)\n",
    "distributions = distributions.round({\"phi_c_bulk\":3})\n",
    "group_names = list(set(distributions.group_name))\n",
    "compression_rates = {}\n",
    "for group_name in group_names:\n",
    "    group_attributes = PipeLine.cellAttributes(group_name,'cylindrical',cell_type='group',warning=False)\n",
    "    compression_rates[group_name]  = round(group_attributes.dcrowd/(group_attributes.dcyl-group_attributes.dcrowd),2)\n",
    "compression_rates = dict(sorted(compression_rates.items(), key=lambda item: item[1]))\n",
    "compression_rate_colors = sns.color_palette(\"binary_cmap_cut\", len(group_names))#,as_cmap=True)\n",
    "\n",
    "phi_c = list(set(distributions.phi_c_bulk))\n",
    "phi_c = [0.1, 0.15, 0.2, 0.225, 0.25, 0.275, 0.3, 0.325, 0.35, 0.375, 0.4]\n",
    "#phi_c_colors = sns.color_palette(\"PuRd\", len(phi_c))#,as_cmap=True)\n",
    "phi_c_colors = sns.color_palette(\"flare_cmap_cut\", len(phi_c))#,as_cmap=True)\n",
    "sns.set_context('paper')\n",
    "sns.set_style(\"white\")\n",
    "if plot_type == 'sumrule':\n",
    "    fig, axes = plt.subplots(nrows=4,ncols=3,figsize=(16,12),sharey=True)\n",
    "else:\n",
    "    fig, axes = plt.subplots(nrows=4,ncols=3,figsize=(16,12), sharey=True)#'row')\n",
    "fontsize = 16\n",
    "for idx, (group_name, ax) in enumerate(zip(compression_rates.keys(),axes.flat)):\n",
    "    group_attributes =PipeLine.cellAttributes(group_name,'cylindrical',cell_type='group',warning=False)\n",
    "    group = distributions[(distributions.group_name==group_name) & (distributions.phi_c_bulk!=0.0)]\n",
    "    group_sumrule_rhd = distributions[(distributions.group_name==group_name) & (distributions.phi_c_bulk==0.0)]\n",
    "    #ax.set_facecolor('gainsboro')\n",
    "    ax.set_facecolor(compression_rate_colors[idx])\n",
    "    #if  plot_type== 'sumrule':\n",
    "    ax.plot(group_sumrule_rhd[direction+'_norm'+x_norm_crd], group_sumrule_rhd[dist_name+\"_\"+direction+'_uniform_sum_norm'],c='blue',ls='-')\n",
    "    ax.grid(True,ls=':',lw=0.75,c='green')\n",
    "    ax.tick_params(axis ='both',direction='inout',width=1,labelsize=fontsize-2,color='black')\n",
    "    if plot_type != 'sumrule':\n",
    "        if direction == 'r':\n",
    "            #if idx > 5:\n",
    "             #   PipeLine.yticks(ax,(0.0,2.5,0.25,0.05),code=True,fontsize=fontsize-2)\n",
    "            #else : \n",
    "            if plot_type == 'crd':\n",
    "                PipeLine.yticks(ax,(0.0,2.5,0.25,0.05),code=True,fontsize=fontsize-2)\n",
    "            else :\n",
    "                PipeLine.yticks(ax,(0.0,1.2,0.2,0.04),code=True,fontsize=fontsize-2)\n",
    "            PipeLine.xticks(ax,(0.0,1,0.2,0.02),code=True,fontsize=fontsize-2)\n",
    "        if direction == 'z':\n",
    "            if plot_type == 'crd':\n",
    "                pass\n",
    "                #yticks(ax,(0.6,1.0,0.1,0.02),code=True,fontsize=fontsize-2)\n",
    "            else:\n",
    "                PipeLine.yticks(ax,(0.0,1.0,0.2,0.04),code=True,fontsize=fontsize-2)\n",
    "            PipeLine.xticks(ax,(-1.0,1,0.2,0.04),code=True,fontsize=fontsize-2)\n",
    "    ax.set_title(r\"$({}):D={},a_c={},\\kappa={}$\".format(idx+1, group_attributes.dcyl,group_attributes.dcrowd,compression_rates[group_name]),fontsize=fontsize+2)\n",
    "   \n",
    "    ax = sns.lineplot(x=direction+'_norm'+x_norm_crd, y=dist_name+'_'+plot_type_dict['yname']+'_'+direction+'_norm', hue='phi_c_bulk', data=group,ax=ax,palette=phi_c_colors,legend=False)\n",
    "    ax.set_ylabel(plot_type_dict['ylabel'],fontsize=fontsize+1)\n",
    "    ax.set_xlabel(sumrule_information[direction]['xlabel'],fontsize=fontsize)\n",
    "    \n",
    "    \n",
    "phi_c_patches = PipeLine.color_patcher(phi_c_colors)\n",
    "phi_c_legend = Legend(axes[1,2],handles=phi_c_patches,labels= phi_c,title=r'$\\phi_c^{(bulk)}$ (line color)',ncol=sumrule_information[direction]['legend_nloc'],\n",
    "                      title_fontsize=fontsize-2,fontsize=fontsize-4,framealpha=None,frameon=True,loc=sumrule_information[direction]['legend_loc'],bbox_to_anchor=(1.05,-0.02),edgecolor='black')\n",
    "axes[1,2].add_artist(phi_c_legend)\n",
    "compression_rates_patches = PipeLine.color_patcher(compression_rate_colors)\n",
    "compression_rate_legend = Legend(axes[3,2],handles=compression_rates_patches,labels= compression_rates.values(),title=r'$\\kappa$ (background color)',ncol=sumrule_information[direction]['legend_nloc'], title_fontsize=fontsize-2,fontsize=fontsize-4,framealpha=None,frameon=True,loc=sumrule_information[direction]['legend_loc'],bbox_to_anchor=(1.05,-0.02),edgecolor='black')\n",
    "axes[3,2].add_artist(compression_rate_legend)\n",
    "\n",
    "if  plot_type== 'sumrule':\n",
    "    sumrule_rhs_patches = mlines.Line2D([], [], color='blue', lw=2, ls='-', label=r'$\\sum\\frac{\\phi_i}{a_i}=1$')\n",
    "    axes[2,2].legend(handles=[sumrule_rhs_patches],fontsize=fontsize,frameon=True,bbox_to_anchor=(1.5,0.92),edgecolor='black')\n",
    "\n",
    "fname = dist_name+'-'+plot_type+'-'+direction+\".pdf\"\n",
    "fig.tight_layout()\n",
    "plt.savefig(fname,dpi=200,bbox_inches='tight')\n",
    "plt.close()"
   ]
  },
  {
   "cell_type": "markdown",
   "metadata": {},
   "source": [
    "### End-to-end distribution"
   ]
  },
  {
   "cell_type": "code",
   "execution_count": null,
   "metadata": {},
   "outputs": [],
   "source": [
    "#direction_name = 'radial'\n",
    "parent = '/Users/amirhsi_mini/analysis/'\n",
    "simulation_type = 'bug' # all or bug\n",
    "attribute = 'rFloryHists'\n",
    "direction = 'r'\n",
    "y_norm = '_norm'\n",
    "distributions = pd.read_csv(parent+'all_in_one-'+simulation_type+'-'+attribute+'-ens_avg.csv',index_col=0)\n",
    "group_names = list(set(distributions.group_name))\n",
    "sns.set_context('paper')\n",
    "sns.set_style(\"ticks\")"
   ]
  },
  {
   "cell_type": "code",
   "execution_count": null,
   "metadata": {},
   "outputs": [],
   "source": [
    "for group_name in group_names:\n",
    "    group = distributions[(distributions.group_name==group_name )& (distributions.phi_c_bulk != 0)]\n",
    "    fig, axes = plt.subplots(nrows=2,ncols=1,figsize=(16,12))\n",
    "    sns.lineplot(x=direction+'_norm'+x_norm_mon, y=dist_name+\"_mon_\"+direction+y_norm, hue='phi_c_bulk', data=group,ax=axes[0],legend='full')\n",
    "    sns.lineplot(x=direction+'_norm'+x_norm_crd, y=dist_name+\"_crd_\"+direction+y_norm, hue='phi_c_bulk', data=group,ax=axes[1],legend='full')\n",
    "    fname = group_name+'-'+dist_name+'-'+direction+\".pdf\"\n",
    "    plt.savefig(fname,dpi=200)\n",
    "    plt.close()"
   ]
  },
  {
   "cell_type": "markdown",
   "metadata": {},
   "source": [
    "## Chain Size: Flory, Gyr, FSD"
   ]
  },
  {
   "cell_type": "code",
   "execution_count": null,
   "metadata": {},
   "outputs": [],
   "source": [
    "#direction_name = 'radial'\n",
    "database = '/Users/amirhsi_mini/analysis/'\n",
    "file_type = 'all_in_one'\n",
    "simulation_type = 'bug'\n",
    "db_type = 'ens_avg.csv'\n",
    "direction = None\n",
    "acf = pd.read_csv(database + \"-\".join([file_type, simulation_type, \"acf_t\", db_type]), index_col=0)\n",
    "chain_size = pd.read_csv(database + \"-\".join([file_type, simulation_type, \"chain_t\", db_type]), index_col=0)"
   ]
  },
  {
   "cell_type": "markdown",
   "metadata": {},
   "source": [
    "# Chain size vs t"
   ]
  },
  {
   "cell_type": "code",
   "execution_count": null,
   "metadata": {},
   "outputs": [],
   "source": [
    "sns.set_context('paper')\n",
    "sns.set_style(\"ticks\")\n",
    "for group_name in group_names:\n",
    "    group = distributions[(distributions.group_name==group_name)]\n",
    "    fig, axes = plt.subplots(nrows=1,ncols=1,figsize=(16,12))\n",
    "    sns.lineplot(x='time',y=attribute, hue='phi_c_bulk', data=group,ax=axes,legend='full')\n",
    "    fname = group_name+'-'+attribute+\".pdf\"\n",
    "    plt.savefig(fname,dpi=200)\n",
    "    plt.close()"
   ]
  },
  {
   "cell_type": "code",
   "execution_count": null,
   "metadata": {},
   "outputs": [],
   "source": [
    "#direction_name = 'radial'\n",
    "parent = '/Users/amirhsi_mini/analysis/'\n",
    "simulation_type = 'bug' # all or bug\n",
    "attribute = 'gyr_t'\n",
    "direction = None\n",
    "distributions = pd.read_csv(parent+'all_in_one-'+simulation_type+'-'+attribute+'-ens_avg.csv',index_col=0)\n",
    "group_names = list(set(distributions.group_name))\n",
    "sns.set_context('paper')\n",
    "sns.set_style(\"ticks\")\n",
    "for group_name in group_names[:1]:\n",
    "    group = distributions[(distributions.group_name==group_name)]\n",
    "    fig, axes = plt.subplots(nrows=1,ncols=1,figsize=(16,12))\n",
    "    sns.lineplot(x='time',y=attribute, hue='phi_c_bulk', data=group,ax=axes,legend='full')\n",
    "    fname = group_name+'-'+attribute+\".pdf\"\n",
    "    plt.savefig(fname,dpi=200)\n",
    "    plt.close()"
   ]
  },
  {
   "cell_type": "code",
   "execution_count": null,
   "metadata": {},
   "outputs": [],
   "source": [
    "#direction_name = 'radial'\n",
    "parent = '/Users/amirhsi_mini/analysis/'\n",
    "simulation_type = 'bug' # all or bug\n",
    "attribute = 'fsd_t'\n",
    "direction = None\n",
    "distributions = pd.read_csv(parent+'all_in_one-'+simulation_type+'-'+attribute+'-ens_avg.csv',index_col=0)\n",
    "group_names = list(set(distributions.group_name))\n",
    "sns.set_context('paper')\n",
    "sns.set_style(\"ticks\")\n",
    "for group_name in group_names:\n",
    "    group = distributions[(distributions.group_name==group_name)]\n",
    "    fig, axes = plt.subplots(nrows=1,ncols=1,figsize=(16,12))\n",
    "    sns.lineplot(x='time',y=\"fsd_t\", hue='phi_c_bulk', data=group,ax=axes,legend='full')\n",
    "    fname = group_name+'-'+attribute+\".pdf\"\n",
    "    plt.savefig(fname,dpi=200)\n",
    "    plt.close()"
   ]
  },
  {
   "cell_type": "markdown",
   "metadata": {},
   "source": [
    "## Correlation functions"
   ]
  },
  {
   "cell_type": "markdown",
   "metadata": {},
   "source": [
    "### Autocorrelation function (acf):\n",
    "\n",
    "Below, all the several definitions of autocorrelation function (acf) in the literature are listed. Assuming $A(t)$ is a discrete time-varying property of interest and is collected every $M$ timesteps in a molecular dynamics simulation with the time step $\\Delta t$ and time unit $\\tau$. First, we define the mean (or average) and unbiased variance of $A(t)$ as what follows\n",
    "\n",
    "$$\\langle A\\rangle=\\frac{1}{t_{max}}\\sum_{t=1}^{t_{max}}A(t)$$\n",
    "$$\\sigma^2_A=\\langle A^2 \\rangle-\\langle A\\rangle^2=\\frac{1}{t_{max}-1}\\sum_{t=1}^{t_{max}}(A(t)-\\langle A\\rangle)^2$$\n",
    "\n",
    "where $t_{max}$ is the total number of collected cofigurations or timesteps, or simply the size of $A(t)$, implying the total number of simulated timesteps is $t_{max}\\times M$. Given this definition, the acf has been defined in the following ways in the literature:\n",
    "\n",
    "1. Allen and Tildesley define the *non-normalized* acf in \"Computer simulation of liquids - 2017\" as\n",
    "\n",
    "$$c_{AA}(h) = \\frac{1}{h_{max}}\\sum_{h_0=1}^{h_{max}}A(h_0)A(h_0+h)$$\n",
    "\n",
    "where $h_{max}=\\frac{t_{max}-1}{h}$\n",
    "\n",
    "2. *1989 - Murat M Greet GS - Structure of a Grafted Polymer Brush A Molecular Dynamics Simulation* defines the acf in \"Structure of a Grafted Polymer Brush A Molecular Dynamics Simulation - 1989\" as \n",
    "\n",
    "$$c_{AA}(h) =\\frac{\\langle (A(h)-\\langle A \\rangle)(A(0)-\\langle A \\rangle)\\rangle}{\\sigma^2_A}=\\frac{\\langle A(h)A(0)\\rangle-\\langle A \\rangle \\langle A(0) \\rangle}{\\sigma^2_A}$$\n",
    "\n",
    "See the rest of this artciel to see how correlation time is calculated. See the rest of this artciel to see how correlation time is calculated.\n",
    "\n",
    "3. In *1989 - Grest GS Kremer K Witten TA et el - Relaxation of Self-Entangled Many-Arm Star Polymers, 1987 - Grest GS Kremer K Witten TA - Structure of Many-Arm Star Polymers A Molecular Dynamics Simulation, and 1977 - Kranbuehl DE Verdier PH - Relaxation of the aspherical shapes of random-coil polymer chains*, the acf is\n",
    "\n",
    "$$c_{AA}(h) =\\frac{\\langle A(h)A(0)\\rangle-\\langle A \\rangle^2}{\\sigma^2_A}$$\n",
    "\n",
    "where the average is performed over the initial time steps $h=h_0=0$ taken every $K$ timesteps. Kranbuehl and Verdier runs the whole simulation several times the relaxation time of the end-to-end length.\n",
    "\n",
    "4. In *1978 - Rapaport DC - Molecular dynamics simulation of polymer chains with excluded volum, and 1979 - Bishop M Ceperley D Frisch HL - Molecular dynamics of polymeric systems* the afc is given by\n",
    "\n",
    "$$c_{AA}(h) =\\frac{\\langle A(h)A(h_0+h)\\rangle-\\langle A(h_0) \\rangle^2}{\\sigma^2_A(h_0)}$$\n",
    "\n",
    "where\n",
    "\n",
    "$$\\sigma^2_A(h_0)=\\langle A(h_0)^2 \\rangle-\\langle A(h_0)\\rangle^2$$\n",
    "\n",
    "The averaging should be done over ensembles; however, in practice, the ensemble average is replaced by the time average provided that the timesteps or time interval between successvie $h_0$ values are sufficently lagre so the configurations are uncorrelated.\n",
    "\n",
    "5. *1981 - Bruns W Bansal R - Molecular dynamics study of a single polymer chain in solution* defines the afc as \n",
    "\n",
    "$$c_{\\vec{A}\\vec{A}}(h) = \\frac{\\sum_{h_0=1}^{t_{max}-h}\\vec{A}(h_0).\\vec{A}(h_0+h)}{\\sum_{h_0=1}^{t_{max}-h}\\vec{A}^2(h_0)}$$\n",
    "\n",
    "where $\\vec{A}$ is a vector quantity and $h_0$ is summed over $1,1+p,1+2p,\\dots$ instead of $h_0=1,2,3,\\dots,t_{max}-h$. For a scalar quantity, this definition is used:\n",
    "\n",
    "$$c_{AA}(h) = \\frac{(t_{max}-h)\\sum_{h_0=1}^{t_{max}-h}A(h_0)A(h_0+h)-\\sum_{h_0=1}^{t_{max}-h}A(h_0)\\sum_{h_0=1}^{t_{max}-h}A(h_0+h)}{\\sqrt{(t_{max}-h)\\sum_{h_0=1}^{t_{max}-h}A^2(h_0)-[\\sum_{h_0=1}^{t_{max}-h}A^2(h_0)]^2}-\\sqrt{(t_{max}-h)\\sum_{h_0=1}^{t_{max}-h}A^2(h_0+h)-[\\sum_{h_0=1}^{t_{max}-h}A^2(h_0+h)]^2}}=\n",
    "\\frac{\\langle A(h_0)A(h_0+h)\\rangle-\\langle A(h_0)\\rangle\\langle A(h_0+h)\\rangle}{\\sqrt{\\langle A^2(h_0)\\rangle-\\langle A(h_0)\\rangle^2}-\\sqrt{\\langle A^2(h_0+h)\\rangle-\\langle A(h_0+h)\\rangle^2}}$$\n",
    "\n",
    "6. *Brockwell PJ Davis RA - 2016 - Introduction to Time Series and Forecasting* defines the afc in the following way\n",
    "\n",
    "$$c_{AA}(h) = \\frac{cov_{A}(h)}{\\sigma_A^2} = \\frac{1}{\\sigma_A^2}\\frac{1}{t_{max}}\\sum_{h_0=1}^{t_{max}-h} [A(h_0+h)-\\langle A\\rangle][A(h_0)-\\langle A\\rangle]$$\n",
    "\n"
   ]
  },
  {
   "cell_type": "code",
   "execution_count": null,
   "metadata": {},
   "outputs": [],
   "source": [
    "database = '/Users/amirhsi_mini/analysis/'\n",
    "file_type = 'all_in_one'\n",
    "simulation_type = 'bug'\n",
    "db_type = 'ens_avg.csv'\n",
    "direction = None\n",
    "acf = pd.read_csv(database + \"-\".join([file_type, simulation_type, \"acf_t\", db_type]), index_col=0)"
   ]
  },
  {
   "cell_type": "code",
   "execution_count": null,
   "metadata": {},
   "outputs": [],
   "source": [
    "flar_cmap = mpl.colors.ListedColormap(sns.cm._flare_lut)\n",
    "flare_cmap_cut = truncated_colormap(flar_cmap,  min_value=0.0, max_value=1.0, ncolors=200)\n",
    "mpl.cm.register_cmap(\"flare_cmap_cut\", flare_cmap_cut)\n",
    "\n",
    "group_names = acf.group_name.drop_duplicates().sort_values()\n",
    "group_names = sorted(group_names, key = PipeLine.sort_by_int)\n",
    "phi_crds = np.around(np.array(list(set(np.around(acf.phi_c_bulk.drop_duplicates().to_numpy()/0.025,decimals=0)))) * 0.025,decimals=3) # ridiculous!\n",
    "phi_colors = sns.color_palette(\"flare_cmap_cut\", len(phi_crds))#,as_cmap=True)\n",
    "attrs_dict =  {\"rFlory_t\":\n",
    "                    {\"name\": \"the Flory radius\", \"symbol\":r\"$C_{R_FR_F}(\\hat{t})$\", 'color':'firebrick'}, \n",
    "             \"gyr_t\":\n",
    "                    {\"name\": \"the radius of gyration\", \"symbol\":r\"$C_{R_gR_g}(\\hat{t})$\",'color':'steelblue'}, \n",
    "             \"fsd_t\": \n",
    "                    {\"name\": \"the furthermost distance\", \"symbol\":r\"$C_{LL}(\\hat{t})$\",'color':'forestgreen'}}"
   ]
  },
  {
   "cell_type": "markdown",
   "metadata": {},
   "source": [
    "#### ACF with CIs for a group of physical properties"
   ]
  },
  {
   "cell_type": "code",
   "execution_count": null,
   "metadata": {},
   "outputs": [],
   "source": [
    "for group_name in group_names:\n",
    "    acf_group = acf[acf.group_name==group_name]\n",
    "    ens_names = acf_group['ens_name'].drop_duplicates().sort_values()\n",
    "    ens_names = sorted(ens_names, key = PipeLine.sort_by_int) # sorted by number of crowders (volume fraction of crowder)\n",
    "    PipeLine.acf_plot_with_ci(acf_group, ens_names, group_name, attrs_dict, phi_crds)"
   ]
  },
  {
   "cell_type": "markdown",
   "metadata": {},
   "source": [
    "#### ACF of each attribute in all the simulation groups"
   ]
  },
  {
   "cell_type": "code",
   "execution_count": null,
   "metadata": {},
   "outputs": [],
   "source": [
    "for attr, attr_dict in attrs_dict.items():\n",
    "    PipeLine.acf_plot_group(acf, group_names, attr, attr_dict, phi_crds, phi_colors)"
   ]
  },
  {
   "cell_type": "markdown",
   "metadata": {},
   "source": [
    "#### Measuring correlation time"
   ]
  },
  {
   "cell_type": "code",
   "execution_count": null,
   "metadata": {},
   "outputs": [],
   "source": [
    "import scipy.optimize\n",
    "def monoExp(x, m, t, b):\n",
    "    return m * np.exp(-t * x) + b\n",
    "\n",
    "\n"
   ]
  },
  {
   "cell_type": "code",
   "execution_count": null,
   "metadata": {},
   "outputs": [],
   "source": [
    "fig, axes = plt.subplots(1,1)\n",
    "for col in ['gyr_t-acf_only','fsd_t-acf_only', 'rFlory_t-acf_only']:\n",
    "    params, cv = scipy.optimize.curve_fit(monoExp, acf_ens_acf_cut.index, acf_ens_acf_cut[col].values)\n",
    "    m, t, b = params\n",
    "    print(m, t, b)\n",
    "    axes.plot(acf_ens_acf_cut.index, acf_ens_acf_cut[col].values, '.', label=\"data\")\n",
    "    axes.plot(acf_ens_acf_cut.index, monoExp(acf_ens_acf_cut.index, m, t, b), '--', label=\"fitted\")\n",
    "axes.title(\"Fitted Exponential Curve\")\n",
    "\n"
   ]
  },
  {
   "cell_type": "code",
   "execution_count": null,
   "metadata": {},
   "outputs": [],
   "source": [
    "import warnings\n",
    "warnings.filterwarnings('ignore') "
   ]
  },
  {
   "cell_type": "code",
   "execution_count": null,
   "metadata": {},
   "outputs": [],
   "source": [
    "fontsize = 16\n",
    "for group_name in group_names:\n",
    "    print(group_name)\n",
    "    acf_group = acf[(acf.group_name==group_name) & (acf['gyr_t-acf_only'] >= 1/np.e) | (acf['fsd_t-acf_only'] >= 1/np.e) | (acf['rFlory_t-acf_only'] >= 1/np.e)]\n",
    "    ens_names = acf_group['ens_name'].drop_duplicates().sort_values()\n",
    "    ens_names = sorted(ens_names, key = PipeLine.sort_by_int) # sorted by number of crowders (volume fraction of crowder)\n",
    "    #PipeLine.acf_plot_with_ci(acf_group, ens_names, group_name, attrs_dict, phi_crds)\n",
    "    fig, axes = plt.subplots(nrows=4, ncols=3, figsize=(16,12), sharey=True)\n",
    "    mpl.rcParams['font.family'] = \"Times New Roman\"\n",
    "    mpl.rcParams['mathtext.default'] = \"regular\"\n",
    "    for idx, (ax, ens_name, phi_c, color) in enumerate(zip(axes.flat, ens_names, phi_crds, phi_colors)):\n",
    "        ax.axhline(y=0, c='black', ls='--', lw=1)\n",
    "        ax.axhline(y=1/np.e, c='black', ls='-', lw=1,alpha=0.5,label=r'$C_x(t)=e^{-1}$')\n",
    "        ax.legend()\n",
    "        acf_ens = acf_group[acf_group.ens_name==ens_name]\n",
    "        acf_ens.reset_index(inplace=True)\n",
    "        print(acf_ens['gyr_t-acf_only'].head(3))\n",
    "        #acf_ens[['gyr_t-acf_only','fsd_t-acf_only', 'rFlory_t-acf_only']].plot(ax=ax, legend=False, color=color)\n",
    "        ax.grid(True,ls=':', lw=0.75, c='black')\n",
    "        ax.tick_params(axis ='both', direction='inout', width=1, labelsize=fontsize-4, color='black')   \n",
    "        ax.text(0, 0.1, fr'$\\phi_c^{{(bulk)}}={phi_c}$', fontsize=fontsize-2)   \n",
    "        legend_colors = []\n",
    "        legend_labels = []\n",
    "\n",
    "        for attr, attr_dict in attrs_dict.items():\n",
    "            acf_ens[attr+'-acf_only'].plot(ax=ax, color=attr_dict['color'], alpha=0.7)\n",
    "            params, cv = scipy.optimize.curve_fit(monoExp, acf_ens.index, acf_ens[attr+'-acf_only'].values)\n",
    "            m, t, b = params\n",
    "            ax.plot(acf_ens.index, monoExp(acf_ens.index, m, t, b), ':', color=attr_dict['color'])\n",
    "            legend_colors.append(attr_dict['color'])\n",
    "            #legend_colors.append(colors.to_rgba(attr_dict[\"color\"],0.25))\n",
    "            legend_labels.append(attr_dict['symbol'])\n",
    "        \n",
    "        #yticks(ax, ylimits, code=True, fontsize=fontsize-6, decimals=3)\n",
    "        #xticks(ax, (0, lags, 1000), code=True, fontsize=fontsize-6, decimals=3)\n",
    "        if idx % 3 == 0:\n",
    "            ax.set_ylabel(r\"$C(\\hat{t})$\", fontsize=fontsize-2)\n",
    "        if idx >= 9:\n",
    "            ax.set_xlabel(r\"$\\hat{t}=lag\\times {\\Delta t_{sampling}}/{\\tau}$\", fontsize=fontsize-2) \n",
    "    \n",
    "    phi_c_patches = PipeLine.color_patcher(legend_colors)\n",
    "    phi_c_legends = Legend(axes[0,2], handles=phi_c_patches, labels=legend_labels, title='Size measures (colors)', title_fontsize=fontsize-2, fontsize=fontsize-4, framealpha=None, frameon=False, bbox_to_anchor=(1.02,1.02))\n",
    "    axes[0,2].add_artist(phi_c_legends)\n",
    "    \n",
    "    ls_labels = [r\"$a \\times exp(\\frac{\\hat{t}}{\\tau}) + b$\", r'$C_{x}(\\hat{t})=e^{-1}$', r\"$C_{x}(\\hat{t})=0$\"]\n",
    "    ls_c_patches = PipeLine.ls_handler(ls_labels,[':',\"-\",\"--\"])\n",
    "    ls_c_legends = Legend(axes[1,2], handles=ls_c_patches, labels=ls_labels, title='Line Style', title_fontsize=fontsize-2, fontsize=fontsize, framealpha=None, frameon=False, bbox_to_anchor=(1.02,1.02))\n",
    "    axes[1,2].add_artist(ls_c_legends)\n",
    "    \n",
    "    cell_attrs = PipeLine.cellAttributes(group_name, geometry='cylindrical', cell_type=None, warning=False)\n",
    "    fig.suptitle(fr\"the ACF plot and their associated exponential fits for $C_{{x}}(\\hat{{t}})<e^{{-1}}$ in a system with $N={cell_attrs.nmon}$, $D={cell_attrs.dcyl}$, $a={cell_attrs.dcrowd}$.\",fontsize=fontsize+2)\n",
    "    fname = \"acf-exp_fit-\"+group_name+\".\"+'pdf'\n",
    "    fig.tight_layout()\n",
    "    plt.savefig(fname, bbox_inches='tight')\n",
    "    plt.close()\n",
    "    "
   ]
  },
  {
   "cell_type": "code",
   "execution_count": null,
   "metadata": {},
   "outputs": [],
   "source": []
  }
 ],
 "metadata": {
  "colab": {
   "name": "pipeline_v4.ipynb",
   "provenance": [],
   "version": "0.3.2"
  },
  "kernelspec": {
   "display_name": "Python 3 (ipykernel)",
   "language": "python",
   "name": "python3"
  },
  "language_info": {
   "codemirror_mode": {
    "name": "ipython",
    "version": 3
   },
   "file_extension": ".py",
   "mimetype": "text/x-python",
   "name": "python",
   "nbconvert_exporter": "python",
   "pygments_lexer": "ipython3",
   "version": "3.8.12"
  }
 },
 "nbformat": 4,
 "nbformat_minor": 4
}
