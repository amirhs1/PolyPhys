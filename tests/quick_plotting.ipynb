{
 "cells": [
  {
   "cell_type": "code",
   "execution_count": null,
   "id": "d316f023-b90f-4ed6-88fd-6c7a253c0104",
   "metadata": {},
   "outputs": [],
   "source": [
    "from glob import glob\n",
    "import pandas as pd\n",
    "import numpy as np\n",
    "import seaborn as sns\n",
    "import matplotlib.pyplot as plt"
   ]
  },
  {
   "cell_type": "code",
   "execution_count": null,
   "id": "cfa22174-eaf1-47c4-bdc6-d3cc9ac6c778",
   "metadata": {},
   "outputs": [],
   "source": [
    "files = glob('/Users/amirhsi_mini/probe/N500D10.0ac0.8-segment/N*/N*bug*')\n",
    "files.sort()\n",
    "files"
   ]
  },
  {
   "cell_type": "code",
   "execution_count": null,
   "id": "31a6a6b5-6073-41e0-a896-c98d8e79cddc",
   "metadata": {},
   "outputs": [],
   "source": [
    "asphericity1 = np.load(files[0])\n",
    "asphericity2 = np.load(files[9])\n",
    "plt.plot(asphericity1, c='blue')\n",
    "plt.plot(asphericity2, c='orange')\n",
    "plt.show()"
   ]
  },
  {
   "cell_type": "code",
   "execution_count": null,
   "id": "cf1a8c16-f314-49ca-b5fa-42946d1f1eed",
   "metadata": {},
   "outputs": [],
   "source": [
    "fsd1 = np.load(files[1])\n",
    "fsd2 = np.load(files[10])\n",
    "plt.plot(fsd1, c='blue')\n",
    "plt.plot(fsd2, c='orange')\n",
    "plt.show()"
   ]
  },
  {
   "cell_type": "code",
   "execution_count": null,
   "id": "d5135541-5b79-42b1-952e-be5072f580fb",
   "metadata": {},
   "outputs": [],
   "source": [
    "gyr1 = np.load(files[2])\n",
    "gyr2 = np.load(files[11])\n",
    "plt.plot(gyr1, c='blue')\n",
    "plt.plot(gyr2, c='orange')\n",
    "plt.show()"
   ]
  },
  {
   "cell_type": "code",
   "execution_count": null,
   "id": "2be71d46-b280-4a14-ab04-93645f065644",
   "metadata": {},
   "outputs": [],
   "source": [
    "shape1 = np.load(files[7])\n",
    "shape2 = np.load(files[15])\n",
    "plt.plot(shape1, c='blue')\n",
    "plt.plot(shape2, c='orange')\n",
    "plt.show()"
   ]
  },
  {
   "cell_type": "code",
   "execution_count": null,
   "id": "1c0b051f-4544-48e7-97f2-6ea0659ae0e4",
   "metadata": {},
   "outputs": [],
   "source": []
  }
 ],
 "metadata": {
  "kernelspec": {
   "display_name": "Python 3.9.10 ('polyLab')",
   "language": "python",
   "name": "python3910jvsc74a57bd06cf582efbfbdef60505769a313a3ca49eebfd77179e86f4387bd11d254c0a990"
  },
  "language_info": {
   "codemirror_mode": {
    "name": "ipython",
    "version": 3
   },
   "file_extension": ".py",
   "mimetype": "text/x-python",
   "name": "python",
   "nbconvert_exporter": "python",
   "pygments_lexer": "ipython3",
   "version": "3.9.10"
  }
 },
 "nbformat": 4,
 "nbformat_minor": 5
}
