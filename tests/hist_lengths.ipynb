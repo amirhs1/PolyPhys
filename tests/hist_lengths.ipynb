{
 "cells": [
  {
   "cell_type": "code",
   "execution_count": null,
   "id": "99e4d14c-f6e9-4154-a69e-32570bfdcd5e",
   "metadata": {},
   "outputs": [],
   "source": [
    "from glob import glob\n",
    "import pandas as pd\n",
    "import os\n",
    "import numpy as np\n",
    "from pathlib import Path\n",
    "from PipeLine import *"
   ]
  },
  {
   "cell_type": "code",
   "execution_count": null,
   "id": "5d4aa5af-fd19-476f-917f-3f3dda3708fa",
   "metadata": {},
   "outputs": [],
   "source": [
    "database = '/Users/amirhsi_mini/trjs_extractions/'\n",
    "all_groups = glob(database+\"N*_all/\")\n",
    "geometry = 'cylindrical'\n",
    "parent_dir = \"trjs_analysis_segments_binsize_0.4\"\n",
    "simulation_type = 'all' # bug or all\n",
    "geometry = 'cylindrical'\n",
    "group_lengths_crd = {}\n",
    "for group in all_groups: # run over all simulations in all the groups\n",
    "    sim_files = glob(group+\"/N*/N*.csv\")\n",
    "    group_name = group.split(\"/\")[-2].split('-')[0]\n",
    "    segments = PipeLine.file_reader(sim_files,extensions=['_zHistsCrd.csv','_zEdgesCrd.csv'])\n",
    "    group_lengths_crd[group_name]={'edge':[],'freq':[]}\n",
    "    for segment in segments:\n",
    "        seg_array = np.loadtxt(segment[0])\n",
    "        seg_shape = seg_array.shape\n",
    "        group_lengths_crd[group_name]['freq'].append(seg_shape[0])\n",
    "        seg_array = np.loadtxt(segment[1])\n",
    "        seg_shape = seg_array.shape\n",
    "        group_lengths_crd[group_name]['edge'].append(seg_shape[0])\n",
    "        \n",
    "group_stats = {}\n",
    "for group, group_size in group_lengths_crd.items():\n",
    "    group_stats[group] = {'edge':set(group_size['edge']),'freq':set(group_size['freq'])}\n",
    "    print(group,';', group_stats[group])"
   ]
  }
 ],
 "metadata": {
  "kernelspec": {
   "display_name": "Python 3 (ipykernel)",
   "language": "python",
   "name": "python3"
  },
  "language_info": {
   "codemirror_mode": {
    "name": "ipython",
    "version": 3
   },
   "file_extension": ".py",
   "mimetype": "text/x-python",
   "name": "python",
   "nbconvert_exporter": "python",
   "pygments_lexer": "ipython3",
   "version": "3.8.12"
  }
 },
 "nbformat": 4,
 "nbformat_minor": 5
}
