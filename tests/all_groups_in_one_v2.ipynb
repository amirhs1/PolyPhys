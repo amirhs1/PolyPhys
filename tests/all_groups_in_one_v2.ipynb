{
 "cells": [
  {
   "cell_type": "code",
   "execution_count": null,
   "id": "e922ca2c-02a9-4be1-8c28-ad36c4d47dce",
   "metadata": {},
   "outputs": [],
   "source": [
    "from glob import glob\n",
    "from PipeLine import *\n",
    "import pandas as pd\n",
    "import numpy as np\n",
    "\n",
    "from functools import reduce\n",
    "\n",
    "import statsmodels.tsa.stattools as tsas\n",
    "import statsmodels.graphics.tsaplots as tsap"
   ]
  },
  {
   "cell_type": "code",
   "execution_count": null,
   "id": "7ed2f5d1-d726-4ff1-99f1-881495348e57",
   "metadata": {},
   "outputs": [],
   "source": [
    "%%time\n",
    "# distributions:\n",
    "database = '/Users/amirhsi_mini/analysis/'\n",
    "dist_db= database+\"/N*-all-analysis-ens_avg/N*.csv\"\n",
    "properties_db  = database+'all_in_one-properties-ens_avg-normalized.csv'\n",
    "simulation_type = 'all'\n",
    "geometry='cylindrical'\n",
    "radial_dists = PipeLine.generator_dist_all_in_one(dist_db, properties_db, simulation_type, geometry, 'radial')\n",
    "longitudinal_dists = PipeLine.generator_dist_all_in_one(dist_db, properties_db, simulation_type, geometry, 'longitudinal')"
   ]
  },
  {
   "cell_type": "code",
   "execution_count": null,
   "id": "885f251f-a194-4d59-910e-dc6657ed76f9",
   "metadata": {},
   "outputs": [],
   "source": [
    "%%time\n",
    "from dask.distributed import Client\n",
    "from dask import delayed\n",
    "from dask import compute\n",
    "client = Client(n_workers=2, threads_per_worker=1, silence_logs=1)\n",
    "client\n",
    "database = '/Users/amirhsi_mini/analysis/'\n",
    "prop_path= database+\"/N*-bug-analysis-ens_avg\"\n",
    "properties_db  = database+'all_in_one-properties-ens_avg-normalized.csv'\n",
    "simulation_type = 'bug'\n",
    "geometry='cylindrical'\n",
    "analysis_delayed = []\n",
    "attrs_dict = {'rFloryHists': 'r', 'rHists': 'r', 'zHists': 'z','thetaHists': 'theta','rPhis' : 'r',\n",
    "              'zPhis': 'z','rRhos': 'r', 'zRhos': 'z'}\n",
    "for attr, direction in attrs_dict.items():\n",
    "    analysis = delayed(PipeLine.all_in_one_properties)(prop_path, attr, properties_db, simulation_type, geometry, direction = direction)\n",
    "    analysis_delayed.append(analysis)\n",
    "results = compute(analysis_delayed)"
   ]
  },
  {
   "cell_type": "code",
   "execution_count": null,
   "id": "67d148ef-46be-45fc-9fda-8e8bc629c0fe",
   "metadata": {},
   "outputs": [],
   "source": [
    "%%time\n",
    "## for a a loop with one core, it takes ~ 4 min\n",
    "## This does NOT work with more than 2 workers.\n",
    "database = '/Users/amirhsi_mini/analysis/'\n",
    "prop_path= database+\"/N*-bug-analysis-ens_avg\"\n",
    "properties_db  = database+'all_in_one-properties-ens_avg-normalized.csv'\n",
    "simulation_type = 'bug'\n",
    "geometry='cylindrical'\n",
    "#attrs_dict = {'fsd_t': None, 'gyr_t': None, 'rFlory_t': None}\n",
    "attrs_dict = {'fsd_t-acf_ci_lower': None, 'gyr_t-acf_ci_lower': None, 'rFlory_t-acf_ci_lower': None, 'fsd_t-acf_ci_upper': None, 'gyr_t-acf_ci_upper': None, 'rFlory_t-acf_ci_upper': None, 'fsd_t-acf_only': None, 'gyr_t-acf_only': None, 'rFlory_t-acf_only': None}\n",
    "for attr, direction in attrs_dict.items():\n",
    "    _ = PipeLine.all_in_one_properties(prop_path, attr, properties_db, simulation_type, geometry, direction = None)"
   ]
  },
  {
   "cell_type": "code",
   "execution_count": null,
   "id": "bb773ab7-401e-49b3-86ab-1ad5e49b353b",
   "metadata": {},
   "outputs": [],
   "source": [
    "merging_cols = ['time', 'nmon', 'dcyl', 'dcrowd', 'phi_c_bulk', 'phi_c_bulk_eff', 'ens_name', 'group_name']\n",
    "attrs_names = attrs_dict.keys() # change this to use.\n",
    "database = '/Users/amirhsi_mini/analysis/'\n",
    "file_type = 'all_in_one'\n",
    "simulation_type = 'bug'\n",
    "db_type = 'ens_avg.csv'\n",
    "dfs_to_be_merged = []\n",
    "for attr in attrs_names:\n",
    "    df_name = database + \"-\".join([file_type, simulation_type, attr, db_type])\n",
    "    df = pd.read_csv(df_name, index_col=0)\n",
    "    dfs_to_be_merged.append(df)\n",
    "df_merged = reduce(lambda  left, right: pd.merge(left, right, on=merging_cols), dfs_to_be_merged)\n",
    "df_merged.to_csv(database+\"-\".join([file_type, simulation_type, \"acf_t\", db_type]))"
   ]
  },
  {
   "cell_type": "code",
   "execution_count": null,
   "id": "68cb4364-e6b9-4bf8-aba6-445f58db7391",
   "metadata": {},
   "outputs": [],
   "source": [
    "merge_dfs(attrs_names.keys, merging_cols)"
   ]
  }
 ],
 "metadata": {
  "kernelspec": {
   "display_name": "Python 3 (ipykernel)",
   "language": "python",
   "name": "python3"
  },
  "language_info": {
   "codemirror_mode": {
    "name": "ipython",
    "version": 3
   },
   "file_extension": ".py",
   "mimetype": "text/x-python",
   "name": "python",
   "nbconvert_exporter": "python",
   "pygments_lexer": "ipython3",
   "version": "3.8.12"
  }
 },
 "nbformat": 4,
 "nbformat_minor": 5
}
