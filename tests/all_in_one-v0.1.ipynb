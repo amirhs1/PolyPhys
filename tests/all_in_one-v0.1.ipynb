{
 "cells": [
  {
   "cell_type": "markdown",
   "id": "337ba9e1",
   "metadata": {},
   "source": [
    "# AllInOne Files\n",
    "\n",
    "#### Faking nc=0 for some spaces:\n",
    "\n",
    "Faking is done at the **ens** and **ensAvg** levels (and directories) not at the **segment** and **whole** levles, so the **segment stamps** are not modified byt the **whole** and **ens** ones are modified.\n",
    "\n",
    "#### Naming convention:\n",
    "\n",
    "This is the pattern of file or directory names:\n",
    "\n",
    "1. **whole** files: whole-group-property_[-measure][-stage][.ext]\n",
    "2. **ensemble** files: ensemble-group-property_[-measure][-stage][.ext]\n",
    "3. **ensemble_long** files: ensemble_long-group-property_[-measure][-stage][.ext]\n",
    "4. **space** files: space-group-property_[-measure][-stage][.ext]\n",
    "5. **all in one** files: **allInOne**-group-property_[-measure][-stage][.ext]\n",
    "\n",
    "[keyword] means that the keyword in the file name is option. [-measure] is a physical measurement such as the auto correlation function (AFC) done on the physical 'property_'.\n",
    "\n",
    "#### Imports"
   ]
  },
  {
   "cell_type": "code",
   "execution_count": null,
   "id": "5107e38a",
   "metadata": {},
   "outputs": [],
   "source": [
    "# settings for testing and running on a PC.\n",
    "from glob import glob\n",
    "import pathlib\n",
    "import pandas as pd\n",
    "import numpy as np\n",
    "import math\n",
    "import re\n",
    "from polyphys.manage import organizer\n",
    "from polyphys.manage.parser import SumRule\n",
    "from polyphys.analyze import analyzer\n",
    "from polyphys.analyze import distributions\n",
    "import MDAnalysis as mda\n",
    "import seaborn as sns\n",
    "import matplotlib.pyplot as plt"
   ]
  },
  {
   "cell_type": "markdown",
   "id": "9edb9e42",
   "metadata": {},
   "source": [
    "#### Configurations for loading files"
   ]
  },
  {
   "cell_type": "code",
   "execution_count": null,
   "id": "e357b5ab",
   "metadata": {},
   "outputs": [],
   "source": [
    "# list of unique property_measures:\n",
    "database = '/Users/amirhsi_mini/analysis/'\n",
    "bug_property_measures = glob(database+\"/N*-ensAvg\"+\"/N*.csv\")\n",
    "bug_property_measures = list(set([\"-\".join(property_measure.split(\"/\")[-1].split(\".csv\")[0] .split(\"-\")[2:]) for property_measure in bug_property_measures]))\n",
    "bug_property_measures.remove(\"stamps-ensAvg\")\n",
    "bug_property_measures.sort()"
   ]
  },
  {
   "cell_type": "markdown",
   "id": "262003e6",
   "metadata": {},
   "source": [
    "## allInONe ensAvg stamps:"
   ]
  },
  {
   "cell_type": "code",
   "execution_count": null,
   "id": "fa47d2ba",
   "metadata": {},
   "outputs": [],
   "source": [
    "database = '/Users/amirhsi_mini/analysis/'\n",
    "spaces_stamps = glob(database+\"/N*-ensAvg\"+\"/N*-stamps-ensAvg.csv\")\n",
    "allInOne_stamps = []\n",
    "for space in spaces_stamps:\n",
    "    space_stamps = pd.read_csv(space)\n",
    "    allInOne_stamps.append(space_stamps)\n",
    "allInOne_stamps = pd.concat(allInOne_stamps, axis=0)\n",
    "allInOne_stamps"
   ]
  },
  {
   "cell_type": "markdown",
   "id": "624d81b7",
   "metadata": {},
   "source": [
    "## chain-size timeseries and their associated measures"
   ]
  },
  {
   "cell_type": "code",
   "execution_count": null,
   "id": "b9f71bab",
   "metadata": {},
   "outputs": [],
   "source": [
    "# separating property_measures of kinds timeseries and timesseries acfs:\n",
    "bug_property_acfs = list()\n",
    "for property_measure in bug_property_measures:\n",
    "    if \"-acf\" in property_measure:\n",
    "        bug_property_acfs.append(property_measure)\n",
    "bug_property_acfs.sort()\n",
    "print(bug_property_acfs)\n",
    "# chain timeseries:\n",
    "bug_properties = list()\n",
    "for property_measure in bug_property_acfs:\n",
    "    if \"-acf-\" in property_measure:\n",
    "        bug_properties.append(property_measure.split(\"-\")[0]+'-ensAvg')\n",
    "bug_properties.sort()\n",
    "print(bug_properties)"
   ]
  },
  {
   "cell_type": "code",
   "execution_count": null,
   "id": "844af7ed",
   "metadata": {},
   "outputs": [],
   "source": [
    "# allInOne timeseries for chain-size statistics\n",
    "group = 'bug'\n",
    "geometry = 'biaxial'\n",
    "ensAvg_path = \"/Users/amirhsi_mini/analysis/N2000D30.0ac4.0-bug-ensAvg\"\n",
    "ensAvgs = []\n",
    "for property_measure in bug_properties:\n",
    "    ensAvg = organizer.all_in_one_tseries(\n",
    "        ensAvg_path,\n",
    "        property_measure,\n",
    "        group = group,\n",
    "        geometry = geometry,\n",
    "        save_to = None\n",
    "    )\n",
    "    ensAvgs.append(ensAvg)\n",
    "ensAvgs = pd.concat(ensAvgs,axis=1)\n",
    "# drop duplicated columns:\n",
    "ensAvgs = ensAvgs.loc[:,~ensAvgs.columns.duplicated()]\n",
    "output_name = database + \"allInOne-bug-chainSize.csv\"\n",
    "ensAvgs.to_csv(output_name, index=False)"
   ]
  },
  {
   "cell_type": "code",
   "execution_count": null,
   "id": "24b26b29",
   "metadata": {},
   "outputs": [],
   "source": [
    "# all in one timeseries for chain-size acf statistics\n",
    "group = 'bug'\n",
    "geometry = 'biaxial'\n",
    "ensAvg_path = \"/Users/amirhsi_mini/analysis/N2000D30.0ac4.0-bug-ensAvg\"\n",
    "ensAvgs = list()\n",
    "for property_measure in bug_property_acfs:\n",
    "    ensAvg = organizer.all_in_one_tseries(\n",
    "        ensAvg_path,\n",
    "        property_measure,\n",
    "        group = group,\n",
    "        geometry = geometry,\n",
    "        save_to = None\n",
    "    )\n",
    "    ensAvgs.append(ensAvg)\n",
    "ensAvgs = pd.concat(ensAvgs,axis=1)\n",
    "# drop duplicated columns:\n",
    "ensAvgs = ensAvgs.loc[:,~ensAvgs.columns.duplicated()]\n",
    "output_name = database + \"allInOne-bug-chainSize-acf.csv\"\n",
    "ensAvgs.to_csv(output_name, index=False)"
   ]
  },
  {
   "cell_type": "code",
   "execution_count": null,
   "id": "f6c0a44d",
   "metadata": {},
   "outputs": [],
   "source": [
    "# parallel version has memory leak issue.\n",
    "%%time\n",
    "# This has memory leaking issue\n",
    "group = 'bug'\n",
    "geometry = 'biaxial'\n",
    "ensAvg_path = \"/Users/amirhsi_mini/analysis/N2000D30.0ac4.0-bug-ensAvg\"\n",
    "all_in_one_computed = []\n",
    "for property_measure in bug_property_measures:\n",
    "    all_in_one_delayed = delayed(organizer.all_in_one_tseries)(\n",
    "        ensAvg_path,\n",
    "        property_measure,\n",
    "        group = group,\n",
    "        geometry = geometry,\n",
    "        save_to = database\n",
    "    )\n",
    "    all_in_one_computed.append(all_in_one_delayed)\n",
    "_ = compute(all_in_one_computed)"
   ]
  },
  {
   "cell_type": "markdown",
   "id": "74045030",
   "metadata": {},
   "source": [
    "## Distributions"
   ]
  },
  {
   "cell_type": "code",
   "execution_count": null,
   "id": "5dc257d2",
   "metadata": {},
   "outputs": [],
   "source": [
    "#hist_paths = glob('/Users/amirhsi_mini/probe/N500D10.0ac0.8-segment/N500epsilon5.0r5.5lz205.5sig0.8nc12012dt0.002bdump1000adump5000ens1/N500epsilon5.0r5.5lz205.5sig0.8nc12012dt0.002bdump1000adump5000ens1*')\n",
    "hist_paths = glob('/Users/amirhsi_mini/probe/N500D10.0ac0.8-segment/N500epsilon5.0r5.5lz205.5sig0.8nc48047dt0.002bdump1000adump5000ens1/N500epsilon5.0r5.5lz205.5sig0.8nc48047dt0.002bdump1000adump5000ens1*')\n",
    "species = 'Crd'\n",
    "direction = 'z'\n",
    "geometry='biaxial'\n",
    "group='all'\n",
    "segments = organizer.sort_filenames(\n",
    "                hist_paths,\n",
    "                fmts=['-' + direction + 'Hist' + species + '.npy']\n",
    "            )\n",
    "edge_segments = organizer.sort_filenames(\n",
    "                hist_paths,\n",
    "                fmts=['-' + direction + 'Edge' + species + '.npy']\n",
    "            )\n",
    "wholes = organizer.whole(\n",
    "                direction + 'Hist' + species,\n",
    "                segments,\n",
    "                geometry=geometry,\n",
    "                group=group,\n",
    "                relation='histogram',\n",
    "                save_to=None\n",
    "            )\n",
    "edge_wholes = organizer.whole(\n",
    "                direction + 'Edge' + species,\n",
    "                edge_segments,\n",
    "                geometry=geometry,\n",
    "                group=group,\n",
    "                relation='bin_edge',\n",
    "                save_to=None\n",
    "            )\n",
    "            # 'whole' dataframes, each with a 'whole' columns.\n",
    "rho_wholes, phi_wholes = distributions.distributions_generator(\n",
    "                wholes,\n",
    "                edge_wholes,\n",
    "                group,\n",
    "                species,\n",
    "                geometry,\n",
    "                direction,\n",
    "                save_to=None,\n",
    "normalized=True)"
   ]
  },
  {
   "cell_type": "code",
   "execution_count": null,
   "id": "bcb0256d",
   "metadata": {},
   "outputs": [],
   "source": [
    "plt.hist(edge_wholes['N500epsilon5.0r5.5lz205.5sig0.8nc48047dt0.002bdump1000adump5000ens1'][:-1],edge_wholes['N500epsilon5.0r5.5lz205.5sig0.8nc48047dt0.002bdump1000adump5000ens1'],weights=wholes['N500epsilon5.0r5.5lz205.5sig0.8nc48047dt0.002bdump1000adump5000ens1'],histtype='step',density=True)\n",
    "plt.show()"
   ]
  },
  {
   "cell_type": "code",
   "execution_count": null,
   "id": "ecaf69c5",
   "metadata": {},
   "outputs": [],
   "source": [
    "sns.histplot(edge_wholes['N500epsilon5.0r5.5lz205.5sig0.8nc48047dt0.002bdump1000adump5000ens1'][:-1],bins=edge_wholes['N500epsilon5.0r5.5lz205.5sig0.8nc48047dt0.002bdump1000adump5000ens1'],weights=wholes['N500epsilon5.0r5.5lz205.5sig0.8nc48047dt0.002bdump1000adump5000ens1'])\n",
    "plt.show()"
   ]
  },
  {
   "cell_type": "code",
   "execution_count": null,
   "id": "ca9ea299",
   "metadata": {},
   "outputs": [],
   "source": [
    "fig, axes = plt.subplots(nrows=1,ncols=1,sharex=True,figsize=(8,6))\n",
    "centers = 0.5*(edge_wholes['N500epsilon5.0r5.5lz205.5sig0.8nc48047dt0.002bdump1000adump5000ens1'][:-1]+edge_wholes['N500epsilon5.0r5.5lz205.5sig0.8nc48047dt0.002bdump1000adump5000ens1'][1:])\n",
    "hist_df = pd.DataFrame(wholes)\n",
    "rho_df = pd.DataFrame(rho_wholes)\n",
    "phi_df = pd.DataFrame(phi_wholes)\n",
    "df = pd.concat([hist_df,rho_df,phi_df],axis=1)\n",
    "df.columns = ['histogram','number_density','volume_fraction']\n",
    "df['center'] = centers\n",
    "#df['histogram'] = df['histogram'] / df['histogram'].sum()\n",
    "df['fake']= 1\n",
    "#df.set_index('center',inplace=True)\n",
    "#sns.histplot(x='center',bins=edge_wholes['N500epsilon5.0r5.5lz205.5sig0.8nc48047dt0.002bdump1000adump5000ens1'] ,weights='volume_fraction',data=df,element='poly',fill=False, kde=True)\n",
    "#plt.show()\n",
    "#df['histogram'].plot(ax=axes,ylabel='histogram')\n",
    "#sns.set_theme(style=\"whitegrid\")\n",
    "#sns.set(font_scale=1.2)\n",
    "sns.axes_style(\"darkgrid\")\n",
    "sns.lineplot(x='center',y='histogram', data=df,ax=axes)\n",
    "#df.loc[-200:200,'number_density'].plot(ax=axes[1],ylabel='number_density')\n",
    "#df.loc[-200:200,'volume_fraction'].plot(ax=axes[2],ylabel='volume_fraction',xlabel='center')\n",
    "#axes.grid()\n",
    "#axes.set_xlim(df.index[0]-5, df.index[-1]+5)\n",
    "#axes.axvline(df.loc[df.index[0],'center'],lw=0.5,c='red',label='left end')\n",
    "#axes.axvline(df.loc[df.index[-1],'center'],lw=0.5,c='green',label='right end')\n",
    "#axes.axvline(df['center'],lw=0.5,c='red')\n",
    "axes.set_xlabel('z (a.u.)')\n",
    "axes.set_ylabel('Freqency of type-1 particles')\n",
    "#ax.set_xlim[]\n",
    "plt.savefig('histogram.pdf',dpi=200)"
   ]
  },
  {
   "cell_type": "code",
   "execution_count": null,
   "id": "9d0f292a",
   "metadata": {},
   "outputs": [],
   "source": [
    "\n",
    "name = 'N500epsilon5.0r5.5lz205.5sig0.8nc36036dt0.002bdump1000adump5000ens1'\n",
    "hist_info = SumRule(name, geometry='biaxial', group='all', lineage='whole')\n",
    "dist_new = distributions.Distribution(\n",
    "    wholes[name],\n",
    "    edges[name],\n",
    "    hist_info,\n",
    "    'dcrowd',\n",
    "    geometry='biaxial',\n",
    "    direction='z',\n",
    "    normalized=False)"
   ]
  }
 ],
 "metadata": {
  "kernelspec": {
   "display_name": "Python 3 (ipykernel)",
   "language": "python",
   "name": "python3"
  },
  "language_info": {
   "codemirror_mode": {
    "name": "ipython",
    "version": 3
   },
   "file_extension": ".py",
   "mimetype": "text/x-python",
   "name": "python",
   "nbconvert_exporter": "python",
   "pygments_lexer": "ipython3",
   "version": "3.9.10"
  }
 },
 "nbformat": 4,
 "nbformat_minor": 5
}
