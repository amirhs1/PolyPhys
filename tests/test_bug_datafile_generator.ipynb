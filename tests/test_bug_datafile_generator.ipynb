{
 "cells": [
  {
   "cell_type": "code",
   "execution_count": null,
   "id": "5c10f84d-3bef-4dc1-9c59-3bd17cb6459c",
   "metadata": {},
   "outputs": [],
   "source": [
    "from typing import List\n",
    "import datetime\n",
    "from polyphys.manage.organizer import invalid_keyword\n",
    "from polyphys.manage.parser import SumRule\n",
    "from glob import glob"
   ]
  },
  {
   "cell_type": "markdown",
   "id": "7f2e7a21-a7bf-4f47-9471-cf0818066357",
   "metadata": {},
   "source": [
    "### To-do list:\n",
    "1. path trj "
   ]
  },
  {
   "cell_type": "code",
   "execution_count": null,
   "id": "94b623d3-3f8b-47c7-bd8c-db1d31121d05",
   "metadata": {},
   "outputs": [],
   "source": [
    "def main() -> None:\n",
    "    path = \"./*.j01.bug.lammpstrj\"\n",
    "    bug_trjs = glob(path)\n",
    "    data_template = glob(\"./data_template-biaxial-bug-N*.data\")\n",
    "    data_template = data_template[0]\n",
    "    bug_data_file_generator(\n",
    "        data_template,\n",
    "        bug_trjs,\n",
    "        geometry='biaxial',\n",
    "        lineage='segment'\n",
    "    )"
   ]
  },
  {
   "cell_type": "code",
   "execution_count": null,
   "id": "802b7f73-bcc4-4c6f-971c-e32c354c8a32",
   "metadata": {},
   "outputs": [],
   "source": [
    "main()"
   ]
  },
  {
   "cell_type": "code",
   "execution_count": null,
   "id": "5c2be125-a5b5-4b5f-851b-62eae76ffb41",
   "metadata": {},
   "outputs": [],
   "source": []
  }
 ],
 "metadata": {
  "kernelspec": {
   "display_name": "Python 3.9.10 ('polyLab')",
   "language": "python",
   "name": "python3910jvsc74a57bd06cf582efbfbdef60505769a313a3ca49eebfd77179e86f4387bd11d254c0a990"
  },
  "language_info": {
   "codemirror_mode": {
    "name": "ipython",
    "version": 3
   },
   "file_extension": ".py",
   "mimetype": "text/x-python",
   "name": "python",
   "nbconvert_exporter": "python",
   "pygments_lexer": "ipython3",
   "version": "3.9.10"
  }
 },
 "nbformat": 4,
 "nbformat_minor": 5
}
