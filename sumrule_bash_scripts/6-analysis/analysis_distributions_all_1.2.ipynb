{
 "cells": [
  {
   "cell_type": "code",
   "execution_count": null,
   "id": "cff0d7b1-bac5-4433-9ffb-41bdedac87a1",
   "metadata": {},
   "outputs": [],
   "source": [
    "from glob import glob\n",
    "from PipeLine import *\n",
    "from dask.distributed import Client\n",
    "from dask import delayed\n",
    "from dask import compute\n",
    "client = Client(n_workers=4)\n",
    "client"
   ]
  },
  {
   "cell_type": "markdown",
   "id": "34143bdc-cef2-4d69-aa87-9b25b7650a41",
   "metadata": {},
   "source": [
    "## Create \"all\" groups ans ensemble-averaged groups"
   ]
  },
  {
   "cell_type": "code",
   "execution_count": null,
   "id": "33cd5608-c57a-44f8-a4a2-707b15b3e1e8",
   "metadata": {},
   "outputs": [],
   "source": [
    "database = '/Users/amirhsi_mini/' # parent path\n",
    "simulation_type = 'all' # bug or all\n",
    "input_db_name = \"analysis\" # or extraction\n",
    "input_segments_name = \"whole_simulations\" # whole_simulations or\n",
    "input_sim_group_name = (\"-\").join([simulation_type,input_db_name,input_segments_name])\n",
    "input_sim_groups = glob(database+input_db_name+'/N*-'+input_sim_group_name+'/')\n",
    "output_db_name = \"analysis\"\n",
    "geometry = 'cylindrical'\n",
    "analysis_delayed = [] \n",
    "for input_sim_group in input_sim_groups:\n",
    "    analysis = delayed(PipeLine.whole_group_analysis_all)(input_sim_group, input_db_name, output_db_name, simulation_type, geometry)\n",
    "    analysis_delayed.append(analysis)\n",
    "\n",
    "results = compute(analysis_delayed)"
   ]
  }
 ],
 "metadata": {
  "kernelspec": {
   "display_name": "Python 3 (ipykernel)",
   "language": "python",
   "name": "python3"
  },
  "language_info": {
   "codemirror_mode": {
    "name": "ipython",
    "version": 3
   },
   "file_extension": ".py",
   "mimetype": "text/x-python",
   "name": "python",
   "nbconvert_exporter": "python",
   "pygments_lexer": "ipython3",
   "version": "3.8.12"
  }
 },
 "nbformat": 4,
 "nbformat_minor": 5
}
