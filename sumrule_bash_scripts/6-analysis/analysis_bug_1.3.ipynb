{
 "cells": [
  {
   "cell_type": "code",
   "execution_count": null,
   "metadata": {
    "colab": {},
    "colab_type": "code",
    "id": "C_CLXSgvVO_9"
   },
   "outputs": [],
   "source": [
    "from glob import glob\n",
    "from PipeLine import *\n",
    "from dask.distributed import Client\n",
    "from dask import delayed\n",
    "from dask import compute\n",
    "client = Client(n_workers=4)\n",
    "client"
   ]
  },
  {
   "cell_type": "markdown",
   "metadata": {},
   "source": [
    "#### Bugs in  the python version of this file; this notebook work fine.\n",
    "- This notebook cannot convert to a python file since I do not know how to efficently use dask in a *.py* file. I try to solve this issue by configuring ask apprportiately there. Check the file.\n",
    "- Memeroy leak warning and error."
   ]
  },
  {
   "cell_type": "code",
   "execution_count": null,
   "metadata": {},
   "outputs": [],
   "source": [
    "# analyze all the bug groups at once:\n",
    "database = '/Users/amirhsi_mini/' # parent path\n",
    "simulation_type = 'bug' # bug or all\n",
    "input_db_name = \"extraction\"\n",
    "input_sim_groups = glob(database+input_db_name+\"/N*-extraction/\") # Path to bug extraction folders/files\n",
    "output_db_name = \"analysis\"\n",
    "geometry = 'cylindrical'\n",
    "analysis_delayed = []\n",
    "for input_sim_group in input_sim_groups:\n",
    "    analysis = delayed(PipeLine.whole_group_analysis_bug)(input_sim_group, input_db_name, output_db_name, simulation_type, geometry)\n",
    "    analysis_delayed.append(analysis)"
   ]
  },
  {
   "cell_type": "code",
   "execution_count": null,
   "metadata": {},
   "outputs": [],
   "source": [
    "%%time\n",
    "# it takes less than 5 min for 12 simulation groups with 4 workers.\n",
    "results = compute(analysis_delayed)"
   ]
  },
  {
   "cell_type": "markdown",
   "metadata": {},
   "source": [
    "# Properties all_in_one files"
   ]
  },
  {
   "cell_type": "code",
   "execution_count": null,
   "metadata": {},
   "outputs": [],
   "source": [
    "# create one dataframe of all the properties files:\n",
    "database_path = database+output_db_name+\"/\"\n",
    "properties_files = glob(database_path+\"N*-\"+simulation_type+\"-\"+output_db_name+\"/N*-properties.csv\")\n",
    "properties_files = PipeLine.file_reader(properties_files,extensions=['-properties.csv'])\n",
    "properties_all_in_one = PipeLine.all_in_one_properties(properties_files, save_to=database_path, round_to=4, index_col=0)\n",
    "properties_files_ens_avg = glob(database_path+\"N*-\"+simulation_type+\"-\"+output_db_name+\"-ens_avg/N*-properties-ens_avg.csv\")\n",
    "properties_files_ens_avg = PipeLine.file_reader(properties_files_ens_avg,extensions=['-properties-ens_avg.csv'])\n",
    "properties_all_in_one_ens_avg = PipeLine.all_in_one_properties(properties_files_ens_avg, ens_avg=True, norm_func=PipeLine.cylindrical_norm, save_to=database_path, round_to=4, index_col=0)"
   ]
  },
  {
   "cell_type": "markdown",
   "metadata": {},
   "source": [
    "### ACF (This section should be used for older version of whole_group_analysis_bug in which acf routines were not added)"
   ]
  },
  {
   "cell_type": "code",
   "execution_count": null,
   "metadata": {},
   "outputs": [],
   "source": [
    "def whole_group_acf_bug(extraction_db, extraction_db_name, analysis_db_name, simulation_type, geometry):\n",
    "    sim_csvs = glob(extraction_db+\"/N*/N*.csv\")\n",
    "    group_type = simulation_type+'-'+analysis_db_name\n",
    "    analysis_save_to = PipeLine.group_new_path(extraction_db, extraction_db_name, analysis_db_name, group_type)\n",
    "    analysis_ens_avg_save_to = PipeLine.group_new_path(extraction_db, extraction_db_name, analysis_db_name, group_type, ens_avg=True)\n",
    "    analysis_sumrule_bug_acf(sim_csvs, geometry, analysis_save_to, analysis_ens_avg_save_to)"
   ]
  },
  {
   "cell_type": "code",
   "execution_count": null,
   "metadata": {},
   "outputs": [],
   "source": [
    "def analysis_sumrule_bug_acf(sim_csvs, geometry, analysis_save_to, analysis_ens_avg_save_to):\n",
    "    nlags = 7000\n",
    "    alpha = 0.05\n",
    "    fsd_name = 'fsd_t'\n",
    "    fsd_files = PipeLine.file_reader(sim_csvs, extensions=['-fsd_t.csv'])\n",
    "    fsd_dicts = PipeLine.ensemble(fsd_files, fsd_name, geometry, save_to=None)\n",
    "    fsd_dict_ens_avg = PipeLine.group(fsd_dicts,fsd_name,geometry,save_to=None)\n",
    "    acf_dicts, acf_lower_dicts, acf_upper_dicts = PipeLine.acf_generator(fsd_dicts, fsd_name, geometry, nlags=nlags, alpha=alpha,  save_to=analysis_save_to)\n",
    "    _ = PipeLine.group(acf_dicts, fsd_name+'-acf_only', geometry, save_to=analysis_ens_avg_save_to)\n",
    "    _ = PipeLine.group(acf_lower_dicts, fsd_name+'-acf_ci_upper', geometry, save_to=analysis_ens_avg_save_to)\n",
    "    _ = PipeLine.group(acf_upper_dicts, fsd_name+'-acf_ci_lower', geometry, save_to=analysis_ens_avg_save_to)\n",
    "    \n",
    "    gyr_name = 'gyr_t'\n",
    "    gyr_files = PipeLine.file_reader(sim_csvs,extensions=['-gyr_t.csv'])\n",
    "    gyr_dicts = PipeLine.ensemble(gyr_files,gyr_name, geometry, save_to=None)\n",
    "    _ = PipeLine.group(gyr_dicts, gyr_name, geometry, save_to=None)\n",
    "    acf_dicts, acf_lower_dicts, acf_upper_dicts = PipeLine.acf_generator(gyr_dicts, gyr_name, geometry, nlags=nlags, alpha=alpha,  save_to=analysis_save_to)\n",
    "    _ = PipeLine.group(acf_dicts, gyr_name+'-acf_only', geometry, save_to=analysis_ens_avg_save_to)\n",
    "    _ = PipeLine.group(acf_lower_dicts, gyr_name+'-acf_ci_upper', geometry, save_to=analysis_ens_avg_save_to)\n",
    "    _ = PipeLine.group(acf_upper_dicts, gyr_name+'-acf_ci_lower', geometry, save_to=analysis_ens_avg_save_to)\n",
    "    \n",
    "    rFlory_name = 'rFlory_t'\n",
    "    rFlory_files = PipeLine.file_reader(sim_csvs,extensions=['-rFlory_t.csv'])\n",
    "    rFlory_dicts = PipeLine.ensemble(rFlory_files,rFlory_name,geometry,save_to=None)\n",
    "    _ = PipeLine.group(rFlory_dicts,rFlory_name,geometry,save_to=None)\n",
    "    acf_dicts, acf_lower_dicts, acf_upper_dicts = PipeLine.acf_generator(rFlory_dicts, rFlory_name, geometry, nlags=nlags, alpha=alpha,  save_to=analysis_save_to)\n",
    "    _ = PipeLine.group(acf_dicts, rFlory_name+'-acf_only', geometry, save_to=analysis_ens_avg_save_to)\n",
    "    _ = PipeLine.group(acf_lower_dicts, rFlory_name+'-acf_ci_upper', geometry, save_to=analysis_ens_avg_save_to)\n",
    "    _ = PipeLine.group(acf_upper_dicts, rFlory_name+'-acf_ci_lower', geometry, save_to=analysis_ens_avg_save_to)"
   ]
  },
  {
   "cell_type": "code",
   "execution_count": null,
   "metadata": {},
   "outputs": [],
   "source": [
    "database = '/Users/amirhsi_mini/' # parent path\n",
    "simulation_type = 'bug' # bug or all\n",
    "input_db_name = \"extraction\"\n",
    "input_sim_groups = glob(database+input_db_name+\"/N*-extraction/\") # Path to bug extraction folders/files\n",
    "output_db_name = \"analysis\"\n",
    "geometry = 'cylindrical'\n",
    "analysis_delayed = []\n",
    "for input_sim_group in input_sim_groups:\n",
    "    analysis = delayed(whole_group_acf_bug)(input_sim_group, input_db_name, output_db_name, simulation_type, geometry)\n",
    "    analysis_delayed.append(analysis)"
   ]
  },
  {
   "cell_type": "code",
   "execution_count": null,
   "metadata": {},
   "outputs": [],
   "source": [
    "%%time\n",
    "# it takes less than 5 min for 12 simulation groups with 4 workers.\n",
    "results = compute(analysis_delayed)"
   ]
  },
  {
   "cell_type": "code",
   "execution_count": null,
   "metadata": {},
   "outputs": [],
   "source": []
  }
 ],
 "metadata": {
  "colab": {
   "name": "pipeline_v4.ipynb",
   "provenance": [],
   "version": "0.3.2"
  },
  "kernelspec": {
   "display_name": "Python 3 (ipykernel)",
   "language": "python",
   "name": "python3"
  },
  "language_info": {
   "codemirror_mode": {
    "name": "ipython",
    "version": 3
   },
   "file_extension": ".py",
   "mimetype": "text/x-python",
   "name": "python",
   "nbconvert_exporter": "python",
   "pygments_lexer": "ipython3",
   "version": "3.8.12"
  }
 },
 "nbformat": 4,
 "nbformat_minor": 4
}
