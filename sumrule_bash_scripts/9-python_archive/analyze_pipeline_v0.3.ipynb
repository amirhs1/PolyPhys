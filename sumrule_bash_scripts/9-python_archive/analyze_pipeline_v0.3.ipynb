{
 "cells": [
  {
   "cell_type": "code",
   "execution_count": null,
   "metadata": {
    "colab": {},
    "colab_type": "code",
    "id": "C_CLXSgvVO_9"
   },
   "outputs": [],
   "source": [
    "%matplotlib inline\n",
    "# Importing necessary packages:\n",
    "import re\n",
    "from glob import glob\n",
    "\n",
    "\n",
    "import numpy as np\n",
    "import datetime\n",
    "import pandas as pd\n",
    "\n",
    "import matplotlib.pyplot as plt\n",
    "import seaborn as sns\n",
    "\n",
    "import time\n",
    "import tracemalloc\n",
    "import cProfile\n",
    "\n",
    "\n",
    "import scipy.integrate as integrate\n",
    "import scipy.special as special\n",
    "from sympy import elliptic_pi\n",
    "\n",
    "from PolyLine import *\n",
    "\n",
    "np.set_printoptions(precision=17)"
   ]
  },
  {
   "cell_type": "code",
   "execution_count": null,
   "metadata": {},
   "outputs": [],
   "source": [
    "ens_files = glob(\"./N2000D20ac2-analyze-not_full_phic-analyze-test/N*/N*.csv\")\n",
    "\n",
    "geometry = 'cylinder'\n",
    "\n",
    "rhist_name = '_rHists'\n",
    "rhist_files = PolyLine.file_reader(ens_files,extensions=['_rHists.csv','_rEdges.csv'])\n",
    "rhist_dfs = PolyLine.df_of_ensembles(rhist_files,rhist_name,geometry,dtype=int,single=False)\n",
    "ens_evg_rhist = PolyLine.ensemble_avg(rhist_dfs,rhist_name,geometry)\n",
    "\n",
    "zhist_name = '_zHists'\n",
    "zhist_files = PolyLine.file_reader(ens_files,extensions=['_zHists.csv','_zEdges.csv'])\n",
    "zhist_dfs = PolyLine.df_of_ensembles(zhist_files,zhist_name,geometry,dtype=int,single=False)\n",
    "ens_evg_zhist = PolyLine.ensemble_avg(zhist_dfs,zhist_name,geometry)\n",
    "\n",
    "thetahist_name = '_thetaHists'\n",
    "thetahist_files = PolyLine.file_reader(ens_files,extensions=['_thetaHists.csv','_thetaEdges.csv'])\n",
    "thetahist_dfs = PolyLine.df_of_ensembles(thetahist_files,thetahist_name,geometry,dtype=int,single=False)\n",
    "ens_evg_thetahist = PolyLine.ensemble_avg(thetahist_dfs,thetahist_name,geometry)\n",
    "\n",
    "rFloryhist_name = '_rFloryHists'\n",
    "rFloryhist_files = PolyLine.file_reader(ens_files,extensions=['_rFloryHists.csv','_rFloryEdges.csv'])\n",
    "rFloryhist_dfs = PolyLine.df_of_ensembles(rFloryhist_files,rFloryhist_name,geometry,dtype=int,single=False)\n",
    "ens_evg_rFloryhist = PolyLine.ensemble_avg(rFloryhist_dfs,rFloryhist_name,geometry)\n",
    "\n",
    "fsd_name = '_fsd_t'\n",
    "fsd_files = PolyLine.file_reader(ens_files,extensions=['_fsd_t.csv'])\n",
    "fsd_dfs = PolyLine.df_of_ensembles(fsd_files,fsd_name,geometry)\n",
    "ens_evg_fsd = PolyLine.ensemble_avg(fsd_dfs,fsd_name,geometry)\n",
    "\n",
    "gyr_name = '_gyr_t'\n",
    "gyr_files = PolyLine.file_reader(ens_files,extensions=['_gyr_t.csv'])\n",
    "gyr_dfs = PolyLine.df_of_ensembles(gyr_files,gyr_name,geometry)\n",
    "ens_evg_gyr = PolyLine.ensemble_avg(gyr_dfs,gyr_name,geometry)\n",
    "\n",
    "rFlory_name = '_rFlory_t'\n",
    "rFlory_files = PolyLine.file_reader(ens_files,extensions=['_rFlory_t.csv'])\n",
    "rFlory_dfs = PolyLine.df_of_ensembles(rFlory_files,rFlory_name,geometry)\n",
    "ens_evg_rFlory = PolyLine.ensemble_avg(rFlory_dfs,rFlory_name,geometry)"
   ]
  },
  {
   "cell_type": "code",
   "execution_count": null,
   "metadata": {},
   "outputs": [],
   "source": [
    "properties_name = '_properties'\n",
    "properties_files = PolyLine.file_reader(ens_files,extensions=['_properties.csv'])\n",
    "properties_df = PolyLine.df_of_properties(properties_files, properties_name, geometry)"
   ]
  },
  {
   "cell_type": "code",
   "execution_count": null,
   "metadata": {},
   "outputs": [],
   "source": [
    "ens_avg_properties = PolyLine.ens_avg_properties(properties_df, properties_name, geometry)"
   ]
  },
  {
   "cell_type": "code",
   "execution_count": null,
   "metadata": {},
   "outputs": [],
   "source": [
    "df_name = '_ens_avg_r'\n",
    "direction = 'cyl_radial'\n",
    "ens_avg_rho_r, ens_avg_phi_r = PolyLine.rho_phi_generator(ens_evg_rhist, ens_avg_properties, df_name, geometry, direction)"
   ]
  },
  {
   "cell_type": "code",
   "execution_count": null,
   "metadata": {},
   "outputs": [],
   "source": [
    "df_name = '_ens_avg_z'\n",
    "direction = 'cyl_z'\n",
    "ens_avg_rho_z = PolyLine.rho_phi_generator(ens_evg_zhist, ens_avg_properties, df_name, geometry, direction)"
   ]
  },
  {
   "cell_type": "code",
   "execution_count": null,
   "metadata": {},
   "outputs": [],
   "source": [
    "df_name = '_ens_avg_theta'\n",
    "direction = 'cyl_thata'\n",
    "ens_avg_rho_theta = PolyLine.rho_phi_generator(ens_evg_thetahist, ens_avg_properties, df_name, geometry, direction)"
   ]
  },
  {
   "cell_type": "code",
   "execution_count": null,
   "metadata": {},
   "outputs": [],
   "source": [
    "ens_avg_phi_r.plot()\n",
    "ens_avg_rho_r.plot()\n",
    "ens_evg_zhist.plot()\n",
    "ens_evg_thetahist.plot()"
   ]
  },
  {
   "cell_type": "code",
   "execution_count": null,
   "metadata": {},
   "outputs": [],
   "source": [
    "fig, ax = plt.subplots(nrows=1,ncols=1,figsize=(16,9))\n",
    "fontsize = 24\n",
    "color = 'tab:blue'\n",
    "line1, = ax.plot(ens_avg_phi_r.iloc[:,0], markersize=0.1, c=color)\n",
    "#ax.legend()\n",
    "ax.set_xlabel(r\"Cylinder radius ($\\frac{D}{2a}$)\",fontsize=fontsize)\n",
    "ax.set_ylabel(r\"$\\phi_m(r)$\",fontsize=fontsize)\n",
    "ax.tick_params(labelsize=24)\n",
    "\n",
    "ax2 = ax.twinx()\n",
    "color = 'tab:red'\n",
    "line2, = ax2.plot(ens_avg_rho_r.iloc[:,0], rho, markersize=0.1, c=color)\n",
    "ax2.set_ylabel(r\"$\\rho_m(r)$\",fontsize=fontsize)\n",
    "ax2.tick_params(labelsize=24)\n",
    "\n",
    "lines = [line1, line2]\n",
    "\n",
    "ax.legend(lines, [l.get_label() for l in lines],loc=1,ncol=2,fontsize=fontsize)\n",
    "#fig.legend()\n",
    "picname = filename.split(\"_rHists\")[0]+\"_local\"\n",
    "plt.savefig(picname+'.pdf',dpi=300)"
   ]
  },
  {
   "cell_type": "code",
   "execution_count": null,
   "metadata": {},
   "outputs": [],
   "source": [
    "fpath = hist_files[24]\n",
    "\n",
    "cylindrical_shell_integrand = lambda r: 2 * np.pi * cell_attrs.dcyl * r\n",
    "\n",
    "# the sum of rho is not equal to the bulk number density (r=infiity) natom/cell_vol\n",
    "# this arises from the way we descritize the local number desnity.\n",
    "rho = PolyLine.local_number_density(histo_collections, bin_edges, cylindrical_shell_integrand)\n",
    "\n",
    "rmon = cell_attrs.dmon / 2.0\n",
    "bin_centers = np.around((bin_edges[:-1] + bin_edges[1:]) / 2.0,decimals=2)\n",
    "\n",
    "range_of_bins = PolyLine.bin_edge_index(rmon, bin_centers, bin_edges)\n",
    "volume_shares = PolyLine.vol_shares(rmon, bin_centers, bin_edges, range_of_bins, PolyLine.sphere_cylinder_intersection)\n",
    "\n",
    "# the sum of phi is not equal to the bulk volume fraction (r=infiity) natom*vol_per_atom/cell_vol\n",
    "# this arises from the way we descritize the local volume fraction and the way we relate it to the local number density.\n",
    "phi = PolyLine.local_volume_fraction(bin_centers, rho, volume_shares)\n",
    "\n",
    "fig, ax = plt.subplots(nrows=1,ncols=1,figsize=(16,9))\n",
    "\n",
    "fontsize = 24\n",
    "color = 'tab:blue'\n",
    "line1, = ax.plot(bin_centers, phi, label = r\"$\\phi_c(R=\\infty)={:4.2f}$\".format(cell_attrs.vfrc_crowd), markersize=0.1, c=color)\n",
    "#ax.legend()\n",
    "ax.set_xlabel(r\"Cylinder radius ($\\frac{D}{2a}$)\",fontsize=fontsize)\n",
    "ax.set_ylabel(r\"$\\phi_m(r)$\",fontsize=fontsize)\n",
    "ax.tick_params(labelsize=24)\n",
    "\n",
    "ax2 = ax.twinx()\n",
    "color = 'tab:red'\n",
    "line2, = ax2.plot(bin_centers, rho, label = r\"$\\rho_c(R=\\infty)={:4.2f}$\".format(cell_attrs.vfrc_crowd), markersize=0.1, c=color)\n",
    "ax2.set_ylabel(r\"$\\rho_m(r)$\",fontsize=fontsize)\n",
    "ax2.tick_params(labelsize=24)\n",
    "\n",
    "lines = [line1, line2]\n",
    "\n",
    "ax.legend(lines, [l.get_label() for l in lines],loc=1,ncol=2,fontsize=fontsize)\n",
    "#fig.legend()\n",
    "picname = filename.split(\"_rHists\")[0]+\"_local\"\n",
    "plt.savefig(picname+'.pdf',dpi=300)"
   ]
  },
  {
   "cell_type": "code",
   "execution_count": null,
   "metadata": {},
   "outputs": [],
   "source": [
    "import os\n",
    "for direct in rhist_df.columns:\n",
    "    path = os.path.join(\"./\", direct)\n",
    "    os.mkdir(path)"
   ]
  },
  {
   "cell_type": "code",
   "execution_count": null,
   "metadata": {},
   "outputs": [],
   "source": [
    "fpath = hist_files[24]\n",
    "\n",
    "histo_collections = np.loadtxt(fpath[0],dtype=np.int32)\n",
    "bin_edges = np.around(np.loadtxt(fpath[1]),decimals=2)\n",
    "cell_attrs = PolyLine.cellAttributes(fpath[0],geometry='cylinder',printname=True)\n",
    "filename = cell_attrs.filename\n",
    "cylindrical_shell_integrand = lambda r: 2 * np.pi * cell_attrs.dcyl * r\n",
    "\n",
    "# the sum of rho is not equal to the bulk number density (r=infiity) natom/cell_vol\n",
    "# this arises from the way we descritize the local number desnity.\n",
    "rho = PolyLine.local_number_density(histo_collections, bin_edges, cylindrical_shell_integrand)\n",
    "\n",
    "rmon = cell_attrs.dmon / 2.0\n",
    "bin_centers = np.around((bin_edges[:-1] + bin_edges[1:]) / 2.0,decimals=2)\n",
    "\n",
    "range_of_bins = PolyLine.bin_edge_index(rmon, bin_centers, bin_edges)\n",
    "volume_shares = PolyLine.vol_shares(rmon, bin_centers, bin_edges, range_of_bins, PolyLine.sphere_cylinder_intersection)\n",
    "\n",
    "# the sum of phi is not equal to the bulk volume fraction (r=infiity) natom*vol_per_atom/cell_vol\n",
    "# this arises from the way we descritize the local volume fraction and the way we relate it to the local number density.\n",
    "phi = PolyLine.local_volume_fraction(bin_centers, rho, volume_shares)\n",
    "\n",
    "fig, ax = plt.subplots(nrows=1,ncols=1,figsize=(16,9))\n",
    "\n",
    "fontsize = 24\n",
    "color = 'tab:blue'\n",
    "line1, = ax.plot(bin_centers, phi, label = r\"$\\phi_c(R=\\infty)={:4.2f}$\".format(cell_attrs.vfrc_crowd), markersize=0.1, c=color)\n",
    "#ax.legend()\n",
    "ax.set_xlabel(r\"Cylinder radius ($\\frac{D}{2a}$)\",fontsize=fontsize)\n",
    "ax.set_ylabel(r\"$\\phi_m(r)$\",fontsize=fontsize)\n",
    "ax.tick_params(labelsize=24)\n",
    "\n",
    "ax2 = ax.twinx()\n",
    "color = 'tab:red'\n",
    "line2, = ax2.plot(bin_centers, rho, label = r\"$\\rho_c(R=\\infty)={:4.2f}$\".format(cell_attrs.vfrc_crowd), markersize=0.1, c=color)\n",
    "ax2.set_ylabel(r\"$\\rho_m(r)$\",fontsize=fontsize)\n",
    "ax2.tick_params(labelsize=24)\n",
    "\n",
    "lines = [line1, line2]\n",
    "\n",
    "ax.legend(lines, [l.get_label() for l in lines],loc=1,ncol=2,fontsize=fontsize)\n",
    "#fig.legend()\n",
    "picname = filename.split(\"_rHists\")[0]+\"_local\"\n",
    "plt.savefig(picname+'.pdf',dpi=300)"
   ]
  },
  {
   "cell_type": "code",
   "execution_count": null,
   "metadata": {},
   "outputs": [],
   "source": [
    "fig, ax = plt.subplots(nrows=1,ncols=1)\n",
    "nens = 0\n",
    "hists = 0\n",
    "phi_c = 0.0 \n",
    "\n",
    "for filename in ens_avg_properties.filename:\n",
    "    condition = ens_avg_properties['filename']==filename\n",
    "    for col in rhist_dfs.columns:\n",
    "        if col.split('ens')[0] == filename.split('_ens_avg')[0]:\n",
    "            #print(rhist_dfs[col])\n",
    "            PolyLine.histo_plotter(ax, rhist_dfs[col].values, lambda r: 2 * ens_avg_properties[condition].dcyl / 2.0 * r, rhist_dfs.index.values, label = r\"$\\phi_c={}$\".format(ens_avg_properties[condition].vfrc_crowd), markersize=0.1)\n",
    "    #ens_evg_rhist\n",
    "    \n",
    "#PolyLine.histo_plotter(ax, hists, lambda r: 2 * cell_attrs.dcyl / 2.0 * r, edges, label = r\"$\\phi_c={}$\".format(phi_c), markersize=0.1)\n",
    "ax.legend()\n",
    "ax.set_xlabel(r\"Cylinder radius ($\\frac{D}{2a}$)\")\n",
    "ax.set_xlabel(r\"Cylinder radius ($\\frac{D}{2a}$)\")"
   ]
  }
 ],
 "metadata": {
  "colab": {
   "name": "pipeline_v4.ipynb",
   "provenance": [],
   "version": "0.3.2"
  },
  "kernelspec": {
   "display_name": "Python 3",
   "language": "python",
   "name": "python3"
  },
  "language_info": {
   "codemirror_mode": {
    "name": "ipython",
    "version": 3
   },
   "file_extension": ".py",
   "mimetype": "text/x-python",
   "name": "python",
   "nbconvert_exporter": "python",
   "pygments_lexer": "ipython3",
   "version": "3.8.2"
  }
 },
 "nbformat": 4,
 "nbformat_minor": 4
}
