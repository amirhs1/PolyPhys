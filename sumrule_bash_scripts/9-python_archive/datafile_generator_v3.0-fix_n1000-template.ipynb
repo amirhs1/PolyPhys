{
 "cells": [
  {
   "cell_type": "code",
   "execution_count": null,
   "metadata": {
    "colab": {},
    "colab_type": "code",
    "id": "C_CLXSgvVO_9"
   },
   "outputs": [],
   "source": [
    "# Importing necessary packages:\n",
    "from glob import glob\n",
    "from PipeLine import *\n",
    "import os"
   ]
  },
  {
   "cell_type": "code",
   "execution_count": null,
   "metadata": {},
   "outputs": [],
   "source": [
    "dfile_n2000 = glob(\"./data_template-cylinder_bug_n2000.data\")\n",
    "output = \"data_template-cylinder_bug_n1000_new.data\"\n",
    "natoms = 1000\n",
    "nbonds = 999\n",
    "atomtype = 1\n",
    "bondtype = 1"
   ]
  },
  {
   "cell_type": "code",
   "execution_count": null,
   "metadata": {},
   "outputs": [],
   "source": [
    "firstline = \"LAMMPS data file via PipeLine.data_file_generator, based on LAMMPS (template) data file via write_data, version 29 Oct 2020, timestep = 71000000\\n\"\n",
    "\n",
    "with open(dfile_n2000[0],'r') as data_in,\\\n",
    "open(output,'w') as data_out:\n",
    "    _ = data_in.readline()\n",
    "    _ = data_in.readline()\n",
    "    data_out.write(firstline)\n",
    "    data_out.write('\\n')\n",
    "    line = data_in.readline()\n",
    "    natoms_old = int(line.split()[0])\n",
    "    print(natoms_old)\n",
    "    data_out.write(str(natoms)+\" atoms\\n\")\n",
    "    _ = data_in.readline()\n",
    "    data_out.write(str(atomtype)+\" atom types\\n\")\n",
    "    line = data_in.readline()\n",
    "    nbonds_old = int(line.split()[0])\n",
    "    print(nbonds_old)\n",
    "    data_out.write(str(nbonds)+\" bonds\\n\")\n",
    "    _ = data_in.readline()\n",
    "    data_out.write(str(bondtype)+\" bond types\\n\")\n",
    "    line = data_in.readline()\n",
    "    data_out.write(line)\n",
    "    \n",
    "    line = data_in.readline() # xlo xhi\n",
    "    data_out.write(line)\n",
    "    line = data_in.readline() # ylo yhi\n",
    "    data_out.write(line)\n",
    "    line = data_in.readline() # zlo zhi\n",
    "    data_out.write(line)\n",
    "    line = data_in.readline() \n",
    "    data_out.write(line)\n",
    "    \n",
    "    line = data_in.readline() # Masses\n",
    "    data_out.write(line)\n",
    "    line = data_in.readline() \n",
    "    data_out.write(line)\n",
    "    line = data_in.readline() # mass\n",
    "    data_out.write(line)\n",
    "    line = data_in.readline() \n",
    "    data_out.write(line)\n",
    "    \n",
    "    line = data_in.readline() # Atoms\n",
    "    data_out.write(line)\n",
    "    line = data_in.readline() \n",
    "    data_out.write(line)\n",
    "    \n",
    "    for atom in range(natoms_old):\n",
    "        line = data_in.readline()  \n",
    "        atomid = int(line.split()[0])\n",
    "        if atomid <= natoms:\n",
    "            data_out.write(line)\n",
    "    _ = data_in.readline() # Atoms\n",
    "    data_out.write(\"\\n\")\n",
    "    _ = data_in.readline() # Atoms\n",
    "    data_out.write(\"Bonds\\n\") \n",
    "    _ = data_in.readline() # Atoms\n",
    "    data_out.write(\"\\n\")\n",
    "    \n",
    "    for bond in range(nbonds):\n",
    "        data_out.write(str(bond+1)+\" 1 \"+str(bond+1)+\" \"+str(bond+2)+\"\\n\")"
   ]
  },
  {
   "cell_type": "code",
   "execution_count": null,
   "metadata": {},
   "outputs": [],
   "source": []
  }
 ],
 "metadata": {
  "colab": {
   "name": "pipeline_v4.ipynb",
   "provenance": [],
   "version": "0.3.2"
  },
  "kernelspec": {
   "display_name": "Python 3",
   "language": "python",
   "name": "python3"
  },
  "language_info": {
   "codemirror_mode": {
    "name": "ipython",
    "version": 3
   },
   "file_extension": ".py",
   "mimetype": "text/x-python",
   "name": "python",
   "nbconvert_exporter": "python",
   "pygments_lexer": "ipython3",
   "version": "3.8.2"
  }
 },
 "nbformat": 4,
 "nbformat_minor": 4
}
