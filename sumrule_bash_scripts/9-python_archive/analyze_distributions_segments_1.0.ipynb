{
 "cells": [
  {
   "cell_type": "code",
   "execution_count": null,
   "id": "08cd009e-fb1f-402e-b933-6c20d7f2681a",
   "metadata": {},
   "outputs": [],
   "source": [
    "from glob import glob\n",
    "import pandas as pd\n",
    "import os\n",
    "from pathlib import Path\n",
    "from PipeLine import *"
   ]
  },
  {
   "cell_type": "code",
   "execution_count": null,
   "id": "11a73962-90b0-4690-98b8-851affb5cbf4",
   "metadata": {},
   "outputs": [],
   "source": [
    "from dask.distributed import Client\n",
    "from dask import delayed\n",
    "from dask import compute\n",
    "client = Client(n_workers=4)\n",
    "client"
   ]
  },
  {
   "cell_type": "code",
   "execution_count": null,
   "id": "dc7a34bf-e8cd-444c-960f-f0eed48e4e3c",
   "metadata": {},
   "outputs": [],
   "source": [
    "database = '/Users/amirhsi_mini/trjs_extractions/'\n",
    "all_groups = glob(database+\"N*_all/\")\n",
    "geometry = 'cylindrical'"
   ]
  },
  {
   "cell_type": "code",
   "execution_count": null,
   "id": "4d52f609-3ae8-48a1-97f1-6696fe4f6ec2",
   "metadata": {},
   "outputs": [],
   "source": [
    "all_properties_file = '/Users/amirhsi_mini/trjs_analysis_bug/properties-all_in_one.csv'\n",
    "all_properties = pd.read_csv(all_properties_file,index_col=0)"
   ]
  },
  {
   "cell_type": "code",
   "execution_count": null,
   "id": "fa0f514e-af1e-4dc3-b08a-cc213efb2452",
   "metadata": {},
   "outputs": [],
   "source": [
    "# use this if there is no \"properties-all_in_one.csv\" file\n",
    "csv_files = glob(\"./N*-extraction_all/*all*.csv\")\n",
    "properties_csvs = glob(\"./N*-analyze_bug/N*-properties.csv\")\n",
    "\n",
    "all_properties = []\n",
    "for properties_csv in properties_csvs:\n",
    "    df = pd.read_csv(properties_csv,index_col=0)\n",
    "    all_properties.append(df) \n",
    "all_properties = pd.concat(all_properties)\n",
    "all_properties.reset_index(inplace=True,drop=True)"
   ]
  },
  {
   "cell_type": "code",
   "execution_count": null,
   "id": "03068d4f-edbd-4c65-90b6-033a4255fc91",
   "metadata": {},
   "outputs": [],
   "source": [
    "def analyze_segments(simulations_segments_files, geomertry, save_to):\n",
    "    rhist_ensembles_crd = PipeLine.simulation_from_segments(simulations_segments_files,'rHistsCrd', geometry,['_rHistsCrd.csv','_rEdgesCrd.csv'], save_to=save_to)\n",
    "    rhist_ensembles_mon = PipeLine.simulation_from_segments(simulations_segments_files,'rHistsMon', geometry,['_rHistsMon.csv','_rEdgesMon.csv'], save_to=save_to)\n",
    "    _, _ = PipeLine.distributions_generator(rhist_ensembles_crd, all_properties, 'dcrowd',geometry,'radial','Crd',normalized=False,segments=True, save_to=save_to)\n",
    "    _, _ = PipeLine.distributions_generator(rhist_ensembles_mon, all_properties, 'dmon', geometry,'radial','Mon',normalized=False,segments=True, save_to=save_to)\n",
    "\n",
    "    zhist_ensembles_crd = PipeLine.simulation_from_segments(simulations_segments_files,'zHistsCrd',geometry,['_zHistsCrd.csv','_zEdgesCrd.csv'], save_to=save_to)\n",
    "    zhist_ensembles_mon = PipeLine.simulation_from_segments(simulations_segments_files,'zHistsMon',geometry,['_zHistsMon.csv','_zEdgesMon.csv'], save_to=save_to)\n",
    "    _, _ = PipeLine.distributions_generator(zhist_ensembles_crd, all_properties, 'dcrowd', geometry,'longitudinal','Crd',normalized=False,segments=True, save_to=save_to)\n",
    "    _, _ = PipeLine.distributions_generator(zhist_ensembles_mon, all_properties, 'dmon', geometry,'longitudinal','Mon',normalized=False,segments=True, save_to=save_to)\n",
    "\n",
    "    thetahist_ensembles_crd = PipeLine.simulation_from_segments(simulations_segments_files,'thetaHistsCrd', geometry,['_thetaHistsCrd.csv','_thetaEdgesCrd.csv'], save_to=save_to)\n",
    "    thetahist_ensembles_mon = PipeLine.simulation_from_segments(simulations_segments_files,'thetaHistsMon', geometry,['_thetaHistsMon.csv','_thetaEdgesMon.csv'], save_to=save_to)"
   ]
  },
  {
   "cell_type": "code",
   "execution_count": null,
   "id": "67a7f711-4517-433c-b7ef-b88c7438b1ef",
   "metadata": {},
   "outputs": [],
   "source": [
    "def whole_all_group_analyze(group_files_path, parent_dir, simulation_type, geometry):\n",
    "    sim_files = glob(group_files_path+\"/N*/N*.csv\")\n",
    "    parent_path = group_files_path.split('trjs_extraction')[0]+\"/\"+parent_dir+\"/\"\n",
    "    group_name = group_files_path.split(\"/\")[-2].split('-')[0]+'-'+simulation_type+'-analysis-whole_simulations'\n",
    "    group_path = parent_path+group_name\n",
    "    Path(group_path).mkdir(parents=True, exist_ok=True)\n",
    "    save_to = group_path+\"/\"\n",
    "    analyze_segments(sim_files,geometry, save_to)"
   ]
  },
  {
   "cell_type": "code",
   "execution_count": null,
   "id": "947ce252-8db0-4c1d-8325-6628e9de0b35",
   "metadata": {},
   "outputs": [],
   "source": [
    "%%time\n",
    "parent_dir = \"trjs_analysis_segments\"\n",
    "simulation_type = 'all' # bug or all\n",
    "geometry = 'cylindrical'\n",
    "\n",
    "analysis_delayed = []   \n",
    "for group in all_groups: # run over all simulations in all the groups\n",
    "    analysis = delayed(whole_all_group_analyze)(group, parent_dir, simulation_type, geometry)\n",
    "    analysis_delayed.append(analysis)"
   ]
  },
  {
   "cell_type": "code",
   "execution_count": null,
   "id": "6f5114f4-ffe5-4045-81d5-0d6954b3cdf6",
   "metadata": {},
   "outputs": [],
   "source": [
    "%%time\n",
    "results = compute(analysis_delayed)"
   ]
  },
  {
   "cell_type": "code",
   "execution_count": null,
   "id": "f85e29dd-c41c-46e4-bd92-5a4175724da2",
   "metadata": {},
   "outputs": [],
   "source": []
  }
 ],
 "metadata": {
  "kernelspec": {
   "display_name": "Python 3",
   "language": "python",
   "name": "python3"
  },
  "language_info": {
   "codemirror_mode": {
    "name": "ipython",
    "version": 3
   },
   "file_extension": ".py",
   "mimetype": "text/x-python",
   "name": "python",
   "nbconvert_exporter": "python",
   "pygments_lexer": "ipython3",
   "version": "3.8.8"
  }
 },
 "nbformat": 4,
 "nbformat_minor": 5
}
