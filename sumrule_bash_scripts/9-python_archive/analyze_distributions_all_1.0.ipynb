{
 "cells": [
  {
   "cell_type": "code",
   "execution_count": null,
   "id": "cff0d7b1-bac5-4433-9ffb-41bdedac87a1",
   "metadata": {},
   "outputs": [],
   "source": [
    "from glob import glob\n",
    "import os\n",
    "from pathlib import Path\n",
    "from PipeLine import *"
   ]
  },
  {
   "cell_type": "code",
   "execution_count": null,
   "id": "315f002a-0567-4a6b-8ae0-548f393c73f1",
   "metadata": {},
   "outputs": [],
   "source": [
    "from dask.distributed import Client\n",
    "from dask import delayed\n",
    "from dask import compute\n",
    "client = Client(n_workers=4)\n",
    "client"
   ]
  },
  {
   "cell_type": "code",
   "execution_count": null,
   "id": "bb72726a-71c7-4f70-97a7-84ca9a004c0c",
   "metadata": {},
   "outputs": [],
   "source": [
    "database = '/Users/amirhsi_mini/trjs_analysis_segments/'\n",
    "all_groups = glob(database+\"N*-all-analysis-whole_simulations/\")"
   ]
  },
  {
   "cell_type": "code",
   "execution_count": null,
   "id": "cce966ce-aee6-47c3-ac4d-5f63b92d4c11",
   "metadata": {},
   "outputs": [],
   "source": [
    "def ens_avg_all_analyze(group_path, geometry, seperator, parent_path, simulation_type):\n",
    "    \n",
    "    group_name = group_path.split(\"/\")[-2].split('-')[0]+'-'+simulation_type+'-analysis'\n",
    "    group_path = parent_path+group_name\n",
    "    Path(group_path).mkdir(parents=True, exist_ok=False)\n",
    "    group_save_to = group_path+\"/\"\n",
    "    \n",
    "    group_ens_avg_name = group_path.split(\"/\")[-2].split('-')[0]+'-'+simulation_type+'-analysis-ens_avg'\n",
    "\n",
    "    group_ens_avg_path = parent_path+group_ens_avg_name\n",
    "    Path(group_ens_avg_path).mkdir(parents=True, exist_ok=False)\n",
    "    group_ens_avg_save_to = group_ens_avg_path+\"/\"\n",
    "    \n",
    "    hist_names = ['rHistsCrd','rHistsMon','zHistsCrd','zHistsMon','thetaHistsCrd','thetaHistsMon','rPhisCrd','rPhisMon','rRhosCrd','rRhosMon','zPhisCrd','zPhisMon','zRhosCrd','zRhosMon']\n",
    "    hist_files = glob(group_path+\"/N*/N*.csv\")\n",
    "    \n",
    "    for hist_name in hist_names:\n",
    "        ext = [seperator+hist_name+'.csv']\n",
    "        hist_files = PipeLine.file_reader(hist_files, extensions=ext)\n",
    "        hist_dicts = PipeLine.ensemble(hist_files, hist_name, geometry, sep=seperator, index_col=0, skiprows=1, save_to=group_save_to)\n",
    "        ens_evg_dict_rhist = PipeLine.group(hist_dicts, hist_name, geometry, save_to=save_to)"
   ]
  },
  {
   "cell_type": "code",
   "execution_count": null,
   "id": "885ccb93-cd7b-4805-bd1c-20ef6b3f2ede",
   "metadata": {},
   "outputs": [],
   "source": [
    "def ens_avg_all_analyze(group_data, geometry, seperator, parent_path, simulation_type):\n",
    "    \n",
    "    group_name = group_data.split(\"/\")[-2].split('-')[0]+'-'+simulation_type+'-analysis'\n",
    "    group_path = parent_path+group_name\n",
    "    Path(group_path).mkdir(parents=True, exist_ok=False)\n",
    "    group_save_to = group_path+\"/\"\n",
    "    \n",
    "    group_ens_avg_name = group_data.split(\"/\")[-2].split('-')[0]+'-'+simulation_type+'-analysis-ens_avg'\n",
    "    group_ens_avg_path = parent_path+group_ens_avg_name\n",
    "    Path(group_ens_avg_path).mkdir(parents=True, exist_ok=False)\n",
    "    group_ens_avg_save_to = group_ens_avg_path+\"/\"\n",
    "    \n",
    "    hist_names = ['rHistsCrd','rHistsMon','zHistsCrd','zHistsMon','thetaHistsCrd','thetaHistsMon','rPhisCrd','rPhisMon','rRhosCrd','rRhosMon','zPhisCrd','zPhisMon','zRhosCrd','zRhosMon']\n",
    "    csv_files = glob(group_data+\"N*.csv\")\n",
    "    \n",
    "    for hist_name in hist_names:\n",
    "        ext = [seperator+hist_name+'.csv']\n",
    "        hist_files = PipeLine.file_reader(csv_files, extensions=ext)\n",
    "        hist_dicts = PipeLine.ensemble(hist_files, hist_name, geometry, sep=seperator, index_col=0, skiprows=1, save_to=group_save_to)\n",
    "        ens_evg_dict_rhist = PipeLine.group(hist_dicts, hist_name, geometry, save_to=group_ens_avg_save_to)"
   ]
  },
  {
   "cell_type": "code",
   "execution_count": null,
   "id": "33cd5608-c57a-44f8-a4a2-707b15b3e1e8",
   "metadata": {},
   "outputs": [],
   "source": [
    "simulation_type = 'all' # bug or all\n",
    "geometry = 'cylindrical'\n",
    "seperator = '-'\n",
    "input_dir = \"trjs_analysis_segments\"\n",
    "parent_dir = \"trjs_analysis_all\"\n",
    "\n",
    "analysis_delayed = [] \n",
    "for all_group in all_groups:\n",
    "    parent_path = all_group.split(input_dir)[0]+parent_dir+\"/\"  \n",
    "    analysis = delayed(ens_avg_all_analyze)(all_group, geometry, seperator, parent_path, simulation_type)\n",
    "    analysis_delayed.append(analysis)"
   ]
  },
  {
   "cell_type": "code",
   "execution_count": null,
   "id": "5375c3e6-6297-477e-a988-d925ee0963a2",
   "metadata": {},
   "outputs": [],
   "source": [
    "%%time\n",
    "results = compute(analysis_delayed)"
   ]
  },
  {
   "cell_type": "code",
   "execution_count": null,
   "id": "dfe3e40c-a1c9-459d-b71f-126d4451d14e",
   "metadata": {},
   "outputs": [],
   "source": []
  }
 ],
 "metadata": {
  "kernelspec": {
   "display_name": "Python 3",
   "language": "python",
   "name": "python3"
  },
  "language_info": {
   "codemirror_mode": {
    "name": "ipython",
    "version": 3
   },
   "file_extension": ".py",
   "mimetype": "text/x-python",
   "name": "python",
   "nbconvert_exporter": "python",
   "pygments_lexer": "ipython3",
   "version": "3.8.8"
  }
 },
 "nbformat": 4,
 "nbformat_minor": 5
}
