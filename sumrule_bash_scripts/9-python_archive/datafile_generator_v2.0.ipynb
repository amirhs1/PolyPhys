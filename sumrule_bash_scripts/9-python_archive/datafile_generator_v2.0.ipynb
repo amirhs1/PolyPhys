{
 "cells": [
  {
   "cell_type": "code",
   "execution_count": 25,
   "metadata": {
    "colab": {},
    "colab_type": "code",
    "id": "C_CLXSgvVO_9"
   },
   "outputs": [],
   "source": [
    "# Importing necessary packages:\n",
    "from glob import glob\n",
    "from PipeLine import *\n",
    "import os"
   ]
  },
  {
   "cell_type": "code",
   "execution_count": 30,
   "metadata": {},
   "outputs": [
    {
     "name": "stdin",
     "output_type": "stream",
     "text": [
      "enter the path to extraction_bug folder .\\\n"
     ]
    },
    {
     "name": "stdout",
     "output_type": "stream",
     "text": [
      "/Users/amirhsi/OneDrive - University of Waterloo/Thesis-PhD/Jupyter/sumrule_pipeline/.\\\n"
     ]
    }
   ],
   "source": [
    "path = \"./*.bug.lammpstrj\"\n",
    "fnames = glob(path)\n",
    "dfile_template = glob(\"./data_template-cylinder_bug_n*.data\")\n",
    "PipeLine.data_file_generator(dfile_template,fnames)\n",
    " "
   ]
  }
 ],
 "metadata": {
  "colab": {
   "name": "pipeline_v4.ipynb",
   "provenance": [],
   "version": "0.3.2"
  },
  "kernelspec": {
   "display_name": "Python 3",
   "language": "python",
   "name": "python3"
  },
  "language_info": {
   "codemirror_mode": {
    "name": "ipython",
    "version": 3
   },
   "file_extension": ".py",
   "mimetype": "text/x-python",
   "name": "python",
   "nbconvert_exporter": "python",
   "pygments_lexer": "ipython3",
   "version": "3.8.2"
  }
 },
 "nbformat": 4,
 "nbformat_minor": 4
}
