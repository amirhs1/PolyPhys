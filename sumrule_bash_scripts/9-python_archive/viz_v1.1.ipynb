{
 "cells": [
  {
   "cell_type": "code",
   "execution_count": 2,
   "metadata": {
    "colab": {},
    "colab_type": "code",
    "id": "C_CLXSgvVO_9"
   },
   "outputs": [],
   "source": [
    "%matplotlib inline\n",
    "# Importing necessary packages:\n",
    "from glob import glob\n",
    "import pandas as pd\n",
    "import datetime as dt\n",
    "import numpy as np\n",
    "import matplotlib.pyplot as plt\n",
    "import seaborn as sns\n",
    "from PipeLine import *"
   ]
  },
  {
   "cell_type": "code",
   "execution_count": null,
   "metadata": {},
   "outputs": [],
   "source": [
    "def cyl_sumrule_norms_ens_evg(all_in_one):\n",
    "    \"\"\"\n",
    "    cyl_sumrule_norms_ens_evg rescales some of the physical properties in an ensemble-average properties dataframe of the cylindrical\n",
    "    sum rule project.\n",
    "    \n",
    "    Parameters:\n",
    "    all_in_one: a dataframe of all the ensemble-averaged properties.\n",
    "    \n",
    "    Return:\n",
    "    all_in_one with several new columns.\n",
    "    \"\"\"\n",
    "    \n",
    "    all_in_one['fsd_normalized'] = 0.0\n",
    "    all_in_one['gyr_normalized'] = 0.0\n",
    "    all_in_one['rflory_normalized'] = 0.0\n",
    "    all_in_one['vfrc_c_normalized'] = (all_in_one['dmon'] * all_in_one['vfrc_crowd'])/all_in_one['dcrowd'] \n",
    "    group_properties = ['nmon','dcyl','dcrowd'] # this is the way ensemble group defined in the cylindrical sum rule project\n",
    "    groups = [list(group_name) for group_name in list(all_in_one.groupby(group_properties).size().index)]\n",
    "    for nmon, dcyl, dcrowd in groups:\n",
    "        condition = (all_in_one['nmon'] == nmon) & (all_in_one['dcyl'] == dcyl) & (all_in_one['dcrowd'] == dcrowd) & (all_in_one['vfrc_crowd'] == 0)\n",
    "        fsd = all_in_one[condition]['fsd'].values[0]\n",
    "        gyr = all_in_one[condition]['gyr'].values[0]\n",
    "        rflory = all_in_one[condition]['rflory'].values[0]\n",
    "        cond_normal = (all_in_one['nmon'] == nmon) & (all_in_one['dcyl'] == dcyl) & (all_in_one['dcrowd'] == dcrowd)\n",
    "        all_in_one.loc[cond_normal,'fsd_normalized'] = all_in_one.loc[cond_normal,'fsd'] / fsd\n",
    "        all_in_one.loc[cond_normal,'gyr_normalized'] = all_in_one.loc[cond_normal,'gyr'] / gyr\n",
    "        all_in_one.loc[cond_normal,'rflory_normalized'] = all_in_one.loc[cond_normal,'rflory'] / rflory\n",
    "        \n",
    "    all_in_one['vfrc_crowd'] = all_in_one['vfrc_crowd'].round(decimals=3)\n",
    "    all_in_one['vfrc_crowd_eff'] = (np.pi * all_in_one['dcrowd'] ** 3 / 6) * all_in_one['ncrowd'] / ((np.pi / 4 * (all_in_one['dcyl']-all_in_one['dcrowd']) ** 2) * all_in_one['lcyl'])\n",
    "    all_in_one['vfrc_c_eff_normalized'] = (all_in_one['dmon'] * all_in_one['vfrc_crowd_eff']) / all_in_one['dcrowd'] \n",
    "    return all_in_one"
   ]
  },
  {
   "cell_type": "code",
   "execution_count": null,
   "metadata": {},
   "outputs": [],
   "source": [
    "def all_dfs_in_one(property_files, property_name, ens_avg=False, to_file=True, norm_func=None, **kwargs):\n",
    "    \"\"\"\n",
    "    all_dfs_in_one merges the all the dataframes into one dataframe. df_files can be a list of ensmeble csvs or ensemble_average group csv.\n",
    "    \n",
    "    Caution: \n",
    "    A simulation group usually results in a graph or curve for the project and refers to a collection of simulations that all have the same values for one or several input parameters of the project.\n",
    "    An ensemble is a collection of simulations that differs only in their random number seeds, initial conditions, or boundary conditions but have the same input parameters.\n",
    "    An ensemble-averaged group is an average over all the simulations in an ensemble and usually gives a data point.\n",
    "    If there are N esmebles, each with M simulations, then there are N ensemble-average groups and N*M simulations in the simulation group.\n",
    "    \n",
    "    Paremeters:\n",
    "    property_files: filenames of dataframes.\n",
    "    property_name (str): name of the property.\n",
    "    ens_avg (bool): whether ensemble files or ensemble-averaged files.\n",
    "    to_file (bool): whether save to file or not\n",
    "    \n",
    "    Return:\n",
    "    A dataframe of all the properties of all the ensembles.\n",
    "    \n",
    "    Requirements:\n",
    "    Pandas, my own cellAttributes class\n",
    "    \"\"\"\n",
    "    all_in_one = []\n",
    "    for property_file in property_files: #files are organized based on their name\n",
    "        all_in_one.append(pd.read_csv(property_file[0],comment='#',**kwargs))# each list member is a tuple with one member; see file_reader function.\n",
    "    all_in_one = pd.concat(all_in_one)\n",
    "    all_in_one.reset_index(inplace=True,drop=True)\n",
    "    if (ens_avg == True) and (norm_func != None) and (property_name == 'properties'):\n",
    "        all_in_one = norm_func(all_in_one)\n",
    "        df_type = 'all_in_one-ens_avg-normalized.csv'\n",
    "    elif ens_avg:\n",
    "        df_type = 'all_in_one-ens_avg.csv'\n",
    "    else:\n",
    "        df_type = 'all_in_one.csv'\n",
    "    if to_file:\n",
    "        all_in_one.to_csv(property_name+'-'+df_type)\n",
    "    return all_in_one"
   ]
  },
  {
   "cell_type": "code",
   "execution_count": 4,
   "metadata": {},
   "outputs": [
    {
     "name": "stdout",
     "output_type": "stream",
     "text": [
      "Total number of files is  11\n",
      "Path to the first tuple of the sorted file:  ('../sumrule_data/N1000D15.0ac1.0-analyze_bug/N1000D15.0ac1.0-properties.csv',)\n",
      "Total number of files is  11\n",
      "Path to the first tuple of the sorted file:  ('../sumrule_data/N1000D15.0ac1.0-analyze_bug/N1000D15.0ac1.0-properties-ens_avg.csv',)\n"
     ]
    }
   ],
   "source": [
    "csv_files = glob(\"../sumrule_data/N*-analyze_bug/N*.csv\")\n",
    "property_files = PipeLine.file_reader(csv_files,extensions=['-properties.csv'])\n",
    "properties_all_in_one = PipeLine.all_dfs_in_one(property_files, 'properties', index_col=0)\n",
    "property_files = PipeLine.file_reader(csv_files,extensions=['-properties-ens_avg.csv'])\n",
    "properties_all_in_one_ens_avg = PipeLine.all_dfs_in_one(property_files,'properties', ens_avg=True, norm_func=PipeLine.cyl_sumrule_norms_ens_evg, index_col=0)"
   ]
  },
  {
   "cell_type": "code",
   "execution_count": null,
   "metadata": {},
   "outputs": [],
   "source": [
    "csv_files = glob(\"../sumrule_data/N*-analyze_bug/N*.csv\")\n",
    "geometry = 'cylinder'\n",
    "df_name = 'all_in_one-ens_avg'\n",
    "ext=['-properties-ens_avg.csv']\n",
    "ens_evg_properties_files = PipeLine.file_reader(csv_files,extensions=ext)\n",
    "ens_avg_properties_df = properties(ens_evg_properties_files, geometry,index_col=0)\n",
    "ens_avg_properties_df = ens_avg_properties_df.round(4)\n",
    "ens_avg_properties_df['fsd_normalized'] = 0.0\n",
    "ens_avg_properties_df['gyr_normalized'] = 0.0\n",
    "ens_avg_properties_df['rflory_normalized'] = 0.0\n",
    "ens_avg_properties_df['vfrc_c_normalized'] = (ens_avg_properties_df['dmon'] * ens_avg_properties_df['vfrc_crowd']) / ens_avg_properties_df['dcrowd'] \n",
    "unique_simulations = [list(input_set) for input_set in list(ens_avg_properties_df.groupby(['nmon','dcyl','dcrowd']).size().index)]\n",
    "for nmon, dcyl, dcrowd in unique_simulations:\n",
    "    condition = (ens_avg_properties_df['nmon'] == nmon) & (ens_avg_properties_df['dcyl'] == dcyl) & (ens_avg_properties_df['dcrowd'] == dcrowd) & (ens_avg_properties_df['vfrc_crowd'] == 0)\n",
    "    fsd = ens_avg_properties_df[condition]['fsd'].values[0]\n",
    "    gyr = ens_avg_properties_df[condition]['gyr'].values[0]\n",
    "    rflory = ens_avg_properties_df[condition]['rflory'].values[0]\n",
    "    cond_normal = (ens_avg_properties_df['nmon'] == nmon) & (ens_avg_properties_df['dcyl'] == dcyl) & (ens_avg_properties_df['dcrowd'] == dcrowd)\n",
    "    ens_avg_properties_df.loc[cond_normal,'fsd_normalized'] = ens_avg_properties_df.loc[cond_normal,'fsd'] / fsd\n",
    "    ens_avg_properties_df.loc[cond_normal,'gyr_normalized'] = ens_avg_properties_df.loc[cond_normal,'gyr'] / gyr\n",
    "    ens_avg_properties_df.loc[cond_normal,'rflory_normalized'] = ens_avg_properties_df.loc[cond_normal,'rflory'] / rflory"
   ]
  },
  {
   "cell_type": "code",
   "execution_count": null,
   "metadata": {},
   "outputs": [],
   "source": [
    "ens_avg_properties_df"
   ]
  },
  {
   "cell_type": "code",
   "execution_count": null,
   "metadata": {},
   "outputs": [],
   "source": [
    "def change_legend_name(line, legend_new_labels):\n",
    "    legend_old_labels = line.legend(fontsize=16,bbox_to_anchor=(1.005, 1), loc=2,edgecolor='black',title_fontsize=16,markerscale=1.5).texts\n",
    "    for new_label, line in zip(legend_old_labels, legend_new_labels): new_label.set_text(line)"
   ]
  },
  {
   "cell_type": "code",
   "execution_count": null,
   "metadata": {},
   "outputs": [],
   "source": [
    "def chainsize_plot(df, xcol, leg_labels, colors, fontsize=20):\n",
    "    sns.set_context('paper')\n",
    "    sns.set_style(\"ticks\")\n",
    "    fig, axes = plt.subplots(nrows=3,ncols=1,sharex=True,figsize=(16,12))\n",
    "    line1 = sns.lineplot(x=xcol, y=\"fsd_normalized\", hue='dcyl',style='dcrowd', size='nmon', palette=colors, markers=True, markersize=8, data=df,ax=axes[0])\n",
    "    line2 = sns.lineplot(x=xcol, y=\"gyr_normalized\", hue='dcyl',style='dcrowd', size='nmon', palette=colors, markers=True, markersize=8, data=df, legend=False,ax=axes[1])\n",
    "    line3 = sns.lineplot(x=xcol, y=\"rflory_normalized\", hue='dcyl',style='dcrowd', size='nmon', palette=colors, markers=True, markersize=8, data=df, legend=False,ax=axes[2])\n",
    "\n",
    "    xlabels = {\"vfrc_crowd\":r\"$\\phi_c$\",\"vfrc_c_normalized\":r\"${a\\phi_c}/{a_c}$\"}\n",
    "    ylabels = {\"vfrc_crowd\":[r'$\\frac{L_{FSD}(\\phi_c)}{L_{FSD}(0)}$',r'$\\frac{R_{ROG}(\\phi_c)}{R_{ROG}(0)}$',r'$\\frac{R_{Flory}(\\phi_c)}{R_{Flory}(0)}$'],\n",
    "              \"vfrc_c_normalized\":[r'$\\frac{L_{FSD}({a\\phi_c}/{a_c})}{L_{FSD}(0)}$',r'$\\frac{R_{ROG}({a\\phi_c}/{a_c})}{R_{ROG}(0)}$',r'$\\frac{R_{Flory}({a\\phi_c}/{a_c})}{R_{Flory}(0)}$']}\n",
    "\n",
    "    for num, axis in enumerate(axes):\n",
    "        axis.grid(True,ls=':',lw=1)\n",
    "        axis.tick_params(axis ='both',direction='inout',width=1)\n",
    "        axis.set_ylabel(ylabels[xcol][num],fontsize=fontsize)\n",
    "        PipeLine.yticks(axis,(0,1.0,0.2,0.04),code=True,fontsize=14)\n",
    "\n",
    "    PipeLine.xticks(axes[2],(0.0,0.4,0.05,0.005),code=True,fontsize=14)\n",
    "    change_legend_name(line1,leg_labels)\n",
    "    line3.set_xlabel(xlabels[xcol],fontsize=fontsize)\n",
    "\n",
    "    picname = \"chainsize-\"+xcol\n",
    "    plt.savefig(picname+'.pdf',dpi=300,bbox_inches='tight')"
   ]
  },
  {
   "cell_type": "code",
   "execution_count": null,
   "metadata": {},
   "outputs": [],
   "source": [
    "xcol=\"vfrc_crowd\"\n",
    "df=ens_avg_properties_df\n",
    "fontsize=20\n",
    "colors = sns.color_palette(n_colors=3, palette=\"Set2\", desat=1)\n",
    "leg_labels = [r'$\\frac{D}{a}$ (Line color)', '15.0', '20.0', '25.0', r'$N$ (Line size)', 1000, 2000, r'$\\frac{a_c}{a}$ (Marker type)', '1.0', '2.0', '4.0']\n",
    "chainsize_plot(ens_avg_properties_df, \"vfrc_crowd\", leg_labels, colors, fontsize=20)\n",
    "chainsize_plot(ens_avg_properties_df, \"vfrc_c_normalized\", leg_labels, colors, fontsize=20)"
   ]
  },
  {
   "cell_type": "code",
   "execution_count": null,
   "metadata": {},
   "outputs": [],
   "source": [
    "fig, ax = plt.subplots(nrows=1,ncols=1,figsize=(16,9))\n",
    "fontsize = 24\n",
    "color = 'tab:blue'\n",
    "line1, = ax.plot(ens_avg_phi_r.iloc[:,0], markersize=0.1, c=color)\n",
    "#ax.legend()\n",
    "ax.set_xlabel(r\"Cylinder radius ($\\frac{D}{2a}$)\",fontsize=fontsize)\n",
    "ax.set_ylabel(r\"$\\phi_m(r)$\",fontsize=fontsize)\n",
    "ax.tick_params(labelsize=24)\n",
    "\n",
    "ax2 = ax.twinx()\n",
    "color = 'tab:red'\n",
    "line2, = ax2.plot(ens_avg_rho_r.iloc[:,0], rho, markersize=0.1, c=color)\n",
    "ax2.set_ylabel(r\"$\\rho_m(r)$\",fontsize=fontsize)\n",
    "ax2.tick_params(labelsize=24)\n",
    "\n",
    "lines = [line1, line2]\n",
    "\n",
    "ax.legend(lines, [l.get_label() for l in lines],loc=1,ncol=2,fontsize=fontsize)\n",
    "#fig.legend()\n",
    "picname = filename.split(\"_rHists\")[0]+\"_local\"\n",
    "plt.savefig(picname+'.pdf',dpi=300)"
   ]
  },
  {
   "cell_type": "code",
   "execution_count": null,
   "metadata": {},
   "outputs": [],
   "source": [
    "import os\n",
    "for direct in rhist_df.columns:\n",
    "    path = os.path.join(\"./\", direct)\n",
    "    os.mkdir(path)"
   ]
  },
  {
   "cell_type": "code",
   "execution_count": null,
   "metadata": {},
   "outputs": [],
   "source": [
    "fpath = hist_files[24]\n",
    "\n",
    "histo_collections = np.loadtxt(fpath[0],dtype=np.int32)\n",
    "bin_edges = np.around(np.loadtxt(fpath[1]),decimals=2)\n",
    "cell_attrs = PipeLine.cellAttributes(fpath[0],geometry='cylinder',printname=True)\n",
    "filename = cell_attrs.filename\n",
    "cylindrical_shell_integrand = lambda r: 2 * np.pi * cell_attrs.dcyl * r\n",
    "\n",
    "# the sum of rho is not equal to the bulk number density (r=infiity) natom/cell_vol\n",
    "# this arises from the way we descritize the local number desnity.\n",
    "rho = PipeLine.local_number_density(histo_collections, bin_edges, cylindrical_shell_integrand)\n",
    "\n",
    "rmon = cell_attrs.dmon / 2.0\n",
    "bin_centers = np.around((bin_edges[:-1] + bin_edges[1:]) / 2.0,decimals=2)\n",
    "\n",
    "range_of_bins = PipeLine.bin_edge_index(rmon, bin_centers, bin_edges)\n",
    "volume_shares = PipeLine.vol_shares(rmon, bin_centers, bin_edges, range_of_bins, PipeLine.sphere_cylinder_intersection)\n",
    "\n",
    "# the sum of phi is not equal to the bulk volume fraction (r=infiity) natom*vol_per_atom/cell_vol\n",
    "# this arises from the way we descritize the local volume fraction and the way we relate it to the local number density.\n",
    "phi = PipeLine.local_volume_fraction(bin_centers, rho, volume_shares)\n",
    "\n",
    "fig, ax = plt.subplots(nrows=1,ncols=1,figsize=(16,9))\n",
    "\n",
    "fontsize = 24\n",
    "color = 'tab:blue'\n",
    "line1, = ax.plot(bin_centers, phi, label = r\"$\\phi_c(R=\\infty)={:4.2f}$\".format(cell_attrs.vfrc_crowd), markersize=0.1, c=color)\n",
    "#ax.legend()\n",
    "ax.set_xlabel(r\"Cylinder radius ($\\frac{D}{2a}$)\",fontsize=fontsize)\n",
    "ax.set_ylabel(r\"$\\phi_m(r)$\",fontsize=fontsize)\n",
    "ax.tick_params(labelsize=24)\n",
    "\n",
    "ax2 = ax.twinx()\n",
    "color = 'tab:red'\n",
    "line2, = ax2.plot(bin_centers, rho, label = r\"$\\rho_c(R=\\infty)={:4.2f}$\".format(cell_attrs.vfrc_crowd), markersize=0.1, c=color)\n",
    "ax2.set_ylabel(r\"$\\rho_m(r)$\",fontsize=fontsize)\n",
    "ax2.tick_params(labelsize=24)\n",
    "\n",
    "lines = [line1, line2]\n",
    "\n",
    "ax.legend(lines, [l.get_label() for l in lines],loc=1,ncol=2,fontsize=fontsize)\n",
    "#fig.legend()\n",
    "picname = filename.split(\"_rHists\")[0]+\"_local\"\n",
    "plt.savefig(picname+'.pdf',dpi=300)"
   ]
  },
  {
   "cell_type": "code",
   "execution_count": null,
   "metadata": {},
   "outputs": [],
   "source": [
    "fig, ax = plt.subplots(nrows=1,ncols=1)\n",
    "nens = 0\n",
    "hists = 0\n",
    "phi_c = 0.0 \n",
    "\n",
    "for filename in ens_avg_properties.filename:\n",
    "    condition = ens_avg_properties['filename']==filename\n",
    "    for col in rhist_dfs.columns:\n",
    "        if col.split('ens')[0] == filename.split('_ens_avg')[0]:\n",
    "            #print(rhist_dfs[col])\n",
    "            PipeLine.histo_plotter(ax, rhist_dfs[col].values, lambda r: 2 * ens_avg_properties[condition].dcyl / 2.0 * r, rhist_dfs.index.values, label = r\"$\\phi_c={}$\".format(ens_avg_properties[condition].vfrc_crowd), markersize=0.1)\n",
    "    #ens_evg_rhist\n",
    "    \n",
    "#PipeLine.histo_plotter(ax, hists, lambda r: 2 * cell_attrs.dcyl / 2.0 * r, edges, label = r\"$\\phi_c={}$\".format(phi_c), markersize=0.1)\n",
    "ax.legend()\n",
    "ax.set_xlabel(r\"Cylinder radius ($\\frac{D}{2a}$)\")\n",
    "ax.set_xlabel(r\"Cylinder radius ($\\frac{D}{2a}$)\")"
   ]
  }
 ],
 "metadata": {
  "colab": {
   "name": "pipeline_v4.ipynb",
   "provenance": [],
   "version": "0.3.2"
  },
  "kernelspec": {
   "display_name": "Python 3",
   "language": "python",
   "name": "python3"
  },
  "language_info": {
   "codemirror_mode": {
    "name": "ipython",
    "version": 3
   },
   "file_extension": ".py",
   "mimetype": "text/x-python",
   "name": "python",
   "nbconvert_exporter": "python",
   "pygments_lexer": "ipython3",
   "version": "3.8.2"
  }
 },
 "nbformat": 4,
 "nbformat_minor": 4
}
