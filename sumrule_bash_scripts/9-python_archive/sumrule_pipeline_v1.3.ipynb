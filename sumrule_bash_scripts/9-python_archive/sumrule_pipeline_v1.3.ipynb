{
 "cells": [
  {
   "cell_type": "code",
   "execution_count": null,
   "metadata": {
    "colab": {},
    "colab_type": "code",
    "id": "C_CLXSgvVO_9"
   },
   "outputs": [],
   "source": [
    "%matplotlib inline\n",
    "# Importing necessary packages:\n",
    "import re\n",
    "from glob import glob\n",
    "\n",
    "import numpy as np\n",
    "import datetime\n",
    "import pandas as pd\n",
    "\n",
    "import matplotlib.pyplot as plt\n",
    "import seaborn as sns\n",
    "\n",
    "import MDAnalysis as mda\n",
    "from MDAnalysis.analysis import diffusionmap, align, rms\n",
    "from MDAnalysis import transformations as mdatransform\n",
    "\n",
    "from PipeLine import *"
   ]
  },
  {
   "cell_type": "code",
   "execution_count": null,
   "metadata": {},
   "outputs": [],
   "source": [
    "fnames = glob(\"../sumrule_test/*.bug.*\")\n",
    "fnames = PipeLine.file_reader(fnames)"
   ]
  },
  {
   "cell_type": "code",
   "execution_count": null,
   "metadata": {},
   "outputs": [],
   "source": [
    "fnames = PipeLine.file_reader(fnames)"
   ]
  },
  {
   "cell_type": "code",
   "execution_count": null,
   "metadata": {},
   "outputs": [],
   "source": [
    "%%time\n",
    "geom = 'cylinder'\n",
    "PipeLine.analyze_trj(fnames[4], geom)\n",
    "PipeLine.trj_rmsd(fnames[4], geom)"
   ]
  },
  {
   "cell_type": "markdown",
   "metadata": {},
   "source": [
    "# Statistical Confidence in MD measurement\n",
    "Due to the finite time of a molecular dynamics, there is always some degree of correlation within a set of computational measurement. To esimate this correlation and incorporate it in the error analysis, *statistical inefficiency (SI)* is defined based on the relation between the variance of the mean and the autocorrelation function of the quantity of interest, and then, it is measured using different computational techniques ([Tildesley](https://doi.org/10.1093/oso/9780198803195.001.0001), [Rapaport](https://doi.org/10.1017/CBO9780511816581))\n",
    "\n",
    "\n",
    "Assuming $\\{R_N\\}$ as the data set of chain size $R$, the mean and variance of the mean are respectively\n",
    "$$\\langle R\\rangle=\\frac{1}{N}\\sum_{i=1}^{N}X_i$$\n",
    "$$\\sigma^2(\\langle R\\rangle)=\\frac{s}{N}\\sigma^2(R)$$\n",
    "where $\\sigma$ is the bias-corrected variance of the data set\n",
    "$$\\sigma^2(R)=\\frac{1}{N-1}\\sum_{i=1}^{N}(R_i-\\langle R\\rangle)^2$$\n",
    "and $s$ is the SI and estimated by means of the blocking method ([Flyvbjerg](https://doi.org/10.1063/1.457480)). In this method, the original data set is sequentially chunked in $N_{block}=\\{1,2,4,8, 2^{M}\\dots <N\\}$ blocks. The data in each set of new blocks are the mean of $N_{block}$ data in the original data set. In each blocking tranform, the SE $s$ is measured in the following way\n",
    "$$s_{block} = \\frac{L_{block}\\sigma^2_{block}}{\\sigma^2(R)}$$\n",
    "Where $L_{block}$ is the size of blocks after $M-\\text{th}$ transfrom and $\\sigma^2_{block}$ is variance of the block mean. For $M=1$, we have the trivial value of $1$. Using the blocking method, it is also possible to find error in $\\sigma^2_{block}$ \n",
    "$$\\Delta\\sigma^2_{block}=\\sqrt{\\frac{2}{L_{block}-1}}\\sigma^2_{block}$$\n",
    " the SI of the original data $s$ is the integer found by fitting a line to the platuae of $s_{block}$ vs $\\frac{1}{L_{block}}$ diagram.\n",
    " \n",
    "According to [Tildesley](https://doi.org/10.1093/oso/9780198803195.001.0001), \n",
    "$$ s = \\frac{2\\tau_{cor}}{dt}$$\n",
    "where $\\tau_{cor}$ and $dt$ are the correlation time of the data set and the time interval between stored configuration."
   ]
  }
 ],
 "metadata": {
  "colab": {
   "name": "pipeline_v4.ipynb",
   "provenance": [],
   "version": "0.3.2"
  },
  "kernelspec": {
   "display_name": "Python 3",
   "language": "python",
   "name": "python3"
  },
  "language_info": {
   "codemirror_mode": {
    "name": "ipython",
    "version": 3
   },
   "file_extension": ".py",
   "mimetype": "text/x-python",
   "name": "python",
   "nbconvert_exporter": "python",
   "pygments_lexer": "ipython3",
   "version": "3.8.2"
  }
 },
 "nbformat": 4,
 "nbformat_minor": 4
}
